{
 "cells": [
  {
   "cell_type": "markdown",
   "metadata": {},
   "source": [
    "Notebook to generate adjacency matrices of our scripts in the juliet dataset to be used as input for our neural network model."
   ]
  },
  {
   "cell_type": "code",
   "execution_count": 2,
   "metadata": {},
   "outputs": [],
   "source": [
    "import ast\n",
    "import numpy as np\n",
    "import pandas as pd\n",
    "from scipy import sparse\n",
    "import networkx as nx"
   ]
  },
  {
   "cell_type": "code",
   "execution_count": 3,
   "metadata": {},
   "outputs": [
    {
     "name": "stderr",
     "output_type": "stream",
     "text": [
      "/usr/local/lib/python3.7/dist-packages/tqdm/autonotebook/__init__.py:14: TqdmExperimentalWarning: Using `tqdm.autonotebook.tqdm` in notebook mode. Use `tqdm.tqdm` instead to force console mode (e.g. in jupyter console)\n",
      "  \" (e.g. in jupyter console)\", TqdmExperimentalWarning)\n"
     ]
    }
   ],
   "source": [
    "from preprocess_code import *\n",
    "data = pd.read_csv(\"../data/buffer_overflow_data.csv.gz\")"
   ]
  },
  {
   "cell_type": "code",
   "execution_count": 27,
   "metadata": {},
   "outputs": [],
   "source": [
    "data = data.iloc[0:100]"
   ]
  },
  {
   "cell_type": "code",
   "execution_count": 5,
   "metadata": {},
   "outputs": [],
   "source": [
    "def generate_edge_list1(testcase, **kwargs):\n",
    "    \"\"\"\n",
    "    Takes in a list of files/datapoints from juliet.csv.zip \n",
    "    or (as loaded with pandas) matching one particulartestcase, \n",
    "    and returns an edge list of its graph representation.\n",
    "    \"\"\"\n",
    "    parse_list = [\n",
    "        (datapoint.filename, datapoint.code)\n",
    "        for datapoint in testcase.itertuples()\n",
    "    ]\n",
    "\n",
    "    primary = find_primary_source_file(testcase)\n",
    "\n",
    "    # Parse the source code with clang, and get out an ast:\n",
    "    index = clang.cindex.Index.create()\n",
    "    translation_unit = index.parse(\n",
    "        path=primary.filename,\n",
    "        unsaved_files=parse_list,\n",
    "    )\n",
    "    ast_root = translation_unit.cursor\n",
    "\n",
    "    # Memoise/concretise the ast so that we can consistently\n",
    "    # modify it, then number each node in the tree uniquely.\n",
    "    concretise_ast(ast_root)\n",
    "    number_ast_nodes(ast_root)\n",
    "\n",
    "    # Next, construct an edge list for the graph2vec input:\n",
    "    edgelist = generate_edgelist(ast_root)\n",
    "    \n",
    "    edgelist_representation = {\n",
    "        \"edges\": edgelist,\n",
    "    }\n",
    "\n",
    "    # Explicitly delete clang objects\n",
    "    del translation_unit\n",
    "    del ast_root\n",
    "    del index\n",
    "\n",
    "    return json.dumps(edgelist_representation)"
   ]
  },
  {
   "cell_type": "code",
   "execution_count": 12,
   "metadata": {},
   "outputs": [
    {
     "ename": "NameError",
     "evalue": "name 'generate_edge_list1' is not defined",
     "output_type": "error",
     "traceback": [
      "\u001b[0;31m---------------------------------------------------------------------------\u001b[0m",
      "\u001b[0;31mNameError\u001b[0m                                 Traceback (most recent call last)",
      "\u001b[0;32m<ipython-input-12-0b54c0c74acc>\u001b[0m in \u001b[0;36m<module>\u001b[0;34m\u001b[0m\n\u001b[1;32m      4\u001b[0m \u001b[0;34m\u001b[0m\u001b[0m\n\u001b[1;32m      5\u001b[0m graphs = data.groupby(['testcase_ID']).apply(\n\u001b[0;32m----> 6\u001b[0;31m         \u001b[0mgenerate_edge_list1\u001b[0m\u001b[0;34m,\u001b[0m\u001b[0;34m\u001b[0m\u001b[0;34m\u001b[0m\u001b[0m\n\u001b[0m\u001b[1;32m      7\u001b[0m         \u001b[0maxis\u001b[0m\u001b[0;34m=\u001b[0m\u001b[0;34m'columns'\u001b[0m\u001b[0;34m,\u001b[0m\u001b[0;34m\u001b[0m\u001b[0;34m\u001b[0m\u001b[0m\n\u001b[1;32m      8\u001b[0m         \u001b[0mmeta\u001b[0m\u001b[0;34m=\u001b[0m\u001b[0;34m(\u001b[0m\u001b[0;34m'generate_edge_list'\u001b[0m\u001b[0;34m,\u001b[0m \u001b[0;34m'unicode'\u001b[0m\u001b[0;34m)\u001b[0m\u001b[0;34m,\u001b[0m\u001b[0;34m\u001b[0m\u001b[0;34m\u001b[0m\u001b[0m\n",
      "\u001b[0;31mNameError\u001b[0m: name 'generate_edge_list1' is not defined"
     ]
    }
   ],
   "source": [
    "# dask_data = dd.from_pandas(data, npartitions=20)\n",
    "\n",
    "# generate the graphs for all the testcases in the dataset \n",
    "\n",
    "graphs = data.groupby(['testcase_ID']).apply(\n",
    "        generate_edge_list1,\n",
    "        axis='columns',\n",
    "        meta=('generate_edge_list', 'unicode'),\n",
    "    )"
   ]
  },
  {
   "cell_type": "code",
   "execution_count": 7,
   "metadata": {},
   "outputs": [],
   "source": [
    "def gen_adj_matrix1(testcase):\n",
    "    \n",
    "    \"\"\"\n",
    "    Takes in a list of files/datapoints from buffer_overflow_data.csv.gz \n",
    "    matching one particular testcase, and generates an adjacency matrix \n",
    "    from the edgelist created.\n",
    "    \"\"\"\n",
    "    \n",
    "    # extracting the list of edges \n",
    "\n",
    "    x = testcase.split('edges\": ')\n",
    "    x = x[1].split('}')\n",
    "    x = ast.literal_eval(x[0])\n",
    "    \n",
    "#     return x\n",
    "\n",
    "    # generating the matrix\n",
    "    \n",
    "    G = nx.Graph()\n",
    "\n",
    "    G.add_edges_from(x)\n",
    "\n",
    "    A = nx.adjacency_matrix(G)\n",
    "\n",
    "    B = A.todense()\n",
    "\n",
    "    return B"
   ]
  },
  {
   "cell_type": "code",
   "execution_count": 8,
   "metadata": {},
   "outputs": [],
   "source": [
    "# create a dataframe containing the testcase ID and its adjacency matrix \n",
    "adjacency_df = pd.DataFrame()"
   ]
  },
  {
   "cell_type": "code",
   "execution_count": 9,
   "metadata": {},
   "outputs": [],
   "source": [
    "adjacency_df['testcase_ID'] = data.testcase_ID.drop_duplicates()"
   ]
  },
  {
   "cell_type": "code",
   "execution_count": 11,
   "metadata": {},
   "outputs": [],
   "source": [
    "# kernel dies when there are more than 200 datapoints\n",
    "\n",
    "# adj_matrices = graphs.apply(gen_adj_matrix1, meta = ('generate_adj_matrices', 'O'))\n",
    "adj_matrices = graphs.apply(gen_adj_matrix1)"
   ]
  },
  {
   "cell_type": "code",
   "execution_count": 12,
   "metadata": {},
   "outputs": [],
   "source": [
    "# adj_matrices = pd.DataFrame(adj_matrices)\n",
    "adj_matrices = adj_matrices.to_frame()"
   ]
  },
  {
   "cell_type": "code",
   "execution_count": 13,
   "metadata": {},
   "outputs": [],
   "source": [
    "## TODO: in a DASK framework reset_index is not a recognized function like pandas, fix this bug\n",
    "\n",
    "# adj_matrices = adj_matrices.compute()\n",
    "adj_matrices = adj_matrices.reset_index(level='testcase_ID')"
   ]
  },
  {
   "cell_type": "code",
   "execution_count": 14,
   "metadata": {
    "scrolled": true
   },
   "outputs": [],
   "source": [
    "adjacency_df['adj_matrix'] = adj_matrices[0]"
   ]
  },
  {
   "cell_type": "code",
   "execution_count": 15,
   "metadata": {},
   "outputs": [],
   "source": [
    "adj_df = adjacency_df.dropna()"
   ]
  },
  {
   "cell_type": "code",
   "execution_count": 16,
   "metadata": {},
   "outputs": [],
   "source": [
    "adj_df.to_csv(\"../data/adj_df.csv.gz\")"
   ]
  },
  {
   "cell_type": "markdown",
   "metadata": {},
   "source": [
    "## Feature Matrix"
   ]
  },
  {
   "cell_type": "code",
   "execution_count": 39,
   "metadata": {},
   "outputs": [],
   "source": [
    "def generate_ast_roots(testcase, **kwargs):\n",
    "    \"\"\"\n",
    "    Takes in a list of files/datapoints from juliet.csv.zip (as loaded with pandas) matching one particular\n",
    "    testcase, and preprocesses it ready for the feature matrix.\n",
    "    \"\"\"\n",
    "    \n",
    "    parse_list = [\n",
    "        (datapoint.filename, datapoint.code)\n",
    "        for datapoint in testcase.itertuples()\n",
    "    ]\n",
    "\n",
    "    primary = find_primary_source_file(testcase)\n",
    "\n",
    "    # Parse the source code with clang, and get out an ast:\n",
    "    index = clang.cindex.Index.create()\n",
    "    translation_unit = index.parse(\n",
    "        path=primary.filename,\n",
    "        unsaved_files=parse_list,\n",
    "    )\n",
    "    ast_root = translation_unit.cursor\n",
    "    \n",
    "    \n",
    "    return ast_root"
   ]
  },
  {
   "cell_type": "code",
   "execution_count": 40,
   "metadata": {},
   "outputs": [],
   "source": [
    "ast_roots = data.groupby(['testcase_ID']).apply(generate_ast_roots)"
   ]
  },
  {
   "cell_type": "code",
   "execution_count": 41,
   "metadata": {},
   "outputs": [
    {
     "data": {
      "text/plain": [
       "testcase_ID\n",
       "62516    <clang.cindex.Cursor object at 0x7f79106d8ae8>\n",
       "62517    <clang.cindex.Cursor object at 0x7f791061d158>\n",
       "62518    <clang.cindex.Cursor object at 0x7f79104cda60>\n",
       "62519    <clang.cindex.Cursor object at 0x7f7910392ae8>\n",
       "62520    <clang.cindex.Cursor object at 0x7f791026dae8>\n",
       "62521    <clang.cindex.Cursor object at 0x7f790393eae8>\n",
       "62522    <clang.cindex.Cursor object at 0x7f790378a2f0>\n",
       "62523    <clang.cindex.Cursor object at 0x7f790363ca60>\n",
       "62524    <clang.cindex.Cursor object at 0x7f79034e6158>\n",
       "62525    <clang.cindex.Cursor object at 0x7f7903384a60>\n",
       "62526    <clang.cindex.Cursor object at 0x7f7903228400>\n",
       "62527    <clang.cindex.Cursor object at 0x7f790308e620>\n",
       "62528    <clang.cindex.Cursor object at 0x7f7902f2ac80>\n",
       "62529    <clang.cindex.Cursor object at 0x7f7902dd0620>\n",
       "62530    <clang.cindex.Cursor object at 0x7f7902c71f28>\n",
       "62531    <clang.cindex.Cursor object at 0x7f7902b5ce18>\n",
       "62532    <clang.cindex.Cursor object at 0x7f79029bad08>\n",
       "62533    <clang.cindex.Cursor object at 0x7f79028daea0>\n",
       "62534    <clang.cindex.Cursor object at 0x7f790273bb70>\n",
       "62535    <clang.cindex.Cursor object at 0x7f79025f9268>\n",
       "62536    <clang.cindex.Cursor object at 0x7f790247e598>\n",
       "62537    <clang.cindex.Cursor object at 0x7f790237c598>\n",
       "62538    <clang.cindex.Cursor object at 0x7f7902200a60>\n",
       "62539    <clang.cindex.Cursor object at 0x7f79020a6d08>\n",
       "62540    <clang.cindex.Cursor object at 0x7f7901fab6a8>\n",
       "62541    <clang.cindex.Cursor object at 0x7f7901e0b598>\n",
       "62542    <clang.cindex.Cursor object at 0x7f7901d279d8>\n",
       "62543    <clang.cindex.Cursor object at 0x7f7901ab1ea0>\n",
       "62544    <clang.cindex.Cursor object at 0x7f7901a51378>\n",
       "62545    <clang.cindex.Cursor object at 0x7f79018cfc80>\n",
       "                              ...                      \n",
       "62548    <clang.cindex.Cursor object at 0x7f790150da60>\n",
       "62549    <clang.cindex.Cursor object at 0x7f790141aa60>\n",
       "62550    <clang.cindex.Cursor object at 0x7f790130f1e0>\n",
       "62551    <clang.cindex.Cursor object at 0x7f790131c620>\n",
       "62552    <clang.cindex.Cursor object at 0x7f790116e950>\n",
       "62553    <clang.cindex.Cursor object at 0x7f790103f488>\n",
       "62554    <clang.cindex.Cursor object at 0x7f7900f74400>\n",
       "62555    <clang.cindex.Cursor object at 0x7f7900dcb8c8>\n",
       "62556    <clang.cindex.Cursor object at 0x7f7900c9af28>\n",
       "62557    <clang.cindex.Cursor object at 0x7f7900bd1bf8>\n",
       "62558    <clang.cindex.Cursor object at 0x7f78f7e36378>\n",
       "62559    <clang.cindex.Cursor object at 0x7f78f7438950>\n",
       "62560    <clang.cindex.Cursor object at 0x7f78f5c8a488>\n",
       "62561    <clang.cindex.Cursor object at 0x7f78f5b73598>\n",
       "62562    <clang.cindex.Cursor object at 0x7f78f595c510>\n",
       "62563    <clang.cindex.Cursor object at 0x7f78f5961b70>\n",
       "62564    <clang.cindex.Cursor object at 0x7f78f596f1e0>\n",
       "62565    <clang.cindex.Cursor object at 0x7f78f5983378>\n",
       "62566    <clang.cindex.Cursor object at 0x7f78f5923268>\n",
       "62567    <clang.cindex.Cursor object at 0x7f78f5952158>\n",
       "62568    <clang.cindex.Cursor object at 0x7f78f5904488>\n",
       "62569    <clang.cindex.Cursor object at 0x7f78f58adc80>\n",
       "62570    <clang.cindex.Cursor object at 0x7f78f585ac80>\n",
       "62571    <clang.cindex.Cursor object at 0x7f78f588a9d8>\n",
       "62572    <clang.cindex.Cursor object at 0x7f78f583a8c8>\n",
       "62573    <clang.cindex.Cursor object at 0x7f78f57e7d08>\n",
       "62574    <clang.cindex.Cursor object at 0x7f78f5810bf8>\n",
       "62575    <clang.cindex.Cursor object at 0x7f78f57c5950>\n",
       "62576    <clang.cindex.Cursor object at 0x7f78f576a950>\n",
       "62577    <clang.cindex.Cursor object at 0x7f78f57989d8>\n",
       "Length: 62, dtype: object"
      ]
     },
     "execution_count": 41,
     "metadata": {},
     "output_type": "execute_result"
    }
   ],
   "source": [
    "ast_roots"
   ]
  },
  {
   "cell_type": "code",
   "execution_count": 20,
   "metadata": {},
   "outputs": [],
   "source": [
    "# features = {ast_roots.iloc[i].kind for i in range(len(ast_roots))}"
   ]
  },
  {
   "cell_type": "code",
   "execution_count": 42,
   "metadata": {},
   "outputs": [
    {
     "ename": "AttributeError",
     "evalue": "'Series' object has no attribute 'children'",
     "output_type": "error",
     "traceback": [
      "\u001b[0;31m---------------------------------------------------------------------------\u001b[0m",
      "\u001b[0;31mAttributeError\u001b[0m                            Traceback (most recent call last)",
      "\u001b[0;32m<ipython-input-42-26eac2d91e8b>\u001b[0m in \u001b[0;36m<module>\u001b[0;34m\u001b[0m\n\u001b[0;32m----> 1\u001b[0;31m \u001b[0mast_roots\u001b[0m\u001b[0;34m.\u001b[0m\u001b[0mchildren\u001b[0m\u001b[0;34m\u001b[0m\u001b[0;34m\u001b[0m\u001b[0m\n\u001b[0m",
      "\u001b[0;32m/usr/local/lib/python3.7/dist-packages/pandas/core/generic.py\u001b[0m in \u001b[0;36m__getattr__\u001b[0;34m(self, name)\u001b[0m\n\u001b[1;32m   5065\u001b[0m             \u001b[0;32mif\u001b[0m \u001b[0mself\u001b[0m\u001b[0;34m.\u001b[0m\u001b[0m_info_axis\u001b[0m\u001b[0;34m.\u001b[0m\u001b[0m_can_hold_identifiers_and_holds_name\u001b[0m\u001b[0;34m(\u001b[0m\u001b[0mname\u001b[0m\u001b[0;34m)\u001b[0m\u001b[0;34m:\u001b[0m\u001b[0;34m\u001b[0m\u001b[0;34m\u001b[0m\u001b[0m\n\u001b[1;32m   5066\u001b[0m                 \u001b[0;32mreturn\u001b[0m \u001b[0mself\u001b[0m\u001b[0;34m[\u001b[0m\u001b[0mname\u001b[0m\u001b[0;34m]\u001b[0m\u001b[0;34m\u001b[0m\u001b[0;34m\u001b[0m\u001b[0m\n\u001b[0;32m-> 5067\u001b[0;31m             \u001b[0;32mreturn\u001b[0m \u001b[0mobject\u001b[0m\u001b[0;34m.\u001b[0m\u001b[0m__getattribute__\u001b[0m\u001b[0;34m(\u001b[0m\u001b[0mself\u001b[0m\u001b[0;34m,\u001b[0m \u001b[0mname\u001b[0m\u001b[0;34m)\u001b[0m\u001b[0;34m\u001b[0m\u001b[0;34m\u001b[0m\u001b[0m\n\u001b[0m\u001b[1;32m   5068\u001b[0m \u001b[0;34m\u001b[0m\u001b[0m\n\u001b[1;32m   5069\u001b[0m     \u001b[0;32mdef\u001b[0m \u001b[0m__setattr__\u001b[0m\u001b[0;34m(\u001b[0m\u001b[0mself\u001b[0m\u001b[0;34m,\u001b[0m \u001b[0mname\u001b[0m\u001b[0;34m,\u001b[0m \u001b[0mvalue\u001b[0m\u001b[0;34m)\u001b[0m\u001b[0;34m:\u001b[0m\u001b[0;34m\u001b[0m\u001b[0;34m\u001b[0m\u001b[0m\n",
      "\u001b[0;31mAttributeError\u001b[0m: 'Series' object has no attribute 'children'"
     ]
    }
   ],
   "source": [
    "ast_roots.children"
   ]
  },
  {
   "cell_type": "code",
   "execution_count": 34,
   "metadata": {},
   "outputs": [],
   "source": [
    "def generate_features(ast_root):\n",
    "    \"\"\"\n",
    "    Given a concretised & numbered clang ast, return a dictionary of\n",
    "    features in the form:\n",
    "        {\n",
    "            <node_id>: [<degree>, <type>, <identifier>],\n",
    "            ...\n",
    "        }\n",
    "    \"\"\"\n",
    "    features = {}\n",
    "\n",
    "    def walk_tree_and_set_features(node):\n",
    "        out_degree = len(node.children)\n",
    "        in_degree = 1\n",
    "        degree = out_degree + in_degree\n",
    "\n",
    "        features[node.identifier] = [degree, str(node.kind), node.displayname]\n",
    "\n",
    "        for child in node.children:\n",
    "            walk_tree_and_set_features(child)\n",
    "\n",
    "    walk_tree_and_set_features(ast_root)\n",
    "\n",
    "    return features"
   ]
  },
  {
   "cell_type": "code",
   "execution_count": 35,
   "metadata": {},
   "outputs": [
    {
     "ename": "AttributeError",
     "evalue": "'Series' object has no attribute 'children'",
     "output_type": "error",
     "traceback": [
      "\u001b[0;31m---------------------------------------------------------------------------\u001b[0m",
      "\u001b[0;31mAttributeError\u001b[0m                            Traceback (most recent call last)",
      "\u001b[0;32m<ipython-input-35-f2ec8467b529>\u001b[0m in \u001b[0;36m<module>\u001b[0;34m\u001b[0m\n\u001b[0;32m----> 1\u001b[0;31m \u001b[0mgenerate_features_matrix\u001b[0m\u001b[0;34m(\u001b[0m\u001b[0mast_roots\u001b[0m\u001b[0;34m)\u001b[0m\u001b[0;34m\u001b[0m\u001b[0;34m\u001b[0m\u001b[0m\n\u001b[0m",
      "\u001b[0;32m<ipython-input-29-8f54770d45e4>\u001b[0m in \u001b[0;36mgenerate_features_matrix\u001b[0;34m(ast_root)\u001b[0m\n\u001b[1;32m     22\u001b[0m             \u001b[0mwalk_tree_and_set_features\u001b[0m\u001b[0;34m(\u001b[0m\u001b[0mchild\u001b[0m\u001b[0;34m)\u001b[0m\u001b[0;34m\u001b[0m\u001b[0;34m\u001b[0m\u001b[0m\n\u001b[1;32m     23\u001b[0m \u001b[0;34m\u001b[0m\u001b[0m\n\u001b[0;32m---> 24\u001b[0;31m     \u001b[0mwalk_tree_and_set_features\u001b[0m\u001b[0;34m(\u001b[0m\u001b[0mast_root\u001b[0m\u001b[0;34m)\u001b[0m\u001b[0;34m\u001b[0m\u001b[0;34m\u001b[0m\u001b[0m\n\u001b[0m\u001b[1;32m     25\u001b[0m \u001b[0;34m\u001b[0m\u001b[0m\n\u001b[1;32m     26\u001b[0m     \u001b[0;32mreturn\u001b[0m \u001b[0mfeatures\u001b[0m\u001b[0;34m\u001b[0m\u001b[0;34m\u001b[0m\u001b[0m\n",
      "\u001b[0;32m<ipython-input-29-8f54770d45e4>\u001b[0m in \u001b[0;36mwalk_tree_and_set_features\u001b[0;34m(node)\u001b[0m\n\u001b[1;32m     11\u001b[0m \u001b[0;34m\u001b[0m\u001b[0m\n\u001b[1;32m     12\u001b[0m     \u001b[0;32mdef\u001b[0m \u001b[0mwalk_tree_and_set_features\u001b[0m\u001b[0;34m(\u001b[0m\u001b[0mnode\u001b[0m\u001b[0;34m)\u001b[0m\u001b[0;34m:\u001b[0m\u001b[0;34m\u001b[0m\u001b[0;34m\u001b[0m\u001b[0m\n\u001b[0;32m---> 13\u001b[0;31m         \u001b[0mout_degree\u001b[0m \u001b[0;34m=\u001b[0m \u001b[0mlen\u001b[0m\u001b[0;34m(\u001b[0m\u001b[0mnode\u001b[0m\u001b[0;34m.\u001b[0m\u001b[0mchildren\u001b[0m\u001b[0;34m)\u001b[0m\u001b[0;34m\u001b[0m\u001b[0;34m\u001b[0m\u001b[0m\n\u001b[0m\u001b[1;32m     14\u001b[0m         \u001b[0min_degree\u001b[0m \u001b[0;34m=\u001b[0m \u001b[0;36m1\u001b[0m\u001b[0;34m\u001b[0m\u001b[0;34m\u001b[0m\u001b[0m\n\u001b[1;32m     15\u001b[0m         \u001b[0mdegree\u001b[0m \u001b[0;34m=\u001b[0m \u001b[0mout_degree\u001b[0m \u001b[0;34m+\u001b[0m \u001b[0min_degree\u001b[0m\u001b[0;34m\u001b[0m\u001b[0;34m\u001b[0m\u001b[0m\n",
      "\u001b[0;32m/usr/local/lib/python3.7/dist-packages/pandas/core/generic.py\u001b[0m in \u001b[0;36m__getattr__\u001b[0;34m(self, name)\u001b[0m\n\u001b[1;32m   5065\u001b[0m             \u001b[0;32mif\u001b[0m \u001b[0mself\u001b[0m\u001b[0;34m.\u001b[0m\u001b[0m_info_axis\u001b[0m\u001b[0;34m.\u001b[0m\u001b[0m_can_hold_identifiers_and_holds_name\u001b[0m\u001b[0;34m(\u001b[0m\u001b[0mname\u001b[0m\u001b[0;34m)\u001b[0m\u001b[0;34m:\u001b[0m\u001b[0;34m\u001b[0m\u001b[0;34m\u001b[0m\u001b[0m\n\u001b[1;32m   5066\u001b[0m                 \u001b[0;32mreturn\u001b[0m \u001b[0mself\u001b[0m\u001b[0;34m[\u001b[0m\u001b[0mname\u001b[0m\u001b[0;34m]\u001b[0m\u001b[0;34m\u001b[0m\u001b[0;34m\u001b[0m\u001b[0m\n\u001b[0;32m-> 5067\u001b[0;31m             \u001b[0;32mreturn\u001b[0m \u001b[0mobject\u001b[0m\u001b[0;34m.\u001b[0m\u001b[0m__getattribute__\u001b[0m\u001b[0;34m(\u001b[0m\u001b[0mself\u001b[0m\u001b[0;34m,\u001b[0m \u001b[0mname\u001b[0m\u001b[0;34m)\u001b[0m\u001b[0;34m\u001b[0m\u001b[0;34m\u001b[0m\u001b[0m\n\u001b[0m\u001b[1;32m   5068\u001b[0m \u001b[0;34m\u001b[0m\u001b[0m\n\u001b[1;32m   5069\u001b[0m     \u001b[0;32mdef\u001b[0m \u001b[0m__setattr__\u001b[0m\u001b[0;34m(\u001b[0m\u001b[0mself\u001b[0m\u001b[0;34m,\u001b[0m \u001b[0mname\u001b[0m\u001b[0;34m,\u001b[0m \u001b[0mvalue\u001b[0m\u001b[0;34m)\u001b[0m\u001b[0;34m:\u001b[0m\u001b[0;34m\u001b[0m\u001b[0;34m\u001b[0m\u001b[0m\n",
      "\u001b[0;31mAttributeError\u001b[0m: 'Series' object has no attribute 'children'"
     ]
    }
   ],
   "source": [
    "generate_features_matrix(ast_roots)"
   ]
  }
 ],
 "metadata": {
  "kernelspec": {
   "display_name": "Python 3",
   "language": "python",
   "name": "python3"
  },
  "language_info": {
   "codemirror_mode": {
    "name": "ipython",
    "version": 3
   },
   "file_extension": ".py",
   "mimetype": "text/x-python",
   "name": "python",
   "nbconvert_exporter": "python",
   "pygments_lexer": "ipython3",
   "version": "3.7.3"
  }
 },
 "nbformat": 4,
 "nbformat_minor": 2
}
