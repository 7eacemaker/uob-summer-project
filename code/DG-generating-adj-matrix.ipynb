{
 "cells": [
  {
   "cell_type": "code",
   "execution_count": 1,
   "metadata": {},
   "outputs": [
    {
     "name": "stdout",
     "output_type": "stream",
     "text": [
      "Requirement already satisfied: snap in /usr/local/lib/python3.6/dist-packages (0.5)\n",
      "\u001b[33mWARNING: You are using pip version 19.1.1, however version 19.2.1 is available.\n",
      "You should consider upgrading via the 'pip install --upgrade pip' command.\u001b[0m\n"
     ]
    }
   ],
   "source": [
    "!pip install snap"
   ]
  },
  {
   "cell_type": "code",
   "execution_count": 2,
   "metadata": {},
   "outputs": [
    {
     "name": "stderr",
     "output_type": "stream",
     "text": [
      "/usr/local/lib/python3.6/dist-packages/tqdm/autonotebook/__init__.py:14: TqdmExperimentalWarning: Using `tqdm.autonotebook.tqdm` in notebook mode. Use `tqdm.tqdm` instead to force console mode (e.g. in jupyter console)\n",
      "  \" (e.g. in jupyter console)\", TqdmExperimentalWarning)\n"
     ]
    }
   ],
   "source": [
    "from preprocess_code import *"
   ]
  },
  {
   "cell_type": "code",
   "execution_count": 55,
   "metadata": {},
   "outputs": [],
   "source": [
    "data = pd.read_csv(\"../data/vdisc_train_buffer_over_data.csv.gz\")"
   ]
  },
  {
   "cell_type": "code",
   "execution_count": 56,
   "metadata": {},
   "outputs": [],
   "source": [
    "data.filename = 'test.c'"
   ]
  },
  {
   "cell_type": "code",
   "execution_count": 38,
   "metadata": {},
   "outputs": [],
   "source": [
    "data = data[0:100]"
   ]
  },
  {
   "cell_type": "code",
   "execution_count": 39,
   "metadata": {},
   "outputs": [],
   "source": [
    "data = dd.from_pandas(data, npartitions=20)"
   ]
  },
  {
   "cell_type": "code",
   "execution_count": 40,
   "metadata": {},
   "outputs": [],
   "source": [
    "graphs = data.groupby(['testcase_ID']).apply(\n",
    "        process_for_node2vec,\n",
    "        axis='columns',\n",
    "        meta=('processed_for_graph2vec', 'unicode'),\n",
    "    )"
   ]
  },
  {
   "cell_type": "code",
   "execution_count": null,
   "metadata": {},
   "outputs": [],
   "source": [
    "A = nx.to_scipy_sparse_matrix(G)"
   ]
  },
  {
   "cell_type": "code",
   "execution_count": 53,
   "metadata": {},
   "outputs": [],
   "source": [
    "def gen_adj_matrix(data):\n",
    "    '''\n",
    "    Takes in a list of files/datapoints from buffer_overflow_data.csv.gz \n",
    "    matching one particular testcase, and generates an adjacency matrix \n",
    "    from the edgelist created'''\n",
    "    G = nx.Graph()\n",
    "\n",
    "    G.add_edges_from(data)\n",
    "\n",
    "    A = nx.adjacency_matrix(G)\n",
    "\n",
    "    return A"
   ]
  },
  {
   "cell_type": "code",
   "execution_count": 63,
   "metadata": {},
   "outputs": [
    {
     "name": "stdout",
     "output_type": "stream",
     "text": [
      "Current Iteration: vdisc_testcase_31\n",
      "Current Iteration: vdisc_testcase_39\n",
      "Current Iteration: vdisc_testcase_68\n",
      "Current Iteration: vdisc_testcase_82\n",
      "Current Iteration: vdisc_testcase_99\n",
      "Current Iteration: vdisc_testcase_1\n",
      "Current Iteration: vdisc_testcase_101\n",
      "Current Iteration: vdisc_testcase_2\n",
      "Current Iteration: vdisc_testcase_26\n",
      "Current Iteration: vdisc_testcase_34\n",
      "Current Iteration: vdisc_testcase_54\n",
      "Current Iteration: vdisc_testcase_66\n",
      "Current Iteration: vdisc_testcase_20\n",
      "Current Iteration: vdisc_testcase_36\n",
      "Current Iteration: vdisc_testcase_49\n",
      "Current Iteration: vdisc_testcase_55\n",
      "Current Iteration: vdisc_testcase_24\n",
      "Current Iteration: vdisc_testcase_30\n",
      "Current Iteration: vdisc_testcase_5\n",
      "Current Iteration: vdisc_testcase_57\n",
      "Current Iteration: vdisc_testcase_42\n",
      "Current Iteration: vdisc_testcase_70\n",
      "Current Iteration: vdisc_testcase_16\n",
      "Current Iteration: vdisc_testcase_6\n",
      "Current Iteration: vdisc_testcase_64\n",
      "Current Iteration: vdisc_testcase_65\n",
      "Current Iteration: vdisc_testcase_71\n",
      "Current Iteration: vdisc_testcase_78\n",
      "Current Iteration: vdisc_testcase_91\n",
      "Current Iteration: vdisc_testcase_95\n",
      "Current Iteration: vdisc_testcase_48\n",
      "Current Iteration: vdisc_testcase_90\n",
      "Current Iteration: vdisc_testcase_105\n",
      "Current Iteration: vdisc_testcase_28\n",
      "Current Iteration: vdisc_testcase_51\n",
      "Current Iteration: vdisc_testcase_84\n",
      "Current Iteration: vdisc_testcase_96\n",
      "Current Iteration: vdisc_testcase_15\n",
      "Current Iteration: vdisc_testcase_27\n",
      "Current Iteration: vdisc_testcase_43\n",
      "Current Iteration: vdisc_testcase_60\n",
      "Current Iteration: vdisc_testcase_67\n",
      "Current Iteration: vdisc_testcase_87\n",
      "Current Iteration: vdisc_testcase_29\n",
      "Current Iteration: vdisc_testcase_37\n",
      "Current Iteration: vdisc_testcase_50\n",
      "Current Iteration: vdisc_testcase_102\n",
      "Current Iteration: vdisc_testcase_17\n",
      "Current Iteration: vdisc_testcase_19\n",
      "Current Iteration: vdisc_testcase_73\n",
      "Current Iteration: vdisc_testcase_0\n",
      "Current Iteration: vdisc_testcase_25\n",
      "Current Iteration: vdisc_testcase_47\n",
      "Current Iteration: vdisc_testcase_56\n",
      "Current Iteration: vdisc_testcase_69\n",
      "Current Iteration: vdisc_testcase_7\n",
      "Current Iteration: vdisc_testcase_9\n",
      "Current Iteration: vdisc_testcase_53\n",
      "Current Iteration: vdisc_testcase_59\n",
      "Current Iteration: vdisc_testcase_61\n",
      "Current Iteration: vdisc_testcase_8\n",
      "Current Iteration: vdisc_testcase_23\n",
      "Current Iteration: vdisc_testcase_46\n",
      "Current Iteration: vdisc_testcase_52\n",
      "Current Iteration: vdisc_testcase_77\n",
      "error\n",
      "Current Iteration: vdisc_testcase_93\n",
      "Current Iteration: vdisc_testcase_13\n",
      "Current Iteration: vdisc_testcase_18\n",
      "Current Iteration: vdisc_testcase_22\n",
      "Current Iteration: vdisc_testcase_32\n",
      "Current Iteration: vdisc_testcase_44\n",
      "Current Iteration: vdisc_testcase_58\n",
      "Current Iteration: vdisc_testcase_72\n",
      "Current Iteration: vdisc_testcase_75\n",
      "Current Iteration: vdisc_testcase_85\n",
      "Current Iteration: vdisc_testcase_103\n",
      "Current Iteration: vdisc_testcase_106\n",
      "Current Iteration: vdisc_testcase_35\n",
      "Current Iteration: vdisc_testcase_76\n",
      "Current Iteration: vdisc_testcase_92\n",
      "Current Iteration: vdisc_testcase_45\n",
      "Current Iteration: vdisc_testcase_62\n",
      "Current Iteration: vdisc_testcase_74\n",
      "Current Iteration: vdisc_testcase_100\n",
      "Current Iteration: vdisc_testcase_104\n",
      "Current Iteration: vdisc_testcase_11\n",
      "Current Iteration: vdisc_testcase_38\n",
      "Current Iteration: vdisc_testcase_41\n",
      "Current Iteration: vdisc_testcase_63\n",
      "Current Iteration: vdisc_testcase_83\n",
      "Current Iteration: vdisc_testcase_89\n",
      "Current Iteration: vdisc_testcase_97\n",
      "Current Iteration: vdisc_testcase_12\n",
      "Current Iteration: vdisc_testcase_21\n",
      "Current Iteration: vdisc_testcase_3\n",
      "Current Iteration: vdisc_testcase_33\n",
      "error\n",
      "Current Iteration: vdisc_testcase_40\n",
      "Current Iteration: vdisc_testcase_80\n",
      "Current Iteration: vdisc_testcase_81\n",
      "Current Iteration: vdisc_testcase_94\n"
     ]
    }
   ],
   "source": [
    "adj = []\n",
    "for index, row in graphs.iteritems():\n",
    "    print(\"Current Iteration: \"+str(index))\n",
    "    try:\n",
    "        adj.append([index, gen_adj_matrix(row)])\n",
    "    except:\n",
    "        print(\"error\")"
   ]
  },
  {
   "cell_type": "code",
   "execution_count": null,
   "metadata": {},
   "outputs": [],
   "source": []
  },
  {
   "cell_type": "code",
   "execution_count": 61,
   "metadata": {
    "collapsed": true
   },
   "outputs": [
    {
     "name": "stdout",
     "output_type": "stream",
     "text": [
      "__repmgr_check_listener(env)\n",
      "\tENV *env;\n",
      "{\n",
      "\tDB_REP *db_rep;\n",
      "\tREP *rep;\n",
      "\tSITEINFO *sites;\n",
      "\tdb_timespec t;\n",
      "\tint ret;\n",
      "\n",
      "\tdb_rep = env->rep_handle;\n",
      "\trep = db_rep->region;\n",
      "\tret = 0;\n",
      "\n",
      "\t/*\n",
      "\t * Only subordinate rep-aware process can take over listener role, so\n",
      "\t * no need to check listener in listener process or rep unaware process.\n",
      "\t */\n",
      "\tif (!IS_LISTENER_CAND(db_rep))\n",
      "\t\treturn (0);\n",
      "\n",
      "\t/*\n",
      "\t * If the listener quits due to site removal, no subordinate process\n",
      "\t * should take over as listener as the current site is not expected\n",
      "\t * to be active in the group.  Check the status from the site array\n",
      "\t * in the shared region instead of that in the GMDB.  We do this\n",
      "\t * because the GMDB doesn't apply the change yet when replication\n",
      "\t * is stopped on the removed site.\n",
      "\t */\n",
      "\tsites = R_ADDR(env->reginfo, rep->siteinfo_off);\n",
      "\tif (sites[rep->self_eid].status == SITE_DELETING)\n",
      "\t\treturn (0);\n",
      "\n",
      "\t/*\n",
      "\t * Check the listener after timeout.  If there is no listener, we\n",
      "\t * take over.  During takeover, we will refresh all connections.\n",
      "\t * A subordinate process does not have an up-to-date site list, so sync\n",
      "\t * up addresses from the in-memory site array before takeover.\n",
      "\t */\n",
      "\t__os_gettime(env, &t, 1);\n",
      "\tif (timespeccmp(&t, &db_rep->l_listener_chk, >=)) {\n",
      "\t\t/* Compute the next timeout. */\n",
      "\t\tTIMESPEC_ADD_DB_TIMEOUT(&t, db_rep->l_listener_wait);\n",
      "\t\tdb_rep->l_listener_chk = t;\n",
      "\n",
      "\t\t/* Check if site address information needs to be refreshed. */\n",
      "\t\tif ((rep->siteinfo_seq > db_rep->siteinfo_seq) &&\n",
      "\t\t    (ret = __repmgr_sync_siteaddr(env)) != 0)\n",
      "\t\t\treturn (ret);\n",
      "\n",
      "\t\tif (rep->listener == 0)\n",
      "\t\t\tret = __repmgr_start_takeover(env);\n",
      "\t}\n",
      "\treturn (ret);\n",
      "}\n"
     ]
    }
   ],
   "source": [
    "print(data.loc[data['testcase_ID']=='vdisc_testcase_77'].iloc[0].code)"
   ]
  }
 ],
 "metadata": {
  "kernelspec": {
   "display_name": "Python 3",
   "language": "python",
   "name": "python3"
  },
  "language_info": {
   "codemirror_mode": {
    "name": "ipython",
    "version": 3
   },
   "file_extension": ".py",
   "mimetype": "text/x-python",
   "name": "python",
   "nbconvert_exporter": "python",
   "pygments_lexer": "ipython3",
   "version": "3.6.8"
  }
 },
 "nbformat": 4,
 "nbformat_minor": 2
}
