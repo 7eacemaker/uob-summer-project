{
 "cells": [
  {
   "cell_type": "markdown",
   "metadata": {},
   "source": [
    "# Import Data"
   ]
  },
  {
   "cell_type": "code",
   "execution_count": 29,
   "metadata": {},
   "outputs": [],
   "source": [
    "import tensorflow\n",
    "import keras\n",
    "import numpy as np\n",
    "np.random.seed(1248)"
   ]
  },
  {
   "cell_type": "code",
   "execution_count": 30,
   "metadata": {},
   "outputs": [],
   "source": [
    "import pandas as pd"
   ]
  },
  {
   "cell_type": "code",
   "execution_count": 31,
   "metadata": {},
   "outputs": [],
   "source": [
    "data = pd.read_csv('../data/buffer_overflow_data.csv.gz')"
   ]
  },
  {
   "cell_type": "code",
   "execution_count": 32,
   "metadata": {},
   "outputs": [],
   "source": [
    "labels = data.copy()\n",
    "del labels['Unnamed: 0']\n",
    "del labels['Unnamed: 0.1']\n",
    "del labels['filename']\n",
    "del labels['code']\n",
    "del labels['flaw']\n",
    "del labels['flaw_loc']\n",
    "labels = labels.drop_duplicates().sort_values('testcase_ID').reset_index(drop=True)"
   ]
  },
  {
   "cell_type": "code",
   "execution_count": 33,
   "metadata": {
    "scrolled": true
   },
   "outputs": [],
   "source": [
    "x = pd.read_csv(\"../data/buffer_overflow_graph_embeddings.csv.gz\")\n",
    "x['testcase_ID'] = x['type']\n",
    "del x['type']\n",
    "x = x.sort_values(\"testcase_ID\")"
   ]
  },
  {
   "cell_type": "code",
   "execution_count": 34,
   "metadata": {},
   "outputs": [],
   "source": [
    "y = labels['bug']"
   ]
  },
  {
   "cell_type": "code",
   "execution_count": 35,
   "metadata": {},
   "outputs": [],
   "source": [
    "testcase_IDs = x['testcase_ID']\n",
    "x = x.drop('testcase_ID', axis='columns')"
   ]
  },
  {
   "cell_type": "code",
   "execution_count": 36,
   "metadata": {},
   "outputs": [],
   "source": [
    "import pickle\n",
    "\n",
    "with open('../data/x-train-binary','rb') as f:\n",
    "    x_train = pickle.load(f)\n",
    "    \n",
    "with open('../data/y-train-binary','rb') as f:\n",
    "    y_train = pickle.load(f)\n",
    "    \n",
    "with open('../data/x-test-binary','rb') as f:\n",
    "    x_test = pickle.load(f)\n",
    "    \n",
    "with open('../data/y-test-binary','rb') as f:\n",
    "    y_test = pickle.load(f)"
   ]
  },
  {
   "cell_type": "code",
   "execution_count": 37,
   "metadata": {},
   "outputs": [],
   "source": [
    "x_train_indices = x_train.index.tolist()\n",
    "x_test_indices = x_test.index.tolist()\n",
    "testcase_train = testcase_IDs.iloc[x_train_indices]\n",
    "testcase_test = testcase_IDs.iloc[x_test_indices]"
   ]
  },
  {
   "cell_type": "code",
   "execution_count": null,
   "metadata": {},
   "outputs": [],
   "source": [
    "with open ('../data/testcase-id-train', 'wb') as f:\n",
    "    pickle.dump(f)\n",
    "\n"
   ]
  },
  {
   "cell_type": "markdown",
   "metadata": {},
   "source": [
    "# [Neural tutorial](https://towardsdatascience.com/neural-networks-from-scratch-easy-vs-hard-b26ddc2e89c7)"
   ]
  },
  {
   "cell_type": "code",
   "execution_count": 8,
   "metadata": {
    "scrolled": true
   },
   "outputs": [],
   "source": [
    "from keras.layers import Dense, Dropout, Flatten, Reshape\n",
    "from keras.layers import Conv1D, MaxPooling1D\n",
    "from keras.models import Sequential\n",
    "from keras.layers.normalization import BatchNormalization\n",
    "from keras.layers.advanced_activations import LeakyReLU\n",
    "from keras.optimizers import RMSprop, Adadelta, Adam"
   ]
  },
  {
   "cell_type": "code",
   "execution_count": 35,
   "metadata": {},
   "outputs": [],
   "source": [
    "model = Sequential()\n",
    "\n",
    "model.add(Dense(128, input_dim=x_train.shape[1], activation='sigmoid'))\n",
    "model.add(Dense(128, activation='sigmoid'))\n",
    "model.add(Dense(units=1, activation='sigmoid'))\n",
    "\n",
    "model.compile(optimizer=Adam(), loss='binary_crossentropy', metrics=['accuracy'])"
   ]
  },
  {
   "cell_type": "code",
   "execution_count": 36,
   "metadata": {
    "scrolled": true
   },
   "outputs": [
    {
     "name": "stdout",
     "output_type": "stream",
     "text": [
      "_________________________________________________________________\n",
      "Layer (type)                 Output Shape              Param #   \n",
      "=================================================================\n",
      "dense_4 (Dense)              (None, 128)               16512     \n",
      "_________________________________________________________________\n",
      "dense_5 (Dense)              (None, 128)               16512     \n",
      "_________________________________________________________________\n",
      "dense_6 (Dense)              (None, 1)                 129       \n",
      "=================================================================\n",
      "Total params: 33,153\n",
      "Trainable params: 33,153\n",
      "Non-trainable params: 0\n",
      "_________________________________________________________________\n"
     ]
    }
   ],
   "source": [
    "model.summary()"
   ]
  },
  {
   "cell_type": "code",
   "execution_count": 37,
   "metadata": {
    "scrolled": true
   },
   "outputs": [
    {
     "name": "stdout",
     "output_type": "stream",
     "text": [
      "Epoch 1/50\n",
      "17201/17201 [==============================] - 1s 60us/step - loss: 0.6703 - acc: 0.5894\n",
      "Epoch 2/50\n",
      "17201/17201 [==============================] - 1s 67us/step - loss: 0.6037 - acc: 0.6893\n",
      "Epoch 3/50\n",
      "17201/17201 [==============================] - 1s 48us/step - loss: 0.5429 - acc: 0.7418\n",
      "Epoch 4/50\n",
      "17201/17201 [==============================] - 1s 56us/step - loss: 0.4918 - acc: 0.7727\n",
      "Epoch 5/50\n",
      "17201/17201 [==============================] - 1s 58us/step - loss: 0.4519 - acc: 0.7980\n",
      "Epoch 6/50\n",
      "17201/17201 [==============================] - 1s 79us/step - loss: 0.4221 - acc: 0.8125\n",
      "Epoch 7/50\n",
      "17201/17201 [==============================] - 2s 111us/step - loss: 0.3905 - acc: 0.8305\n",
      "Epoch 8/50\n",
      "17201/17201 [==============================] - 1s 85us/step - loss: 0.3642 - acc: 0.8486\n",
      "Epoch 9/50\n",
      "17201/17201 [==============================] - 2s 98us/step - loss: 0.3354 - acc: 0.8579\n",
      "Epoch 10/50\n",
      "17201/17201 [==============================] - 2s 89us/step - loss: 0.3011 - acc: 0.8756\n",
      "Epoch 11/50\n",
      "17201/17201 [==============================] - 1s 83us/step - loss: 0.2732 - acc: 0.8849\n",
      "Epoch 12/50\n",
      "17201/17201 [==============================] - 1s 80us/step - loss: 0.2430 - acc: 0.9006\n",
      "Epoch 13/50\n",
      "17201/17201 [==============================] - 1s 80us/step - loss: 0.2220 - acc: 0.9086\n",
      "Epoch 14/50\n",
      "17201/17201 [==============================] - 1s 80us/step - loss: 0.2049 - acc: 0.9148\n",
      "Epoch 15/50\n",
      "17201/17201 [==============================] - 1s 77us/step - loss: 0.1839 - acc: 0.9221\n",
      "Epoch 16/50\n",
      "17201/17201 [==============================] - 1s 70us/step - loss: 0.1691 - acc: 0.9297\n",
      "Epoch 17/50\n",
      "17201/17201 [==============================] - 1s 70us/step - loss: 0.1598 - acc: 0.9319\n",
      "Epoch 18/50\n",
      "17201/17201 [==============================] - 1s 63us/step - loss: 0.1458 - acc: 0.9394\n",
      "Epoch 19/50\n",
      "17201/17201 [==============================] - 1s 68us/step - loss: 0.1404 - acc: 0.9397\n",
      "Epoch 20/50\n",
      "17201/17201 [==============================] - 1s 87us/step - loss: 0.1324 - acc: 0.9425\n",
      "Epoch 21/50\n",
      "17201/17201 [==============================] - 2s 88us/step - loss: 0.1284 - acc: 0.9434\n",
      "Epoch 22/50\n",
      "17201/17201 [==============================] - 1s 67us/step - loss: 0.1250 - acc: 0.9437\n",
      "Epoch 23/50\n",
      "17201/17201 [==============================] - 1s 53us/step - loss: 0.1191 - acc: 0.9479\n",
      "Epoch 24/50\n",
      "17201/17201 [==============================] - 1s 43us/step - loss: 0.1221 - acc: 0.9427\n",
      "Epoch 25/50\n",
      "17201/17201 [==============================] - 2s 100us/step - loss: 0.1115 - acc: 0.9483\n",
      "Epoch 26/50\n",
      "17201/17201 [==============================] - 2s 115us/step - loss: 0.1101 - acc: 0.9495\n",
      "Epoch 27/50\n",
      "17201/17201 [==============================] - 2s 127us/step - loss: 0.1081 - acc: 0.9491\n",
      "Epoch 28/50\n",
      "17201/17201 [==============================] - 2s 88us/step - loss: 0.1065 - acc: 0.9493\n",
      "Epoch 29/50\n",
      "17201/17201 [==============================] - 3s 180us/step - loss: 0.1075 - acc: 0.9492\n",
      "Epoch 30/50\n",
      "17201/17201 [==============================] - 2s 123us/step - loss: 0.1039 - acc: 0.9516\n",
      "Epoch 31/50\n",
      "17201/17201 [==============================] - 2s 99us/step - loss: 0.1046 - acc: 0.9497\n",
      "Epoch 32/50\n",
      "17201/17201 [==============================] - 2s 91us/step - loss: 0.1058 - acc: 0.9490\n",
      "Epoch 33/50\n",
      "17201/17201 [==============================] - 2s 111us/step - loss: 0.1000 - acc: 0.9537\n",
      "Epoch 34/50\n",
      "17201/17201 [==============================] - 2s 116us/step - loss: 0.0986 - acc: 0.9532\n",
      "Epoch 35/50\n",
      "17201/17201 [==============================] - 2s 98us/step - loss: 0.1020 - acc: 0.9502\n",
      "Epoch 36/50\n",
      "17201/17201 [==============================] - 2s 121us/step - loss: 0.0994 - acc: 0.9543\n",
      "Epoch 37/50\n",
      "17201/17201 [==============================] - 2s 103us/step - loss: 0.0944 - acc: 0.9526\n",
      "Epoch 38/50\n",
      "17201/17201 [==============================] - 2s 118us/step - loss: 0.0921 - acc: 0.9551\n",
      "Epoch 39/50\n",
      "17201/17201 [==============================] - 2s 90us/step - loss: 0.0927 - acc: 0.9544\n",
      "Epoch 40/50\n",
      "17201/17201 [==============================] - 2s 94us/step - loss: 0.0956 - acc: 0.9533\n",
      "Epoch 41/50\n",
      "17201/17201 [==============================] - 1s 82us/step - loss: 0.0938 - acc: 0.9547\n",
      "Epoch 42/50\n",
      "17201/17201 [==============================] - 2s 114us/step - loss: 0.0916 - acc: 0.9535\n",
      "Epoch 43/50\n",
      "17201/17201 [==============================] - 2s 87us/step - loss: 0.0922 - acc: 0.9551\n",
      "Epoch 44/50\n",
      "17201/17201 [==============================] - 1s 70us/step - loss: 0.0895 - acc: 0.9560\n",
      "Epoch 45/50\n",
      "17201/17201 [==============================] - 1s 81us/step - loss: 0.0907 - acc: 0.9552\n",
      "Epoch 46/50\n",
      "17201/17201 [==============================] - 1s 71us/step - loss: 0.0918 - acc: 0.9554\n",
      "Epoch 47/50\n",
      "17201/17201 [==============================] - 1s 68us/step - loss: 0.0886 - acc: 0.9558\n",
      "Epoch 48/50\n",
      "17201/17201 [==============================] - 1s 85us/step - loss: 0.0865 - acc: 0.9562\n",
      "Epoch 49/50\n",
      "17201/17201 [==============================] - 2s 87us/step - loss: 0.0879 - acc: 0.9568\n",
      "Epoch 50/50\n",
      "17201/17201 [==============================] - 2s 88us/step - loss: 0.0868 - acc: 0.9557\n"
     ]
    },
    {
     "data": {
      "text/plain": [
       "<keras.callbacks.History at 0x7fd2a4ca2550>"
      ]
     },
     "execution_count": 37,
     "metadata": {},
     "output_type": "execute_result"
    }
   ],
   "source": [
    "model.fit(x_train, y_train, epochs=50, batch_size=64)"
   ]
  },
  {
   "cell_type": "code",
   "execution_count": 38,
   "metadata": {},
   "outputs": [],
   "source": [
    "import pickle"
   ]
  },
  {
   "cell_type": "code",
   "execution_count": 39,
   "metadata": {},
   "outputs": [],
   "source": [
    "with open('../data/dense-model-binary','wb') as f:\n",
    "    pickle.dump(model,f)"
   ]
  },
  {
   "cell_type": "code",
   "execution_count": 14,
   "metadata": {},
   "outputs": [
    {
     "name": "stdout",
     "output_type": "stream",
     "text": [
      "4301/4301 [==============================] - 0s 75us/step\n"
     ]
    },
    {
     "data": {
      "text/plain": [
       "[0.09280212914713647, 0.9539641943872599]"
      ]
     },
     "execution_count": 14,
     "metadata": {},
     "output_type": "execute_result"
    }
   ],
   "source": [
    "model.evaluate(x_test,y_test)"
   ]
  },
  {
   "cell_type": "code",
   "execution_count": 15,
   "metadata": {},
   "outputs": [],
   "source": [
    "import seaborn as sns\n",
    "from sklearn import metrics\n",
    "import matplotlib"
   ]
  },
  {
   "cell_type": "code",
   "execution_count": 16,
   "metadata": {},
   "outputs": [],
   "source": [
    "y_predict= model.predict(x_test)"
   ]
  },
  {
   "cell_type": "code",
   "execution_count": 17,
   "metadata": {},
   "outputs": [],
   "source": [
    "import numpy as np"
   ]
  },
  {
   "cell_type": "code",
   "execution_count": 18,
   "metadata": {},
   "outputs": [
    {
     "data": {
      "image/png": "[encoded data removed]",
      "text/plain": [
       "<Figure size 360x288 with 2 Axes>"
      ]
     },
     "metadata": {
      "needs_background": "light"
     },
     "output_type": "display_data"
    }
   ],
   "source": [
    "confusion_matrix = pd.DataFrame(\n",
    "    data=metrics.confusion_matrix(y_test, np.rint(y_predict)), \n",
    "    \n",
    ")\n",
    "\n",
    "confusion_figure, confusion_axes = matplotlib.pyplot.subplots()\n",
    "confusion_figure.set_size_inches(5, 4)\n",
    "confusion_axes.set_title(\n",
    "    'Confusion matrix showing the frequency of \\n'\n",
    "    'correct and incorrect bug classification predictions.'\n",
    "    '\\n\\n'  # hack to avoid overlap with x-axis labels below\n",
    ")\n",
    "confusion_axes.xaxis.tick_top()  # move x-axis labels to top of matrix\n",
    "_ = sns.heatmap(\n",
    "    confusion_matrix,\n",
    "    annot=True,\n",
    "    fmt=\"d\",\n",
    "    cmap=sns.color_palette(\"Blues\"),\n",
    "    vmin=0,\n",
    "    ax=confusion_axes,\n",
    ")\n",
    "\n",
    "confusion_figure.savefig('../images/baseline_conf_matrix')"
   ]
  },
  {
   "cell_type": "code",
   "execution_count": 29,
   "metadata": {},
   "outputs": [],
   "source": [
    "tn, fp, fn, tp = metrics.confusion_matrix(y_test, np.rint(y_predict)).flatten().tolist()\n",
    "\n",
    "fpr_nn = fp/(fp+tp)\n",
    "fnr_nn = fn/(fn+tn)"
   ]
  },
  {
   "cell_type": "code",
   "execution_count": 30,
   "metadata": {},
   "outputs": [
    {
     "data": {
      "text/plain": [
       "0.03056768558951965"
      ]
     },
     "execution_count": 30,
     "metadata": {},
     "output_type": "execute_result"
    }
   ],
   "source": [
    "fpr_nn"
   ]
  },
  {
   "cell_type": "code",
   "execution_count": 31,
   "metadata": {},
   "outputs": [
    {
     "data": {
      "text/plain": [
       "0.060267857142857144"
      ]
     },
     "execution_count": 31,
     "metadata": {},
     "output_type": "execute_result"
    }
   ],
   "source": [
    "fnr_nn"
   ]
  },
  {
   "cell_type": "code",
   "execution_count": 19,
   "metadata": {},
   "outputs": [],
   "source": [
    "from sklearn.metrics import roc_curve\n",
    "fpr_keras, tpr_keras, thresholds_keras = roc_curve((y_test.values+0), y_predict)"
   ]
  },
  {
   "cell_type": "code",
   "execution_count": 20,
   "metadata": {},
   "outputs": [],
   "source": [
    "from sklearn.metrics import auc\n",
    "import matplotlib.pyplot as plt\n",
    "auc_keras = auc(fpr_keras, tpr_keras)"
   ]
  },
  {
   "cell_type": "code",
   "execution_count": 21,
   "metadata": {},
   "outputs": [
    {
     "data": {
      "image/png": "[encoded data removed]",
      "text/plain": [
       "<Figure size 432x288 with 1 Axes>"
      ]
     },
     "metadata": {
      "needs_background": "light"
     },
     "output_type": "display_data"
    },
    {
     "data": {
      "text/plain": [
       "<Figure size 432x288 with 0 Axes>"
      ]
     },
     "metadata": {},
     "output_type": "display_data"
    }
   ],
   "source": [
    "plt.plot(fpr_keras, tpr_keras, label='Keras (area = {:.3f})'.format(auc_keras))\n",
    "plt.xlabel('False positive rate')\n",
    "plt.ylabel('True positive rate')\n",
    "plt.title('ROC curve')\n",
    "plt.legend(loc='best')\n",
    "plt.show()\n",
    "plt.savefig('../images/baseline_roc_curve')"
   ]
  },
  {
   "cell_type": "markdown",
   "metadata": {},
   "source": [
    "### Train / Test / Validation Split"
   ]
  },
  {
   "cell_type": "code",
   "execution_count": 24,
   "metadata": {},
   "outputs": [],
   "source": [
    "with open('../data/x-train-binary-for-3-way-split','rb') as f:\n",
    "    x_train1 = pickle.load(f)\n",
    "    \n",
    "with open('../data/y-train-binary-for-3-way-split','rb') as f:\n",
    "    y_train1 = pickle.load(f)\n",
    "    \n",
    "with open('../data/x-val-binary','rb') as f:\n",
    "    x_val = pickle.load(f)\n",
    "    \n",
    "with open('../data/y-val-binary','rb') as f:\n",
    "    y_val = pickle.load(f)"
   ]
  },
  {
   "cell_type": "markdown",
   "metadata": {},
   "source": [
    "### Fitting Model with 3-way Split for Validation"
   ]
  },
  {
   "cell_type": "code",
   "execution_count": 25,
   "metadata": {},
   "outputs": [
    {
     "name": "stdout",
     "output_type": "stream",
     "text": [
      "Train on 15050 samples, validate on 2151 samples\n",
      "Epoch 1/50\n",
      "15050/15050 [==============================] - 1s 78us/step - loss: 0.0874 - acc: 0.9554 - val_loss: 0.0837 - val_acc: 0.9530\n",
      "Epoch 2/50\n",
      "15050/15050 [==============================] - 2s 115us/step - loss: 0.0870 - acc: 0.9569 - val_loss: 0.0909 - val_acc: 0.9498\n",
      "Epoch 3/50\n",
      "15050/15050 [==============================] - 1s 86us/step - loss: 0.0842 - acc: 0.9583 - val_loss: 0.0797 - val_acc: 0.9572\n",
      "Epoch 4/50\n",
      "15050/15050 [==============================] - 1s 84us/step - loss: 0.0840 - acc: 0.9585 - val_loss: 0.0977 - val_acc: 0.9489\n",
      "Epoch 5/50\n",
      "15050/15050 [==============================] - 1s 79us/step - loss: 0.0878 - acc: 0.9577 - val_loss: 0.0951 - val_acc: 0.9489\n",
      "Epoch 6/50\n",
      "15050/15050 [==============================] - 2s 118us/step - loss: 0.0843 - acc: 0.9593 - val_loss: 0.0788 - val_acc: 0.9563\n",
      "Epoch 7/50\n",
      "15050/15050 [==============================] - 2s 139us/step - loss: 0.0861 - acc: 0.9561 - val_loss: 0.1125 - val_acc: 0.9451\n",
      "Epoch 8/50\n",
      "15050/15050 [==============================] - 1s 97us/step - loss: 0.0849 - acc: 0.9580 - val_loss: 0.0972 - val_acc: 0.9512\n",
      "Epoch 9/50\n",
      "15050/15050 [==============================] - 1s 63us/step - loss: 0.0825 - acc: 0.9558 - val_loss: 0.0959 - val_acc: 0.9489\n",
      "Epoch 10/50\n",
      "15050/15050 [==============================] - 2s 100us/step - loss: 0.0917 - acc: 0.9545 - val_loss: 0.1033 - val_acc: 0.9484\n",
      "Epoch 11/50\n",
      "15050/15050 [==============================] - 1s 91us/step - loss: 0.0833 - acc: 0.9581 - val_loss: 0.0916 - val_acc: 0.9493\n",
      "Epoch 12/50\n",
      "15050/15050 [==============================] - 1s 68us/step - loss: 0.0855 - acc: 0.9569 - val_loss: 0.1039 - val_acc: 0.9461\n",
      "Epoch 13/50\n",
      "15050/15050 [==============================] - 1s 95us/step - loss: 0.0793 - acc: 0.9614 - val_loss: 0.0783 - val_acc: 0.9544\n",
      "Epoch 14/50\n",
      "15050/15050 [==============================] - 1s 98us/step - loss: 0.0834 - acc: 0.9593 - val_loss: 0.0831 - val_acc: 0.9540\n",
      "Epoch 15/50\n",
      "15050/15050 [==============================] - 1s 90us/step - loss: 0.0793 - acc: 0.9596 - val_loss: 0.0877 - val_acc: 0.9530\n",
      "Epoch 16/50\n",
      "15050/15050 [==============================] - 1s 64us/step - loss: 0.0787 - acc: 0.9607 - val_loss: 0.0773 - val_acc: 0.9577\n",
      "Epoch 17/50\n",
      "15050/15050 [==============================] - 1s 55us/step - loss: 0.0811 - acc: 0.9593 - val_loss: 0.0812 - val_acc: 0.9563\n",
      "Epoch 18/50\n",
      "15050/15050 [==============================] - 1s 52us/step - loss: 0.0838 - acc: 0.9588 - val_loss: 0.0769 - val_acc: 0.9572\n",
      "Epoch 19/50\n",
      "15050/15050 [==============================] - 1s 52us/step - loss: 0.0832 - acc: 0.9591 - val_loss: 0.0835 - val_acc: 0.9540\n",
      "Epoch 20/50\n",
      "15050/15050 [==============================] - 1s 52us/step - loss: 0.0787 - acc: 0.9595 - val_loss: 0.0782 - val_acc: 0.9582\n",
      "Epoch 21/50\n",
      "15050/15050 [==============================] - 1s 50us/step - loss: 0.0786 - acc: 0.9593 - val_loss: 0.0840 - val_acc: 0.9549\n",
      "Epoch 22/50\n",
      "15050/15050 [==============================] - 1s 68us/step - loss: 0.0774 - acc: 0.9627 - val_loss: 0.0844 - val_acc: 0.9540\n",
      "Epoch 23/50\n",
      "15050/15050 [==============================] - 1s 86us/step - loss: 0.0802 - acc: 0.9607 - val_loss: 0.0854 - val_acc: 0.9507\n",
      "Epoch 24/50\n",
      "15050/15050 [==============================] - 1s 79us/step - loss: 0.0786 - acc: 0.9591 - val_loss: 0.0796 - val_acc: 0.9549\n",
      "Epoch 25/50\n",
      "15050/15050 [==============================] - 1s 67us/step - loss: 0.0789 - acc: 0.9586 - val_loss: 0.0774 - val_acc: 0.9540\n",
      "Epoch 26/50\n",
      "15050/15050 [==============================] - 1s 85us/step - loss: 0.0816 - acc: 0.9588 - val_loss: 0.0911 - val_acc: 0.9484\n",
      "Epoch 27/50\n",
      "15050/15050 [==============================] - 1s 79us/step - loss: 0.0779 - acc: 0.9591 - val_loss: 0.0780 - val_acc: 0.9554\n",
      "Epoch 28/50\n",
      "15050/15050 [==============================] - 1s 69us/step - loss: 0.0754 - acc: 0.9606 - val_loss: 0.0866 - val_acc: 0.9554\n",
      "Epoch 29/50\n",
      "15050/15050 [==============================] - 1s 68us/step - loss: 0.0773 - acc: 0.9617 - val_loss: 0.0877 - val_acc: 0.9517\n",
      "Epoch 30/50\n",
      "15050/15050 [==============================] - 1s 82us/step - loss: 0.0815 - acc: 0.9570 - val_loss: 0.0763 - val_acc: 0.9572\n",
      "Epoch 31/50\n",
      "15050/15050 [==============================] - 1s 75us/step - loss: 0.0750 - acc: 0.9609 - val_loss: 0.0938 - val_acc: 0.9507\n",
      "Epoch 32/50\n",
      "15050/15050 [==============================] - 1s 78us/step - loss: 0.0767 - acc: 0.9599 - val_loss: 0.0762 - val_acc: 0.9563\n",
      "Epoch 33/50\n",
      "15050/15050 [==============================] - 1s 82us/step - loss: 0.0785 - acc: 0.9593 - val_loss: 0.0782 - val_acc: 0.9572\n",
      "Epoch 34/50\n",
      "15050/15050 [==============================] - 1s 86us/step - loss: 0.0763 - acc: 0.9611 - val_loss: 0.0803 - val_acc: 0.9572\n",
      "Epoch 35/50\n",
      "15050/15050 [==============================] - 1s 79us/step - loss: 0.0749 - acc: 0.9620 - val_loss: 0.0857 - val_acc: 0.9517\n",
      "Epoch 36/50\n",
      "15050/15050 [==============================] - 1s 77us/step - loss: 0.0751 - acc: 0.9615 - val_loss: 0.0777 - val_acc: 0.9568\n",
      "Epoch 37/50\n",
      "15050/15050 [==============================] - 1s 69us/step - loss: 0.0772 - acc: 0.9603 - val_loss: 0.0895 - val_acc: 0.9503\n",
      "Epoch 38/50\n",
      "15050/15050 [==============================] - 1s 76us/step - loss: 0.0746 - acc: 0.9619 - val_loss: 0.0796 - val_acc: 0.9549\n",
      "Epoch 39/50\n",
      "15050/15050 [==============================] - 1s 76us/step - loss: 0.0748 - acc: 0.9597 - val_loss: 0.1068 - val_acc: 0.9442\n",
      "Epoch 40/50\n",
      "15050/15050 [==============================] - 1s 57us/step - loss: 0.0739 - acc: 0.9624 - val_loss: 0.0814 - val_acc: 0.9554\n",
      "Epoch 41/50\n",
      "15050/15050 [==============================] - 1s 49us/step - loss: 0.0720 - acc: 0.9630 - val_loss: 0.0743 - val_acc: 0.9586\n",
      "Epoch 42/50\n",
      "15050/15050 [==============================] - 1s 76us/step - loss: 0.0783 - acc: 0.9581 - val_loss: 0.0940 - val_acc: 0.9530\n",
      "Epoch 43/50\n",
      "15050/15050 [==============================] - 1s 89us/step - loss: 0.0726 - acc: 0.9621 - val_loss: 0.0842 - val_acc: 0.9549\n",
      "Epoch 44/50\n",
      "15050/15050 [==============================] - 1s 91us/step - loss: 0.0768 - acc: 0.9607 - val_loss: 0.0764 - val_acc: 0.9572\n",
      "Epoch 45/50\n",
      "15050/15050 [==============================] - 1s 93us/step - loss: 0.0714 - acc: 0.9627 - val_loss: 0.0779 - val_acc: 0.9558\n",
      "Epoch 46/50\n",
      "15050/15050 [==============================] - 1s 72us/step - loss: 0.0712 - acc: 0.9621 - val_loss: 0.0757 - val_acc: 0.9558\n",
      "Epoch 47/50\n",
      "15050/15050 [==============================] - 1s 49us/step - loss: 0.0739 - acc: 0.9619 - val_loss: 0.0870 - val_acc: 0.9540\n",
      "Epoch 48/50\n",
      "15050/15050 [==============================] - 1s 46us/step - loss: 0.0726 - acc: 0.9625 - val_loss: 0.0750 - val_acc: 0.9605\n",
      "Epoch 49/50\n",
      "15050/15050 [==============================] - 1s 50us/step - loss: 0.0706 - acc: 0.9621 - val_loss: 0.0778 - val_acc: 0.9582\n",
      "Epoch 50/50\n",
      "15050/15050 [==============================] - 1s 47us/step - loss: 0.0724 - acc: 0.9605 - val_loss: 0.0739 - val_acc: 0.9586\n"
     ]
    },
    {
     "data": {
      "text/plain": [
       "<keras.callbacks.History at 0x7fd2d97c59b0>"
      ]
     },
     "execution_count": 25,
     "metadata": {},
     "output_type": "execute_result"
    }
   ],
   "source": [
    "model.fit(x_train1, y_train1, validation_data = (x_val, y_val), epochs=50, batch_size=64)"
   ]
  },
  {
   "cell_type": "code",
   "execution_count": 26,
   "metadata": {},
   "outputs": [
    {
     "name": "stdout",
     "output_type": "stream",
     "text": [
      "4301/4301 [==============================] - 0s 68us/step\n"
     ]
    },
    {
     "data": {
      "text/plain": [
       "[0.08080741595255998, 0.9544292025110439]"
      ]
     },
     "execution_count": 26,
     "metadata": {},
     "output_type": "execute_result"
    }
   ],
   "source": [
    "model.evaluate(x_test,y_test)"
   ]
  },
  {
   "cell_type": "code",
   "execution_count": 27,
   "metadata": {},
   "outputs": [],
   "source": [
    "y_predict1= model.predict(x_test)"
   ]
  },
  {
   "cell_type": "code",
   "execution_count": 28,
   "metadata": {},
   "outputs": [
    {
     "data": {
      "image/png": "[encoded data removed]",
      "text/plain": [
       "<Figure size 360x288 with 2 Axes>"
      ]
     },
     "metadata": {
      "needs_background": "light"
     },
     "output_type": "display_data"
    }
   ],
   "source": [
    "confusion_matrix = pd.DataFrame(\n",
    "    data=metrics.confusion_matrix(y_test, np.rint(y_predict1)), \n",
    "    \n",
    ")\n",
    "\n",
    "confusion_figure, confusion_axes = matplotlib.pyplot.subplots()\n",
    "confusion_figure.set_size_inches(5, 4)\n",
    "confusion_axes.set_title(\n",
    "    'Confusion matrix showing the frequency of \\n'\n",
    "    'correct and incorrect bug classification predictions.'\n",
    "    '\\n\\n'  # hack to avoid overlap with x-axis labels below\n",
    ")\n",
    "confusion_axes.xaxis.tick_top()  # move x-axis labels to top of matrix\n",
    "_ = sns.heatmap(\n",
    "    confusion_matrix,\n",
    "    annot=True,\n",
    "    fmt=\"d\",\n",
    "    cmap=sns.color_palette(\"Blues\"),\n",
    "    vmin=0,\n",
    "    ax=confusion_axes,\n",
    ")"
   ]
  },
  {
   "cell_type": "code",
   "execution_count": 32,
   "metadata": {},
   "outputs": [],
   "source": [
    "tn, fp, fn, tp = metrics.confusion_matrix(y_test, np.rint(y_predict1)).flatten().tolist()\n",
    "\n",
    "fpr_nn1 = fp/(fp+tp)\n",
    "fnr_nn1 = fn/(fn+tn)"
   ]
  },
  {
   "cell_type": "code",
   "execution_count": 33,
   "metadata": {},
   "outputs": [
    {
     "data": {
      "text/plain": [
       "0.056750572082379866"
      ]
     },
     "execution_count": 33,
     "metadata": {},
     "output_type": "execute_result"
    }
   ],
   "source": [
    "fpr_nn1"
   ]
  },
  {
   "cell_type": "code",
   "execution_count": 34,
   "metadata": {},
   "outputs": [
    {
     "data": {
      "text/plain": [
       "0.034026465028355386"
      ]
     },
     "execution_count": 34,
     "metadata": {},
     "output_type": "execute_result"
    }
   ],
   "source": [
    "fnr_nn1"
   ]
  }
 ],
 "metadata": {
  "kernelspec": {
   "display_name": "Python 3",
   "language": "python",
   "name": "python3"
  },
  "language_info": {
   "codemirror_mode": {
    "name": "ipython",
    "version": 3
   },
   "file_extension": ".py",
   "mimetype": "text/x-python",
   "name": "python",
   "nbconvert_exporter": "python",
   "pygments_lexer": "ipython3",
   "version": "3.6.8"
  },
  "toc": {
   "base_numbering": 1,
   "nav_menu": {},
   "number_sections": true,
   "sideBar": true,
   "skip_h1_title": false,
   "title_cell": "Table of Contents",
   "title_sidebar": "Contents",
   "toc_cell": false,
   "toc_position": {},
   "toc_section_display": true,
   "toc_window_display": false
  }
 },
 "nbformat": 4,
 "nbformat_minor": 2
}
