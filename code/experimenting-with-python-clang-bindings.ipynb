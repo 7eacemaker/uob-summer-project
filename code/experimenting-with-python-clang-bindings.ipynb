{
 "cells": [
  {
   "cell_type": "markdown",
   "metadata": {},
   "source": [
    "# Experimenting with Python Clang Bindings\n",
    "\n",
    "The goal of this notebook is to load the python clang bindings and the juliet dataset. Then try to get an AST out of some of Juliet's code snippets, can we make sense of any of it?\n",
    "\n",
    "## Setup\n",
    "You need clang and llvm installed. \n",
    "\n",
    "Then you need to make sure the clang python bindings are in your python path. What this really means is that you need to run the next cell, and if it fails you need to:\n",
    "  1. Download the clang source code from this location: http://releases.llvm.org/download.html\n",
    "     - Note: You probably need to be careful to download the correct version, check this by running `clang --version` in your shell. Then download the clang source code for the version it outputs (from the page linked above). I had to download 7.0.1.\n",
    "  2. Extract this source to a know location, I chose \"/home/dan/masters-cyber-security/project/clang-src/\". \n",
    "  3. Open `~/.bashrc` in a text editor, and at the end add the following line:\n",
    " `PYTHONPATH=/home/dan/masters-cyber-security/project/clang-src/:$PYTHONPATH`\n",
    "      \n",
    "  4. Restart jupyter notebook and all python sessions.\n",
    "\n",
    "Hopefully it'll work then."
   ]
  },
  {
   "cell_type": "code",
   "execution_count": null,
   "metadata": {},
   "outputs": [],
   "source": [
    "import clang.cindex"
   ]
  },
  {
   "cell_type": "code",
   "execution_count": 2,
   "metadata": {},
   "outputs": [],
   "source": [
    "import os\n",
    "import pandas as pd"
   ]
  },
  {
   "cell_type": "code",
   "execution_count": null,
   "metadata": {},
   "outputs": [],
   "source": [
    "# This cell might not be needed for you.\n",
    "clang.cindex.Config.set_library_path(os.environ.get('LIBRARY_PATH'))"
   ]
  },
  {
   "cell_type": "markdown",
   "metadata": {},
   "source": [
    "Load in the juliet data set, and pick the first data point as an example"
   ]
  },
  {
   "cell_type": "code",
   "execution_count": 6,
   "metadata": {},
   "outputs": [],
   "source": [
    "juliet = pd.read_csv(\"../data/juliet.csv.zip\")"
   ]
  },
  {
   "cell_type": "code",
   "execution_count": 10,
   "metadata": {},
   "outputs": [
    {
     "data": {
      "text/plain": [
       "Unnamed: 0                                                     0\n",
       "testcase_ID                                                61940\n",
       "filename       000/061/940/CWE114_Process_Control__w32_char_c...\n",
       "code           /* TEMPLATE GENERATED TESTCASE FILE\\nFilename:...\n",
       "flaw                                                     CWE-114\n",
       "flaw_loc                                                     121\n",
       "CWE-015                                                    False\n",
       "CWE-023                                                    False\n",
       "CWE-036                                                    False\n",
       "CWE-078                                                    False\n",
       "CWE-090                                                    False\n",
       "CWE-114                                                     True\n",
       "CWE-121                                                    False\n",
       "CWE-122                                                    False\n",
       "CWE-123                                                    False\n",
       "CWE-124                                                    False\n",
       "CWE-126                                                    False\n",
       "CWE-127                                                    False\n",
       "CWE-134                                                    False\n",
       "CWE-135                                                    False\n",
       "CWE-176                                                    False\n",
       "CWE-188                                                    False\n",
       "CWE-190                                                    False\n",
       "CWE-191                                                    False\n",
       "CWE-194                                                    False\n",
       "CWE-195                                                    False\n",
       "CWE-196                                                    False\n",
       "CWE-197                                                    False\n",
       "CWE-222                                                    False\n",
       "CWE-223                                                    False\n",
       "                                     ...                        \n",
       "CWE-606                                                    False\n",
       "CWE-615                                                    False\n",
       "CWE-617                                                    False\n",
       "CWE-620                                                    False\n",
       "CWE-665                                                    False\n",
       "CWE-666                                                    False\n",
       "CWE-667                                                    False\n",
       "CWE-672                                                    False\n",
       "CWE-674                                                    False\n",
       "CWE-675                                                    False\n",
       "CWE-676                                                    False\n",
       "CWE-680                                                    False\n",
       "CWE-681                                                    False\n",
       "CWE-685                                                    False\n",
       "CWE-688                                                    False\n",
       "CWE-690                                                    False\n",
       "CWE-758                                                    False\n",
       "CWE-761                                                    False\n",
       "CWE-762                                                    False\n",
       "CWE-773                                                    False\n",
       "CWE-775                                                    False\n",
       "CWE-780                                                    False\n",
       "CWE-785                                                    False\n",
       "CWE-789                                                    False\n",
       "CWE-832                                                    False\n",
       "CWE-835                                                    False\n",
       "CWE-843                                                    False\n",
       "CWE-119                                                    False\n",
       "CWE-120                                                    False\n",
       "CWE-OTHERS                                                 False\n",
       "Name: 0, Length: 128, dtype: object"
      ]
     },
     "execution_count": 10,
     "metadata": {},
     "output_type": "execute_result"
    }
   ],
   "source": [
    "example = juliet.iloc[0]\n",
    "example"
   ]
  },
  {
   "cell_type": "code",
   "execution_count": 27,
   "metadata": {
    "scrolled": false
   },
   "outputs": [
    {
     "name": "stdout",
     "output_type": "stream",
     "text": [
      "/* TEMPLATE GENERATED TESTCASE FILE\n",
      "Filename: CWE114_Process_Control__w32_char_connect_socket_01.c\n",
      "Label Definition File: CWE114_Process_Control__w32.label.xml\n",
      "Template File: sources-sink-01.tmpl.c\n",
      "*/\n",
      "/*\n",
      " * @description\n",
      " * CWE: 114 Process Control\n",
      " * BadSource: connect_socket Read data using a connect socket (client side)\n",
      " * GoodSource: Hard code the full pathname to the library\n",
      " * Sink:\n",
      " *    BadSink : Load a dynamic link library\n",
      " * Flow Variant: 01 Baseline\n",
      " *\n",
      " * */\n",
      "\n",
      "#include \"std_testcase.h\"\n",
      "\n",
      "#include <wchar.h>\n",
      "\n",
      "#ifdef _WIN32\n",
      "#include <winsock2.h>\n",
      "#include <windows.h>\n",
      "#include <direct.h>\n",
      "#pragma comment(lib, \"ws2_32\") /* include ws2_32.lib when linking */\n",
      "#define CLOSE_SOCKET closesocket\n",
      "#else /* NOT _WIN32 */\n",
      "#include <sys/types.h>\n",
      "#include <sys/socket.h>\n",
      "#include <netinet/in.h>\n",
      "#include <arpa/inet.h>\n",
      "#include <unistd.h>\n",
      "#define INVALID_SOCKET -1\n",
      "#define SOCKET_ERROR -1\n",
      "#define CLOSE_SOCKET close\n",
      "#define SOCKET int\n",
      "#endif\n",
      "\n",
      "#define TCP_PORT 27015\n",
      "#define IP_ADDRESS \"127.0.0.1\"\n",
      "\n",
      "\n",
      "#ifndef OMITBAD\n",
      "\n",
      "void CWE114_Process_Control__w32_char_connect_socket_01_bad()\n",
      "{\n",
      "    char * data;\n",
      "    char dataBuffer[100] = \"\";\n",
      "    data = dataBuffer;\n",
      "    {\n",
      "#ifdef _WIN32\n",
      "        WSADATA wsaData;\n",
      "        int wsaDataInit = 0;\n",
      "#endif\n",
      "        int recvResult;\n",
      "        struct sockaddr_in service;\n",
      "        char *replace;\n",
      "        SOCKET connectSocket = INVALID_SOCKET;\n",
      "        size_t dataLen = strlen(data);\n",
      "        do\n",
      "        {\n",
      "#ifdef _WIN32\n",
      "            if (WSAStartup(MAKEWORD(2,2), &wsaData) != NO_ERROR)\n",
      "            {\n",
      "                break;\n",
      "            }\n",
      "            wsaDataInit = 1;\n",
      "#endif\n",
      "            /* POTENTIAL FLAW: Read data using a connect socket */\n",
      "            connectSocket = socket(AF_INET, SOCK_STREAM, IPPROTO_TCP);\n",
      "            if (connectSocket == INVALID_SOCKET)\n",
      "            {\n",
      "                break;\n",
      "            }\n",
      "            memset(&service, 0, sizeof(service));\n",
      "            service.sin_family = AF_INET;\n",
      "            service.sin_addr.s_addr = inet_addr(IP_ADDRESS);\n",
      "            service.sin_port = htons(TCP_PORT);\n",
      "            if (connect(connectSocket, (struct sockaddr*)&service, sizeof(service)) == SOCKET_ERROR)\n",
      "            {\n",
      "                break;\n",
      "            }\n",
      "            /* Abort on error or the connection was closed, make sure to recv one\n",
      "             * less char than is in the recv_buf in order to append a terminator */\n",
      "            /* Abort on error or the connection was closed */\n",
      "            recvResult = recv(connectSocket, (char *)(data + dataLen), sizeof(char) * (100 - dataLen - 1), 0);\n",
      "            if (recvResult == SOCKET_ERROR || recvResult == 0)\n",
      "            {\n",
      "                break;\n",
      "            }\n",
      "            /* Append null terminator */\n",
      "            data[dataLen + recvResult / sizeof(char)] = '\\0';\n",
      "            /* Eliminate CRLF */\n",
      "            replace = strchr(data, '\\r');\n",
      "            if (replace)\n",
      "            {\n",
      "                *replace = '\\0';\n",
      "            }\n",
      "            replace = strchr(data, '\\n');\n",
      "            if (replace)\n",
      "            {\n",
      "                *replace = '\\0';\n",
      "            }\n",
      "        }\n",
      "        while (0);\n",
      "        if (connectSocket != INVALID_SOCKET)\n",
      "        {\n",
      "            CLOSE_SOCKET(connectSocket);\n",
      "        }\n",
      "#ifdef _WIN32\n",
      "        if (wsaDataInit)\n",
      "        {\n",
      "            WSACleanup();\n",
      "        }\n",
      "#endif\n",
      "    }\n",
      "    {\n",
      "        HMODULE hModule;\n",
      "        /* POTENTIAL FLAW: If the path to the library is not specified, an attacker may be able to\n",
      "         * replace his own file with the intended library */\n",
      "        hModule = LoadLibraryA(data);\n",
      "        if (hModule != NULL)\n",
      "        {\n",
      "            FreeLibrary(hModule);\n",
      "            printLine(\"Library loaded and freed successfully\");\n",
      "        }\n",
      "        else\n",
      "        {\n",
      "            printLine(\"Unable to load library\");\n",
      "        }\n",
      "    }\n",
      "}\n",
      "\n",
      "#endif /* OMITBAD */\n",
      "\n",
      "#ifndef OMITGOOD\n",
      "\n",
      "/* goodG2B uses the GoodSource with the BadSink */\n",
      "static void goodG2B()\n",
      "{\n",
      "    char * data;\n",
      "    char dataBuffer[100] = \"\";\n",
      "    data = dataBuffer;\n",
      "    /* FIX: Specify the full pathname for the library */\n",
      "    strcpy(data, \"C:\\\\Windows\\\\System32\\\\winsrv.dll\");\n",
      "    {\n",
      "        HMODULE hModule;\n",
      "        /* POTENTIAL FLAW: If the path to the library is not specified, an attacker may be able to\n",
      "         * replace his own file with the intended library */\n",
      "        hModule = LoadLibraryA(data);\n",
      "        if (hModule != NULL)\n",
      "        {\n",
      "            FreeLibrary(hModule);\n",
      "            printLine(\"Library loaded and freed successfully\");\n",
      "        }\n",
      "        else\n",
      "        {\n",
      "            printLine(\"Unable to load library\");\n",
      "        }\n",
      "    }\n",
      "}\n",
      "\n",
      "void CWE114_Process_Control__w32_char_connect_socket_01_good()\n",
      "{\n",
      "    goodG2B();\n",
      "}\n",
      "\n",
      "#endif /* OMITGOOD */\n",
      "\n",
      "/* Below is the main(). It is only used when building this testcase on\n",
      " * its own for testing or for building a binary to use in testing binary\n",
      " * analysis tools. It is not used when compiling all the testcases as one\n",
      " * application, which is how source code analysis tools are tested.\n",
      " */\n",
      "\n",
      "#ifdef INCLUDEMAIN\n",
      "\n",
      "int main(int argc, char * argv[])\n",
      "{\n",
      "    /* seed randomness */\n",
      "    srand( (unsigned)time(NULL) );\n",
      "#ifndef OMITGOOD\n",
      "    printLine(\"Calling good()...\");\n",
      "    CWE114_Process_Control__w32_char_connect_socket_01_good();\n",
      "    printLine(\"Finished good()\");\n",
      "#endif /* OMITGOOD */\n",
      "#ifndef OMITBAD\n",
      "    printLine(\"Calling bad()...\");\n",
      "    CWE114_Process_Control__w32_char_connect_socket_01_bad();\n",
      "    printLine(\"Finished bad()\");\n",
      "#endif /* OMITBAD */\n",
      "    return 0;\n",
      "}\n",
      "\n",
      "#endif\n",
      "\n"
     ]
    }
   ],
   "source": [
    "print(example.code)"
   ]
  },
  {
   "cell_type": "markdown",
   "metadata": {},
   "source": [
    "Instantiate the clang parser and give it our example. We use `unsaved_files` to tell it to parse a file that doesn't actually exist on disk."
   ]
  },
  {
   "cell_type": "code",
   "execution_count": 15,
   "metadata": {},
   "outputs": [],
   "source": [
    "index = clang.cindex.Index.create()\n",
    "translation_unit = index.parse(path=example.filename, unsaved_files=[(example.filename, example.code)])"
   ]
  },
  {
   "cell_type": "code",
   "execution_count": 17,
   "metadata": {},
   "outputs": [
    {
     "data": {
      "text/plain": [
       "<clang.cindex.TranslationUnit at 0x7f897d498cf8>"
      ]
     },
     "execution_count": 17,
     "metadata": {},
     "output_type": "execute_result"
    }
   ],
   "source": [
    "translation_unit"
   ]
  },
  {
   "cell_type": "markdown",
   "metadata": {},
   "source": [
    "`root` is the root note of the AST. Try to explore and figure out what this all means! It's pretty dense ha"
   ]
  },
  {
   "cell_type": "code",
   "execution_count": 18,
   "metadata": {},
   "outputs": [],
   "source": [
    "root = translation_unit.cursor"
   ]
  },
  {
   "cell_type": "code",
   "execution_count": 21,
   "metadata": {},
   "outputs": [
    {
     "data": {
      "text/plain": [
       "['__class__',\n",
       " '__ctypes_from_outparam__',\n",
       " '__delattr__',\n",
       " '__dict__',\n",
       " '__dir__',\n",
       " '__doc__',\n",
       " '__eq__',\n",
       " '__format__',\n",
       " '__ge__',\n",
       " '__getattribute__',\n",
       " '__gt__',\n",
       " '__hash__',\n",
       " '__init__',\n",
       " '__init_subclass__',\n",
       " '__le__',\n",
       " '__lt__',\n",
       " '__module__',\n",
       " '__ne__',\n",
       " '__new__',\n",
       " '__reduce__',\n",
       " '__reduce_ex__',\n",
       " '__repr__',\n",
       " '__setattr__',\n",
       " '__setstate__',\n",
       " '__sizeof__',\n",
       " '__str__',\n",
       " '__subclasshook__',\n",
       " '__weakref__',\n",
       " '_b_base_',\n",
       " '_b_needsfree_',\n",
       " '_fields_',\n",
       " '_kind_id',\n",
       " '_objects',\n",
       " '_tu',\n",
       " 'access_specifier',\n",
       " 'availability',\n",
       " 'brief_comment',\n",
       " 'canonical',\n",
       " 'data',\n",
       " 'displayname',\n",
       " 'enum_type',\n",
       " 'enum_value',\n",
       " 'exception_specification_kind',\n",
       " 'extent',\n",
       " 'from_cursor_result',\n",
       " 'from_location',\n",
       " 'from_result',\n",
       " 'get_arguments',\n",
       " 'get_bitfield_width',\n",
       " 'get_children',\n",
       " 'get_definition',\n",
       " 'get_field_offsetof',\n",
       " 'get_included_file',\n",
       " 'get_num_template_arguments',\n",
       " 'get_template_argument_kind',\n",
       " 'get_template_argument_type',\n",
       " 'get_template_argument_unsigned_value',\n",
       " 'get_template_argument_value',\n",
       " 'get_tokens',\n",
       " 'get_usr',\n",
       " 'hash',\n",
       " 'is_abstract_record',\n",
       " 'is_anonymous',\n",
       " 'is_bitfield',\n",
       " 'is_const_method',\n",
       " 'is_converting_constructor',\n",
       " 'is_copy_constructor',\n",
       " 'is_default_constructor',\n",
       " 'is_default_method',\n",
       " 'is_definition',\n",
       " 'is_move_constructor',\n",
       " 'is_mutable_field',\n",
       " 'is_pure_virtual_method',\n",
       " 'is_scoped_enum',\n",
       " 'is_static_method',\n",
       " 'is_virtual_method',\n",
       " 'kind',\n",
       " 'lexical_parent',\n",
       " 'linkage',\n",
       " 'location',\n",
       " 'mangled_name',\n",
       " 'objc_type_encoding',\n",
       " 'raw_comment',\n",
       " 'referenced',\n",
       " 'result_type',\n",
       " 'semantic_parent',\n",
       " 'spelling',\n",
       " 'storage_class',\n",
       " 'tls_kind',\n",
       " 'translation_unit',\n",
       " 'type',\n",
       " 'underlying_typedef_type',\n",
       " 'walk_preorder',\n",
       " 'xdata']"
      ]
     },
     "execution_count": 21,
     "metadata": {},
     "output_type": "execute_result"
    }
   ],
   "source": [
    "dir(root)"
   ]
  },
  {
   "cell_type": "code",
   "execution_count": 33,
   "metadata": {},
   "outputs": [],
   "source": [
    "children = list(root.get_children())"
   ]
  },
  {
   "cell_type": "code",
   "execution_count": 40,
   "metadata": {},
   "outputs": [
    {
     "data": {
      "text/plain": [
       "CursorKind.TYPEDEF_DECL"
      ]
     },
     "execution_count": 40,
     "metadata": {},
     "output_type": "execute_result"
    }
   ],
   "source": [
    "children[0].kind"
   ]
  }
 ],
 "metadata": {
  "kernelspec": {
   "display_name": "Python 3",
   "language": "python",
   "name": "python3"
  },
  "language_info": {
   "codemirror_mode": {
    "name": "ipython",
    "version": 3
   },
   "file_extension": ".py",
   "mimetype": "text/x-python",
   "name": "python",
   "nbconvert_exporter": "python",
   "pygments_lexer": "ipython3",
   "version": "3.7.0"
  }
 },
 "nbformat": 4,
 "nbformat_minor": 2
}
