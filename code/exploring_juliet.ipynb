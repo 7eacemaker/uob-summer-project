{
 "cells": [
  {
   "cell_type": "markdown",
   "metadata": {
    "colab_type": "text",
    "id": "view-in-github"
   },
   "source": [
    "<a href=\"https://colab.research.google.com/github/dj311/uob-summer-project/blob/master/code/exploring_juliet.ipynb\" target=\"_parent\"><img src=\"https://colab.research.google.com/assets/colab-badge.svg\" alt=\"Open In Colab\"/></a>"
   ]
  },
  {
   "cell_type": "code",
   "execution_count": 19,
   "metadata": {
    "colab": {},
    "colab_type": "code",
    "id": "QBz0EG_VrhS6"
   },
   "outputs": [],
   "source": [
    "import xml.etree.ElementTree as ElementTree"
   ]
  },
  {
   "cell_type": "code",
   "execution_count": 20,
   "metadata": {
    "colab": {
     "base_uri": "https://localhost:8080/",
     "height": 205
    },
    "colab_type": "code",
    "id": "lC-cvXhDt5iI",
    "outputId": "773c52c2-8d70-4c08-f570-13cab6df5e96"
   },
   "outputs": [],
   "source": [
    "#!git clone https://github.com/dj311/uob-summer-project.git"
   ]
  },
  {
   "cell_type": "markdown",
   "metadata": {
    "colab_type": "text",
    "id": "xKTm0KBctY2f"
   },
   "source": []
  },
  {
   "cell_type": "code",
   "execution_count": 21,
   "metadata": {
    "colab": {},
    "colab_type": "code",
    "id": "cnDezZZNsAhV"
   },
   "outputs": [],
   "source": [
    "tree = ElementTree.parse('../data/juliet-dataset-c-and-cpp/manifest.xml')"
   ]
  },
  {
   "cell_type": "code",
   "execution_count": 22,
   "metadata": {
    "colab": {},
    "colab_type": "code",
    "id": "p9s0vwOZsXMD"
   },
   "outputs": [],
   "source": [
    "root = tree.getroot()"
   ]
  },
  {
   "cell_type": "code",
   "execution_count": 23,
   "metadata": {
    "colab": {
     "base_uri": "https://localhost:8080/",
     "height": 341
    },
    "colab_type": "code",
    "id": "yeUouliQ50yc",
    "outputId": "55501735-b6f6-48d9-87ab-acc10b6779f6"
   },
   "outputs": [],
   "source": [
    "#!cd uob-summer-project && git pull"
   ]
  },
  {
   "cell_type": "code",
   "execution_count": 24,
   "metadata": {
    "colab": {
     "base_uri": "https://localhost:8080/",
     "height": 139
    },
    "colab_type": "code",
    "id": "rPvaLCjssfAp",
    "outputId": "f8578af5-b058-4d1b-def0-3511465453f5"
   },
   "outputs": [],
   "source": [
    "import pandas as pd\n",
    "juliet= pd.DataFrame(columns = ['testcase_ID', 'filename', 'code', 'flaw', 'flaw_loc'])\n",
    "\n",
    "base_directory = '../data/juliet-dataset-c-and-cpp/testcases/'\n",
    "\n",
    "for testcase in root:\n",
    "  for file in testcase:    \n",
    "    for flaw in file:\n",
    "      new_row = {\n",
    "          \"testcase_ID\": testcase.attrib['id'],\n",
    "          \"filename\": file.attrib['path'],\n",
    "          \"code\": None,\n",
    "          \"flaw\": None,\n",
    "          \"flaw_loc\": None,\n",
    "      }\n",
    "      \n",
    "      with open(base_directory + file.attrib['path']) as code_file:\n",
    "        new_row['code'] = code_file.read()\n",
    "        \n",
    "      for mixed in file:\n",
    "        \n",
    "        new_row['flaw'] = mixed.attrib['name'].split(\":\")[0]\n",
    "        new_row['flaw_loc'] = mixed.attrib['line']\n",
    "        \n",
    "      juliet = juliet.append(new_row, ignore_index= True)"
   ]
  },
  {
   "cell_type": "code",
   "execution_count": 25,
   "metadata": {},
   "outputs": [],
   "source": [
    "juliet_df = juliet"
   ]
  },
  {
   "cell_type": "code",
   "execution_count": 13,
   "metadata": {},
   "outputs": [],
   "source": [
    "import pickle\n",
    "with open('./juliet_df.pickle','wb') as f:\n",
    "    pickle.dump(juliet_df, f)"
   ]
  },
  {
   "cell_type": "code",
   "execution_count": 14,
   "metadata": {},
   "outputs": [],
   "source": [
    "juliet_df1 = juliet_df.join(pd.get_dummies(juliet_df.flaw))"
   ]
  },
  {
   "cell_type": "code",
   "execution_count": null,
   "metadata": {},
   "outputs": [],
   "source": [
    "juliet_df1[\"CWE-119\"] = \"\"\n",
    "juliet_df1[\"CWE-120\"] = \"\"\n",
    "juliet_df1[\"CWE-OTHERS\"] = \"\"\n",
    "juliet_df1"
   ]
  },
  {
   "cell_type": "code",
   "execution_count": 28,
   "metadata": {},
   "outputs": [
    {
     "data": {
      "text/html": [
       "<div>\n",
       "<style scoped>\n",
       "    .dataframe tbody tr th:only-of-type {\n",
       "        vertical-align: middle;\n",
       "    }\n",
       "\n",
       "    .dataframe tbody tr th {\n",
       "        vertical-align: top;\n",
       "    }\n",
       "\n",
       "    .dataframe thead th {\n",
       "        text-align: right;\n",
       "    }\n",
       "</style>\n",
       "<table border=\"1\" class=\"dataframe\">\n",
       "  <thead>\n",
       "    <tr style=\"text-align: right;\">\n",
       "      <th></th>\n",
       "      <th>testcase_ID</th>\n",
       "      <th>filename</th>\n",
       "      <th>code</th>\n",
       "      <th>flaw</th>\n",
       "      <th>flaw_loc</th>\n",
       "    </tr>\n",
       "  </thead>\n",
       "  <tbody>\n",
       "    <tr>\n",
       "      <th>0</th>\n",
       "      <td>248716</td>\n",
       "      <td>000/248/716/CWE78_OS_Command_Injection__wchar_...</td>\n",
       "      <td>/* TEMPLATE GENERATED TESTCASE FILE\\nFilename:...</td>\n",
       "      <td>CWE-078</td>\n",
       "      <td>55</td>\n",
       "    </tr>\n",
       "    <tr>\n",
       "      <th>1</th>\n",
       "      <td>248717</td>\n",
       "      <td>000/248/717/CWE78_OS_Command_Injection__wchar_...</td>\n",
       "      <td>/* TEMPLATE GENERATED TESTCASE FILE\\nFilename:...</td>\n",
       "      <td>CWE-078</td>\n",
       "      <td>55</td>\n",
       "    </tr>\n",
       "    <tr>\n",
       "      <th>2</th>\n",
       "      <td>248718</td>\n",
       "      <td>000/248/718/CWE78_OS_Command_Injection__wchar_...</td>\n",
       "      <td>/* TEMPLATE GENERATED TESTCASE FILE\\nFilename:...</td>\n",
       "      <td>CWE-078</td>\n",
       "      <td>55</td>\n",
       "    </tr>\n",
       "    <tr>\n",
       "      <th>3</th>\n",
       "      <td>248719</td>\n",
       "      <td>000/248/719/CWE78_OS_Command_Injection__wchar_...</td>\n",
       "      <td>/* TEMPLATE GENERATED TESTCASE FILE\\nFilename:...</td>\n",
       "      <td>CWE-078</td>\n",
       "      <td>33</td>\n",
       "    </tr>\n",
       "    <tr>\n",
       "      <th>4</th>\n",
       "      <td>248720</td>\n",
       "      <td>000/248/720/CWE78_OS_Command_Injection__wchar_...</td>\n",
       "      <td>/* TEMPLATE GENERATED TESTCASE FILE\\nFilename:...</td>\n",
       "      <td>CWE-078</td>\n",
       "      <td>33</td>\n",
       "    </tr>\n",
       "    <tr>\n",
       "      <th>5</th>\n",
       "      <td>248721</td>\n",
       "      <td>000/248/721/CWE78_OS_Command_Injection__wchar_...</td>\n",
       "      <td>/* TEMPLATE GENERATED TESTCASE FILE\\nFilename:...</td>\n",
       "      <td>CWE-078</td>\n",
       "      <td>137</td>\n",
       "    </tr>\n",
       "    <tr>\n",
       "      <th>6</th>\n",
       "      <td>248722</td>\n",
       "      <td>000/248/722/CWE78_OS_Command_Injection__wchar_...</td>\n",
       "      <td>/* TEMPLATE GENERATED TESTCASE FILE\\nFilename:...</td>\n",
       "      <td>CWE-078</td>\n",
       "      <td>137</td>\n",
       "    </tr>\n",
       "  </tbody>\n",
       "</table>\n",
       "</div>"
      ],
      "text/plain": [
       "  testcase_ID                                           filename  \\\n",
       "0      248716  000/248/716/CWE78_OS_Command_Injection__wchar_...   \n",
       "1      248717  000/248/717/CWE78_OS_Command_Injection__wchar_...   \n",
       "2      248718  000/248/718/CWE78_OS_Command_Injection__wchar_...   \n",
       "3      248719  000/248/719/CWE78_OS_Command_Injection__wchar_...   \n",
       "4      248720  000/248/720/CWE78_OS_Command_Injection__wchar_...   \n",
       "5      248721  000/248/721/CWE78_OS_Command_Injection__wchar_...   \n",
       "6      248722  000/248/722/CWE78_OS_Command_Injection__wchar_...   \n",
       "\n",
       "                                                code     flaw flaw_loc  \n",
       "0  /* TEMPLATE GENERATED TESTCASE FILE\\nFilename:...  CWE-078       55  \n",
       "1  /* TEMPLATE GENERATED TESTCASE FILE\\nFilename:...  CWE-078       55  \n",
       "2  /* TEMPLATE GENERATED TESTCASE FILE\\nFilename:...  CWE-078       55  \n",
       "3  /* TEMPLATE GENERATED TESTCASE FILE\\nFilename:...  CWE-078       33  \n",
       "4  /* TEMPLATE GENERATED TESTCASE FILE\\nFilename:...  CWE-078       33  \n",
       "5  /* TEMPLATE GENERATED TESTCASE FILE\\nFilename:...  CWE-078      137  \n",
       "6  /* TEMPLATE GENERATED TESTCASE FILE\\nFilename:...  CWE-078      137  "
      ]
     },
     "execution_count": 28,
     "metadata": {},
     "output_type": "execute_result"
    }
   ],
   "source": [
    "juliet"
   ]
  },
  {
   "cell_type": "code",
   "execution_count": 146,
   "metadata": {},
   "outputs": [],
   "source": [
    "for i in range(5,127):\n",
    "    juliet_df1.iloc[:,i] = juliet_df1.iloc[:,i].astype(bool)"
   ]
  },
  {
   "cell_type": "code",
   "execution_count": 5,
   "metadata": {},
   "outputs": [
    {
     "ename": "NameError",
     "evalue": "name 'juliet_df1' is not defined",
     "output_type": "error",
     "traceback": [
      "\u001b[0;31m---------------------------------------------------------------------------\u001b[0m",
      "\u001b[0;31mNameError\u001b[0m                                 Traceback (most recent call last)",
      "\u001b[0;32m<ipython-input-5-1ec3e998423f>\u001b[0m in \u001b[0;36m<module>\u001b[0;34m\u001b[0m\n\u001b[0;32m----> 1\u001b[0;31m \u001b[0mjuliet_df1\u001b[0m\u001b[0;34m.\u001b[0m\u001b[0mto_csv\u001b[0m\u001b[0;34m(\u001b[0m\u001b[0;34m'juliet.csv'\u001b[0m\u001b[0;34m)\u001b[0m\u001b[0;34m\u001b[0m\u001b[0;34m\u001b[0m\u001b[0m\n\u001b[0m",
      "\u001b[0;31mNameError\u001b[0m: name 'juliet_df1' is not defined"
     ]
    }
   ],
   "source": [
    "juliet_df1.to_csv('juliet.csv')"
   ]
  },
  {
   "cell_type": "markdown",
   "metadata": {},
   "source": [
    "# Add NO_BUG column\n",
    "Add a column to indicate there are no bugs:"
   ]
  },
  {
   "cell_type": "code",
   "execution_count": 29,
   "metadata": {},
   "outputs": [],
   "source": [
    "juliet = pd.read_csv(\"../data/juliet.csv.zip\")"
   ]
  },
  {
   "cell_type": "code",
   "execution_count": 30,
   "metadata": {},
   "outputs": [],
   "source": [
    "juliet['no_bug'] = ''"
   ]
  },
  {
   "cell_type": "code",
   "execution_count": null,
   "metadata": {},
   "outputs": [],
   "source": [
    "juliet['no_bug'] = juliet.apply(\n",
    "    lamba\n",
    ")"
   ]
  },
  {
   "cell_type": "code",
   "execution_count": 32,
   "metadata": {},
   "outputs": [
    {
     "name": "stdout",
     "output_type": "stream",
     "text": [
      "/* TEMPLATE GENERATED TESTCASE FILE\n",
      "Filename: CWE114_Process_Control__w32_char_connect_socket_01.c\n",
      "Label Definition File: CWE114_Process_Control__w32.label.xml\n",
      "Template File: sources-sink-01.tmpl.c\n",
      "*/\n",
      "/*\n",
      " * @description\n",
      " * CWE: 114 Process Control\n",
      " * BadSource: connect_socket Read data using a connect socket (client side)\n",
      " * GoodSource: Hard code the full pathname to the library\n",
      " * Sink:\n",
      " *    BadSink : Load a dynamic link library\n",
      " * Flow Variant: 01 Baseline\n",
      " *\n",
      " * */\n",
      "\n",
      "#include \"std_testcase.h\"\n",
      "\n",
      "#include <wchar.h>\n",
      "\n",
      "#ifdef _WIN32\n",
      "#include <winsock2.h>\n",
      "#include <windows.h>\n",
      "#include <direct.h>\n",
      "#pragma comment(lib, \"ws2_32\") /* include ws2_32.lib when linking */\n",
      "#define CLOSE_SOCKET closesocket\n",
      "#else /* NOT _WIN32 */\n",
      "#include <sys/types.h>\n",
      "#include <sys/socket.h>\n",
      "#include <netinet/in.h>\n",
      "#include <arpa/inet.h>\n",
      "#include <unistd.h>\n",
      "#define INVALID_SOCKET -1\n",
      "#define SOCKET_ERROR -1\n",
      "#define CLOSE_SOCKET close\n",
      "#define SOCKET int\n",
      "#endif\n",
      "\n",
      "#define TCP_PORT 27015\n",
      "#define IP_ADDRESS \"127.0.0.1\"\n",
      "\n",
      "\n",
      "#ifndef OMITBAD\n",
      "\n",
      "void CWE114_Process_Control__w32_char_connect_socket_01_bad()\n",
      "{\n",
      "    char * data;\n",
      "    char dataBuffer[100] = \"\";\n",
      "    data = dataBuffer;\n",
      "    {\n",
      "#ifdef _WIN32\n",
      "        WSADATA wsaData;\n",
      "        int wsaDataInit = 0;\n",
      "#endif\n",
      "        int recvResult;\n",
      "        struct sockaddr_in service;\n",
      "        char *replace;\n",
      "        SOCKET connectSocket = INVALID_SOCKET;\n",
      "        size_t dataLen = strlen(data);\n",
      "        do\n",
      "        {\n",
      "#ifdef _WIN32\n",
      "            if (WSAStartup(MAKEWORD(2,2), &wsaData) != NO_ERROR)\n",
      "            {\n",
      "                break;\n",
      "            }\n",
      "            wsaDataInit = 1;\n",
      "#endif\n",
      "            /* POTENTIAL FLAW: Read data using a connect socket */\n",
      "            connectSocket = socket(AF_INET, SOCK_STREAM, IPPROTO_TCP);\n",
      "            if (connectSocket == INVALID_SOCKET)\n",
      "            {\n",
      "                break;\n",
      "            }\n",
      "            memset(&service, 0, sizeof(service));\n",
      "            service.sin_family = AF_INET;\n",
      "            service.sin_addr.s_addr = inet_addr(IP_ADDRESS);\n",
      "            service.sin_port = htons(TCP_PORT);\n",
      "            if (connect(connectSocket, (struct sockaddr*)&service, sizeof(service)) == SOCKET_ERROR)\n",
      "            {\n",
      "                break;\n",
      "            }\n",
      "            /* Abort on error or the connection was closed, make sure to recv one\n",
      "             * less char than is in the recv_buf in order to append a terminator */\n",
      "            /* Abort on error or the connection was closed */\n",
      "            recvResult = recv(connectSocket, (char *)(data + dataLen), sizeof(char) * (100 - dataLen - 1), 0);\n",
      "            if (recvResult == SOCKET_ERROR || recvResult == 0)\n",
      "            {\n",
      "                break;\n",
      "            }\n",
      "            /* Append null terminator */\n",
      "            data[dataLen + recvResult / sizeof(char)] = '\\0';\n",
      "            /* Eliminate CRLF */\n",
      "            replace = strchr(data, '\\r');\n",
      "            if (replace)\n",
      "            {\n",
      "                *replace = '\\0';\n",
      "            }\n",
      "            replace = strchr(data, '\\n');\n",
      "            if (replace)\n",
      "            {\n",
      "                *replace = '\\0';\n",
      "            }\n",
      "        }\n",
      "        while (0);\n",
      "        if (connectSocket != INVALID_SOCKET)\n",
      "        {\n",
      "            CLOSE_SOCKET(connectSocket);\n",
      "        }\n",
      "#ifdef _WIN32\n",
      "        if (wsaDataInit)\n",
      "        {\n",
      "            WSACleanup();\n",
      "        }\n",
      "#endif\n",
      "    }\n",
      "    {\n",
      "        HMODULE hModule;\n",
      "        /* POTENTIAL FLAW: If the path to the library is not specified, an attacker may be able to\n",
      "         * replace his own file with the intended library */\n",
      "        hModule = LoadLibraryA(data);\n",
      "        if (hModule != NULL)\n",
      "        {\n",
      "            FreeLibrary(hModule);\n",
      "            printLine(\"Library loaded and freed successfully\");\n",
      "        }\n",
      "        else\n",
      "        {\n",
      "            printLine(\"Unable to load library\");\n",
      "        }\n",
      "    }\n",
      "}\n",
      "\n",
      "#endif /* OMITBAD */\n",
      "\n",
      "#ifndef OMITGOOD\n",
      "\n",
      "/* goodG2B uses the GoodSource with the BadSink */\n",
      "static void goodG2B()\n",
      "{\n",
      "    char * data;\n",
      "    char dataBuffer[100] = \"\";\n",
      "    data = dataBuffer;\n",
      "    /* FIX: Specify the full pathname for the library */\n",
      "    strcpy(data, \"C:\\\\Windows\\\\System32\\\\winsrv.dll\");\n",
      "    {\n",
      "        HMODULE hModule;\n",
      "        /* POTENTIAL FLAW: If the path to the library is not specified, an attacker may be able to\n",
      "         * replace his own file with the intended library */\n",
      "        hModule = LoadLibraryA(data);\n",
      "        if (hModule != NULL)\n",
      "        {\n",
      "            FreeLibrary(hModule);\n",
      "            printLine(\"Library loaded and freed successfully\");\n",
      "        }\n",
      "        else\n",
      "        {\n",
      "            printLine(\"Unable to load library\");\n",
      "        }\n",
      "    }\n",
      "}\n",
      "\n",
      "void CWE114_Process_Control__w32_char_connect_socket_01_good()\n",
      "{\n",
      "    goodG2B();\n",
      "}\n",
      "\n",
      "#endif /* OMITGOOD */\n",
      "\n",
      "/* Below is the main(). It is only used when building this testcase on\n",
      " * its own for testing or for building a binary to use in testing binary\n",
      " * analysis tools. It is not used when compiling all the testcases as one\n",
      " * application, which is how source code analysis tools are tested.\n",
      " */\n",
      "\n",
      "#ifdef INCLUDEMAIN\n",
      "\n",
      "int main(int argc, char * argv[])\n",
      "{\n",
      "    /* seed randomness */\n",
      "    srand( (unsigned)time(NULL) );\n",
      "#ifndef OMITGOOD\n",
      "    printLine(\"Calling good()...\");\n",
      "    CWE114_Process_Control__w32_char_connect_socket_01_good();\n",
      "    printLine(\"Finished good()\");\n",
      "#endif /* OMITGOOD */\n",
      "#ifndef OMITBAD\n",
      "    printLine(\"Calling bad()...\");\n",
      "    CWE114_Process_Control__w32_char_connect_socket_01_bad();\n",
      "    printLine(\"Finished bad()\");\n",
      "#endif /* OMITBAD */\n",
      "    return 0;\n",
      "}\n",
      "\n",
      "#endif\n",
      "\n"
     ]
    }
   ],
   "source": [
    "print(juliet.iloc[0].code)"
   ]
  },
  {
   "cell_type": "markdown",
   "metadata": {},
   "source": [
    "If bad: we pretend OMITGOOD is defined, so we delete what is in #ifndef OMITGOOD ... #endif /* OMITGOOD *\n",
    "If good: we pretend OMITBAD is defined, so we delete what is in #ifndef OMITBAD ... #endif /* OMITBAD */"
   ]
  },
  {
   "cell_type": "code",
   "execution_count": null,
   "metadata": {},
   "outputs": [],
   "source": []
  }
 ],
 "metadata": {
  "colab": {
   "include_colab_link": true,
   "name": "exploring-juliet.ipynb",
   "provenance": [],
   "version": "0.3.2"
  },
  "kernelspec": {
   "display_name": "Python 3",
   "language": "python",
   "name": "python3"
  },
  "language_info": {
   "codemirror_mode": {
    "name": "ipython",
    "version": 3
   },
   "file_extension": ".py",
   "mimetype": "text/x-python",
   "name": "python",
   "nbconvert_exporter": "python",
   "pygments_lexer": "ipython3",
   "version": "3.7.3"
  },
  "toc": {
   "base_numbering": 1,
   "nav_menu": {},
   "number_sections": true,
   "sideBar": true,
   "skip_h1_title": false,
   "title_cell": "Table of Contents",
   "title_sidebar": "Contents",
   "toc_cell": false,
   "toc_position": {},
   "toc_section_display": true,
   "toc_window_display": false
  }
 },
 "nbformat": 4,
 "nbformat_minor": 1
}
