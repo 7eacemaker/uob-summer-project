{
  "nbformat": 4,
  "nbformat_minor": 0,
  "metadata": {
    "colab": {
      "name": "exploring-juliet.ipynb",
      "version": "0.3.2",
      "provenance": [],
      "include_colab_link": true
    },
    "kernelspec": {
      "name": "python3",
      "display_name": "Python 3"
    }
  },
  "cells": [
    {
      "cell_type": "markdown",
      "metadata": {
        "id": "view-in-github",
        "colab_type": "text"
      },
      "source": [
        "<a href=\"https://colab.research.google.com/github/dj311/uob-summer-project/blob/master/code/exploring_juliet.ipynb\" target=\"_parent\"><img src=\"https://colab.research.google.com/assets/colab-badge.svg\" alt=\"Open In Colab\"/></a>"
      ]
    },
    {
      "cell_type": "code",
      "metadata": {
        "id": "QBz0EG_VrhS6",
        "colab_type": "code",
        "colab": {}
      },
      "source": [
        "import xml.etree.ElementTree as ElementTree"
      ],
      "execution_count": 0,
      "outputs": []
    },
    {
      "cell_type": "code",
      "metadata": {
        "id": "lC-cvXhDt5iI",
        "colab_type": "code",
        "outputId": "773c52c2-8d70-4c08-f570-13cab6df5e96",
        "colab": {
          "base_uri": "https://localhost:8080/",
          "height": 205
        }
      },
      "source": [
        "!git clone https://github.com/dj311/uob-summer-project.git"
      ],
      "execution_count": 1,
      "outputs": [
        {
          "output_type": "stream",
          "text": [
            "Cloning into 'uob-summer-project'...\n",
            "remote: Enumerating objects: 8292, done.\u001b[K\n",
            "remote: Counting objects: 100% (8292/8292), done.\u001b[K\n",
            "remote: Compressing objects: 100% (619/619), done.\u001b[K\n",
            "remote: Total 8292 (delta 7698), reused 8230 (delta 7668), pack-reused 0\u001b[K\n",
            "Receiving objects: 100% (8292/8292), 2.83 MiB | 13.24 MiB/s, done.\n",
            "Resolving deltas: 100% (7698/7698), done.\n"
          ],
          "name": "stdout"
        }
      ]
    },
    {
      "cell_type": "markdown",
      "metadata": {
        "id": "xKTm0KBctY2f",
        "colab_type": "text"
      },
      "source": [
        ""
      ]
    },
    {
      "cell_type": "code",
      "metadata": {
        "id": "cnDezZZNsAhV",
        "colab_type": "code",
        "colab": {}
      },
      "source": [
        "tree = ElementTree.parse('uob-summer-project/data/juliet-dataset-c-and-cpp/manifest.xml')"
      ],
      "execution_count": 0,
      "outputs": []
    },
    {
      "cell_type": "code",
      "metadata": {
        "id": "p9s0vwOZsXMD",
        "colab_type": "code",
        "colab": {}
      },
      "source": [
        "root = tree.getroot()"
      ],
      "execution_count": 0,
      "outputs": []
    },
    {
      "cell_type": "code",
      "metadata": {
        "id": "-hcFBdjfyMzK",
        "colab_type": "code",
        "outputId": "7ab69bc2-667b-4a79-8415-86546b537c91",
        "colab": {
          "base_uri": "https://localhost:8080/",
          "height": 146
        }
      },
      "source": [
        "import pandas as pd\n",
        "juliet= pd.DataFrame()\n",
        "juliet.colunms = ['testcase_ID', 'filename', 'code', 'flaw', 'flaw_loc']\n",
        "juliet"
      ],
      "execution_count": 39,
      "outputs": [
        {
          "output_type": "stream",
          "text": [
            "/usr/local/lib/python3.6/dist-packages/ipykernel_launcher.py:3: UserWarning: Pandas doesn't allow columns to be created via a new attribute name - see https://pandas.pydata.org/pandas-docs/stable/indexing.html#attribute-access\n",
            "  This is separate from the ipykernel package so we can avoid doing imports until\n"
          ],
          "name": "stderr"
        },
        {
          "output_type": "execute_result",
          "data": {
            "text/html": [
              "<div>\n",
              "<style scoped>\n",
              "    .dataframe tbody tr th:only-of-type {\n",
              "        vertical-align: middle;\n",
              "    }\n",
              "\n",
              "    .dataframe tbody tr th {\n",
              "        vertical-align: top;\n",
              "    }\n",
              "\n",
              "    .dataframe thead th {\n",
              "        text-align: right;\n",
              "    }\n",
              "</style>\n",
              "<table border=\"1\" class=\"dataframe\">\n",
              "  <thead>\n",
              "    <tr style=\"text-align: right;\">\n",
              "      <th></th>\n",
              "    </tr>\n",
              "  </thead>\n",
              "  <tbody>\n",
              "  </tbody>\n",
              "</table>\n",
              "</div>"
            ],
            "text/plain": [
              "Empty DataFrame\n",
              "Columns: []\n",
              "Index: []"
            ]
          },
          "metadata": {
            "tags": []
          },
          "execution_count": 39
        }
      ]
    },
    {
      "cell_type": "code",
      "metadata": {
        "id": "yeUouliQ50yc",
        "colab_type": "code",
        "colab": {
          "base_uri": "https://localhost:8080/",
          "height": 341
        },
        "outputId": "55501735-b6f6-48d9-87ab-acc10b6779f6"
      },
      "source": [
        "!cd uob-summer-project && git pull"
      ],
      "execution_count": 35,
      "outputs": [
        {
          "output_type": "stream",
          "text": [
            "remote: Enumerating objects: 18, done.\u001b[K\n",
            "remote: Counting objects:   5% (1/18)   \u001b[K\rremote: Counting objects:  11% (2/18)   \u001b[K\rremote: Counting objects:  16% (3/18)   \u001b[K\rremote: Counting objects:  22% (4/18)   \u001b[K\rremote: Counting objects:  27% (5/18)   \u001b[K\rremote: Counting objects:  33% (6/18)   \u001b[K\rremote: Counting objects:  38% (7/18)   \u001b[K\rremote: Counting objects:  44% (8/18)   \u001b[K\rremote: Counting objects:  50% (9/18)   \u001b[K\rremote: Counting objects:  55% (10/18)   \u001b[K\rremote: Counting objects:  61% (11/18)   \u001b[K\rremote: Counting objects:  66% (12/18)   \u001b[K\rremote: Counting objects:  72% (13/18)   \u001b[K\rremote: Counting objects:  77% (14/18)   \u001b[K\rremote: Counting objects:  83% (15/18)   \u001b[K\rremote: Counting objects:  88% (16/18)   \u001b[K\rremote: Counting objects:  94% (17/18)   \u001b[K\rremote: Counting objects: 100% (18/18)   \u001b[K\rremote: Counting objects: 100% (18/18), done.\u001b[K\n",
            "remote: Compressing objects:  12% (1/8)   \u001b[K\rremote: Compressing objects:  25% (2/8)   \u001b[K\rremote: Compressing objects:  37% (3/8)   \u001b[K\rremote: Compressing objects:  50% (4/8)   \u001b[K\rremote: Compressing objects:  62% (5/8)   \u001b[K\rremote: Compressing objects:  75% (6/8)   \u001b[K\rremote: Compressing objects:  87% (7/8)   \u001b[K\rremote: Compressing objects: 100% (8/8)   \u001b[K\rremote: Compressing objects: 100% (8/8), done.\u001b[K\n",
            "remote: Total 11 (delta 2), reused 11 (delta 2), pack-reused 0\u001b[K\n",
            "Unpacking objects:   9% (1/11)   \rUnpacking objects:  18% (2/11)   \rUnpacking objects:  27% (3/11)   \rUnpacking objects:  36% (4/11)   \rUnpacking objects:  45% (5/11)   \rUnpacking objects:  54% (6/11)   \rUnpacking objects:  63% (7/11)   \rUnpacking objects:  72% (8/11)   \rUnpacking objects:  81% (9/11)   \rUnpacking objects:  90% (10/11)   \rUnpacking objects: 100% (11/11)   \rUnpacking objects: 100% (11/11), done.\n",
            "From https://github.com/dj311/uob-summer-project\n",
            "   0cf864a..8ba63df  master     -> origin/master\n",
            "Updating 0cf864a..8ba63df\n",
            "Fast-forward\n",
            " data/juliet-dataset-c-and-cpp/manifest.xml         |  87 \u001b[32m++++++\u001b[m\u001b[31m--\u001b[m\n",
            " ...tion__wchar_t_listen_socket_w32_spawnvp_72a.cpp | 219 \u001b[32m+++++++++++++++++++++\u001b[m\n",
            " ...tion__wchar_t_listen_socket_w32_spawnvp_72b.cpp |  78 \u001b[32m++++++++\u001b[m\n",
            " 3 files changed, 366 insertions(+), 18 deletions(-)\n",
            " create mode 100644 data/juliet-dataset-c-and-cpp/testcases/000/248/716/CWE78_OS_Command_Injection__wchar_t_listen_socket_w32_spawnvp_72a.cpp\n",
            " create mode 100644 data/juliet-dataset-c-and-cpp/testcases/000/248/716/CWE78_OS_Command_Injection__wchar_t_listen_socket_w32_spawnvp_72b.cpp\n"
          ],
          "name": "stdout"
        }
      ]
    },
    {
      "cell_type": "code",
      "metadata": {
        "id": "rPvaLCjssfAp",
        "colab_type": "code",
        "outputId": "f8578af5-b058-4d1b-def0-3511465453f5",
        "colab": {
          "base_uri": "https://localhost:8080/",
          "height": 139
        }
      },
      "source": [
        "base_directory = './uob-summer-project/data/juliet-dataset-c-and-cpp/testcases/'\n",
        "\n",
        "for testcase in root[1:10]:\n",
        "  for file in testcase:    \n",
        "    for flaw in file:\n",
        "      print(file.attrib['path'])\n",
        "      new_row = {\n",
        "          \"testcase_ID\": testcase.attrib['id'],\n",
        "          \"filename\": file.attrib['path'],\n",
        "          \"code\": None,\n",
        "          \"flaw\": None,\n",
        "          \"flaw_loc\": None,\n",
        "      }\n",
        "      \n",
        "      with open(base_directory + file.attrib['path']) as code_file:\n",
        "        new_row['code'] = code_file.read()\n",
        "        \n",
        "      for mixed in file:\n",
        "        new_row['flaw'] = mixed.attrib['name']\n",
        "        new_row['flaw_loc'] = mixed.attrib['line']\n",
        "        \n",
        "      juliet = juliet.append(new_row, ignore_index= True)\n",
        "\n"
      ],
      "execution_count": 40,
      "outputs": [
        {
          "output_type": "stream",
          "text": [
            "000/248/717/CWE78_OS_Command_Injection__wchar_t_listen_socket_w32_spawnvp_73b.cpp\n",
            "000/248/718/CWE78_OS_Command_Injection__wchar_t_listen_socket_w32_spawnvp_74b.cpp\n",
            "000/248/719/CWE78_OS_Command_Injection__wchar_t_listen_socket_w32_spawnvp_81_bad.cpp\n",
            "000/248/720/CWE78_OS_Command_Injection__wchar_t_listen_socket_w32_spawnvp_82_bad.cpp\n",
            "000/248/721/CWE78_OS_Command_Injection__wchar_t_listen_socket_w32_spawnvp_83_bad.cpp\n",
            "000/248/722/CWE78_OS_Command_Injection__wchar_t_listen_socket_w32_spawnvp_84_bad.cpp\n"
          ],
          "name": "stdout"
        }
      ]
    },
    {
      "cell_type": "code",
      "metadata": {
        "id": "u9icngNG7dPQ",
        "colab_type": "code",
        "colab": {
          "base_uri": "https://localhost:8080/",
          "height": 663
        },
        "outputId": "1ffb5d7b-ac4f-499f-9e8c-608ebdb6333c"
      },
      "source": [
        "juliet[fime]"
      ],
      "execution_count": 41,
      "outputs": [
        {
          "output_type": "execute_result",
          "data": {
            "text/html": [
              "<div>\n",
              "<style scoped>\n",
              "    .dataframe tbody tr th:only-of-type {\n",
              "        vertical-align: middle;\n",
              "    }\n",
              "\n",
              "    .dataframe tbody tr th {\n",
              "        vertical-align: top;\n",
              "    }\n",
              "\n",
              "    .dataframe thead th {\n",
              "        text-align: right;\n",
              "    }\n",
              "</style>\n",
              "<table border=\"1\" class=\"dataframe\">\n",
              "  <thead>\n",
              "    <tr style=\"text-align: right;\">\n",
              "      <th></th>\n",
              "      <th>code</th>\n",
              "      <th>filename</th>\n",
              "      <th>flaw</th>\n",
              "      <th>flaw_loc</th>\n",
              "      <th>testcase_ID</th>\n",
              "    </tr>\n",
              "  </thead>\n",
              "  <tbody>\n",
              "    <tr>\n",
              "      <th>0</th>\n",
              "      <td>/* TEMPLATE GENERATED TESTCASE FILE\\nFilename:...</td>\n",
              "      <td>000/248/717/CWE78_OS_Command_Injection__wchar_...</td>\n",
              "      <td>CWE-078: Improper Neutralization of Special El...</td>\n",
              "      <td>55</td>\n",
              "      <td>248717</td>\n",
              "    </tr>\n",
              "    <tr>\n",
              "      <th>1</th>\n",
              "      <td>/* TEMPLATE GENERATED TESTCASE FILE\\nFilename:...</td>\n",
              "      <td>000/248/718/CWE78_OS_Command_Injection__wchar_...</td>\n",
              "      <td>CWE-078: Improper Neutralization of Special El...</td>\n",
              "      <td>55</td>\n",
              "      <td>248718</td>\n",
              "    </tr>\n",
              "    <tr>\n",
              "      <th>2</th>\n",
              "      <td>/* TEMPLATE GENERATED TESTCASE FILE\\nFilename:...</td>\n",
              "      <td>000/248/719/CWE78_OS_Command_Injection__wchar_...</td>\n",
              "      <td>CWE-078: Improper Neutralization of Special El...</td>\n",
              "      <td>33</td>\n",
              "      <td>248719</td>\n",
              "    </tr>\n",
              "    <tr>\n",
              "      <th>3</th>\n",
              "      <td>/* TEMPLATE GENERATED TESTCASE FILE\\nFilename:...</td>\n",
              "      <td>000/248/720/CWE78_OS_Command_Injection__wchar_...</td>\n",
              "      <td>CWE-078: Improper Neutralization of Special El...</td>\n",
              "      <td>33</td>\n",
              "      <td>248720</td>\n",
              "    </tr>\n",
              "    <tr>\n",
              "      <th>4</th>\n",
              "      <td>/* TEMPLATE GENERATED TESTCASE FILE\\nFilename:...</td>\n",
              "      <td>000/248/721/CWE78_OS_Command_Injection__wchar_...</td>\n",
              "      <td>CWE-078: Improper Neutralization of Special El...</td>\n",
              "      <td>137</td>\n",
              "      <td>248721</td>\n",
              "    </tr>\n",
              "    <tr>\n",
              "      <th>5</th>\n",
              "      <td>/* TEMPLATE GENERATED TESTCASE FILE\\nFilename:...</td>\n",
              "      <td>000/248/722/CWE78_OS_Command_Injection__wchar_...</td>\n",
              "      <td>CWE-078: Improper Neutralization of Special El...</td>\n",
              "      <td>137</td>\n",
              "      <td>248722</td>\n",
              "    </tr>\n",
              "  </tbody>\n",
              "</table>\n",
              "</div>"
            ],
            "text/plain": [
              "                                                code  ... testcase_ID\n",
              "0  /* TEMPLATE GENERATED TESTCASE FILE\\nFilename:...  ...      248717\n",
              "1  /* TEMPLATE GENERATED TESTCASE FILE\\nFilename:...  ...      248718\n",
              "2  /* TEMPLATE GENERATED TESTCASE FILE\\nFilename:...  ...      248719\n",
              "3  /* TEMPLATE GENERATED TESTCASE FILE\\nFilename:...  ...      248720\n",
              "4  /* TEMPLATE GENERATED TESTCASE FILE\\nFilename:...  ...      248721\n",
              "5  /* TEMPLATE GENERATED TESTCASE FILE\\nFilename:...  ...      248722\n",
              "\n",
              "[6 rows x 5 columns]"
            ]
          },
          "metadata": {
            "tags": []
          },
          "execution_count": 41
        }
      ]
    },
    {
      "cell_type": "code",
      "metadata": {
        "id": "dRkSqhwj94b1",
        "colab_type": "code",
        "colab": {
          "base_uri": "https://localhost:8080/",
          "height": 137
        },
        "outputId": "7e530963-a9e4-467a-d406-ce5b7c0770e2"
      },
      "source": [
        "!pip install h5py"
      ],
      "execution_count": 42,
      "outputs": [
        {
          "output_type": "stream",
          "text": [
            "Requirement already satisfied: h5py in /usr/local/lib/python3.6/dist-packages (2.8.0)\n",
            "Requirement already satisfied: six in /usr/local/lib/python3.6/dist-packages (from h5py) (1.12.0)\n",
            "Requirement already satisfied: numpy>=1.7 in /usr/local/lib/python3.6/dist-packages (from h5py) (1.16.4)\n"
          ],
          "name": "stdout"
        }
      ]
    },
    {
      "cell_type": "code",
      "metadata": {
        "id": "E27dRXFx_T2C",
        "colab_type": "code",
        "colab": {
          "base_uri": "https://localhost:8080/",
          "height": 1462
        },
        "outputId": "35c99d12-6efd-4bbf-b70d-68e2840d0364"
      },
      "source": [
        "import h5py\n",
        "help(h5py)\n"
      ],
      "execution_count": 44,
      "outputs": [
        {
          "output_type": "stream",
          "text": [
            "Help on package h5py:\n",
            "\n",
            "NAME\n",
            "    h5py\n",
            "\n",
            "DESCRIPTION\n",
            "    This is the h5py package, a Python interface to the HDF5\n",
            "    scientific data format.\n",
            "\n",
            "PACKAGE CONTENTS\n",
            "    _conv\n",
            "    _errors\n",
            "    _hl (package)\n",
            "    _objects\n",
            "    _proxy\n",
            "    defs\n",
            "    h5\n",
            "    h5a\n",
            "    h5ac\n",
            "    h5d\n",
            "    h5ds\n",
            "    h5f\n",
            "    h5fd\n",
            "    h5g\n",
            "    h5i\n",
            "    h5l\n",
            "    h5o\n",
            "    h5p\n",
            "    h5py_warnings\n",
            "    h5r\n",
            "    h5s\n",
            "    h5t\n",
            "    h5z\n",
            "    highlevel\n",
            "    ipy_completer\n",
            "    tests (package)\n",
            "    utils\n",
            "    version\n",
            "\n",
            "SUBMODULES\n",
            "    filters\n",
            "\n",
            "FUNCTIONS\n",
            "    enable_ipython_completer()\n",
            "        Call this from an interactive IPython session to enable tab-completion\n",
            "        of group and attribute names.\n",
            "    \n",
            "    get_config(...)\n",
            "        () => H5PYConfig\n",
            "        \n",
            "        Get a reference to the global library configuration object.\n",
            "    \n",
            "    get_enum = py_get_enum(...)\n",
            "        (DTYPE dt_in) => DICT\n",
            "        \n",
            "        Deprecated; use check_dtype() instead.\n",
            "    \n",
            "    get_vlen = py_get_vlen(...)\n",
            "        (OBJECT dt_in) => TYPE\n",
            "        \n",
            "        Deprecated; use check_dtype() instead.\n",
            "    \n",
            "    new_enum = py_new_enum(...)\n",
            "        (DTYPE dt_in, DICT enum_vals) => DTYPE\n",
            "        \n",
            "        Deprecated; use special_dtype() instead.\n",
            "    \n",
            "    new_vlen = py_new_vlen(...)\n",
            "        (OBJECT kind) => DTYPE\n",
            "        \n",
            "        Deprecated; use special_dtype() instead.\n",
            "    \n",
            "    run_tests(verbose=False)\n",
            "        Run tests with TextTestRunner and returns a TestResult instance.\n",
            "\n",
            "DATA\n",
            "    absolute_import = _Feature((2, 5, 0, 'alpha', 1), (3, 0, 0, 'alpha', 0...\n",
            "\n",
            "VERSION\n",
            "    2.8.0\n",
            "\n",
            "FILE\n",
            "    /usr/local/lib/python3.6/dist-packages/h5py/__init__.py\n",
            "\n",
            "\n"
          ],
          "name": "stdout"
        }
      ]
    },
    {
      "cell_type": "code",
      "metadata": {
        "id": "m3V4sf6WAKab",
        "colab_type": "code",
        "colab": {}
      },
      "source": [
        "!wget -o data.hdf5 \"https://files.osf.io/v1/resources/d45bw/providers/osfstorage/5bf34e965603840019b1bdd2?action=download&version=1&direct\""
      ],
      "execution_count": 0,
      "outputs": []
    },
    {
      "cell_type": "code",
      "metadata": {
        "id": "gVR1nKD4Af7u",
        "colab_type": "code",
        "colab": {
          "base_uri": "https://localhost:8080/",
          "height": 34
        },
        "outputId": "4bc7950d-b5ad-44a1-e234-18c5a909d860"
      },
      "source": [
        "import h5py\n",
        "import numpy as np\n",
        "\n",
        "arr = np.random.randn(1000)\n",
        "\n",
        "with h5py.File('data.hdf5', 'w') as f:\n",
        "    dset = f.create_dataset(\"default\", data=arr)\n",
        "    \n",
        "    \n",
        "dset"
      ],
      "execution_count": 63,
      "outputs": [
        {
          "output_type": "execute_result",
          "data": {
            "text/plain": [
              "<Closed HDF5 dataset>"
            ]
          },
          "metadata": {
            "tags": []
          },
          "execution_count": 63
        }
      ]
    }
  ]
}