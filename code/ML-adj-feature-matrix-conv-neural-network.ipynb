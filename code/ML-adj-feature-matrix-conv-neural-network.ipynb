{
  "nbformat": 4,
  "nbformat_minor": 0,
  "metadata": {
    "accelerator": "GPU",
    "colab": {
      "name": "Copy of ML-adj-feature-matrix-conv-neural-network.ipynb",
      "version": "0.3.2",
      "provenance": [],
      "collapsed_sections": [],
      "toc_visible": true,
      "machine_shape": "hm",
      "include_colab_link": true
    },
    "kernelspec": {
      "name": "python3",
      "display_name": "Python 3"
    },
    "language_info": {
      "codemirror_mode": {
        "name": "ipython",
        "version": 3
      },
      "file_extension": ".py",
      "mimetype": "text/x-python",
      "name": "python",
      "nbconvert_exporter": "python",
      "pygments_lexer": "ipython3",
      "version": "3.6.8"
    },
    "toc": {
      "base_numbering": 1,
      "nav_menu": {},
      "number_sections": true,
      "sideBar": true,
      "skip_h1_title": false,
      "title_cell": "Table of Contents",
      "title_sidebar": "Contents",
      "toc_cell": false,
      "toc_position": {},
      "toc_section_display": true,
      "toc_window_display": false
    }
  },
  "cells": [
    {
      "cell_type": "markdown",
      "metadata": {
        "id": "view-in-github",
        "colab_type": "text"
      },
      "source": [
        "<a href=\"https://colab.research.google.com/github/dj311/uob-summer-project/blob/master/code/ML-adj-feature-matrix-conv-neural-network.ipynb\" target=\"_parent\"><img src=\"https://colab.research.google.com/assets/colab-badge.svg\" alt=\"Open In Colab\"/></a>"
      ]
    },
    {
      "cell_type": "markdown",
      "metadata": {
        "colab_type": "text",
        "id": "WD7BVc9Bk8jQ"
      },
      "source": [
        "Notebook for training and testing a neural network model using an adjacency and feature matrix represention of the buffer overflow datapoints in an AST format. \n",
        "\n",
        "First, the data is padded with zeros in a standardized format - from the right and down.\n",
        "\n",
        "Next, we incorporate random padding on the matrices in the testing dataset. \n",
        "\n",
        "Then, we randomly pad both the training and testing dataset.\n",
        "\n",
        "Finally, we train the model on randomly padded data and test on standardized padded data. "
      ]
    },
    {
      "cell_type": "markdown",
      "metadata": {
        "colab_type": "text",
        "id": "K4oesAZzmRhL"
      },
      "source": [
        "# Colab Setup"
      ]
    },
    {
      "cell_type": "code",
      "metadata": {
        "colab_type": "code",
        "id": "W3hzFsJWtCn-",
        "outputId": "980c2802-5189-4e4a-c947-5c91f24d8666",
        "colab": {
          "base_uri": "https://localhost:8080/",
          "height": 1000
        }
      },
      "source": [
        "!mkdir -p /project/data && cd /project/data && wget -O adj.pickle https://github.com/dj311/uob-summer-project/raw/master/data/adj.pickle\n",
        "!mkdir -p /project/data && cd /project/data && wget -O adjacency-feature-matrix-random-padding-model-binary.pickle https://github.com/dj311/uob-summer-project/raw/master/data/adjacency-feature-matrix-random-padding-model-binary.pickle\n",
        "!mkdir -p /project/data && cd /project/data && wget -O adjacency-feature-matrix-model-binary.pickle https://github.com/dj311/uob-summer-project/raw/master/data/adjacency-feature-matrix-model-binary.pickle\n",
        "!mkdir -p /project/data && cd /project/data && wget -O buffer_overflow_data.csv.gz https://github.com/dj311/uob-summer-project/raw/master/data/buffer_overflow_data.csv.gz\n",
        "!mkdir -p /project/data && cd /project/data && wget -O adjacency-matrix-model-binary.pickle https://github.com/dj311/uob-summer-project/raw/master/data/adjacency-matrix-model-binary.pickle\n",
        "!mkdir -p /project/data && cd /project/data && wget -O feature_matrix.pickle https://github.com/dj311/uob-summer-project/raw/master/data/feature_matrix.pickle\n",
        "!mkdir -p /project/code\n",
        "%cd /project/code"
      ],
      "execution_count": 1,
      "outputs": [
        {
          "output_type": "stream",
          "text": [
            "--2019-08-22 22:37:28--  https://github.com/dj311/uob-summer-project/raw/master/data/adj.pickle\n",
            "Resolving github.com (github.com)... 140.82.118.4\n",
            "Connecting to github.com (github.com)|140.82.118.4|:443... connected.\n",
            "HTTP request sent, awaiting response... 302 Found\n",
            "Location: https://media.githubusercontent.com/media/dj311/uob-summer-project/master/data/adj.pickle [following]\n",
            "--2019-08-22 22:37:29--  https://media.githubusercontent.com/media/dj311/uob-summer-project/master/data/adj.pickle\n",
            "Resolving media.githubusercontent.com (media.githubusercontent.com)... 151.101.0.133, 151.101.64.133, 151.101.128.133, ...\n",
            "Connecting to media.githubusercontent.com (media.githubusercontent.com)|151.101.0.133|:443... connected.\n",
            "HTTP request sent, awaiting response... 200 OK\n",
            "Length: 1320521199 (1.2G) [application/octet-stream]\n",
            "Saving to: ‘adj.pickle’\n",
            "\n",
            "adj.pickle          100%[===================>]   1.23G   300MB/s    in 4.2s    \n",
            "\n",
            "2019-08-22 22:37:52 (297 MB/s) - ‘adj.pickle’ saved [1320521199/1320521199]\n",
            "\n",
            "--2019-08-22 22:37:53--  https://github.com/dj311/uob-summer-project/raw/master/data/adjacency-feature-matrix-random-padding-model-binary.pickle\n",
            "Resolving github.com (github.com)... 140.82.118.4\n",
            "Connecting to github.com (github.com)|140.82.118.4|:443... connected.\n",
            "HTTP request sent, awaiting response... 302 Found\n",
            "Location: https://media.githubusercontent.com/media/dj311/uob-summer-project/master/data/adjacency-feature-matrix-random-padding-model-binary.pickle [following]\n",
            "--2019-08-22 22:37:53--  https://media.githubusercontent.com/media/dj311/uob-summer-project/master/data/adjacency-feature-matrix-random-padding-model-binary.pickle\n",
            "Resolving media.githubusercontent.com (media.githubusercontent.com)... 151.101.0.133, 151.101.64.133, 151.101.128.133, ...\n",
            "Connecting to media.githubusercontent.com (media.githubusercontent.com)|151.101.0.133|:443... connected.\n",
            "HTTP request sent, awaiting response... 200 OK\n",
            "Length: 323108598 (308M) [application/octet-stream]\n",
            "Saving to: ‘adjacency-feature-matrix-random-padding-model-binary.pickle’\n",
            "\n",
            "adjacency-feature-m 100%[===================>] 308.14M   296MB/s    in 1.0s    \n",
            "\n",
            "2019-08-22 22:38:00 (296 MB/s) - ‘adjacency-feature-matrix-random-padding-model-binary.pickle’ saved [323108598/323108598]\n",
            "\n",
            "--2019-08-22 22:38:01--  https://github.com/dj311/uob-summer-project/raw/master/data/adjacency-feature-matrix-model-binary.pickle\n",
            "Resolving github.com (github.com)... 140.82.118.4\n",
            "Connecting to github.com (github.com)|140.82.118.4|:443... connected.\n",
            "HTTP request sent, awaiting response... 302 Found\n",
            "Location: https://media.githubusercontent.com/media/dj311/uob-summer-project/master/data/adjacency-feature-matrix-model-binary.pickle [following]\n",
            "--2019-08-22 22:38:02--  https://media.githubusercontent.com/media/dj311/uob-summer-project/master/data/adjacency-feature-matrix-model-binary.pickle\n",
            "Resolving media.githubusercontent.com (media.githubusercontent.com)... 151.101.0.133, 151.101.64.133, 151.101.128.133, ...\n",
            "Connecting to media.githubusercontent.com (media.githubusercontent.com)|151.101.0.133|:443... connected.\n",
            "HTTP request sent, awaiting response... ^C\n",
            "--2019-08-22 22:38:08--  https://github.com/dj311/uob-summer-project/raw/master/data/buffer_overflow_data.csv.gz\n",
            "Resolving github.com (github.com)... 140.82.118.4\n",
            "Connecting to github.com (github.com)|140.82.118.4|:443... connected.\n",
            "HTTP request sent, awaiting response... 302 Found\n",
            "Location: https://media.githubusercontent.com/media/dj311/uob-summer-project/master/data/buffer_overflow_data.csv.gz [following]\n",
            "--2019-08-22 22:38:08--  https://media.githubusercontent.com/media/dj311/uob-summer-project/master/data/buffer_overflow_data.csv.gz\n",
            "Resolving media.githubusercontent.com (media.githubusercontent.com)... 151.101.0.133, 151.101.64.133, 151.101.128.133, ...\n",
            "Connecting to media.githubusercontent.com (media.githubusercontent.com)|151.101.0.133|:443... connected.\n",
            "HTTP request sent, awaiting response... 200 OK\n",
            "Length: 3008729 (2.9M) [application/octet-stream]\n",
            "Saving to: ‘buffer_overflow_data.csv.gz’\n",
            "\n",
            "buffer_overflow_dat 100%[===================>]   2.87M  --.-KB/s    in 0.04s   \n",
            "\n",
            "2019-08-22 22:38:09 (77.5 MB/s) - ‘buffer_overflow_data.csv.gz’ saved [3008729/3008729]\n",
            "\n",
            "--2019-08-22 22:38:11--  https://github.com/dj311/uob-summer-project/raw/master/data/adjacency-matrix-model-binary.pickle\n",
            "Resolving github.com (github.com)... 140.82.118.4\n",
            "Connecting to github.com (github.com)|140.82.118.4|:443... connected.\n",
            "HTTP request sent, awaiting response... 302 Found\n",
            "Location: https://media.githubusercontent.com/media/dj311/uob-summer-project/master/data/adjacency-matrix-model-binary.pickle [following]\n",
            "--2019-08-22 22:38:11--  https://media.githubusercontent.com/media/dj311/uob-summer-project/master/data/adjacency-matrix-model-binary.pickle\n",
            "Resolving media.githubusercontent.com (media.githubusercontent.com)... 151.101.0.133, 151.101.64.133, 151.101.128.133, ...\n",
            "Connecting to media.githubusercontent.com (media.githubusercontent.com)|151.101.0.133|:443... connected.\n",
            "HTTP request sent, awaiting response... 200 OK\n",
            "Length: 71124065 (68M) [application/octet-stream]\n",
            "Saving to: ‘adjacency-matrix-model-binary.pickle’\n",
            "\n",
            "adjacency-matrix-mo 100%[===================>]  67.83M   347MB/s    in 0.2s    \n",
            "\n",
            "2019-08-22 22:38:13 (347 MB/s) - ‘adjacency-matrix-model-binary.pickle’ saved [71124065/71124065]\n",
            "\n",
            "--2019-08-22 22:38:14--  https://github.com/dj311/uob-summer-project/raw/master/data/feature_matrix.pickle\n",
            "Resolving github.com (github.com)... 140.82.118.4\n",
            "Connecting to github.com (github.com)|140.82.118.4|:443... connected.\n",
            "HTTP request sent, awaiting response... 302 Found\n",
            "Location: https://media.githubusercontent.com/media/dj311/uob-summer-project/master/data/feature_matrix.pickle [following]\n",
            "--2019-08-22 22:38:14--  https://media.githubusercontent.com/media/dj311/uob-summer-project/master/data/feature_matrix.pickle\n",
            "Resolving media.githubusercontent.com (media.githubusercontent.com)... 151.101.0.133, 151.101.64.133, 151.101.128.133, ...\n",
            "Connecting to media.githubusercontent.com (media.githubusercontent.com)|151.101.0.133|:443... connected.\n",
            "HTTP request sent, awaiting response... 200 OK\n",
            "Length: 64502734 (62M) [application/octet-stream]\n",
            "Saving to: ‘feature_matrix.pickle’\n",
            "\n",
            "feature_matrix.pick 100%[===================>]  61.51M   345MB/s    in 0.2s    \n",
            "\n",
            "2019-08-22 22:38:20 (345 MB/s) - ‘feature_matrix.pickle’ saved [64502734/64502734]\n",
            "\n",
            "/project/code\n"
          ],
          "name": "stdout"
        }
      ]
    },
    {
      "cell_type": "markdown",
      "metadata": {
        "colab_type": "text",
        "id": "lO9-8NDKk8ja"
      },
      "source": [
        "# Import & Preprocess Dataset\n",
        "\n",
        "First we import the data from the [previous notebook](./adjacency_matrix.ipynb).\n"
      ]
    },
    {
      "cell_type": "code",
      "metadata": {
        "colab_type": "code",
        "id": "uB5QGgAgk8je",
        "outputId": "1063ef2a-0957-4ce3-e758-96565da58d6e",
        "colab": {
          "base_uri": "https://localhost:8080/",
          "height": 34
        }
      },
      "source": [
        "import tensorflow as tf\n",
        "import keras\n",
        "import sklearn\n",
        "import numpy as np\n",
        "import pickle\n",
        "import random\n",
        "import pandas as pd\n",
        "from scipy.sparse import csr_matrix, hstack, vstack\n",
        "from sklearn.model_selection import train_test_split\n",
        "\n",
        "\n",
        "run_opts = tf.RunOptions(report_tensor_allocations_upon_oom = True)\n",
        "np.random.seed(1248)\n",
        "\n",
        "tf.logging.set_verbosity(tf.logging.INFO)"
      ],
      "execution_count": 2,
      "outputs": [
        {
          "output_type": "stream",
          "text": [
            "Using TensorFlow backend.\n"
          ],
          "name": "stderr"
        }
      ]
    },
    {
      "cell_type": "code",
      "metadata": {
        "colab_type": "code",
        "id": "NQwMY_iLk8kC",
        "colab": {}
      },
      "source": [
        "data = pd.read_csv('../data/buffer_overflow_data.csv.gz')"
      ],
      "execution_count": 0,
      "outputs": []
    },
    {
      "cell_type": "code",
      "metadata": {
        "colab_type": "code",
        "id": "76z9869-k8kQ",
        "colab": {}
      },
      "source": [
        "labels = data.copy()\n",
        "del labels['Unnamed: 0']\n",
        "del labels['Unnamed: 0.1']\n",
        "del labels['filename']\n",
        "del labels['code']\n",
        "del labels['flaw']\n",
        "del labels['flaw_loc']\n",
        "labels = labels.drop_duplicates().sort_values('testcase_ID').reset_index(drop=True)"
      ],
      "execution_count": 0,
      "outputs": []
    },
    {
      "cell_type": "code",
      "metadata": {
        "colab_type": "code",
        "id": "AyqJFOtWk8kg",
        "colab": {}
      },
      "source": [
        "with open(\"../data/adj.pickle\",'rb') as f:\n",
        "    adj = pickle.load(f)"
      ],
      "execution_count": 0,
      "outputs": []
    },
    {
      "cell_type": "code",
      "metadata": {
        "colab_type": "code",
        "id": "PHikMdozk8k1",
        "colab": {}
      },
      "source": [
        "adj = adj.rename(columns={0: 'testcase_ID', 1: 'adjacency_matrix'})"
      ],
      "execution_count": 0,
      "outputs": []
    },
    {
      "cell_type": "code",
      "metadata": {
        "colab_type": "code",
        "id": "pIdnRsBjk8k-",
        "colab": {}
      },
      "source": [
        "orig_df = pd.merge(labels, adj, on='testcase_ID')"
      ],
      "execution_count": 0,
      "outputs": []
    },
    {
      "cell_type": "code",
      "metadata": {
        "colab_type": "code",
        "id": "s-qHa46Vk8lK",
        "colab": {}
      },
      "source": [
        "orig_df = orig_df[['testcase_ID', 'adjacency_matrix', 'bug']]"
      ],
      "execution_count": 0,
      "outputs": []
    },
    {
      "cell_type": "markdown",
      "metadata": {
        "colab_type": "text",
        "id": "qB06ooxxo--s"
      },
      "source": [
        "Next, find out the maximum size of an adjacency matrix, then convert all matrices to have the same dimension."
      ]
    },
    {
      "cell_type": "code",
      "metadata": {
        "colab_type": "code",
        "id": "HNY1UrHJk8lg",
        "colab": {}
      },
      "source": [
        "orig_df['matrix_size'] = orig_df.adjacency_matrix.apply(lambda x: x.shape[0])"
      ],
      "execution_count": 0,
      "outputs": []
    },
    {
      "cell_type": "code",
      "metadata": {
        "colab_type": "code",
        "id": "p6zGXUxbk8l1",
        "outputId": "c372b4e1-9fc9-470f-c54f-031a8f838842",
        "colab": {
          "base_uri": "https://localhost:8080/",
          "height": 170
        }
      },
      "source": [
        "orig_df['matrix_size'].describe()"
      ],
      "execution_count": 10,
      "outputs": [
        {
          "output_type": "execute_result",
          "data": {
            "text/plain": [
              "count    21502.000000\n",
              "mean      2186.138778\n",
              "std       7239.752920\n",
              "min          4.000000\n",
              "25%        349.000000\n",
              "50%        396.000000\n",
              "75%        614.000000\n",
              "max      44401.000000\n",
              "Name: matrix_size, dtype: float64"
            ]
          },
          "metadata": {
            "tags": []
          },
          "execution_count": 10
        }
      ]
    },
    {
      "cell_type": "markdown",
      "metadata": {
        "colab_type": "text",
        "id": "VlN1pb2SJW2i"
      },
      "source": [
        "So we know that 75% of the dataset has a matrix size <= 614, which is approximately 18000 datapoints. Picking the full dataset would require matrices of dimension 44401x44401 which require 15 gb of memory each. This is isn't feasible, however picking matrices of size 614x614 or less gives a per matrix size of 3.38mb - far more manageable!"
      ]
    },
    {
      "cell_type": "code",
      "metadata": {
        "colab_type": "code",
        "id": "JXR174VPKKzR",
        "outputId": "381dd65f-b04e-4e4a-abb1-bdbd9ebb7f3d",
        "colab": {
          "base_uri": "https://localhost:8080/",
          "height": 34
        }
      },
      "source": [
        "matrix_size = 614\n",
        "orig_df = orig_df[orig_df['matrix_size'] <= matrix_size]\n",
        "len(orig_df)"
      ],
      "execution_count": 11,
      "outputs": [
        {
          "output_type": "execute_result",
          "data": {
            "text/plain": [
              "16128"
            ]
          },
          "metadata": {
            "tags": []
          },
          "execution_count": 11
        }
      ]
    },
    {
      "cell_type": "code",
      "metadata": {
        "colab_type": "code",
        "id": "6V8vaupgva2q",
        "colab": {}
      },
      "source": [
        "orig_df['random_pad_amount'] = orig_df['matrix_size'].apply(lambda m: random.randint(m,matrix_size))"
      ],
      "execution_count": 0,
      "outputs": []
    },
    {
      "cell_type": "code",
      "metadata": {
        "colab_type": "code",
        "id": "jEEMyB15w4a-",
        "colab": {}
      },
      "source": [
        "adj_df = orig_df.copy()"
      ],
      "execution_count": 0,
      "outputs": []
    },
    {
      "cell_type": "code",
      "metadata": {
        "colab_type": "code",
        "id": "MCV9Vwupk8mI",
        "colab": {}
      },
      "source": [
        "def bottom_right_matrix_size_corrector(matrix, target_rows, target_columns):\n",
        "    '''Pads matrix with zeros to the desired size'''\n",
        "    \n",
        "    rows, columns = matrix.shape[0], matrix.shape[1]\n",
        "    \n",
        "    row_corrector = csr_matrix((target_rows-rows, columns))\n",
        "    col_corrector = csr_matrix((target_rows, target_columns-columns))\n",
        "\n",
        "    matrix = vstack([matrix, row_corrector])\n",
        "    matrix = hstack([matrix, col_corrector])\n",
        "\n",
        "    matrix = matrix.astype(np.int)\n",
        "    \n",
        "    return matrix "
      ],
      "execution_count": 0,
      "outputs": []
    },
    {
      "cell_type": "code",
      "metadata": {
        "colab_type": "code",
        "id": "yI1YFNQMk8mp",
        "colab": {}
      },
      "source": [
        "adj_df['adjacency_matrix'] = adj_df['adjacency_matrix'].apply(lambda m: bottom_right_matrix_size_corrector(m, matrix_size, matrix_size))"
      ],
      "execution_count": 0,
      "outputs": []
    },
    {
      "cell_type": "markdown",
      "metadata": {
        "colab_type": "text",
        "id": "_lrFCpTeWNNk"
      },
      "source": [
        "Next we load in the feature matrices:"
      ]
    },
    {
      "cell_type": "code",
      "metadata": {
        "colab_type": "code",
        "id": "u2WAylC-WMu7",
        "colab": {}
      },
      "source": [
        "with open(\"../data/feature_matrix.pickle\", \"rb\") as f:\n",
        "    feature_matrix = pickle.load(f)\n",
        "\n",
        "feature_matrix.columns = ['testcase_ID', 'feature_matrix']"
      ],
      "execution_count": 0,
      "outputs": []
    },
    {
      "cell_type": "code",
      "metadata": {
        "colab_type": "code",
        "id": "rcFPwlU2fXgl",
        "colab": {}
      },
      "source": [
        "num_features = 55"
      ],
      "execution_count": 0,
      "outputs": []
    },
    {
      "cell_type": "code",
      "metadata": {
        "colab_type": "code",
        "id": "G72pK1NiXZz9",
        "colab": {}
      },
      "source": [
        "orig_df = pd.merge(feature_matrix, orig_df, on='testcase_ID')"
      ],
      "execution_count": 0,
      "outputs": []
    },
    {
      "cell_type": "code",
      "metadata": {
        "colab_type": "code",
        "id": "yd1yzA2ZSgLv",
        "colab": {}
      },
      "source": [
        "feat_df = orig_df.copy()"
      ],
      "execution_count": 0,
      "outputs": []
    },
    {
      "cell_type": "code",
      "metadata": {
        "colab_type": "code",
        "id": "rPKL7-DIe0PC",
        "colab": {}
      },
      "source": [
        "feat_df['feature_matrix'] = feat_df['feature_matrix'].apply(lambda m: bottom_right_matrix_size_corrector(m, matrix_size, num_features))"
      ],
      "execution_count": 0,
      "outputs": []
    },
    {
      "cell_type": "code",
      "metadata": {
        "colab_type": "code",
        "id": "zy8qe3IdrKml",
        "colab": {}
      },
      "source": [
        "testcase_ids = orig_df['testcase_ID'].values\n",
        "adjacency_matrices = adj_df['adjacency_matrix'].values\n",
        "feature_matrices = feat_df['feature_matrix'].values\n",
        "labels = orig_df['bug'].values"
      ],
      "execution_count": 0,
      "outputs": []
    },
    {
      "cell_type": "markdown",
      "metadata": {
        "colab_type": "text",
        "id": "ga6SW3_qpF80"
      },
      "source": [
        "Now we have a dataframe for each testcase with a sparse representation of its AST in the matrix column, each normalised to matrix_size x matrix_size in size.\n",
        "  \n",
        "\n"
      ]
    },
    {
      "cell_type": "markdown",
      "metadata": {
        "colab_type": "text",
        "id": "W8rFgat6TFnc"
      },
      "source": [
        "Finally, we generate the train and test splits:"
      ]
    },
    {
      "cell_type": "code",
      "metadata": {
        "colab_type": "code",
        "id": "cxO5J1xySMDV",
        "colab": {}
      },
      "source": [
        "adj_train, adj_test, feat_train, feat_test, labels_train, labels_test = train_test_split(adjacency_matrices, feature_matrices, labels, test_size=0.2, random_state=0)\n",
        "adj_train, adj_val, feat_train, feat_val, labels_train, labels_val = train_test_split(adj_train, feat_train, labels_train, test_size=0.2, random_state=0)"
      ],
      "execution_count": 0,
      "outputs": []
    },
    {
      "cell_type": "code",
      "metadata": {
        "colab_type": "code",
        "id": "UpXHfAYqeO0a",
        "outputId": "6c49cdda-51bd-467a-c595-9339cee1c21c",
        "colab": {
          "base_uri": "https://localhost:8080/",
          "height": 238
        }
      },
      "source": [
        "feat_train"
      ],
      "execution_count": 23,
      "outputs": [
        {
          "output_type": "execute_result",
          "data": {
            "text/plain": [
              "array([<614x55 sparse matrix of type '<class 'numpy.int64'>'\n",
              "\twith 55 stored elements in COOrdinate format>,\n",
              "       <614x55 sparse matrix of type '<class 'numpy.int64'>'\n",
              "\twith 143 stored elements in COOrdinate format>,\n",
              "       <614x55 sparse matrix of type '<class 'numpy.int64'>'\n",
              "\twith 21 stored elements in COOrdinate format>,\n",
              "       ...,\n",
              "       <614x55 sparse matrix of type '<class 'numpy.int64'>'\n",
              "\twith 416 stored elements in COOrdinate format>,\n",
              "       <614x55 sparse matrix of type '<class 'numpy.int64'>'\n",
              "\twith 265 stored elements in COOrdinate format>,\n",
              "       <614x55 sparse matrix of type '<class 'numpy.int64'>'\n",
              "\twith 268 stored elements in COOrdinate format>], dtype=object)"
            ]
          },
          "metadata": {
            "tags": []
          },
          "execution_count": 23
        }
      ]
    },
    {
      "cell_type": "code",
      "metadata": {
        "id": "yd8ssKGA8k1_",
        "colab_type": "code",
        "colab": {
          "base_uri": "https://localhost:8080/",
          "height": 238
        },
        "outputId": "113e7e20-2fd7-4096-ee0a-36e560fa01c3"
      },
      "source": [
        "feat_val"
      ],
      "execution_count": 24,
      "outputs": [
        {
          "output_type": "execute_result",
          "data": {
            "text/plain": [
              "array([<614x55 sparse matrix of type '<class 'numpy.int64'>'\n",
              "\twith 79 stored elements in COOrdinate format>,\n",
              "       <614x55 sparse matrix of type '<class 'numpy.int64'>'\n",
              "\twith 75 stored elements in COOrdinate format>,\n",
              "       <614x55 sparse matrix of type '<class 'numpy.int64'>'\n",
              "\twith 29 stored elements in COOrdinate format>,\n",
              "       ...,\n",
              "       <614x55 sparse matrix of type '<class 'numpy.int64'>'\n",
              "\twith 41 stored elements in COOrdinate format>,\n",
              "       <614x55 sparse matrix of type '<class 'numpy.int64'>'\n",
              "\twith 271 stored elements in COOrdinate format>,\n",
              "       <614x55 sparse matrix of type '<class 'numpy.int64'>'\n",
              "\twith 302 stored elements in COOrdinate format>], dtype=object)"
            ]
          },
          "metadata": {
            "tags": []
          },
          "execution_count": 24
        }
      ]
    },
    {
      "cell_type": "markdown",
      "metadata": {
        "colab_type": "text",
        "id": "yXrUMkzYSgUz"
      },
      "source": [
        "Storing all of these matrices in a dense representation at once might cause memory issues. To avoid this, we write a class which generates dense matrices for each of the training batches. \n",
        "\n",
        "We also perform the element wrapping as part of this process (since we can't perform it on the sparse arrays, I think)."
      ]
    },
    {
      "cell_type": "code",
      "metadata": {
        "colab_type": "code",
        "id": "dBPBYHNJxm-D",
        "colab": {
          "base_uri": "https://localhost:8080/",
          "height": 232
        },
        "outputId": "39c4897e-0cf4-4936-bfb5-793edd205eac"
      },
      "source": [
        "class SparseToDenseGenerator(keras.utils.Sequence):\n",
        "\n",
        "    def __init__(self, sparse_adjs, sparse_feats, labels, batch_size):\n",
        "        self.sparse_adjs = sparse_adjs\n",
        "        self.sparse_feats = sparse_feats\n",
        "        self.labels = labels\n",
        "        self.batch_size = batch_size\n",
        "\n",
        "    def __len__(self):\n",
        "        return int(np.ceil(len(self.labels) / float(self.batch_size)))\n",
        "\n",
        "    def __getitem__(self, batch_num):\n",
        "        start_index = batch_num * self.batch_size\n",
        "        end_index = (batch_num + 1) * self.batch_size\n",
        "        \n",
        "        batch_sparse_adjs = self.sparse_adjs[start_index:end_index]\n",
        "        batch_sparse_feats = self.sparse_feats[start_index:end_index]\n",
        "        batch_labels = self.labels[start_index:end_index]\n",
        "        \n",
        "        batch_dense_adjs = np.array([sparse_matrix.todense() for sparse_matrix in batch_sparse_adjs])\n",
        "        batch_dense_feats = np.array([sparse_matrix.todense() for sparse_matrix in batch_sparse_feats])\n",
        "        \n",
        "        # TODO: move this somewhere better\n",
        "        # Conv2D requires an extra dimension for \"channels\", so we need to convert our data from\n",
        "        # the shape (batch_size, matrix_rows, matrix_columns)\n",
        "        # to (batch_size, matrix_rows, matrix_columns, 1)\n",
        "        batch_dense_adjs = np.reshape(batch_dense_adjs, batch_dense_adjs.shape + (1, ))\n",
        "        batch_dense_feats = np.reshape(batch_dense_feats, batch_dense_feats.shape + (1, ))\n",
        "\n",
        "        return [batch_dense_adjs, batch_dense_feats], np.array(batch_labels)"
      ],
      "execution_count": 4,
      "outputs": [
        {
          "output_type": "error",
          "ename": "NameError",
          "evalue": "ignored",
          "traceback": [
            "\u001b[0;31m---------------------------------------------------------------------------\u001b[0m",
            "\u001b[0;31mNameError\u001b[0m                                 Traceback (most recent call last)",
            "\u001b[0;32m<ipython-input-4-39038b2e195d>\u001b[0m in \u001b[0;36m<module>\u001b[0;34m()\u001b[0m\n\u001b[0;32m----> 1\u001b[0;31m \u001b[0;32mclass\u001b[0m \u001b[0mSparseToDenseGenerator\u001b[0m\u001b[0;34m(\u001b[0m\u001b[0mkeras\u001b[0m\u001b[0;34m.\u001b[0m\u001b[0mutils\u001b[0m\u001b[0;34m.\u001b[0m\u001b[0mSequence\u001b[0m\u001b[0;34m)\u001b[0m\u001b[0;34m:\u001b[0m\u001b[0;34m\u001b[0m\u001b[0;34m\u001b[0m\u001b[0m\n\u001b[0m\u001b[1;32m      2\u001b[0m \u001b[0;34m\u001b[0m\u001b[0m\n\u001b[1;32m      3\u001b[0m     \u001b[0;32mdef\u001b[0m \u001b[0m__init__\u001b[0m\u001b[0;34m(\u001b[0m\u001b[0mself\u001b[0m\u001b[0;34m,\u001b[0m \u001b[0msparse_adjs\u001b[0m\u001b[0;34m,\u001b[0m \u001b[0msparse_feats\u001b[0m\u001b[0;34m,\u001b[0m \u001b[0mlabels\u001b[0m\u001b[0;34m,\u001b[0m \u001b[0mbatch_size\u001b[0m\u001b[0;34m)\u001b[0m\u001b[0;34m:\u001b[0m\u001b[0;34m\u001b[0m\u001b[0;34m\u001b[0m\u001b[0m\n\u001b[1;32m      4\u001b[0m         \u001b[0mself\u001b[0m\u001b[0;34m.\u001b[0m\u001b[0msparse_adjs\u001b[0m \u001b[0;34m=\u001b[0m \u001b[0msparse_adjs\u001b[0m\u001b[0;34m\u001b[0m\u001b[0;34m\u001b[0m\u001b[0m\n\u001b[1;32m      5\u001b[0m         \u001b[0mself\u001b[0m\u001b[0;34m.\u001b[0m\u001b[0msparse_feats\u001b[0m \u001b[0;34m=\u001b[0m \u001b[0msparse_feats\u001b[0m\u001b[0;34m\u001b[0m\u001b[0;34m\u001b[0m\u001b[0m\n",
            "\u001b[0;31mNameError\u001b[0m: name 'keras' is not defined"
          ]
        }
      ]
    },
    {
      "cell_type": "markdown",
      "metadata": {
        "colab_type": "text",
        "id": "nda-Xjsjk8ng"
      },
      "source": [
        "# Model"
      ]
    },
    {
      "cell_type": "code",
      "metadata": {
        "colab_type": "code",
        "id": "KqlHfs2Kk8ni",
        "scrolled": true,
        "colab": {}
      },
      "source": [
        "from keras.layers import Dense, Dropout, Flatten, Reshape, Activation\n",
        "from keras.layers import Conv1D, MaxPooling1D, Conv2D, GlobalMaxPooling2D, MaxPooling2D, Convolution2D\n",
        "from keras.models import Sequential\n",
        "from keras.layers.normalization import BatchNormalization\n",
        "from keras.layers.advanced_activations import LeakyReLU\n",
        "from keras.optimizers import RMSprop, Adadelta, Adam\n",
        "from keras.utils import np_utils\n",
        "from keras import backend as K"
      ],
      "execution_count": 0,
      "outputs": []
    },
    {
      "cell_type": "code",
      "metadata": {
        "colab_type": "code",
        "id": "kmlCQ77P3itE",
        "outputId": "ece650c6-cbb8-4146-8beb-c06cf0a43239",
        "colab": {
          "base_uri": "https://localhost:8080/",
          "height": 34
        }
      },
      "source": [
        "batch_size = 96\n",
        "epochs = 5\n",
        "num_samples = len(labels)\n",
        "num_features = feat_df.feature_matrix.iloc[0].shape[1]\n",
        "\n",
        "datapoint_shape = (matrix_size, matrix_size, )\n",
        "batch_shape = (batch_size, ) + datapoint_shape\n",
        "\n",
        "steps_per_epoch = int(np.ceil(num_samples/batch_size))\n",
        "\n",
        "kernel_size = (2, 2)\n",
        "strides = max(kernel_size[0] // 3, 1)\n",
        "\n",
        "batch_size, epochs, num_samples, datapoint_shape, batch_shape, steps_per_epoch, kernel_size, strides"
      ],
      "execution_count": 27,
      "outputs": [
        {
          "output_type": "execute_result",
          "data": {
            "text/plain": [
              "(96, 5, 16128, (614, 614), (96, 614, 614), 168, (2, 2), 1)"
            ]
          },
          "metadata": {
            "tags": []
          },
          "execution_count": 27
        }
      ]
    },
    {
      "cell_type": "code",
      "metadata": {
        "colab_type": "code",
        "id": "a1aVESBAk8nu",
        "outputId": "d27d9004-94f7-4d88-8954-963b92b6459f",
        "colab": {
          "base_uri": "https://localhost:8080/",
          "height": 1000
        }
      },
      "source": [
        "# 1st: Convolutional Network on Adjacency Matrix\n",
        "adjacency_input = keras.layers.Input(shape=(matrix_size, matrix_size, 1))\n",
        "\n",
        "conv1 = Conv2D(\n",
        "    data_format='channels_last',\n",
        "    input_shape=(matrix_size, matrix_size, 1),\n",
        "    filters=32,\n",
        "    kernel_size=kernel_size,\n",
        "    strides=strides,\n",
        ")(adjacency_input)\n",
        "activation1 = Activation('relu')(conv1)\n",
        "pool1 = MaxPooling2D(kernel_size, padding='same')(activation1)\n",
        "\n",
        "conv2 = Conv2D(\n",
        "    data_format='channels_last',\n",
        "    input_shape=(matrix_size, matrix_size, 1),\n",
        "    filters=32,\n",
        "    kernel_size=kernel_size,\n",
        "    strides=strides,\n",
        ")(pool1)\n",
        "activation2 = Activation('relu')(conv2)\n",
        "pool2 = MaxPooling2D(kernel_size, padding='same')(activation2)\n",
        "\n",
        "conv3 = Conv2D(\n",
        "    data_format='channels_last',\n",
        "    input_shape=(matrix_size, matrix_size, 1),\n",
        "    filters=32,\n",
        "    kernel_size=kernel_size,\n",
        "    strides=strides,\n",
        ")(pool2)\n",
        "activation3 = Activation('relu')(conv3)\n",
        "pool3 = MaxPooling2D(kernel_size, padding='same')(activation3)\n",
        "\n",
        "flatten = Flatten()(pool3)\n",
        "\n",
        "dense1 = Dense(units=32, activation='relu')(flatten)\n",
        "dense2 = Dense(units=32, activation='relu')(dense1)\n",
        "dense3 = Dense(units=32, activation='relu')(dense2)\n",
        "\n",
        "conv_model = keras.models.Model(inputs=adjacency_input, outputs=dense3)\n",
        "\n",
        "# 2nd: Dense, Linear Network on Feature Matrix\n",
        "features_input = keras.layers.Input(shape=(matrix_size, num_features, 1))\n",
        "\n",
        "f_flatten = Flatten(data_format='channels_last')(features_input)\n",
        "\n",
        "f_dense1 = Dense(units=614, activation='relu')(f_flatten)\n",
        "f_dense2 = Dense(units=307, activation='relu')(f_dense1)\n",
        "f_dense3 = Dense(units=150, activation='relu')(f_dense2)\n",
        "f_dense4 = Dense(units=75, activation='relu')(f_dense3)\n",
        "f_dense5 = Dense(units=32, activation='relu')(f_dense4)\n",
        "\n",
        "dense_input = keras.models.Model(inputs = features_input, outputs= f_dense5)\n",
        "\n",
        "# Combine outputs of both networks via a set of dense, linear layers\n",
        "concat = keras.layers.concatenate(inputs=[conv_model.output ,dense_input.output])\n",
        "c_dropout = Dropout(0.8)(concat)\n",
        "c_dense1 =  Dense(units=64, activation='relu')(c_dropout)\n",
        "c_dense2 =  Dense(units=64, activation='relu')(c_dense1)\n",
        "c_dense3 =  Dense(units=64, activation='relu')(c_dense2)\n",
        "\n",
        "# Dropout and final output layer\n",
        "c_output = Dense(units=1, activation='sigmoid')(c_dense3)\n",
        "\n",
        "model = keras.models.Model(inputs=[conv_model.input, dense_input.input], outputs=c_output)\n",
        "\n",
        "model.compile(optimizer=Adam(), loss='binary_crossentropy', metrics=['accuracy'])\n",
        "\n",
        "model.summary()"
      ],
      "execution_count": 28,
      "outputs": [
        {
          "output_type": "stream",
          "text": [
            "WARNING: Logging before flag parsing goes to stderr.\n",
            "W0822 11:29:08.672091 140095677523840 deprecation_wrapper.py:119] From /usr/local/lib/python3.6/dist-packages/keras/backend/tensorflow_backend.py:74: The name tf.get_default_graph is deprecated. Please use tf.compat.v1.get_default_graph instead.\n",
            "\n",
            "W0822 11:29:08.753522 140095677523840 deprecation_wrapper.py:119] From /usr/local/lib/python3.6/dist-packages/keras/backend/tensorflow_backend.py:517: The name tf.placeholder is deprecated. Please use tf.compat.v1.placeholder instead.\n",
            "\n",
            "W0822 11:29:08.765255 140095677523840 deprecation_wrapper.py:119] From /usr/local/lib/python3.6/dist-packages/keras/backend/tensorflow_backend.py:4138: The name tf.random_uniform is deprecated. Please use tf.random.uniform instead.\n",
            "\n",
            "W0822 11:29:08.825948 140095677523840 deprecation_wrapper.py:119] From /usr/local/lib/python3.6/dist-packages/keras/backend/tensorflow_backend.py:3976: The name tf.nn.max_pool is deprecated. Please use tf.nn.max_pool2d instead.\n",
            "\n",
            "W0822 11:29:09.002691 140095677523840 deprecation_wrapper.py:119] From /usr/local/lib/python3.6/dist-packages/keras/backend/tensorflow_backend.py:133: The name tf.placeholder_with_default is deprecated. Please use tf.compat.v1.placeholder_with_default instead.\n",
            "\n",
            "W0822 11:29:09.016299 140095677523840 deprecation.py:506] From /usr/local/lib/python3.6/dist-packages/keras/backend/tensorflow_backend.py:3445: calling dropout (from tensorflow.python.ops.nn_ops) with keep_prob is deprecated and will be removed in a future version.\n",
            "Instructions for updating:\n",
            "Please use `rate` instead of `keep_prob`. Rate should be set to `rate = 1 - keep_prob`.\n",
            "W0822 11:29:09.018488 140095677523840 nn_ops.py:4224] Large dropout rate: 0.8 (>0.5). In TensorFlow 2.x, dropout() uses dropout rate instead of keep_prob. Please ensure that this is intended.\n",
            "W0822 11:29:09.108602 140095677523840 deprecation_wrapper.py:119] From /usr/local/lib/python3.6/dist-packages/keras/optimizers.py:790: The name tf.train.Optimizer is deprecated. Please use tf.compat.v1.train.Optimizer instead.\n",
            "\n",
            "W0822 11:29:09.116187 140095677523840 deprecation_wrapper.py:119] From /usr/local/lib/python3.6/dist-packages/keras/backend/tensorflow_backend.py:3376: The name tf.log is deprecated. Please use tf.math.log instead.\n",
            "\n",
            "W0822 11:29:09.124583 140095677523840 deprecation.py:323] From /usr/local/lib/python3.6/dist-packages/tensorflow/python/ops/nn_impl.py:180: add_dispatch_support.<locals>.wrapper (from tensorflow.python.ops.array_ops) is deprecated and will be removed in a future version.\n",
            "Instructions for updating:\n",
            "Use tf.where in 2.0, which has the same broadcast rule as np.where\n"
          ],
          "name": "stderr"
        },
        {
          "output_type": "stream",
          "text": [
            "__________________________________________________________________________________________________\n",
            "Layer (type)                    Output Shape         Param #     Connected to                     \n",
            "==================================================================================================\n",
            "input_1 (InputLayer)            (None, 614, 614, 1)  0                                            \n",
            "__________________________________________________________________________________________________\n",
            "conv2d_1 (Conv2D)               (None, 613, 613, 32) 160         input_1[0][0]                    \n",
            "__________________________________________________________________________________________________\n",
            "activation_1 (Activation)       (None, 613, 613, 32) 0           conv2d_1[0][0]                   \n",
            "__________________________________________________________________________________________________\n",
            "max_pooling2d_1 (MaxPooling2D)  (None, 307, 307, 32) 0           activation_1[0][0]               \n",
            "__________________________________________________________________________________________________\n",
            "conv2d_2 (Conv2D)               (None, 306, 306, 32) 4128        max_pooling2d_1[0][0]            \n",
            "__________________________________________________________________________________________________\n",
            "activation_2 (Activation)       (None, 306, 306, 32) 0           conv2d_2[0][0]                   \n",
            "__________________________________________________________________________________________________\n",
            "max_pooling2d_2 (MaxPooling2D)  (None, 153, 153, 32) 0           activation_2[0][0]               \n",
            "__________________________________________________________________________________________________\n",
            "conv2d_3 (Conv2D)               (None, 152, 152, 32) 4128        max_pooling2d_2[0][0]            \n",
            "__________________________________________________________________________________________________\n",
            "input_2 (InputLayer)            (None, 614, 55, 1)   0                                            \n",
            "__________________________________________________________________________________________________\n",
            "activation_3 (Activation)       (None, 152, 152, 32) 0           conv2d_3[0][0]                   \n",
            "__________________________________________________________________________________________________\n",
            "flatten_2 (Flatten)             (None, 33770)        0           input_2[0][0]                    \n",
            "__________________________________________________________________________________________________\n",
            "max_pooling2d_3 (MaxPooling2D)  (None, 76, 76, 32)   0           activation_3[0][0]               \n",
            "__________________________________________________________________________________________________\n",
            "dense_4 (Dense)                 (None, 614)          20735394    flatten_2[0][0]                  \n",
            "__________________________________________________________________________________________________\n",
            "flatten_1 (Flatten)             (None, 184832)       0           max_pooling2d_3[0][0]            \n",
            "__________________________________________________________________________________________________\n",
            "dense_5 (Dense)                 (None, 307)          188805      dense_4[0][0]                    \n",
            "__________________________________________________________________________________________________\n",
            "dense_1 (Dense)                 (None, 32)           5914656     flatten_1[0][0]                  \n",
            "__________________________________________________________________________________________________\n",
            "dense_6 (Dense)                 (None, 150)          46200       dense_5[0][0]                    \n",
            "__________________________________________________________________________________________________\n",
            "dense_2 (Dense)                 (None, 32)           1056        dense_1[0][0]                    \n",
            "__________________________________________________________________________________________________\n",
            "dense_7 (Dense)                 (None, 75)           11325       dense_6[0][0]                    \n",
            "__________________________________________________________________________________________________\n",
            "dense_3 (Dense)                 (None, 32)           1056        dense_2[0][0]                    \n",
            "__________________________________________________________________________________________________\n",
            "dense_8 (Dense)                 (None, 32)           2432        dense_7[0][0]                    \n",
            "__________________________________________________________________________________________________\n",
            "concatenate_1 (Concatenate)     (None, 64)           0           dense_3[0][0]                    \n",
            "                                                                 dense_8[0][0]                    \n",
            "__________________________________________________________________________________________________\n",
            "dropout_1 (Dropout)             (None, 64)           0           concatenate_1[0][0]              \n",
            "__________________________________________________________________________________________________\n",
            "dense_9 (Dense)                 (None, 64)           4160        dropout_1[0][0]                  \n",
            "__________________________________________________________________________________________________\n",
            "dense_10 (Dense)                (None, 64)           4160        dense_9[0][0]                    \n",
            "__________________________________________________________________________________________________\n",
            "dense_11 (Dense)                (None, 64)           4160        dense_10[0][0]                   \n",
            "__________________________________________________________________________________________________\n",
            "dense_12 (Dense)                (None, 1)            65          dense_11[0][0]                   \n",
            "==================================================================================================\n",
            "Total params: 26,921,885\n",
            "Trainable params: 26,921,885\n",
            "Non-trainable params: 0\n",
            "__________________________________________________________________________________________________\n"
          ],
          "name": "stdout"
        }
      ]
    },
    {
      "cell_type": "code",
      "metadata": {
        "colab_type": "code",
        "id": "ywtD5Ys-w4bc",
        "outputId": "6cf2495f-6406-49aa-8dbb-ac52dc56f9e7",
        "colab": {
          "base_uri": "https://localhost:8080/",
          "height": 71
        }
      },
      "source": [
        "!pip install pydot"
      ],
      "execution_count": 29,
      "outputs": [
        {
          "output_type": "stream",
          "text": [
            "Requirement already satisfied: pydot in /usr/local/lib/python3.6/dist-packages (1.3.0)\n",
            "Requirement already satisfied: pyparsing>=2.1.4 in /usr/local/lib/python3.6/dist-packages (from pydot) (2.4.2)\n"
          ],
          "name": "stdout"
        }
      ]
    },
    {
      "cell_type": "code",
      "metadata": {
        "colab_type": "code",
        "id": "hOQ7x5S4w4be",
        "outputId": "3984f661-1db9-4ad2-e2f1-09fccbf63fee",
        "colab": {
          "base_uri": "https://localhost:8080/",
          "height": 232
        }
      },
      "source": [
        "import keras\n",
        "import pydot as pyd\n",
        "from IPython.display import SVG\n",
        "from keras.utils.vis_utils import model_to_dot\n",
        "\n",
        "keras.utils.vis_utils.pydot = pyd\n",
        "\n",
        "def visualize_model(model):\n",
        "  return model_to_dot(model).create(prog='dot', format='svg')\n",
        "\n",
        "model_diagram = visualize_model(model)\n",
        "\n",
        "with open('../images/adj-feat-architecture-cnn.svg', 'wb') as f:\n",
        "    f.write(model_diagram)\n",
        "\n",
        "SVG(model_diagram)"
      ],
      "execution_count": 30,
      "outputs": [
        {
          "output_type": "error",
          "ename": "FileNotFoundError",
          "evalue": "ignored",
          "traceback": [
            "\u001b[0;31m---------------------------------------------------------------------------\u001b[0m",
            "\u001b[0;31mFileNotFoundError\u001b[0m                         Traceback (most recent call last)",
            "\u001b[0;32m<ipython-input-30-5aef8459f58d>\u001b[0m in \u001b[0;36m<module>\u001b[0;34m()\u001b[0m\n\u001b[1;32m     11\u001b[0m \u001b[0mmodel_diagram\u001b[0m \u001b[0;34m=\u001b[0m \u001b[0mvisualize_model\u001b[0m\u001b[0;34m(\u001b[0m\u001b[0mmodel\u001b[0m\u001b[0;34m)\u001b[0m\u001b[0;34m\u001b[0m\u001b[0;34m\u001b[0m\u001b[0m\n\u001b[1;32m     12\u001b[0m \u001b[0;34m\u001b[0m\u001b[0m\n\u001b[0;32m---> 13\u001b[0;31m \u001b[0;32mwith\u001b[0m \u001b[0mopen\u001b[0m\u001b[0;34m(\u001b[0m\u001b[0;34m'../images/adj-feat-architecture-cnn.svg'\u001b[0m\u001b[0;34m,\u001b[0m \u001b[0;34m'wb'\u001b[0m\u001b[0;34m)\u001b[0m \u001b[0;32mas\u001b[0m \u001b[0mf\u001b[0m\u001b[0;34m:\u001b[0m\u001b[0;34m\u001b[0m\u001b[0;34m\u001b[0m\u001b[0m\n\u001b[0m\u001b[1;32m     14\u001b[0m     \u001b[0mf\u001b[0m\u001b[0;34m.\u001b[0m\u001b[0mwrite\u001b[0m\u001b[0;34m(\u001b[0m\u001b[0mmodel_diagram\u001b[0m\u001b[0;34m)\u001b[0m\u001b[0;34m\u001b[0m\u001b[0;34m\u001b[0m\u001b[0m\n\u001b[1;32m     15\u001b[0m \u001b[0;34m\u001b[0m\u001b[0m\n",
            "\u001b[0;31mFileNotFoundError\u001b[0m: [Errno 2] No such file or directory: '../images/adj-feat-architecture-cnn.svg'"
          ]
        }
      ]
    },
    {
      "cell_type": "code",
      "metadata": {
        "colab_type": "code",
        "id": "gAErQWeyk8nz",
        "outputId": "b5d09b6b-28c3-4527-a64f-4d88397b7a6b",
        "scrolled": true,
        "colab": {
          "base_uri": "https://localhost:8080/",
          "height": 207
        }
      },
      "source": [
        "training_batch_generator = SparseToDenseGenerator(adj_train, feat_train, labels_train, batch_size)\n",
        "val_batch_generator = SparseToDenseGenerator(adj_val, feat_val, labels_val, batch_size)\n",
        "\n",
        "# unable to plot validation against training loss to see whether the model fits due to lack Resource Exhausted Error\n",
        "\n",
        "history = model.fit_generator(\n",
        "    generator=training_batch_generator,\n",
        "    validation_data=val_batch_generator, \n",
        "    epochs=epochs,\n",
        "    steps_per_epoch=steps_per_epoch\n",
        ")"
      ],
      "execution_count": 31,
      "outputs": [
        {
          "output_type": "stream",
          "text": [
            "Epoch 1/5\n",
            "168/168 [==============================] - 2828s 17s/step - loss: 0.6033 - acc: 0.6390 - val_loss: 0.4240 - val_acc: 0.7997\n",
            "Epoch 2/5\n",
            "168/168 [==============================] - 3001s 18s/step - loss: 0.3043 - acc: 0.8594 - val_loss: 0.2364 - val_acc: 0.9241\n",
            "Epoch 3/5\n",
            "168/168 [==============================] - 2834s 17s/step - loss: 0.1824 - acc: 0.9233 - val_loss: 0.2363 - val_acc: 0.9136\n",
            "Epoch 4/5\n",
            "168/168 [==============================] - 2854s 17s/step - loss: 0.1003 - acc: 0.9606 - val_loss: 0.1484 - val_acc: 0.9613\n",
            "Epoch 5/5\n",
            "168/168 [==============================] - 2915s 17s/step - loss: 0.0830 - acc: 0.9680 - val_loss: 0.1035 - val_acc: 0.9706\n"
          ],
          "name": "stdout"
        }
      ]
    },
    {
      "cell_type": "code",
      "metadata": {
        "id": "470BuB4e705u",
        "colab_type": "code",
        "colab": {
          "base_uri": "https://localhost:8080/",
          "height": 295
        },
        "outputId": "2d80ff51-2c62-40e3-fc80-c7d4c96af577"
      },
      "source": [
        "import matplotlib.pyplot as plt\n",
        "import numpy\n",
        "\n",
        "# summarize history for loss\n",
        "plt.plot(history.history['loss'])\n",
        "plt.plot(history.history['val_loss'])\n",
        "plt.title('model loss')\n",
        "plt.ylabel('loss')\n",
        "plt.xlabel('epoch')\n",
        "plt.legend(['train', 'validation'], loc='upper left')\n",
        "plt.show()"
      ],
      "execution_count": 34,
      "outputs": [
        {
          "output_type": "display_data",
          "data": {
            "image/png": "[encoded data removed]",
            "text/plain": [
              "<Figure size 432x288 with 1 Axes>"
            ]
          },
          "metadata": {
            "tags": []
          }
        }
      ]
    },
    {
      "cell_type": "code",
      "metadata": {
        "id": "gixQN8uTC5Ll",
        "colab_type": "code",
        "colab": {}
      },
      "source": [
        "with open('../data/adjacency-feature-matrix-history.pickle', 'wb') as f:\n",
        "    pickle.dump(history,f)"
      ],
      "execution_count": 0,
      "outputs": []
    },
    {
      "cell_type": "code",
      "metadata": {
        "colab_type": "code",
        "id": "Wk-asGoMk8oK",
        "colab": {}
      },
      "source": [
        "with open('../data/adjacency-feature-matrix-model-binary.pickle', 'wb') as f:\n",
        "    pickle.dump(model,f)"
      ],
      "execution_count": 0,
      "outputs": []
    },
    {
      "cell_type": "markdown",
      "metadata": {
        "colab_type": "text",
        "id": "w3476EyA3g-V"
      },
      "source": [
        "# Evaluation"
      ]
    },
    {
      "cell_type": "code",
      "metadata": {
        "colab_type": "code",
        "id": "bQcagc2HK0c3",
        "outputId": "3227b2a1-1942-4732-fbd6-582069c01144",
        "colab": {
          "base_uri": "https://localhost:8080/",
          "height": 54
        }
      },
      "source": [
        "model = None\n",
        "\n",
        "with open('../data/adjacency-feature-matrix-model-binary.pickle', 'rb') as f:\n",
        "    model = pickle.load(f)"
      ],
      "execution_count": 36,
      "outputs": [
        {
          "output_type": "stream",
          "text": [
            "W0822 15:31:51.057461 140095677523840 nn_ops.py:4224] Large dropout rate: 0.8 (>0.5). In TensorFlow 2.x, dropout() uses dropout rate instead of keep_prob. Please ensure that this is intended.\n"
          ],
          "name": "stderr"
        }
      ]
    },
    {
      "cell_type": "code",
      "metadata": {
        "colab_type": "code",
        "id": "nobNI0B1k8oP",
        "outputId": "9c38a559-21e2-494a-c359-998465132333",
        "scrolled": true,
        "colab": {
          "base_uri": "https://localhost:8080/",
          "height": 34
        }
      },
      "source": [
        "test_batch_generator = SparseToDenseGenerator(adj_test, feat_test, labels_test, batch_size)\n",
        "\n",
        "model.evaluate_generator(\n",
        "    generator=test_batch_generator,\n",
        ")"
      ],
      "execution_count": 37,
      "outputs": [
        {
          "output_type": "execute_result",
          "data": {
            "text/plain": [
              "[0.08559628619690601, 0.9714817081411211]"
            ]
          },
          "metadata": {
            "tags": []
          },
          "execution_count": 37
        }
      ]
    },
    {
      "cell_type": "markdown",
      "metadata": {
        "id": "KKFJBN29v32L",
        "colab_type": "text"
      },
      "source": [
        "# Visualisations"
      ]
    },
    {
      "cell_type": "code",
      "metadata": {
        "colab_type": "code",
        "id": "vnHI_fjlk8ob",
        "colab": {}
      },
      "source": [
        "import seaborn as sns\n",
        "from sklearn import metrics\n",
        "import matplotlib"
      ],
      "execution_count": 0,
      "outputs": []
    },
    {
      "cell_type": "code",
      "metadata": {
        "colab_type": "code",
        "id": "v4bFyChZOi0k",
        "colab": {}
      },
      "source": [
        "class SparseToDensePredictGenerator(keras.utils.Sequence):\n",
        "\n",
        "    def __init__(self, sparse_adjs, sparse_feats, batch_size):\n",
        "        self.sparse_adjs = sparse_adjs\n",
        "        self.sparse_feats = sparse_feats\n",
        "        self.batch_size = batch_size\n",
        "\n",
        "    def __len__(self):\n",
        "        return int(np.ceil(len(self.sparse_feats) / float(self.batch_size)))\n",
        "\n",
        "    def __getitem__(self, batch_num):\n",
        "        start_index = batch_num * self.batch_size\n",
        "        end_index = (batch_num + 1) * self.batch_size\n",
        "        \n",
        "        batch_sparse_adjs = self.sparse_adjs[start_index:end_index]\n",
        "        batch_sparse_feats = self.sparse_feats[start_index:end_index]\n",
        "        \n",
        "        batch_dense_adjs = np.array([sparse_matrix.todense() for sparse_matrix in batch_sparse_adjs])\n",
        "        batch_dense_feats = np.array([sparse_matrix.todense() for sparse_matrix in batch_sparse_feats])\n",
        "        \n",
        "        # TODO: move this somewhere better\n",
        "        # Conv2D requires an extra dimension for \"channels\", so we need to convert our data from\n",
        "        # the shape (batch_size, matrix_rows, matrix_columns)\n",
        "        # to (batch_size, matrix_rows, matrix_columns, 1)\n",
        "        batch_dense_adjs = np.reshape(batch_dense_adjs, batch_dense_adjs.shape + (1, ))\n",
        "        batch_dense_feats = np.reshape(batch_dense_feats, batch_dense_feats.shape + (1, ))\n",
        "\n",
        "        return [batch_dense_adjs, batch_dense_feats]"
      ],
      "execution_count": 0,
      "outputs": []
    },
    {
      "cell_type": "code",
      "metadata": {
        "colab_type": "code",
        "id": "5AJ9ozp5k8og",
        "colab": {}
      },
      "source": [
        "predict_batch_generator = SparseToDensePredictGenerator(adj_test, feat_test, batch_size)\n",
        "y_predict = model.predict_generator(predict_batch_generator)"
      ],
      "execution_count": 0,
      "outputs": []
    },
    {
      "cell_type": "code",
      "metadata": {
        "colab_type": "code",
        "id": "xrvhYYmFk8oo",
        "outputId": "40e7524b-6240-4583-b0d8-0ac5d8c42194",
        "colab": {
          "base_uri": "https://localhost:8080/",
          "height": 387
        }
      },
      "source": [
        "confusion_matrix = pd.DataFrame(\n",
        "    data=metrics.confusion_matrix(labels_test, np.rint(y_predict)),\n",
        ")\n",
        "\n",
        "confusion_figure, confusion_axes = matplotlib.pyplot.subplots()\n",
        "confusion_figure.set_size_inches(8, 5)\n",
        "confusion_axes.set_title(\n",
        "    'Confusion matrix showing the frequency of \\n'\n",
        "    'correct and incorrect bug classification predictions.'\n",
        "    '\\n\\n'  # hack to avoid overlap with x-axis labels below\n",
        ")\n",
        "confusion_axes.xaxis.tick_top()  # move x-axis labels to top of matrix\n",
        "_ = sns.heatmap(\n",
        "    confusion_matrix,\n",
        "    annot=True,\n",
        "    fmt=\"d\",\n",
        "    cmap=sns.color_palette(\"Blues\"),\n",
        "    vmin=0,\n",
        "    ax=confusion_axes,\n",
        ")"
      ],
      "execution_count": 41,
      "outputs": [
        {
          "output_type": "display_data",
          "data": {
            "image/png": "[encoded data removed]",
            "text/plain": [
              "<Figure size 576x360 with 2 Axes>"
            ]
          },
          "metadata": {
            "tags": []
          }
        }
      ]
    },
    {
      "cell_type": "code",
      "metadata": {
        "colab_type": "code",
        "id": "SFlZwTBIk8o8",
        "colab": {}
      },
      "source": [
        "# from sklearn.metrics import roc_curve\n",
        "# fpr_keras, tpr_keras, thresholds_keras = roc_curve(\n",
        "#     labels_test.astype(int),\n",
        "#     np.rint(y_predict),\n",
        "# )\n",
        "\n",
        "from sklearn.metrics import auc, roc_curve, precision_recall_curve, matthews_corrcoef, f1_score, roc_auc_score\n",
        "fpr_keras, tpr_keras, thresholds_keras = roc_curve(labels_test, np.rint(y_predict))\n",
        "precision, recall, thresholds = precision_recall_curve(labels_test, np.rint(y_predict))"
      ],
      "execution_count": 0,
      "outputs": []
    },
    {
      "cell_type": "code",
      "metadata": {
        "colab_type": "code",
        "id": "YE07cTFW5Tji",
        "colab": {}
      },
      "source": [
        "auc_keras = auc(fpr_keras, tpr_keras)\n",
        "roc_auc = roc_auc_score(labels_test, np.rint(y_predict))\n",
        "pr_auc = auc(recall, precision)\n",
        "f1 = f1_score(labels_test, np.rint(y_predict))\n",
        "mcc = matthews_corrcoef(labels_test, np.rint(y_predict))"
      ],
      "execution_count": 0,
      "outputs": []
    },
    {
      "cell_type": "code",
      "metadata": {
        "colab_type": "code",
        "id": "Bx52VzBO5eWx",
        "outputId": "c2238c38-943a-416b-aaab-ecf9865756ef",
        "colab": {
          "base_uri": "https://localhost:8080/",
          "height": 85
        }
      },
      "source": [
        "print('PR AUC: %.3f' % pr_auc)\n",
        "print('ROC AUC: %.3f' % roc_auc)\n",
        "print('MCC: %.3f' % mcc)\n",
        "print('F1: %.3f' % f1)"
      ],
      "execution_count": 44,
      "outputs": [
        {
          "output_type": "stream",
          "text": [
            "PR AUC: 0.980\n",
            "ROC AUC: 0.972\n",
            "MCC: 0.943\n",
            "F1: 0.972\n"
          ],
          "name": "stdout"
        }
      ]
    },
    {
      "cell_type": "code",
      "metadata": {
        "colab_type": "code",
        "id": "dhXN8iwbdHM0",
        "colab": {}
      },
      "source": [
        "with open('../data/cnn-adj-feat-roc','wb') as f:\n",
        "    pickle.dump(auc_keras, f)"
      ],
      "execution_count": 0,
      "outputs": []
    },
    {
      "cell_type": "code",
      "metadata": {
        "colab_type": "code",
        "id": "mM9vPPIGk8pO",
        "outputId": "a81c137d-6925-478e-a8f3-7f362cd02199",
        "colab": {
          "base_uri": "https://localhost:8080/",
          "height": 295
        }
      },
      "source": [
        "plt.plot(fpr_keras, tpr_keras, label='Keras (area = {:.3f})'.format(auc_keras))\n",
        "plt.xlabel('False positive rate')\n",
        "plt.ylabel('True positive rate')\n",
        "plt.title('ROC curve')\n",
        "plt.legend(loc='best')\n",
        "plt.show()"
      ],
      "execution_count": 46,
      "outputs": [
        {
          "output_type": "display_data",
          "data": {
            "image/png": "[encoded data removed]",
            "text/plain": [
              "<Figure size 432x288 with 1 Axes>"
            ]
          },
          "metadata": {
            "tags": []
          }
        }
      ]
    },
    {
      "cell_type": "code",
      "metadata": {
        "colab_type": "code",
        "id": "WIxU3yLeZqk3",
        "colab": {}
      },
      "source": [
        "tn, fp, fn, tp = metrics.confusion_matrix(\n",
        "    labels_test.astype(int), \n",
        "    np.rint(y_predict)\n",
        ").flatten().tolist()\n",
        "\n",
        "fpr_nn = fp/(fp+tp)\n",
        "fnr_nn = fn/(fn+tn)"
      ],
      "execution_count": 0,
      "outputs": []
    },
    {
      "cell_type": "code",
      "metadata": {
        "colab_type": "code",
        "id": "Irias0wiQ5uS",
        "outputId": "1ffa793e-3fa7-4c1f-f7aa-6d54a04fb623",
        "colab": {
          "base_uri": "https://localhost:8080/",
          "height": 34
        }
      },
      "source": [
        "fpr_nn, fnr_nn"
      ],
      "execution_count": 48,
      "outputs": [
        {
          "output_type": "execute_result",
          "data": {
            "text/plain": [
              "(0.02575107296137339, 0.03134796238244514)"
            ]
          },
          "metadata": {
            "tags": []
          },
          "execution_count": 48
        }
      ]
    },
    {
      "cell_type": "markdown",
      "metadata": {
        "colab_type": "text",
        "id": "3HaOZ3Rew4b5"
      },
      "source": [
        "## Random Padding (translational invariance)"
      ]
    },
    {
      "cell_type": "markdown",
      "metadata": {
        "id": "LaCbG3gRv32r",
        "colab_type": "text"
      },
      "source": [
        "Preprocess Dataset"
      ]
    },
    {
      "cell_type": "code",
      "metadata": {
        "colab_type": "code",
        "id": "la6thNnPw4b7",
        "colab": {}
      },
      "source": [
        "import random\n",
        "\n",
        "def random_padder(testcase, matrix_kind, target_rows, target_columns):\n",
        "    '''\n",
        "    Randomly pads matrix with zeros to the desired size\n",
        "    '''\n",
        "    \n",
        "#     import pdb; pdb.set_trace()\n",
        "    \n",
        "    rand = testcase.random_pad_amount\n",
        "    \n",
        "    if matrix_kind == 'adj':\n",
        "    \n",
        "      matrix = testcase.adjacency_matrix\n",
        "      \n",
        "      rows, columns = matrix.shape[0], matrix.shape[1]\n",
        "    \n",
        "      tl_row_corrector = csr_matrix((rand-rows, rows))\n",
        "      tl_col_corrector = csr_matrix((rand, rand-columns))\n",
        "    \n",
        "      tl_matrix = vstack([tl_row_corrector, matrix])\n",
        "      tl_matrix = hstack([tl_col_corrector, tl_matrix])\n",
        "    \n",
        "      rows, columns = tl_matrix.shape[0], tl_matrix.shape[1]\n",
        "    \n",
        "      br_row_corrector = csr_matrix((target_rows-rows, rows))\n",
        "      br_col_corrector = csr_matrix((target_columns, target_columns-columns))\n",
        "\n",
        "      br_matrix = vstack([tl_matrix, br_row_corrector])\n",
        "      br_matrix = hstack([br_matrix, br_col_corrector])   \n",
        "    \n",
        "    elif matrix_kind == 'feat':\n",
        "      \n",
        "      matrix = testcase.feature_matrix\n",
        "      \n",
        "      rows, columns = matrix.shape[0], matrix.shape[1]\n",
        "    \n",
        "      tl_row_corrector = csr_matrix((rand-rows, columns))\n",
        "    \n",
        "      tl_matrix = vstack([tl_row_corrector, matrix])\n",
        "    \n",
        "      rows, columns = tl_matrix.shape[0], tl_matrix.shape[1]\n",
        "    \n",
        "      br_row_corrector = csr_matrix((target_rows-rows, columns))\n",
        "\n",
        "      br_matrix = vstack([tl_matrix, br_row_corrector])\n",
        "\n",
        "    br_matrix = br_matrix.astype(np.int)\n",
        "    \n",
        "    return br_matrix"
      ],
      "execution_count": 0,
      "outputs": []
    },
    {
      "cell_type": "code",
      "metadata": {
        "colab_type": "code",
        "id": "C_dc9Xqiw4b8",
        "colab": {}
      },
      "source": [
        "rand_adj_df = orig_df.copy()"
      ],
      "execution_count": 0,
      "outputs": []
    },
    {
      "cell_type": "code",
      "metadata": {
        "colab_type": "code",
        "id": "lmf2t3TNw4b_",
        "colab": {}
      },
      "source": [
        "rand_adj_df['padded_adj_matrix'] = rand_adj_df.apply(lambda m: random_padder(m, 'adj', matrix_size, matrix_size), axis = 1)"
      ],
      "execution_count": 0,
      "outputs": []
    },
    {
      "cell_type": "code",
      "metadata": {
        "colab_type": "code",
        "id": "TAj33TyCR1C6",
        "colab": {}
      },
      "source": [
        "rand_feat_df = orig_df.copy()"
      ],
      "execution_count": 0,
      "outputs": []
    },
    {
      "cell_type": "code",
      "metadata": {
        "colab_type": "code",
        "id": "xRMrmQRjycNZ",
        "colab": {}
      },
      "source": [
        "rand_feat_df['padded_feat_matrix'] = rand_feat_df.apply(lambda m: random_padder(m, 'feat', matrix_size, num_features), axis = 1)"
      ],
      "execution_count": 0,
      "outputs": []
    },
    {
      "cell_type": "markdown",
      "metadata": {
        "id": "H5dJOakrv322",
        "colab_type": "text"
      },
      "source": [
        "Training on standard padded, testing on randomly padded:"
      ]
    },
    {
      "cell_type": "code",
      "metadata": {
        "colab_type": "code",
        "id": "qa0w9K9Kw4cB",
        "colab": {}
      },
      "source": [
        "testcase_ids_rand = orig_df['testcase_ID'].values\n",
        "adjacency_matrices_rand = rand_adj_df['padded_adj_matrix'].values\n",
        "feature_matrices_rand = rand_feat_df['padded_feat_matrix'].values\n",
        "labels_rand = orig_df['bug'].values"
      ],
      "execution_count": 0,
      "outputs": []
    },
    {
      "cell_type": "code",
      "metadata": {
        "colab_type": "code",
        "id": "KWOk17-qw4cD",
        "colab": {}
      },
      "source": [
        "adj_train_rand, adj_test_rand, feat_train_rand, feat_test_rand, labels_train_rand, labels_test_rand = train_test_split(adjacency_matrices_rand, feature_matrices_rand, labels_rand, test_size=0.2, random_state=0)\n",
        "adj_train_rand, adj_val_rand, feat_train_rand, feat_val_rand, labels_train_rand, labels_val_rand = train_test_split(adj_train_rand, feat_train_rand, labels_train_rand, test_size=0.2, random_state=0)"
      ],
      "execution_count": 0,
      "outputs": []
    },
    {
      "cell_type": "code",
      "metadata": {
        "colab_type": "code",
        "id": "kT9FL2m8w4cF",
        "colab": {
          "base_uri": "https://localhost:8080/",
          "height": 34
        },
        "outputId": "66fc3258-5e4e-4a1d-83cd-f66382523816"
      },
      "source": [
        "test_batch_generator_rand = SparseToDenseGenerator(adj_test_rand, feat_test_rand, labels_test_rand, batch_size)\n",
        "\n",
        "model.evaluate_generator(\n",
        "    generator=test_batch_generator_rand,\n",
        ")"
      ],
      "execution_count": 67,
      "outputs": [
        {
          "output_type": "execute_result",
          "data": {
            "text/plain": [
              "[5.528577828510755, 0.511779294886799]"
            ]
          },
          "metadata": {
            "tags": []
          },
          "execution_count": 67
        }
      ]
    },
    {
      "cell_type": "markdown",
      "metadata": {
        "colab_type": "text",
        "id": "2F2PPcsATMSb"
      },
      "source": [
        "51% accuracy when testing on the randomly padded when model was trained on normal padded"
      ]
    },
    {
      "cell_type": "markdown",
      "metadata": {
        "id": "ZuhegcRDv328",
        "colab_type": "text"
      },
      "source": [
        "Visualisations:"
      ]
    },
    {
      "cell_type": "code",
      "metadata": {
        "colab_type": "code",
        "id": "sav6yM7Bw4cG",
        "colab": {}
      },
      "source": [
        "predict_batch_generator_rand = SparseToDensePredictGenerator(adj_test_rand, feat_test_rand, batch_size)\n",
        "y_predict_rand = model.predict_generator(predict_batch_generator_rand)"
      ],
      "execution_count": 0,
      "outputs": []
    },
    {
      "cell_type": "code",
      "metadata": {
        "colab_type": "code",
        "id": "wFVVmc9lw4cJ",
        "outputId": "5f03d015-6e42-4fc5-f5a4-cf3656b43599",
        "colab": {
          "base_uri": "https://localhost:8080/",
          "height": 387
        }
      },
      "source": [
        "confusion_matrix = pd.DataFrame(\n",
        "    data=metrics.confusion_matrix(labels_test, np.rint(y_predict_rand)),\n",
        ")\n",
        "\n",
        "confusion_figure, confusion_axes = matplotlib.pyplot.subplots()\n",
        "confusion_figure.set_size_inches(8, 5)\n",
        "confusion_axes.set_title(\n",
        "    'Confusion matrix showing the frequency of \\n'\n",
        "    'correct and incorrect bug classification predictions.'\n",
        "    '\\n\\n'  # hack to avoid overlap with x-axis labels below\n",
        ")\n",
        "confusion_axes.xaxis.tick_top()  # move x-axis labels to top of matrix\n",
        "_ = sns.heatmap(\n",
        "    confusion_matrix,\n",
        "    annot=True,\n",
        "    fmt=\"d\",\n",
        "    cmap=sns.color_palette(\"Blues\"),\n",
        "    vmin=0,\n",
        "    ax=confusion_axes,\n",
        ")"
      ],
      "execution_count": 70,
      "outputs": [
        {
          "output_type": "display_data",
          "data": {
            "image/png": "[encoded data removed]",
            "text/plain": [
              "<Figure size 576x360 with 2 Axes>"
            ]
          },
          "metadata": {
            "tags": []
          }
        }
      ]
    },
    {
      "cell_type": "code",
      "metadata": {
        "colab_type": "code",
        "id": "LNVjd6hyw4cK",
        "colab": {}
      },
      "source": [
        "# from sklearn.metrics import roc_curve\n",
        "# fpr_keras, tpr_keras, thresholds_keras = roc_curve(\n",
        "#     labels_test_rand.astype(int),\n",
        "#     np.rint(y_predict_rand),\n",
        "# )\n",
        "\n",
        "fpr_keras, tpr_keras, thresholds_keras = roc_curve(labels_test_rand.astype(int), np.rint(y_predict_rand))\n",
        "precision, recall, thresholds = precision_recall_curve(labels_test_rand.astype(int), np.rint(y_predict_rand))"
      ],
      "execution_count": 0,
      "outputs": []
    },
    {
      "cell_type": "code",
      "metadata": {
        "colab_type": "code",
        "id": "10XgWN4K6Fmi",
        "outputId": "8086597a-6a7a-44a6-9cf9-fba47df8e765",
        "colab": {
          "base_uri": "https://localhost:8080/",
          "height": 85
        }
      },
      "source": [
        "auc_keras = auc(fpr_keras, tpr_keras)\n",
        "roc_auc = roc_auc_score(labels_test_rand.astype(int), np.rint(y_predict_rand))\n",
        "pr_auc = auc(recall, precision)\n",
        "f1 = f1_score(labels_test_rand.astype(int), np.rint(y_predict_rand))\n",
        "mcc = matthews_corrcoef(labels_test_rand.astype(int), np.rint(y_predict_rand))\n",
        "\n",
        "print('PR AUC: %.3f' % pr_auc)\n",
        "print('ROC AUC: %.3f' % roc_auc)\n",
        "print('MCC: %.3f' % mcc)\n",
        "print('F1: %.3f' % f1)"
      ],
      "execution_count": 72,
      "outputs": [
        {
          "output_type": "stream",
          "text": [
            "PR AUC: 0.583\n",
            "ROC AUC: 0.518\n",
            "MCC: 0.061\n",
            "F1: 0.198\n"
          ],
          "name": "stdout"
        }
      ]
    },
    {
      "cell_type": "code",
      "metadata": {
        "colab_type": "code",
        "id": "dWKQnpOfw4cP",
        "outputId": "5b83accc-e4a5-4968-e80c-c868f473d326",
        "colab": {
          "base_uri": "https://localhost:8080/",
          "height": 295
        }
      },
      "source": [
        "plt.plot(fpr_keras, tpr_keras, label='Keras (area = {:.3f})'.format(auc_keras))\n",
        "plt.xlabel('False positive rate')\n",
        "plt.ylabel('True positive rate')\n",
        "plt.title('ROC curve')\n",
        "plt.legend(loc='best')\n",
        "plt.show()"
      ],
      "execution_count": 73,
      "outputs": [
        {
          "output_type": "display_data",
          "data": {
            "image/png": "[encoded data removed]",
            "text/plain": [
              "<Figure size 432x288 with 1 Axes>"
            ]
          },
          "metadata": {
            "tags": []
          }
        }
      ]
    },
    {
      "cell_type": "markdown",
      "metadata": {
        "colab_type": "text",
        "id": "vQeGoVlkT2xG"
      },
      "source": [
        "Basically, no better than a random guess."
      ]
    },
    {
      "cell_type": "code",
      "metadata": {
        "colab_type": "code",
        "id": "O6vl2-nDhCUW",
        "colab": {}
      },
      "source": [
        "tn, fp, fn, tp = metrics.confusion_matrix(\n",
        "    labels_test.astype(int), \n",
        "    np.rint(y_predict_rand)\n",
        ").flatten().tolist()\n",
        "\n",
        "fpr_nn = fp/(fp+tp)\n",
        "fnr_nn = fn/(fn+tn)"
      ],
      "execution_count": 0,
      "outputs": []
    },
    {
      "cell_type": "code",
      "metadata": {
        "colab_type": "code",
        "id": "c5V82XzAw4cR",
        "outputId": "831c32ca-3c20-4395-983f-f050ff704f33",
        "colab": {
          "base_uri": "https://localhost:8080/",
          "height": 34
        }
      },
      "source": [
        "fpr_nn, fnr_nn"
      ],
      "execution_count": 75,
      "outputs": [
        {
          "output_type": "execute_result",
          "data": {
            "text/plain": [
              "(0.4012345679012346, 0.49793246037215716)"
            ]
          },
          "metadata": {
            "tags": []
          },
          "execution_count": 75
        }
      ]
    },
    {
      "cell_type": "markdown",
      "metadata": {
        "colab_type": "text",
        "id": "NxR6EIAET6f9"
      },
      "source": [
        "Now we will use random padding for both training and testing:"
      ]
    },
    {
      "cell_type": "markdown",
      "metadata": {
        "id": "WqeOMtJhKzoO",
        "colab_type": "text"
      },
      "source": [
        "# To DO: run model"
      ]
    },
    {
      "cell_type": "code",
      "metadata": {
        "colab_type": "code",
        "id": "JbteNLe6UIQw",
        "outputId": "2a54dbf8-a4ef-45c0-e632-262332a4cebe",
        "colab": {
          "base_uri": "https://localhost:8080/",
          "height": 252
        }
      },
      "source": [
        "training_batch_generator = SparseToDenseGenerator(adj_train_rand, feat_train_rand, labels_train_rand, batch_size)\n",
        "val_batch_generator = SparseToDenseGenerator(adj_val_rand, feat_val_rand, labels_val_rand, batch_size)\n",
        "\n",
        "history = model.fit_generator(\n",
        "    generator=training_batch_generator,\n",
        "    validation_data=val_batch_generator,\n",
        "    epochs=epochs,\n",
        "    steps_per_epoch=steps_per_epoch\n",
        ")"
      ],
      "execution_count": 5,
      "outputs": [
        {
          "output_type": "error",
          "ename": "NameError",
          "evalue": "ignored",
          "traceback": [
            "\u001b[0;31m---------------------------------------------------------------------------\u001b[0m",
            "\u001b[0;31mNameError\u001b[0m                                 Traceback (most recent call last)",
            "\u001b[0;32m<ipython-input-5-4cd8ce8ef864>\u001b[0m in \u001b[0;36m<module>\u001b[0;34m()\u001b[0m\n\u001b[0;32m----> 1\u001b[0;31m \u001b[0mtraining_batch_generator\u001b[0m \u001b[0;34m=\u001b[0m \u001b[0mSparseToDenseGenerator\u001b[0m\u001b[0;34m(\u001b[0m\u001b[0madj_train_rand\u001b[0m\u001b[0;34m,\u001b[0m \u001b[0mfeat_train_rand\u001b[0m\u001b[0;34m,\u001b[0m \u001b[0mlabels_train_rand\u001b[0m\u001b[0;34m,\u001b[0m \u001b[0mbatch_size\u001b[0m\u001b[0;34m)\u001b[0m\u001b[0;34m\u001b[0m\u001b[0;34m\u001b[0m\u001b[0m\n\u001b[0m\u001b[1;32m      2\u001b[0m \u001b[0mval_batch_generator\u001b[0m \u001b[0;34m=\u001b[0m \u001b[0mSparseToDenseGenerator\u001b[0m\u001b[0;34m(\u001b[0m\u001b[0madj_val_rand\u001b[0m\u001b[0;34m,\u001b[0m \u001b[0mfeat_val_rand\u001b[0m\u001b[0;34m,\u001b[0m \u001b[0mlabels_val_rand\u001b[0m\u001b[0;34m,\u001b[0m \u001b[0mbatch_size\u001b[0m\u001b[0;34m)\u001b[0m\u001b[0;34m\u001b[0m\u001b[0;34m\u001b[0m\u001b[0m\n\u001b[1;32m      3\u001b[0m \u001b[0;34m\u001b[0m\u001b[0m\n\u001b[1;32m      4\u001b[0m history = model.fit_generator(\n\u001b[1;32m      5\u001b[0m     \u001b[0mgenerator\u001b[0m\u001b[0;34m=\u001b[0m\u001b[0mtraining_batch_generator\u001b[0m\u001b[0;34m,\u001b[0m\u001b[0;34m\u001b[0m\u001b[0;34m\u001b[0m\u001b[0m\n",
            "\u001b[0;31mNameError\u001b[0m: name 'SparseToDenseGenerator' is not defined"
          ]
        }
      ]
    },
    {
      "cell_type": "code",
      "metadata": {
        "id": "wIFayrVAEnNt",
        "colab_type": "code",
        "colab": {}
      },
      "source": [
        "with open('../data/adjacency-feature-matrix-random-padding-history.pickle', 'wb') as f:\n",
        "    pickle.dump(history,f)"
      ],
      "execution_count": 0,
      "outputs": []
    },
    {
      "cell_type": "code",
      "metadata": {
        "id": "CrKKc0El7pdZ",
        "colab_type": "code",
        "colab": {
          "base_uri": "https://localhost:8080/",
          "height": 232
        },
        "outputId": "0badb91b-ac01-4750-880a-35bb290d1236"
      },
      "source": [
        "# summarize history for loss\n",
        "plt.plot(history.history['loss'])\n",
        "plt.plot(history.history['val_loss'])\n",
        "plt.title('model loss')\n",
        "plt.ylabel('loss')\n",
        "plt.xlabel('epoch')\n",
        "plt.legend(['train', 'validation'], loc='upper left')\n",
        "plt.show()"
      ],
      "execution_count": 32,
      "outputs": [
        {
          "output_type": "error",
          "ename": "NameError",
          "evalue": "ignored",
          "traceback": [
            "\u001b[0;31m---------------------------------------------------------------------------\u001b[0m",
            "\u001b[0;31mNameError\u001b[0m                                 Traceback (most recent call last)",
            "\u001b[0;32m<ipython-input-32-7d9a4bf4eba4>\u001b[0m in \u001b[0;36m<module>\u001b[0;34m()\u001b[0m\n\u001b[0;32m----> 1\u001b[0;31m \u001b[0mplt\u001b[0m\u001b[0;34m.\u001b[0m\u001b[0mplot\u001b[0m\u001b[0;34m(\u001b[0m\u001b[0mhistory\u001b[0m\u001b[0;34m.\u001b[0m\u001b[0mhistory\u001b[0m\u001b[0;34m[\u001b[0m\u001b[0;34m'loss'\u001b[0m\u001b[0;34m]\u001b[0m\u001b[0;34m)\u001b[0m\u001b[0;34m\u001b[0m\u001b[0;34m\u001b[0m\u001b[0m\n\u001b[0m\u001b[1;32m      2\u001b[0m \u001b[0mplt\u001b[0m\u001b[0;34m.\u001b[0m\u001b[0mplot\u001b[0m\u001b[0;34m(\u001b[0m\u001b[0mhistory\u001b[0m\u001b[0;34m.\u001b[0m\u001b[0mhistory\u001b[0m\u001b[0;34m[\u001b[0m\u001b[0;34m'val_loss'\u001b[0m\u001b[0;34m]\u001b[0m\u001b[0;34m)\u001b[0m\u001b[0;34m\u001b[0m\u001b[0;34m\u001b[0m\u001b[0m\n\u001b[1;32m      3\u001b[0m \u001b[0mplt\u001b[0m\u001b[0;34m.\u001b[0m\u001b[0mtitle\u001b[0m\u001b[0;34m(\u001b[0m\u001b[0;34m'model loss'\u001b[0m\u001b[0;34m)\u001b[0m\u001b[0;34m\u001b[0m\u001b[0;34m\u001b[0m\u001b[0m\n\u001b[1;32m      4\u001b[0m \u001b[0mplt\u001b[0m\u001b[0;34m.\u001b[0m\u001b[0mylabel\u001b[0m\u001b[0;34m(\u001b[0m\u001b[0;34m'loss'\u001b[0m\u001b[0;34m)\u001b[0m\u001b[0;34m\u001b[0m\u001b[0;34m\u001b[0m\u001b[0m\n\u001b[1;32m      5\u001b[0m \u001b[0mplt\u001b[0m\u001b[0;34m.\u001b[0m\u001b[0mxlabel\u001b[0m\u001b[0;34m(\u001b[0m\u001b[0;34m'epoch'\u001b[0m\u001b[0;34m)\u001b[0m\u001b[0;34m\u001b[0m\u001b[0;34m\u001b[0m\u001b[0m\n",
            "\u001b[0;31mNameError\u001b[0m: name 'plt' is not defined"
          ]
        }
      ]
    },
    {
      "cell_type": "code",
      "metadata": {
        "colab_type": "code",
        "id": "soY4jMSTV97-",
        "colab": {}
      },
      "source": [
        "with open('../data/adjacency-feature-matrix-random-padding-model-binary.pickle', 'wb') as f:\n",
        "    pickle.dump(model,f)"
      ],
      "execution_count": 0,
      "outputs": []
    },
    {
      "cell_type": "code",
      "metadata": {
        "colab_type": "code",
        "id": "RH3_ki-uTV0G",
        "colab": {}
      },
      "source": [
        "model = None\n",
        "\n",
        "with open('../data/adjacency-feature-matrix-random-padding-model-binary.pickle', 'rb') as f:\n",
        "    model = pickle.load(f)"
      ],
      "execution_count": 0,
      "outputs": []
    },
    {
      "cell_type": "code",
      "metadata": {
        "colab_type": "code",
        "id": "S5Cs1qaMS_Gv",
        "outputId": "2f139155-c08f-46dc-c114-3e46e3a25569",
        "colab": {
          "base_uri": "https://localhost:8080/",
          "height": 34
        }
      },
      "source": [
        "test_batch_generator_rand = SparseToDenseGenerator(adj_test_rand, feat_test_rand, labels_test_rand, batch_size)\n",
        "\n",
        "model.evaluate_generator(\n",
        "    generator=test_batch_generator_rand,\n",
        ")"
      ],
      "execution_count": 0,
      "outputs": [
        {
          "output_type": "execute_result",
          "data": {
            "text/plain": [
              "[0.5007443990459075, 0.8871667704372324]"
            ]
          },
          "metadata": {
            "tags": []
          },
          "execution_count": 49
        }
      ]
    },
    {
      "cell_type": "markdown",
      "metadata": {
        "id": "Fwxz3SNav33Q",
        "colab_type": "text"
      },
      "source": [
        "88.7% accuracy"
      ]
    },
    {
      "cell_type": "markdown",
      "metadata": {
        "id": "z8PK45jgv33Q",
        "colab_type": "text"
      },
      "source": [
        "Visualisations:"
      ]
    },
    {
      "cell_type": "code",
      "metadata": {
        "colab_type": "code",
        "id": "kr5blNJtTcu-",
        "colab": {}
      },
      "source": [
        "predict_batch_generator_rand = SparseToDensePredictGenerator(adj_test_rand, feat_test_rand, batch_size)\n",
        "y_predict_rand = model.predict_generator(predict_batch_generator_rand)"
      ],
      "execution_count": 0,
      "outputs": []
    },
    {
      "cell_type": "code",
      "metadata": {
        "colab_type": "code",
        "id": "WJytHs7D1dJm",
        "outputId": "3bf4b09e-e4e8-491d-faf9-d851d126d454",
        "colab": {
          "base_uri": "https://localhost:8080/",
          "height": 278
        }
      },
      "source": [
        "confusion_matrix = pd.DataFrame(\n",
        "    data=metrics.confusion_matrix(labels_test_rand, np.rint(y_predict_rand)),\n",
        ")\n",
        "\n",
        "confusion_figure, confusion_axes = matplotlib.pyplot.subplots()\n",
        "confusion_figure.set_size_inches(8, 5)\n",
        "confusion_axes.set_title(\n",
        "    'Confusion matrix showing the frequency of \\n'\n",
        "    'correct and incorrect bug classification predictions.'\n",
        "    '\\n\\n'  # hack to avoid overlap with x-axis labels below\n",
        ")\n",
        "confusion_axes.xaxis.tick_top()  # move x-axis labels to top of matrix\n",
        "_ = sns.heatmap(\n",
        "    confusion_matrix,\n",
        "    annot=True,\n",
        "    fmt=\"d\",\n",
        "    cmap=sns.color_palette(\"Blues\"),\n",
        "    vmin=0,\n",
        "    ax=confusion_axes,\n",
        ")"
      ],
      "execution_count": 0,
      "outputs": [
        {
          "output_type": "display_data",
          "data": {
            "image/png": "[encoded data removed]",
            "text/plain": [
              "<Figure size 360x216 with 2 Axes>"
            ]
          },
          "metadata": {
            "tags": []
          }
        }
      ]
    },
    {
      "cell_type": "code",
      "metadata": {
        "colab_type": "code",
        "id": "1UxJpkub1jZg",
        "colab": {}
      },
      "source": [
        "# fpr_keras, tpr_keras, thresholds_keras = roc_curve(\n",
        "#     labels_test_rand.astype(int),\n",
        "#     np.rint(y_predict_rand),\n",
        "# )\n",
        "\n",
        "fpr_keras, tpr_keras, thresholds_keras = roc_curve(labels_test_rand.astype(int), np.rint(y_predict_rand))\n",
        "precision, recall, thresholds = precision_recall_curve(labels_test_rand.astype(int), np.rint(y_predict_rand))"
      ],
      "execution_count": 0,
      "outputs": []
    },
    {
      "cell_type": "code",
      "metadata": {
        "colab_type": "code",
        "id": "oSIAqe-Z6swy",
        "outputId": "05ae051d-e00a-4c94-f442-cbb20bd43f15",
        "colab": {
          "base_uri": "https://localhost:8080/",
          "height": 85
        }
      },
      "source": [
        "auc_keras = auc(fpr_keras, tpr_keras)\n",
        "roc_auc = roc_auc_score(labels_test_rand.astype(int), np.rint(y_predict_rand))\n",
        "pr_auc = auc(recall, precision)\n",
        "f1 = f1_score(labels_test_rand.astype(int), np.rint(y_predict_rand))\n",
        "mcc = matthews_corrcoef(labels_test_rand.astype(int), np.rint(y_predict_rand))\n",
        "\n",
        "print('PR AUC: %.3f' % pr_auc)\n",
        "print('ROC AUC: %.3f' % roc_auc)\n",
        "print('MCC: %.3f' % mcc)\n",
        "print('F1: %.3f' % f1)"
      ],
      "execution_count": 0,
      "outputs": [
        {
          "output_type": "stream",
          "text": [
            "PR AUC: 0.922\n",
            "ROC AUC: 0.887\n",
            "MCC: 0.774\n",
            "F1: 0.884\n"
          ],
          "name": "stdout"
        }
      ]
    },
    {
      "cell_type": "code",
      "metadata": {
        "colab_type": "code",
        "id": "cZrd7y52dhv-",
        "colab": {}
      },
      "source": [
        "with open('../data/cnn-adj-feat-rand-pad-roc','wb') as f:\n",
        "    pickle.dump(auc_keras, f)"
      ],
      "execution_count": 0,
      "outputs": []
    },
    {
      "cell_type": "code",
      "metadata": {
        "colab_type": "code",
        "id": "Eowd-MKC1pwa",
        "outputId": "b428b914-e6f5-4b08-a4da-edeaca84b722",
        "colab": {
          "base_uri": "https://localhost:8080/",
          "height": 295
        }
      },
      "source": [
        "auc_keras = auc(fpr_keras, tpr_keras)\n",
        "plt.plot(fpr_keras, tpr_keras, label='Keras (area = {:.3f})'.format(auc_keras))\n",
        "plt.xlabel('False positive rate')\n",
        "plt.ylabel('True positive rate')\n",
        "plt.title('ROC curve')\n",
        "plt.legend(loc='best')\n",
        "plt.show()"
      ],
      "execution_count": 0,
      "outputs": [
        {
          "output_type": "display_data",
          "data": {
            "image/png": "[encoded data removed]",
            "text/plain": [
              "<Figure size 432x288 with 1 Axes>"
            ]
          },
          "metadata": {
            "tags": []
          }
        }
      ]
    },
    {
      "cell_type": "code",
      "metadata": {
        "colab_type": "code",
        "id": "sf7wP8kZ1xG_",
        "colab": {}
      },
      "source": [
        "tn, fp, fn, tp = metrics.confusion_matrix(\n",
        "    labels_test.astype(int), \n",
        "    np.rint(y_predict_rand)\n",
        ").flatten().tolist()\n",
        "\n",
        "fpr_nn = fp/(fp+tp)\n",
        "fnr_nn = fn/(fn+tn)\n",
        "\n",
        "fpr_nn, fnr_nn"
      ],
      "execution_count": 0,
      "outputs": []
    },
    {
      "cell_type": "markdown",
      "metadata": {
        "colab_type": "text",
        "id": "ICTG5eF513EC"
      },
      "source": [
        "Now testing the model on standard padded matrices when trained on random padding:"
      ]
    },
    {
      "cell_type": "code",
      "metadata": {
        "colab_type": "code",
        "id": "dN5oYoAK12Gw",
        "outputId": "09e49fbf-89f2-4bcf-e67a-1b3d98fea042",
        "colab": {
          "base_uri": "https://localhost:8080/",
          "height": 34
        }
      },
      "source": [
        "test_batch_generator = SparseToDenseGenerator(adj_test, feat_test, labels_test, batch_size)\n",
        "\n",
        "model.evaluate_generator(\n",
        "    generator=test_batch_generator,\n",
        ")"
      ],
      "execution_count": 0,
      "outputs": [
        {
          "output_type": "execute_result",
          "data": {
            "text/plain": [
              "[5.511991235090942, 0.5365778041861475]"
            ]
          },
          "metadata": {
            "tags": []
          },
          "execution_count": 44
        }
      ]
    },
    {
      "cell_type": "markdown",
      "metadata": {
        "colab_type": "text",
        "id": "YuN2D-Dp6dhA"
      },
      "source": [
        "53.65% accuracy"
      ]
    }
  ]
}