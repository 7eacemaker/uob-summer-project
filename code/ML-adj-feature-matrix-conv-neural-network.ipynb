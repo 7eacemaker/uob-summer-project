{
 "cells": [
  {
   "cell_type": "markdown",
   "metadata": {
    "colab_type": "text",
    "id": "WD7BVc9Bk8jQ"
   },
   "source": [
    "Notebook for training and testing a neural network model using an adjacency and feature matrix represention of the buffer overflow datapoints in an AST format. \n",
    "\n",
    "First, the data is padded with zeros in a standardized format - from the right and down.\n",
    "\n",
    "Next, we incorporate random padding on the matrices in the testing dataset. \n",
    "\n",
    "Then, we randomly pad both the training and testing dataset.\n",
    "\n",
    "Finally, we train the model on randomly padded data and test on standardized padded data. "
   ]
  },
  {
   "cell_type": "markdown",
   "metadata": {
    "colab_type": "text",
    "id": "K4oesAZzmRhL"
   },
   "source": [
    "# Colab Setup"
   ]
  },
  {
   "cell_type": "code",
   "execution_count": 1,
   "metadata": {
    "colab": {
     "base_uri": "https://localhost:8080/",
     "height": 1000
    },
    "colab_type": "code",
    "id": "W3hzFsJWtCn-",
    "outputId": "980c2802-5189-4e4a-c947-5c91f24d8666"
   },
   "outputs": [
    {
     "name": "stdout",
     "output_type": "stream",
     "text": [
      "--2019-08-22 22:37:28--  https://github.com/dj311/uob-summer-project/raw/master/data/adj.pickle\n",
      "Resolving github.com (github.com)... 140.82.113.4\n",
      "Connecting to github.com (github.com)|140.82.113.4|:443... connected.\n",
      "HTTP request sent, awaiting response... 302 Found\n",
      "Location: https://media.githubusercontent.com/media/dj311/uob-summer-project/master/data/adj.pickle [following]\n",
      "--2019-08-22 22:37:29--  https://media.githubusercontent.com/media/dj311/uob-summer-project/master/data/adj.pickle\n",
      "Resolving media.githubusercontent.com (media.githubusercontent.com)... 151.101.0.133, 151.101.64.133, 151.101.128.133, ...\n",
      "Connecting to media.githubusercontent.com (media.githubusercontent.com)|151.101.0.133|:443... connected.\n",
      "HTTP request sent, awaiting response... 200 OK\n",
      "Length: 1320521199 (1.2G) [application/octet-stream]\n",
      "Saving to: ‘adj.pickle’\n",
      "\n",
      "adj.pickle          100%[===================>]   1.23G   300MB/s    in 4.2s    \n",
      "\n",
      "2019-08-22 22:37:52 (297 MB/s) - ‘adj.pickle’ saved [1320521199/1320521199]\n",
      "\n",
      "--2019-08-26 09:07:01--  https://github.com/dj311/uob-summer-project/raw/master/data/adjacency-feature-matrix-random-padding-model-binary.pickle\n",
      "Resolving github.com (github.com)... 140.82.118.4\n",
      "Connecting to github.com (github.com)|140.82.118.4|:443... connected.\n",
      "HTTP request sent, awaiting response... 302 Found\n",
      "Location: https://media.githubusercontent.com/media/dj311/uob-summer-project/master/data/adjacency-feature-matrix-random-padding-model-binary.pickle [following]\n",
      "--2019-08-22 22:37:53--  https://media.githubusercontent.com/media/dj311/uob-summer-project/master/data/adjacency-feature-matrix-random-padding-model-binary.pickle\n",
      "Resolving media.githubusercontent.com (media.githubusercontent.com)... 151.101.0.133, 151.101.64.133, 151.101.128.133, ...\n",
      "Connecting to media.githubusercontent.com (media.githubusercontent.com)|151.101.0.133|:443... connected.\n",
      "HTTP request sent, awaiting response... 200 OK\n",
      "Length: 323108598 (308M) [application/octet-stream]\n",
      "Saving to: ‘adjacency-feature-matrix-random-padding-model-binary.pickle’\n",
      "\n",
      "adjacency-feature-m 100%[===================>] 308.14M   296MB/s    in 1.0s    \n",
      "\n",
      "2019-08-22 22:38:00 (296 MB/s) - ‘adjacency-feature-matrix-random-padding-model-binary.pickle’ saved [323108598/323108598]\n",
      "\n",
      "--2019-08-26 09:07:08--  https://github.com/dj311/uob-summer-project/raw/master/data/adjacency-feature-matrix-model-binary.pickle\n",
      "Resolving github.com (github.com)... 140.82.118.4\n",
      "Connecting to github.com (github.com)|140.82.118.4|:443... connected.\n",
      "HTTP request sent, awaiting response... 302 Found\n",
      "Location: https://media.githubusercontent.com/media/dj311/uob-summer-project/master/data/adjacency-feature-matrix-model-binary.pickle [following]\n",
      "--2019-08-26 09:07:08--  https://media.githubusercontent.com/media/dj311/uob-summer-project/master/data/adjacency-feature-matrix-model-binary.pickle\n",
      "Resolving media.githubusercontent.com (media.githubusercontent.com)... 151.101.0.133, 151.101.64.133, 151.101.128.133, ...\n",
      "Connecting to media.githubusercontent.com (media.githubusercontent.com)|151.101.0.133|:443... connected.\n",
      "HTTP request sent, awaiting response... 200 OK\n",
      "Length: 323109163 (308M) [application/octet-stream]\n",
      "Saving to: ‘adjacency-feature-matrix-model-binary.pickle’\n",
      "\n",
      "\n",
      "\n",
      "--2019-08-26 09:07:15--  https://github.com/dj311/uob-summer-project/raw/master/data/buffer_overflow_data.csv.gz\n",
      "Resolving github.com (github.com)... 140.82.118.4\n",
      "Connecting to github.com (github.com)|140.82.118.4|:443... connected.\n",
      "HTTP request sent, awaiting response... 302 Found\n",
      "Location: https://media.githubusercontent.com/media/dj311/uob-summer-project/master/data/buffer_overflow_data.csv.gz [following]\n",
      "--2019-08-22 22:38:08--  https://media.githubusercontent.com/media/dj311/uob-summer-project/master/data/buffer_overflow_data.csv.gz\n",
      "Resolving media.githubusercontent.com (media.githubusercontent.com)... 151.101.0.133, 151.101.64.133, 151.101.128.133, ...\n",
      "Connecting to media.githubusercontent.com (media.githubusercontent.com)|151.101.0.133|:443... connected.\n",
      "HTTP request sent, awaiting response... 200 OK\n",
      "Length: 3008729 (2.9M) [application/octet-stream]\n",
      "Saving to: ‘buffer_overflow_data.csv.gz’\n",
      "\n",
      "buffer_overflow_dat 100%[===================>]   2.87M  --.-KB/s    in 0.04s   \n",
      "\n",
      "2019-08-22 22:38:09 (77.5 MB/s) - ‘buffer_overflow_data.csv.gz’ saved [3008729/3008729]\n",
      "\n",
      "--2019-08-26 09:07:17--  https://github.com/dj311/uob-summer-project/raw/master/data/adjacency-matrix-model-binary.pickle\n",
      "Resolving github.com (github.com)... 140.82.118.4\n",
      "Connecting to github.com (github.com)|140.82.118.4|:443... connected.\n",
      "HTTP request sent, awaiting response... 302 Found\n",
      "Location: https://media.githubusercontent.com/media/dj311/uob-summer-project/master/data/adjacency-matrix-model-binary.pickle [following]\n",
      "--2019-08-26 09:07:17--  https://media.githubusercontent.com/media/dj311/uob-summer-project/master/data/adjacency-matrix-model-binary.pickle\n",
      "Resolving media.githubusercontent.com (media.githubusercontent.com)... 151.101.0.133, 151.101.64.133, 151.101.128.133, ...\n",
      "Connecting to media.githubusercontent.com (media.githubusercontent.com)|151.101.0.133|:443... connected.\n",
      "HTTP request sent, awaiting response... 200 OK\n",
      "Length: 71124065 (68M) [application/octet-stream]\n",
      "Saving to: ‘adjacency-matrix-model-binary.pickle’\n",
      "\n",
      "adjacency-matrix-mo 100%[===================>]  67.83M   347MB/s    in 0.2s    \n",
      "\n",
      "2019-08-22 22:38:13 (347 MB/s) - ‘adjacency-matrix-model-binary.pickle’ saved [71124065/71124065]\n",
      "\n",
      "--2019-08-26 09:07:20--  https://github.com/dj311/uob-summer-project/raw/master/data/feature_matrix.pickle\n",
      "Resolving github.com (github.com)... 140.82.118.4\n",
      "Connecting to github.com (github.com)|140.82.118.4|:443... connected.\n",
      "HTTP request sent, awaiting response... 302 Found\n",
      "Location: https://media.githubusercontent.com/media/dj311/uob-summer-project/master/data/feature_matrix.pickle [following]\n",
      "--2019-08-26 09:07:20--  https://media.githubusercontent.com/media/dj311/uob-summer-project/master/data/feature_matrix.pickle\n",
      "Resolving media.githubusercontent.com (media.githubusercontent.com)... 151.101.0.133, 151.101.64.133, 151.101.128.133, ...\n",
      "Connecting to media.githubusercontent.com (media.githubusercontent.com)|151.101.0.133|:443... connected.\n",
      "HTTP request sent, awaiting response... 200 OK\n",
      "Length: 64502734 (62M) [application/octet-stream]\n",
      "Saving to: ‘feature_matrix.pickle’\n",
      "\n",
      "feature_matrix.pick 100%[===================>]  61.51M   345MB/s    in 0.2s    \n",
      "\n",
      "2019-08-22 22:38:20 (345 MB/s) - ‘feature_matrix.pickle’ saved [64502734/64502734]\n",
      "\n",
      "/project/code\n"
     ]
    }
   ],
   "source": [
    "!mkdir -p /project/data && cd /project/data && wget -O adj.pickle https://github.com/dj311/uob-summer-project/raw/master/data/adj.pickle\n",
    "!mkdir -p /project/data && cd /project/data && wget -O adjacency-feature-matrix-random-padding-model-binary.pickle https://github.com/dj311/uob-summer-project/raw/master/data/adjacency-feature-matrix-random-padding-model-binary.pickle\n",
    "!mkdir -p /project/data && cd /project/data && wget -O adjacency-feature-matrix-model-binary.pickle https://github.com/dj311/uob-summer-project/raw/master/data/adjacency-feature-matrix-model-binary.pickle\n",
    "!mkdir -p /project/data && cd /project/data && wget -O buffer_overflow_data.csv.gz https://github.com/dj311/uob-summer-project/raw/master/data/buffer_overflow_data.csv.gz\n",
    "!mkdir -p /project/data && cd /project/data && wget -O adjacency-matrix-model-binary.pickle https://github.com/dj311/uob-summer-project/raw/master/data/adjacency-matrix-model-binary.pickle\n",
    "!mkdir -p /project/data && cd /project/data && wget -O feature_matrix.pickle https://github.com/dj311/uob-summer-project/raw/master/data/feature_matrix.pickle\n",
    "!mkdir -p /project/code\n",
    "!mkdir -p /project/images\n",
    "%cd /project/code"
   ]
  },
  {
   "cell_type": "markdown",
   "metadata": {
    "colab_type": "text",
    "id": "lO9-8NDKk8ja"
   },
   "source": [
    "# Import & Preprocess Dataset\n",
    "\n",
    "First we import the data from the [previous notebook](./adjacency_matrix.ipynb).\n"
   ]
  },
  {
   "cell_type": "code",
   "execution_count": 2,
   "metadata": {
    "colab": {
     "base_uri": "https://localhost:8080/",
     "height": 34
    },
    "colab_type": "code",
    "id": "uB5QGgAgk8je",
    "outputId": "1063ef2a-0957-4ce3-e758-96565da58d6e"
   },
   "outputs": [
    {
     "name": "stderr",
     "output_type": "stream",
     "text": [
      "Using TensorFlow backend.\n"
     ]
    }
   ],
   "source": [
    "import tensorflow as tf\n",
    "import keras\n",
    "import sklearn\n",
    "import numpy as np\n",
    "import pickle\n",
    "import random\n",
    "import pandas as pd\n",
    "from scipy.sparse import csr_matrix, hstack, vstack\n",
    "from sklearn.model_selection import train_test_split\n",
    "\n",
    "\n",
    "run_opts = tf.RunOptions(report_tensor_allocations_upon_oom = True)\n",
    "np.random.seed(1248)\n",
    "\n",
    "tf.logging.set_verbosity(tf.logging.INFO)"
   ]
  },
  {
   "cell_type": "code",
   "execution_count": 0,
   "metadata": {
    "colab": {},
    "colab_type": "code",
    "id": "NQwMY_iLk8kC"
   },
   "outputs": [],
   "source": [
    "data = pd.read_csv('../data/buffer_overflow_data.csv.gz')"
   ]
  },
  {
   "cell_type": "code",
   "execution_count": 0,
   "metadata": {
    "colab": {},
    "colab_type": "code",
    "id": "76z9869-k8kQ"
   },
   "outputs": [],
   "source": [
    "labels = data.copy()\n",
    "del labels['Unnamed: 0']\n",
    "del labels['Unnamed: 0.1']\n",
    "del labels['filename']\n",
    "del labels['code']\n",
    "del labels['flaw']\n",
    "del labels['flaw_loc']\n",
    "labels = labels.drop_duplicates().sort_values('testcase_ID').reset_index(drop=True)"
   ]
  },
  {
   "cell_type": "code",
   "execution_count": 0,
   "metadata": {
    "colab": {},
    "colab_type": "code",
    "id": "AyqJFOtWk8kg"
   },
   "outputs": [],
   "source": [
    "with open(\"../data/adj.pickle\",'rb') as f:\n",
    "    adj = pickle.load(f)"
   ]
  },
  {
   "cell_type": "code",
   "execution_count": 0,
   "metadata": {
    "colab": {},
    "colab_type": "code",
    "id": "PHikMdozk8k1"
   },
   "outputs": [],
   "source": [
    "adj = adj.rename(columns={0: 'testcase_ID', 1: 'adjacency_matrix'})"
   ]
  },
  {
   "cell_type": "code",
   "execution_count": 0,
   "metadata": {
    "colab": {},
    "colab_type": "code",
    "id": "pIdnRsBjk8k-"
   },
   "outputs": [],
   "source": [
    "orig_df = pd.merge(labels, adj, on='testcase_ID')"
   ]
  },
  {
   "cell_type": "code",
   "execution_count": 0,
   "metadata": {
    "colab": {},
    "colab_type": "code",
    "id": "s-qHa46Vk8lK"
   },
   "outputs": [],
   "source": [
    "orig_df = orig_df[['testcase_ID', 'adjacency_matrix', 'bug']]"
   ]
  },
  {
   "cell_type": "markdown",
   "metadata": {
    "colab_type": "text",
    "id": "qB06ooxxo--s"
   },
   "source": [
    "Next, find out the maximum size of an adjacency matrix, then convert all matrices to have the same dimension."
   ]
  },
  {
   "cell_type": "code",
   "execution_count": 0,
   "metadata": {
    "colab": {},
    "colab_type": "code",
    "id": "HNY1UrHJk8lg"
   },
   "outputs": [],
   "source": [
    "orig_df['matrix_size'] = orig_df.adjacency_matrix.apply(lambda x: x.shape[0])"
   ]
  },
  {
   "cell_type": "code",
   "execution_count": 10,
   "metadata": {
    "colab": {
     "base_uri": "https://localhost:8080/",
     "height": 173
    },
    "colab_type": "code",
    "id": "p6zGXUxbk8l1",
    "outputId": "c372b4e1-9fc9-470f-c54f-031a8f838842"
   },
   "outputs": [
    {
     "data": {
      "text/plain": [
       "count    21502.000000\n",
       "mean      2186.138778\n",
       "std       7239.752920\n",
       "min          4.000000\n",
       "25%        349.000000\n",
       "50%        396.000000\n",
       "75%        614.000000\n",
       "max      44401.000000\n",
       "Name: matrix_size, dtype: float64"
      ]
     },
     "execution_count": 10,
     "metadata": {
      "tags": []
     },
     "output_type": "execute_result"
    }
   ],
   "source": [
    "orig_df['matrix_size'].describe()"
   ]
  },
  {
   "cell_type": "markdown",
   "metadata": {
    "colab_type": "text",
    "id": "VlN1pb2SJW2i"
   },
   "source": [
    "So we know that 75% of the dataset has a matrix size <= 614, which is approximately 18000 datapoints. Picking the full dataset would require matrices of dimension 44401x44401 which require 15 gb of memory each. This is isn't feasible, however picking matrices of size 614x614 or less gives a per matrix size of 3.38mb - far more manageable!"
   ]
  },
  {
   "cell_type": "code",
   "execution_count": 11,
   "metadata": {
    "colab": {
     "base_uri": "https://localhost:8080/",
     "height": 34
    },
    "colab_type": "code",
    "id": "JXR174VPKKzR",
    "outputId": "381dd65f-b04e-4e4a-abb1-bdbd9ebb7f3d"
   },
   "outputs": [
    {
     "data": {
      "text/plain": [
       "16128"
      ]
     },
     "execution_count": 11,
     "metadata": {
      "tags": []
     },
     "output_type": "execute_result"
    }
   ],
   "source": [
    "matrix_size = 614\n",
    "orig_df = orig_df[orig_df['matrix_size'] <= matrix_size]\n",
    "len(orig_df)"
   ]
  },
  {
   "cell_type": "code",
   "execution_count": 0,
   "metadata": {
    "colab": {},
    "colab_type": "code",
    "id": "6V8vaupgva2q"
   },
   "outputs": [],
   "source": [
    "orig_df['random_pad_amount'] = orig_df['matrix_size'].apply(lambda m: random.randint(m,matrix_size))"
   ]
  },
  {
   "cell_type": "code",
   "execution_count": 0,
   "metadata": {
    "colab": {},
    "colab_type": "code",
    "id": "jEEMyB15w4a-"
   },
   "outputs": [],
   "source": [
    "adj_df = orig_df.copy()"
   ]
  },
  {
   "cell_type": "code",
   "execution_count": 0,
   "metadata": {
    "colab": {},
    "colab_type": "code",
    "id": "MCV9Vwupk8mI"
   },
   "outputs": [],
   "source": [
    "def bottom_right_matrix_size_corrector(matrix, target_rows, target_columns):\n",
    "    '''Pads matrix with zeros to the desired size'''\n",
    "    \n",
    "    rows, columns = matrix.shape[0], matrix.shape[1]\n",
    "    \n",
    "    row_corrector = csr_matrix((target_rows-rows, columns))\n",
    "    col_corrector = csr_matrix((target_rows, target_columns-columns))\n",
    "\n",
    "    matrix = vstack([matrix, row_corrector])\n",
    "    matrix = hstack([matrix, col_corrector])\n",
    "\n",
    "    matrix = matrix.astype(np.int)\n",
    "    \n",
    "    return matrix "
   ]
  },
  {
   "cell_type": "code",
   "execution_count": 0,
   "metadata": {
    "colab": {},
    "colab_type": "code",
    "id": "yI1YFNQMk8mp"
   },
   "outputs": [],
   "source": [
    "adj_df['adjacency_matrix'] = adj_df['adjacency_matrix'].apply(lambda m: bottom_right_matrix_size_corrector(m, matrix_size, matrix_size))"
   ]
  },
  {
   "cell_type": "markdown",
   "metadata": {
    "colab_type": "text",
    "id": "_lrFCpTeWNNk"
   },
   "source": [
    "Next we load in the feature matrices:"
   ]
  },
  {
   "cell_type": "code",
   "execution_count": 0,
   "metadata": {
    "colab": {},
    "colab_type": "code",
    "id": "u2WAylC-WMu7"
   },
   "outputs": [],
   "source": [
    "with open(\"../data/feature_matrix.pickle\", \"rb\") as f:\n",
    "    feature_matrix = pickle.load(f)\n",
    "\n",
    "feature_matrix.columns = ['testcase_ID', 'feature_matrix']"
   ]
  },
  {
   "cell_type": "code",
   "execution_count": 0,
   "metadata": {
    "colab": {},
    "colab_type": "code",
    "id": "rcFPwlU2fXgl"
   },
   "outputs": [],
   "source": [
    "num_features = 55"
   ]
  },
  {
   "cell_type": "code",
   "execution_count": 0,
   "metadata": {
    "colab": {},
    "colab_type": "code",
    "id": "G72pK1NiXZz9"
   },
   "outputs": [],
   "source": [
    "orig_df = pd.merge(feature_matrix, orig_df, on='testcase_ID')"
   ]
  },
  {
   "cell_type": "code",
   "execution_count": 0,
   "metadata": {
    "colab": {},
    "colab_type": "code",
    "id": "yd1yzA2ZSgLv"
   },
   "outputs": [],
   "source": [
    "feat_df = orig_df.copy()"
   ]
  },
  {
   "cell_type": "code",
   "execution_count": 0,
   "metadata": {
    "colab": {},
    "colab_type": "code",
    "id": "rPKL7-DIe0PC"
   },
   "outputs": [],
   "source": [
    "feat_df['feature_matrix'] = feat_df['feature_matrix'].apply(lambda m: bottom_right_matrix_size_corrector(m, matrix_size, num_features))"
   ]
  },
  {
   "cell_type": "code",
   "execution_count": 0,
   "metadata": {
    "colab": {},
    "colab_type": "code",
    "id": "zy8qe3IdrKml"
   },
   "outputs": [],
   "source": [
    "testcase_ids = orig_df['testcase_ID'].values\n",
    "adjacency_matrices = adj_df['adjacency_matrix'].values\n",
    "feature_matrices = feat_df['feature_matrix'].values\n",
    "labels = orig_df['bug'].values"
   ]
  },
  {
   "cell_type": "markdown",
   "metadata": {
    "colab_type": "text",
    "id": "ga6SW3_qpF80"
   },
   "source": [
    "Now we have a dataframe for each testcase with a sparse representation of its AST in the matrix column, each normalised to matrix_size x matrix_size in size.\n",
    "  \n",
    "\n"
   ]
  },
  {
   "cell_type": "markdown",
   "metadata": {
    "colab_type": "text",
    "id": "W8rFgat6TFnc"
   },
   "source": [
    "Finally, we generate the train and test splits:"
   ]
  },
  {
   "cell_type": "code",
   "execution_count": 0,
   "metadata": {
    "colab": {},
    "colab_type": "code",
    "id": "cxO5J1xySMDV"
   },
   "outputs": [],
   "source": [
    "adj_train, adj_test, feat_train, feat_test, labels_train, labels_test = train_test_split(adjacency_matrices, feature_matrices, labels, test_size=0.2, random_state=0)"
   ]
  },
  {
   "cell_type": "code",
   "execution_count": 23,
   "metadata": {
    "colab": {
     "base_uri": "https://localhost:8080/",
     "height": 243
    },
    "colab_type": "code",
    "id": "UpXHfAYqeO0a",
    "outputId": "6c49cdda-51bd-467a-c595-9339cee1c21c"
   },
   "outputs": [
    {
     "data": {
      "text/plain": [
       "array([<614x55 sparse matrix of type '<class 'numpy.int64'>'\n",
       "\twith 341 stored elements in COOrdinate format>,\n",
       "       <614x55 sparse matrix of type '<class 'numpy.int64'>'\n",
       "\twith 271 stored elements in COOrdinate format>,\n",
       "       <614x55 sparse matrix of type '<class 'numpy.int64'>'\n",
       "\twith 57 stored elements in COOrdinate format>,\n",
       "       ...,\n",
       "       <614x55 sparse matrix of type '<class 'numpy.int64'>'\n",
       "\twith 18 stored elements in COOrdinate format>,\n",
       "       <614x55 sparse matrix of type '<class 'numpy.int64'>'\n",
       "\twith 43 stored elements in COOrdinate format>,\n",
       "       <614x55 sparse matrix of type '<class 'numpy.int64'>'\n",
       "\twith 266 stored elements in COOrdinate format>], dtype=object)"
      ]
     },
     "execution_count": 23,
     "metadata": {
      "tags": []
     },
     "output_type": "execute_result"
    }
   ],
   "source": [
    "feat_train"
   ]
  },
  {
   "cell_type": "markdown",
   "metadata": {
    "colab_type": "text",
    "id": "yXrUMkzYSgUz"
   },
   "source": [
    "Storing all of these matrices in a dense representation at once might cause memory issues. To avoid this, we write a class which generates dense matrices for each of the training batches. \n",
    "\n",
    "We also perform the element wrapping as part of this process (since we can't perform it on the sparse arrays, I think)."
   ]
  },
  {
   "cell_type": "code",
   "execution_count": 0,
   "metadata": {
    "colab": {},
    "colab_type": "code",
    "id": "dBPBYHNJxm-D"
   },
   "outputs": [],
   "source": [
    "class SparseToDenseGenerator(keras.utils.Sequence):\n",
    "\n",
    "    def __init__(self, sparse_adjs, sparse_feats, labels, batch_size):\n",
    "        self.sparse_adjs = sparse_adjs\n",
    "        self.sparse_feats = sparse_feats\n",
    "        self.labels = labels\n",
    "        self.batch_size = batch_size\n",
    "\n",
    "    def __len__(self):\n",
    "        return int(np.ceil(len(self.labels) / float(self.batch_size)))\n",
    "\n",
    "    def __getitem__(self, batch_num):\n",
    "        start_index = batch_num * self.batch_size\n",
    "        end_index = (batch_num + 1) * self.batch_size\n",
    "        \n",
    "        batch_sparse_adjs = self.sparse_adjs[start_index:end_index]\n",
    "        batch_sparse_feats = self.sparse_feats[start_index:end_index]\n",
    "        batch_labels = self.labels[start_index:end_index]\n",
    "        \n",
    "        batch_dense_adjs = np.array([sparse_matrix.todense() for sparse_matrix in batch_sparse_adjs])\n",
    "        batch_dense_feats = np.array([sparse_matrix.todense() for sparse_matrix in batch_sparse_feats])\n",
    "        \n",
    "        # TODO: move this somewhere better\n",
    "        # Conv2D requires an extra dimension for \"channels\", so we need to convert our data from\n",
    "        # the shape (batch_size, matrix_rows, matrix_columns)\n",
    "        # to (batch_size, matrix_rows, matrix_columns, 1)\n",
    "        batch_dense_adjs = np.reshape(batch_dense_adjs, batch_dense_adjs.shape + (1, ))\n",
    "        batch_dense_feats = np.reshape(batch_dense_feats, batch_dense_feats.shape + (1, ))\n",
    "\n",
    "        return [batch_dense_adjs, batch_dense_feats], np.array(batch_labels)"
   ]
  },
  {
   "cell_type": "markdown",
   "metadata": {
    "colab_type": "text",
    "id": "nda-Xjsjk8ng"
   },
   "source": [
    "# Model"
   ]
  },
  {
   "cell_type": "code",
   "execution_count": 0,
   "metadata": {
    "colab": {},
    "colab_type": "code",
    "id": "KqlHfs2Kk8ni",
    "scrolled": true
   },
   "outputs": [],
   "source": [
    "from keras.layers import Dense, Dropout, Flatten, Reshape, Activation\n",
    "from keras.layers import Conv1D, MaxPooling1D, Conv2D, GlobalMaxPooling2D, MaxPooling2D, Convolution2D\n",
    "from keras.models import Sequential\n",
    "from keras.layers.normalization import BatchNormalization\n",
    "from keras.layers.advanced_activations import LeakyReLU\n",
    "from keras.optimizers import RMSprop, Adadelta, Adam\n",
    "from keras.utils import np_utils\n",
    "from keras import backend as K"
   ]
  },
  {
   "cell_type": "code",
   "execution_count": 26,
   "metadata": {
    "colab": {
     "base_uri": "https://localhost:8080/",
     "height": 34
    },
    "colab_type": "code",
    "id": "kmlCQ77P3itE",
    "outputId": "ece650c6-cbb8-4146-8beb-c06cf0a43239"
   },
   "outputs": [
    {
     "data": {
      "text/plain": [
       "(96, 5, 16128, (614, 614), (96, 614, 614), 168, (2, 2), 1)"
      ]
     },
     "execution_count": 26,
     "metadata": {
      "tags": []
     },
     "output_type": "execute_result"
    }
   ],
   "source": [
    "batch_size = 96\n",
    "epochs = 5\n",
    "num_samples = len(labels)\n",
    "num_features = feat_df.feature_matrix.iloc[0].shape[1]\n",
    "\n",
    "datapoint_shape = (matrix_size, matrix_size, )\n",
    "batch_shape = (batch_size, ) + datapoint_shape\n",
    "\n",
    "steps_per_epoch = int(np.ceil(num_samples/batch_size))\n",
    "\n",
    "kernel_size = (2, 2)\n",
    "strides = max(kernel_size[0] // 3, 1)\n",
    "\n",
    "batch_size, epochs, num_samples, datapoint_shape, batch_shape, steps_per_epoch, kernel_size, strides"
   ]
  },
  {
   "cell_type": "code",
   "execution_count": 27,
   "metadata": {
    "colab": {
     "base_uri": "https://localhost:8080/",
     "height": 1000
    },
    "colab_type": "code",
    "id": "a1aVESBAk8nu",
    "outputId": "d27d9004-94f7-4d88-8954-963b92b6459f"
   },
   "outputs": [
    {
     "name": "stderr",
     "output_type": "stream",
     "text": [
      "WARNING: Logging before flag parsing goes to stderr.\n",
      "W0822 11:29:08.672091 140095677523840 deprecation_wrapper.py:119] From /usr/local/lib/python3.6/dist-packages/keras/backend/tensorflow_backend.py:74: The name tf.get_default_graph is deprecated. Please use tf.compat.v1.get_default_graph instead.\n",
      "\n",
      "W0822 11:29:08.753522 140095677523840 deprecation_wrapper.py:119] From /usr/local/lib/python3.6/dist-packages/keras/backend/tensorflow_backend.py:517: The name tf.placeholder is deprecated. Please use tf.compat.v1.placeholder instead.\n",
      "\n",
      "W0822 11:29:08.765255 140095677523840 deprecation_wrapper.py:119] From /usr/local/lib/python3.6/dist-packages/keras/backend/tensorflow_backend.py:4138: The name tf.random_uniform is deprecated. Please use tf.random.uniform instead.\n",
      "\n",
      "W0822 11:29:08.825948 140095677523840 deprecation_wrapper.py:119] From /usr/local/lib/python3.6/dist-packages/keras/backend/tensorflow_backend.py:3976: The name tf.nn.max_pool is deprecated. Please use tf.nn.max_pool2d instead.\n",
      "\n",
      "W0822 11:29:09.002691 140095677523840 deprecation_wrapper.py:119] From /usr/local/lib/python3.6/dist-packages/keras/backend/tensorflow_backend.py:133: The name tf.placeholder_with_default is deprecated. Please use tf.compat.v1.placeholder_with_default instead.\n",
      "\n",
      "W0822 11:29:09.016299 140095677523840 deprecation.py:506] From /usr/local/lib/python3.6/dist-packages/keras/backend/tensorflow_backend.py:3445: calling dropout (from tensorflow.python.ops.nn_ops) with keep_prob is deprecated and will be removed in a future version.\n",
      "Instructions for updating:\n",
      "Please use `rate` instead of `keep_prob`. Rate should be set to `rate = 1 - keep_prob`.\n",
      "W0822 11:29:09.018488 140095677523840 nn_ops.py:4224] Large dropout rate: 0.8 (>0.5). In TensorFlow 2.x, dropout() uses dropout rate instead of keep_prob. Please ensure that this is intended.\n",
      "W0822 11:29:09.108602 140095677523840 deprecation_wrapper.py:119] From /usr/local/lib/python3.6/dist-packages/keras/optimizers.py:790: The name tf.train.Optimizer is deprecated. Please use tf.compat.v1.train.Optimizer instead.\n",
      "\n",
      "W0822 11:29:09.116187 140095677523840 deprecation_wrapper.py:119] From /usr/local/lib/python3.6/dist-packages/keras/backend/tensorflow_backend.py:3376: The name tf.log is deprecated. Please use tf.math.log instead.\n",
      "\n",
      "W0822 11:29:09.124583 140095677523840 deprecation.py:323] From /usr/local/lib/python3.6/dist-packages/tensorflow/python/ops/nn_impl.py:180: add_dispatch_support.<locals>.wrapper (from tensorflow.python.ops.array_ops) is deprecated and will be removed in a future version.\n",
      "Instructions for updating:\n",
      "Use tf.where in 2.0, which has the same broadcast rule as np.where\n"
     ]
    },
    {
     "name": "stdout",
     "output_type": "stream",
     "text": [
      "__________________________________________________________________________________________________\n",
      "Layer (type)                    Output Shape         Param #     Connected to                     \n",
      "==================================================================================================\n",
      "input_1 (InputLayer)            (None, 614, 614, 1)  0                                            \n",
      "__________________________________________________________________________________________________\n",
      "conv2d_1 (Conv2D)               (None, 613, 613, 32) 160         input_1[0][0]                    \n",
      "__________________________________________________________________________________________________\n",
      "activation_1 (Activation)       (None, 613, 613, 32) 0           conv2d_1[0][0]                   \n",
      "__________________________________________________________________________________________________\n",
      "max_pooling2d_1 (MaxPooling2D)  (None, 307, 307, 32) 0           activation_1[0][0]               \n",
      "__________________________________________________________________________________________________\n",
      "conv2d_2 (Conv2D)               (None, 306, 306, 32) 4128        max_pooling2d_1[0][0]            \n",
      "__________________________________________________________________________________________________\n",
      "activation_2 (Activation)       (None, 306, 306, 32) 0           conv2d_2[0][0]                   \n",
      "__________________________________________________________________________________________________\n",
      "max_pooling2d_2 (MaxPooling2D)  (None, 153, 153, 32) 0           activation_2[0][0]               \n",
      "__________________________________________________________________________________________________\n",
      "conv2d_3 (Conv2D)               (None, 152, 152, 32) 4128        max_pooling2d_2[0][0]            \n",
      "__________________________________________________________________________________________________\n",
      "input_2 (InputLayer)            (None, 614, 55, 1)   0                                            \n",
      "__________________________________________________________________________________________________\n",
      "activation_3 (Activation)       (None, 152, 152, 32) 0           conv2d_3[0][0]                   \n",
      "__________________________________________________________________________________________________\n",
      "flatten_2 (Flatten)             (None, 33770)        0           input_2[0][0]                    \n",
      "__________________________________________________________________________________________________\n",
      "max_pooling2d_3 (MaxPooling2D)  (None, 76, 76, 32)   0           activation_3[0][0]               \n",
      "__________________________________________________________________________________________________\n",
      "dense_4 (Dense)                 (None, 614)          20735394    flatten_2[0][0]                  \n",
      "__________________________________________________________________________________________________\n",
      "flatten_1 (Flatten)             (None, 184832)       0           max_pooling2d_3[0][0]            \n",
      "__________________________________________________________________________________________________\n",
      "dense_5 (Dense)                 (None, 307)          188805      dense_4[0][0]                    \n",
      "__________________________________________________________________________________________________\n",
      "dense_1 (Dense)                 (None, 32)           5914656     flatten_1[0][0]                  \n",
      "__________________________________________________________________________________________________\n",
      "dense_6 (Dense)                 (None, 150)          46200       dense_5[0][0]                    \n",
      "__________________________________________________________________________________________________\n",
      "dense_2 (Dense)                 (None, 32)           1056        dense_1[0][0]                    \n",
      "__________________________________________________________________________________________________\n",
      "dense_7 (Dense)                 (None, 75)           11325       dense_6[0][0]                    \n",
      "__________________________________________________________________________________________________\n",
      "dense_3 (Dense)                 (None, 32)           1056        dense_2[0][0]                    \n",
      "__________________________________________________________________________________________________\n",
      "dense_8 (Dense)                 (None, 32)           2432        dense_7[0][0]                    \n",
      "__________________________________________________________________________________________________\n",
      "concatenate_1 (Concatenate)     (None, 64)           0           dense_3[0][0]                    \n",
      "                                                                 dense_8[0][0]                    \n",
      "__________________________________________________________________________________________________\n",
      "dropout_1 (Dropout)             (None, 64)           0           concatenate_1[0][0]              \n",
      "__________________________________________________________________________________________________\n",
      "dense_9 (Dense)                 (None, 64)           4160        dropout_1[0][0]                  \n",
      "__________________________________________________________________________________________________\n",
      "dense_10 (Dense)                (None, 64)           4160        dense_9[0][0]                    \n",
      "__________________________________________________________________________________________________\n",
      "dense_11 (Dense)                (None, 64)           4160        dense_10[0][0]                   \n",
      "__________________________________________________________________________________________________\n",
      "dense_12 (Dense)                (None, 1)            65          dense_11[0][0]                   \n",
      "==================================================================================================\n",
      "Total params: 26,921,885\n",
      "Trainable params: 26,921,885\n",
      "Non-trainable params: 0\n",
      "__________________________________________________________________________________________________\n"
     ]
    }
   ],
   "source": [
    "# 1st: Convolutional Network on Adjacency Matrix\n",
    "adjacency_input = keras.layers.Input(shape=(matrix_size, matrix_size, 1))\n",
    "\n",
    "conv1 = Conv2D(\n",
    "    data_format='channels_last',\n",
    "    input_shape=(matrix_size, matrix_size, 1),\n",
    "    filters=32,\n",
    "    kernel_size=kernel_size,\n",
    "    strides=strides,\n",
    ")(adjacency_input)\n",
    "activation1 = Activation('relu')(conv1)\n",
    "pool1 = MaxPooling2D(kernel_size, padding='same')(activation1)\n",
    "\n",
    "conv2 = Conv2D(\n",
    "    data_format='channels_last',\n",
    "    input_shape=(matrix_size, matrix_size, 1),\n",
    "    filters=32,\n",
    "    kernel_size=kernel_size,\n",
    "    strides=strides,\n",
    ")(pool1)\n",
    "activation2 = Activation('relu')(conv2)\n",
    "pool2 = MaxPooling2D(kernel_size, padding='same')(activation2)\n",
    "\n",
    "conv3 = Conv2D(\n",
    "    data_format='channels_last',\n",
    "    input_shape=(matrix_size, matrix_size, 1),\n",
    "    filters=32,\n",
    "    kernel_size=kernel_size,\n",
    "    strides=strides,\n",
    ")(pool2)\n",
    "activation3 = Activation('relu')(conv3)\n",
    "pool3 = MaxPooling2D(kernel_size, padding='same')(activation3)\n",
    "\n",
    "flatten = Flatten()(pool3)\n",
    "\n",
    "dense1 = Dense(units=32, activation='relu')(flatten)\n",
    "dense2 = Dense(units=32, activation='relu')(dense1)\n",
    "dense3 = Dense(units=32, activation='relu')(dense2)\n",
    "\n",
    "conv_model = keras.models.Model(inputs=adjacency_input, outputs=dense3)\n",
    "\n",
    "# 2nd: Dense, Linear Network on Feature Matrix\n",
    "features_input = keras.layers.Input(shape=(matrix_size, num_features, 1))\n",
    "\n",
    "f_flatten = Flatten(data_format='channels_last')(features_input)\n",
    "\n",
    "f_dense1 = Dense(units=614, activation='relu')(f_flatten)\n",
    "f_dense2 = Dense(units=307, activation='relu')(f_dense1)\n",
    "f_dense3 = Dense(units=150, activation='relu')(f_dense2)\n",
    "f_dense4 = Dense(units=75, activation='relu')(f_dense3)\n",
    "f_dense5 = Dense(units=32, activation='relu')(f_dense4)\n",
    "\n",
    "dense_input = keras.models.Model(inputs = features_input, outputs= f_dense5)\n",
    "\n",
    "# Combine outputs of both networks via a set of dense, linear layers\n",
    "concat = keras.layers.concatenate(inputs=[conv_model.output ,dense_input.output])\n",
    "c_dropout = Dropout(0.8)(concat)\n",
    "c_dense1 =  Dense(units=64, activation='relu')(c_dropout)\n",
    "c_dense2 =  Dense(units=64, activation='relu')(c_dense1)\n",
    "c_dense3 =  Dense(units=64, activation='relu')(c_dense2)\n",
    "\n",
    "# Dropout and final output layer\n",
    "c_output = Dense(units=1, activation='sigmoid')(c_dense3)\n",
    "\n",
    "model = keras.models.Model(inputs=[conv_model.input, dense_input.input], outputs=c_output)\n",
    "\n",
    "model.compile(optimizer=Adam(), loss='binary_crossentropy', metrics=['accuracy'])\n",
    "\n",
    "model.summary()"
   ]
  },
  {
   "cell_type": "code",
   "execution_count": 28,
   "metadata": {
    "colab": {
     "base_uri": "https://localhost:8080/",
     "height": 72
    },
    "colab_type": "code",
    "id": "ywtD5Ys-w4bc",
    "outputId": "6cf2495f-6406-49aa-8dbb-ac52dc56f9e7"
   },
   "outputs": [
    {
     "name": "stdout",
     "output_type": "stream",
     "text": [
      "Requirement already satisfied: pydot in /usr/local/lib/python3.6/dist-packages (1.3.0)\n",
      "Requirement already satisfied: pyparsing>=2.1.4 in /usr/local/lib/python3.6/dist-packages (from pydot) (2.4.2)\n"
     ]
    }
   ],
   "source": [
    "!pip install pydot"
   ]
  },
  {
   "cell_type": "code",
   "execution_count": null,
   "metadata": {
    "colab": {
     "height": 232
    },
    "colab_type": "code",
    "id": "hOQ7x5S4w4be",
    "outputId": "3984f661-1db9-4ad2-e2f1-09fccbf63fee"
   },
   "outputs": [
    {
     "data": {
      "image/svg+xml": [
       "<svg height=\"1432pt\" viewBox=\"0.00 0.00 367.00 1432.00\" width=\"367pt\" xmlns=\"http://www.w3.org/2000/svg\" xmlns:xlink=\"http://www.w3.org/1999/xlink\">\n",
       "<g class=\"graph\" id=\"graph0\" transform=\"scale(1 1) rotate(0) translate(4 1428)\">\n",
       "<title>G</title>\n",
       "<polygon fill=\"#ffffff\" points=\"-4,4 -4,-1428 363,-1428 363,4 -4,4\" stroke=\"transparent\"/>\n",
       "<!-- 139659366703848 -->\n",
       "<g class=\"node\" id=\"node1\">\n",
       "<title>139659366703848</title>\n",
       "<polygon fill=\"none\" points=\"44,-1387.5 44,-1423.5 177,-1423.5 177,-1387.5 44,-1387.5\" stroke=\"#000000\"/>\n",
       "<text fill=\"#000000\" font-family=\"Times,serif\" font-size=\"14.00\" text-anchor=\"middle\" x=\"110.5\" y=\"-1401.8\">input_1: InputLayer</text>\n",
       "</g>\n",
       "<!-- 139659366705080 -->\n",
       "<g class=\"node\" id=\"node2\">\n",
       "<title>139659366705080</title>\n",
       "<polygon fill=\"none\" points=\"44,-1314.5 44,-1350.5 177,-1350.5 177,-1314.5 44,-1314.5\" stroke=\"#000000\"/>\n",
       "<text fill=\"#000000\" font-family=\"Times,serif\" font-size=\"14.00\" text-anchor=\"middle\" x=\"110.5\" y=\"-1328.8\">conv2d_1: Conv2D</text>\n",
       "</g>\n",
       "<!-- 139659366703848&#45;&gt;139659366705080 -->\n",
       "<g class=\"edge\" id=\"edge1\">\n",
       "<title>139659366703848-&gt;139659366705080</title>\n",
       "<path d=\"M110.5,-1387.4551C110.5,-1379.3828 110.5,-1369.6764 110.5,-1360.6817\" fill=\"none\" stroke=\"#000000\"/>\n",
       "<polygon fill=\"#000000\" points=\"114.0001,-1360.5903 110.5,-1350.5904 107.0001,-1360.5904 114.0001,-1360.5903\" stroke=\"#000000\"/>\n",
       "</g>\n",
       "<!-- 139659366703680 -->\n",
       "<g class=\"node\" id=\"node3\">\n",
       "<title>139659366703680</title>\n",
       "<polygon fill=\"none\" points=\"33.5,-1241.5 33.5,-1277.5 187.5,-1277.5 187.5,-1241.5 33.5,-1241.5\" stroke=\"#000000\"/>\n",
       "<text fill=\"#000000\" font-family=\"Times,serif\" font-size=\"14.00\" text-anchor=\"middle\" x=\"110.5\" y=\"-1255.8\">activation_1: Activation</text>\n",
       "</g>\n",
       "<!-- 139659366705080&#45;&gt;139659366703680 -->\n",
       "<g class=\"edge\" id=\"edge2\">\n",
       "<title>139659366705080-&gt;139659366703680</title>\n",
       "<path d=\"M110.5,-1314.4551C110.5,-1306.3828 110.5,-1296.6764 110.5,-1287.6817\" fill=\"none\" stroke=\"#000000\"/>\n",
       "<polygon fill=\"#000000\" points=\"114.0001,-1287.5903 110.5,-1277.5904 107.0001,-1287.5904 114.0001,-1287.5903\" stroke=\"#000000\"/>\n",
       "</g>\n",
       "<!-- 139659366706032 -->\n",
       "<g class=\"node\" id=\"node4\">\n",
       "<title>139659366706032</title>\n",
       "<polygon fill=\"none\" points=\"0,-1168.5 0,-1204.5 221,-1204.5 221,-1168.5 0,-1168.5\" stroke=\"#000000\"/>\n",
       "<text fill=\"#000000\" font-family=\"Times,serif\" font-size=\"14.00\" text-anchor=\"middle\" x=\"110.5\" y=\"-1182.8\">max_pooling2d_1: MaxPooling2D</text>\n",
       "</g>\n",
       "<!-- 139659366703680&#45;&gt;139659366706032 -->\n",
       "<g class=\"edge\" id=\"edge3\">\n",
       "<title>139659366703680-&gt;139659366706032</title>\n",
       "<path d=\"M110.5,-1241.4551C110.5,-1233.3828 110.5,-1223.6764 110.5,-1214.6817\" fill=\"none\" stroke=\"#000000\"/>\n",
       "<polygon fill=\"#000000\" points=\"114.0001,-1214.5903 110.5,-1204.5904 107.0001,-1214.5904 114.0001,-1214.5903\" stroke=\"#000000\"/>\n",
       "</g>\n",
       "<!-- 139659366705528 -->\n",
       "<g class=\"node\" id=\"node5\">\n",
       "<title>139659366705528</title>\n",
       "<polygon fill=\"none\" points=\"44,-1095.5 44,-1131.5 177,-1131.5 177,-1095.5 44,-1095.5\" stroke=\"#000000\"/>\n",
       "<text fill=\"#000000\" font-family=\"Times,serif\" font-size=\"14.00\" text-anchor=\"middle\" x=\"110.5\" y=\"-1109.8\">conv2d_2: Conv2D</text>\n",
       "</g>\n",
       "<!-- 139659366706032&#45;&gt;139659366705528 -->\n",
       "<g class=\"edge\" id=\"edge4\">\n",
       "<title>139659366706032-&gt;139659366705528</title>\n",
       "<path d=\"M110.5,-1168.4551C110.5,-1160.3828 110.5,-1150.6764 110.5,-1141.6817\" fill=\"none\" stroke=\"#000000\"/>\n",
       "<polygon fill=\"#000000\" points=\"114.0001,-1141.5903 110.5,-1131.5904 107.0001,-1141.5904 114.0001,-1141.5903\" stroke=\"#000000\"/>\n",
       "</g>\n",
       "<!-- 139659366704744 -->\n",
       "<g class=\"node\" id=\"node6\">\n",
       "<title>139659366704744</title>\n",
       "<polygon fill=\"none\" points=\"33.5,-1022.5 33.5,-1058.5 187.5,-1058.5 187.5,-1022.5 33.5,-1022.5\" stroke=\"#000000\"/>\n",
       "<text fill=\"#000000\" font-family=\"Times,serif\" font-size=\"14.00\" text-anchor=\"middle\" x=\"110.5\" y=\"-1036.8\">activation_2: Activation</text>\n",
       "</g>\n",
       "<!-- 139659366705528&#45;&gt;139659366704744 -->\n",
       "<g class=\"edge\" id=\"edge5\">\n",
       "<title>139659366705528-&gt;139659366704744</title>\n",
       "<path d=\"M110.5,-1095.4551C110.5,-1087.3828 110.5,-1077.6764 110.5,-1068.6817\" fill=\"none\" stroke=\"#000000\"/>\n",
       "<polygon fill=\"#000000\" points=\"114.0001,-1068.5903 110.5,-1058.5904 107.0001,-1068.5904 114.0001,-1068.5903\" stroke=\"#000000\"/>\n",
       "</g>\n",
       "<!-- 139659366719328 -->\n",
       "<g class=\"node\" id=\"node7\">\n",
       "<title>139659366719328</title>\n",
       "<polygon fill=\"none\" points=\"0,-949.5 0,-985.5 221,-985.5 221,-949.5 0,-949.5\" stroke=\"#000000\"/>\n",
       "<text fill=\"#000000\" font-family=\"Times,serif\" font-size=\"14.00\" text-anchor=\"middle\" x=\"110.5\" y=\"-963.8\">max_pooling2d_2: MaxPooling2D</text>\n",
       "</g>\n",
       "<!-- 139659366704744&#45;&gt;139659366719328 -->\n",
       "<g class=\"edge\" id=\"edge6\">\n",
       "<title>139659366704744-&gt;139659366719328</title>\n",
       "<path d=\"M110.5,-1022.4551C110.5,-1014.3828 110.5,-1004.6764 110.5,-995.6817\" fill=\"none\" stroke=\"#000000\"/>\n",
       "<polygon fill=\"#000000\" points=\"114.0001,-995.5903 110.5,-985.5904 107.0001,-995.5904 114.0001,-995.5903\" stroke=\"#000000\"/>\n",
       "</g>\n",
       "<!-- 139659366719384 -->\n",
       "<g class=\"node\" id=\"node8\">\n",
       "<title>139659366719384</title>\n",
       "<polygon fill=\"none\" points=\"44,-876.5 44,-912.5 177,-912.5 177,-876.5 44,-876.5\" stroke=\"#000000\"/>\n",
       "<text fill=\"#000000\" font-family=\"Times,serif\" font-size=\"14.00\" text-anchor=\"middle\" x=\"110.5\" y=\"-890.8\">conv2d_3: Conv2D</text>\n",
       "</g>\n",
       "<!-- 139659366719328&#45;&gt;139659366719384 -->\n",
       "<g class=\"edge\" id=\"edge7\">\n",
       "<title>139659366719328-&gt;139659366719384</title>\n",
       "<path d=\"M110.5,-949.4551C110.5,-941.3828 110.5,-931.6764 110.5,-922.6817\" fill=\"none\" stroke=\"#000000\"/>\n",
       "<polygon fill=\"#000000\" points=\"114.0001,-922.5903 110.5,-912.5904 107.0001,-922.5904 114.0001,-922.5903\" stroke=\"#000000\"/>\n",
       "</g>\n",
       "<!-- 139659366706088 -->\n",
       "<g class=\"node\" id=\"node10\">\n",
       "<title>139659366706088</title>\n",
       "<polygon fill=\"none\" points=\"33.5,-803.5 33.5,-839.5 187.5,-839.5 187.5,-803.5 33.5,-803.5\" stroke=\"#000000\"/>\n",
       "<text fill=\"#000000\" font-family=\"Times,serif\" font-size=\"14.00\" text-anchor=\"middle\" x=\"110.5\" y=\"-817.8\">activation_3: Activation</text>\n",
       "</g>\n",
       "<!-- 139659366719384&#45;&gt;139659366706088 -->\n",
       "<g class=\"edge\" id=\"edge8\">\n",
       "<title>139659366719384-&gt;139659366706088</title>\n",
       "<path d=\"M110.5,-876.4551C110.5,-868.3828 110.5,-858.6764 110.5,-849.6817\" fill=\"none\" stroke=\"#000000\"/>\n",
       "<polygon fill=\"#000000\" points=\"114.0001,-849.5903 110.5,-839.5904 107.0001,-849.5904 114.0001,-849.5903\" stroke=\"#000000\"/>\n",
       "</g>\n",
       "<!-- 139659366381440 -->\n",
       "<g class=\"node\" id=\"node9\">\n",
       "<title>139659366381440</title>\n",
       "<polygon fill=\"none\" points=\"226,-876.5 226,-912.5 359,-912.5 359,-876.5 226,-876.5\" stroke=\"#000000\"/>\n",
       "<text fill=\"#000000\" font-family=\"Times,serif\" font-size=\"14.00\" text-anchor=\"middle\" x=\"292.5\" y=\"-890.8\">input_2: InputLayer</text>\n",
       "</g>\n",
       "<!-- 139659366380600 -->\n",
       "<g class=\"node\" id=\"node11\">\n",
       "<title>139659366380600</title>\n",
       "<polygon fill=\"none\" points=\"236,-803.5 236,-839.5 349,-839.5 349,-803.5 236,-803.5\" stroke=\"#000000\"/>\n",
       "<text fill=\"#000000\" font-family=\"Times,serif\" font-size=\"14.00\" text-anchor=\"middle\" x=\"292.5\" y=\"-817.8\">flatten_2: Flatten</text>\n",
       "</g>\n",
       "<!-- 139659366381440&#45;&gt;139659366380600 -->\n",
       "<g class=\"edge\" id=\"edge9\">\n",
       "<title>139659366381440-&gt;139659366380600</title>\n",
       "<path d=\"M292.5,-876.4551C292.5,-868.3828 292.5,-858.6764 292.5,-849.6817\" fill=\"none\" stroke=\"#000000\"/>\n",
       "<polygon fill=\"#000000\" points=\"296.0001,-849.5903 292.5,-839.5904 289.0001,-849.5904 296.0001,-849.5903\" stroke=\"#000000\"/>\n",
       "</g>\n",
       "<!-- 139659366780544 -->\n",
       "<g class=\"node\" id=\"node12\">\n",
       "<title>139659366780544</title>\n",
       "<polygon fill=\"none\" points=\"0,-730.5 0,-766.5 221,-766.5 221,-730.5 0,-730.5\" stroke=\"#000000\"/>\n",
       "<text fill=\"#000000\" font-family=\"Times,serif\" font-size=\"14.00\" text-anchor=\"middle\" x=\"110.5\" y=\"-744.8\">max_pooling2d_3: MaxPooling2D</text>\n",
       "</g>\n",
       "<!-- 139659366706088&#45;&gt;139659366780544 -->\n",
       "<g class=\"edge\" id=\"edge10\">\n",
       "<title>139659366706088-&gt;139659366780544</title>\n",
       "<path d=\"M110.5,-803.4551C110.5,-795.3828 110.5,-785.6764 110.5,-776.6817\" fill=\"none\" stroke=\"#000000\"/>\n",
       "<polygon fill=\"#000000\" points=\"114.0001,-776.5903 110.5,-766.5904 107.0001,-776.5904 114.0001,-776.5903\" stroke=\"#000000\"/>\n",
       "</g>\n",
       "<!-- 139659366419592 -->\n",
       "<g class=\"node\" id=\"node13\">\n",
       "<title>139659366419592</title>\n",
       "<polygon fill=\"none\" points=\"239,-730.5 239,-766.5 346,-766.5 346,-730.5 239,-730.5\" stroke=\"#000000\"/>\n",
       "<text fill=\"#000000\" font-family=\"Times,serif\" font-size=\"14.00\" text-anchor=\"middle\" x=\"292.5\" y=\"-744.8\">dense_4: Dense</text>\n",
       "</g>\n",
       "<!-- 139659366380600&#45;&gt;139659366419592 -->\n",
       "<g class=\"edge\" id=\"edge11\">\n",
       "<title>139659366380600-&gt;139659366419592</title>\n",
       "<path d=\"M292.5,-803.4551C292.5,-795.3828 292.5,-785.6764 292.5,-776.6817\" fill=\"none\" stroke=\"#000000\"/>\n",
       "<polygon fill=\"#000000\" points=\"296.0001,-776.5903 292.5,-766.5904 289.0001,-776.5904 296.0001,-776.5903\" stroke=\"#000000\"/>\n",
       "</g>\n",
       "<!-- 139659366752328 -->\n",
       "<g class=\"node\" id=\"node14\">\n",
       "<title>139659366752328</title>\n",
       "<polygon fill=\"none\" points=\"81,-657.5 81,-693.5 194,-693.5 194,-657.5 81,-657.5\" stroke=\"#000000\"/>\n",
       "<text fill=\"#000000\" font-family=\"Times,serif\" font-size=\"14.00\" text-anchor=\"middle\" x=\"137.5\" y=\"-671.8\">flatten_1: Flatten</text>\n",
       "</g>\n",
       "<!-- 139659366780544&#45;&gt;139659366752328 -->\n",
       "<g class=\"edge\" id=\"edge12\">\n",
       "<title>139659366780544-&gt;139659366752328</title>\n",
       "<path d=\"M117.1742,-730.4551C120.2247,-722.2074 123.9062,-712.2536 127.2932,-703.0962\" fill=\"none\" stroke=\"#000000\"/>\n",
       "<polygon fill=\"#000000\" points=\"130.6227,-704.1836 130.809,-693.5904 124.0574,-701.7552 130.6227,-704.1836\" stroke=\"#000000\"/>\n",
       "</g>\n",
       "<!-- 139659366418192 -->\n",
       "<g class=\"node\" id=\"node15\">\n",
       "<title>139659366418192</title>\n",
       "<polygon fill=\"none\" points=\"225,-657.5 225,-693.5 332,-693.5 332,-657.5 225,-657.5\" stroke=\"#000000\"/>\n",
       "<text fill=\"#000000\" font-family=\"Times,serif\" font-size=\"14.00\" text-anchor=\"middle\" x=\"278.5\" y=\"-671.8\">dense_5: Dense</text>\n",
       "</g>\n",
       "<!-- 139659366419592&#45;&gt;139659366418192 -->\n",
       "<g class=\"edge\" id=\"edge13\">\n",
       "<title>139659366419592-&gt;139659366418192</title>\n",
       "<path d=\"M289.0393,-730.4551C287.4912,-722.3828 285.6297,-712.6764 283.9047,-703.6817\" fill=\"none\" stroke=\"#000000\"/>\n",
       "<polygon fill=\"#000000\" points=\"287.2903,-702.7521 281.9694,-693.5904 280.4156,-704.0706 287.2903,-702.7521\" stroke=\"#000000\"/>\n",
       "</g>\n",
       "<!-- 139659366798000 -->\n",
       "<g class=\"node\" id=\"node16\">\n",
       "<title>139659366798000</title>\n",
       "<polygon fill=\"none\" points=\"85,-584.5 85,-620.5 192,-620.5 192,-584.5 85,-584.5\" stroke=\"#000000\"/>\n",
       "<text fill=\"#000000\" font-family=\"Times,serif\" font-size=\"14.00\" text-anchor=\"middle\" x=\"138.5\" y=\"-598.8\">dense_1: Dense</text>\n",
       "</g>\n",
       "<!-- 139659366752328&#45;&gt;139659366798000 -->\n",
       "<g class=\"edge\" id=\"edge14\">\n",
       "<title>139659366752328-&gt;139659366798000</title>\n",
       "<path d=\"M137.7472,-657.4551C137.8578,-649.3828 137.9907,-639.6764 138.1139,-630.6817\" fill=\"none\" stroke=\"#000000\"/>\n",
       "<polygon fill=\"#000000\" points=\"141.6148,-630.6374 138.2522,-620.5904 134.6154,-630.5414 141.6148,-630.6374\" stroke=\"#000000\"/>\n",
       "</g>\n",
       "<!-- 139659366436144 -->\n",
       "<g class=\"node\" id=\"node17\">\n",
       "<title>139659366436144</title>\n",
       "<polygon fill=\"none\" points=\"217,-584.5 217,-620.5 324,-620.5 324,-584.5 217,-584.5\" stroke=\"#000000\"/>\n",
       "<text fill=\"#000000\" font-family=\"Times,serif\" font-size=\"14.00\" text-anchor=\"middle\" x=\"270.5\" y=\"-598.8\">dense_6: Dense</text>\n",
       "</g>\n",
       "<!-- 139659366418192&#45;&gt;139659366436144 -->\n",
       "<g class=\"edge\" id=\"edge15\">\n",
       "<title>139659366418192-&gt;139659366436144</title>\n",
       "<path d=\"M276.5225,-657.4551C275.6378,-649.3828 274.5741,-639.6764 273.5884,-630.6817\" fill=\"none\" stroke=\"#000000\"/>\n",
       "<polygon fill=\"#000000\" points=\"277.0511,-630.1495 272.4825,-620.5904 270.0928,-630.9122 277.0511,-630.1495\" stroke=\"#000000\"/>\n",
       "</g>\n",
       "<!-- 139659366797720 -->\n",
       "<g class=\"node\" id=\"node18\">\n",
       "<title>139659366797720</title>\n",
       "<polygon fill=\"none\" points=\"85,-511.5 85,-547.5 192,-547.5 192,-511.5 85,-511.5\" stroke=\"#000000\"/>\n",
       "<text fill=\"#000000\" font-family=\"Times,serif\" font-size=\"14.00\" text-anchor=\"middle\" x=\"138.5\" y=\"-525.8\">dense_2: Dense</text>\n",
       "</g>\n",
       "<!-- 139659366798000&#45;&gt;139659366797720 -->\n",
       "<g class=\"edge\" id=\"edge16\">\n",
       "<title>139659366798000-&gt;139659366797720</title>\n",
       "<path d=\"M138.5,-584.4551C138.5,-576.3828 138.5,-566.6764 138.5,-557.6817\" fill=\"none\" stroke=\"#000000\"/>\n",
       "<polygon fill=\"#000000\" points=\"142.0001,-557.5903 138.5,-547.5904 135.0001,-557.5904 142.0001,-557.5903\" stroke=\"#000000\"/>\n",
       "</g>\n",
       "<!-- 139659366472896 -->\n",
       "<g class=\"node\" id=\"node19\">\n",
       "<title>139659366472896</title>\n",
       "<polygon fill=\"none\" points=\"213,-511.5 213,-547.5 320,-547.5 320,-511.5 213,-511.5\" stroke=\"#000000\"/>\n",
       "<text fill=\"#000000\" font-family=\"Times,serif\" font-size=\"14.00\" text-anchor=\"middle\" x=\"266.5\" y=\"-525.8\">dense_7: Dense</text>\n",
       "</g>\n",
       "<!-- 139659366436144&#45;&gt;139659366472896 -->\n",
       "<g class=\"edge\" id=\"edge17\">\n",
       "<title>139659366436144-&gt;139659366472896</title>\n",
       "<path d=\"M269.5112,-584.4551C269.0689,-576.3828 268.5371,-566.6764 268.0442,-557.6817\" fill=\"none\" stroke=\"#000000\"/>\n",
       "<polygon fill=\"#000000\" points=\"271.5332,-557.3839 267.4913,-547.5904 264.5437,-557.7669 271.5332,-557.3839\" stroke=\"#000000\"/>\n",
       "</g>\n",
       "<!-- 139659366837552 -->\n",
       "<g class=\"node\" id=\"node20\">\n",
       "<title>139659366837552</title>\n",
       "<polygon fill=\"none\" points=\"85,-438.5 85,-474.5 192,-474.5 192,-438.5 85,-438.5\" stroke=\"#000000\"/>\n",
       "<text fill=\"#000000\" font-family=\"Times,serif\" font-size=\"14.00\" text-anchor=\"middle\" x=\"138.5\" y=\"-452.8\">dense_3: Dense</text>\n",
       "</g>\n",
       "<!-- 139659366797720&#45;&gt;139659366837552 -->\n",
       "<g class=\"edge\" id=\"edge18\">\n",
       "<title>139659366797720-&gt;139659366837552</title>\n",
       "<path d=\"M138.5,-511.4551C138.5,-503.3828 138.5,-493.6764 138.5,-484.6817\" fill=\"none\" stroke=\"#000000\"/>\n",
       "<polygon fill=\"#000000\" points=\"142.0001,-484.5903 138.5,-474.5904 135.0001,-484.5904 142.0001,-484.5903\" stroke=\"#000000\"/>\n",
       "</g>\n",
       "<!-- 139659366509256 -->\n",
       "<g class=\"node\" id=\"node21\">\n",
       "<title>139659366509256</title>\n",
       "<polygon fill=\"none\" points=\"211,-438.5 211,-474.5 318,-474.5 318,-438.5 211,-438.5\" stroke=\"#000000\"/>\n",
       "<text fill=\"#000000\" font-family=\"Times,serif\" font-size=\"14.00\" text-anchor=\"middle\" x=\"264.5\" y=\"-452.8\">dense_8: Dense</text>\n",
       "</g>\n",
       "<!-- 139659366472896&#45;&gt;139659366509256 -->\n",
       "<g class=\"edge\" id=\"edge19\">\n",
       "<title>139659366472896-&gt;139659366509256</title>\n",
       "<path d=\"M266.0056,-511.4551C265.7845,-503.3828 265.5185,-493.6764 265.2721,-484.6817\" fill=\"none\" stroke=\"#000000\"/>\n",
       "<polygon fill=\"#000000\" points=\"268.7683,-484.4907 264.9956,-474.5904 261.7709,-484.6825 268.7683,-484.4907\" stroke=\"#000000\"/>\n",
       "</g>\n",
       "<!-- 139659366567888 -->\n",
       "<g class=\"node\" id=\"node22\">\n",
       "<title>139659366567888</title>\n",
       "<polygon fill=\"none\" points=\"113,-365.5 113,-401.5 288,-401.5 288,-365.5 113,-365.5\" stroke=\"#000000\"/>\n",
       "<text fill=\"#000000\" font-family=\"Times,serif\" font-size=\"14.00\" text-anchor=\"middle\" x=\"200.5\" y=\"-379.8\">concatenate_1: Concatenate</text>\n",
       "</g>\n",
       "<!-- 139659366837552&#45;&gt;139659366567888 -->\n",
       "<g class=\"edge\" id=\"edge20\">\n",
       "<title>139659366837552-&gt;139659366567888</title>\n",
       "<path d=\"M153.8258,-438.4551C161.2779,-429.6809 170.3698,-418.9759 178.5427,-409.353\" fill=\"none\" stroke=\"#000000\"/>\n",
       "<polygon fill=\"#000000\" points=\"181.3298,-411.4781 185.1356,-401.5904 175.9944,-406.9466 181.3298,-411.4781\" stroke=\"#000000\"/>\n",
       "</g>\n",
       "<!-- 139659366509256&#45;&gt;139659366567888 -->\n",
       "<g class=\"edge\" id=\"edge21\">\n",
       "<title>139659366509256-&gt;139659366567888</title>\n",
       "<path d=\"M248.6798,-438.4551C240.9874,-429.6809 231.6022,-418.9759 223.1656,-409.353\" fill=\"none\" stroke=\"#000000\"/>\n",
       "<polygon fill=\"#000000\" points=\"225.5842,-406.8024 216.36,-401.5904 220.3206,-411.4171 225.5842,-406.8024\" stroke=\"#000000\"/>\n",
       "</g>\n",
       "<!-- 139659366566600 -->\n",
       "<g class=\"node\" id=\"node23\">\n",
       "<title>139659366566600</title>\n",
       "<polygon fill=\"none\" points=\"133.5,-292.5 133.5,-328.5 267.5,-328.5 267.5,-292.5 133.5,-292.5\" stroke=\"#000000\"/>\n",
       "<text fill=\"#000000\" font-family=\"Times,serif\" font-size=\"14.00\" text-anchor=\"middle\" x=\"200.5\" y=\"-306.8\">dropout_1: Dropout</text>\n",
       "</g>\n",
       "<!-- 139659366567888&#45;&gt;139659366566600 -->\n",
       "<g class=\"edge\" id=\"edge22\">\n",
       "<title>139659366567888-&gt;139659366566600</title>\n",
       "<path d=\"M200.5,-365.4551C200.5,-357.3828 200.5,-347.6764 200.5,-338.6817\" fill=\"none\" stroke=\"#000000\"/>\n",
       "<polygon fill=\"#000000\" points=\"204.0001,-338.5903 200.5,-328.5904 197.0001,-338.5904 204.0001,-338.5903\" stroke=\"#000000\"/>\n",
       "</g>\n",
       "<!-- 139659366567160 -->\n",
       "<g class=\"node\" id=\"node24\">\n",
       "<title>139659366567160</title>\n",
       "<polygon fill=\"none\" points=\"147,-219.5 147,-255.5 254,-255.5 254,-219.5 147,-219.5\" stroke=\"#000000\"/>\n",
       "<text fill=\"#000000\" font-family=\"Times,serif\" font-size=\"14.00\" text-anchor=\"middle\" x=\"200.5\" y=\"-233.8\">dense_9: Dense</text>\n",
       "</g>\n",
       "<!-- 139659366566600&#45;&gt;139659366567160 -->\n",
       "<g class=\"edge\" id=\"edge23\">\n",
       "<title>139659366566600-&gt;139659366567160</title>\n",
       "<path d=\"M200.5,-292.4551C200.5,-284.3828 200.5,-274.6764 200.5,-265.6817\" fill=\"none\" stroke=\"#000000\"/>\n",
       "<polygon fill=\"#000000\" points=\"204.0001,-265.5903 200.5,-255.5904 197.0001,-265.5904 204.0001,-265.5903\" stroke=\"#000000\"/>\n",
       "</g>\n",
       "<!-- 139659366603240 -->\n",
       "<g class=\"node\" id=\"node25\">\n",
       "<title>139659366603240</title>\n",
       "<polygon fill=\"none\" points=\"143.5,-146.5 143.5,-182.5 257.5,-182.5 257.5,-146.5 143.5,-146.5\" stroke=\"#000000\"/>\n",
       "<text fill=\"#000000\" font-family=\"Times,serif\" font-size=\"14.00\" text-anchor=\"middle\" x=\"200.5\" y=\"-160.8\">dense_10: Dense</text>\n",
       "</g>\n",
       "<!-- 139659366567160&#45;&gt;139659366603240 -->\n",
       "<g class=\"edge\" id=\"edge24\">\n",
       "<title>139659366567160-&gt;139659366603240</title>\n",
       "<path d=\"M200.5,-219.4551C200.5,-211.3828 200.5,-201.6764 200.5,-192.6817\" fill=\"none\" stroke=\"#000000\"/>\n",
       "<polygon fill=\"#000000\" points=\"204.0001,-192.5903 200.5,-182.5904 197.0001,-192.5904 204.0001,-192.5903\" stroke=\"#000000\"/>\n",
       "</g>\n",
       "<!-- 139659366613792 -->\n",
       "<g class=\"node\" id=\"node26\">\n",
       "<title>139659366613792</title>\n",
       "<polygon fill=\"none\" points=\"144,-73.5 144,-109.5 257,-109.5 257,-73.5 144,-73.5\" stroke=\"#000000\"/>\n",
       "<text fill=\"#000000\" font-family=\"Times,serif\" font-size=\"14.00\" text-anchor=\"middle\" x=\"200.5\" y=\"-87.8\">dense_11: Dense</text>\n",
       "</g>\n",
       "<!-- 139659366603240&#45;&gt;139659366613792 -->\n",
       "<g class=\"edge\" id=\"edge25\">\n",
       "<title>139659366603240-&gt;139659366613792</title>\n",
       "<path d=\"M200.5,-146.4551C200.5,-138.3828 200.5,-128.6764 200.5,-119.6817\" fill=\"none\" stroke=\"#000000\"/>\n",
       "<polygon fill=\"#000000\" points=\"204.0001,-119.5903 200.5,-109.5904 197.0001,-119.5904 204.0001,-119.5903\" stroke=\"#000000\"/>\n",
       "</g>\n",
       "<!-- 139659366158576 -->\n",
       "<g class=\"node\" id=\"node27\">\n",
       "<title>139659366158576</title>\n",
       "<polygon fill=\"none\" points=\"143.5,-.5 143.5,-36.5 257.5,-36.5 257.5,-.5 143.5,-.5\" stroke=\"#000000\"/>\n",
       "<text fill=\"#000000\" font-family=\"Times,serif\" font-size=\"14.00\" text-anchor=\"middle\" x=\"200.5\" y=\"-14.8\">dense_12: Dense</text>\n",
       "</g>\n",
       "<!-- 139659366613792&#45;&gt;139659366158576 -->\n",
       "<g class=\"edge\" id=\"edge26\">\n",
       "<title>139659366613792-&gt;139659366158576</title>\n",
       "<path d=\"M200.5,-73.4551C200.5,-65.3828 200.5,-55.6764 200.5,-46.6817\" fill=\"none\" stroke=\"#000000\"/>\n",
       "<polygon fill=\"#000000\" points=\"204.0001,-46.5903 200.5,-36.5904 197.0001,-46.5904 204.0001,-46.5903\" stroke=\"#000000\"/>\n",
       "</g>\n",
       "</g>\n",
       "</svg>"
      ],
      "text/plain": [
       "<IPython.core.display.SVG object>"
      ]
     },
     "execution_count": 29,
     "metadata": {
      "tags": []
     },
     "output_type": "execute_result"
    }
   ],
   "source": [
    "import keras\n",
    "import pydot as pyd\n",
    "from IPython.display import SVG\n",
    "from keras.utils.vis_utils import model_to_dot\n",
    "\n",
    "keras.utils.vis_utils.pydot = pyd\n",
    "\n",
    "def visualize_model(model):\n",
    "  return model_to_dot(model).create(prog='dot', format='svg')\n",
    "\n",
    "model_diagram = visualize_model(model)\n",
    "\n",
    "with open('../images/adj-feat-architecture-cnn.svg', 'wb') as f:\n",
    "    f.write(model_diagram)\n",
    "\n",
    "SVG(model_diagram)"
   ]
  },
  {
   "cell_type": "code",
   "execution_count": null,
   "metadata": {
    "colab": {
     "base_uri": "https://localhost:8080/",
     "height": 191
    },
    "colab_type": "code",
    "id": "gAErQWeyk8nz",
    "outputId": "311a6f8d-b146-4fff-9ec1-b18aa511d1fe",
    "scrolled": true
   },
   "outputs": [
    {
     "name": "stdout",
     "output_type": "stream",
     "text": [
      "Epoch 1/5\n",
      "168/168 [==============================] - 2822s 17s/step - loss: 0.6251 - acc: 0.6159 - val_loss: 0.4854 - val_acc: 0.7368\n",
      "Epoch 2/5\n",
      "168/168 [==============================] - 2758s 16s/step - loss: 0.3784 - acc: 0.8097 - val_loss: 0.3015 - val_acc: 0.8391\n",
      "Epoch 3/5\n",
      "168/168 [==============================] - 2935s 17s/step - loss: 0.1989 - acc: 0.9072 - val_loss: 0.1382 - val_acc: 0.9585\n",
      "Epoch 4/5\n",
      "168/168 [==============================] - 2861s 17s/step - loss: 0.1205 - acc: 0.9486 - val_loss: 0.0936 - val_acc: 0.9774\n",
      "Epoch 5/5\n",
      "168/168 [==============================] - 2846s 17s/step - loss: 0.0970 - acc: 0.9567 - val_loss: 0.0892 - val_acc: 0.9755\n"
     ]
    }
   ],
   "source": [
    "training_batch_generator = SparseToDenseGenerator(adj_train, feat_train, labels_train, batch_size)\n",
    "val_batch_generator = SparseToDenseGenerator(adj_test, feat_test, labels_test, batch_size)\n",
    "\n",
    "history = model.fit_generator(\n",
    "    generator=training_batch_generator,\n",
    "    validation_data=val_batch_generator, \n",
    "    epochs=epochs,\n",
    "    steps_per_epoch=steps_per_epoch\n",
    ")"
   ]
  },
  {
   "cell_type": "code",
   "execution_count": null,
   "metadata": {
    "colab": {
     "base_uri": "https://localhost:8080/",
     "height": 295
    },
    "colab_type": "code",
    "id": "470BuB4e705u",
    "outputId": "4778c211-de90-42af-bcfd-aab1e3ffd0ed"
   },
   "outputs": [
    {
     "data": {
      "image/png": "[encoded data removed]",
      "text/plain": [
       "<Figure size 432x288 with 1 Axes>"
      ]
     },
     "metadata": {
      "tags": []
     },
     "output_type": "display_data"
    }
   ],
   "source": [
    "import matplotlib.pyplot as plt\n",
    "import numpy\n",
    "\n",
    "# summarize history for loss\n",
    "plt.plot(history.history['loss'])\n",
    "plt.plot(history.history['val_loss'])\n",
    "plt.title('model loss')\n",
    "plt.ylabel('loss')\n",
    "plt.xlabel('epoch')\n",
    "plt.legend(['train', 'test'], loc='upper left')\n",
    "plt.show()"
   ]
  },
  {
   "cell_type": "code",
   "execution_count": 0,
   "metadata": {
    "colab": {},
    "colab_type": "code",
    "id": "gixQN8uTC5Ll"
   },
   "outputs": [],
   "source": [
    "with open('../data/adjacency-feature-matrix-history.pickle', 'wb') as f:\n",
    "    pickle.dump(history,f)"
   ]
  },
  {
   "cell_type": "code",
   "execution_count": 0,
   "metadata": {
    "colab": {},
    "colab_type": "code",
    "id": "Wk-asGoMk8oK"
   },
   "outputs": [],
   "source": [
    "with open('../data/adjacency-feature-matrix-model-binary.pickle', 'wb') as f:\n",
    "    pickle.dump(model,f)"
   ]
  },
  {
   "cell_type": "markdown",
   "metadata": {
    "colab_type": "text",
    "id": "w3476EyA3g-V"
   },
   "source": [
    "# Evaluation"
   ]
  },
  {
   "cell_type": "code",
   "execution_count": null,
   "metadata": {
    "colab": {
     "base_uri": "https://localhost:8080/",
     "height": 54
    },
    "colab_type": "code",
    "id": "bQcagc2HK0c3",
    "outputId": "663c63c0-d4ed-4ab9-dfee-12177e8ee155"
   },
   "outputs": [
    {
     "name": "stderr",
     "output_type": "stream",
     "text": [
      "W0826 09:05:55.950369 140266623592320 nn_ops.py:4224] Large dropout rate: 0.8 (>0.5). In TensorFlow 2.x, dropout() uses dropout rate instead of keep_prob. Please ensure that this is intended.\n"
     ]
    }
   ],
   "source": [
    "model = None\n",
    "\n",
    "with open('../data/adjacency-feature-matrix-model-binary.pickle', 'rb') as f:\n",
    "    model = pickle.load(f)"
   ]
  },
  {
   "cell_type": "code",
   "execution_count": null,
   "metadata": {
    "colab": {
     "base_uri": "https://localhost:8080/",
     "height": 34
    },
    "colab_type": "code",
    "id": "nobNI0B1k8oP",
    "outputId": "6a979f46-3267-419f-8c33-e71c362882de",
    "scrolled": true
   },
   "outputs": [
    {
     "data": {
      "text/plain": [
       "[0.08919961298068192, 0.9755114696813679]"
      ]
     },
     "execution_count": 34,
     "metadata": {
      "tags": []
     },
     "output_type": "execute_result"
    }
   ],
   "source": [
    "test_batch_generator = SparseToDenseGenerator(adj_test, feat_test, labels_test, batch_size)\n",
    "\n",
    "model.evaluate_generator(\n",
    "    generator=test_batch_generator,\n",
    ")"
   ]
  },
  {
   "cell_type": "markdown",
   "metadata": {
    "colab_type": "text",
    "id": "KKFJBN29v32L"
   },
   "source": [
    "# Visualisations"
   ]
  },
  {
   "cell_type": "code",
   "execution_count": 0,
   "metadata": {
    "colab": {},
    "colab_type": "code",
    "id": "vnHI_fjlk8ob"
   },
   "outputs": [],
   "source": [
    "import seaborn as sns\n",
    "from sklearn import metrics\n",
    "import matplotlib"
   ]
  },
  {
   "cell_type": "code",
   "execution_count": 0,
   "metadata": {
    "colab": {},
    "colab_type": "code",
    "id": "v4bFyChZOi0k"
   },
   "outputs": [],
   "source": [
    "class SparseToDensePredictGenerator(keras.utils.Sequence):\n",
    "\n",
    "    def __init__(self, sparse_adjs, sparse_feats, batch_size):\n",
    "        self.sparse_adjs = sparse_adjs\n",
    "        self.sparse_feats = sparse_feats\n",
    "        self.batch_size = batch_size\n",
    "\n",
    "    def __len__(self):\n",
    "        return int(np.ceil(len(self.sparse_feats) / float(self.batch_size)))\n",
    "\n",
    "    def __getitem__(self, batch_num):\n",
    "        start_index = batch_num * self.batch_size\n",
    "        end_index = (batch_num + 1) * self.batch_size\n",
    "        \n",
    "        batch_sparse_adjs = self.sparse_adjs[start_index:end_index]\n",
    "        batch_sparse_feats = self.sparse_feats[start_index:end_index]\n",
    "        \n",
    "        batch_dense_adjs = np.array([sparse_matrix.todense() for sparse_matrix in batch_sparse_adjs])\n",
    "        batch_dense_feats = np.array([sparse_matrix.todense() for sparse_matrix in batch_sparse_feats])\n",
    "        \n",
    "        # TODO: move this somewhere better\n",
    "        # Conv2D requires an extra dimension for \"channels\", so we need to convert our data from\n",
    "        # the shape (batch_size, matrix_rows, matrix_columns)\n",
    "        # to (batch_size, matrix_rows, matrix_columns, 1)\n",
    "        batch_dense_adjs = np.reshape(batch_dense_adjs, batch_dense_adjs.shape + (1, ))\n",
    "        batch_dense_feats = np.reshape(batch_dense_feats, batch_dense_feats.shape + (1, ))\n",
    "\n",
    "        return [batch_dense_adjs, batch_dense_feats]"
   ]
  },
  {
   "cell_type": "code",
   "execution_count": 0,
   "metadata": {
    "colab": {},
    "colab_type": "code",
    "id": "5AJ9ozp5k8og"
   },
   "outputs": [],
   "source": [
    "predict_batch_generator = SparseToDensePredictGenerator(adj_test, feat_test, batch_size)\n",
    "y_predict = model.predict_generator(predict_batch_generator)"
   ]
  },
  {
   "cell_type": "code",
   "execution_count": null,
   "metadata": {
    "colab": {
     "base_uri": "https://localhost:8080/",
     "height": 387
    },
    "colab_type": "code",
    "id": "xrvhYYmFk8oo",
    "outputId": "6d890af1-56de-42ca-c250-07bb55f186af"
   },
   "outputs": [
    {
     "data": {
      "image/png": "[encoded data removed]",
      "text/plain": [
       "<Figure size 576x360 with 2 Axes>"
      ]
     },
     "metadata": {
      "tags": []
     },
     "output_type": "display_data"
    }
   ],
   "source": [
    "confusion_matrix = pd.DataFrame(\n",
    "    data=metrics.confusion_matrix(labels_test, np.rint(y_predict)),\n",
    ")\n",
    "\n",
    "confusion_figure, confusion_axes = matplotlib.pyplot.subplots()\n",
    "confusion_figure.set_size_inches(8, 5)\n",
    "confusion_axes.set_title(\n",
    "    'Confusion matrix showing the frequency of \\n'\n",
    "    'correct and incorrect bug classification predictions.'\n",
    "    '\\n\\n'  # hack to avoid overlap with x-axis labels below\n",
    ")\n",
    "confusion_axes.xaxis.tick_top()  # move x-axis labels to top of matrix\n",
    "_ = sns.heatmap(\n",
    "    confusion_matrix,\n",
    "    annot=True,\n",
    "    fmt=\"d\",\n",
    "    cmap=sns.color_palette(\"Blues\"),\n",
    "    vmin=0,\n",
    "    ax=confusion_axes,\n",
    ")"
   ]
  },
  {
   "cell_type": "code",
   "execution_count": 0,
   "metadata": {
    "colab": {},
    "colab_type": "code",
    "id": "SFlZwTBIk8o8"
   },
   "outputs": [],
   "source": [
    "from sklearn.metrics import auc, roc_curve, precision_recall_curve, matthews_corrcoef, f1_score, roc_auc_score\n",
    "fpr_keras, tpr_keras, thresholds_keras = roc_curve(labels_test, y_predict)\n",
    "precision, recall, thresholds = precision_recall_curve(labels_test, y_predict)"
   ]
  },
  {
   "cell_type": "code",
   "execution_count": 0,
   "metadata": {
    "colab": {},
    "colab_type": "code",
    "id": "YE07cTFW5Tji"
   },
   "outputs": [],
   "source": [
    "auc_keras = auc(fpr_keras, tpr_keras)\n",
    "roc_auc = roc_auc_score(labels_test, y_predict)\n",
    "pr_auc = auc(recall, precision)\n",
    "f1 = f1_score(labels_test, np.rint(y_predict))\n",
    "mcc = matthews_corrcoef(labels_test, np.rint(y_predict))"
   ]
  },
  {
   "cell_type": "code",
   "execution_count": null,
   "metadata": {
    "colab": {
     "base_uri": "https://localhost:8080/",
     "height": 86
    },
    "colab_type": "code",
    "id": "Bx52VzBO5eWx",
    "outputId": "614a4341-3d44-4cc6-be92-1fc145827233"
   },
   "outputs": [
    {
     "name": "stdout",
     "output_type": "stream",
     "text": [
      "PR AUC: 0.993\n",
      "ROC AUC: 0.995\n",
      "MCC: 0.951\n",
      "F1: 0.976\n"
     ]
    }
   ],
   "source": [
    "print('PR AUC: %.3f' % pr_auc)\n",
    "print('ROC AUC: %.3f' % roc_auc)\n",
    "print('MCC: %.3f' % mcc)\n",
    "print('F1: %.3f' % f1)"
   ]
  },
  {
   "cell_type": "code",
   "execution_count": 0,
   "metadata": {
    "colab": {},
    "colab_type": "code",
    "id": "dhXN8iwbdHM0"
   },
   "outputs": [],
   "source": [
    "with open('../data/cnn-adj-feat-y-test','wb') as f:\n",
    "    pickle.dump(labels_test.astype(int), f)\n",
    "    \n",
    "with open('../data/cnn-adj-feat-y-predict','wb') as f:\n",
    "    pickle.dump(y_predict, f)"
   ]
  },
  {
   "cell_type": "code",
   "execution_count": null,
   "metadata": {
    "colab": {
     "base_uri": "https://localhost:8080/",
     "height": 295
    },
    "colab_type": "code",
    "id": "mM9vPPIGk8pO",
    "outputId": "0f5420c5-4734-4f2a-e40e-669537cd4779"
   },
   "outputs": [
    {
     "data": {
      "image/png": "[encoded data removed]",
      "text/plain": [
       "<Figure size 432x288 with 1 Axes>"
      ]
     },
     "metadata": {
      "tags": []
     },
     "output_type": "display_data"
    }
   ],
   "source": [
    "plt.plot(fpr_keras, tpr_keras, label='Keras (area = {:.3f})'.format(auc_keras))\n",
    "plt.xlabel('False positive rate')\n",
    "plt.ylabel('True positive rate')\n",
    "plt.title('ROC curve')\n",
    "plt.legend(loc='best')\n",
    "plt.show()"
   ]
  },
  {
   "cell_type": "code",
   "execution_count": 0,
   "metadata": {
    "colab": {},
    "colab_type": "code",
    "id": "WIxU3yLeZqk3"
   },
   "outputs": [],
   "source": [
    "tn, fp, fn, tp = metrics.confusion_matrix(\n",
    "    labels_test.astype(int), \n",
    "    np.rint(y_predict)\n",
    ").flatten().tolist()\n",
    "\n",
    "fpr_nn = fp/(fp+tp)\n",
    "fnr_nn = fn/(fn+tn)"
   ]
  },
  {
   "cell_type": "code",
   "execution_count": null,
   "metadata": {
    "colab": {
     "base_uri": "https://localhost:8080/",
     "height": 34
    },
    "colab_type": "code",
    "id": "Irias0wiQ5uS",
    "outputId": "c1474b95-e40f-4f73-ef9a-1904ca6bab78"
   },
   "outputs": [
    {
     "data": {
      "text/plain": [
       "(0.03900709219858156, 0.00847457627118644)"
      ]
     },
     "execution_count": 45,
     "metadata": {
      "tags": []
     },
     "output_type": "execute_result"
    }
   ],
   "source": [
    "fpr_nn, fnr_nn"
   ]
  },
  {
   "cell_type": "markdown",
   "metadata": {
    "colab_type": "text",
    "id": "3HaOZ3Rew4b5"
   },
   "source": [
    "## Random Padding (translational invariance)"
   ]
  },
  {
   "cell_type": "markdown",
   "metadata": {
    "colab_type": "text",
    "id": "LaCbG3gRv32r"
   },
   "source": [
    "Preprocess Dataset"
   ]
  },
  {
   "cell_type": "code",
   "execution_count": 0,
   "metadata": {
    "colab": {},
    "colab_type": "code",
    "id": "la6thNnPw4b7"
   },
   "outputs": [],
   "source": [
    "import random\n",
    "\n",
    "def random_padder(testcase, matrix_kind, target_rows, target_columns):\n",
    "    '''\n",
    "    Randomly pads matrix with zeros to the desired size\n",
    "    '''\n",
    "    \n",
    "#     import pdb; pdb.set_trace()\n",
    "    \n",
    "    rand = testcase.random_pad_amount\n",
    "    \n",
    "    if matrix_kind == 'adj':\n",
    "    \n",
    "      matrix = testcase.adjacency_matrix\n",
    "      \n",
    "      rows, columns = matrix.shape[0], matrix.shape[1]\n",
    "    \n",
    "      tl_row_corrector = csr_matrix((rand-rows, rows))\n",
    "      tl_col_corrector = csr_matrix((rand, rand-columns))\n",
    "    \n",
    "      tl_matrix = vstack([tl_row_corrector, matrix])\n",
    "      tl_matrix = hstack([tl_col_corrector, tl_matrix])\n",
    "    \n",
    "      rows, columns = tl_matrix.shape[0], tl_matrix.shape[1]\n",
    "    \n",
    "      br_row_corrector = csr_matrix((target_rows-rows, rows))\n",
    "      br_col_corrector = csr_matrix((target_columns, target_columns-columns))\n",
    "\n",
    "      br_matrix = vstack([tl_matrix, br_row_corrector])\n",
    "      br_matrix = hstack([br_matrix, br_col_corrector])   \n",
    "    \n",
    "    elif matrix_kind == 'feat':\n",
    "      \n",
    "      matrix = testcase.feature_matrix\n",
    "      \n",
    "      rows, columns = matrix.shape[0], matrix.shape[1]\n",
    "    \n",
    "      tl_row_corrector = csr_matrix((rand-rows, columns))\n",
    "    \n",
    "      tl_matrix = vstack([tl_row_corrector, matrix])\n",
    "    \n",
    "      rows, columns = tl_matrix.shape[0], tl_matrix.shape[1]\n",
    "    \n",
    "      br_row_corrector = csr_matrix((target_rows-rows, columns))\n",
    "\n",
    "      br_matrix = vstack([tl_matrix, br_row_corrector])\n",
    "\n",
    "    br_matrix = br_matrix.astype(np.int)\n",
    "    \n",
    "    return br_matrix"
   ]
  },
  {
   "cell_type": "code",
   "execution_count": 0,
   "metadata": {
    "colab": {},
    "colab_type": "code",
    "id": "C_dc9Xqiw4b8"
   },
   "outputs": [],
   "source": [
    "rand_adj_df = orig_df.copy()"
   ]
  },
  {
   "cell_type": "code",
   "execution_count": 0,
   "metadata": {
    "colab": {},
    "colab_type": "code",
    "id": "lmf2t3TNw4b_"
   },
   "outputs": [],
   "source": [
    "rand_adj_df['padded_adj_matrix'] = rand_adj_df.apply(lambda m: random_padder(m, 'adj', matrix_size, matrix_size), axis = 1)"
   ]
  },
  {
   "cell_type": "code",
   "execution_count": 0,
   "metadata": {
    "colab": {},
    "colab_type": "code",
    "id": "TAj33TyCR1C6"
   },
   "outputs": [],
   "source": [
    "rand_feat_df = orig_df.copy()"
   ]
  },
  {
   "cell_type": "code",
   "execution_count": 0,
   "metadata": {
    "colab": {},
    "colab_type": "code",
    "id": "xRMrmQRjycNZ"
   },
   "outputs": [],
   "source": [
    "rand_feat_df['padded_feat_matrix'] = rand_feat_df.apply(lambda m: random_padder(m, 'feat', matrix_size, num_features), axis = 1)"
   ]
  },
  {
   "cell_type": "markdown",
   "metadata": {
    "colab_type": "text",
    "id": "H5dJOakrv322"
   },
   "source": [
    "Training on standard padded, testing on randomly padded:"
   ]
  },
  {
   "cell_type": "code",
   "execution_count": 0,
   "metadata": {
    "colab": {},
    "colab_type": "code",
    "id": "qa0w9K9Kw4cB"
   },
   "outputs": [],
   "source": [
    "testcase_ids_rand = orig_df['testcase_ID'].values\n",
    "adjacency_matrices_rand = rand_adj_df['padded_adj_matrix'].values\n",
    "feature_matrices_rand = rand_feat_df['padded_feat_matrix'].values\n",
    "labels_rand = orig_df['bug'].values"
   ]
  },
  {
   "cell_type": "code",
   "execution_count": 0,
   "metadata": {
    "colab": {},
    "colab_type": "code",
    "id": "KWOk17-qw4cD"
   },
   "outputs": [],
   "source": [
    "adj_train_rand, adj_test_rand, feat_train_rand, feat_test_rand, labels_train_rand, labels_test_rand = train_test_split(adjacency_matrices_rand, feature_matrices_rand, labels_rand, test_size=0.2, random_state=0)"
   ]
  },
  {
   "cell_type": "code",
   "execution_count": 53,
   "metadata": {
    "colab": {},
    "colab_type": "code",
    "id": "kT9FL2m8w4cF",
    "outputId": "66fc3258-5e4e-4a1d-83cd-f66382523816"
   },
   "outputs": [
    {
     "data": {
      "text/plain": [
       "[4.941237755909664, 0.5120892759553409]"
      ]
     },
     "execution_count": 53,
     "metadata": {
      "tags": []
     },
     "output_type": "execute_result"
    }
   ],
   "source": [
    "test_batch_generator_rand = SparseToDenseGenerator(adj_test_rand, feat_test_rand, labels_test_rand, batch_size)\n",
    "\n",
    "model.evaluate_generator(\n",
    "    generator=test_batch_generator_rand,\n",
    ")"
   ]
  },
  {
   "cell_type": "markdown",
   "metadata": {
    "colab_type": "text",
    "id": "2F2PPcsATMSb"
   },
   "source": [
    "51% accuracy when testing on the randomly padded when model was trained on normal padded"
   ]
  },
  {
   "cell_type": "markdown",
   "metadata": {
    "colab_type": "text",
    "id": "ZuhegcRDv328"
   },
   "source": [
    "Visualisations:"
   ]
  },
  {
   "cell_type": "code",
   "execution_count": 0,
   "metadata": {
    "colab": {},
    "colab_type": "code",
    "id": "sav6yM7Bw4cG"
   },
   "outputs": [],
   "source": [
    "predict_batch_generator_rand = SparseToDensePredictGenerator(adj_test_rand, feat_test_rand, batch_size)\n",
    "y_predict_rand = model.predict_generator(predict_batch_generator_rand)"
   ]
  },
  {
   "cell_type": "code",
   "execution_count": 55,
   "metadata": {
    "colab": {
     "base_uri": "https://localhost:8080/",
     "height": 387
    },
    "colab_type": "code",
    "id": "wFVVmc9lw4cJ",
    "outputId": "8ff73007-a742-4102-f57d-6bd09206b495"
   },
   "outputs": [
    {
     "data": {
      "image/png": "[encoded data removed]",
      "text/plain": [
       "<Figure size 576x360 with 2 Axes>"
      ]
     },
     "metadata": {
      "tags": []
     },
     "output_type": "display_data"
    }
   ],
   "source": [
    "confusion_matrix = pd.DataFrame(\n",
    "    data=metrics.confusion_matrix(labels_test, np.rint(y_predict_rand)),\n",
    ")\n",
    "\n",
    "confusion_figure, confusion_axes = matplotlib.pyplot.subplots()\n",
    "confusion_figure.set_size_inches(8, 5)\n",
    "confusion_axes.set_title(\n",
    "    'Confusion matrix showing the frequency of \\n'\n",
    "    'correct and incorrect bug classification predictions.'\n",
    "    '\\n\\n'  # hack to avoid overlap with x-axis labels below\n",
    ")\n",
    "confusion_axes.xaxis.tick_top()  # move x-axis labels to top of matrix\n",
    "_ = sns.heatmap(\n",
    "    confusion_matrix,\n",
    "    annot=True,\n",
    "    fmt=\"d\",\n",
    "    cmap=sns.color_palette(\"Blues\"),\n",
    "    vmin=0,\n",
    "    ax=confusion_axes,\n",
    ")"
   ]
  },
  {
   "cell_type": "code",
   "execution_count": 0,
   "metadata": {
    "colab": {},
    "colab_type": "code",
    "id": "LNVjd6hyw4cK"
   },
   "outputs": [],
   "source": [
    "fpr_keras, tpr_keras, thresholds_keras = roc_curve(labels_test_rand.astype(int), y_predict_rand)\n",
    "precision, recall, thresholds = precision_recall_curve(labels_test_rand.astype(int), y_predict_rand)"
   ]
  },
  {
   "cell_type": "code",
   "execution_count": 57,
   "metadata": {
    "colab": {
     "base_uri": "https://localhost:8080/",
     "height": 86
    },
    "colab_type": "code",
    "id": "10XgWN4K6Fmi",
    "outputId": "e1e71a1c-cc1b-4703-c1d3-f8b644198baf"
   },
   "outputs": [
    {
     "name": "stdout",
     "output_type": "stream",
     "text": [
      "PR AUC: 0.558\n",
      "ROC AUC: 0.567\n",
      "MCC: 0.059\n",
      "F1: 0.211\n"
     ]
    }
   ],
   "source": [
    "auc_keras = auc(fpr_keras, tpr_keras)\n",
    "roc_auc = roc_auc_score(labels_test_rand.astype(int), y_predict_rand)\n",
    "pr_auc = auc(recall, precision)\n",
    "f1 = f1_score(labels_test_rand.astype(int), np.rint(y_predict_rand))\n",
    "mcc = matthews_corrcoef(labels_test_rand.astype(int), np.rint(y_predict_rand))\n",
    "\n",
    "print('PR AUC: %.3f' % pr_auc)\n",
    "print('ROC AUC: %.3f' % roc_auc)\n",
    "print('MCC: %.3f' % mcc)\n",
    "print('F1: %.3f' % f1)"
   ]
  },
  {
   "cell_type": "code",
   "execution_count": 58,
   "metadata": {
    "colab": {
     "base_uri": "https://localhost:8080/",
     "height": 295
    },
    "colab_type": "code",
    "id": "dWKQnpOfw4cP",
    "outputId": "38433a0e-e3ee-4991-a8de-743fe3e8e94e"
   },
   "outputs": [
    {
     "data": {
      "image/png": "[encoded data removed]",
      "text/plain": [
       "<Figure size 432x288 with 1 Axes>"
      ]
     },
     "metadata": {
      "tags": []
     },
     "output_type": "display_data"
    }
   ],
   "source": [
    "plt.plot(fpr_keras, tpr_keras, label='Keras (area = {:.3f})'.format(auc_keras))\n",
    "plt.xlabel('False positive rate')\n",
    "plt.ylabel('True positive rate')\n",
    "plt.title('ROC curve')\n",
    "plt.legend(loc='best')\n",
    "plt.show()"
   ]
  },
  {
   "cell_type": "markdown",
   "metadata": {
    "colab_type": "text",
    "id": "vQeGoVlkT2xG"
   },
   "source": [
    "Basically, no better than a random guess."
   ]
  },
  {
   "cell_type": "code",
   "execution_count": 0,
   "metadata": {
    "colab": {},
    "colab_type": "code",
    "id": "O6vl2-nDhCUW"
   },
   "outputs": [],
   "source": [
    "tn, fp, fn, tp = metrics.confusion_matrix(\n",
    "    labels_test.astype(int), \n",
    "    np.rint(y_predict_rand)\n",
    ").flatten().tolist()\n",
    "\n",
    "fpr_nn = fp/(fp+tp)\n",
    "fnr_nn = fn/(fn+tn)"
   ]
  },
  {
   "cell_type": "code",
   "execution_count": 60,
   "metadata": {
    "colab": {
     "base_uri": "https://localhost:8080/",
     "height": 34
    },
    "colab_type": "code",
    "id": "c5V82XzAw4cR",
    "outputId": "33e46ccf-e269-4c4d-a4c2-ba02e4e8deae"
   },
   "outputs": [
    {
     "data": {
      "text/plain": [
       "(0.40896358543417366, 0.49773440223074245)"
      ]
     },
     "execution_count": 60,
     "metadata": {
      "tags": []
     },
     "output_type": "execute_result"
    }
   ],
   "source": [
    "fpr_nn, fnr_nn"
   ]
  },
  {
   "cell_type": "markdown",
   "metadata": {
    "colab_type": "text",
    "id": "NxR6EIAET6f9"
   },
   "source": [
    "Now we will use random padding for both training and testing:"
   ]
  },
  {
   "cell_type": "markdown",
   "metadata": {
    "colab_type": "text",
    "id": "WqeOMtJhKzoO"
   },
   "source": [
    "# To DO: run model"
   ]
  },
  {
   "cell_type": "code",
   "execution_count": 0,
   "metadata": {
    "colab": {},
    "colab_type": "code",
    "id": "cxGp6DklFjP7"
   },
   "outputs": [],
   "source": [
    "# 1st: Convolutional Network on Adjacency Matrix\n",
    "adjacency_input = keras.layers.Input(shape=(matrix_size, matrix_size, 1))\n",
    "\n",
    "conv1 = Conv2D(\n",
    "    data_format='channels_last',\n",
    "    input_shape=(matrix_size, matrix_size, 1),\n",
    "    filters=32,\n",
    "    kernel_size=kernel_size,\n",
    "    strides=strides,\n",
    ")(adjacency_input)\n",
    "activation1 = Activation('relu')(conv1)\n",
    "pool1 = MaxPooling2D(kernel_size, padding='same')(activation1)\n",
    "\n",
    "conv2 = Conv2D(\n",
    "    data_format='channels_last',\n",
    "    input_shape=(matrix_size, matrix_size, 1),\n",
    "    filters=32,\n",
    "    kernel_size=kernel_size,\n",
    "    strides=strides,\n",
    ")(pool1)\n",
    "activation2 = Activation('relu')(conv2)\n",
    "pool2 = MaxPooling2D(kernel_size, padding='same')(activation2)\n",
    "\n",
    "conv3 = Conv2D(\n",
    "    data_format='channels_last',\n",
    "    input_shape=(matrix_size, matrix_size, 1),\n",
    "    filters=32,\n",
    "    kernel_size=kernel_size,\n",
    "    strides=strides,\n",
    ")(pool2)\n",
    "activation3 = Activation('relu')(conv3)\n",
    "pool3 = MaxPooling2D(kernel_size, padding='same')(activation3)\n",
    "\n",
    "flatten = Flatten()(pool3)\n",
    "\n",
    "dense1 = Dense(units=32, activation='relu')(flatten)\n",
    "dense2 = Dense(units=32, activation='relu')(dense1)\n",
    "dense3 = Dense(units=32, activation='relu')(dense2)\n",
    "\n",
    "conv_model = keras.models.Model(inputs=adjacency_input, outputs=dense3)\n",
    "\n",
    "# 2nd: Dense, Linear Network on Feature Matrix\n",
    "features_input = keras.layers.Input(shape=(matrix_size, num_features, 1))\n",
    "\n",
    "f_flatten = Flatten(data_format='channels_last')(features_input)\n",
    "\n",
    "f_dense1 = Dense(units=614, activation='relu')(f_flatten)\n",
    "f_dense2 = Dense(units=307, activation='relu')(f_dense1)\n",
    "f_dense3 = Dense(units=150, activation='relu')(f_dense2)\n",
    "f_dense4 = Dense(units=75, activation='relu')(f_dense3)\n",
    "f_dense5 = Dense(units=32, activation='relu')(f_dense4)\n",
    "\n",
    "dense_input = keras.models.Model(inputs = features_input, outputs= f_dense5)\n",
    "\n",
    "# Combine outputs of both networks via a set of dense, linear layers\n",
    "concat = keras.layers.concatenate(inputs=[conv_model.output ,dense_input.output])\n",
    "c_dropout = Dropout(0.8)(concat)\n",
    "c_dense1 =  Dense(units=64, activation='relu')(c_dropout)\n",
    "c_dense2 =  Dense(units=64, activation='relu')(c_dense1)\n",
    "c_dense3 =  Dense(units=64, activation='relu')(c_dense2)\n",
    "\n",
    "# Dropout and final output layer\n",
    "c_output = Dense(units=1, activation='sigmoid')(c_dense3)\n",
    "\n",
    "model_rand = keras.models.Model(inputs=[conv_model.input, dense_input.input], outputs=c_output)\n",
    "\n",
    "model_rand.compile(optimizer=Adam(), loss='binary_crossentropy', metrics=['accuracy'])\n",
    "\n",
    "model_rand.summary()"
   ]
  },
  {
   "cell_type": "code",
   "execution_count": null,
   "metadata": {
    "colab": {
     "base_uri": "https://localhost:8080/",
     "height": 187
    },
    "colab_type": "code",
    "id": "JbteNLe6UIQw",
    "outputId": "6da3d361-d9c5-4f3a-b955-93a68d81125b"
   },
   "outputs": [
    {
     "name": "stdout",
     "output_type": "stream",
     "text": [
      "Epoch 1/5\n",
      "168/168 [==============================] - 2771s 16s/step - loss: 0.6691 - acc: 0.5734 - val_loss: 0.6597 - val_acc: 0.5964\n",
      "Epoch 2/5\n",
      "168/168 [==============================] - 2989s 18s/step - loss: 0.5858 - acc: 0.6648 - val_loss: 0.6345 - val_acc: 0.6221\n",
      "Epoch 3/5\n",
      "168/168 [==============================] - 2936s 17s/step - loss: 0.4681 - acc: 0.7449 - val_loss: 0.6107 - val_acc: 0.6748\n",
      "Epoch 4/5\n",
      "168/168 [==============================] - 3029s 18s/step - loss: 0.3867 - acc: 0.7951 - val_loss: 0.6138 - val_acc: 0.6882\n",
      "Epoch 5/5\n",
      "168/168 [==============================] - 3084s 18s/step - loss: 0.3046 - acc: 0.8439 - val_loss: 0.7822 - val_acc: 0.7089\n"
     ]
    }
   ],
   "source": [
    "training_batch_generator_rand = SparseToDenseGenerator(adj_train_rand, feat_train_rand, labels_train_rand, batch_size)\n",
    "val_batch_generator_rand = SparseToDenseGenerator(adj_test_rand, feat_test_rand, labels_test_rand, batch_size)\n",
    "\n",
    "history_rand = model_rand.fit_generator(\n",
    "    generator=training_batch_generator_rand,\n",
    "    validation_data=val_batch_generator_rand,\n",
    "    epochs=epochs,\n",
    "    steps_per_epoch=steps_per_epoch\n",
    ")"
   ]
  },
  {
   "cell_type": "code",
   "execution_count": 0,
   "metadata": {
    "colab": {},
    "colab_type": "code",
    "id": "wIFayrVAEnNt"
   },
   "outputs": [],
   "source": [
    "with open('../data/adjacency-feature-matrix-random-padding-history.pickle', 'wb') as f:\n",
    "    pickle.dump(history,f)"
   ]
  },
  {
   "cell_type": "code",
   "execution_count": null,
   "metadata": {
    "colab": {
     "base_uri": "https://localhost:8080/",
     "height": 295
    },
    "colab_type": "code",
    "id": "CrKKc0El7pdZ",
    "outputId": "3be78e42-05be-4460-d744-0c07bc929865"
   },
   "outputs": [
    {
     "data": {
      "image/png": "[encoded data removed]",
      "text/plain": [
       "<Figure size 432x288 with 1 Axes>"
      ]
     },
     "metadata": {
      "tags": []
     },
     "output_type": "display_data"
    }
   ],
   "source": [
    "import matplotlib.pyplot as plt\n",
    "import numpy\n",
    "# summarize history for loss\n",
    "plt.plot(history.history['loss'])\n",
    "plt.plot(history.history['val_loss'])\n",
    "plt.title('model loss')\n",
    "plt.ylabel('loss')\n",
    "plt.xlabel('epoch')\n",
    "plt.legend(['train', 'validation'], loc='upper left')\n",
    "plt.show()"
   ]
  },
  {
   "cell_type": "code",
   "execution_count": 0,
   "metadata": {
    "colab": {},
    "colab_type": "code",
    "id": "soY4jMSTV97-"
   },
   "outputs": [],
   "source": [
    "with open('../data/adjacency-feature-matrix-random-padding-model-binary.pickle', 'wb') as f:\n",
    "    pickle.dump(model_rand,f)"
   ]
  },
  {
   "cell_type": "markdown",
   "metadata": {
    "colab_type": "text",
    "id": "KQpkoi_YF--3"
   },
   "source": [
    "Load model_rand"
   ]
  },
  {
   "cell_type": "code",
   "execution_count": 0,
   "metadata": {
    "colab": {},
    "colab_type": "code",
    "id": "RH3_ki-uTV0G"
   },
   "outputs": [],
   "source": [
    "model_rand = None\n",
    "\n",
    "with open('../data/adjacency-feature-matrix-random-padding-model-binary.pickle', 'rb') as f:\n",
    "    model_rand = pickle.load(f)"
   ]
  },
  {
   "cell_type": "code",
   "execution_count": 44,
   "metadata": {
    "colab": {
     "base_uri": "https://localhost:8080/",
     "height": 34
    },
    "colab_type": "code",
    "id": "S5Cs1qaMS_Gv",
    "outputId": "60954e1f-26bb-4e33-8f4c-88843c62b79d"
   },
   "outputs": [
    {
     "data": {
      "text/plain": [
       "[0.7821643684343456, 0.7089274627262218]"
      ]
     },
     "execution_count": 44,
     "metadata": {
      "tags": []
     },
     "output_type": "execute_result"
    }
   ],
   "source": [
    "test_batch_generator_rand = SparseToDenseGenerator(adj_test_rand, feat_test_rand, labels_test_rand, batch_size)\n",
    "\n",
    "model_rand.evaluate_generator(\n",
    "    generator=test_batch_generator_rand,\n",
    ")"
   ]
  },
  {
   "cell_type": "markdown",
   "metadata": {
    "colab_type": "text",
    "id": "Fwxz3SNav33Q"
   },
   "source": [
    "70.89% accuracy\n",
    "(used to be 88.7% accuracy)"
   ]
  },
  {
   "cell_type": "markdown",
   "metadata": {
    "colab_type": "text",
    "id": "z8PK45jgv33Q"
   },
   "source": [
    "Visualisations:"
   ]
  },
  {
   "cell_type": "code",
   "execution_count": 0,
   "metadata": {
    "colab": {},
    "colab_type": "code",
    "id": "kr5blNJtTcu-"
   },
   "outputs": [],
   "source": [
    "predict_batch_generator_rand = SparseToDensePredictGenerator(adj_test_rand, feat_test_rand, batch_size)\n",
    "y_predict_rand = model_rand.predict_generator(predict_batch_generator_rand)"
   ]
  },
  {
   "cell_type": "code",
   "execution_count": 50,
   "metadata": {
    "colab": {
     "base_uri": "https://localhost:8080/",
     "height": 232
    },
    "colab_type": "code",
    "id": "WJytHs7D1dJm",
    "outputId": "1b7991f5-9d86-447e-e45d-41431281c3e2"
   },
   "outputs": [
    {
     "ename": "NameError",
     "evalue": "ignored",
     "output_type": "error",
     "traceback": [
      "\u001b[0;31m---------------------------------------------------------------------------\u001b[0m",
      "\u001b[0;31mNameError\u001b[0m                                 Traceback (most recent call last)",
      "\u001b[0;32m<ipython-input-50-f6d006487492>\u001b[0m in \u001b[0;36m<module>\u001b[0;34m()\u001b[0m\n\u001b[1;32m      1\u001b[0m \u001b[0;32mfrom\u001b[0m \u001b[0msklearn\u001b[0m\u001b[0;34m.\u001b[0m\u001b[0mmetrics\u001b[0m \u001b[0;32mimport\u001b[0m \u001b[0mauc\u001b[0m\u001b[0;34m,\u001b[0m \u001b[0mroc_curve\u001b[0m\u001b[0;34m,\u001b[0m \u001b[0mprecision_recall_curve\u001b[0m\u001b[0;34m,\u001b[0m \u001b[0mmatthews_corrcoef\u001b[0m\u001b[0;34m,\u001b[0m \u001b[0mf1_score\u001b[0m\u001b[0;34m,\u001b[0m \u001b[0mroc_auc_score\u001b[0m\u001b[0;34m\u001b[0m\u001b[0;34m\u001b[0m\u001b[0m\n\u001b[1;32m      2\u001b[0m confusion_matrix = pd.DataFrame(\n\u001b[0;32m----> 3\u001b[0;31m     \u001b[0mdata\u001b[0m\u001b[0;34m=\u001b[0m\u001b[0mmetrics\u001b[0m\u001b[0;34m.\u001b[0m\u001b[0mconfusion_matrix\u001b[0m\u001b[0;34m(\u001b[0m\u001b[0mlabels_test_rand\u001b[0m\u001b[0;34m,\u001b[0m \u001b[0mnp\u001b[0m\u001b[0;34m.\u001b[0m\u001b[0mrint\u001b[0m\u001b[0;34m(\u001b[0m\u001b[0my_predict_rand\u001b[0m\u001b[0;34m)\u001b[0m\u001b[0;34m)\u001b[0m\u001b[0;34m,\u001b[0m\u001b[0;34m\u001b[0m\u001b[0;34m\u001b[0m\u001b[0m\n\u001b[0m\u001b[1;32m      4\u001b[0m )\n\u001b[1;32m      5\u001b[0m \u001b[0;34m\u001b[0m\u001b[0m\n",
      "\u001b[0;31mNameError\u001b[0m: name 'metrics' is not defined"
     ]
    }
   ],
   "source": [
    "confusion_matrix = pd.DataFrame(\n",
    "    data=metrics.confusion_matrix(labels_test_rand, np.rint(y_predict_rand)),\n",
    ")\n",
    "\n",
    "confusion_figure, confusion_axes = matplotlib.pyplot.subplots()\n",
    "confusion_figure.set_size_inches(8, 5)\n",
    "confusion_axes.set_title(\n",
    "    'Confusion matrix showing the frequency of \\n'\n",
    "    'correct and incorrect bug classification predictions.'\n",
    "    '\\n\\n'  # hack to avoid overlap with x-axis labels below\n",
    ")\n",
    "confusion_axes.xaxis.tick_top()  # move x-axis labels to top of matrix\n",
    "_ = sns.heatmap(\n",
    "    confusion_matrix,\n",
    "    annot=True,\n",
    "    fmt=\"d\",\n",
    "    cmap=sns.color_palette(\"Blues\"),\n",
    "    vmin=0,\n",
    "    ax=confusion_axes,\n",
    ")"
   ]
  },
  {
   "cell_type": "code",
   "execution_count": 0,
   "metadata": {
    "colab": {},
    "colab_type": "code",
    "id": "1UxJpkub1jZg"
   },
   "outputs": [],
   "source": [
    "from sklearn.metrics import auc, roc_curve, precision_recall_curve, matthews_corrcoef, f1_score, roc_auc_score\n",
    "fpr_keras, tpr_keras, thresholds_keras = roc_curve(labels_test_rand.astype(int), y_predict_rand)\n",
    "precision, recall, thresholds = precision_recall_curve(labels_test_rand.astype(int), y_predict_rand)"
   ]
  },
  {
   "cell_type": "code",
   "execution_count": 52,
   "metadata": {
    "colab": {
     "base_uri": "https://localhost:8080/",
     "height": 85
    },
    "colab_type": "code",
    "id": "oSIAqe-Z6swy",
    "outputId": "5e742141-db5c-4d45-81a0-3d84b05b9eab"
   },
   "outputs": [
    {
     "name": "stdout",
     "output_type": "stream",
     "text": [
      "PR AUC: 0.745\n",
      "ROC AUC: 0.772\n",
      "MCC: 0.427\n",
      "F1: 0.743\n"
     ]
    }
   ],
   "source": [
    "auc_keras = auc(fpr_keras, tpr_keras)\n",
    "roc_auc = roc_auc_score(labels_test_rand.astype(int), y_predict_rand)\n",
    "pr_auc = auc(recall, precision)\n",
    "f1 = f1_score(labels_test_rand.astype(int), np.rint(y_predict_rand))\n",
    "mcc = matthews_corrcoef(labels_test_rand.astype(int), np.rint(y_predict_rand))\n",
    "\n",
    "print('PR AUC: %.3f' % pr_auc)\n",
    "print('ROC AUC: %.3f' % roc_auc)\n",
    "print('MCC: %.3f' % mcc)\n",
    "print('F1: %.3f' % f1)"
   ]
  },
  {
   "cell_type": "code",
   "execution_count": 0,
   "metadata": {
    "colab": {},
    "colab_type": "code",
    "id": "cZrd7y52dhv-"
   },
   "outputs": [],
   "source": [
    "with open('../data/cnn-adj-feat-rand-pad-y-test','wb') as f:\n",
    "    pickle.dump(labels_test.astype(int), f)\n",
    "    \n",
    "with open('../data/cnn-adj-feat-rand-pad-y-predict','wb') as f:\n",
    "    pickle.dump(y_predict_rand, f)"
   ]
  },
  {
   "cell_type": "code",
   "execution_count": 57,
   "metadata": {
    "colab": {
     "base_uri": "https://localhost:8080/",
     "height": 295
    },
    "colab_type": "code",
    "id": "Eowd-MKC1pwa",
    "outputId": "d14e582a-fb1b-4097-dcbb-134cafcc2b39"
   },
   "outputs": [
    {
     "data": {
      "image/png": "[encoded data removed]",
      "text/plain": [
       "<Figure size 432x288 with 1 Axes>"
      ]
     },
     "metadata": {
      "tags": []
     },
     "output_type": "display_data"
    }
   ],
   "source": [
    "auc_keras = auc(fpr_keras, tpr_keras)\n",
    "plt.plot(fpr_keras, tpr_keras, label='Keras (area = {:.3f})'.format(auc_keras))\n",
    "plt.xlabel('False positive rate')\n",
    "plt.ylabel('True positive rate')\n",
    "plt.title('ROC curve')\n",
    "plt.legend(loc='best')\n",
    "plt.show()"
   ]
  },
  {
   "cell_type": "code",
   "execution_count": 0,
   "metadata": {
    "colab": {},
    "colab_type": "code",
    "id": "sf7wP8kZ1xG_"
   },
   "outputs": [],
   "source": [
    "tn, fp, fn, tp = metrics.confusion_matrix(\n",
    "    labels_test.astype(int), \n",
    "    np.rint(y_predict_rand)\n",
    ").flatten().tolist()\n",
    "\n",
    "fpr_nn = fp/(fp+tp)\n",
    "fnr_nn = fn/(fn+tn)\n",
    "\n",
    "fpr_nn, fnr_nn"
   ]
  },
  {
   "cell_type": "markdown",
   "metadata": {
    "colab_type": "text",
    "id": "ICTG5eF513EC"
   },
   "source": [
    "Now testing the model on standard padded matrices when trained on random padding:"
   ]
  },
  {
   "cell_type": "code",
   "execution_count": 0,
   "metadata": {
    "colab": {
     "base_uri": "https://localhost:8080/",
     "height": 34
    },
    "colab_type": "code",
    "id": "dN5oYoAK12Gw",
    "outputId": "09e49fbf-89f2-4bcf-e67a-1b3d98fea042"
   },
   "outputs": [
    {
     "data": {
      "text/plain": [
       "[5.511991235090942, 0.5365778041861475]"
      ]
     },
     "execution_count": 44,
     "metadata": {
      "tags": []
     },
     "output_type": "execute_result"
    }
   ],
   "source": [
    "test_batch_generator = SparseToDenseGenerator(adj_test, feat_test, labels_test, batch_size)\n",
    "\n",
    "model.evaluate_generator(\n",
    "    generator=test_batch_generator,\n",
    ")"
   ]
  },
  {
   "cell_type": "markdown",
   "metadata": {
    "colab_type": "text",
    "id": "YuN2D-Dp6dhA"
   },
   "source": [
    "53.65% accuracy"
   ]
  }
 ],
 "metadata": {
  "accelerator": "TPU",
  "colab": {
   "collapsed_sections": [],
   "machine_shape": "hm",
   "name": "Copy of ML-adj-feature-matrix-conv-neural-network.ipynb",
   "provenance": [],
   "version": "0.3.2"
  },
  "kernelspec": {
   "display_name": "Python 3",
   "name": "python3"
  },
  "language_info": {
   "codemirror_mode": {
    "name": "ipython",
    "version": 3
   },
   "file_extension": ".py",
   "mimetype": "text/x-python",
   "name": "python",
   "nbconvert_exporter": "python",
   "pygments_lexer": "ipython3",
   "version": "3.6.8"
  },
  "toc": {
   "base_numbering": 1,
   "nav_menu": {},
   "number_sections": true,
   "sideBar": true,
   "skip_h1_title": false,
   "title_cell": "Table of Contents",
   "title_sidebar": "Contents",
   "toc_cell": false,
   "toc_position": {},
   "toc_section_display": true,
   "toc_window_display": false
  }
 },
 "nbformat": 4,
 "nbformat_minor": 0
}
