{
 "cells": [
  {
   "cell_type": "markdown",
   "metadata": {
    "colab_type": "text",
    "id": "view-in-github"
   },
   "source": [
    "<a href=\"https://colab.research.google.com/github/dj311/uob-summer-project/blob/master/code/ML-adj-feature-matrix-conv-neural-network.ipynb\" target=\"_parent\"><img src=\"https://colab.research.google.com/assets/colab-badge.svg\" alt=\"Open In Colab\"/></a>"
   ]
  },
  {
   "cell_type": "markdown",
   "metadata": {
    "colab_type": "text",
    "id": "WD7BVc9Bk8jQ"
   },
   "source": [
    "(Uncompleted) Notebook for training and testing the baseline neural network model using adjacency matrices of the AST format of the buffer overflow datapoints. In order for the matrices to be fed into the neural network, they must all be of the same dimensions. We currently pick a subset of the data with small-ish AST matrices (614x614)"
   ]
  },
  {
   "cell_type": "markdown",
   "metadata": {
    "colab_type": "text",
    "id": "K4oesAZzmRhL"
   },
   "source": [
    "# Colab Setup"
   ]
  },
  {
   "cell_type": "code",
   "execution_count": 0,
   "metadata": {
    "colab": {
     "base_uri": "https://localhost:8080/",
     "height": 1000
    },
    "colab_type": "code",
    "id": "W3hzFsJWtCn-",
    "outputId": "0c491b5a-531b-4ee3-c603-e485432d3823"
   },
   "outputs": [
    {
     "name": "stdout",
     "output_type": "stream",
     "text": [
      "--2019-08-02 06:47:07--  https://github.com/dj311/uob-summer-project/raw/master/data/adj.pickle\n",
      "Resolving github.com (github.com)... 192.30.253.112\n",
      "Connecting to github.com (github.com)|192.30.253.112|:443... connected.\n",
      "HTTP request sent, awaiting response... 302 Found\n",
      "Location: https://media.githubusercontent.com/media/dj311/uob-summer-project/master/data/adj.pickle [following]\n",
      "--2019-08-02 06:47:07--  https://media.githubusercontent.com/media/dj311/uob-summer-project/master/data/adj.pickle\n",
      "Resolving media.githubusercontent.com (media.githubusercontent.com)... 151.101.0.133, 151.101.64.133, 151.101.128.133, ...\n",
      "Connecting to media.githubusercontent.com (media.githubusercontent.com)|151.101.0.133|:443... connected.\n",
      "HTTP request sent, awaiting response... 200 OK\n",
      "Length: 1320521199 (1.2G) [application/octet-stream]\n",
      "Saving to: ‘adj.pickle’\n",
      "\n",
      "adj.pickle          100%[===================>]   1.23G   182MB/s    in 6.5s    \n",
      "\n",
      "2019-08-02 06:47:29 (193 MB/s) - ‘adj.pickle’ saved [1320521199/1320521199]\n",
      "\n",
      "--2019-08-02 06:47:31--  https://github.com/dj311/uob-summer-project/raw/master/data/adjacency-feature-matrix-model-binary.pickle\n",
      "Resolving github.com (github.com)... 192.30.253.112\n",
      "Connecting to github.com (github.com)|192.30.253.112|:443... connected.\n",
      "HTTP request sent, awaiting response... 302 Found\n",
      "Location: https://media.githubusercontent.com/media/dj311/uob-summer-project/master/data/adjacency-feature-matrix-model-binary.pickle [following]\n",
      "--2019-08-02 06:47:31--  https://media.githubusercontent.com/media/dj311/uob-summer-project/master/data/adjacency-feature-matrix-model-binary.pickle\n",
      "Resolving media.githubusercontent.com (media.githubusercontent.com)... 151.101.0.133, 151.101.64.133, 151.101.128.133, ...\n",
      "Connecting to media.githubusercontent.com (media.githubusercontent.com)|151.101.0.133|:443... connected.\n",
      "HTTP request sent, awaiting response... 200 OK\n",
      "Length: 323108598 (308M) [application/octet-stream]\n",
      "Saving to: ‘adjacency-feature-matrix-model-binary.pickle’\n",
      "\n",
      "adjacency-feature-m 100%[===================>] 308.14M   197MB/s    in 1.6s    \n",
      "\n",
      "2019-08-02 06:47:36 (197 MB/s) - ‘adjacency-feature-matrix-model-binary.pickle’ saved [323108598/323108598]\n",
      "\n",
      "--2019-08-02 06:47:37--  https://github.com/dj311/uob-summer-project/raw/master/data/buffer_overflow_data.csv.gz\n",
      "Resolving github.com (github.com)... 192.30.253.112\n",
      "Connecting to github.com (github.com)|192.30.253.112|:443... connected.\n",
      "HTTP request sent, awaiting response... 302 Found\n",
      "Location: https://media.githubusercontent.com/media/dj311/uob-summer-project/master/data/buffer_overflow_data.csv.gz [following]\n",
      "--2019-08-02 06:47:37--  https://media.githubusercontent.com/media/dj311/uob-summer-project/master/data/buffer_overflow_data.csv.gz\n",
      "Resolving media.githubusercontent.com (media.githubusercontent.com)... 151.101.0.133, 151.101.64.133, 151.101.128.133, ...\n",
      "Connecting to media.githubusercontent.com (media.githubusercontent.com)|151.101.0.133|:443... connected.\n",
      "HTTP request sent, awaiting response... 200 OK\n",
      "Length: 3008729 (2.9M) [application/octet-stream]\n",
      "Saving to: ‘buffer_overflow_data.csv.gz’\n",
      "\n",
      "buffer_overflow_dat 100%[===================>]   2.87M  --.-KB/s    in 0.08s   \n",
      "\n",
      "2019-08-02 06:47:38 (34.4 MB/s) - ‘buffer_overflow_data.csv.gz’ saved [3008729/3008729]\n",
      "\n",
      "--2019-08-02 06:47:38--  https://github.com/dj311/uob-summer-project/raw/master/data/adjacency-matrix-model-binary.pickle\n",
      "Resolving github.com (github.com)... 192.30.253.112\n",
      "Connecting to github.com (github.com)|192.30.253.112|:443... connected.\n",
      "HTTP request sent, awaiting response... 302 Found\n",
      "Location: https://media.githubusercontent.com/media/dj311/uob-summer-project/master/data/adjacency-matrix-model-binary.pickle [following]\n",
      "--2019-08-02 06:47:38--  https://media.githubusercontent.com/media/dj311/uob-summer-project/master/data/adjacency-matrix-model-binary.pickle\n",
      "Resolving media.githubusercontent.com (media.githubusercontent.com)... 151.101.0.133, 151.101.64.133, 151.101.128.133, ...\n",
      "Connecting to media.githubusercontent.com (media.githubusercontent.com)|151.101.0.133|:443... connected.\n",
      "HTTP request sent, awaiting response... 200 OK\n",
      "Length: 71124065 (68M) [application/octet-stream]\n",
      "Saving to: ‘adjacency-matrix-model-binary.pickle’\n",
      "\n",
      "adjacency-matrix-mo 100%[===================>]  67.83M   198MB/s    in 0.3s    \n",
      "\n",
      "2019-08-02 06:47:40 (198 MB/s) - ‘adjacency-matrix-model-binary.pickle’ saved [71124065/71124065]\n",
      "\n",
      "--2019-08-02 06:47:40--  https://github.com/dj311/uob-summer-project/raw/master/data/feature_matrix.pickle\n",
      "Resolving github.com (github.com)... 192.30.253.112\n",
      "Connecting to github.com (github.com)|192.30.253.112|:443... connected.\n",
      "HTTP request sent, awaiting response... 302 Found\n",
      "Location: https://media.githubusercontent.com/media/dj311/uob-summer-project/master/data/feature_matrix.pickle [following]\n",
      "--2019-08-02 06:47:41--  https://media.githubusercontent.com/media/dj311/uob-summer-project/master/data/feature_matrix.pickle\n",
      "Resolving media.githubusercontent.com (media.githubusercontent.com)... 151.101.0.133, 151.101.64.133, 151.101.128.133, ...\n",
      "Connecting to media.githubusercontent.com (media.githubusercontent.com)|151.101.0.133|:443... connected.\n",
      "HTTP request sent, awaiting response... 200 OK\n",
      "Length: 64502734 (62M) [application/octet-stream]\n",
      "Saving to: ‘feature_matrix.pickle’\n",
      "\n",
      "feature_matrix.pick 100%[===================>]  61.51M   198MB/s    in 0.3s    \n",
      "\n",
      "2019-08-02 06:47:42 (198 MB/s) - ‘feature_matrix.pickle’ saved [64502734/64502734]\n",
      "\n",
      "/project/code\n"
     ]
    }
   ],
   "source": [
    "!mkdir -p /project/data && cd /project/data && wget -O adj.pickle https://github.com/dj311/uob-summer-project/raw/master/data/adj.pickle\n",
    "!mkdir -p /project/data && cd /project/data && wget -O adjacency-feature-matrix-random-padding-model-binary.pickle https://github.com/dj311/uob-summer-project/raw/master/data/adjacency-feature-matrix-random-padding-model-binary.pickle\n",
    "!mkdir -p /project/data && cd /project/data && wget -O adjacency-feature-matrix-model-binary.pickle https://github.com/dj311/uob-summer-project/raw/master/data/adjacency-feature-matrix-model-binary.pickle\n",
    "!mkdir -p /project/data && cd /project/data && wget -O buffer_overflow_data.csv.gz https://github.com/dj311/uob-summer-project/raw/master/data/buffer_overflow_data.csv.gz\n",
    "!mkdir -p /project/data && cd /project/data && wget -O adjacency-matrix-model-binary.pickle https://github.com/dj311/uob-summer-project/raw/master/data/adjacency-matrix-model-binary.pickle\n",
    "!mkdir -p /project/data && cd /project/data && wget -O feature_matrix.pickle https://github.com/dj311/uob-summer-project/raw/master/data/feature_matrix.pickle\n",
    "!mkdir -p /project/code\n",
    "%cd /project/code"
   ]
  },
  {
   "cell_type": "markdown",
   "metadata": {
    "colab_type": "text",
    "id": "lO9-8NDKk8ja"
   },
   "source": [
    "# Import & Preprocess Dataset\n",
    "\n",
    "First we import the data from the [previous notebook](./adjacency_matrix.ipynb).\n"
   ]
  },
  {
   "cell_type": "code",
   "execution_count": 0,
   "metadata": {
    "colab": {},
    "colab_type": "code",
    "id": "uB5QGgAgk8je"
   },
   "outputs": [],
   "source": [
    "import tensorflow as tf\n",
    "import keras\n",
    "import sklearn\n",
    "import numpy as np\n",
    "import pickle\n",
    "import random\n",
    "import pandas as pd\n",
    "from scipy.sparse import csr_matrix, hstack, vstack\n",
    "from sklearn.model_selection import train_test_split\n",
    "\n",
    "\n",
    "run_opts = tf.RunOptions(report_tensor_allocations_upon_oom = True)\n",
    "np.random.seed(1248)\n",
    "\n",
    "tf.logging.set_verbosity(tf.logging.INFO)"
   ]
  },
  {
   "cell_type": "code",
   "execution_count": 0,
   "metadata": {
    "colab": {},
    "colab_type": "code",
    "id": "NQwMY_iLk8kC"
   },
   "outputs": [],
   "source": [
    "data = pd.read_csv('../data/buffer_overflow_data.csv.gz')"
   ]
  },
  {
   "cell_type": "code",
   "execution_count": 0,
   "metadata": {
    "colab": {},
    "colab_type": "code",
    "id": "76z9869-k8kQ"
   },
   "outputs": [],
   "source": [
    "labels = data.copy()\n",
    "del labels['Unnamed: 0']\n",
    "del labels['Unnamed: 0.1']\n",
    "del labels['filename']\n",
    "del labels['code']\n",
    "del labels['flaw']\n",
    "del labels['flaw_loc']\n",
    "labels = labels.drop_duplicates().sort_values('testcase_ID').reset_index(drop=True)"
   ]
  },
  {
   "cell_type": "code",
   "execution_count": 0,
   "metadata": {
    "colab": {},
    "colab_type": "code",
    "id": "AyqJFOtWk8kg"
   },
   "outputs": [],
   "source": [
    "with open(\"../data/adj.pickle\",'rb') as f:\n",
    "    adj = pickle.load(f)"
   ]
  },
  {
   "cell_type": "code",
   "execution_count": 0,
   "metadata": {
    "colab": {},
    "colab_type": "code",
    "id": "PHikMdozk8k1"
   },
   "outputs": [],
   "source": [
    "adj = adj.rename(columns={0: 'testcase_ID', 1: 'adjacency_matrix'})"
   ]
  },
  {
   "cell_type": "code",
   "execution_count": 0,
   "metadata": {
    "colab": {},
    "colab_type": "code",
    "id": "pIdnRsBjk8k-"
   },
   "outputs": [],
   "source": [
    "orig_df = pd.merge(labels, adj, on='testcase_ID')"
   ]
  },
  {
   "cell_type": "code",
   "execution_count": 0,
   "metadata": {
    "colab": {},
    "colab_type": "code",
    "id": "s-qHa46Vk8lK"
   },
   "outputs": [],
   "source": [
    "orig_df = orig_df[['testcase_ID', 'adjacency_matrix', 'bug']]"
   ]
  },
  {
   "cell_type": "markdown",
   "metadata": {
    "colab_type": "text",
    "id": "qB06ooxxo--s"
   },
   "source": [
    "Next, find out the maximum size of an adjacency matrix, then convert all matrices to have the same dimension."
   ]
  },
  {
   "cell_type": "code",
   "execution_count": 0,
   "metadata": {
    "colab": {},
    "colab_type": "code",
    "id": "HNY1UrHJk8lg"
   },
   "outputs": [],
   "source": [
    "orig_df['matrix_size'] = orig_df.adjacency_matrix.apply(lambda x: x.shape[0])"
   ]
  },
  {
   "cell_type": "code",
   "execution_count": 0,
   "metadata": {
    "colab": {
     "base_uri": "https://localhost:8080/",
     "height": 170
    },
    "colab_type": "code",
    "id": "p6zGXUxbk8l1",
    "outputId": "1cab98bf-f1ae-42dd-aa98-2d81c242708f"
   },
   "outputs": [
    {
     "data": {
      "text/plain": [
       "count    21502.000000\n",
       "mean      2186.138778\n",
       "std       7239.752920\n",
       "min          4.000000\n",
       "25%        349.000000\n",
       "50%        396.000000\n",
       "75%        614.000000\n",
       "max      44401.000000\n",
       "Name: matrix_size, dtype: float64"
      ]
     },
     "execution_count": 11,
     "metadata": {
      "tags": []
     },
     "output_type": "execute_result"
    }
   ],
   "source": [
    "orig_df['matrix_size'].describe()"
   ]
  },
  {
   "cell_type": "markdown",
   "metadata": {
    "colab_type": "text",
    "id": "VlN1pb2SJW2i"
   },
   "source": [
    "So we know that 75% of the dataset has a matrix size <= 614, which is approximately 18000 datapoints. Picking the full dataset would require matrices of dimension 44401x44401 which require 15 gb of memory each. This is isn't feasible, however picking matrices of size 614x614 or less gives a per matrix size of 3.38mb - far more manageable!"
   ]
  },
  {
   "cell_type": "code",
   "execution_count": 0,
   "metadata": {
    "colab": {
     "base_uri": "https://localhost:8080/",
     "height": 34
    },
    "colab_type": "code",
    "id": "JXR174VPKKzR",
    "outputId": "e773c05e-75ab-49d5-e5d7-c7cd2988b241"
   },
   "outputs": [
    {
     "data": {
      "text/plain": [
       "16128"
      ]
     },
     "execution_count": 12,
     "metadata": {
      "tags": []
     },
     "output_type": "execute_result"
    }
   ],
   "source": [
    "matrix_size = 614\n",
    "orig_df = orig_df[orig_df['matrix_size'] <= matrix_size]\n",
    "len(orig_df)"
   ]
  },
  {
   "cell_type": "code",
   "execution_count": 0,
   "metadata": {
    "colab": {},
    "colab_type": "code",
    "id": "6V8vaupgva2q"
   },
   "outputs": [],
   "source": [
    "orig_df['random_pad_amount'] = orig_df['matrix_size'].apply(lambda m: random.randint(m,matrix_size))"
   ]
  },
  {
   "cell_type": "code",
   "execution_count": 0,
   "metadata": {
    "colab": {},
    "colab_type": "code",
    "id": "jEEMyB15w4a-"
   },
   "outputs": [],
   "source": [
    "adj_df = orig_df.copy()"
   ]
  },
  {
   "cell_type": "code",
   "execution_count": 0,
   "metadata": {
    "colab": {},
    "colab_type": "code",
    "id": "MCV9Vwupk8mI"
   },
   "outputs": [],
   "source": [
    "def bottom_right_matrix_size_corrector(matrix, target_rows, target_columns):\n",
    "    '''Pads matrix with zeros to the desired size'''\n",
    "    \n",
    "    rows, columns = matrix.shape[0], matrix.shape[1]\n",
    "    \n",
    "    row_corrector = csr_matrix((target_rows-rows, columns))\n",
    "    col_corrector = csr_matrix((target_rows, target_columns-columns))\n",
    "\n",
    "    matrix = vstack([matrix, row_corrector])\n",
    "    matrix = hstack([matrix, col_corrector])\n",
    "\n",
    "    matrix = matrix.astype(np.int)\n",
    "    \n",
    "    return matrix "
   ]
  },
  {
   "cell_type": "code",
   "execution_count": 0,
   "metadata": {
    "colab": {},
    "colab_type": "code",
    "id": "yI1YFNQMk8mp"
   },
   "outputs": [],
   "source": [
    "adj_df['adjacency_matrix'] = adj_df['adjacency_matrix'].apply(lambda m: bottom_right_matrix_size_corrector(m, matrix_size, matrix_size))"
   ]
  },
  {
   "cell_type": "markdown",
   "metadata": {
    "colab_type": "text",
    "id": "_lrFCpTeWNNk"
   },
   "source": [
    "Next we load in the feature matrices:"
   ]
  },
  {
   "cell_type": "code",
   "execution_count": 0,
   "metadata": {
    "colab": {},
    "colab_type": "code",
    "id": "u2WAylC-WMu7"
   },
   "outputs": [],
   "source": [
    "with open(\"../data/feature_matrix.pickle\", \"rb\") as f:\n",
    "    feature_matrix = pickle.load(f)\n",
    "\n",
    "feature_matrix.columns = ['testcase_ID', 'feature_matrix']"
   ]
  },
  {
   "cell_type": "code",
   "execution_count": 0,
   "metadata": {
    "colab": {},
    "colab_type": "code",
    "id": "rcFPwlU2fXgl"
   },
   "outputs": [],
   "source": [
    "num_features = 55"
   ]
  },
  {
   "cell_type": "code",
   "execution_count": 0,
   "metadata": {
    "colab": {},
    "colab_type": "code",
    "id": "G72pK1NiXZz9"
   },
   "outputs": [],
   "source": [
    "orig_df = pd.merge(feature_matrix, orig_df, on='testcase_ID')"
   ]
  },
  {
   "cell_type": "code",
   "execution_count": 0,
   "metadata": {
    "colab": {},
    "colab_type": "code",
    "id": "yd1yzA2ZSgLv"
   },
   "outputs": [],
   "source": [
    "feat_df = orig_df.copy()"
   ]
  },
  {
   "cell_type": "code",
   "execution_count": 0,
   "metadata": {
    "colab": {},
    "colab_type": "code",
    "id": "rPKL7-DIe0PC"
   },
   "outputs": [],
   "source": [
    "feat_df['feature_matrix'] = feat_df['feature_matrix'].apply(lambda m: bottom_right_matrix_size_corrector(m, matrix_size, num_features))"
   ]
  },
  {
   "cell_type": "code",
   "execution_count": 0,
   "metadata": {
    "colab": {},
    "colab_type": "code",
    "id": "zy8qe3IdrKml"
   },
   "outputs": [],
   "source": [
    "testcase_ids = orig_df['testcase_ID'].values\n",
    "adjacency_matrices = adj_df['adjacency_matrix'].values\n",
    "feature_matrices = feat_df['feature_matrix'].values\n",
    "labels = orig_df['bug'].values"
   ]
  },
  {
   "cell_type": "markdown",
   "metadata": {
    "colab_type": "text",
    "id": "ga6SW3_qpF80"
   },
   "source": [
    "Now we have a dataframe for each testcase with a sparse representation of its AST in the matrix column, each normalised to matrix_size x matrix_size in size.\n",
    "  \n",
    "\n"
   ]
  },
  {
   "cell_type": "markdown",
   "metadata": {
    "colab_type": "text",
    "id": "W8rFgat6TFnc"
   },
   "source": [
    "Finally, we generate the train and test splits:"
   ]
  },
  {
   "cell_type": "code",
   "execution_count": 0,
   "metadata": {
    "colab": {},
    "colab_type": "code",
    "id": "cxO5J1xySMDV"
   },
   "outputs": [],
   "source": [
    "adj_train, adj_test, feat_train, feat_test, labels_train, labels_test = train_test_split(adjacency_matrices, feature_matrices, labels, test_size=0.2, random_state=0)"
   ]
  },
  {
   "cell_type": "code",
   "execution_count": 0,
   "metadata": {
    "colab": {
     "base_uri": "https://localhost:8080/",
     "height": 238
    },
    "colab_type": "code",
    "id": "UpXHfAYqeO0a",
    "outputId": "096a05a0-a97e-43e0-f03a-59742b052564"
   },
   "outputs": [
    {
     "data": {
      "text/plain": [
       "array([<614x55 sparse matrix of type '<class 'numpy.int64'>'\n",
       "\twith 341 stored elements in COOrdinate format>,\n",
       "       <614x55 sparse matrix of type '<class 'numpy.int64'>'\n",
       "\twith 271 stored elements in COOrdinate format>,\n",
       "       <614x55 sparse matrix of type '<class 'numpy.int64'>'\n",
       "\twith 57 stored elements in COOrdinate format>,\n",
       "       ...,\n",
       "       <614x55 sparse matrix of type '<class 'numpy.int64'>'\n",
       "\twith 18 stored elements in COOrdinate format>,\n",
       "       <614x55 sparse matrix of type '<class 'numpy.int64'>'\n",
       "\twith 43 stored elements in COOrdinate format>,\n",
       "       <614x55 sparse matrix of type '<class 'numpy.int64'>'\n",
       "\twith 266 stored elements in COOrdinate format>], dtype=object)"
      ]
     },
     "execution_count": 74,
     "metadata": {
      "tags": []
     },
     "output_type": "execute_result"
    }
   ],
   "source": [
    "feat_train"
   ]
  },
  {
   "cell_type": "markdown",
   "metadata": {
    "colab_type": "text",
    "id": "yXrUMkzYSgUz"
   },
   "source": [
    "Storing all of these matrices in a dense representation at once might cause memory issues. To avoid this, we write a class which generates dense matrices for each of the training batches. \n",
    "\n",
    "We also perform the element wrapping as part of this process (since we can't perform it on the sparse arrays, I think)."
   ]
  },
  {
   "cell_type": "code",
   "execution_count": 0,
   "metadata": {
    "colab": {},
    "colab_type": "code",
    "id": "dBPBYHNJxm-D"
   },
   "outputs": [],
   "source": [
    "class SparseToDenseGenerator(keras.utils.Sequence):\n",
    "\n",
    "    def __init__(self, sparse_adjs, sparse_feats, labels, batch_size):\n",
    "        self.sparse_adjs = sparse_adjs\n",
    "        self.sparse_feats = sparse_feats\n",
    "        self.labels = labels\n",
    "        self.batch_size = batch_size\n",
    "\n",
    "    def __len__(self):\n",
    "        return int(np.ceil(len(self.labels) / float(self.batch_size)))\n",
    "\n",
    "    def __getitem__(self, batch_num):\n",
    "        start_index = batch_num * self.batch_size\n",
    "        end_index = (batch_num + 1) * self.batch_size\n",
    "        \n",
    "        batch_sparse_adjs = self.sparse_adjs[start_index:end_index]\n",
    "        batch_sparse_feats = self.sparse_feats[start_index:end_index]\n",
    "        batch_labels = self.labels[start_index:end_index]\n",
    "        \n",
    "        batch_dense_adjs = np.array([sparse_matrix.todense() for sparse_matrix in batch_sparse_adjs])\n",
    "        batch_dense_feats = np.array([sparse_matrix.todense() for sparse_matrix in batch_sparse_feats])\n",
    "        \n",
    "        # TODO: move this somewhere better\n",
    "        # Conv2D requires an extra dimension for \"channels\", so we need to convert our data from\n",
    "        # the shape (batch_size, matrix_rows, matrix_columns)\n",
    "        # to (batch_size, matrix_rows, matrix_columns, 1)\n",
    "        batch_dense_adjs = np.reshape(batch_dense_adjs, batch_dense_adjs.shape + (1, ))\n",
    "        batch_dense_feats = np.reshape(batch_dense_feats, batch_dense_feats.shape + (1, ))\n",
    "\n",
    "        return [batch_dense_adjs, batch_dense_feats], np.array(batch_labels)"
   ]
  },
  {
   "cell_type": "markdown",
   "metadata": {
    "colab_type": "text",
    "id": "nda-Xjsjk8ng"
   },
   "source": [
    "# Model"
   ]
  },
  {
   "cell_type": "code",
   "execution_count": 0,
   "metadata": {
    "colab": {},
    "colab_type": "code",
    "id": "KqlHfs2Kk8ni",
    "scrolled": true
   },
   "outputs": [],
   "source": [
    "from keras.layers import Dense, Dropout, Flatten, Reshape, Activation\n",
    "from keras.layers import Conv1D, MaxPooling1D, Conv2D, GlobalMaxPooling2D, MaxPooling2D, Convolution2D\n",
    "from keras.models import Sequential\n",
    "from keras.layers.normalization import BatchNormalization\n",
    "from keras.layers.advanced_activations import LeakyReLU\n",
    "from keras.optimizers import RMSprop, Adadelta, Adam\n",
    "from keras.utils import np_utils\n",
    "from keras import backend as K"
   ]
  },
  {
   "cell_type": "code",
   "execution_count": 0,
   "metadata": {
    "colab": {
     "base_uri": "https://localhost:8080/",
     "height": 34
    },
    "colab_type": "code",
    "id": "kmlCQ77P3itE",
    "outputId": "bca0752b-7b65-4da8-f320-a949fa511f61"
   },
   "outputs": [
    {
     "data": {
      "text/plain": [
       "(96, 5, 16128, (614, 614), (96, 614, 614), 168, (2, 2), 1)"
      ]
     },
     "execution_count": 25,
     "metadata": {
      "tags": []
     },
     "output_type": "execute_result"
    }
   ],
   "source": [
    "batch_size = 96\n",
    "epochs = 5\n",
    "num_samples = len(labels)\n",
    "num_features = feat_df.feature_matrix.iloc[0].shape[1]\n",
    "\n",
    "datapoint_shape = (matrix_size, matrix_size, )\n",
    "batch_shape = (batch_size, ) + datapoint_shape\n",
    "\n",
    "steps_per_epoch = int(np.ceil(num_samples/batch_size))\n",
    "\n",
    "kernel_size = (2, 2)\n",
    "strides = max(kernel_size[0] // 3, 1)\n",
    "\n",
    "batch_size, epochs, num_samples, datapoint_shape, batch_shape, steps_per_epoch, kernel_size, strides"
   ]
  },
  {
   "cell_type": "code",
   "execution_count": 0,
   "metadata": {
    "colab": {
     "base_uri": "https://localhost:8080/",
     "height": 1000
    },
    "colab_type": "code",
    "id": "a1aVESBAk8nu",
    "outputId": "2631871d-a742-4f42-e143-b2f34d087872"
   },
   "outputs": [
    {
     "name": "stderr",
     "output_type": "stream",
     "text": [
      "WARNING: Logging before flag parsing goes to stderr.\n",
      "W0802 06:48:16.512894 140291274282880 deprecation_wrapper.py:119] From /usr/local/lib/python3.6/dist-packages/keras/backend/tensorflow_backend.py:74: The name tf.get_default_graph is deprecated. Please use tf.compat.v1.get_default_graph instead.\n",
      "\n",
      "W0802 06:48:16.567075 140291274282880 deprecation_wrapper.py:119] From /usr/local/lib/python3.6/dist-packages/keras/backend/tensorflow_backend.py:517: The name tf.placeholder is deprecated. Please use tf.compat.v1.placeholder instead.\n",
      "\n",
      "W0802 06:48:16.577412 140291274282880 deprecation_wrapper.py:119] From /usr/local/lib/python3.6/dist-packages/keras/backend/tensorflow_backend.py:4138: The name tf.random_uniform is deprecated. Please use tf.random.uniform instead.\n",
      "\n",
      "W0802 06:48:16.628159 140291274282880 deprecation_wrapper.py:119] From /usr/local/lib/python3.6/dist-packages/keras/backend/tensorflow_backend.py:3976: The name tf.nn.max_pool is deprecated. Please use tf.nn.max_pool2d instead.\n",
      "\n",
      "W0802 06:48:16.801988 140291274282880 deprecation_wrapper.py:119] From /usr/local/lib/python3.6/dist-packages/keras/backend/tensorflow_backend.py:133: The name tf.placeholder_with_default is deprecated. Please use tf.compat.v1.placeholder_with_default instead.\n",
      "\n",
      "W0802 06:48:16.815024 140291274282880 deprecation.py:506] From /usr/local/lib/python3.6/dist-packages/keras/backend/tensorflow_backend.py:3445: calling dropout (from tensorflow.python.ops.nn_ops) with keep_prob is deprecated and will be removed in a future version.\n",
      "Instructions for updating:\n",
      "Please use `rate` instead of `keep_prob`. Rate should be set to `rate = 1 - keep_prob`.\n",
      "W0802 06:48:16.902807 140291274282880 deprecation_wrapper.py:119] From /usr/local/lib/python3.6/dist-packages/keras/optimizers.py:790: The name tf.train.Optimizer is deprecated. Please use tf.compat.v1.train.Optimizer instead.\n",
      "\n",
      "W0802 06:48:16.910745 140291274282880 deprecation_wrapper.py:119] From /usr/local/lib/python3.6/dist-packages/keras/backend/tensorflow_backend.py:3376: The name tf.log is deprecated. Please use tf.math.log instead.\n",
      "\n",
      "W0802 06:48:16.918815 140291274282880 deprecation.py:323] From /usr/local/lib/python3.6/dist-packages/tensorflow/python/ops/nn_impl.py:180: add_dispatch_support.<locals>.wrapper (from tensorflow.python.ops.array_ops) is deprecated and will be removed in a future version.\n",
      "Instructions for updating:\n",
      "Use tf.where in 2.0, which has the same broadcast rule as np.where\n"
     ]
    },
    {
     "name": "stdout",
     "output_type": "stream",
     "text": [
      "__________________________________________________________________________________________________\n",
      "Layer (type)                    Output Shape         Param #     Connected to                     \n",
      "==================================================================================================\n",
      "input_1 (InputLayer)            (None, 614, 614, 1)  0                                            \n",
      "__________________________________________________________________________________________________\n",
      "conv2d_1 (Conv2D)               (None, 613, 613, 32) 160         input_1[0][0]                    \n",
      "__________________________________________________________________________________________________\n",
      "activation_1 (Activation)       (None, 613, 613, 32) 0           conv2d_1[0][0]                   \n",
      "__________________________________________________________________________________________________\n",
      "max_pooling2d_1 (MaxPooling2D)  (None, 307, 307, 32) 0           activation_1[0][0]               \n",
      "__________________________________________________________________________________________________\n",
      "conv2d_2 (Conv2D)               (None, 306, 306, 32) 4128        max_pooling2d_1[0][0]            \n",
      "__________________________________________________________________________________________________\n",
      "activation_2 (Activation)       (None, 306, 306, 32) 0           conv2d_2[0][0]                   \n",
      "__________________________________________________________________________________________________\n",
      "max_pooling2d_2 (MaxPooling2D)  (None, 153, 153, 32) 0           activation_2[0][0]               \n",
      "__________________________________________________________________________________________________\n",
      "conv2d_3 (Conv2D)               (None, 152, 152, 32) 4128        max_pooling2d_2[0][0]            \n",
      "__________________________________________________________________________________________________\n",
      "input_2 (InputLayer)            (None, 614, 55, 1)   0                                            \n",
      "__________________________________________________________________________________________________\n",
      "activation_3 (Activation)       (None, 152, 152, 32) 0           conv2d_3[0][0]                   \n",
      "__________________________________________________________________________________________________\n",
      "flatten_2 (Flatten)             (None, 33770)        0           input_2[0][0]                    \n",
      "__________________________________________________________________________________________________\n",
      "max_pooling2d_3 (MaxPooling2D)  (None, 76, 76, 32)   0           activation_3[0][0]               \n",
      "__________________________________________________________________________________________________\n",
      "dense_4 (Dense)                 (None, 614)          20735394    flatten_2[0][0]                  \n",
      "__________________________________________________________________________________________________\n",
      "flatten_1 (Flatten)             (None, 184832)       0           max_pooling2d_3[0][0]            \n",
      "__________________________________________________________________________________________________\n",
      "dense_5 (Dense)                 (None, 307)          188805      dense_4[0][0]                    \n",
      "__________________________________________________________________________________________________\n",
      "dense_1 (Dense)                 (None, 32)           5914656     flatten_1[0][0]                  \n",
      "__________________________________________________________________________________________________\n",
      "dense_6 (Dense)                 (None, 150)          46200       dense_5[0][0]                    \n",
      "__________________________________________________________________________________________________\n",
      "dense_2 (Dense)                 (None, 32)           1056        dense_1[0][0]                    \n",
      "__________________________________________________________________________________________________\n",
      "dense_7 (Dense)                 (None, 75)           11325       dense_6[0][0]                    \n",
      "__________________________________________________________________________________________________\n",
      "dense_3 (Dense)                 (None, 32)           1056        dense_2[0][0]                    \n",
      "__________________________________________________________________________________________________\n",
      "dense_8 (Dense)                 (None, 32)           2432        dense_7[0][0]                    \n",
      "__________________________________________________________________________________________________\n",
      "concatenate_1 (Concatenate)     (None, 64)           0           dense_3[0][0]                    \n",
      "                                                                 dense_8[0][0]                    \n",
      "__________________________________________________________________________________________________\n",
      "dropout_1 (Dropout)             (None, 64)           0           concatenate_1[0][0]              \n",
      "__________________________________________________________________________________________________\n",
      "dense_9 (Dense)                 (None, 64)           4160        dropout_1[0][0]                  \n",
      "__________________________________________________________________________________________________\n",
      "dense_10 (Dense)                (None, 64)           4160        dense_9[0][0]                    \n",
      "__________________________________________________________________________________________________\n",
      "dense_11 (Dense)                (None, 64)           4160        dense_10[0][0]                   \n",
      "__________________________________________________________________________________________________\n",
      "dense_12 (Dense)                (None, 1)            65          dense_11[0][0]                   \n",
      "==================================================================================================\n",
      "Total params: 26,921,885\n",
      "Trainable params: 26,921,885\n",
      "Non-trainable params: 0\n",
      "__________________________________________________________________________________________________\n"
     ]
    }
   ],
   "source": [
    "# 1st: Convolutional Network on Adjacency Matrix\n",
    "adjacency_input = keras.layers.Input(shape=(matrix_size, matrix_size, 1))\n",
    "\n",
    "conv1 = Conv2D(\n",
    "    data_format='channels_last',\n",
    "    input_shape=(matrix_size, matrix_size, 1),\n",
    "    filters=32,\n",
    "    kernel_size=kernel_size,\n",
    "    strides=strides,\n",
    ")(adjacency_input)\n",
    "activation1 = Activation('relu')(conv1)\n",
    "pool1 = MaxPooling2D(kernel_size, padding='same')(activation1)\n",
    "\n",
    "conv2 = Conv2D(\n",
    "    data_format='channels_last',\n",
    "    input_shape=(matrix_size, matrix_size, 1),\n",
    "    filters=32,\n",
    "    kernel_size=kernel_size,\n",
    "    strides=strides,\n",
    ")(pool1)\n",
    "activation2 = Activation('relu')(conv2)\n",
    "pool2 = MaxPooling2D(kernel_size, padding='same')(activation2)\n",
    "\n",
    "conv3 = Conv2D(\n",
    "    data_format='channels_last',\n",
    "    input_shape=(matrix_size, matrix_size, 1),\n",
    "    filters=32,\n",
    "    kernel_size=kernel_size,\n",
    "    strides=strides,\n",
    ")(pool2)\n",
    "activation3 = Activation('relu')(conv3)\n",
    "pool3 = MaxPooling2D(kernel_size, padding='same')(activation3)\n",
    "\n",
    "flatten = Flatten()(pool3)\n",
    "\n",
    "dense1 = Dense(units=32, activation='relu')(flatten)\n",
    "dense2 = Dense(units=32, activation='relu')(dense1)\n",
    "dense3 = Dense(units=32, activation='relu')(dense2)\n",
    "\n",
    "conv_model = keras.models.Model(inputs=adjacency_input, outputs=dense3)\n",
    "\n",
    "# 2nd: Dense, Linear Network on Feature Matrix\n",
    "features_input = keras.layers.Input(shape=(matrix_size, num_features, 1))\n",
    "\n",
    "f_flatten = Flatten(data_format='channels_last')(features_input)\n",
    "\n",
    "f_dense1 = Dense(units=614, activation='relu')(f_flatten)\n",
    "f_dense2 = Dense(units=307, activation='relu')(f_dense1)\n",
    "f_dense3 = Dense(units=150, activation='relu')(f_dense2)\n",
    "f_dense4 = Dense(units=75, activation='relu')(f_dense3)\n",
    "f_dense5 = Dense(units=32, activation='relu')(f_dense4)\n",
    "\n",
    "dense_input = keras.models.Model(inputs = features_input, outputs= f_dense5)\n",
    "\n",
    "# Combine outputs of both networks via a set of dense, linear layers\n",
    "concat = keras.layers.concatenate(inputs=[conv_model.output ,dense_input.output])\n",
    "c_dropout = Dropout(0.2)(concat)\n",
    "c_dense1 =  Dense(units=64, activation='relu')(c_dropout)\n",
    "c_dense2 =  Dense(units=64, activation='relu')(c_dense1)\n",
    "c_dense3 =  Dense(units=64, activation='relu')(c_dense2)\n",
    "\n",
    "# Dropout and final output layer\n",
    "c_output = Dense(units=1, activation='sigmoid')(c_dense3)\n",
    "\n",
    "model = keras.models.Model(inputs=[conv_model.input, dense_input.input], outputs=c_output)\n",
    "\n",
    "model.compile(optimizer=Adam(), loss='binary_crossentropy', metrics=['accuracy'])\n",
    "\n",
    "model.summary()"
   ]
  },
  {
   "cell_type": "code",
   "execution_count": 0,
   "metadata": {
    "colab": {},
    "colab_type": "code",
    "id": "ywtD5Ys-w4bc",
    "outputId": "da699843-3791-401f-a8d0-3637d9307510"
   },
   "outputs": [
    {
     "name": "stdout",
     "output_type": "stream",
     "text": [
      "Collecting pydot\n",
      "  Downloading https://files.pythonhosted.org/packages/33/d1/b1479a770f66d962f545c2101630ce1d5592d90cb4f083d38862e93d16d2/pydot-1.4.1-py2.py3-none-any.whl\n",
      "Requirement already satisfied: pyparsing>=2.1.4 in /usr/local/lib/python3.6/dist-packages (from pydot) (2.4.0)\n",
      "Installing collected packages: pydot\n",
      "Successfully installed pydot-1.4.1\n",
      "\u001b[33mWARNING: You are using pip version 19.1.1, however version 19.2.1 is available.\n",
      "You should consider upgrading via the 'pip install --upgrade pip' command.\u001b[0m\n"
     ]
    }
   ],
   "source": [
    "!pip install pydot"
   ]
  },
  {
   "cell_type": "code",
   "execution_count": 0,
   "metadata": {
    "colab": {
     "base_uri": "https://localhost:8080/",
     "height": 232
    },
    "colab_type": "code",
    "id": "hOQ7x5S4w4be",
    "outputId": "72b0a0f7-b9cb-4e68-9933-f76afc474532"
   },
   "outputs": [
    {
     "ename": "FileNotFoundError",
     "evalue": "ignored",
     "output_type": "error",
     "traceback": [
      "\u001b[0;31m---------------------------------------------------------------------------\u001b[0m",
      "\u001b[0;31mFileNotFoundError\u001b[0m                         Traceback (most recent call last)",
      "\u001b[0;32m<ipython-input-199-5aef8459f58d>\u001b[0m in \u001b[0;36m<module>\u001b[0;34m()\u001b[0m\n\u001b[1;32m     11\u001b[0m \u001b[0mmodel_diagram\u001b[0m \u001b[0;34m=\u001b[0m \u001b[0mvisualize_model\u001b[0m\u001b[0;34m(\u001b[0m\u001b[0mmodel\u001b[0m\u001b[0;34m)\u001b[0m\u001b[0;34m\u001b[0m\u001b[0;34m\u001b[0m\u001b[0m\n\u001b[1;32m     12\u001b[0m \u001b[0;34m\u001b[0m\u001b[0m\n\u001b[0;32m---> 13\u001b[0;31m \u001b[0;32mwith\u001b[0m \u001b[0mopen\u001b[0m\u001b[0;34m(\u001b[0m\u001b[0;34m'../images/adj-feat-architecture-cnn.svg'\u001b[0m\u001b[0;34m,\u001b[0m \u001b[0;34m'wb'\u001b[0m\u001b[0;34m)\u001b[0m \u001b[0;32mas\u001b[0m \u001b[0mf\u001b[0m\u001b[0;34m:\u001b[0m\u001b[0;34m\u001b[0m\u001b[0;34m\u001b[0m\u001b[0m\n\u001b[0m\u001b[1;32m     14\u001b[0m     \u001b[0mf\u001b[0m\u001b[0;34m.\u001b[0m\u001b[0mwrite\u001b[0m\u001b[0;34m(\u001b[0m\u001b[0mmodel_diagram\u001b[0m\u001b[0;34m)\u001b[0m\u001b[0;34m\u001b[0m\u001b[0;34m\u001b[0m\u001b[0m\n\u001b[1;32m     15\u001b[0m \u001b[0;34m\u001b[0m\u001b[0m\n",
      "\u001b[0;31mFileNotFoundError\u001b[0m: [Errno 2] No such file or directory: '../images/adj-feat-architecture-cnn.svg'"
     ]
    }
   ],
   "source": [
    "import keras\n",
    "import pydot as pyd\n",
    "from IPython.display import SVG\n",
    "from keras.utils.vis_utils import model_to_dot\n",
    "\n",
    "keras.utils.vis_utils.pydot = pyd\n",
    "\n",
    "def visualize_model(model):\n",
    "  return model_to_dot(model).create(prog='dot', format='svg')\n",
    "\n",
    "model_diagram = visualize_model(model)\n",
    "\n",
    "with open('../images/adj-feat-architecture-cnn.svg', 'wb') as f:\n",
    "    f.write(model_diagram)\n",
    "\n",
    "SVG(model_diagram)"
   ]
  },
  {
   "cell_type": "code",
   "execution_count": 0,
   "metadata": {
    "colab": {
     "base_uri": "https://localhost:8080/",
     "height": 204
    },
    "colab_type": "code",
    "id": "gAErQWeyk8nz",
    "outputId": "021adbe0-9723-472b-efe3-516ea53d2289",
    "scrolled": true
   },
   "outputs": [
    {
     "name": "stdout",
     "output_type": "stream",
     "text": [
      "Epoch 1/5\n",
      "168/168 [==============================] - 2315s 14s/step - loss: 0.4749 - acc: 0.7472\n",
      "Epoch 2/5\n",
      "168/168 [==============================] - 2318s 14s/step - loss: 0.1735 - acc: 0.9285\n",
      "Epoch 3/5\n",
      "168/168 [==============================] - 2319s 14s/step - loss: 0.0922 - acc: 0.9644\n",
      "Epoch 4/5\n",
      "168/168 [==============================] - 2311s 14s/step - loss: 0.0592 - acc: 0.9783\n",
      "Epoch 5/5\n",
      "168/168 [==============================] - 2314s 14s/step - loss: 0.0542 - acc: 0.9779\n"
     ]
    },
    {
     "data": {
      "text/plain": [
       "<keras.callbacks.History at 0x7fd7b658c9b0>"
      ]
     },
     "execution_count": 26,
     "metadata": {
      "tags": []
     },
     "output_type": "execute_result"
    }
   ],
   "source": [
    "training_batch_generator = SparseToDenseGenerator(adj_train, feat_train, labels_train, batch_size)\n",
    "\n",
    "model.fit_generator(\n",
    "    generator=training_batch_generator,\n",
    "    epochs=epochs,\n",
    "    steps_per_epoch=steps_per_epoch\n",
    ")"
   ]
  },
  {
   "cell_type": "code",
   "execution_count": 0,
   "metadata": {
    "colab": {},
    "colab_type": "code",
    "id": "Wk-asGoMk8oK"
   },
   "outputs": [],
   "source": [
    "with open('../data/adjacency-feature-matrix-model-binary.pickle', 'wb') as f:\n",
    "    pickle.dump(model,f)"
   ]
  },
  {
   "cell_type": "markdown",
   "metadata": {
    "colab_type": "text",
    "id": "w3476EyA3g-V"
   },
   "source": [
    "# Evaluation"
   ]
  },
  {
   "cell_type": "code",
   "execution_count": 0,
   "metadata": {
    "colab": {},
    "colab_type": "code",
    "id": "bQcagc2HK0c3"
   },
   "outputs": [],
   "source": [
    "model = None\n",
    "\n",
    "with open('../data/adjacency-feature-matrix-model-binary.pickle', 'rb') as f:\n",
    "    model = pickle.load(f)"
   ]
  },
  {
   "cell_type": "code",
   "execution_count": 0,
   "metadata": {
    "colab": {
     "base_uri": "https://localhost:8080/",
     "height": 34
    },
    "colab_type": "code",
    "id": "nobNI0B1k8oP",
    "outputId": "2d2b5a9d-b5db-4b9e-f2d5-082a79a40307",
    "scrolled": true
   },
   "outputs": [
    {
     "data": {
      "text/plain": [
       "[0.06743317869967064, 0.9832609999793255]"
      ]
     },
     "execution_count": 28,
     "metadata": {
      "tags": []
     },
     "output_type": "execute_result"
    }
   ],
   "source": [
    "test_batch_generator = SparseToDenseGenerator(adj_test, feat_test, labels_test, batch_size)\n",
    "\n",
    "model.evaluate_generator(\n",
    "    generator=test_batch_generator,\n",
    ")"
   ]
  },
  {
   "cell_type": "code",
   "execution_count": 0,
   "metadata": {
    "colab": {},
    "colab_type": "code",
    "id": "vnHI_fjlk8ob"
   },
   "outputs": [],
   "source": [
    "import seaborn as sns\n",
    "from sklearn import metrics\n",
    "import matplotlib"
   ]
  },
  {
   "cell_type": "code",
   "execution_count": 0,
   "metadata": {
    "colab": {},
    "colab_type": "code",
    "id": "v4bFyChZOi0k"
   },
   "outputs": [],
   "source": [
    "class SparseToDensePredictGenerator(keras.utils.Sequence):\n",
    "\n",
    "    def __init__(self, sparse_adjs, sparse_feats, batch_size):\n",
    "        self.sparse_adjs = sparse_adjs\n",
    "        self.sparse_feats = sparse_feats\n",
    "        self.batch_size = batch_size\n",
    "\n",
    "    def __len__(self):\n",
    "        return int(np.ceil(len(self.sparse_feats) / float(self.batch_size)))\n",
    "\n",
    "    def __getitem__(self, batch_num):\n",
    "        start_index = batch_num * self.batch_size\n",
    "        end_index = (batch_num + 1) * self.batch_size\n",
    "        \n",
    "        batch_sparse_adjs = self.sparse_adjs[start_index:end_index]\n",
    "        batch_sparse_feats = self.sparse_feats[start_index:end_index]\n",
    "        \n",
    "        batch_dense_adjs = np.array([sparse_matrix.todense() for sparse_matrix in batch_sparse_adjs])\n",
    "        batch_dense_feats = np.array([sparse_matrix.todense() for sparse_matrix in batch_sparse_feats])\n",
    "        \n",
    "        # TODO: move this somewhere better\n",
    "        # Conv2D requires an extra dimension for \"channels\", so we need to convert our data from\n",
    "        # the shape (batch_size, matrix_rows, matrix_columns)\n",
    "        # to (batch_size, matrix_rows, matrix_columns, 1)\n",
    "        batch_dense_adjs = np.reshape(batch_dense_adjs, batch_dense_adjs.shape + (1, ))\n",
    "        batch_dense_feats = np.reshape(batch_dense_feats, batch_dense_feats.shape + (1, ))\n",
    "\n",
    "        return [batch_dense_adjs, batch_dense_feats]"
   ]
  },
  {
   "cell_type": "code",
   "execution_count": 0,
   "metadata": {
    "colab": {
     "base_uri": "https://localhost:8080/",
     "height": 681
    },
    "colab_type": "code",
    "id": "5AJ9ozp5k8og",
    "outputId": "d9b74ad2-f6ae-4848-fe31-62088e6f8a4e"
   },
   "outputs": [
    {
     "ename": "KeyboardInterrupt",
     "evalue": "ignored",
     "output_type": "error",
     "traceback": [
      "\u001b[0;31m---------------------------------------------------------------------------\u001b[0m",
      "\u001b[0;31mKeyboardInterrupt\u001b[0m                         Traceback (most recent call last)",
      "\u001b[0;32m<ipython-input-74-7638f3746bf3>\u001b[0m in \u001b[0;36m<module>\u001b[0;34m()\u001b[0m\n\u001b[1;32m      1\u001b[0m \u001b[0mpredict_batch_generator\u001b[0m \u001b[0;34m=\u001b[0m \u001b[0mSparseToDensePredictGenerator\u001b[0m\u001b[0;34m(\u001b[0m\u001b[0madj_test\u001b[0m\u001b[0;34m,\u001b[0m \u001b[0mfeat_test\u001b[0m\u001b[0;34m,\u001b[0m \u001b[0mbatch_size\u001b[0m\u001b[0;34m)\u001b[0m\u001b[0;34m\u001b[0m\u001b[0;34m\u001b[0m\u001b[0m\n\u001b[0;32m----> 2\u001b[0;31m \u001b[0my_predict\u001b[0m \u001b[0;34m=\u001b[0m \u001b[0mmodel\u001b[0m\u001b[0;34m.\u001b[0m\u001b[0mpredict_generator\u001b[0m\u001b[0;34m(\u001b[0m\u001b[0mpredict_batch_generator\u001b[0m\u001b[0;34m)\u001b[0m\u001b[0;34m\u001b[0m\u001b[0;34m\u001b[0m\u001b[0m\n\u001b[0m",
      "\u001b[0;32m/usr/local/lib/python3.6/dist-packages/keras/legacy/interfaces.py\u001b[0m in \u001b[0;36mwrapper\u001b[0;34m(*args, **kwargs)\u001b[0m\n\u001b[1;32m     89\u001b[0m                 warnings.warn('Update your `' + object_name + '` call to the ' +\n\u001b[1;32m     90\u001b[0m                               'Keras 2 API: ' + signature, stacklevel=2)\n\u001b[0;32m---> 91\u001b[0;31m             \u001b[0;32mreturn\u001b[0m \u001b[0mfunc\u001b[0m\u001b[0;34m(\u001b[0m\u001b[0;34m*\u001b[0m\u001b[0margs\u001b[0m\u001b[0;34m,\u001b[0m \u001b[0;34m**\u001b[0m\u001b[0mkwargs\u001b[0m\u001b[0;34m)\u001b[0m\u001b[0;34m\u001b[0m\u001b[0;34m\u001b[0m\u001b[0m\n\u001b[0m\u001b[1;32m     92\u001b[0m         \u001b[0mwrapper\u001b[0m\u001b[0;34m.\u001b[0m\u001b[0m_original_function\u001b[0m \u001b[0;34m=\u001b[0m \u001b[0mfunc\u001b[0m\u001b[0;34m\u001b[0m\u001b[0;34m\u001b[0m\u001b[0m\n\u001b[1;32m     93\u001b[0m         \u001b[0;32mreturn\u001b[0m \u001b[0mwrapper\u001b[0m\u001b[0;34m\u001b[0m\u001b[0;34m\u001b[0m\u001b[0m\n",
      "\u001b[0;32m/usr/local/lib/python3.6/dist-packages/keras/engine/training.py\u001b[0m in \u001b[0;36mpredict_generator\u001b[0;34m(self, generator, steps, max_queue_size, workers, use_multiprocessing, verbose)\u001b[0m\n\u001b[1;32m   1520\u001b[0m             \u001b[0mworkers\u001b[0m\u001b[0;34m=\u001b[0m\u001b[0mworkers\u001b[0m\u001b[0;34m,\u001b[0m\u001b[0;34m\u001b[0m\u001b[0;34m\u001b[0m\u001b[0m\n\u001b[1;32m   1521\u001b[0m             \u001b[0muse_multiprocessing\u001b[0m\u001b[0;34m=\u001b[0m\u001b[0muse_multiprocessing\u001b[0m\u001b[0;34m,\u001b[0m\u001b[0;34m\u001b[0m\u001b[0;34m\u001b[0m\u001b[0m\n\u001b[0;32m-> 1522\u001b[0;31m             verbose=verbose)\n\u001b[0m",
      "\u001b[0;32m/usr/local/lib/python3.6/dist-packages/keras/engine/training_generator.py\u001b[0m in \u001b[0;36mpredict_generator\u001b[0;34m(model, generator, steps, max_queue_size, workers, use_multiprocessing, verbose)\u001b[0m\n\u001b[1;32m    451\u001b[0m                 \u001b[0mx\u001b[0m \u001b[0;34m=\u001b[0m \u001b[0mgenerator_output\u001b[0m\u001b[0;34m\u001b[0m\u001b[0;34m\u001b[0m\u001b[0m\n\u001b[1;32m    452\u001b[0m \u001b[0;34m\u001b[0m\u001b[0m\n\u001b[0;32m--> 453\u001b[0;31m             \u001b[0mouts\u001b[0m \u001b[0;34m=\u001b[0m \u001b[0mmodel\u001b[0m\u001b[0;34m.\u001b[0m\u001b[0mpredict_on_batch\u001b[0m\u001b[0;34m(\u001b[0m\u001b[0mx\u001b[0m\u001b[0;34m)\u001b[0m\u001b[0;34m\u001b[0m\u001b[0;34m\u001b[0m\u001b[0m\n\u001b[0m\u001b[1;32m    454\u001b[0m             \u001b[0mouts\u001b[0m \u001b[0;34m=\u001b[0m \u001b[0mto_list\u001b[0m\u001b[0;34m(\u001b[0m\u001b[0mouts\u001b[0m\u001b[0;34m)\u001b[0m\u001b[0;34m\u001b[0m\u001b[0;34m\u001b[0m\u001b[0m\n\u001b[1;32m    455\u001b[0m \u001b[0;34m\u001b[0m\u001b[0m\n",
      "\u001b[0;32m/usr/local/lib/python3.6/dist-packages/keras/engine/training.py\u001b[0m in \u001b[0;36mpredict_on_batch\u001b[0;34m(self, x)\u001b[0m\n\u001b[1;32m   1272\u001b[0m             \u001b[0mins\u001b[0m \u001b[0;34m=\u001b[0m \u001b[0mx\u001b[0m\u001b[0;34m\u001b[0m\u001b[0;34m\u001b[0m\u001b[0m\n\u001b[1;32m   1273\u001b[0m         \u001b[0mself\u001b[0m\u001b[0;34m.\u001b[0m\u001b[0m_make_predict_function\u001b[0m\u001b[0;34m(\u001b[0m\u001b[0;34m)\u001b[0m\u001b[0;34m\u001b[0m\u001b[0;34m\u001b[0m\u001b[0m\n\u001b[0;32m-> 1274\u001b[0;31m         \u001b[0moutputs\u001b[0m \u001b[0;34m=\u001b[0m \u001b[0mself\u001b[0m\u001b[0;34m.\u001b[0m\u001b[0mpredict_function\u001b[0m\u001b[0;34m(\u001b[0m\u001b[0mins\u001b[0m\u001b[0;34m)\u001b[0m\u001b[0;34m\u001b[0m\u001b[0;34m\u001b[0m\u001b[0m\n\u001b[0m\u001b[1;32m   1275\u001b[0m         \u001b[0;32mreturn\u001b[0m \u001b[0munpack_singleton\u001b[0m\u001b[0;34m(\u001b[0m\u001b[0moutputs\u001b[0m\u001b[0;34m)\u001b[0m\u001b[0;34m\u001b[0m\u001b[0;34m\u001b[0m\u001b[0m\n\u001b[1;32m   1276\u001b[0m \u001b[0;34m\u001b[0m\u001b[0m\n",
      "\u001b[0;32m/usr/local/lib/python3.6/dist-packages/keras/backend/tensorflow_backend.py\u001b[0m in \u001b[0;36m__call__\u001b[0;34m(self, inputs)\u001b[0m\n\u001b[1;32m   2713\u001b[0m                 \u001b[0;32mreturn\u001b[0m \u001b[0mself\u001b[0m\u001b[0;34m.\u001b[0m\u001b[0m_legacy_call\u001b[0m\u001b[0;34m(\u001b[0m\u001b[0minputs\u001b[0m\u001b[0;34m)\u001b[0m\u001b[0;34m\u001b[0m\u001b[0;34m\u001b[0m\u001b[0m\n\u001b[1;32m   2714\u001b[0m \u001b[0;34m\u001b[0m\u001b[0m\n\u001b[0;32m-> 2715\u001b[0;31m             \u001b[0;32mreturn\u001b[0m \u001b[0mself\u001b[0m\u001b[0;34m.\u001b[0m\u001b[0m_call\u001b[0m\u001b[0;34m(\u001b[0m\u001b[0minputs\u001b[0m\u001b[0;34m)\u001b[0m\u001b[0;34m\u001b[0m\u001b[0;34m\u001b[0m\u001b[0m\n\u001b[0m\u001b[1;32m   2716\u001b[0m         \u001b[0;32melse\u001b[0m\u001b[0;34m:\u001b[0m\u001b[0;34m\u001b[0m\u001b[0;34m\u001b[0m\u001b[0m\n\u001b[1;32m   2717\u001b[0m             \u001b[0;32mif\u001b[0m \u001b[0mpy_any\u001b[0m\u001b[0;34m(\u001b[0m\u001b[0mis_tensor\u001b[0m\u001b[0;34m(\u001b[0m\u001b[0mx\u001b[0m\u001b[0;34m)\u001b[0m \u001b[0;32mfor\u001b[0m \u001b[0mx\u001b[0m \u001b[0;32min\u001b[0m \u001b[0minputs\u001b[0m\u001b[0;34m)\u001b[0m\u001b[0;34m:\u001b[0m\u001b[0;34m\u001b[0m\u001b[0;34m\u001b[0m\u001b[0m\n",
      "\u001b[0;32m/usr/local/lib/python3.6/dist-packages/keras/backend/tensorflow_backend.py\u001b[0m in \u001b[0;36m_call\u001b[0;34m(self, inputs)\u001b[0m\n\u001b[1;32m   2673\u001b[0m             \u001b[0mfetched\u001b[0m \u001b[0;34m=\u001b[0m \u001b[0mself\u001b[0m\u001b[0;34m.\u001b[0m\u001b[0m_callable_fn\u001b[0m\u001b[0;34m(\u001b[0m\u001b[0;34m*\u001b[0m\u001b[0marray_vals\u001b[0m\u001b[0;34m,\u001b[0m \u001b[0mrun_metadata\u001b[0m\u001b[0;34m=\u001b[0m\u001b[0mself\u001b[0m\u001b[0;34m.\u001b[0m\u001b[0mrun_metadata\u001b[0m\u001b[0;34m)\u001b[0m\u001b[0;34m\u001b[0m\u001b[0;34m\u001b[0m\u001b[0m\n\u001b[1;32m   2674\u001b[0m         \u001b[0;32melse\u001b[0m\u001b[0;34m:\u001b[0m\u001b[0;34m\u001b[0m\u001b[0;34m\u001b[0m\u001b[0m\n\u001b[0;32m-> 2675\u001b[0;31m             \u001b[0mfetched\u001b[0m \u001b[0;34m=\u001b[0m \u001b[0mself\u001b[0m\u001b[0;34m.\u001b[0m\u001b[0m_callable_fn\u001b[0m\u001b[0;34m(\u001b[0m\u001b[0;34m*\u001b[0m\u001b[0marray_vals\u001b[0m\u001b[0;34m)\u001b[0m\u001b[0;34m\u001b[0m\u001b[0;34m\u001b[0m\u001b[0m\n\u001b[0m\u001b[1;32m   2676\u001b[0m         \u001b[0;32mreturn\u001b[0m \u001b[0mfetched\u001b[0m\u001b[0;34m[\u001b[0m\u001b[0;34m:\u001b[0m\u001b[0mlen\u001b[0m\u001b[0;34m(\u001b[0m\u001b[0mself\u001b[0m\u001b[0;34m.\u001b[0m\u001b[0moutputs\u001b[0m\u001b[0;34m)\u001b[0m\u001b[0;34m]\u001b[0m\u001b[0;34m\u001b[0m\u001b[0;34m\u001b[0m\u001b[0m\n\u001b[1;32m   2677\u001b[0m \u001b[0;34m\u001b[0m\u001b[0m\n",
      "\u001b[0;32m/usr/local/lib/python3.6/dist-packages/tensorflow/python/client/session.py\u001b[0m in \u001b[0;36m__call__\u001b[0;34m(self, *args, **kwargs)\u001b[0m\n\u001b[1;32m   1456\u001b[0m         ret = tf_session.TF_SessionRunCallable(self._session._session,\n\u001b[1;32m   1457\u001b[0m                                                \u001b[0mself\u001b[0m\u001b[0;34m.\u001b[0m\u001b[0m_handle\u001b[0m\u001b[0;34m,\u001b[0m \u001b[0margs\u001b[0m\u001b[0;34m,\u001b[0m\u001b[0;34m\u001b[0m\u001b[0;34m\u001b[0m\u001b[0m\n\u001b[0;32m-> 1458\u001b[0;31m                                                run_metadata_ptr)\n\u001b[0m\u001b[1;32m   1459\u001b[0m         \u001b[0;32mif\u001b[0m \u001b[0mrun_metadata\u001b[0m\u001b[0;34m:\u001b[0m\u001b[0;34m\u001b[0m\u001b[0;34m\u001b[0m\u001b[0m\n\u001b[1;32m   1460\u001b[0m           \u001b[0mproto_data\u001b[0m \u001b[0;34m=\u001b[0m \u001b[0mtf_session\u001b[0m\u001b[0;34m.\u001b[0m\u001b[0mTF_GetBuffer\u001b[0m\u001b[0;34m(\u001b[0m\u001b[0mrun_metadata_ptr\u001b[0m\u001b[0;34m)\u001b[0m\u001b[0;34m\u001b[0m\u001b[0;34m\u001b[0m\u001b[0m\n",
      "\u001b[0;31mKeyboardInterrupt\u001b[0m: "
     ]
    },
    {
     "name": "stderr",
     "output_type": "stream",
     "text": [
      "E0801 20:29:29.769616 140340319106944 zmqstream.py:435] Uncaught exception in ZMQStream callback\n",
      "Traceback (most recent call last):\n",
      "  File \"/usr/local/lib/python3.6/dist-packages/zmq/eventloop/zmqstream.py\", line 432, in _run_callback\n",
      "    callback(*args, **kwargs)\n",
      "  File \"/usr/local/lib/python3.6/dist-packages/tornado/stack_context.py\", line 277, in null_wrapper\n",
      "    return fn(*args, **kwargs)\n",
      "  File \"/usr/local/lib/python3.6/dist-packages/ipykernel/kernelbase.py\", line 283, in dispatcher\n",
      "    return self.dispatch_shell(stream, msg)\n",
      "  File \"/usr/local/lib/python3.6/dist-packages/ipykernel/kernelbase.py\", line 235, in dispatch_shell\n",
      "    handler(stream, idents, msg)\n",
      "  File \"/usr/local/lib/python3.6/dist-packages/ipykernel/kernelbase.py\", line 421, in execute_request\n",
      "    self._abort_queues()\n",
      "  File \"/usr/local/lib/python3.6/dist-packages/ipykernel/kernelbase.py\", line 637, in _abort_queues\n",
      "    self._abort_queue(stream)\n",
      "  File \"/usr/local/lib/python3.6/dist-packages/ipykernel/kernelbase.py\", line 662, in _abort_queue\n",
      "    poller.poll(50)\n",
      "  File \"/usr/local/lib/python3.6/dist-packages/zmq/sugar/poll.py\", line 99, in poll\n",
      "    return zmq_poll(self.sockets, timeout=timeout)\n",
      "  File \"zmq/backend/cython/_poll.pyx\", line 123, in zmq.backend.cython._poll.zmq_poll\n",
      "  File \"zmq/backend/cython/checkrc.pxd\", line 12, in zmq.backend.cython.checkrc._check_rc\n",
      "KeyboardInterrupt\n"
     ]
    }
   ],
   "source": [
    "predict_batch_generator = SparseToDensePredictGenerator(adj_test, feat_test, batch_size)\n",
    "y_predict = model.predict_generator(predict_batch_generator)"
   ]
  },
  {
   "cell_type": "code",
   "execution_count": 0,
   "metadata": {
    "colab": {
     "base_uri": "https://localhost:8080/",
     "height": 232
    },
    "colab_type": "code",
    "id": "xrvhYYmFk8oo",
    "outputId": "450fe488-bdaa-4f43-d55c-fed25ff6b5c8"
   },
   "outputs": [
    {
     "ename": "NameError",
     "evalue": "ignored",
     "output_type": "error",
     "traceback": [
      "\u001b[0;31m---------------------------------------------------------------------------\u001b[0m",
      "\u001b[0;31mNameError\u001b[0m                                 Traceback (most recent call last)",
      "\u001b[0;32m<ipython-input-1-81a1e4ebaa32>\u001b[0m in \u001b[0;36m<module>\u001b[0;34m()\u001b[0m\n\u001b[0;32m----> 1\u001b[0;31m confusion_matrix = pd.DataFrame(\n\u001b[0m\u001b[1;32m      2\u001b[0m     \u001b[0mdata\u001b[0m\u001b[0;34m=\u001b[0m\u001b[0mmetrics\u001b[0m\u001b[0;34m.\u001b[0m\u001b[0mconfusion_matrix\u001b[0m\u001b[0;34m(\u001b[0m\u001b[0mlabels_test\u001b[0m\u001b[0;34m,\u001b[0m \u001b[0mnp\u001b[0m\u001b[0;34m.\u001b[0m\u001b[0mrint\u001b[0m\u001b[0;34m(\u001b[0m\u001b[0my_predict\u001b[0m\u001b[0;34m)\u001b[0m\u001b[0;34m)\u001b[0m\u001b[0;34m,\u001b[0m\u001b[0;34m\u001b[0m\u001b[0;34m\u001b[0m\u001b[0m\n\u001b[1;32m      3\u001b[0m )\n\u001b[1;32m      4\u001b[0m \u001b[0;34m\u001b[0m\u001b[0m\n\u001b[1;32m      5\u001b[0m \u001b[0mconfusion_figure\u001b[0m\u001b[0;34m,\u001b[0m \u001b[0mconfusion_axes\u001b[0m \u001b[0;34m=\u001b[0m \u001b[0mmatplotlib\u001b[0m\u001b[0;34m.\u001b[0m\u001b[0mpyplot\u001b[0m\u001b[0;34m.\u001b[0m\u001b[0msubplots\u001b[0m\u001b[0;34m(\u001b[0m\u001b[0;34m)\u001b[0m\u001b[0;34m\u001b[0m\u001b[0;34m\u001b[0m\u001b[0m\n",
      "\u001b[0;31mNameError\u001b[0m: name 'pd' is not defined"
     ]
    }
   ],
   "source": [
    "confusion_matrix = pd.DataFrame(\n",
    "    data=metrics.confusion_matrix(labels_test, np.rint(y_predict)),\n",
    ")\n",
    "\n",
    "confusion_figure, confusion_axes = matplotlib.pyplot.subplots()\n",
    "confusion_figure.set_size_inches(15, 12)\n",
    "confusion_axes.set_title(\n",
    "    'Confusion matrix showing the frequency of \\n'\n",
    "    'correct and incorrect bug classification predictions.'\n",
    "    '\\n\\n'  # hack to avoid overlap with x-axis labels below\n",
    ")\n",
    "confusion_axes.xaxis.tick_top()  # move x-axis labels to top of matrix\n",
    "_ = sns.heatmap(\n",
    "    confusion_matrix,\n",
    "    annot=True,\n",
    "    fmt=\"d\",\n",
    "    cmap=sns.color_palette(\"Blues\"),\n",
    "    vmin=0,\n",
    "    ax=confusion_axes,\n",
    ")"
   ]
  },
  {
   "cell_type": "code",
   "execution_count": 0,
   "metadata": {
    "colab": {
     "base_uri": "https://localhost:8080/",
     "height": 34
    },
    "colab_type": "code",
    "id": "yatQ4RKhP2H0",
    "outputId": "f0e6871d-75c3-4119-f04f-86d414320177"
   },
   "outputs": [
    {
     "data": {
      "text/plain": [
       "(4, 4)"
      ]
     },
     "execution_count": 34,
     "metadata": {
      "tags": []
     },
     "output_type": "execute_result"
    }
   ],
   "source": [
    "np.argmax(labels_test.astype(int)), np.argmax(np.rint(y_predict)),"
   ]
  },
  {
   "cell_type": "code",
   "execution_count": 0,
   "metadata": {
    "colab": {
     "base_uri": "https://localhost:8080/",
     "height": 215
    },
    "colab_type": "code",
    "id": "SFlZwTBIk8o8",
    "outputId": "ab7446eb-9184-43cb-baf8-481a86892394"
   },
   "outputs": [
    {
     "ename": "NameError",
     "evalue": "ignored",
     "output_type": "error",
     "traceback": [
      "\u001b[0;31m---------------------------------------------------------------------------\u001b[0m",
      "\u001b[0;31mNameError\u001b[0m                                 Traceback (most recent call last)",
      "\u001b[0;32m<ipython-input-33-a55a0db8fc97>\u001b[0m in \u001b[0;36m<module>\u001b[0;34m()\u001b[0m\n\u001b[1;32m      2\u001b[0m fpr_keras, tpr_keras, thresholds_keras = roc_curve(\n\u001b[1;32m      3\u001b[0m     \u001b[0mlabels_test\u001b[0m\u001b[0;34m.\u001b[0m\u001b[0mastype\u001b[0m\u001b[0;34m(\u001b[0m\u001b[0mint\u001b[0m\u001b[0;34m)\u001b[0m\u001b[0;34m,\u001b[0m\u001b[0;34m\u001b[0m\u001b[0;34m\u001b[0m\u001b[0m\n\u001b[0;32m----> 4\u001b[0;31m     \u001b[0mnp\u001b[0m\u001b[0;34m.\u001b[0m\u001b[0mrint\u001b[0m\u001b[0;34m(\u001b[0m\u001b[0my_predict\u001b[0m\u001b[0;34m)\u001b[0m\u001b[0;34m,\u001b[0m\u001b[0;34m\u001b[0m\u001b[0;34m\u001b[0m\u001b[0m\n\u001b[0m\u001b[1;32m      5\u001b[0m )\n",
      "\u001b[0;31mNameError\u001b[0m: name 'y_predict' is not defined"
     ]
    }
   ],
   "source": [
    "from sklearn.metrics import roc_curve\n",
    "fpr_keras, tpr_keras, thresholds_keras = roc_curve(\n",
    "    labels_test.astype(int),\n",
    "    np.rint(y_predict),\n",
    ")"
   ]
  },
  {
   "cell_type": "code",
   "execution_count": 0,
   "metadata": {
    "colab": {
     "base_uri": "https://localhost:8080/",
     "height": 198
    },
    "colab_type": "code",
    "id": "a8_7LWSmk8pI",
    "outputId": "2b33df70-98b7-4d71-ebb1-05f50ca368f0"
   },
   "outputs": [
    {
     "ename": "NameError",
     "evalue": "ignored",
     "output_type": "error",
     "traceback": [
      "\u001b[0;31m---------------------------------------------------------------------------\u001b[0m",
      "\u001b[0;31mNameError\u001b[0m                                 Traceback (most recent call last)",
      "\u001b[0;32m<ipython-input-34-ac2b04470f69>\u001b[0m in \u001b[0;36m<module>\u001b[0;34m()\u001b[0m\n\u001b[1;32m      1\u001b[0m \u001b[0;32mfrom\u001b[0m \u001b[0msklearn\u001b[0m\u001b[0;34m.\u001b[0m\u001b[0mmetrics\u001b[0m \u001b[0;32mimport\u001b[0m \u001b[0mauc\u001b[0m\u001b[0;34m\u001b[0m\u001b[0;34m\u001b[0m\u001b[0m\n\u001b[1;32m      2\u001b[0m \u001b[0;32mimport\u001b[0m \u001b[0mmatplotlib\u001b[0m\u001b[0;34m.\u001b[0m\u001b[0mpyplot\u001b[0m \u001b[0;32mas\u001b[0m \u001b[0mplt\u001b[0m\u001b[0;34m\u001b[0m\u001b[0;34m\u001b[0m\u001b[0m\n\u001b[0;32m----> 3\u001b[0;31m \u001b[0mauc_keras\u001b[0m \u001b[0;34m=\u001b[0m \u001b[0mauc\u001b[0m\u001b[0;34m(\u001b[0m\u001b[0mfpr_keras\u001b[0m\u001b[0;34m,\u001b[0m \u001b[0mtpr_keras\u001b[0m\u001b[0;34m)\u001b[0m\u001b[0;34m\u001b[0m\u001b[0;34m\u001b[0m\u001b[0m\n\u001b[0m",
      "\u001b[0;31mNameError\u001b[0m: name 'fpr_keras' is not defined"
     ]
    }
   ],
   "source": [
    "from sklearn.metrics import auc\n",
    "import matplotlib.pyplot as plt\n",
    "auc_keras = auc(fpr_keras, tpr_keras)"
   ]
  },
  {
   "cell_type": "code",
   "execution_count": 0,
   "metadata": {
    "colab": {
     "base_uri": "https://localhost:8080/",
     "height": 232
    },
    "colab_type": "code",
    "id": "mM9vPPIGk8pO",
    "outputId": "ee100ae9-2c6d-4485-9a03-3c25bd46dfb2"
   },
   "outputs": [
    {
     "ename": "NameError",
     "evalue": "ignored",
     "output_type": "error",
     "traceback": [
      "\u001b[0;31m---------------------------------------------------------------------------\u001b[0m",
      "\u001b[0;31mNameError\u001b[0m                                 Traceback (most recent call last)",
      "\u001b[0;32m<ipython-input-35-a11d617ef7f1>\u001b[0m in \u001b[0;36m<module>\u001b[0;34m()\u001b[0m\n\u001b[0;32m----> 1\u001b[0;31m \u001b[0mplt\u001b[0m\u001b[0;34m.\u001b[0m\u001b[0mplot\u001b[0m\u001b[0;34m(\u001b[0m\u001b[0mfpr_keras\u001b[0m\u001b[0;34m,\u001b[0m \u001b[0mtpr_keras\u001b[0m\u001b[0;34m,\u001b[0m \u001b[0mlabel\u001b[0m\u001b[0;34m=\u001b[0m\u001b[0;34m'Keras (area = {:.3f})'\u001b[0m\u001b[0;34m.\u001b[0m\u001b[0mformat\u001b[0m\u001b[0;34m(\u001b[0m\u001b[0mauc_keras\u001b[0m\u001b[0;34m)\u001b[0m\u001b[0;34m)\u001b[0m\u001b[0;34m\u001b[0m\u001b[0;34m\u001b[0m\u001b[0m\n\u001b[0m\u001b[1;32m      2\u001b[0m \u001b[0mplt\u001b[0m\u001b[0;34m.\u001b[0m\u001b[0mxlabel\u001b[0m\u001b[0;34m(\u001b[0m\u001b[0;34m'False positive rate'\u001b[0m\u001b[0;34m)\u001b[0m\u001b[0;34m\u001b[0m\u001b[0;34m\u001b[0m\u001b[0m\n\u001b[1;32m      3\u001b[0m \u001b[0mplt\u001b[0m\u001b[0;34m.\u001b[0m\u001b[0mylabel\u001b[0m\u001b[0;34m(\u001b[0m\u001b[0;34m'True positive rate'\u001b[0m\u001b[0;34m)\u001b[0m\u001b[0;34m\u001b[0m\u001b[0;34m\u001b[0m\u001b[0m\n\u001b[1;32m      4\u001b[0m \u001b[0mplt\u001b[0m\u001b[0;34m.\u001b[0m\u001b[0mtitle\u001b[0m\u001b[0;34m(\u001b[0m\u001b[0;34m'ROC curve'\u001b[0m\u001b[0;34m)\u001b[0m\u001b[0;34m\u001b[0m\u001b[0;34m\u001b[0m\u001b[0m\n\u001b[1;32m      5\u001b[0m \u001b[0mplt\u001b[0m\u001b[0;34m.\u001b[0m\u001b[0mlegend\u001b[0m\u001b[0;34m(\u001b[0m\u001b[0mloc\u001b[0m\u001b[0;34m=\u001b[0m\u001b[0;34m'best'\u001b[0m\u001b[0;34m)\u001b[0m\u001b[0;34m\u001b[0m\u001b[0;34m\u001b[0m\u001b[0m\n",
      "\u001b[0;31mNameError\u001b[0m: name 'fpr_keras' is not defined"
     ]
    }
   ],
   "source": [
    "plt.plot(fpr_keras, tpr_keras, label='Keras (area = {:.3f})'.format(auc_keras))\n",
    "plt.xlabel('False positive rate')\n",
    "plt.ylabel('True positive rate')\n",
    "plt.title('ROC curve')\n",
    "plt.legend(loc='best')\n",
    "plt.show()"
   ]
  },
  {
   "cell_type": "code",
   "execution_count": 0,
   "metadata": {
    "colab": {
     "base_uri": "https://localhost:8080/",
     "height": 232
    },
    "colab_type": "code",
    "id": "WIxU3yLeZqk3",
    "outputId": "790cbb2b-43fe-4d0c-8316-72ac62b6edb3"
   },
   "outputs": [
    {
     "ename": "NameError",
     "evalue": "ignored",
     "output_type": "error",
     "traceback": [
      "\u001b[0;31m---------------------------------------------------------------------------\u001b[0m",
      "\u001b[0;31mNameError\u001b[0m                                 Traceback (most recent call last)",
      "\u001b[0;32m<ipython-input-36-ef141075e151>\u001b[0m in \u001b[0;36m<module>\u001b[0;34m()\u001b[0m\n\u001b[1;32m      1\u001b[0m tn, fp, fn, tp = metrics.confusion_matrix(\n\u001b[1;32m      2\u001b[0m     \u001b[0mlabels_test\u001b[0m\u001b[0;34m.\u001b[0m\u001b[0mastype\u001b[0m\u001b[0;34m(\u001b[0m\u001b[0mint\u001b[0m\u001b[0;34m)\u001b[0m\u001b[0;34m,\u001b[0m\u001b[0;34m\u001b[0m\u001b[0;34m\u001b[0m\u001b[0m\n\u001b[0;32m----> 3\u001b[0;31m     \u001b[0mnp\u001b[0m\u001b[0;34m.\u001b[0m\u001b[0mrint\u001b[0m\u001b[0;34m(\u001b[0m\u001b[0my_predict\u001b[0m\u001b[0;34m)\u001b[0m\u001b[0;34m\u001b[0m\u001b[0;34m\u001b[0m\u001b[0m\n\u001b[0m\u001b[1;32m      4\u001b[0m ).flatten().tolist()\n\u001b[1;32m      5\u001b[0m \u001b[0;34m\u001b[0m\u001b[0m\n",
      "\u001b[0;31mNameError\u001b[0m: name 'y_predict' is not defined"
     ]
    }
   ],
   "source": [
    "tn, fp, fn, tp = metrics.confusion_matrix(\n",
    "    labels_test.astype(int), \n",
    "    np.rint(y_predict)\n",
    ").flatten().tolist()\n",
    "\n",
    "fpr_nn = fp/(fp+tp)\n",
    "fnr_nn = fn/(fn+tn)"
   ]
  },
  {
   "cell_type": "code",
   "execution_count": 0,
   "metadata": {
    "colab": {
     "base_uri": "https://localhost:8080/",
     "height": 34
    },
    "colab_type": "code",
    "id": "Irias0wiQ5uS",
    "outputId": "2b67445e-fc24-4a89-b9f5-1ca4e83e3ef3"
   },
   "outputs": [
    {
     "data": {
      "text/plain": [
       "(0.0182370820668693, 0.015180265654648957)"
      ]
     },
     "execution_count": 39,
     "metadata": {
      "tags": []
     },
     "output_type": "execute_result"
    }
   ],
   "source": [
    "fpr_nn, fnr_nn"
   ]
  },
  {
   "cell_type": "markdown",
   "metadata": {
    "colab_type": "text",
    "id": "3HaOZ3Rew4b5"
   },
   "source": [
    "## Random Padding (translational invariance)"
   ]
  },
  {
   "cell_type": "code",
   "execution_count": 0,
   "metadata": {
    "colab": {},
    "colab_type": "code",
    "id": "la6thNnPw4b7"
   },
   "outputs": [],
   "source": [
    "import random\n",
    "\n",
    "def random_padder(testcase, matrix_kind, target_rows, target_columns):\n",
    "    '''\n",
    "    Randomly pads matrix with zeros to the desired size\n",
    "    '''\n",
    "    \n",
    "#     import pdb; pdb.set_trace()\n",
    "    \n",
    "    rand = testcase.random_pad_amount\n",
    "    \n",
    "    if matrix_kind == 'adj':\n",
    "    \n",
    "      matrix = testcase.adjacency_matrix\n",
    "      \n",
    "      rows, columns = matrix.shape[0], matrix.shape[1]\n",
    "    \n",
    "      tl_row_corrector = csr_matrix((rand-rows, rows))\n",
    "      tl_col_corrector = csr_matrix((rand, rand-columns))\n",
    "    \n",
    "      tl_matrix = vstack([tl_row_corrector, matrix])\n",
    "      tl_matrix = hstack([tl_col_corrector, tl_matrix])\n",
    "    \n",
    "      rows, columns = tl_matrix.shape[0], tl_matrix.shape[1]\n",
    "    \n",
    "      br_row_corrector = csr_matrix((target_rows-rows, rows))\n",
    "      br_col_corrector = csr_matrix((target_columns, target_columns-columns))\n",
    "\n",
    "      br_matrix = vstack([tl_matrix, br_row_corrector])\n",
    "      br_matrix = hstack([br_matrix, br_col_corrector])   \n",
    "    \n",
    "    elif matrix_kind == 'feat':\n",
    "      \n",
    "      matrix = testcase.feature_matrix\n",
    "      \n",
    "      rows, columns = matrix.shape[0], matrix.shape[1]\n",
    "    \n",
    "      tl_row_corrector = csr_matrix((rand-rows, columns))\n",
    "    \n",
    "      tl_matrix = vstack([tl_row_corrector, matrix])\n",
    "    \n",
    "      rows, columns = tl_matrix.shape[0], tl_matrix.shape[1]\n",
    "    \n",
    "      br_row_corrector = csr_matrix((target_rows-rows, columns))\n",
    "\n",
    "      br_matrix = vstack([tl_matrix, br_row_corrector])\n",
    "\n",
    "    br_matrix = br_matrix.astype(np.int)\n",
    "    \n",
    "    return br_matrix"
   ]
  },
  {
   "cell_type": "code",
   "execution_count": 0,
   "metadata": {
    "colab": {},
    "colab_type": "code",
    "id": "C_dc9Xqiw4b8"
   },
   "outputs": [],
   "source": [
    "rand_adj_df = orig_df.copy()"
   ]
  },
  {
   "cell_type": "code",
   "execution_count": 0,
   "metadata": {
    "colab": {},
    "colab_type": "code",
    "id": "lmf2t3TNw4b_"
   },
   "outputs": [],
   "source": [
    "rand_adj_df['padded_adj_matrix'] = rand_adj_df.apply(lambda m: random_padder(m, 'adj', matrix_size, matrix_size), axis = 1)"
   ]
  },
  {
   "cell_type": "code",
   "execution_count": 0,
   "metadata": {
    "colab": {},
    "colab_type": "code",
    "id": "TAj33TyCR1C6"
   },
   "outputs": [],
   "source": [
    "rand_feat_df = orig_df.copy()"
   ]
  },
  {
   "cell_type": "code",
   "execution_count": 0,
   "metadata": {
    "colab": {},
    "colab_type": "code",
    "id": "xRMrmQRjycNZ"
   },
   "outputs": [],
   "source": [
    "rand_feat_df['padded_feat_matrix'] = rand_feat_df.apply(lambda m: random_padder(m, 'feat', matrix_size, num_features), axis = 1)"
   ]
  },
  {
   "cell_type": "code",
   "execution_count": 0,
   "metadata": {
    "colab": {},
    "colab_type": "code",
    "id": "qa0w9K9Kw4cB"
   },
   "outputs": [],
   "source": [
    "testcase_ids_rand = orig_df['testcase_ID'].values\n",
    "adjacency_matrices_rand = rand_adj_df['padded_adj_matrix'].values\n",
    "feature_matrices_rand = rand_feat_df['padded_feat_matrix'].values\n",
    "labels_rand = orig_df['bug'].values"
   ]
  },
  {
   "cell_type": "code",
   "execution_count": 0,
   "metadata": {
    "colab": {},
    "colab_type": "code",
    "id": "KWOk17-qw4cD"
   },
   "outputs": [],
   "source": [
    "adj_train_rand, adj_test_rand, feat_train_rand, feat_test_rand, labels_train_rand, labels_test_rand = train_test_split(adjacency_matrices_rand, feature_matrices_rand, labels_rand, test_size=0.2, random_state=0)"
   ]
  },
  {
   "cell_type": "code",
   "execution_count": 0,
   "metadata": {
    "colab": {
     "base_uri": "https://localhost:8080/",
     "height": 34
    },
    "colab_type": "code",
    "id": "kT9FL2m8w4cF",
    "outputId": "35aed1fc-1012-47f0-8287-ef04e49524d1"
   },
   "outputs": [
    {
     "data": {
      "text/plain": [
       "[6.437767298119598, 0.5092994463938921]"
      ]
     },
     "execution_count": 222,
     "metadata": {
      "tags": []
     },
     "output_type": "execute_result"
    }
   ],
   "source": [
    "test_batch_generator_rand = SparseToDenseGenerator(adj_test_rand, feat_test_rand, labels_test_rand, batch_size)\n",
    "\n",
    "model.evaluate_generator(\n",
    "    generator=test_batch_generator_rand,\n",
    ")"
   ]
  },
  {
   "cell_type": "markdown",
   "metadata": {
    "colab_type": "text",
    "id": "2F2PPcsATMSb"
   },
   "source": [
    "51% accuracy when testing on the randomly padded when model was trained on normal padded"
   ]
  },
  {
   "cell_type": "code",
   "execution_count": 0,
   "metadata": {
    "colab": {},
    "colab_type": "code",
    "id": "sav6yM7Bw4cG"
   },
   "outputs": [],
   "source": [
    "predict_batch_generator_rand = SparseToDensePredictGenerator(adj_test_rand, feat_test_rand, batch_size)\n",
    "y_predict_rand = model.predict_generator(predict_batch_generator_rand)"
   ]
  },
  {
   "cell_type": "code",
   "execution_count": 0,
   "metadata": {
    "colab": {
     "base_uri": "https://localhost:8080/",
     "height": 278
    },
    "colab_type": "code",
    "id": "wFVVmc9lw4cJ",
    "outputId": "0a44bd97-df3e-40e6-cce2-1d4469f3e879"
   },
   "outputs": [
    {
     "data": {
      "image/png": "[encoded data removed]",
      "text/plain": [
       "<Figure size 360x216 with 2 Axes>"
      ]
     },
     "metadata": {
      "tags": []
     },
     "output_type": "display_data"
    }
   ],
   "source": [
    "confusion_matrix = pd.DataFrame(\n",
    "    data=metrics.confusion_matrix(labels_test, np.rint(y_predict_rand)),\n",
    ")\n",
    "\n",
    "confusion_figure, confusion_axes = matplotlib.pyplot.subplots()\n",
    "confusion_figure.set_size_inches(5, 3)\n",
    "confusion_axes.set_title(\n",
    "    'Confusion matrix showing the frequency of \\n'\n",
    "    'correct and incorrect bug classification predictions.'\n",
    "    '\\n\\n'  # hack to avoid overlap with x-axis labels below\n",
    ")\n",
    "confusion_axes.xaxis.tick_top()  # move x-axis labels to top of matrix\n",
    "_ = sns.heatmap(\n",
    "    confusion_matrix,\n",
    "    annot=True,\n",
    "    fmt=\"d\",\n",
    "    cmap=sns.color_palette(\"Blues\"),\n",
    "    vmin=0,\n",
    "    ax=confusion_axes,\n",
    ")"
   ]
  },
  {
   "cell_type": "code",
   "execution_count": 0,
   "metadata": {
    "colab": {},
    "colab_type": "code",
    "id": "LNVjd6hyw4cK"
   },
   "outputs": [],
   "source": [
    "from sklearn.metrics import roc_curve\n",
    "fpr_keras, tpr_keras, thresholds_keras = roc_curve(\n",
    "    labels_test_rand.astype(int),\n",
    "    np.rint(y_predict_rand),\n",
    ")"
   ]
  },
  {
   "cell_type": "code",
   "execution_count": 0,
   "metadata": {
    "colab": {},
    "colab_type": "code",
    "id": "xP7ePw3_w4cM"
   },
   "outputs": [],
   "source": [
    "from sklearn.metrics import auc\n",
    "import matplotlib.pyplot as plt\n",
    "auc_keras = auc(fpr_keras, tpr_keras)"
   ]
  },
  {
   "cell_type": "code",
   "execution_count": 0,
   "metadata": {
    "colab": {
     "base_uri": "https://localhost:8080/",
     "height": 295
    },
    "colab_type": "code",
    "id": "dWKQnpOfw4cP",
    "outputId": "dc2e3fb9-b7f6-45c1-f96d-ebac557bdc56"
   },
   "outputs": [
    {
     "data": {
      "image/png": "[encoded data removed]",
      "text/plain": [
       "<Figure size 432x288 with 1 Axes>"
      ]
     },
     "metadata": {
      "tags": []
     },
     "output_type": "display_data"
    }
   ],
   "source": [
    "plt.plot(fpr_keras, tpr_keras, label='Keras (area = {:.3f})'.format(auc_keras))\n",
    "plt.xlabel('False positive rate')\n",
    "plt.ylabel('True positive rate')\n",
    "plt.title('ROC curve')\n",
    "plt.legend(loc='best')\n",
    "plt.show()"
   ]
  },
  {
   "cell_type": "markdown",
   "metadata": {
    "colab_type": "text",
    "id": "vQeGoVlkT2xG"
   },
   "source": [
    "Disgusting ROC curve"
   ]
  },
  {
   "cell_type": "code",
   "execution_count": 0,
   "metadata": {
    "colab": {},
    "colab_type": "code",
    "id": "O6vl2-nDhCUW"
   },
   "outputs": [],
   "source": [
    "tn, fp, fn, tp = metrics.confusion_matrix(\n",
    "    labels_test.astype(int), \n",
    "    np.rint(y_predict_rand)\n",
    ").flatten().tolist()\n",
    "\n",
    "fpr_nn = fp/(fp+tp)\n",
    "fnr_nn = fn/(fn+tn)"
   ]
  },
  {
   "cell_type": "code",
   "execution_count": 0,
   "metadata": {
    "colab": {
     "base_uri": "https://localhost:8080/",
     "height": 34
    },
    "colab_type": "code",
    "id": "c5V82XzAw4cR",
    "outputId": "2bca0aea-4861-4480-b0b3-f621c3fd46a7"
   },
   "outputs": [
    {
     "data": {
      "text/plain": [
       "(0.5027777777777778, 0.5115143056524774)"
      ]
     },
     "execution_count": 231,
     "metadata": {
      "tags": []
     },
     "output_type": "execute_result"
    }
   ],
   "source": [
    "fpr_nn, fnr_nn"
   ]
  },
  {
   "cell_type": "markdown",
   "metadata": {
    "colab_type": "text",
    "id": "NxR6EIAET6f9"
   },
   "source": [
    "Now we will use random padding for both training and testing the model"
   ]
  },
  {
   "cell_type": "code",
   "execution_count": 0,
   "metadata": {
    "colab": {
     "base_uri": "https://localhost:8080/",
     "height": 204
    },
    "colab_type": "code",
    "id": "JbteNLe6UIQw",
    "outputId": "b844eaf7-9bd2-4aa2-9c70-c0bcd3b16180"
   },
   "outputs": [
    {
     "name": "stdout",
     "output_type": "stream",
     "text": [
      "Epoch 1/5\n",
      "168/168 [==============================] - 2370s 14s/step - loss: 0.6393 - acc: 0.6051\n",
      "Epoch 2/5\n",
      "168/168 [==============================] - 2406s 14s/step - loss: 0.4986 - acc: 0.7237\n",
      "Epoch 3/5\n",
      "168/168 [==============================] - 2406s 14s/step - loss: 0.3004 - acc: 0.8537\n",
      "Epoch 4/5\n",
      "168/168 [==============================] - 2540s 15s/step - loss: 0.0799 - acc: 0.9722\n",
      "Epoch 5/5\n",
      "168/168 [==============================] - 2491s 15s/step - loss: 0.0467 - acc: 0.9825\n"
     ]
    },
    {
     "data": {
      "text/plain": [
       "<keras.callbacks.History at 0x7f97d401e710>"
      ]
     },
     "execution_count": 35,
     "metadata": {
      "tags": []
     },
     "output_type": "execute_result"
    }
   ],
   "source": [
    "training_batch_generator = SparseToDenseGenerator(adj_train_rand, feat_train_rand, labels_train_rand, batch_size)\n",
    "\n",
    "model.fit_generator(\n",
    "    generator=training_batch_generator,\n",
    "    epochs=epochs,\n",
    "    steps_per_epoch=steps_per_epoch\n",
    ")"
   ]
  },
  {
   "cell_type": "code",
   "execution_count": 0,
   "metadata": {
    "colab": {},
    "colab_type": "code",
    "id": "soY4jMSTV97-"
   },
   "outputs": [],
   "source": [
    "with open('../data/adjacency-feature-matrix-random-padding-model-binary.pickle', 'wb') as f:\n",
    "    pickle.dump(model,f)"
   ]
  },
  {
   "cell_type": "code",
   "execution_count": 0,
   "metadata": {
    "colab": {},
    "colab_type": "code",
    "id": "RH3_ki-uTV0G"
   },
   "outputs": [],
   "source": [
    "model = None\n",
    "\n",
    "with open('../data/adjacency-feature-matrix-random-padding-model-binary.pickle', 'rb') as f:\n",
    "    model = pickle.load(f)"
   ]
  },
  {
   "cell_type": "code",
   "execution_count": 0,
   "metadata": {
    "colab": {
     "base_uri": "https://localhost:8080/",
     "height": 34
    },
    "colab_type": "code",
    "id": "S5Cs1qaMS_Gv",
    "outputId": "7a962bca-c3d8-40ac-96ed-6c2e1f8c7b94"
   },
   "outputs": [
    {
     "data": {
      "text/plain": [
       "[0.5054043525135894, 0.8877867344589021]"
      ]
     },
     "execution_count": 38,
     "metadata": {
      "tags": []
     },
     "output_type": "execute_result"
    }
   ],
   "source": [
    "test_batch_generator_rand = SparseToDenseGenerator(adj_test_rand, feat_test_rand, labels_test_rand, batch_size)\n",
    "\n",
    "model.evaluate_generator(\n",
    "    generator=test_batch_generator_rand,\n",
    ")"
   ]
  },
  {
   "cell_type": "code",
   "execution_count": 0,
   "metadata": {
    "colab": {},
    "colab_type": "code",
    "id": "kr5blNJtTcu-"
   },
   "outputs": [],
   "source": [
    "predict_batch_generator_rand = SparseToDensePredictGenerator(adj_test_rand, feat_test_rand, batch_size)\n",
    "y_predict_rand = model.predict_generator(predict_batch_generator_rand)"
   ]
  },
  {
   "cell_type": "code",
   "execution_count": 0,
   "metadata": {
    "colab": {
     "base_uri": "https://localhost:8080/",
     "height": 232
    },
    "colab_type": "code",
    "id": "WJytHs7D1dJm",
    "outputId": "4fd507c4-5cc0-44db-d453-96b5657bb11a"
   },
   "outputs": [
    {
     "ename": "NameError",
     "evalue": "ignored",
     "output_type": "error",
     "traceback": [
      "\u001b[0;31m---------------------------------------------------------------------------\u001b[0m",
      "\u001b[0;31mNameError\u001b[0m                                 Traceback (most recent call last)",
      "\u001b[0;32m<ipython-input-43-16c4a0c7e625>\u001b[0m in \u001b[0;36m<module>\u001b[0;34m()\u001b[0m\n\u001b[1;32m      1\u001b[0m confusion_matrix = pd.DataFrame(\n\u001b[0;32m----> 2\u001b[0;31m     \u001b[0mdata\u001b[0m\u001b[0;34m=\u001b[0m\u001b[0mmetrics\u001b[0m\u001b[0;34m.\u001b[0m\u001b[0mconfusion_matrix\u001b[0m\u001b[0;34m(\u001b[0m\u001b[0mlabels_test\u001b[0m\u001b[0;34m,\u001b[0m \u001b[0mnp\u001b[0m\u001b[0;34m.\u001b[0m\u001b[0mrint\u001b[0m\u001b[0;34m(\u001b[0m\u001b[0my_predict_rand\u001b[0m\u001b[0;34m)\u001b[0m\u001b[0;34m)\u001b[0m\u001b[0;34m,\u001b[0m\u001b[0;34m\u001b[0m\u001b[0;34m\u001b[0m\u001b[0m\n\u001b[0m\u001b[1;32m      3\u001b[0m )\n\u001b[1;32m      4\u001b[0m \u001b[0;34m\u001b[0m\u001b[0m\n\u001b[1;32m      5\u001b[0m \u001b[0mconfusion_figure\u001b[0m\u001b[0;34m,\u001b[0m \u001b[0mconfusion_axes\u001b[0m \u001b[0;34m=\u001b[0m \u001b[0mmatplotlib\u001b[0m\u001b[0;34m.\u001b[0m\u001b[0mpyplot\u001b[0m\u001b[0;34m.\u001b[0m\u001b[0msubplots\u001b[0m\u001b[0;34m(\u001b[0m\u001b[0;34m)\u001b[0m\u001b[0;34m\u001b[0m\u001b[0;34m\u001b[0m\u001b[0m\n",
      "\u001b[0;31mNameError\u001b[0m: name 'labels_test' is not defined"
     ]
    }
   ],
   "source": [
    "confusion_matrix = pd.DataFrame(\n",
    "    data=metrics.confusion_matrix(labels_test, np.rint(y_predict_rand)),\n",
    ")\n",
    "\n",
    "confusion_figure, confusion_axes = matplotlib.pyplot.subplots()\n",
    "confusion_figure.set_size_inches(5, 3)\n",
    "confusion_axes.set_title(\n",
    "    'Confusion matrix showing the frequency of \\n'\n",
    "    'correct and incorrect bug classification predictions.'\n",
    "    '\\n\\n'  # hack to avoid overlap with x-axis labels below\n",
    ")\n",
    "confusion_axes.xaxis.tick_top()  # move x-axis labels to top of matrix\n",
    "_ = sns.heatmap(\n",
    "    confusion_matrix,\n",
    "    annot=True,\n",
    "    fmt=\"d\",\n",
    "    cmap=sns.color_palette(\"Blues\"),\n",
    "    vmin=0,\n",
    "    ax=confusion_axes,\n",
    ")"
   ]
  },
  {
   "cell_type": "code",
   "execution_count": 0,
   "metadata": {
    "colab": {},
    "colab_type": "code",
    "id": "1UxJpkub1jZg"
   },
   "outputs": [],
   "source": [
    "fpr_keras, tpr_keras, thresholds_keras = roc_curve(\n",
    "    labels_test_rand.astype(int),\n",
    "    np.rint(y_predict_rand),\n",
    ")"
   ]
  },
  {
   "cell_type": "code",
   "execution_count": 0,
   "metadata": {
    "colab": {},
    "colab_type": "code",
    "id": "Eowd-MKC1pwa"
   },
   "outputs": [],
   "source": [
    "auc_keras = auc(fpr_keras, tpr_keras)\n",
    "plt.plot(fpr_keras, tpr_keras, label='Keras (area = {:.3f})'.format(auc_keras))\n",
    "plt.xlabel('False positive rate')\n",
    "plt.ylabel('True positive rate')\n",
    "plt.title('ROC curve')\n",
    "plt.legend(loc='best')\n",
    "plt.show()"
   ]
  },
  {
   "cell_type": "code",
   "execution_count": 0,
   "metadata": {
    "colab": {},
    "colab_type": "code",
    "id": "sf7wP8kZ1xG_"
   },
   "outputs": [],
   "source": [
    "tn, fp, fn, tp = metrics.confusion_matrix(\n",
    "    labels_test.astype(int), \n",
    "    np.rint(y_predict_rand)\n",
    ").flatten().tolist()\n",
    "\n",
    "fpr_nn = fp/(fp+tp)\n",
    "fnr_nn = fn/(fn+tn)\n",
    "\n",
    "fpr_nn, fnr_nn"
   ]
  },
  {
   "cell_type": "markdown",
   "metadata": {
    "colab_type": "text",
    "id": "ICTG5eF513EC"
   },
   "source": [
    "Now testing the model trained on random padding on the 'originally padded' matrices"
   ]
  },
  {
   "cell_type": "code",
   "execution_count": 0,
   "metadata": {
    "colab": {
     "base_uri": "https://localhost:8080/",
     "height": 34
    },
    "colab_type": "code",
    "id": "dN5oYoAK12Gw",
    "outputId": "09e49fbf-89f2-4bcf-e67a-1b3d98fea042"
   },
   "outputs": [
    {
     "data": {
      "text/plain": [
       "[5.511991235090942, 0.5365778041861475]"
      ]
     },
     "execution_count": 44,
     "metadata": {
      "tags": []
     },
     "output_type": "execute_result"
    }
   ],
   "source": [
    "test_batch_generator = SparseToDenseGenerator(adj_test, feat_test, labels_test, batch_size)\n",
    "\n",
    "model.evaluate_generator(\n",
    "    generator=test_batch_generator,\n",
    ")"
   ]
  },
  {
   "cell_type": "markdown",
   "metadata": {
    "colab_type": "text",
    "id": "YuN2D-Dp6dhA"
   },
   "source": [
    "53.65% accuracy, poo :("
   ]
  }
 ],
 "metadata": {
  "accelerator": "TPU",
  "colab": {
   "collapsed_sections": [],
   "include_colab_link": true,
   "machine_shape": "hm",
   "name": "Copy of ML-adj-feature-matrix-conv-neural-network.ipynb",
   "provenance": [],
   "version": "0.3.2"
  },
  "kernelspec": {
   "display_name": "Python 3",
   "language": "python",
   "name": "python3"
  },
  "language_info": {
   "codemirror_mode": {
    "name": "ipython",
    "version": 3
   },
   "file_extension": ".py",
   "mimetype": "text/x-python",
   "name": "python",
   "nbconvert_exporter": "python",
   "pygments_lexer": "ipython3",
   "version": "3.6.8"
  },
  "toc": {
   "base_numbering": 1,
   "nav_menu": {},
   "number_sections": true,
   "sideBar": true,
   "skip_h1_title": false,
   "title_cell": "Table of Contents",
   "title_sidebar": "Contents",
   "toc_cell": false,
   "toc_position": {},
   "toc_section_display": true,
   "toc_window_display": false
  }
 },
 "nbformat": 4,
 "nbformat_minor": 1
}
