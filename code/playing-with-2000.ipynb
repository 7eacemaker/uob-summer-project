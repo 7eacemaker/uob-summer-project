{
 "cells": [
  {
   "cell_type": "markdown",
   "metadata": {},
   "source": [
    "# Import Data"
   ]
  },
  {
   "cell_type": "code",
   "execution_count": 28,
   "metadata": {},
   "outputs": [],
   "source": [
    "import tensorflow\n",
    "import keras"
   ]
  },
  {
   "cell_type": "code",
   "execution_count": 29,
   "metadata": {},
   "outputs": [],
   "source": [
    "with open('../data/myvec.emd') as f:\n",
    "    test = f.read()"
   ]
  },
  {
   "cell_type": "code",
   "execution_count": 30,
   "metadata": {},
   "outputs": [],
   "source": [
    "import pandas as pd"
   ]
  },
  {
   "cell_type": "code",
   "execution_count": 31,
   "metadata": {},
   "outputs": [],
   "source": [
    "data = pd.read_csv('../data/juliet.csv.zip')"
   ]
  },
  {
   "cell_type": "code",
   "execution_count": 32,
   "metadata": {},
   "outputs": [],
   "source": [
    "y = data.iloc[:,6:]"
   ]
  },
  {
   "cell_type": "code",
   "execution_count": 33,
   "metadata": {},
   "outputs": [],
   "source": [
    "y = y.iloc[0:2000]"
   ]
  },
  {
   "cell_type": "code",
   "execution_count": 34,
   "metadata": {
    "scrolled": true
   },
   "outputs": [],
   "source": [
    "x = pd.read_csv(\"../data/graph_embeddings_2000.csv\")"
   ]
  },
  {
   "cell_type": "code",
   "execution_count": 35,
   "metadata": {},
   "outputs": [],
   "source": [
    "x = x.drop(columns=\"type\")"
   ]
  },
  {
   "cell_type": "code",
   "execution_count": 37,
   "metadata": {},
   "outputs": [
    {
     "name": "stdout",
     "output_type": "stream",
     "text": [
      "Collecting sklearn\n",
      "  Downloading https://files.pythonhosted.org/packages/1e/7a/dbb3be0ce9bd5c8b7e3d87328e79063f8b263b2b1bfa4774cb1147bfcd3f/sklearn-0.0.tar.gz\n",
      "Collecting scikit-learn (from sklearn)\n",
      "\u001b[?25l  Downloading https://files.pythonhosted.org/packages/21/a4/a48bd4b0d15395362b561df7e7247de87291105eb736a3b2aaffebf437b9/scikit_learn-0.21.2-cp37-cp37m-manylinux1_x86_64.whl (6.7MB)\n",
      "\u001b[K     |████████████████████████████████| 6.7MB 4.4MB/s eta 0:00:01     |█▎                              | 266kB 3.4MB/s eta 0:00:02     |██▌                             | 532kB 3.4MB/s eta 0:00:02     |██████████████                  | 2.9MB 3.4MB/s eta 0:00:02\n",
      "\u001b[?25hRequirement already satisfied: numpy>=1.11.0 in /usr/local/lib/python3.7/dist-packages (from scikit-learn->sklearn) (1.16.4)\n",
      "Requirement already satisfied: joblib>=0.11 in /usr/local/lib/python3.7/dist-packages (from scikit-learn->sklearn) (0.13.0)\n",
      "Requirement already satisfied: scipy>=0.17.0 in /usr/local/lib/python3.7/dist-packages (from scikit-learn->sklearn) (1.3.0)\n",
      "Building wheels for collected packages: sklearn\n",
      "  Building wheel for sklearn (setup.py) ... \u001b[?25ldone\n",
      "\u001b[?25h  Stored in directory: /root/.cache/pip/wheels/76/03/bb/589d421d27431bcd2c6da284d5f2286c8e3b2ea3cf1594c074\n",
      "Successfully built sklearn\n",
      "Installing collected packages: scikit-learn, sklearn\n",
      "Successfully installed scikit-learn-0.21.2 sklearn-0.0\n"
     ]
    }
   ],
   "source": [
    "!pip install sklearn"
   ]
  },
  {
   "cell_type": "code",
   "execution_count": 39,
   "metadata": {},
   "outputs": [],
   "source": [
    "import sklearn"
   ]
  },
  {
   "cell_type": "code",
   "execution_count": 41,
   "metadata": {},
   "outputs": [],
   "source": [
    "from sklearn.model_selection import train_test_split\n",
    "x_train, x_test, y_train, y_test = train_test_split(x, y, test_size = 0.2, random_state = 0)"
   ]
  },
  {
   "cell_type": "code",
   "execution_count": 45,
   "metadata": {},
   "outputs": [
    {
     "data": {
      "text/plain": [
       "(1600, 122)"
      ]
     },
     "execution_count": 45,
     "metadata": {},
     "output_type": "execute_result"
    }
   ],
   "source": [
    "y_train.shape"
   ]
  },
  {
   "cell_type": "markdown",
   "metadata": {},
   "source": [
    "# [Neural tutorial](https://towardsdatascience.com/neural-networks-from-scratch-easy-vs-hard-b26ddc2e89c7)"
   ]
  },
  {
   "cell_type": "code",
   "execution_count": 46,
   "metadata": {
    "scrolled": true
   },
   "outputs": [],
   "source": [
    "from keras.layers import Dense\n",
    "from keras.models import Sequential\n",
    "from keras.optimizers import RMSprop, Adadelta, Adam\n",
    "model = Sequential()"
   ]
  },
  {
   "cell_type": "code",
   "execution_count": 47,
   "metadata": {},
   "outputs": [],
   "source": [
    "model.add(Dense(128, input_dim=x_train.shape[1], activation='sigmoid'))\n",
    "model.add(Dense(128, activation='sigmoid'))\n",
    "model.add(Dense(units=y_train.shape[1], activation='softmax'))"
   ]
  },
  {
   "cell_type": "code",
   "execution_count": 48,
   "metadata": {},
   "outputs": [
    {
     "name": "stdout",
     "output_type": "stream",
     "text": [
      "_________________________________________________________________\n",
      "Layer (type)                 Output Shape              Param #   \n",
      "=================================================================\n",
      "dense_15 (Dense)             (None, 128)               16512     \n",
      "_________________________________________________________________\n",
      "dense_16 (Dense)             (None, 128)               16512     \n",
      "_________________________________________________________________\n",
      "dense_17 (Dense)             (None, 122)               15738     \n",
      "=================================================================\n",
      "Total params: 48,762\n",
      "Trainable params: 48,762\n",
      "Non-trainable params: 0\n",
      "_________________________________________________________________\n"
     ]
    }
   ],
   "source": [
    "model.summary()"
   ]
  },
  {
   "cell_type": "code",
   "execution_count": 49,
   "metadata": {},
   "outputs": [
    {
     "name": "stdout",
     "output_type": "stream",
     "text": [
      "Epoch 1/50\n",
      "1600/1600 [==============================] - 0s 241us/step - loss: 2.1498 - categorical_accuracy: 0.5831\n",
      "Epoch 2/50\n",
      "1600/1600 [==============================] - 0s 79us/step - loss: 0.6774 - categorical_accuracy: 0.7188\n",
      "Epoch 3/50\n",
      "1600/1600 [==============================] - 0s 91us/step - loss: 0.5985 - categorical_accuracy: 0.7188\n",
      "Epoch 4/50\n",
      "1600/1600 [==============================] - 0s 86us/step - loss: 0.5499 - categorical_accuracy: 0.7250\n",
      "Epoch 5/50\n",
      "1600/1600 [==============================] - 0s 93us/step - loss: 0.4932 - categorical_accuracy: 0.7712\n",
      "Epoch 6/50\n",
      "1600/1600 [==============================] - 0s 98us/step - loss: 0.4297 - categorical_accuracy: 0.8050\n",
      "Epoch 7/50\n",
      "1600/1600 [==============================] - 0s 98us/step - loss: 0.3743 - categorical_accuracy: 0.8731\n",
      "Epoch 8/50\n",
      "1600/1600 [==============================] - 0s 110us/step - loss: 0.3290 - categorical_accuracy: 0.8962\n",
      "Epoch 9/50\n",
      "1600/1600 [==============================] - 0s 95us/step - loss: 0.2871 - categorical_accuracy: 0.9237\n",
      "Epoch 10/50\n",
      "1600/1600 [==============================] - 0s 114us/step - loss: 0.2536 - categorical_accuracy: 0.9294\n",
      "Epoch 11/50\n",
      "1600/1600 [==============================] - 0s 102us/step - loss: 0.2340 - categorical_accuracy: 0.9319\n",
      "Epoch 12/50\n",
      "1600/1600 [==============================] - 0s 107us/step - loss: 0.2092 - categorical_accuracy: 0.9400\n",
      "Epoch 13/50\n",
      "1600/1600 [==============================] - 0s 98us/step - loss: 0.1961 - categorical_accuracy: 0.9413\n",
      "Epoch 14/50\n",
      "1600/1600 [==============================] - 0s 111us/step - loss: 0.1796 - categorical_accuracy: 0.9456\n",
      "Epoch 15/50\n",
      "1600/1600 [==============================] - 0s 108us/step - loss: 0.1681 - categorical_accuracy: 0.9469\n",
      "Epoch 16/50\n",
      "1600/1600 [==============================] - 0s 85us/step - loss: 0.1575 - categorical_accuracy: 0.9525\n",
      "Epoch 17/50\n",
      "1600/1600 [==============================] - 0s 88us/step - loss: 0.1535 - categorical_accuracy: 0.9500\n",
      "Epoch 18/50\n",
      "1600/1600 [==============================] - 0s 86us/step - loss: 0.1451 - categorical_accuracy: 0.9494\n",
      "Epoch 19/50\n",
      "1600/1600 [==============================] - 0s 89us/step - loss: 0.1393 - categorical_accuracy: 0.9519\n",
      "Epoch 20/50\n",
      "1600/1600 [==============================] - 0s 72us/step - loss: 0.1357 - categorical_accuracy: 0.9506\n",
      "Epoch 21/50\n",
      "1600/1600 [==============================] - 0s 94us/step - loss: 0.1292 - categorical_accuracy: 0.9500\n",
      "Epoch 22/50\n",
      "1600/1600 [==============================] - 0s 63us/step - loss: 0.1291 - categorical_accuracy: 0.9550\n",
      "Epoch 23/50\n",
      "1600/1600 [==============================] - 0s 86us/step - loss: 0.1289 - categorical_accuracy: 0.9438\n",
      "Epoch 24/50\n",
      "1600/1600 [==============================] - 0s 80us/step - loss: 0.1248 - categorical_accuracy: 0.9531\n",
      "Epoch 25/50\n",
      "1600/1600 [==============================] - 0s 76us/step - loss: 0.1263 - categorical_accuracy: 0.9494\n",
      "Epoch 26/50\n",
      "1600/1600 [==============================] - 0s 88us/step - loss: 0.1255 - categorical_accuracy: 0.9462\n",
      "Epoch 27/50\n",
      "1600/1600 [==============================] - 0s 69us/step - loss: 0.1205 - categorical_accuracy: 0.9531\n",
      "Epoch 28/50\n",
      "1600/1600 [==============================] - 0s 82us/step - loss: 0.1154 - categorical_accuracy: 0.9494\n",
      "Epoch 29/50\n",
      "1600/1600 [==============================] - 0s 79us/step - loss: 0.1125 - categorical_accuracy: 0.9556\n",
      "Epoch 30/50\n",
      "1600/1600 [==============================] - 0s 82us/step - loss: 0.1197 - categorical_accuracy: 0.9513\n",
      "Epoch 31/50\n",
      "1600/1600 [==============================] - 0s 75us/step - loss: 0.1138 - categorical_accuracy: 0.9519\n",
      "Epoch 32/50\n",
      "1600/1600 [==============================] - 0s 95us/step - loss: 0.1108 - categorical_accuracy: 0.9506\n",
      "Epoch 33/50\n",
      "1600/1600 [==============================] - 0s 92us/step - loss: 0.1179 - categorical_accuracy: 0.9450 0s - loss: 0.1197 - categorical_accuracy: 0.94\n",
      "Epoch 34/50\n",
      "1600/1600 [==============================] - 0s 80us/step - loss: 0.1075 - categorical_accuracy: 0.9550\n",
      "Epoch 35/50\n",
      "1600/1600 [==============================] - 0s 92us/step - loss: 0.1118 - categorical_accuracy: 0.9519\n",
      "Epoch 36/50\n",
      "1600/1600 [==============================] - 0s 90us/step - loss: 0.1107 - categorical_accuracy: 0.9494\n",
      "Epoch 37/50\n",
      "1600/1600 [==============================] - 0s 80us/step - loss: 0.1050 - categorical_accuracy: 0.9563\n",
      "Epoch 38/50\n",
      "1600/1600 [==============================] - 0s 84us/step - loss: 0.1083 - categorical_accuracy: 0.9550\n",
      "Epoch 39/50\n",
      "1600/1600 [==============================] - 0s 87us/step - loss: 0.1050 - categorical_accuracy: 0.9569\n",
      "Epoch 40/50\n",
      "1600/1600 [==============================] - 0s 83us/step - loss: 0.1048 - categorical_accuracy: 0.9575\n",
      "Epoch 41/50\n",
      "1600/1600 [==============================] - 0s 99us/step - loss: 0.1064 - categorical_accuracy: 0.9513 0s - loss: 0.1109 - categorical_accuracy: 0.\n",
      "Epoch 42/50\n",
      "1600/1600 [==============================] - 0s 132us/step - loss: 0.1009 - categorical_accuracy: 0.9544\n",
      "Epoch 43/50\n",
      "1600/1600 [==============================] - 0s 97us/step - loss: 0.1090 - categorical_accuracy: 0.9519\n",
      "Epoch 44/50\n",
      "1600/1600 [==============================] - 0s 93us/step - loss: 0.1011 - categorical_accuracy: 0.9544\n",
      "Epoch 45/50\n",
      "1600/1600 [==============================] - 0s 103us/step - loss: 0.1071 - categorical_accuracy: 0.9500\n",
      "Epoch 46/50\n",
      "1600/1600 [==============================] - 0s 101us/step - loss: 0.1014 - categorical_accuracy: 0.9519\n",
      "Epoch 47/50\n",
      "1600/1600 [==============================] - 0s 97us/step - loss: 0.1101 - categorical_accuracy: 0.9500\n",
      "Epoch 48/50\n",
      "1600/1600 [==============================] - 0s 91us/step - loss: 0.1026 - categorical_accuracy: 0.9475\n",
      "Epoch 49/50\n",
      "1600/1600 [==============================] - 0s 90us/step - loss: 0.1030 - categorical_accuracy: 0.9556\n",
      "Epoch 50/50\n",
      "1600/1600 [==============================] - 0s 89us/step - loss: 0.1008 - categorical_accuracy: 0.9569\n"
     ]
    },
    {
     "data": {
      "text/plain": [
       "<keras.callbacks.History at 0x7fcb75822668>"
      ]
     },
     "execution_count": 49,
     "metadata": {},
     "output_type": "execute_result"
    }
   ],
   "source": [
    "model.compile(optimizer=Adadelta(), loss='categorical_crossentropy', metrics=['categorical_accuracy'])\n",
    "model.fit(x_train, y_train, epochs=50, batch_size=64)"
   ]
  },
  {
   "cell_type": "code",
   "execution_count": 50,
   "metadata": {},
   "outputs": [
    {
     "name": "stdout",
     "output_type": "stream",
     "text": [
      "400/400 [==============================] - 0s 246us/step\n"
     ]
    },
    {
     "data": {
      "text/plain": [
       "[0.0998640337586403, 0.9525]"
      ]
     },
     "execution_count": 50,
     "metadata": {},
     "output_type": "execute_result"
    }
   ],
   "source": [
    "model.evaluate(x_test,y_test)\n"
   ]
  },
  {
   "cell_type": "code",
   "execution_count": null,
   "metadata": {},
   "outputs": [],
   "source": []
  }
 ],
 "metadata": {
  "kernelspec": {
   "display_name": "Python 3",
   "language": "python",
   "name": "python3"
  },
  "language_info": {
   "codemirror_mode": {
    "name": "ipython",
    "version": 3
   },
   "file_extension": ".py",
   "mimetype": "text/x-python",
   "name": "python",
   "nbconvert_exporter": "python",
   "pygments_lexer": "ipython3",
   "version": "3.7.3"
  }
 },
 "nbformat": 4,
 "nbformat_minor": 2
}
