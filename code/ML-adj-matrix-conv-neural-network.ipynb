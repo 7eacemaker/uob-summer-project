{
  "nbformat": 4,
  "nbformat_minor": 0,
  "metadata": {
    "accelerator": "TPU",
    "colab": {
      "name": "ML-adj-matrix-conv-neural-network.ipynb",
      "version": "0.3.2",
      "provenance": [],
      "collapsed_sections": [],
      "toc_visible": true,
      "machine_shape": "hm",
      "include_colab_link": true
    },
    "kernelspec": {
      "display_name": "Python 3",
      "language": "python",
      "name": "python3"
    },
    "language_info": {
      "codemirror_mode": {
        "name": "ipython",
        "version": 3
      },
      "file_extension": ".py",
      "mimetype": "text/x-python",
      "name": "python",
      "nbconvert_exporter": "python",
      "pygments_lexer": "ipython3",
      "version": "3.6.8"
    },
    "toc": {
      "base_numbering": 1,
      "nav_menu": {},
      "number_sections": true,
      "sideBar": true,
      "skip_h1_title": false,
      "title_cell": "Table of Contents",
      "title_sidebar": "Contents",
      "toc_cell": false,
      "toc_position": {},
      "toc_section_display": true,
      "toc_window_display": false
    }
  },
  "cells": [
    {
      "cell_type": "markdown",
      "metadata": {
        "id": "view-in-github",
        "colab_type": "text"
      },
      "source": [
        "<a href=\"https://colab.research.google.com/github/dj311/uob-summer-project/blob/master/code/ML-adj-matrix-conv-neural-network.ipynb\" target=\"_parent\"><img src=\"https://colab.research.google.com/assets/colab-badge.svg\" alt=\"Open In Colab\"/></a>"
      ]
    },
    {
      "cell_type": "markdown",
      "metadata": {
        "id": "TiBwkCwLAaGg",
        "colab_type": "text"
      },
      "source": [
        "Notebook for training and testing a convolutional neural network model using an adjacency matrix represention of the buffer overflow datapoints in an AST format. \n",
        "\n",
        "First, the data is padded with zeros in a standardized format - from the right and down.\n",
        "\n",
        "Next, we incorporate random padding on the matrices in the testing dataset. \n",
        "\n",
        "Then, we randomly pad both the training and testing dataset.\n",
        "\n",
        "Finally, we train the model on randomly padded data and test on standardized padded data. "
      ]
    },
    {
      "cell_type": "markdown",
      "metadata": {
        "colab_type": "text",
        "id": "K4oesAZzmRhL"
      },
      "source": [
        "# Colab Setup"
      ]
    },
    {
      "cell_type": "code",
      "metadata": {
        "colab_type": "code",
        "id": "W3hzFsJWtCn-",
        "outputId": "36332c9b-a6d0-4b9c-87f4-c3bb4c4d2ba7",
        "colab": {
          "base_uri": "https://localhost:8080/",
          "height": 888
        }
      },
      "source": [
        "!mkdir -p /project/data && cd /project/data && wget -O adj.pickle https://github.com/dj311/uob-summer-project/raw/master/data/adj.pickle\n",
        "!mkdir -p /project/data && cd /project/data && wget -O buffer_overflow_data.csv.gz https://github.com/dj311/uob-summer-project/raw/master/data/buffer_overflow_data.csv.gz\n",
        "!mkdir -p /project/data && cd /project/data && wget -O adjacency-matrix-model-binary.pickle https://github.com/dj311/uob-summer-project/raw/master/data/adjacency-matrix-model-binary.pickle\n",
        "!mkdir -p /project/code\n",
        "!mkdir -p /project/images\n",
        "%cd /project/code"
      ],
      "execution_count": 1,
      "outputs": [
        {
          "output_type": "stream",
          "text": [
            "--2019-08-22 11:18:17--  https://github.com/dj311/uob-summer-project/raw/master/data/adj.pickle\n",
            "Resolving github.com (github.com)... 140.82.113.3\n",
            "Connecting to github.com (github.com)|140.82.113.3|:443... connected.\n",
            "HTTP request sent, awaiting response... 302 Found\n",
            "Location: https://media.githubusercontent.com/media/dj311/uob-summer-project/master/data/adj.pickle [following]\n",
            "--2019-08-22 11:18:22--  https://media.githubusercontent.com/media/dj311/uob-summer-project/master/data/adj.pickle\n",
            "Resolving media.githubusercontent.com (media.githubusercontent.com)... 151.101.0.133, 151.101.64.133, 151.101.128.133, ...\n",
            "Connecting to media.githubusercontent.com (media.githubusercontent.com)|151.101.0.133|:443... connected.\n",
            "HTTP request sent, awaiting response... 200 OK\n",
            "Length: 1320521199 (1.2G) [application/octet-stream]\n",
            "Saving to: ‘adj.pickle’\n",
            "\n",
            "adj.pickle          100%[===================>]   1.23G   229MB/s    in 5.8s    \n",
            "\n",
            "2019-08-22 11:18:41 (219 MB/s) - ‘adj.pickle’ saved [1320521199/1320521199]\n",
            "\n",
            "--2019-08-22 11:18:42--  https://github.com/dj311/uob-summer-project/raw/master/data/buffer_overflow_data.csv.gz\n",
            "Resolving github.com (github.com)... 140.82.113.3\n",
            "Connecting to github.com (github.com)|140.82.113.3|:443... connected.\n",
            "HTTP request sent, awaiting response... 302 Found\n",
            "Location: https://media.githubusercontent.com/media/dj311/uob-summer-project/master/data/buffer_overflow_data.csv.gz [following]\n",
            "--2019-08-22 11:18:42--  https://media.githubusercontent.com/media/dj311/uob-summer-project/master/data/buffer_overflow_data.csv.gz\n",
            "Resolving media.githubusercontent.com (media.githubusercontent.com)... 151.101.0.133, 151.101.64.133, 151.101.128.133, ...\n",
            "Connecting to media.githubusercontent.com (media.githubusercontent.com)|151.101.0.133|:443... connected.\n",
            "HTTP request sent, awaiting response... 200 OK\n",
            "Length: 3008729 (2.9M) [application/octet-stream]\n",
            "Saving to: ‘buffer_overflow_data.csv.gz’\n",
            "\n",
            "buffer_overflow_dat 100%[===================>]   2.87M  --.-KB/s    in 0.08s   \n",
            "\n",
            "2019-08-22 11:18:43 (38.2 MB/s) - ‘buffer_overflow_data.csv.gz’ saved [3008729/3008729]\n",
            "\n",
            "--2019-08-22 11:18:44--  https://github.com/dj311/uob-summer-project/raw/master/data/adjacency-matrix-model-binary.pickle\n",
            "Resolving github.com (github.com)... 140.82.113.3\n",
            "Connecting to github.com (github.com)|140.82.113.3|:443... connected.\n",
            "HTTP request sent, awaiting response... 302 Found\n",
            "Location: https://media.githubusercontent.com/media/dj311/uob-summer-project/master/data/adjacency-matrix-model-binary.pickle [following]\n",
            "--2019-08-22 11:18:44--  https://media.githubusercontent.com/media/dj311/uob-summer-project/master/data/adjacency-matrix-model-binary.pickle\n",
            "Resolving media.githubusercontent.com (media.githubusercontent.com)... 151.101.0.133, 151.101.64.133, 151.101.128.133, ...\n",
            "Connecting to media.githubusercontent.com (media.githubusercontent.com)|151.101.0.133|:443... connected.\n",
            "HTTP request sent, awaiting response... 200 OK\n",
            "Length: 71124065 (68M) [application/octet-stream]\n",
            "Saving to: ‘adjacency-matrix-model-binary.pickle’\n",
            "\n",
            "adjacency-matrix-mo 100%[===================>]  67.83M   210MB/s    in 0.3s    \n",
            "\n",
            "2019-08-22 11:18:46 (210 MB/s) - ‘adjacency-matrix-model-binary.pickle’ saved [71124065/71124065]\n",
            "\n",
            "/project/code\n"
          ],
          "name": "stdout"
        }
      ]
    },
    {
      "cell_type": "code",
      "metadata": {
        "colab_type": "code",
        "id": "picM6_uU2IeP",
        "outputId": "6bc095a7-50b0-4d7f-9610-b34f48f86a32",
        "colab": {
          "base_uri": "https://localhost:8080/",
          "height": 315
        }
      },
      "source": [
        "!mkdir -p /project/data && cd /project/data && wget -O adjacency-matrix-model-random-padding.pickle https://github.com/dj311/uob-summer-project/raw/master/data/adjacency-matrix-model-random-padding.pickle"
      ],
      "execution_count": 2,
      "outputs": [
        {
          "output_type": "stream",
          "text": [
            "--2019-08-22 11:18:48--  https://github.com/dj311/uob-summer-project/raw/master/data/adjacency-matrix-model-random-padding.pickle\n",
            "Resolving github.com (github.com)... 140.82.113.3\n",
            "Connecting to github.com (github.com)|140.82.113.3|:443... connected.\n",
            "HTTP request sent, awaiting response... 302 Found\n",
            "Location: https://media.githubusercontent.com/media/dj311/uob-summer-project/master/data/adjacency-matrix-model-random-padding.pickle [following]\n",
            "--2019-08-22 11:18:48--  https://media.githubusercontent.com/media/dj311/uob-summer-project/master/data/adjacency-matrix-model-random-padding.pickle\n",
            "Resolving media.githubusercontent.com (media.githubusercontent.com)... 151.101.0.133, 151.101.64.133, 151.101.128.133, ...\n",
            "Connecting to media.githubusercontent.com (media.githubusercontent.com)|151.101.0.133|:443... connected.\n",
            "HTTP request sent, awaiting response... 200 OK\n",
            "Length: 71124407 (68M) [application/octet-stream]\n",
            "Saving to: ‘adjacency-matrix-model-random-padding.pickle’\n",
            "\n",
            "adjacency-matrix-mo 100%[===================>]  67.83M   148MB/s    in 0.5s    \n",
            "\n",
            "2019-08-22 11:18:50 (148 MB/s) - ‘adjacency-matrix-model-random-padding.pickle’ saved [71124407/71124407]\n",
            "\n"
          ],
          "name": "stdout"
        }
      ]
    },
    {
      "cell_type": "markdown",
      "metadata": {
        "colab_type": "text",
        "id": "lO9-8NDKk8ja"
      },
      "source": [
        "# Import & Preprocess Dataset\n",
        "\n",
        "First we import the data from the [previous notebook](./adjacency_matrix.ipynb).\n"
      ]
    },
    {
      "cell_type": "code",
      "metadata": {
        "colab_type": "code",
        "id": "T8k-PxYdI1WU",
        "outputId": "c3328299-2632-4c9f-d708-5e9c9111adcd",
        "colab": {
          "base_uri": "https://localhost:8080/",
          "height": 124
        }
      },
      "source": [
        "!pip install sklearn"
      ],
      "execution_count": 3,
      "outputs": [
        {
          "output_type": "stream",
          "text": [
            "Requirement already satisfied: sklearn in /usr/local/lib/python3.6/dist-packages (0.0)\n",
            "Requirement already satisfied: scikit-learn in /usr/local/lib/python3.6/dist-packages (from sklearn) (0.21.3)\n",
            "Requirement already satisfied: scipy>=0.17.0 in /usr/local/lib/python3.6/dist-packages (from scikit-learn->sklearn) (1.3.1)\n",
            "Requirement already satisfied: joblib>=0.11 in /usr/local/lib/python3.6/dist-packages (from scikit-learn->sklearn) (0.13.2)\n",
            "Requirement already satisfied: numpy>=1.11.0 in /usr/local/lib/python3.6/dist-packages (from scikit-learn->sklearn) (1.16.4)\n"
          ],
          "name": "stdout"
        }
      ]
    },
    {
      "cell_type": "code",
      "metadata": {
        "colab_type": "code",
        "id": "uB5QGgAgk8je",
        "outputId": "5eadaace-92f9-4164-c9d4-584cd331217e",
        "colab": {
          "base_uri": "https://localhost:8080/",
          "height": 34
        }
      },
      "source": [
        "import tensorflow as tf\n",
        "import keras\n",
        "import sklearn\n",
        "import numpy as np\n",
        "import pickle\n",
        "from scipy.sparse import csr_matrix, hstack, vstack\n",
        "from sklearn.model_selection import train_test_split\n",
        "\n",
        "\n",
        "run_opts = tf.RunOptions(report_tensor_allocations_upon_oom = True)\n",
        "np.random.seed(1248)\n",
        "\n",
        "tf.logging.set_verbosity(tf.logging.INFO)"
      ],
      "execution_count": 4,
      "outputs": [
        {
          "output_type": "stream",
          "text": [
            "Using TensorFlow backend.\n"
          ],
          "name": "stderr"
        }
      ]
    },
    {
      "cell_type": "code",
      "metadata": {
        "colab_type": "code",
        "id": "CGIbzYT0k8jz",
        "colab": {}
      },
      "source": [
        "import pandas as pd"
      ],
      "execution_count": 0,
      "outputs": []
    },
    {
      "cell_type": "code",
      "metadata": {
        "colab_type": "code",
        "id": "NQwMY_iLk8kC",
        "colab": {}
      },
      "source": [
        "data = pd.read_csv('../data/buffer_overflow_data.csv.gz')"
      ],
      "execution_count": 0,
      "outputs": []
    },
    {
      "cell_type": "code",
      "metadata": {
        "colab_type": "code",
        "id": "76z9869-k8kQ",
        "colab": {}
      },
      "source": [
        "labels = data.copy()\n",
        "del labels['Unnamed: 0']\n",
        "del labels['Unnamed: 0.1']\n",
        "del labels['filename']\n",
        "del labels['code']\n",
        "del labels['flaw']\n",
        "del labels['flaw_loc']\n",
        "labels = labels.drop_duplicates().sort_values('testcase_ID').reset_index(drop=True)"
      ],
      "execution_count": 0,
      "outputs": []
    },
    {
      "cell_type": "code",
      "metadata": {
        "colab_type": "code",
        "id": "AyqJFOtWk8kg",
        "colab": {}
      },
      "source": [
        "with open(\"../data/adj.pickle\",'rb') as f:\n",
        "    adj = pickle.load(f)"
      ],
      "execution_count": 0,
      "outputs": []
    },
    {
      "cell_type": "code",
      "metadata": {
        "colab_type": "code",
        "id": "PHikMdozk8k1",
        "colab": {}
      },
      "source": [
        "adj = adj.rename(columns={0: 'testcase_ID', 1: 'matrix'})"
      ],
      "execution_count": 0,
      "outputs": []
    },
    {
      "cell_type": "code",
      "metadata": {
        "colab_type": "code",
        "id": "pIdnRsBjk8k-",
        "colab": {}
      },
      "source": [
        "adj_orig_df = pd.merge(labels, adj, on='testcase_ID')"
      ],
      "execution_count": 0,
      "outputs": []
    },
    {
      "cell_type": "code",
      "metadata": {
        "colab_type": "code",
        "id": "s-qHa46Vk8lK",
        "colab": {}
      },
      "source": [
        "adj_orig_df = adj_orig_df[['testcase_ID', 'matrix', 'bug']]"
      ],
      "execution_count": 0,
      "outputs": []
    },
    {
      "cell_type": "markdown",
      "metadata": {
        "colab_type": "text",
        "id": "qB06ooxxo--s"
      },
      "source": [
        "Next, find out the maximum size of an adjacency matrix, then convert all matrices to have the same dimension."
      ]
    },
    {
      "cell_type": "code",
      "metadata": {
        "colab_type": "code",
        "id": "HNY1UrHJk8lg",
        "colab": {}
      },
      "source": [
        "adj_orig_df['matrix_size'] = adj_orig_df.matrix.apply(lambda x: x.shape[0])"
      ],
      "execution_count": 0,
      "outputs": []
    },
    {
      "cell_type": "code",
      "metadata": {
        "colab_type": "code",
        "id": "p6zGXUxbk8l1",
        "outputId": "8326e385-7d19-4cca-e296-24412d09648b",
        "colab": {
          "base_uri": "https://localhost:8080/",
          "height": 173
        }
      },
      "source": [
        "adj_orig_df['matrix_size'].describe()"
      ],
      "execution_count": 13,
      "outputs": [
        {
          "output_type": "execute_result",
          "data": {
            "text/plain": [
              "count    21502.000000\n",
              "mean      2186.138778\n",
              "std       7239.752920\n",
              "min          4.000000\n",
              "25%        349.000000\n",
              "50%        396.000000\n",
              "75%        614.000000\n",
              "max      44401.000000\n",
              "Name: matrix_size, dtype: float64"
            ]
          },
          "metadata": {
            "tags": []
          },
          "execution_count": 13
        }
      ]
    },
    {
      "cell_type": "markdown",
      "metadata": {
        "colab_type": "text",
        "id": "VlN1pb2SJW2i"
      },
      "source": [
        "So we know that 75% of the dataset has a matrix size <= 614, which is approximately 18000 datapoints. Picking the full dataset would require matrices of dimension 44401x44401 which require 15 gb of memory each. This is isn't feasible, however picking matrices of size 614x614 or less gives a per matrix size of 3.38mb - far more manageable!"
      ]
    },
    {
      "cell_type": "code",
      "metadata": {
        "colab_type": "code",
        "id": "JXR174VPKKzR",
        "outputId": "c84da1e0-5a8f-4681-dd54-e3972a3d8c95",
        "colab": {
          "base_uri": "https://localhost:8080/",
          "height": 34
        }
      },
      "source": [
        "matrix_size = 614\n",
        "adj_orig_df = adj_orig_df[adj_orig_df['matrix_size'] <= matrix_size]\n",
        "len(adj_orig_df)"
      ],
      "execution_count": 14,
      "outputs": [
        {
          "output_type": "execute_result",
          "data": {
            "text/plain": [
              "16128"
            ]
          },
          "metadata": {
            "tags": []
          },
          "execution_count": 14
        }
      ]
    },
    {
      "cell_type": "code",
      "metadata": {
        "colab_type": "code",
        "id": "LAO53g_RI1W6",
        "colab": {}
      },
      "source": [
        "adj_df = adj_orig_df.copy()"
      ],
      "execution_count": 0,
      "outputs": []
    },
    {
      "cell_type": "code",
      "metadata": {
        "colab_type": "code",
        "id": "MCV9Vwupk8mI",
        "colab": {}
      },
      "source": [
        "def bottom_right_matrix_size_corrector(matrix, target_rows, target_columns):\n",
        "    '''Pads matrix with zeros to the desired size'''\n",
        "    \n",
        "    rows, columns = matrix.shape[0], matrix.shape[1]\n",
        "    \n",
        "    row_corrector = csr_matrix((target_rows-rows, columns))\n",
        "    col_corrector = csr_matrix((target_rows, target_columns-columns))\n",
        "\n",
        "    matrix = vstack([matrix, row_corrector])\n",
        "    matrix = hstack([matrix, col_corrector])\n",
        "\n",
        "    matrix = matrix.astype(np.int)\n",
        "    \n",
        "    return matrix "
      ],
      "execution_count": 0,
      "outputs": []
    },
    {
      "cell_type": "code",
      "metadata": {
        "colab_type": "code",
        "id": "yI1YFNQMk8mp",
        "colab": {}
      },
      "source": [
        "adj_df['matrix'] = adj_df['matrix'].apply(lambda m: bottom_right_matrix_size_corrector(m, matrix_size, matrix_size))"
      ],
      "execution_count": 0,
      "outputs": []
    },
    {
      "cell_type": "code",
      "metadata": {
        "colab_type": "code",
        "id": "zy8qe3IdrKml",
        "colab": {}
      },
      "source": [
        "testcase_ids = adj_df['testcase_ID'].values\n",
        "adjacency_matrices = adj_df['matrix'].values\n",
        "labels = adj_df['bug'].values"
      ],
      "execution_count": 0,
      "outputs": []
    },
    {
      "cell_type": "markdown",
      "metadata": {
        "colab_type": "text",
        "id": "ga6SW3_qpF80"
      },
      "source": [
        "Now we have a dataframe for each testcase with a sparse representation of its AST in the matrix column, each normalised to matrix_size x matrix_size in size.\n",
        "  \n",
        "\n"
      ]
    },
    {
      "cell_type": "markdown",
      "metadata": {
        "colab_type": "text",
        "id": "yXrUMkzYSgUz"
      },
      "source": [
        "Storing all of these matrices in a dense representation at once might cause memory issues. To avoid this, we write a class which generates dense matrices for each of the training batches. \n",
        "\n",
        "We also perform the element wrapping as part of this process (since we can't perform it on the sparse arrays, I think)."
      ]
    },
    {
      "cell_type": "code",
      "metadata": {
        "colab_type": "code",
        "id": "dBPBYHNJxm-D",
        "colab": {}
      },
      "source": [
        "class SparseToDenseGenerator(keras.utils.Sequence):\n",
        "\n",
        "    def __init__(self, sparse_matrices, labels, batch_size):\n",
        "        self.sparse_matrices = sparse_matrices\n",
        "        self.labels = labels\n",
        "        self.batch_size = batch_size\n",
        "\n",
        "    def __len__(self):\n",
        "        return int(np.ceil(len(self.sparse_matrices) / float(self.batch_size)))\n",
        "\n",
        "    def __getitem__(self, batch_num):\n",
        "        start_index = batch_num * self.batch_size\n",
        "        end_index = (batch_num + 1) * self.batch_size\n",
        "        \n",
        "        batch_sparse = self.sparse_matrices[start_index:end_index]\n",
        "        batch_labels = self.labels[start_index:end_index]\n",
        "        \n",
        "        batch_dense = np.array([sparse_matrix.todense() for sparse_matrix in batch_sparse])\n",
        "        \n",
        "        # TODO: move this somewhere better\n",
        "        # Conv2D requires an extra dimension for \"channels\", so we need to convert our data from\n",
        "        # the shape (batch_size, matrix_rows, matrix_columns)\n",
        "        # to (batch_size, matrix_rows, matrix_columns, 1)\n",
        "        batch_dense = np.reshape(batch_dense, batch_dense.shape + (1, ))\n",
        "\n",
        "        return batch_dense, np.array(batch_labels)"
      ],
      "execution_count": 0,
      "outputs": []
    },
    {
      "cell_type": "markdown",
      "metadata": {
        "colab_type": "text",
        "id": "W8rFgat6TFnc"
      },
      "source": [
        "Finally, we generate the train and test splits:"
      ]
    },
    {
      "cell_type": "markdown",
      "metadata": {
        "colab_type": "text",
        "id": "_fwvFaXuR_Pg"
      },
      "source": [
        "Load in out pre-generated training and test sets from the graph2vec dataset. We use the indices from these to extract the same set split in our adjacency dataset."
      ]
    },
    {
      "cell_type": "code",
      "metadata": {
        "colab_type": "code",
        "id": "cxO5J1xySMDV",
        "colab": {}
      },
      "source": [
        "x_train, x_test, y_train, y_test = train_test_split(adjacency_matrices, labels, test_size=0.2, random_state = 0)\n",
        "x_train, x_val, y_train, y_val = train_test_split(x_train, y_train, test_size=0.2, random_state=0)"
      ],
      "execution_count": 0,
      "outputs": []
    },
    {
      "cell_type": "markdown",
      "metadata": {
        "colab_type": "text",
        "id": "nda-Xjsjk8ng"
      },
      "source": [
        "# Model"
      ]
    },
    {
      "cell_type": "code",
      "metadata": {
        "colab_type": "code",
        "id": "KqlHfs2Kk8ni",
        "scrolled": true,
        "colab": {}
      },
      "source": [
        "from keras.layers import Dense, Dropout, Flatten, Reshape, Activation\n",
        "from keras.layers import Conv1D, MaxPooling1D, Conv2D, GlobalMaxPooling2D, MaxPooling2D, Convolution2D\n",
        "from keras.models import Sequential\n",
        "from keras.layers.normalization import BatchNormalization\n",
        "from keras.layers.advanced_activations import LeakyReLU\n",
        "from keras.optimizers import RMSprop, Adadelta, Adam\n",
        "from keras.utils import np_utils\n",
        "from keras import backend as K"
      ],
      "execution_count": 0,
      "outputs": []
    },
    {
      "cell_type": "code",
      "metadata": {
        "colab_type": "code",
        "id": "kmlCQ77P3itE",
        "outputId": "f3bd07b8-e716-4495-87c9-2b99b4e62b6e",
        "colab": {
          "base_uri": "https://localhost:8080/",
          "height": 34
        }
      },
      "source": [
        "batch_size = 96\n",
        "epochs = 5\n",
        "num_samples = len(labels)\n",
        "\n",
        "datapoint_shape = (matrix_size, matrix_size, )\n",
        "batch_shape = (batch_size, ) + datapoint_shape\n",
        "\n",
        "steps_per_epoch = int(np.ceil(num_samples/batch_size))\n",
        "\n",
        "kernel_size = (2, 2)\n",
        "strides = max(kernel_size[0] // 3, 1)\n",
        "\n",
        "batch_size, epochs, num_samples, datapoint_shape, batch_shape, steps_per_epoch, kernel_size, strides"
      ],
      "execution_count": 22,
      "outputs": [
        {
          "output_type": "execute_result",
          "data": {
            "text/plain": [
              "(96, 5, 16128, (614, 614), (96, 614, 614), 168, (2, 2), 1)"
            ]
          },
          "metadata": {
            "tags": []
          },
          "execution_count": 22
        }
      ]
    },
    {
      "cell_type": "code",
      "metadata": {
        "colab_type": "code",
        "id": "a1aVESBAk8nu",
        "outputId": "a41bd6a8-c99c-486b-d093-d5c1be9d9c71",
        "colab": {
          "base_uri": "https://localhost:8080/",
          "height": 1000
        }
      },
      "source": [
        "model = Sequential()\n",
        "\n",
        "model.add(Conv2D(\n",
        "    data_format='channels_last',\n",
        "    input_shape=(matrix_size, matrix_size, 1),\n",
        "    filters=32,\n",
        "    kernel_size=kernel_size,\n",
        "    strides=strides,\n",
        "))\n",
        "model.add(Activation('relu'))\n",
        "model.add(MaxPooling2D(kernel_size, padding='same'))\n",
        "\n",
        "model.add(Conv2D(\n",
        "    data_format='channels_last',\n",
        "    input_shape=(matrix_size, matrix_size, 1),\n",
        "    filters=32,\n",
        "    kernel_size=kernel_size,\n",
        "    strides=strides,\n",
        "    activation='relu',\n",
        "))\n",
        "model.add(Activation('relu'))\n",
        "model.add(MaxPooling2D(kernel_size, padding='same'))\n",
        "\n",
        "model.add(Conv2D(\n",
        "    data_format='channels_last',\n",
        "    input_shape=(matrix_size, matrix_size, 1),\n",
        "    filters=32,\n",
        "    kernel_size=kernel_size,\n",
        "    strides=strides,\n",
        "    activation='relu',\n",
        "))\n",
        "model.add(Activation('relu'))\n",
        "model.add(MaxPooling2D(kernel_size, padding='same'))\n",
        "\n",
        "model.add(Flatten())\n",
        "\n",
        "model.add(Dense(units=32, activation='relu'))\n",
        "model.add(Dense(units=32, activation='relu'))\n",
        "model.add(Dense(units=32, activation='relu'))\n",
        "\n",
        "model.add(Dropout(0.8))\n",
        "\n",
        "model.add(Dense(units=1, activation='sigmoid'))\n",
        "\n",
        "model.compile(optimizer=Adam(), loss='binary_crossentropy', metrics=['accuracy'])\n",
        "\n",
        "model.summary()"
      ],
      "execution_count": 23,
      "outputs": [
        {
          "output_type": "stream",
          "text": [
            "WARNING: Logging before flag parsing goes to stderr.\n",
            "W0822 11:20:01.530166 139772425209728 deprecation_wrapper.py:119] From /usr/local/lib/python3.6/dist-packages/keras/backend/tensorflow_backend.py:74: The name tf.get_default_graph is deprecated. Please use tf.compat.v1.get_default_graph instead.\n",
            "\n",
            "W0822 11:20:01.595202 139772425209728 deprecation_wrapper.py:119] From /usr/local/lib/python3.6/dist-packages/keras/backend/tensorflow_backend.py:517: The name tf.placeholder is deprecated. Please use tf.compat.v1.placeholder instead.\n",
            "\n",
            "W0822 11:20:01.604234 139772425209728 deprecation_wrapper.py:119] From /usr/local/lib/python3.6/dist-packages/keras/backend/tensorflow_backend.py:4138: The name tf.random_uniform is deprecated. Please use tf.random.uniform instead.\n",
            "\n",
            "W0822 11:20:01.660247 139772425209728 deprecation_wrapper.py:119] From /usr/local/lib/python3.6/dist-packages/keras/backend/tensorflow_backend.py:3976: The name tf.nn.max_pool is deprecated. Please use tf.nn.max_pool2d instead.\n",
            "\n",
            "W0822 11:20:01.758087 139772425209728 deprecation_wrapper.py:119] From /usr/local/lib/python3.6/dist-packages/keras/backend/tensorflow_backend.py:133: The name tf.placeholder_with_default is deprecated. Please use tf.compat.v1.placeholder_with_default instead.\n",
            "\n",
            "W0822 11:20:01.768517 139772425209728 deprecation.py:506] From /usr/local/lib/python3.6/dist-packages/keras/backend/tensorflow_backend.py:3445: calling dropout (from tensorflow.python.ops.nn_ops) with keep_prob is deprecated and will be removed in a future version.\n",
            "Instructions for updating:\n",
            "Please use `rate` instead of `keep_prob`. Rate should be set to `rate = 1 - keep_prob`.\n",
            "W0822 11:20:01.770182 139772425209728 nn_ops.py:4224] Large dropout rate: 0.8 (>0.5). In TensorFlow 2.x, dropout() uses dropout rate instead of keep_prob. Please ensure that this is intended.\n",
            "W0822 11:20:01.826234 139772425209728 deprecation_wrapper.py:119] From /usr/local/lib/python3.6/dist-packages/keras/optimizers.py:790: The name tf.train.Optimizer is deprecated. Please use tf.compat.v1.train.Optimizer instead.\n",
            "\n",
            "W0822 11:20:01.835308 139772425209728 deprecation_wrapper.py:119] From /usr/local/lib/python3.6/dist-packages/keras/backend/tensorflow_backend.py:3376: The name tf.log is deprecated. Please use tf.math.log instead.\n",
            "\n",
            "W0822 11:20:01.843163 139772425209728 deprecation.py:323] From /usr/local/lib/python3.6/dist-packages/tensorflow/python/ops/nn_impl.py:180: add_dispatch_support.<locals>.wrapper (from tensorflow.python.ops.array_ops) is deprecated and will be removed in a future version.\n",
            "Instructions for updating:\n",
            "Use tf.where in 2.0, which has the same broadcast rule as np.where\n"
          ],
          "name": "stderr"
        },
        {
          "output_type": "stream",
          "text": [
            "_________________________________________________________________\n",
            "Layer (type)                 Output Shape              Param #   \n",
            "=================================================================\n",
            "conv2d_1 (Conv2D)            (None, 613, 613, 32)      160       \n",
            "_________________________________________________________________\n",
            "activation_1 (Activation)    (None, 613, 613, 32)      0         \n",
            "_________________________________________________________________\n",
            "max_pooling2d_1 (MaxPooling2 (None, 307, 307, 32)      0         \n",
            "_________________________________________________________________\n",
            "conv2d_2 (Conv2D)            (None, 306, 306, 32)      4128      \n",
            "_________________________________________________________________\n",
            "activation_2 (Activation)    (None, 306, 306, 32)      0         \n",
            "_________________________________________________________________\n",
            "max_pooling2d_2 (MaxPooling2 (None, 153, 153, 32)      0         \n",
            "_________________________________________________________________\n",
            "conv2d_3 (Conv2D)            (None, 152, 152, 32)      4128      \n",
            "_________________________________________________________________\n",
            "activation_3 (Activation)    (None, 152, 152, 32)      0         \n",
            "_________________________________________________________________\n",
            "max_pooling2d_3 (MaxPooling2 (None, 76, 76, 32)        0         \n",
            "_________________________________________________________________\n",
            "flatten_1 (Flatten)          (None, 184832)            0         \n",
            "_________________________________________________________________\n",
            "dense_1 (Dense)              (None, 32)                5914656   \n",
            "_________________________________________________________________\n",
            "dense_2 (Dense)              (None, 32)                1056      \n",
            "_________________________________________________________________\n",
            "dense_3 (Dense)              (None, 32)                1056      \n",
            "_________________________________________________________________\n",
            "dropout_1 (Dropout)          (None, 32)                0         \n",
            "_________________________________________________________________\n",
            "dense_4 (Dense)              (None, 1)                 33        \n",
            "=================================================================\n",
            "Total params: 5,925,217\n",
            "Trainable params: 5,925,217\n",
            "Non-trainable params: 0\n",
            "_________________________________________________________________\n"
          ],
          "name": "stdout"
        }
      ]
    },
    {
      "cell_type": "code",
      "metadata": {
        "colab_type": "code",
        "id": "kvwqvHZhgnGX",
        "colab": {}
      },
      "source": [
        "import keras\n",
        "import pydot as pyd\n",
        "from IPython.display import SVG\n",
        "from keras.utils.vis_utils import model_to_dot\n",
        "\n",
        "keras.utils.vis_utils.pydot = pyd\n",
        "\n",
        "def visualize_model(model):\n",
        "  return model_to_dot(model).create(prog='dot', format='svg')\n",
        "\n",
        "model_diagram = visualize_model(model)\n",
        "\n",
        "with open('../images/adj-architecture-cnn.svg', 'wb') as f:\n",
        "    f.write(model_diagram)\n",
        "\n",
        "#SVG(model_diagram)"
      ],
      "execution_count": 0,
      "outputs": []
    },
    {
      "cell_type": "code",
      "metadata": {
        "colab_type": "code",
        "id": "gAErQWeyk8nz",
        "outputId": "a0b1ed8d-c0ee-40da-8737-19303f5eee88",
        "scrolled": true,
        "colab": {
          "base_uri": "https://localhost:8080/",
          "height": 211
        }
      },
      "source": [
        "training_batch_generator = SparseToDenseGenerator(x_train, y_train, batch_size)\n",
        "val_batch_generator = SparseToDenseGenerator(x_val, y_val, batch_size)\n",
        "\n",
        "history = model.fit_generator(\n",
        "    generator=training_batch_generator,\n",
        "    validation_data=val_batch_generator,\n",
        "    epochs=epochs,\n",
        "    steps_per_epoch=steps_per_epoch\n",
        ")"
      ],
      "execution_count": 29,
      "outputs": [
        {
          "output_type": "stream",
          "text": [
            "Epoch 1/5\n",
            "168/168 [==============================] - 3035s 18s/step - loss: 0.6095 - acc: 0.6401 - val_loss: 0.3567 - val_acc: 0.8520\n",
            "Epoch 2/5\n",
            "168/168 [==============================] - 3191s 19s/step - loss: 0.2751 - acc: 0.8835 - val_loss: 0.1672 - val_acc: 0.9361\n",
            "Epoch 3/5\n",
            "168/168 [==============================] - 3098s 18s/step - loss: 0.1819 - acc: 0.9188 - val_loss: 0.1168 - val_acc: 0.9500\n",
            "Epoch 4/5\n",
            "168/168 [==============================] - 3200s 19s/step - loss: 0.1505 - acc: 0.9260 - val_loss: 0.1332 - val_acc: 0.9477\n",
            "Epoch 5/5\n",
            "168/168 [==============================] - 3052s 18s/step - loss: 0.1463 - acc: 0.9275 - val_loss: 0.1235 - val_acc: 0.9454\n"
          ],
          "name": "stdout"
        }
      ]
    },
    {
      "cell_type": "code",
      "metadata": {
        "colab_type": "code",
        "id": "2EE3gwh6k8oE",
        "colab": {}
      },
      "source": [
        " import pickle"
      ],
      "execution_count": 0,
      "outputs": []
    },
    {
      "cell_type": "code",
      "metadata": {
        "colab_type": "code",
        "id": "Wk-asGoMk8oK",
        "colab": {}
      },
      "source": [
        "with open('../data/adjacency-matrix-model-binary.pickle','wb') as f:\n",
        "    pickle.dump(model,f)"
      ],
      "execution_count": 0,
      "outputs": []
    },
    {
      "cell_type": "code",
      "metadata": {
        "id": "JsB-XUugFEAA",
        "colab_type": "code",
        "colab": {}
      },
      "source": [
        "with open('../data/adjacency-matrix-model-binary-training-history.pickle','wb') as f:\n",
        "    pickle.dump(history,f)"
      ],
      "execution_count": 0,
      "outputs": []
    },
    {
      "cell_type": "markdown",
      "metadata": {
        "colab_type": "text",
        "id": "w3476EyA3g-V"
      },
      "source": [
        "# Evaluation"
      ]
    },
    {
      "cell_type": "code",
      "metadata": {
        "colab_type": "code",
        "id": "bQcagc2HK0c3",
        "colab": {}
      },
      "source": [
        "model = None\n",
        "with open('../data/adjacency-matrix-model-binary.pickle','rb') as f:\n",
        "    model = pickle.load(f)"
      ],
      "execution_count": 0,
      "outputs": []
    },
    {
      "cell_type": "code",
      "metadata": {
        "colab_type": "code",
        "id": "nobNI0B1k8oP",
        "outputId": "c475acfd-767e-4bb7-d836-b13646dfad79",
        "scrolled": false,
        "colab": {
          "base_uri": "https://localhost:8080/",
          "height": 34
        }
      },
      "source": [
        "test_batch_generator = SparseToDenseGenerator(x_test, y_test, batch_size)\n",
        "\n",
        "model.evaluate_generator(\n",
        "    generator=test_batch_generator,\n",
        ")"
      ],
      "execution_count": 34,
      "outputs": [
        {
          "output_type": "execute_result",
          "data": {
            "text/plain": [
              "[0.11802771000188104, 0.9404835700619243]"
            ]
          },
          "metadata": {
            "tags": []
          },
          "execution_count": 34
        }
      ]
    },
    {
      "cell_type": "markdown",
      "metadata": {
        "id": "ukjvOLbYAaKe",
        "colab_type": "text"
      },
      "source": [
        "# Visualisations"
      ]
    },
    {
      "cell_type": "code",
      "metadata": {
        "colab_type": "code",
        "id": "vnHI_fjlk8ob",
        "colab": {}
      },
      "source": [
        "import seaborn as sns\n",
        "from sklearn import metrics\n",
        "import matplotlib"
      ],
      "execution_count": 0,
      "outputs": []
    },
    {
      "cell_type": "code",
      "metadata": {
        "colab_type": "code",
        "id": "v4bFyChZOi0k",
        "colab": {}
      },
      "source": [
        "class SparseToDensePredictGenerator(keras.utils.Sequence):\n",
        "\n",
        "    def __init__(self, sparse_matrices, batch_size):\n",
        "        self.sparse_matrices = sparse_matrices\n",
        "        self.batch_size = batch_size\n",
        "\n",
        "    def __len__(self):\n",
        "        return int(np.ceil(len(self.sparse_matrices) / float(self.batch_size)))\n",
        "\n",
        "    def __getitem__(self, batch_num):\n",
        "        start_index = batch_num * self.batch_size\n",
        "        end_index = (batch_num + 1) * self.batch_size\n",
        "        \n",
        "        batch_sparse = self.sparse_matrices[start_index:end_index]\n",
        "        batch_dense = np.array([sparse_matrix.todense() for sparse_matrix in batch_sparse])\n",
        "        \n",
        "        # TODO: move this somewhere better\n",
        "        # Conv2D requires an extra dimension for \"channels\", so we need to convert our data from\n",
        "        # the shape (batch_size, matrix_rows, matrix_columns)\n",
        "        # to (batch_size, matrix_rows, matrix_columns, 1)\n",
        "        batch_dense = np.reshape(batch_dense, batch_dense.shape + (1, ))\n",
        "\n",
        "        return batch_dense"
      ],
      "execution_count": 0,
      "outputs": []
    },
    {
      "cell_type": "code",
      "metadata": {
        "colab_type": "code",
        "id": "5AJ9ozp5k8og",
        "colab": {}
      },
      "source": [
        "predict_batch_generator = SparseToDensePredictGenerator(x_test, batch_size)\n",
        "y_predict = model.predict_generator(predict_batch_generator)"
      ],
      "execution_count": 0,
      "outputs": []
    },
    {
      "cell_type": "code",
      "metadata": {
        "colab_type": "code",
        "id": "gh6M9qH-k8ok",
        "colab": {}
      },
      "source": [
        "import numpy as np"
      ],
      "execution_count": 0,
      "outputs": []
    },
    {
      "cell_type": "code",
      "metadata": {
        "colab_type": "code",
        "id": "xrvhYYmFk8oo",
        "outputId": "6879beb2-bf56-4bfc-a6ad-cae53acb1092",
        "colab": {
          "base_uri": "https://localhost:8080/",
          "height": 387
        }
      },
      "source": [
        "confusion_matrix = pd.DataFrame(\n",
        "    data=metrics.confusion_matrix(y_test, np.rint(y_predict)),\n",
        ")\n",
        "\n",
        "confusion_figure, confusion_axes = matplotlib.pyplot.subplots()\n",
        "confusion_figure.set_size_inches(8, 5)\n",
        "confusion_axes.set_title(\n",
        "    'Confusion matrix showing the frequency of \\n'\n",
        "    'correct and incorrect bug classification predictions.'\n",
        "    '\\n\\n'  # hack to avoid overlap with x-axis labels below\n",
        ")\n",
        "confusion_axes.xaxis.tick_top()  # move x-axis labels to top of matrix\n",
        "_ = sns.heatmap(\n",
        "    confusion_matrix,\n",
        "    annot=True,\n",
        "    fmt=\"d\",\n",
        "    cmap=sns.color_palette(\"Blues\"),\n",
        "    vmin=0,\n",
        "    ax=confusion_axes,\n",
        ")"
      ],
      "execution_count": 39,
      "outputs": [
        {
          "output_type": "display_data",
          "data": {
            "image/png": "[encoded data removed]",
            "text/plain": [
              "<Figure size 576x360 with 2 Axes>"
            ]
          },
          "metadata": {
            "tags": []
          }
        }
      ]
    },
    {
      "cell_type": "code",
      "metadata": {
        "colab_type": "code",
        "id": "SFlZwTBIk8o8",
        "colab": {}
      },
      "source": [
        "# from sklearn.metrics import roc_curve\n",
        "# fpr_keras, tpr_keras, thresholds_keras = roc_curve(\n",
        "#     y_test.astype(int),\n",
        "#     np.rint(y_predict),\n",
        "# )\n",
        "\n",
        "from sklearn.metrics import auc, roc_curve, precision_recall_curve, matthews_corrcoef, f1_score, roc_auc_score\n",
        "fpr_keras, tpr_keras, thresholds_keras = roc_curve(y_test, np.rint(y_predict))\n",
        "precision, recall, thresholds = precision_recall_curve(y_test, np.rint(y_predict))"
      ],
      "execution_count": 0,
      "outputs": []
    },
    {
      "cell_type": "code",
      "metadata": {
        "colab_type": "code",
        "id": "a8_7LWSmk8pI",
        "colab": {}
      },
      "source": [
        "import matplotlib.pyplot as plt\n",
        "\n",
        "auc_keras = auc(fpr_keras, tpr_keras)\n",
        "roc_auc = roc_auc_score(y_test, np.rint(y_predict))\n",
        "pr_auc = auc(recall, precision)\n",
        "f1 = f1_score(y_test, np.rint(y_predict))\n",
        "mcc = matthews_corrcoef(y_test, np.rint(y_predict))"
      ],
      "execution_count": 0,
      "outputs": []
    },
    {
      "cell_type": "code",
      "metadata": {
        "id": "8tsWTSxkAaK6",
        "colab_type": "code",
        "colab": {}
      },
      "source": [
        "with open('../data/cnn-adj-roc','wb') as f:\n",
        "    pickle.dump(auc_keras, f)\n",
        "\n",
        "with open('../data/cnn-adj-pr','wb') as f:\n",
        "   pickle.dump(pr_auc,f)"
      ],
      "execution_count": 0,
      "outputs": []
    },
    {
      "cell_type": "code",
      "metadata": {
        "id": "UFSW-kQgAaLA",
        "colab_type": "code",
        "colab": {
          "base_uri": "https://localhost:8080/",
          "height": 86
        },
        "outputId": "a4fe5541-f147-4b30-90bb-3c720b0829c1"
      },
      "source": [
        "print('PR AUC: %.3f' % pr_auc)\n",
        "print('ROC AUC: %.3f' % roc_auc)\n",
        "print('MCC: %.3f' % mcc)\n",
        "print('F1: %.3f' % f1)"
      ],
      "execution_count": 43,
      "outputs": [
        {
          "output_type": "stream",
          "text": [
            "PR AUC: 0.951\n",
            "ROC AUC: 0.940\n",
            "MCC: 0.883\n",
            "F1: 0.943\n"
          ],
          "name": "stdout"
        }
      ]
    },
    {
      "cell_type": "code",
      "metadata": {
        "colab_type": "code",
        "id": "mM9vPPIGk8pO",
        "outputId": "b29530bd-d1c2-428b-edd1-d7bf435700f6",
        "colab": {
          "base_uri": "https://localhost:8080/",
          "height": 295
        }
      },
      "source": [
        "plt.plot(fpr_keras, tpr_keras, label='Keras (area = {:.3f})'.format(auc_keras))\n",
        "plt.xlabel('False positive rate')\n",
        "plt.ylabel('True positive rate')\n",
        "plt.title('ROC curve')\n",
        "plt.legend(loc='best')\n",
        "plt.show()"
      ],
      "execution_count": 44,
      "outputs": [
        {
          "output_type": "display_data",
          "data": {
            "image/png": "[encoded data removed]",
            "text/plain": [
              "<Figure size 432x288 with 1 Axes>"
            ]
          },
          "metadata": {
            "tags": []
          }
        }
      ]
    },
    {
      "cell_type": "code",
      "metadata": {
        "colab_type": "code",
        "id": "WIxU3yLeZqk3",
        "colab": {}
      },
      "source": [
        "tn, fp, fn, tp = metrics.confusion_matrix(\n",
        "    y_test.astype(int), \n",
        "    np.rint(y_predict)\n",
        ").flatten().tolist()\n",
        "\n",
        "fpr_nn = fp/(fp+tp)\n",
        "fnr_nn = fn/(fn+tn)"
      ],
      "execution_count": 0,
      "outputs": []
    },
    {
      "cell_type": "code",
      "metadata": {
        "colab_type": "code",
        "id": "Irias0wiQ5uS",
        "outputId": "4a34bad6-c42e-4430-a86e-2ac9f18c85ed",
        "colab": {
          "base_uri": "https://localhost:8080/",
          "height": 34
        }
      },
      "source": [
        "fpr_nn, fnr_nn"
      ],
      "execution_count": 46,
      "outputs": [
        {
          "output_type": "execute_result",
          "data": {
            "text/plain": [
              "(0.08509423186750428, 0.029152542372881354)"
            ]
          },
          "metadata": {
            "tags": []
          },
          "execution_count": 46
        }
      ]
    },
    {
      "cell_type": "markdown",
      "metadata": {
        "colab_type": "text",
        "id": "u4flMJFAI1Xv"
      },
      "source": [
        "## Random Padding (translational invariance)"
      ]
    },
    {
      "cell_type": "markdown",
      "metadata": {
        "id": "pMA5YslOAaLW",
        "colab_type": "text"
      },
      "source": [
        "Preprocess Dataset"
      ]
    },
    {
      "cell_type": "code",
      "metadata": {
        "colab_type": "code",
        "id": "upphuPbjI1Xv",
        "colab": {}
      },
      "source": [
        "import random"
      ],
      "execution_count": 0,
      "outputs": []
    },
    {
      "cell_type": "code",
      "metadata": {
        "colab_type": "code",
        "id": "dgWvSwBMI1Xx",
        "colab": {}
      },
      "source": [
        "def random_padder(matrix, target_rows, target_columns):\n",
        "    '''\n",
        "    Randomly pads matrix with zeros to the desired size\n",
        "    '''\n",
        "    rows, columns = matrix.shape[0], matrix.shape[1]\n",
        "    \n",
        "    rand = random.randint(matrix.shape[0],matrix_size)\n",
        "    \n",
        "    tl_row_corrector = csr_matrix((rand-rows, rows))\n",
        "    tl_col_corrector = csr_matrix((rand, rand-columns))\n",
        "    \n",
        "    tl_matrix = vstack([tl_row_corrector, matrix])\n",
        "    tl_matrix = hstack([tl_col_corrector, tl_matrix])\n",
        "    \n",
        "    rows, columns = tl_matrix.shape[0], tl_matrix.shape[1]\n",
        "    \n",
        "    br_row_corrector = csr_matrix((target_rows-rows, rows))\n",
        "    br_col_corrector = csr_matrix((target_columns, target_columns-columns))\n",
        "\n",
        "    br_matrix = vstack([tl_matrix, br_row_corrector])\n",
        "    br_matrix = hstack([br_matrix, br_col_corrector])\n",
        "\n",
        "    br_matrix = br_matrix.astype(np.int)\n",
        "    \n",
        "    return br_matrix"
      ],
      "execution_count": 0,
      "outputs": []
    },
    {
      "cell_type": "code",
      "metadata": {
        "colab_type": "code",
        "id": "kVOpYxlTI1Xz",
        "colab": {}
      },
      "source": [
        "rand_adj_df = adj_orig_df.copy()"
      ],
      "execution_count": 0,
      "outputs": []
    },
    {
      "cell_type": "code",
      "metadata": {
        "colab_type": "code",
        "id": "hBduzZgaI1X1",
        "colab": {}
      },
      "source": [
        "rand_adj_df['matrix'] = rand_adj_df['matrix'].apply(lambda m: random_padder(m, matrix_size, matrix_size))"
      ],
      "execution_count": 0,
      "outputs": []
    },
    {
      "cell_type": "code",
      "metadata": {
        "colab_type": "code",
        "id": "9nJ4oQCII1X3",
        "colab": {}
      },
      "source": [
        "testcase_ids_rand = rand_adj_df['testcase_ID'].values\n",
        "adjacency_matrices_rand = rand_adj_df['matrix'].values\n",
        "labels_rand = rand_adj_df['bug'].values"
      ],
      "execution_count": 0,
      "outputs": []
    },
    {
      "cell_type": "code",
      "metadata": {
        "colab_type": "code",
        "id": "p_oPNdusI1X6",
        "outputId": "731e376a-f9a5-43bd-be7f-bacd0745df40",
        "colab": {
          "base_uri": "https://localhost:8080/",
          "height": 34
        }
      },
      "source": [
        "rand_adj_df.matrix.iloc[5].toarray().sum()"
      ],
      "execution_count": 0,
      "outputs": [
        {
          "output_type": "execute_result",
          "data": {
            "text/plain": [
              "778"
            ]
          },
          "metadata": {
            "tags": []
          },
          "execution_count": 38
        }
      ]
    },
    {
      "cell_type": "code",
      "metadata": {
        "colab_type": "code",
        "id": "xHjRuHUlI1X9",
        "colab": {}
      },
      "source": [
        "x_train_rand, x_test_rand, y_train_rand, y_test_rand = train_test_split(adjacency_matrices_rand, labels_rand, test_size=0.2, random_state = 0)\n",
        "x_train_rand, x_val_rand, y_train_rand, y_val_rand = train_test_split(x_train_rand, y_train_rand, test_size=0.2, random_state=0)"
      ],
      "execution_count": 0,
      "outputs": []
    },
    {
      "cell_type": "markdown",
      "metadata": {
        "colab_type": "text",
        "id": "XMjKDWWAhWYN"
      },
      "source": [
        "Training on standard padded, testing on randomly padded:"
      ]
    },
    {
      "cell_type": "code",
      "metadata": {
        "colab_type": "code",
        "id": "Ev9c9xZPI1X-",
        "outputId": "b17882c7-9dc8-414c-9ef9-46da42a7bdcd",
        "colab": {
          "base_uri": "https://localhost:8080/",
          "height": 34
        }
      },
      "source": [
        "test_batch_generator_rand = SparseToDenseGenerator(x_test_rand, y_test_rand, batch_size)\n",
        "\n",
        "model.evaluate_generator(\n",
        "    generator=test_batch_generator_rand,\n",
        ")"
      ],
      "execution_count": 0,
      "outputs": [
        {
          "output_type": "execute_result",
          "data": {
            "text/plain": [
              "[3.4999840995649043, 0.5855548693685892]"
            ]
          },
          "metadata": {
            "tags": []
          },
          "execution_count": 40
        }
      ]
    },
    {
      "cell_type": "markdown",
      "metadata": {
        "id": "dNk7e9NjAaL2",
        "colab_type": "text"
      },
      "source": [
        "58.5% accuracy"
      ]
    },
    {
      "cell_type": "markdown",
      "metadata": {
        "id": "C790MDS-AaL3",
        "colab_type": "text"
      },
      "source": [
        "Visualisations:"
      ]
    },
    {
      "cell_type": "code",
      "metadata": {
        "colab_type": "code",
        "id": "lRlOiljAI1YA",
        "colab": {}
      },
      "source": [
        "predict_batch_generator_rand = SparseToDensePredictGenerator(x_test_rand, batch_size)\n",
        "y_predict_rand = model.predict_generator(predict_batch_generator)"
      ],
      "execution_count": 0,
      "outputs": []
    },
    {
      "cell_type": "code",
      "metadata": {
        "colab_type": "code",
        "id": "fva2rs55I1YC",
        "outputId": "2ac2f748-a3a1-4d8a-9a1a-a77105b2d110",
        "colab": {
          "base_uri": "https://localhost:8080/",
          "height": 387
        }
      },
      "source": [
        "confusion_matrix = pd.DataFrame(\n",
        "    data=metrics.confusion_matrix(y_test_rand, np.rint(y_predict_rand)),\n",
        ")\n",
        "\n",
        "confusion_figure, confusion_axes = matplotlib.pyplot.subplots()\n",
        "confusion_figure.set_size_inches(8, 5)\n",
        "confusion_axes.set_title(\n",
        "    'Confusion matrix showing the frequency of \\n'\n",
        "    'correct and incorrect bug classification predictions.'\n",
        "    '\\n\\n'  # hack to avoid overlap with x-axis labels below\n",
        ")\n",
        "confusion_axes.xaxis.tick_top()  # move x-axis labels to top of matrix\n",
        "_ = sns.heatmap(\n",
        "    confusion_matrix,\n",
        "    annot=True,\n",
        "    fmt=\"d\",\n",
        "    cmap=sns.color_palette(\"Blues\"),\n",
        "    vmin=0,\n",
        "    ax=confusion_axes,\n",
        ")"
      ],
      "execution_count": 0,
      "outputs": [
        {
          "output_type": "display_data",
          "data": {
            "image/png": "[encoded data removed]",
            "text/plain": [
              "<Figure size 576x360 with 2 Axes>"
            ]
          },
          "metadata": {
            "tags": []
          }
        }
      ]
    },
    {
      "cell_type": "code",
      "metadata": {
        "colab_type": "code",
        "id": "myk4AWEgI1YE",
        "colab": {}
      },
      "source": [
        "# fpr_keras, tpr_keras, thresholds_keras = roc_curve(\n",
        "#     y_test_rand.astype(int),\n",
        "#     np.rint(y_predict_rand),\n",
        "# )\n",
        "\n",
        "fpr_keras, tpr_keras, thresholds_keras = roc_curve(y_test_rand.astype(int), np.rint(y_predict_rand))\n",
        "precision, recall, thresholds = precision_recall_curve(y_test_rand.astype(int), np.rint(y_predict_rand))"
      ],
      "execution_count": 0,
      "outputs": []
    },
    {
      "cell_type": "code",
      "metadata": {
        "colab_type": "code",
        "id": "7obV4AVPI1YF",
        "colab": {}
      },
      "source": [
        "auc_keras = auc(fpr_keras, tpr_keras)\n",
        "roc_auc = roc_auc_score(y_test_rand.astype(int), np.rint(y_predict_rand))\n",
        "pr_auc = auc(recall, precision)\n",
        "f1 = f1_score(y_test_rand.astype(int), np.rint(y_predict_rand))\n",
        "mcc = matthews_corrcoef(y_test_rand.astype(int), np.rint(y_predict_rand))\n",
        "\n",
        "print('PR AUC: %.3f' % pr_auc)\n",
        "print('ROC AUC: %.3f' % roc_auc)\n",
        "print('MCC: %.3f' % mcc)\n",
        "print('F1: %.3f' % f1)"
      ],
      "execution_count": 0,
      "outputs": []
    },
    {
      "cell_type": "code",
      "metadata": {
        "colab_type": "code",
        "id": "CYPWJyvDI1YG",
        "outputId": "566441ac-599d-42e7-fc2f-1f21632cf8c3",
        "colab": {
          "base_uri": "https://localhost:8080/",
          "height": 295
        }
      },
      "source": [
        "plt.plot(fpr_keras, tpr_keras, label='Keras (area = {:.3f})'.format(auc_keras))\n",
        "plt.xlabel('False positive rate')\n",
        "plt.ylabel('True positive rate')\n",
        "plt.title('ROC curve')\n",
        "plt.legend(loc='best')\n",
        "plt.show()"
      ],
      "execution_count": 0,
      "outputs": [
        {
          "output_type": "display_data",
          "data": {
            "image/png": "[encoded data removed]",
            "text/plain": [
              "<Figure size 432x288 with 1 Axes>"
            ]
          },
          "metadata": {
            "tags": []
          }
        }
      ]
    },
    {
      "cell_type": "code",
      "metadata": {
        "colab_type": "code",
        "id": "aF1JbmH7I1YH",
        "colab": {}
      },
      "source": [
        "tn, fp, fn, tp = metrics.confusion_matrix(\n",
        "    y_test_rand.astype(int), \n",
        "    np.rint(y_predict_rand)\n",
        ").flatten().tolist()\n",
        "\n",
        "fpr_nn = fp/(fp+tp)\n",
        "fnr_nn = fn/(fn+tn)"
      ],
      "execution_count": 0,
      "outputs": []
    },
    {
      "cell_type": "code",
      "metadata": {
        "id": "tY-H5ws6AaMS",
        "colab_type": "code",
        "colab": {}
      },
      "source": [
        "fpr_nn, fnr_nn"
      ],
      "execution_count": 0,
      "outputs": []
    },
    {
      "cell_type": "markdown",
      "metadata": {
        "colab_type": "text",
        "id": "K5NSAb-yMRAT"
      },
      "source": [
        "58% accuracy with 3x as more false negatives as there are false positives so our neural network is not learning what we had originally assumed."
      ]
    },
    {
      "cell_type": "markdown",
      "metadata": {
        "colab_type": "text",
        "id": "1VWExCq6iUMC"
      },
      "source": [
        "Now we will use random padding for both training and testing:"
      ]
    },
    {
      "cell_type": "code",
      "metadata": {
        "colab_type": "code",
        "id": "aNCjGx8jiTPK",
        "outputId": "1942ad1a-5b31-4413-9273-32acfcf8f2c4",
        "colab": {
          "base_uri": "https://localhost:8080/",
          "height": 646
        }
      },
      "source": [
        "model_rand = Sequential()\n",
        "\n",
        "model_rand.add(Conv2D(\n",
        "    data_format='channels_last',\n",
        "    input_shape=(matrix_size, matrix_size, 1),\n",
        "    filters=32,\n",
        "    kernel_size=kernel_size,\n",
        "    strides=strides,\n",
        "))\n",
        "model_rand.add(Activation('relu'))\n",
        "model_rand.add(MaxPooling2D(kernel_size, padding='same'))\n",
        "\n",
        "model_rand.add(Conv2D(\n",
        "    data_format='channels_last',\n",
        "    input_shape=(matrix_size, matrix_size, 1),\n",
        "    filters=32,\n",
        "    kernel_size=kernel_size,\n",
        "    strides=strides,\n",
        "    activation='relu',\n",
        "))\n",
        "model_rand.add(Activation('relu'))\n",
        "model_rand.add(MaxPooling2D(kernel_size, padding='same'))\n",
        "\n",
        "model_rand.add(Conv2D(\n",
        "    data_format='channels_last',\n",
        "    input_shape=(matrix_size, matrix_size, 1),\n",
        "    filters=32,\n",
        "    kernel_size=kernel_size,\n",
        "    strides=strides,\n",
        "    activation='relu',\n",
        "))\n",
        "model_rand.add(Activation('relu'))\n",
        "model_rand.add(MaxPooling2D(kernel_size, padding='same'))\n",
        "\n",
        "model_rand.add(Flatten())\n",
        "\n",
        "model_rand.add(Dense(units=32, activation='relu'))\n",
        "model_rand.add(Dense(units=32, activation='relu'))\n",
        "model_rand.add(Dense(units=32, activation='relu'))\n",
        "\n",
        "model_rand.add(Dropout(0.8))\n",
        "\n",
        "model_rand.add(Dense(units=1, activation='sigmoid'))\n",
        "\n",
        "model_rand.compile(optimizer=Adam(), loss='binary_crossentropy', metrics=['accuracy'])\n",
        "\n",
        "model_rand.summary()"
      ],
      "execution_count": 0,
      "outputs": [
        {
          "output_type": "stream",
          "text": [
            "_________________________________________________________________\n",
            "Layer (type)                 Output Shape              Param #   \n",
            "=================================================================\n",
            "conv2d_1 (Conv2D)            (None, 613, 613, 32)      160       \n",
            "_________________________________________________________________\n",
            "activation_1 (Activation)    (None, 613, 613, 32)      0         \n",
            "_________________________________________________________________\n",
            "max_pooling2d_1 (MaxPooling2 (None, 307, 307, 32)      0         \n",
            "_________________________________________________________________\n",
            "conv2d_2 (Conv2D)            (None, 306, 306, 32)      4128      \n",
            "_________________________________________________________________\n",
            "activation_2 (Activation)    (None, 306, 306, 32)      0         \n",
            "_________________________________________________________________\n",
            "max_pooling2d_2 (MaxPooling2 (None, 153, 153, 32)      0         \n",
            "_________________________________________________________________\n",
            "conv2d_3 (Conv2D)            (None, 152, 152, 32)      4128      \n",
            "_________________________________________________________________\n",
            "activation_3 (Activation)    (None, 152, 152, 32)      0         \n",
            "_________________________________________________________________\n",
            "max_pooling2d_3 (MaxPooling2 (None, 76, 76, 32)        0         \n",
            "_________________________________________________________________\n",
            "flatten_1 (Flatten)          (None, 184832)            0         \n",
            "_________________________________________________________________\n",
            "dense_1 (Dense)              (None, 32)                5914656   \n",
            "_________________________________________________________________\n",
            "dense_2 (Dense)              (None, 32)                1056      \n",
            "_________________________________________________________________\n",
            "dense_3 (Dense)              (None, 32)                1056      \n",
            "_________________________________________________________________\n",
            "dropout_1 (Dropout)          (None, 32)                0         \n",
            "_________________________________________________________________\n",
            "dense_4 (Dense)              (None, 1)                 33        \n",
            "=================================================================\n",
            "Total params: 5,925,217\n",
            "Trainable params: 5,925,217\n",
            "Non-trainable params: 0\n",
            "_________________________________________________________________\n"
          ],
          "name": "stdout"
        }
      ]
    },
    {
      "cell_type": "code",
      "metadata": {
        "colab_type": "code",
        "id": "LTeg_UMwijqX",
        "outputId": "3369c245-4bb9-46e0-ada9-0b8d4cfe9c07",
        "colab": {
          "base_uri": "https://localhost:8080/",
          "height": 224
        }
      },
      "source": [
        "training_batch_generator_rand = SparseToDenseGenerator(x_train_rand, y_train_rand, batch_size)\n",
        "val_batch_generator_rand = SparseToDenseGenerator(x_val_rand, y_val_rand, batch_size)\n",
        "\n",
        "history_rand = model_rand.fit_generator(\n",
        "    generator=training_batch_generator_rand,\n",
        "    validation_data=val_batch_generator_rand,\n",
        "    epochs=epochs,\n",
        "    steps_per_epoch=steps_per_epoch\n",
        ")"
      ],
      "execution_count": 0,
      "outputs": [
        {
          "output_type": "stream",
          "text": [
            "Epoch 1/5\n",
            "168/168 [==============================] - 2422s 14s/step - loss: 0.6553 - acc: 0.5916\n",
            "Epoch 2/5\n",
            "168/168 [==============================] - 2401s 14s/step - loss: 0.3820 - acc: 0.8257\n",
            "Epoch 3/5\n",
            "168/168 [==============================] - 2414s 14s/step - loss: 0.1448 - acc: 0.9459\n",
            "Epoch 4/5\n",
            "168/168 [==============================] - 2418s 14s/step - loss: 0.0904 - acc: 0.9680\n",
            "Epoch 5/5\n",
            "168/168 [==============================] - 2440s 15s/step - loss: 0.0610 - acc: 0.9779\n"
          ],
          "name": "stdout"
        },
        {
          "output_type": "execute_result",
          "data": {
            "text/plain": [
              "<keras.callbacks.History at 0x7f0f50c39550>"
            ]
          },
          "metadata": {
            "tags": []
          },
          "execution_count": 33
        }
      ]
    },
    {
      "cell_type": "code",
      "metadata": {
        "colab_type": "code",
        "id": "cA2Ce-l5dIda",
        "colab": {}
      },
      "source": [
        "with open('../data/adjacency-matrix-model-random-padding.pickle','wb') as f:\n",
        "    pickle.dump(model_rand,f)\n",
        "\n",
        "with open('../data/adjacency-matrix-model-random-training-history.pickle','wb') as f:\n",
        "    pickle.dump(history,f)"
      ],
      "execution_count": 0,
      "outputs": []
    },
    {
      "cell_type": "code",
      "metadata": {
        "colab_type": "code",
        "id": "cStFNyNDzUwi",
        "colab": {}
      },
      "source": [
        "model_rand = None\n",
        "with open('../data/adjacency-matrix-model-random-padding.pickle','rb') as f:\n",
        "    model_rand = pickle.load(f)"
      ],
      "execution_count": 0,
      "outputs": []
    },
    {
      "cell_type": "code",
      "metadata": {
        "colab_type": "code",
        "id": "vEVZyBqXjN0E",
        "outputId": "df0eaa0a-6c28-4d43-b7d9-f6f58c1fd2fa",
        "colab": {
          "base_uri": "https://localhost:8080/",
          "height": 34
        }
      },
      "source": [
        "test_batch_generator_rand = SparseToDenseGenerator(x_test_rand, y_test_rand, batch_size)\n",
        "\n",
        "model_rand.evaluate_generator(\n",
        "    generator=test_batch_generator_rand,\n",
        ")"
      ],
      "execution_count": 0,
      "outputs": [
        {
          "output_type": "execute_result",
          "data": {
            "text/plain": [
              "[0.18665227448245567, 0.9432734045935062]"
            ]
          },
          "metadata": {
            "tags": []
          },
          "execution_count": 36
        }
      ]
    },
    {
      "cell_type": "markdown",
      "metadata": {
        "id": "w1kVfqQyAaM1",
        "colab_type": "text"
      },
      "source": [
        "94.3% accuracy"
      ]
    },
    {
      "cell_type": "markdown",
      "metadata": {
        "id": "zoGsl2sFAaM2",
        "colab_type": "text"
      },
      "source": [
        "Visualisations:"
      ]
    },
    {
      "cell_type": "code",
      "metadata": {
        "colab_type": "code",
        "id": "WTsj5GpNdU1T",
        "colab": {}
      },
      "source": [
        "predict_batch_generator_rand = SparseToDensePredictGenerator(x_test_rand, batch_size)\n",
        "y_predict_rand = model_rand.predict_generator(predict_batch_generator_rand)"
      ],
      "execution_count": 0,
      "outputs": []
    },
    {
      "cell_type": "code",
      "metadata": {
        "colab_type": "code",
        "id": "8mEJ60xPeuMy",
        "outputId": "75586119-1852-4ea8-e47f-a2ec7feff7d5",
        "colab": {
          "base_uri": "https://localhost:8080/",
          "height": 387
        }
      },
      "source": [
        "confusion_matrix = pd.DataFrame(\n",
        "    data=metrics.confusion_matrix(y_test_rand, np.rint(y_predict_rand)),\n",
        ")\n",
        "\n",
        "confusion_figure, confusion_axes = matplotlib.pyplot.subplots()\n",
        "confusion_figure.set_size_inches(8, 5)\n",
        "confusion_axes.set_title(\n",
        "    'Confusion matrix showing the frequency of \\n'\n",
        "    'correct and incorrect bug classification predictions.'\n",
        "    '\\n\\n'  # hack to avoid overlap with x-axis labels below\n",
        ")\n",
        "confusion_axes.xaxis.tick_top()  # move x-axis labels to top of matrix\n",
        "_ = sns.heatmap(\n",
        "    confusion_matrix,\n",
        "    annot=True,\n",
        "    fmt=\"d\",\n",
        "    cmap=sns.color_palette(\"Blues\"),\n",
        "    vmin=0,\n",
        "    ax=confusion_axes,\n",
        ")"
      ],
      "execution_count": 0,
      "outputs": [
        {
          "output_type": "display_data",
          "data": {
            "image/png": "[encoded data removed]",
            "text/plain": [
              "<Figure size 576x360 with 2 Axes>"
            ]
          },
          "metadata": {
            "tags": []
          }
        }
      ]
    },
    {
      "cell_type": "code",
      "metadata": {
        "colab_type": "code",
        "id": "77zdFNcNe4JM",
        "colab": {}
      },
      "source": [
        "# from sklearn.metrics import roc_curve\n",
        "# fpr_keras, tpr_keras, thresholds_keras = roc_curve(\n",
        "#     y_test_rand.astype(int),\n",
        "#     np.rint(y_predict_rand),\n",
        "# )\n",
        "\n",
        "fpr_keras, tpr_keras, thresholds_keras = roc_curve(y_test_rand.astype(int), np.rint(y_predict_rand))\n",
        "precision, recall, thresholds = precision_recall_curve(y_test_rand.astype(int), np.rint(y_predict_rand))"
      ],
      "execution_count": 0,
      "outputs": []
    },
    {
      "cell_type": "code",
      "metadata": {
        "colab_type": "code",
        "id": "1Yhq-7AGfAMI",
        "colab": {}
      },
      "source": [
        "auc_keras = auc(fpr_keras, tpr_keras)\n",
        "roc_auc = roc_auc_score(y_test_rand.astype(int), np.rint(y_predict_rand))\n",
        "pr_auc = auc(recall, precision)\n",
        "f1 = f1_score(y_test_rand.astype(int), np.rint(y_predict_rand))\n",
        "mcc = matthews_corrcoef(y_test_rand.astype(int), np.rint(y_predict_rand))\n",
        "\n",
        "print('PR AUC: %.3f' % pr_auc)\n",
        "print('ROC AUC: %.3f' % roc_auc)\n",
        "print('MCC: %.3f' % mcc)\n",
        "print('F1: %.3f' % f1)"
      ],
      "execution_count": 0,
      "outputs": []
    },
    {
      "cell_type": "code",
      "metadata": {
        "id": "W1mg8q_ZAaNK",
        "colab_type": "code",
        "colab": {}
      },
      "source": [
        "with open('../data/cnn-adj-rand-pad-roc','wb') as f:\n",
        "    pickle.dump(auc_keras, f)\n",
        "\n",
        "with open('../data/cnn-adj-rand-pr','wb') as f:\n",
        "   pickle.dump(pr_auc,f)"
      ],
      "execution_count": 0,
      "outputs": []
    },
    {
      "cell_type": "code",
      "metadata": {
        "colab_type": "code",
        "id": "M1JuBOORfgSm",
        "outputId": "71d89895-02b6-419c-92d8-c9c9bdf8a4dc",
        "colab": {
          "base_uri": "https://localhost:8080/",
          "height": 295
        }
      },
      "source": [
        "plt.plot(fpr_keras, tpr_keras, label='Keras (area = {:.3f})'.format(auc_keras))\n",
        "plt.xlabel('False positive rate')\n",
        "plt.ylabel('True positive rate')\n",
        "plt.title('ROC curve')\n",
        "plt.legend(loc='best')\n",
        "plt.show()"
      ],
      "execution_count": 0,
      "outputs": [
        {
          "output_type": "display_data",
          "data": {
            "image/png": "[encoded data removed]",
            "text/plain": [
              "<Figure size 432x288 with 1 Axes>"
            ]
          },
          "metadata": {
            "tags": []
          }
        }
      ]
    },
    {
      "cell_type": "code",
      "metadata": {
        "colab_type": "code",
        "id": "WuUuvFvBfkkd",
        "colab": {}
      },
      "source": [
        "tn, fp, fn, tp = metrics.confusion_matrix(\n",
        "    y_test_rand.astype(int), \n",
        "    np.rint(y_predict_rand)\n",
        ").flatten().tolist()\n",
        "\n",
        "fpr_nn = fp/(fp+tp)\n",
        "fnr_nn = fn/(fn+tn)"
      ],
      "execution_count": 0,
      "outputs": []
    },
    {
      "cell_type": "markdown",
      "metadata": {
        "colab_type": "text",
        "id": "ZZprpN3AzgWx"
      },
      "source": [
        "Now testing the model on standard padded matrices when trained on random padding:"
      ]
    },
    {
      "cell_type": "code",
      "metadata": {
        "colab_type": "code",
        "id": "O9z9ppFPf98M",
        "outputId": "a93c2e88-4117-4f8e-d965-f079241768cd",
        "colab": {
          "base_uri": "https://localhost:8080/",
          "height": 34
        }
      },
      "source": [
        "test_batch_generator = SparseToDenseGenerator(x_test, y_test, batch_size)\n",
        "\n",
        "model_rand.evaluate_generator(\n",
        "    generator=test_batch_generator,\n",
        ")"
      ],
      "execution_count": 0,
      "outputs": [
        {
          "output_type": "execute_result",
          "data": {
            "text/plain": [
              "[0.213629653004113, 0.9076255446846118]"
            ]
          },
          "metadata": {
            "tags": []
          },
          "execution_count": 44
        }
      ]
    },
    {
      "cell_type": "markdown",
      "metadata": {
        "id": "xLi4iE7YAaNW",
        "colab_type": "text"
      },
      "source": [
        "90.7% accuracy"
      ]
    },
    {
      "cell_type": "markdown",
      "metadata": {
        "id": "--2Rn1aEDC1h",
        "colab_type": "text"
      },
      "source": [
        ""
      ]
    }
  ]
}