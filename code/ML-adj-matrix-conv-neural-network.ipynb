{
 "cells": [
  {
   "cell_type": "markdown",
   "metadata": {
    "colab_type": "text",
    "id": "WD7BVc9Bk8jQ"
   },
   "source": [
    "(Uncompleted) Notebook for training and testing the baseline neural network model using adjacency matrices of the AST format of the buffer overflow datapoints. In order for the matrices to be fed into the neural network, they must all be of the same dimensions. We currently pick a subset of the data with small-ish AST matrices (614x614)"
   ]
  },
  {
   "cell_type": "markdown",
   "metadata": {
    "colab_type": "text",
    "id": "K4oesAZzmRhL"
   },
   "source": [
    "# Colab Setup"
   ]
  },
  {
   "cell_type": "code",
   "execution_count": 1,
   "metadata": {
    "colab": {
     "base_uri": "https://localhost:8080/",
     "height": 1000
    },
    "colab_type": "code",
    "id": "W3hzFsJWtCn-",
    "outputId": "3a890244-ed73-4608-bf1f-611e8550657a"
   },
   "outputs": [
    {
     "name": "stdout",
     "output_type": "stream",
     "text": [
      "--2019-07-30 11:40:48--  https://github.com/dj311/uob-summer-project/raw/master/data/adj.pickle\n",
      "Resolving github.com (github.com)... 140.82.114.3\n",
      "Connecting to github.com (github.com)|140.82.114.3|:443... connected.\n",
      "HTTP request sent, awaiting response... 302 Found\n",
      "Location: https://media.githubusercontent.com/media/dj311/uob-summer-project/master/data/adj.pickle [following]\n",
      "--2019-07-30 11:40:48--  https://media.githubusercontent.com/media/dj311/uob-summer-project/master/data/adj.pickle\n",
      "Resolving media.githubusercontent.com (media.githubusercontent.com)... 151.101.0.133, 151.101.64.133, 151.101.128.133, ...\n",
      "Connecting to media.githubusercontent.com (media.githubusercontent.com)|151.101.0.133|:443... connected.\n",
      "HTTP request sent, awaiting response... 200 OK\n",
      "Length: 1320521199 (1.2G) [application/octet-stream]\n",
      "Saving to: ‘adj.pickle’\n",
      "\n",
      "adj.pickle          100%[===================>]   1.23G   232MB/s    in 5.6s    \n",
      "\n",
      "2019-07-30 11:41:08 (223 MB/s) - ‘adj.pickle’ saved [1320521199/1320521199]\n",
      "\n",
      "--2019-07-30 11:41:09--  https://github.com/dj311/uob-summer-project/raw/master/data/buffer_overflow_data.csv.gz\n",
      "Resolving github.com (github.com)... 140.82.114.3\n",
      "Connecting to github.com (github.com)|140.82.114.3|:443... connected.\n",
      "HTTP request sent, awaiting response... 302 Found\n",
      "Location: https://media.githubusercontent.com/media/dj311/uob-summer-project/master/data/buffer_overflow_data.csv.gz [following]\n",
      "--2019-07-30 11:41:10--  https://media.githubusercontent.com/media/dj311/uob-summer-project/master/data/buffer_overflow_data.csv.gz\n",
      "Resolving media.githubusercontent.com (media.githubusercontent.com)... 151.101.0.133, 151.101.64.133, 151.101.128.133, ...\n",
      "Connecting to media.githubusercontent.com (media.githubusercontent.com)|151.101.0.133|:443... connected.\n",
      "HTTP request sent, awaiting response... 200 OK\n",
      "Length: 3008729 (2.9M) [application/octet-stream]\n",
      "Saving to: ‘buffer_overflow_data.csv.gz’\n",
      "\n",
      "buffer_overflow_dat 100%[===================>]   2.87M  --.-KB/s    in 0.08s   \n",
      "\n",
      "2019-07-30 11:41:10 (38.2 MB/s) - ‘buffer_overflow_data.csv.gz’ saved [3008729/3008729]\n",
      "\n",
      "--2019-07-30 11:41:11--  https://github.com/dj311/uob-summer-project/raw/master/data/adjacency-matrix-model-binary.pickle\n",
      "Resolving github.com (github.com)... 140.82.114.3\n",
      "Connecting to github.com (github.com)|140.82.114.3|:443... connected.\n",
      "HTTP request sent, awaiting response... 302 Found\n",
      "Location: https://media.githubusercontent.com/media/dj311/uob-summer-project/master/data/adjacency-matrix-model-binary.pickle [following]\n",
      "--2019-07-30 11:41:11--  https://media.githubusercontent.com/media/dj311/uob-summer-project/master/data/adjacency-matrix-model-binary.pickle\n",
      "Resolving media.githubusercontent.com (media.githubusercontent.com)... 151.101.0.133, 151.101.64.133, 151.101.128.133, ...\n",
      "Connecting to media.githubusercontent.com (media.githubusercontent.com)|151.101.0.133|:443... connected.\n",
      "HTTP request sent, awaiting response... 200 OK\n",
      "Length: 71124065 (68M) [application/octet-stream]\n",
      "Saving to: ‘adjacency-matrix-model-binary.pickle’\n",
      "\n",
      "adjacency-matrix-mo 100%[===================>]  67.83M   170MB/s    in 0.4s    \n",
      "\n",
      "2019-07-30 11:41:12 (170 MB/s) - ‘adjacency-matrix-model-binary.pickle’ saved [71124065/71124065]\n",
      "\n",
      "/project/code\n"
     ]
    }
   ],
   "source": [
    "!mkdir -p /project/data && cd /project/data && wget -O adj.pickle https://github.com/dj311/uob-summer-project/raw/master/data/adj.pickle\n",
    "!mkdir -p /project/data && cd /project/data && wget -O buffer_overflow_data.csv.gz https://github.com/dj311/uob-summer-project/raw/master/data/buffer_overflow_data.csv.gz\n",
    "!mkdir -p /project/data && cd /project/data && wget -O adjacency-matrix-model-binary.pickle https://github.com/dj311/uob-summer-project/raw/master/data/adjacency-matrix-model-binary.pickle\n",
    "!mkdir -p /project/code\n",
    "%cd /project/code"
   ]
  },
  {
   "cell_type": "markdown",
   "metadata": {
    "colab_type": "text",
    "id": "lO9-8NDKk8ja"
   },
   "source": [
    "# Import & Preprocess Dataset\n",
    "\n",
    "First we import the data from the [previous notebook](./adjacency_matrix.ipynb).\n"
   ]
  },
  {
   "cell_type": "code",
   "execution_count": 2,
   "metadata": {},
   "outputs": [
    {
     "name": "stdout",
     "output_type": "stream",
     "text": [
      "Collecting sklearn\n",
      "  Downloading https://files.pythonhosted.org/packages/1e/7a/dbb3be0ce9bd5c8b7e3d87328e79063f8b263b2b1bfa4774cb1147bfcd3f/sklearn-0.0.tar.gz\n",
      "Collecting scikit-learn (from sklearn)\n",
      "\u001b[?25l  Downloading https://files.pythonhosted.org/packages/9f/c5/e5267eb84994e9a92a2c6a6ee768514f255d036f3c8378acfa694e9f2c99/scikit_learn-0.21.3-cp37-cp37m-manylinux1_x86_64.whl (6.7MB)\n",
      "\u001b[K     |████████████████████████████████| 6.7MB 4.0MB/s eta 0:00:01     |█████████████████████           | 4.4MB 4.0MB/s eta 0:00:01     |████████████████████████▍       | 5.1MB 4.0MB/s eta 0:00:01     |██████████████████████████      | 5.5MB 4.0MB/s eta 0:00:01     |████████████████████████████    | 5.8MB 4.0MB/s eta 0:00:01\n",
      "\u001b[?25hRequirement already satisfied: scipy>=0.17.0 in /usr/local/lib/python3.7/dist-packages (from scikit-learn->sklearn) (1.3.0)\n",
      "Requirement already satisfied: numpy>=1.11.0 in /usr/local/lib/python3.7/dist-packages (from scikit-learn->sklearn) (1.16.4)\n",
      "Requirement already satisfied: joblib>=0.11 in /usr/local/lib/python3.7/dist-packages (from scikit-learn->sklearn) (0.13.0)\n",
      "Building wheels for collected packages: sklearn\n",
      "  Building wheel for sklearn (setup.py) ... \u001b[?25ldone\n",
      "\u001b[?25h  Stored in directory: /root/.cache/pip/wheels/76/03/bb/589d421d27431bcd2c6da284d5f2286c8e3b2ea3cf1594c074\n",
      "Successfully built sklearn\n",
      "Installing collected packages: scikit-learn, sklearn\n",
      "Successfully installed scikit-learn-0.21.3 sklearn-0.0\n",
      "\u001b[33mWARNING: You are using pip version 19.1.1, however version 19.2.1 is available.\n",
      "You should consider upgrading via the 'pip install --upgrade pip' command.\u001b[0m\n"
     ]
    }
   ],
   "source": [
    "!pip install sklearn"
   ]
  },
  {
   "cell_type": "code",
   "execution_count": 1,
   "metadata": {
    "colab": {
     "base_uri": "https://localhost:8080/",
     "height": 34
    },
    "colab_type": "code",
    "id": "uB5QGgAgk8je",
    "outputId": "8adf4805-ba50-4b03-b4da-c2dcf895a0e7"
   },
   "outputs": [
    {
     "name": "stderr",
     "output_type": "stream",
     "text": [
      "Using TensorFlow backend.\n"
     ]
    }
   ],
   "source": [
    "import tensorflow as tf\n",
    "import keras\n",
    "import sklearn\n",
    "import numpy as np\n",
    "import pickle\n",
    "from scipy.sparse import csr_matrix, hstack, vstack\n",
    "from sklearn.model_selection import train_test_split\n",
    "\n",
    "\n",
    "run_opts = tf.RunOptions(report_tensor_allocations_upon_oom = True)\n",
    "np.random.seed(1248)\n",
    "\n",
    "tf.logging.set_verbosity(tf.logging.INFO)"
   ]
  },
  {
   "cell_type": "code",
   "execution_count": 2,
   "metadata": {
    "colab": {},
    "colab_type": "code",
    "id": "CGIbzYT0k8jz"
   },
   "outputs": [],
   "source": [
    "import pandas as pd"
   ]
  },
  {
   "cell_type": "code",
   "execution_count": 3,
   "metadata": {
    "colab": {},
    "colab_type": "code",
    "id": "NQwMY_iLk8kC"
   },
   "outputs": [],
   "source": [
    "data = pd.read_csv('../data/buffer_overflow_data.csv.gz')"
   ]
  },
  {
   "cell_type": "code",
   "execution_count": 4,
   "metadata": {
    "colab": {},
    "colab_type": "code",
    "id": "76z9869-k8kQ"
   },
   "outputs": [],
   "source": [
    "labels = data.copy()\n",
    "del labels['Unnamed: 0']\n",
    "del labels['Unnamed: 0.1']\n",
    "del labels['filename']\n",
    "del labels['code']\n",
    "del labels['flaw']\n",
    "del labels['flaw_loc']\n",
    "labels = labels.drop_duplicates().sort_values('testcase_ID').reset_index(drop=True)"
   ]
  },
  {
   "cell_type": "code",
   "execution_count": 5,
   "metadata": {
    "colab": {},
    "colab_type": "code",
    "id": "AyqJFOtWk8kg"
   },
   "outputs": [],
   "source": [
    "with open(\"../data/adj.pickle\",'rb') as f:\n",
    "    adj = pickle.load(f)"
   ]
  },
  {
   "cell_type": "code",
   "execution_count": 6,
   "metadata": {
    "colab": {},
    "colab_type": "code",
    "id": "PHikMdozk8k1"
   },
   "outputs": [],
   "source": [
    "adj = adj.rename(columns={0: 'testcase_ID', 1: 'matrix'})"
   ]
  },
  {
   "cell_type": "code",
   "execution_count": 7,
   "metadata": {
    "colab": {},
    "colab_type": "code",
    "id": "pIdnRsBjk8k-"
   },
   "outputs": [],
   "source": [
    "adj_df = pd.merge(labels, adj, on='testcase_ID')"
   ]
  },
  {
   "cell_type": "code",
   "execution_count": 8,
   "metadata": {
    "colab": {},
    "colab_type": "code",
    "id": "s-qHa46Vk8lK"
   },
   "outputs": [],
   "source": [
    "adj_df = adj_df[['testcase_ID', 'matrix', 'bug']]"
   ]
  },
  {
   "cell_type": "markdown",
   "metadata": {
    "colab_type": "text",
    "id": "qB06ooxxo--s"
   },
   "source": [
    "Next, find out the maximum size of an adjacency matrix, then convert all matrices to have the same dimension."
   ]
  },
  {
   "cell_type": "code",
   "execution_count": 9,
   "metadata": {
    "colab": {},
    "colab_type": "code",
    "id": "HNY1UrHJk8lg"
   },
   "outputs": [],
   "source": [
    "adj_df['matrix_size'] = adj_df.matrix.apply(lambda x: x.shape[0])"
   ]
  },
  {
   "cell_type": "code",
   "execution_count": 12,
   "metadata": {
    "colab": {
     "base_uri": "https://localhost:8080/",
     "height": 170
    },
    "colab_type": "code",
    "id": "p6zGXUxbk8l1",
    "outputId": "ed13cbcb-513c-4d2f-bda2-c82cb3632d4e"
   },
   "outputs": [
    {
     "data": {
      "text/plain": [
       "count    21502.000000\n",
       "mean      2186.138778\n",
       "std       7239.752920\n",
       "min          4.000000\n",
       "25%        349.000000\n",
       "50%        396.000000\n",
       "75%        614.000000\n",
       "max      44401.000000\n",
       "Name: matrix_size, dtype: float64"
      ]
     },
     "execution_count": 12,
     "metadata": {},
     "output_type": "execute_result"
    }
   ],
   "source": [
    "adj_df['matrix_size'].describe()"
   ]
  },
  {
   "cell_type": "markdown",
   "metadata": {
    "colab_type": "text",
    "id": "VlN1pb2SJW2i"
   },
   "source": [
    "So we know that 75% of the dataset has a matrix size <= 614, which is approximately 18000 datapoints. Picking the full dataset would require matrices of dimension 44401x44401 which require 15 gb of memory each. This is isn't feasible, however picking matrices of size 614x614 or less gives a per matrix size of 3.38mb - far more manageable!"
   ]
  },
  {
   "cell_type": "code",
   "execution_count": 10,
   "metadata": {
    "colab": {
     "base_uri": "https://localhost:8080/",
     "height": 34
    },
    "colab_type": "code",
    "id": "JXR174VPKKzR",
    "outputId": "a91d821e-1f41-4b20-f9ae-37576810f584"
   },
   "outputs": [
    {
     "data": {
      "text/plain": [
       "16128"
      ]
     },
     "execution_count": 10,
     "metadata": {},
     "output_type": "execute_result"
    }
   ],
   "source": [
    "matrix_size = 614\n",
    "adj_df = adj_df[adj_df['matrix_size'] <= matrix_size]\n",
    "len(adj_df)"
   ]
  },
  {
   "cell_type": "code",
   "execution_count": 11,
   "metadata": {},
   "outputs": [
    {
     "data": {
      "text/html": [
       "<div>\n",
       "<style scoped>\n",
       "    .dataframe tbody tr th:only-of-type {\n",
       "        vertical-align: middle;\n",
       "    }\n",
       "\n",
       "    .dataframe tbody tr th {\n",
       "        vertical-align: top;\n",
       "    }\n",
       "\n",
       "    .dataframe thead th {\n",
       "        text-align: right;\n",
       "    }\n",
       "</style>\n",
       "<table border=\"1\" class=\"dataframe\">\n",
       "  <thead>\n",
       "    <tr style=\"text-align: right;\">\n",
       "      <th></th>\n",
       "      <th>testcase_ID</th>\n",
       "      <th>matrix</th>\n",
       "      <th>bug</th>\n",
       "      <th>matrix_size</th>\n",
       "    </tr>\n",
       "  </thead>\n",
       "  <tbody>\n",
       "    <tr>\n",
       "      <th>0</th>\n",
       "      <td>-234271</td>\n",
       "      <td>(0, 1)\\t1\\n  (0, 2)\\t1\\n  (0, 3)\\t1\\n  (0, 4...</td>\n",
       "      <td>True</td>\n",
       "      <td>395</td>\n",
       "    </tr>\n",
       "    <tr>\n",
       "      <th>1</th>\n",
       "      <td>-234270</td>\n",
       "      <td>(0, 1)\\t1\\n  (0, 2)\\t1\\n  (0, 3)\\t1\\n  (0, 4...</td>\n",
       "      <td>True</td>\n",
       "      <td>386</td>\n",
       "    </tr>\n",
       "    <tr>\n",
       "      <th>2</th>\n",
       "      <td>-234269</td>\n",
       "      <td>(0, 1)\\t1\\n  (0, 2)\\t1\\n  (0, 3)\\t1\\n  (0, 4...</td>\n",
       "      <td>True</td>\n",
       "      <td>395</td>\n",
       "    </tr>\n",
       "    <tr>\n",
       "      <th>3</th>\n",
       "      <td>-234263</td>\n",
       "      <td>(0, 1)\\t1\\n  (0, 2)\\t1\\n  (0, 3)\\t1\\n  (0, 4...</td>\n",
       "      <td>True</td>\n",
       "      <td>385</td>\n",
       "    </tr>\n",
       "    <tr>\n",
       "      <th>4</th>\n",
       "      <td>-234260</td>\n",
       "      <td>(0, 1)\\t1\\n  (0, 2)\\t1\\n  (0, 3)\\t1\\n  (0, 4...</td>\n",
       "      <td>True</td>\n",
       "      <td>390</td>\n",
       "    </tr>\n",
       "  </tbody>\n",
       "</table>\n",
       "</div>"
      ],
      "text/plain": [
       "   testcase_ID                                             matrix   bug  \\\n",
       "0      -234271    (0, 1)\\t1\\n  (0, 2)\\t1\\n  (0, 3)\\t1\\n  (0, 4...  True   \n",
       "1      -234270    (0, 1)\\t1\\n  (0, 2)\\t1\\n  (0, 3)\\t1\\n  (0, 4...  True   \n",
       "2      -234269    (0, 1)\\t1\\n  (0, 2)\\t1\\n  (0, 3)\\t1\\n  (0, 4...  True   \n",
       "3      -234263    (0, 1)\\t1\\n  (0, 2)\\t1\\n  (0, 3)\\t1\\n  (0, 4...  True   \n",
       "4      -234260    (0, 1)\\t1\\n  (0, 2)\\t1\\n  (0, 3)\\t1\\n  (0, 4...  True   \n",
       "\n",
       "   matrix_size  \n",
       "0          395  \n",
       "1          386  \n",
       "2          395  \n",
       "3          385  \n",
       "4          390  "
      ]
     },
     "execution_count": 11,
     "metadata": {},
     "output_type": "execute_result"
    }
   ],
   "source": [
    "adj_df.head()"
   ]
  },
  {
   "cell_type": "code",
   "execution_count": 11,
   "metadata": {
    "colab": {},
    "colab_type": "code",
    "id": "MCV9Vwupk8mI"
   },
   "outputs": [],
   "source": [
    "def bottom_right_matrix_size_corrector(matrix, size):\n",
    "    '''Pads matrix with zeros to the desired size'''\n",
    "    \n",
    "    rows, columns = matrix.shape[0], matrix.shape[1]\n",
    "    \n",
    "    row_corrector = csr_matrix((size-rows, rows))\n",
    "    col_corrector = csr_matrix((size, size-columns))\n",
    "\n",
    "    matrix = vstack([matrix, row_corrector])\n",
    "    matrix = hstack([matrix, col_corrector])\n",
    "\n",
    "    matrix = matrix.astype(np.int)\n",
    "    \n",
    "    return matrix "
   ]
  },
  {
   "cell_type": "code",
   "execution_count": 13,
   "metadata": {
    "colab": {},
    "colab_type": "code",
    "id": "yI1YFNQMk8mp"
   },
   "outputs": [],
   "source": [
    "adj_df['matrix'] = adj_df['matrix'].apply(lambda m: bottom_right_matrix_size_corrector(m, matrix_size))"
   ]
  },
  {
   "cell_type": "code",
   "execution_count": 12,
   "metadata": {
    "colab": {},
    "colab_type": "code",
    "id": "zy8qe3IdrKml"
   },
   "outputs": [],
   "source": [
    "testcase_ids = adj_df['testcase_ID'].values\n",
    "adjacency_matrices = adj_df['matrix'].values\n",
    "labels = adj_df['bug'].values"
   ]
  },
  {
   "cell_type": "markdown",
   "metadata": {
    "colab_type": "text",
    "id": "ga6SW3_qpF80"
   },
   "source": [
    "Now we have a dataframe for each testcase with a sparse representation of its AST in the matrix column, each normalised to matrix_size x matrix_size in size.\n",
    "  \n",
    "\n"
   ]
  },
  {
   "cell_type": "markdown",
   "metadata": {
    "colab_type": "text",
    "id": "yXrUMkzYSgUz"
   },
   "source": [
    "Storing all of these matrices in a dense representation at once might cause memory issues. To avoid this, we write a class which generates dense matrices for each of the training batches. \n",
    "\n",
    "We also perform the element wrapping as part of this process (since we can't perform it on the sparse arrays, I think)."
   ]
  },
  {
   "cell_type": "code",
   "execution_count": 0,
   "metadata": {
    "colab": {},
    "colab_type": "code",
    "id": "dBPBYHNJxm-D"
   },
   "outputs": [],
   "source": [
    "class SparseToDenseGenerator(keras.utils.Sequence):\n",
    "\n",
    "    def __init__(self, sparse_matrices, labels, batch_size):\n",
    "        self.sparse_matrices = sparse_matrices\n",
    "        self.labels = labels\n",
    "        self.batch_size = batch_size\n",
    "\n",
    "    def __len__(self):\n",
    "        return int(np.ceil(len(self.sparse_matrices) / float(self.batch_size)))\n",
    "\n",
    "    def __getitem__(self, batch_num):\n",
    "        start_index = batch_num * self.batch_size\n",
    "        end_index = (batch_num + 1) * self.batch_size\n",
    "        \n",
    "        batch_sparse = self.sparse_matrices[start_index:end_index]\n",
    "        batch_labels = self.labels[start_index:end_index]\n",
    "        \n",
    "        batch_dense = np.array([sparse_matrix.todense() for sparse_matrix in batch_sparse])\n",
    "        \n",
    "        # TODO: move this somewhere better\n",
    "        # Conv2D requires an extra dimension for \"channels\", so we need to convert our data from\n",
    "        # the shape (batch_size, matrix_rows, matrix_columns)\n",
    "        # to (batch_size, matrix_rows, matrix_columns, 1)\n",
    "        batch_dense = np.reshape(batch_dense, batch_dense.shape + (1, ))\n",
    "\n",
    "        return batch_dense, np.array(batch_labels)"
   ]
  },
  {
   "cell_type": "markdown",
   "metadata": {
    "colab_type": "text",
    "id": "W8rFgat6TFnc"
   },
   "source": [
    "Finally, we generate the train and test splits:"
   ]
  },
  {
   "cell_type": "markdown",
   "metadata": {
    "colab_type": "text",
    "id": "_fwvFaXuR_Pg"
   },
   "source": [
    "Load in out pre-generated training and test sets from the graph2vec dataset. We use the indices from these to extract the same set split in our adjacency dataset."
   ]
  },
  {
   "cell_type": "code",
   "execution_count": 0,
   "metadata": {
    "colab": {},
    "colab_type": "code",
    "id": "cxO5J1xySMDV"
   },
   "outputs": [],
   "source": [
    "x_train, x_test, y_train, y_test = train_test_split(adjacency_matrices, labels, test_size=0.2, random_state = 0)"
   ]
  },
  {
   "cell_type": "markdown",
   "metadata": {
    "colab_type": "text",
    "id": "nda-Xjsjk8ng"
   },
   "source": [
    "# Model"
   ]
  },
  {
   "cell_type": "code",
   "execution_count": 0,
   "metadata": {
    "colab": {},
    "colab_type": "code",
    "id": "KqlHfs2Kk8ni",
    "scrolled": true
   },
   "outputs": [],
   "source": [
    "from keras.layers import Dense, Dropout, Flatten, Reshape, Activation\n",
    "from keras.layers import Conv1D, MaxPooling1D, Conv2D, GlobalMaxPooling2D, MaxPooling2D, Convolution2D\n",
    "from keras.models import Sequential\n",
    "from keras.layers.normalization import BatchNormalization\n",
    "from keras.layers.advanced_activations import LeakyReLU\n",
    "from keras.optimizers import RMSprop, Adadelta, Adam\n",
    "from keras.utils import np_utils\n",
    "from keras import backend as K"
   ]
  },
  {
   "cell_type": "code",
   "execution_count": 19,
   "metadata": {
    "colab": {
     "base_uri": "https://localhost:8080/",
     "height": 34
    },
    "colab_type": "code",
    "id": "kmlCQ77P3itE",
    "outputId": "8fabf812-c395-4379-ec50-a3f3aa397003"
   },
   "outputs": [
    {
     "data": {
      "text/plain": [
       "(96, 5, 16128, (614, 614), (96, 614, 614), 168, (2, 2), 1)"
      ]
     },
     "execution_count": 19,
     "metadata": {
      "tags": []
     },
     "output_type": "execute_result"
    }
   ],
   "source": [
    "batch_size = 96\n",
    "epochs = 5\n",
    "num_samples = len(labels)\n",
    "\n",
    "datapoint_shape = (matrix_size, matrix_size, )\n",
    "batch_shape = (batch_size, ) + datapoint_shape\n",
    "\n",
    "steps_per_epoch = int(np.ceil(num_samples/batch_size))\n",
    "\n",
    "kernel_size = (2, 2)\n",
    "strides = max(kernel_size[0] // 3, 1)\n",
    "\n",
    "batch_size, epochs, num_samples, datapoint_shape, batch_shape, steps_per_epoch, kernel_size, strides"
   ]
  },
  {
   "cell_type": "code",
   "execution_count": 20,
   "metadata": {
    "colab": {
     "base_uri": "https://localhost:8080/",
     "height": 1000
    },
    "colab_type": "code",
    "id": "a1aVESBAk8nu",
    "outputId": "f8145541-26b2-413b-8006-fdef3bcb883f"
   },
   "outputs": [
    {
     "name": "stderr",
     "output_type": "stream",
     "text": [
      "WARNING: Logging before flag parsing goes to stderr.\n",
      "W0730 11:43:18.441387 140688343668608 deprecation_wrapper.py:119] From /usr/local/lib/python3.6/dist-packages/keras/backend/tensorflow_backend.py:74: The name tf.get_default_graph is deprecated. Please use tf.compat.v1.get_default_graph instead.\n",
      "\n",
      "W0730 11:43:18.506930 140688343668608 deprecation_wrapper.py:119] From /usr/local/lib/python3.6/dist-packages/keras/backend/tensorflow_backend.py:517: The name tf.placeholder is deprecated. Please use tf.compat.v1.placeholder instead.\n",
      "\n",
      "W0730 11:43:18.519141 140688343668608 deprecation_wrapper.py:119] From /usr/local/lib/python3.6/dist-packages/keras/backend/tensorflow_backend.py:4138: The name tf.random_uniform is deprecated. Please use tf.random.uniform instead.\n",
      "\n",
      "W0730 11:43:18.571600 140688343668608 deprecation_wrapper.py:119] From /usr/local/lib/python3.6/dist-packages/keras/backend/tensorflow_backend.py:3976: The name tf.nn.max_pool is deprecated. Please use tf.nn.max_pool2d instead.\n",
      "\n",
      "W0730 11:43:18.667378 140688343668608 deprecation_wrapper.py:119] From /usr/local/lib/python3.6/dist-packages/keras/backend/tensorflow_backend.py:133: The name tf.placeholder_with_default is deprecated. Please use tf.compat.v1.placeholder_with_default instead.\n",
      "\n",
      "W0730 11:43:18.678759 140688343668608 deprecation.py:506] From /usr/local/lib/python3.6/dist-packages/keras/backend/tensorflow_backend.py:3445: calling dropout (from tensorflow.python.ops.nn_ops) with keep_prob is deprecated and will be removed in a future version.\n",
      "Instructions for updating:\n",
      "Please use `rate` instead of `keep_prob`. Rate should be set to `rate = 1 - keep_prob`.\n",
      "W0730 11:43:18.729953 140688343668608 deprecation_wrapper.py:119] From /usr/local/lib/python3.6/dist-packages/keras/optimizers.py:790: The name tf.train.Optimizer is deprecated. Please use tf.compat.v1.train.Optimizer instead.\n",
      "\n",
      "W0730 11:43:18.737797 140688343668608 deprecation_wrapper.py:119] From /usr/local/lib/python3.6/dist-packages/keras/backend/tensorflow_backend.py:3376: The name tf.log is deprecated. Please use tf.math.log instead.\n",
      "\n",
      "W0730 11:43:18.745361 140688343668608 deprecation.py:323] From /usr/local/lib/python3.6/dist-packages/tensorflow/python/ops/nn_impl.py:180: add_dispatch_support.<locals>.wrapper (from tensorflow.python.ops.array_ops) is deprecated and will be removed in a future version.\n",
      "Instructions for updating:\n",
      "Use tf.where in 2.0, which has the same broadcast rule as np.where\n"
     ]
    },
    {
     "name": "stdout",
     "output_type": "stream",
     "text": [
      "_________________________________________________________________\n",
      "Layer (type)                 Output Shape              Param #   \n",
      "=================================================================\n",
      "conv2d_1 (Conv2D)            (None, 613, 613, 32)      160       \n",
      "_________________________________________________________________\n",
      "activation_1 (Activation)    (None, 613, 613, 32)      0         \n",
      "_________________________________________________________________\n",
      "max_pooling2d_1 (MaxPooling2 (None, 307, 307, 32)      0         \n",
      "_________________________________________________________________\n",
      "conv2d_2 (Conv2D)            (None, 306, 306, 32)      4128      \n",
      "_________________________________________________________________\n",
      "activation_2 (Activation)    (None, 306, 306, 32)      0         \n",
      "_________________________________________________________________\n",
      "max_pooling2d_2 (MaxPooling2 (None, 153, 153, 32)      0         \n",
      "_________________________________________________________________\n",
      "conv2d_3 (Conv2D)            (None, 152, 152, 32)      4128      \n",
      "_________________________________________________________________\n",
      "activation_3 (Activation)    (None, 152, 152, 32)      0         \n",
      "_________________________________________________________________\n",
      "max_pooling2d_3 (MaxPooling2 (None, 76, 76, 32)        0         \n",
      "_________________________________________________________________\n",
      "flatten_1 (Flatten)          (None, 184832)            0         \n",
      "_________________________________________________________________\n",
      "dense_1 (Dense)              (None, 32)                5914656   \n",
      "_________________________________________________________________\n",
      "dense_2 (Dense)              (None, 32)                1056      \n",
      "_________________________________________________________________\n",
      "dense_3 (Dense)              (None, 32)                1056      \n",
      "_________________________________________________________________\n",
      "dropout_1 (Dropout)          (None, 32)                0         \n",
      "_________________________________________________________________\n",
      "dense_4 (Dense)              (None, 1)                 33        \n",
      "=================================================================\n",
      "Total params: 5,925,217\n",
      "Trainable params: 5,925,217\n",
      "Non-trainable params: 0\n",
      "_________________________________________________________________\n"
     ]
    }
   ],
   "source": [
    "model = Sequential()\n",
    "\n",
    "model.add(Conv2D(\n",
    "    data_format='channels_last',\n",
    "    input_shape=(matrix_size, matrix_size, 1),\n",
    "    filters=32,\n",
    "    kernel_size=kernel_size,\n",
    "    strides=strides,\n",
    "))\n",
    "model.add(Activation('relu'))\n",
    "model.add(MaxPooling2D(kernel_size, padding='same'))\n",
    "\n",
    "model.add(Conv2D(\n",
    "    data_format='channels_last',\n",
    "    input_shape=(matrix_size, matrix_size, 1),\n",
    "    filters=32,\n",
    "    kernel_size=kernel_size,\n",
    "    strides=strides,\n",
    "    activation='relu',\n",
    "))\n",
    "model.add(Activation('relu'))\n",
    "model.add(MaxPooling2D(kernel_size, padding='same'))\n",
    "\n",
    "model.add(Conv2D(\n",
    "    data_format='channels_last',\n",
    "    input_shape=(matrix_size, matrix_size, 1),\n",
    "    filters=32,\n",
    "    kernel_size=kernel_size,\n",
    "    strides=strides,\n",
    "    activation='relu',\n",
    "))\n",
    "model.add(Activation('relu'))\n",
    "model.add(MaxPooling2D(kernel_size, padding='same'))\n",
    "\n",
    "model.add(Flatten())\n",
    "\n",
    "model.add(Dense(units=32, activation='relu'))\n",
    "model.add(Dense(units=32, activation='relu'))\n",
    "model.add(Dense(units=32, activation='relu'))\n",
    "\n",
    "model.add(Dropout(0.2))\n",
    "\n",
    "model.add(Dense(units=1, activation='sigmoid'))\n",
    "\n",
    "model.compile(optimizer=Adam(), loss='binary_crossentropy', metrics=['accuracy'])\n",
    "\n",
    "model.summary()"
   ]
  },
  {
   "cell_type": "code",
   "execution_count": 21,
   "metadata": {
    "colab": {
     "base_uri": "https://localhost:8080/",
     "height": 1000
    },
    "colab_type": "code",
    "id": "gAErQWeyk8nz",
    "outputId": "4d569483-0871-414b-f455-66e483fe1e25",
    "scrolled": true
   },
   "outputs": [
    {
     "name": "stdout",
     "output_type": "stream",
     "text": [
      "Epoch 1/5\n",
      "168/168 [==============================] - 2435s 14s/step - loss: 0.5138 - acc: 0.7184\n",
      "Epoch 2/5\n",
      "168/168 [==============================] - 2390s 14s/step - loss: 0.1513 - acc: 0.9434\n",
      "Epoch 3/5\n",
      "168/168 [==============================] - 2384s 14s/step - loss: 0.0553 - acc: 0.9829\n",
      "Epoch 4/5\n",
      "168/168 [==============================] - 2383s 14s/step - loss: 0.0318 - acc: 0.9906\n",
      "Epoch 5/5\n",
      "168/168 [==============================] - 2396s 14s/step - loss: 0.0127 - acc: 0.9965\n"
     ]
    },
    {
     "data": {
      "text/plain": [
       "<keras.callbacks.History at 0x7ff4483a9780>"
      ]
     },
     "execution_count": 21,
     "metadata": {
      "tags": []
     },
     "output_type": "execute_result"
    }
   ],
   "source": [
    "training_batch_generator = SparseToDenseGenerator(x_train, y_train, batch_size)\n",
    "\n",
    "model.fit_generator(\n",
    "    generator=training_batch_generator,\n",
    "    epochs=epochs,\n",
    "    steps_per_epoch=steps_per_epoch\n",
    ")"
   ]
  },
  {
   "cell_type": "code",
   "execution_count": 0,
   "metadata": {
    "colab": {},
    "colab_type": "code",
    "id": "2EE3gwh6k8oE"
   },
   "outputs": [],
   "source": [
    " import pickle"
   ]
  },
  {
   "cell_type": "code",
   "execution_count": 0,
   "metadata": {
    "colab": {},
    "colab_type": "code",
    "id": "Wk-asGoMk8oK"
   },
   "outputs": [],
   "source": [
    "with open('../data/adjacency-matrix-model-binary.pickle','wb') as f:\n",
    "    pickle.dump(model,f)"
   ]
  },
  {
   "cell_type": "markdown",
   "metadata": {
    "colab_type": "text",
    "id": "w3476EyA3g-V"
   },
   "source": [
    "# Evaluation"
   ]
  },
  {
   "cell_type": "code",
   "execution_count": 0,
   "metadata": {
    "colab": {
     "base_uri": "https://localhost:8080/",
     "height": 402
    },
    "colab_type": "code",
    "id": "bQcagc2HK0c3",
    "outputId": "a0d42c6d-b41d-4f7d-9315-7c0642ecba9d"
   },
   "outputs": [
    {
     "name": "stderr",
     "output_type": "stream",
     "text": [
      "WARNING: Logging before flag parsing goes to stderr.\n",
      "W0729 09:00:06.035389 139812898600832 deprecation_wrapper.py:119] From /usr/local/lib/python3.6/dist-packages/keras/backend/tensorflow_backend.py:517: The name tf.placeholder is deprecated. Please use tf.compat.v1.placeholder instead.\n",
      "\n",
      "W0729 09:00:06.085936 139812898600832 deprecation_wrapper.py:119] From /usr/local/lib/python3.6/dist-packages/keras/backend/tensorflow_backend.py:4138: The name tf.random_uniform is deprecated. Please use tf.random.uniform instead.\n",
      "\n",
      "W0729 09:00:06.138282 139812898600832 deprecation_wrapper.py:119] From /usr/local/lib/python3.6/dist-packages/keras/backend/tensorflow_backend.py:3976: The name tf.nn.max_pool is deprecated. Please use tf.nn.max_pool2d instead.\n",
      "\n",
      "W0729 09:00:06.235374 139812898600832 deprecation_wrapper.py:119] From /usr/local/lib/python3.6/dist-packages/keras/backend/tensorflow_backend.py:131: The name tf.get_default_graph is deprecated. Please use tf.compat.v1.get_default_graph instead.\n",
      "\n",
      "W0729 09:00:06.237010 139812898600832 deprecation_wrapper.py:119] From /usr/local/lib/python3.6/dist-packages/keras/backend/tensorflow_backend.py:133: The name tf.placeholder_with_default is deprecated. Please use tf.compat.v1.placeholder_with_default instead.\n",
      "\n",
      "W0729 09:00:06.246673 139812898600832 deprecation.py:506] From /usr/local/lib/python3.6/dist-packages/keras/backend/tensorflow_backend.py:3445: calling dropout (from tensorflow.python.ops.nn_ops) with keep_prob is deprecated and will be removed in a future version.\n",
      "Instructions for updating:\n",
      "Please use `rate` instead of `keep_prob`. Rate should be set to `rate = 1 - keep_prob`.\n",
      "W0729 09:00:06.330559 139812898600832 deprecation_wrapper.py:119] From /usr/local/lib/python3.6/dist-packages/keras/backend/tensorflow_backend.py:174: The name tf.get_default_session is deprecated. Please use tf.compat.v1.get_default_session instead.\n",
      "\n",
      "W0729 09:00:06.812822 139812898600832 deprecation_wrapper.py:119] From /usr/local/lib/python3.6/dist-packages/keras/optimizers.py:790: The name tf.train.Optimizer is deprecated. Please use tf.compat.v1.train.Optimizer instead.\n",
      "\n",
      "W0729 09:00:06.824613 139812898600832 deprecation.py:323] From /usr/local/lib/python3.6/dist-packages/tensorflow/python/ops/nn_impl.py:180: add_dispatch_support.<locals>.wrapper (from tensorflow.python.ops.array_ops) is deprecated and will be removed in a future version.\n",
      "Instructions for updating:\n",
      "Use tf.where in 2.0, which has the same broadcast rule as np.where\n"
     ]
    }
   ],
   "source": [
    "model = None\n",
    "with open('../data/adjacency-matrix-model-binary.pickle','rb') as f:\n",
    "    model = pickle.load(f)"
   ]
  },
  {
   "cell_type": "code",
   "execution_count": 24,
   "metadata": {
    "colab": {
     "base_uri": "https://localhost:8080/",
     "height": 34
    },
    "colab_type": "code",
    "id": "nobNI0B1k8oP",
    "outputId": "8b21ac0e-5f16-4001-99e6-a66294c141c5",
    "scrolled": true
   },
   "outputs": [
    {
     "data": {
      "text/plain": [
       "[0.02511249791915365, 0.9934903888028376]"
      ]
     },
     "execution_count": 24,
     "metadata": {
      "tags": []
     },
     "output_type": "execute_result"
    }
   ],
   "source": [
    "test_batch_generator = SparseToDenseGenerator(x_test, y_test, batch_size)\n",
    "\n",
    "model.evaluate_generator(\n",
    "    generator=test_batch_generator,\n",
    ")"
   ]
  },
  {
   "cell_type": "code",
   "execution_count": 0,
   "metadata": {
    "colab": {},
    "colab_type": "code",
    "id": "vnHI_fjlk8ob"
   },
   "outputs": [],
   "source": [
    "import seaborn as sns\n",
    "from sklearn import metrics\n",
    "import matplotlib"
   ]
  },
  {
   "cell_type": "code",
   "execution_count": 0,
   "metadata": {
    "colab": {},
    "colab_type": "code",
    "id": "v4bFyChZOi0k"
   },
   "outputs": [],
   "source": [
    "class SparseToDensePredictGenerator(keras.utils.Sequence):\n",
    "\n",
    "    def __init__(self, sparse_matrices, batch_size):\n",
    "        self.sparse_matrices = sparse_matrices\n",
    "        self.batch_size = batch_size\n",
    "\n",
    "    def __len__(self):\n",
    "        return int(np.ceil(len(self.sparse_matrices) / float(self.batch_size)))\n",
    "\n",
    "    def __getitem__(self, batch_num):\n",
    "        start_index = batch_num * self.batch_size\n",
    "        end_index = (batch_num + 1) * self.batch_size\n",
    "        \n",
    "        batch_sparse = self.sparse_matrices[start_index:end_index]\n",
    "        batch_dense = np.array([sparse_matrix.todense() for sparse_matrix in batch_sparse])\n",
    "        \n",
    "        # TODO: move this somewhere better\n",
    "        # Conv2D requires an extra dimension for \"channels\", so we need to convert our data from\n",
    "        # the shape (batch_size, matrix_rows, matrix_columns)\n",
    "        # to (batch_size, matrix_rows, matrix_columns, 1)\n",
    "        batch_dense = np.reshape(batch_dense, batch_dense.shape + (1, ))\n",
    "\n",
    "        return batch_dense"
   ]
  },
  {
   "cell_type": "code",
   "execution_count": 0,
   "metadata": {
    "colab": {},
    "colab_type": "code",
    "id": "5AJ9ozp5k8og"
   },
   "outputs": [],
   "source": [
    "predict_batch_generator = SparseToDensePredictGenerator(x_test, batch_size)\n",
    "y_predict = model.predict_generator(predict_batch_generator)"
   ]
  },
  {
   "cell_type": "code",
   "execution_count": 0,
   "metadata": {
    "colab": {},
    "colab_type": "code",
    "id": "gh6M9qH-k8ok"
   },
   "outputs": [],
   "source": [
    "import numpy as np"
   ]
  },
  {
   "cell_type": "code",
   "execution_count": 37,
   "metadata": {
    "colab": {
     "base_uri": "https://localhost:8080/",
     "height": 387
    },
    "colab_type": "code",
    "id": "xrvhYYmFk8oo",
    "outputId": "1ca0e586-cb04-4d3f-c902-d3b2d6691c76"
   },
   "outputs": [
    {
     "data": {
      "image/png": "[encoded data removed]",
      "text/plain": [
       "<Figure size 576x360 with 2 Axes>"
      ]
     },
     "metadata": {
      "tags": []
     },
     "output_type": "display_data"
    }
   ],
   "source": [
    "confusion_matrix = pd.DataFrame(\n",
    "    data=metrics.confusion_matrix(y_test, np.rint(y_predict)),\n",
    ")\n",
    "\n",
    "confusion_figure, confusion_axes = matplotlib.pyplot.subplots()\n",
    "confusion_figure.set_size_inches(8, 5)\n",
    "confusion_axes.set_title(\n",
    "    'Confusion matrix showing the frequency of \\n'\n",
    "    'correct and incorrect bug classification predictions.'\n",
    "    '\\n\\n'  # hack to avoid overlap with x-axis labels below\n",
    ")\n",
    "confusion_axes.xaxis.tick_top()  # move x-axis labels to top of matrix\n",
    "_ = sns.heatmap(\n",
    "    confusion_matrix,\n",
    "    annot=True,\n",
    "    fmt=\"d\",\n",
    "    cmap=sns.color_palette(\"Blues\"),\n",
    "    vmin=0,\n",
    "    ax=confusion_axes,\n",
    ")"
   ]
  },
  {
   "cell_type": "code",
   "execution_count": 0,
   "metadata": {
    "colab": {},
    "colab_type": "code",
    "id": "SFlZwTBIk8o8"
   },
   "outputs": [],
   "source": [
    "from sklearn.metrics import roc_curve\n",
    "fpr_keras, tpr_keras, thresholds_keras = roc_curve(\n",
    "    y_test.astype(int),\n",
    "    np.rint(y_predict),\n",
    ")"
   ]
  },
  {
   "cell_type": "code",
   "execution_count": 0,
   "metadata": {
    "colab": {},
    "colab_type": "code",
    "id": "a8_7LWSmk8pI"
   },
   "outputs": [],
   "source": [
    "from sklearn.metrics import auc\n",
    "import matplotlib.pyplot as plt\n",
    "auc_keras = auc(fpr_keras, tpr_keras)"
   ]
  },
  {
   "cell_type": "code",
   "execution_count": 33,
   "metadata": {
    "colab": {
     "base_uri": "https://localhost:8080/",
     "height": 295
    },
    "colab_type": "code",
    "id": "mM9vPPIGk8pO",
    "outputId": "29b522bc-ec34-42ff-da90-c44c4455348c"
   },
   "outputs": [
    {
     "data": {
      "image/png": "[encoded data removed]",
      "text/plain": [
       "<Figure size 432x288 with 1 Axes>"
      ]
     },
     "metadata": {
      "tags": []
     },
     "output_type": "display_data"
    }
   ],
   "source": [
    "plt.plot(fpr_keras, tpr_keras, label='Keras (area = {:.3f})'.format(auc_keras))\n",
    "plt.xlabel('False positive rate')\n",
    "plt.ylabel('True positive rate')\n",
    "plt.title('ROC curve')\n",
    "plt.legend(loc='best')\n",
    "plt.show()"
   ]
  },
  {
   "cell_type": "code",
   "execution_count": 0,
   "metadata": {
    "colab": {},
    "colab_type": "code",
    "id": "WIxU3yLeZqk3"
   },
   "outputs": [],
   "source": [
    "tn, fp, fn, tp = metrics.confusion_matrix(\n",
    "    y_test.astype(int), \n",
    "    np.rint(y_predict)\n",
    ").flatten().tolist()\n",
    "\n",
    "fpr_nn = fp/(fp+tp)\n",
    "fnr_nn = fn/(fn+tn)"
   ]
  },
  {
   "cell_type": "code",
   "execution_count": 35,
   "metadata": {
    "colab": {
     "base_uri": "https://localhost:8080/",
     "height": 34
    },
    "colab_type": "code",
    "id": "Irias0wiQ5uS",
    "outputId": "6b440ef5-ff8d-4c3f-8406-b099c1e7043b"
   },
   "outputs": [
    {
     "data": {
      "text/plain": [
       "(0.0006150061500615006, 0.0125)"
      ]
     },
     "execution_count": 35,
     "metadata": {
      "tags": []
     },
     "output_type": "execute_result"
    }
   ],
   "source": [
    "fpr_nn, fnr_nn"
   ]
  },
  {
   "cell_type": "markdown",
   "metadata": {},
   "source": [
    "## Random Padding (translational invariance)"
   ]
  },
  {
   "cell_type": "code",
   "execution_count": 13,
   "metadata": {},
   "outputs": [],
   "source": [
    "import random"
   ]
  },
  {
   "cell_type": "code",
   "execution_count": 24,
   "metadata": {},
   "outputs": [],
   "source": [
    "def random_padder(matrix, size):\n",
    "    '''\n",
    "    Randomly pads matrix with zeros to the desired size\n",
    "    '''\n",
    "    rows, columns = matrix.shape[0], matrix.shape[1]\n",
    "    \n",
    "    rand = random.randint(matrix.shape[0],size)\n",
    "    \n",
    "    tl_row_corrector = csr_matrix((rand-rows, rows))\n",
    "    tl_col_corrector = csr_matrix((rand, rand-columns))\n",
    "    \n",
    "    tl_matrix = vstack([tl_row_corrector, matrix])\n",
    "    tl_matrix = hstack([tl_col_corrector, tl_matrix])\n",
    "    \n",
    "    rows, columns = tl_matrix.shape[0], tl_matrix.shape[1]\n",
    "    \n",
    "    br_row_corrector = csr_matrix((size-rows, rows))\n",
    "    br_col_corrector = csr_matrix((size, size-columns))\n",
    "\n",
    "    br_matrix = vstack([tl_matrix, br_row_corrector])\n",
    "    br_matrix = hstack([br_matrix, br_col_corrector])\n",
    "\n",
    "    br_matrix = br_matrix.astype(np.int)\n",
    "    \n",
    "    return br_matrix"
   ]
  },
  {
   "cell_type": "code",
   "execution_count": 34,
   "metadata": {},
   "outputs": [],
   "source": [
    "rand_adj_df = adj_df.copy()"
   ]
  },
  {
   "cell_type": "code",
   "execution_count": 35,
   "metadata": {},
   "outputs": [],
   "source": [
    "rand_adj_df['matrix'] = rand_adj_df['matrix'].apply(lambda m: random_padder(m, matrix_size))"
   ]
  },
  {
   "cell_type": "code",
   "execution_count": 19,
   "metadata": {},
   "outputs": [],
   "source": [
    "testcase_ids = rand_adj_df['testcase_ID'].values\n",
    "adjacency_matrices = rand_adj_df['matrix'].values\n",
    "labels = rand_adj_df['bug'].values"
   ]
  },
  {
   "cell_type": "code",
   "execution_count": 39,
   "metadata": {},
   "outputs": [
    {
     "data": {
      "text/plain": [
       "array([[0, 0, 0, ..., 0, 0, 0],\n",
       "       [0, 0, 0, ..., 0, 0, 0],\n",
       "       [0, 0, 0, ..., 0, 0, 0],\n",
       "       ...,\n",
       "       [0, 0, 0, ..., 0, 0, 0],\n",
       "       [0, 0, 0, ..., 0, 0, 0],\n",
       "       [0, 0, 0, ..., 0, 0, 0]])"
      ]
     },
     "execution_count": 39,
     "metadata": {},
     "output_type": "execute_result"
    }
   ],
   "source": [
    "rand_adj_df.matrix.iloc[2].toarray()"
   ]
  },
  {
   "cell_type": "code",
   "execution_count": 40,
   "metadata": {},
   "outputs": [],
   "source": [
    "x_train, x_test, y_train, y_test = train_test_split(adjacency_matrices, labels, test_size=0.2, random_state = 0)"
   ]
  }
 ],
 "metadata": {
  "accelerator": "TPU",
  "colab": {
   "machine_shape": "hm",
   "name": "baseline-model-binary-adj-matrices.ipynb",
   "provenance": [],
   "version": "0.3.2"
  },
  "kernelspec": {
   "display_name": "Python 3",
   "language": "python",
   "name": "python3"
  },
  "language_info": {
   "codemirror_mode": {
    "name": "ipython",
    "version": 3
   },
   "file_extension": ".py",
   "mimetype": "text/x-python",
   "name": "python",
   "nbconvert_exporter": "python",
   "pygments_lexer": "ipython3",
   "version": "3.7.3"
  },
  "toc": {
   "base_numbering": 1,
   "nav_menu": {},
   "number_sections": true,
   "sideBar": true,
   "skip_h1_title": false,
   "title_cell": "Table of Contents",
   "title_sidebar": "Contents",
   "toc_cell": false,
   "toc_position": {},
   "toc_section_display": true,
   "toc_window_display": false
  }
 },
 "nbformat": 4,
 "nbformat_minor": 1
}
