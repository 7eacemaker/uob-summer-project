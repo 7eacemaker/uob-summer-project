{
  "nbformat": 4,
  "nbformat_minor": 0,
  "metadata": {
    "accelerator": "TPU",
    "colab": {
      "name": "ML-adj-matrix-conv-neural-network.ipynb",
      "version": "0.3.2",
      "provenance": [],
      "collapsed_sections": [],
      "machine_shape": "hm",
      "include_colab_link": true
    },
    "kernelspec": {
      "display_name": "Python 3",
      "language": "python",
      "name": "python3"
    },
    "language_info": {
      "codemirror_mode": {
        "name": "ipython",
        "version": 3
      },
      "file_extension": ".py",
      "mimetype": "text/x-python",
      "name": "python",
      "nbconvert_exporter": "python",
      "pygments_lexer": "ipython3",
      "version": "3.6.8"
    },
    "toc": {
      "base_numbering": 1,
      "nav_menu": {},
      "number_sections": true,
      "sideBar": true,
      "skip_h1_title": false,
      "title_cell": "Table of Contents",
      "title_sidebar": "Contents",
      "toc_cell": false,
      "toc_position": {},
      "toc_section_display": true,
      "toc_window_display": false
    }
  },
  "cells": [
    {
      "cell_type": "markdown",
      "metadata": {
        "id": "view-in-github",
        "colab_type": "text"
      },
      "source": [
        "<a href=\"https://colab.research.google.com/github/dj311/uob-summer-project/blob/master/code/ML-adj-matrix-conv-neural-network.ipynb\" target=\"_parent\"><img src=\"https://colab.research.google.com/assets/colab-badge.svg\" alt=\"Open In Colab\"/></a>"
      ]
    },
    {
      "cell_type": "markdown",
      "metadata": {
        "colab_type": "text",
        "id": "K4oesAZzmRhL"
      },
      "source": [
        "# Colab Setup"
      ]
    },
    {
      "cell_type": "code",
      "metadata": {
        "colab_type": "code",
        "id": "W3hzFsJWtCn-",
        "outputId": "da13f994-950f-4e02-f532-40775a327f29",
        "colab": {
          "base_uri": "https://localhost:8080/",
          "height": 1000
        }
      },
      "source": [
        "!mkdir -p /project/data && cd /project/data && wget -O adj.pickle https://github.com/dj311/uob-summer-project/raw/master/data/adj.pickle\n",
        "!mkdir -p /project/data && cd /project/data && wget -O buffer_overflow_data.csv.gz https://github.com/dj311/uob-summer-project/raw/master/data/buffer_overflow_data.csv.gz\n",
        "!mkdir -p /project/data && cd /project/data && wget -O adjacency-matrix-model-binary.pickle https://github.com/dj311/uob-summer-project/raw/master/data/adjacency-matrix-model-binary.pickle\n",
        "!mkdir -p /project/code\n",
        "%cd /project/code"
      ],
      "execution_count": 1,
      "outputs": [
        {
          "output_type": "stream",
          "text": [
            "--2019-08-20 14:16:57--  https://github.com/dj311/uob-summer-project/raw/master/data/adj.pickle\n",
            "Resolving github.com (github.com)... 140.82.113.4\n",
            "Connecting to github.com (github.com)|140.82.113.4|:443... connected.\n",
            "HTTP request sent, awaiting response... 302 Found\n",
            "Location: https://media.githubusercontent.com/media/dj311/uob-summer-project/master/data/adj.pickle [following]\n",
            "--2019-08-20 14:16:58--  https://media.githubusercontent.com/media/dj311/uob-summer-project/master/data/adj.pickle\n",
            "Resolving media.githubusercontent.com (media.githubusercontent.com)... 151.101.0.133, 151.101.64.133, 151.101.128.133, ...\n",
            "Connecting to media.githubusercontent.com (media.githubusercontent.com)|151.101.0.133|:443... connected.\n",
            "HTTP request sent, awaiting response... 200 OK\n",
            "Length: 1320521199 (1.2G) [application/octet-stream]\n",
            "Saving to: ‘adj.pickle’\n",
            "\n",
            "adj.pickle          100%[===================>]   1.23G   224MB/s    in 5.7s    \n",
            "\n",
            "2019-08-20 14:17:19 (220 MB/s) - ‘adj.pickle’ saved [1320521199/1320521199]\n",
            "\n",
            "--2019-08-20 14:17:20--  https://github.com/dj311/uob-summer-project/raw/master/data/buffer_overflow_data.csv.gz\n",
            "Resolving github.com (github.com)... 140.82.113.4\n",
            "Connecting to github.com (github.com)|140.82.113.4|:443... connected.\n",
            "HTTP request sent, awaiting response... 302 Found\n",
            "Location: https://media.githubusercontent.com/media/dj311/uob-summer-project/master/data/buffer_overflow_data.csv.gz [following]\n",
            "--2019-08-20 14:17:20--  https://media.githubusercontent.com/media/dj311/uob-summer-project/master/data/buffer_overflow_data.csv.gz\n",
            "Resolving media.githubusercontent.com (media.githubusercontent.com)... 151.101.0.133, 151.101.64.133, 151.101.128.133, ...\n",
            "Connecting to media.githubusercontent.com (media.githubusercontent.com)|151.101.0.133|:443... connected.\n",
            "HTTP request sent, awaiting response... 200 OK\n",
            "Length: 3008729 (2.9M) [application/octet-stream]\n",
            "Saving to: ‘buffer_overflow_data.csv.gz’\n",
            "\n",
            "buffer_overflow_dat 100%[===================>]   2.87M  --.-KB/s    in 0.07s   \n",
            "\n",
            "2019-08-20 14:17:21 (38.6 MB/s) - ‘buffer_overflow_data.csv.gz’ saved [3008729/3008729]\n",
            "\n",
            "--2019-08-20 14:17:22--  https://github.com/dj311/uob-summer-project/raw/master/data/adjacency-matrix-model-binary.pickle\n",
            "Resolving github.com (github.com)... 140.82.113.4\n",
            "Connecting to github.com (github.com)|140.82.113.4|:443... connected.\n",
            "HTTP request sent, awaiting response... 302 Found\n",
            "Location: https://media.githubusercontent.com/media/dj311/uob-summer-project/master/data/adjacency-matrix-model-binary.pickle [following]\n",
            "--2019-08-20 14:17:22--  https://media.githubusercontent.com/media/dj311/uob-summer-project/master/data/adjacency-matrix-model-binary.pickle\n",
            "Resolving media.githubusercontent.com (media.githubusercontent.com)... 151.101.0.133, 151.101.64.133, 151.101.128.133, ...\n",
            "Connecting to media.githubusercontent.com (media.githubusercontent.com)|151.101.0.133|:443... connected.\n",
            "HTTP request sent, awaiting response... 200 OK\n",
            "Length: 71124065 (68M) [application/octet-stream]\n",
            "Saving to: ‘adjacency-matrix-model-binary.pickle’\n",
            "\n",
            "adjacency-matrix-mo 100%[===================>]  67.83M   138MB/s    in 0.5s    \n",
            "\n",
            "2019-08-20 14:17:24 (138 MB/s) - ‘adjacency-matrix-model-binary.pickle’ saved [71124065/71124065]\n",
            "\n",
            "/project/code\n"
          ],
          "name": "stdout"
        }
      ]
    },
    {
      "cell_type": "code",
      "metadata": {
        "colab_type": "code",
        "id": "picM6_uU2IeP",
        "outputId": "65198932-db69-41f2-80db-5aebc14baa37",
        "colab": {
          "base_uri": "https://localhost:8080/",
          "height": 449
        }
      },
      "source": [
        "!mkdir -p /project/data && cd /project/data && wget -O adjacency-matrix-model-random-padding.pickle https://github.com/dj311/uob-summer-project/raw/master/data/adjacency-matrix-model-random-padding.pickle"
      ],
      "execution_count": 2,
      "outputs": [
        {
          "output_type": "stream",
          "text": [
            "--2019-08-20 14:17:25--  https://github.com/dj311/uob-summer-project/raw/master/data/adjacency-matrix-model-random-padding.pickle\n",
            "Resolving github.com (github.com)... 140.82.113.4\n",
            "Connecting to github.com (github.com)|140.82.113.4|:443... connected.\n",
            "HTTP request sent, awaiting response... 302 Found\n",
            "Location: https://media.githubusercontent.com/media/dj311/uob-summer-project/master/data/adjacency-matrix-model-random-padding.pickle [following]\n",
            "--2019-08-20 14:17:26--  https://media.githubusercontent.com/media/dj311/uob-summer-project/master/data/adjacency-matrix-model-random-padding.pickle\n",
            "Resolving media.githubusercontent.com (media.githubusercontent.com)... 151.101.0.133, 151.101.64.133, 151.101.128.133, ...\n",
            "Connecting to media.githubusercontent.com (media.githubusercontent.com)|151.101.0.133|:443... connected.\n",
            "HTTP request sent, awaiting response... 200 OK\n",
            "Length: 71124407 (68M) [application/octet-stream]\n",
            "Saving to: ‘adjacency-matrix-model-random-padding.pickle’\n",
            "\n",
            "adjacency-matrix-mo 100%[===================>]  67.83M   209MB/s    in 0.3s    \n",
            "\n",
            "2019-08-20 14:17:28 (209 MB/s) - ‘adjacency-matrix-model-random-padding.pickle’ saved [71124407/71124407]\n",
            "\n"
          ],
          "name": "stdout"
        }
      ]
    },
    {
      "cell_type": "markdown",
      "metadata": {
        "colab_type": "text",
        "id": "lO9-8NDKk8ja"
      },
      "source": [
        "# Import & Preprocess Dataset\n",
        "\n",
        "First we import the data from the [previous notebook](./adjacency_matrix.ipynb).\n"
      ]
    },
    {
      "cell_type": "code",
      "metadata": {
        "colab_type": "code",
        "id": "T8k-PxYdI1WU",
        "outputId": "8b9e6c8a-2bbe-445c-efde-36c650eafb32",
        "colab": {
          "base_uri": "https://localhost:8080/",
          "height": 211
        }
      },
      "source": [
        "!pip install sklearn"
      ],
      "execution_count": 3,
      "outputs": [
        {
          "output_type": "stream",
          "text": [
            "Requirement already satisfied: sklearn in /usr/local/lib/python3.6/dist-packages (0.0)\n",
            "Requirement already satisfied: scikit-learn in /usr/local/lib/python3.6/dist-packages (from sklearn) (0.21.3)\n",
            "Requirement already satisfied: joblib>=0.11 in /usr/local/lib/python3.6/dist-packages (from scikit-learn->sklearn) (0.13.2)\n",
            "Requirement already satisfied: numpy>=1.11.0 in /usr/local/lib/python3.6/dist-packages (from scikit-learn->sklearn) (1.16.4)\n",
            "Requirement already satisfied: scipy>=0.17.0 in /usr/local/lib/python3.6/dist-packages (from scikit-learn->sklearn) (1.3.1)\n"
          ],
          "name": "stdout"
        }
      ]
    },
    {
      "cell_type": "code",
      "metadata": {
        "colab_type": "code",
        "id": "uB5QGgAgk8je",
        "outputId": "cfc34ed8-7e40-44f4-8e5b-7c26150e12b4",
        "colab": {
          "base_uri": "https://localhost:8080/",
          "height": 34
        }
      },
      "source": [
        "import tensorflow as tf\n",
        "import keras\n",
        "import sklearn\n",
        "import numpy as np\n",
        "import pickle\n",
        "from scipy.sparse import csr_matrix, hstack, vstack\n",
        "from sklearn.model_selection import train_test_split\n",
        "\n",
        "\n",
        "run_opts = tf.RunOptions(report_tensor_allocations_upon_oom = True)\n",
        "np.random.seed(1248)\n",
        "\n",
        "tf.logging.set_verbosity(tf.logging.INFO)"
      ],
      "execution_count": 4,
      "outputs": [
        {
          "output_type": "stream",
          "text": [
            "Using TensorFlow backend.\n"
          ],
          "name": "stderr"
        }
      ]
    },
    {
      "cell_type": "code",
      "metadata": {
        "colab_type": "code",
        "id": "CGIbzYT0k8jz",
        "colab": {}
      },
      "source": [
        "import pandas as pd"
      ],
      "execution_count": 0,
      "outputs": []
    },
    {
      "cell_type": "code",
      "metadata": {
        "colab_type": "code",
        "id": "NQwMY_iLk8kC",
        "colab": {}
      },
      "source": [
        "data = pd.read_csv('../data/buffer_overflow_data.csv.gz')"
      ],
      "execution_count": 0,
      "outputs": []
    },
    {
      "cell_type": "code",
      "metadata": {
        "colab_type": "code",
        "id": "76z9869-k8kQ",
        "colab": {}
      },
      "source": [
        "labels = data.copy()\n",
        "del labels['Unnamed: 0']\n",
        "del labels['Unnamed: 0.1']\n",
        "del labels['filename']\n",
        "del labels['code']\n",
        "del labels['flaw']\n",
        "del labels['flaw_loc']\n",
        "labels = labels.drop_duplicates().sort_values('testcase_ID').reset_index(drop=True)"
      ],
      "execution_count": 0,
      "outputs": []
    },
    {
      "cell_type": "code",
      "metadata": {
        "colab_type": "code",
        "id": "AyqJFOtWk8kg",
        "colab": {}
      },
      "source": [
        "with open(\"../data/adj.pickle\",'rb') as f:\n",
        "    adj = pickle.load(f)"
      ],
      "execution_count": 0,
      "outputs": []
    },
    {
      "cell_type": "code",
      "metadata": {
        "colab_type": "code",
        "id": "PHikMdozk8k1",
        "colab": {}
      },
      "source": [
        "adj = adj.rename(columns={0: 'testcase_ID', 1: 'matrix'})"
      ],
      "execution_count": 0,
      "outputs": []
    },
    {
      "cell_type": "code",
      "metadata": {
        "colab_type": "code",
        "id": "pIdnRsBjk8k-",
        "colab": {}
      },
      "source": [
        "adj_orig_df = pd.merge(labels, adj, on='testcase_ID')"
      ],
      "execution_count": 0,
      "outputs": []
    },
    {
      "cell_type": "code",
      "metadata": {
        "colab_type": "code",
        "id": "s-qHa46Vk8lK",
        "colab": {}
      },
      "source": [
        "adj_orig_df = adj_orig_df[['testcase_ID', 'matrix', 'bug']]"
      ],
      "execution_count": 0,
      "outputs": []
    },
    {
      "cell_type": "markdown",
      "metadata": {
        "colab_type": "text",
        "id": "qB06ooxxo--s"
      },
      "source": [
        "Next, find out the maximum size of an adjacency matrix, then convert all matrices to have the same dimension."
      ]
    },
    {
      "cell_type": "code",
      "metadata": {
        "colab_type": "code",
        "id": "HNY1UrHJk8lg",
        "colab": {}
      },
      "source": [
        "adj_orig_df['matrix_size'] = adj_orig_df.matrix.apply(lambda x: x.shape[0])"
      ],
      "execution_count": 0,
      "outputs": []
    },
    {
      "cell_type": "code",
      "metadata": {
        "colab_type": "code",
        "id": "p6zGXUxbk8l1",
        "outputId": "4d3857f8-96e0-4796-f52e-54a6cdf1ab1b",
        "colab": {
          "base_uri": "https://localhost:8080/",
          "height": 170
        }
      },
      "source": [
        "adj_orig_df['matrix_size'].describe()"
      ],
      "execution_count": 13,
      "outputs": [
        {
          "output_type": "execute_result",
          "data": {
            "text/plain": [
              "count    21502.000000\n",
              "mean      2186.138778\n",
              "std       7239.752920\n",
              "min          4.000000\n",
              "25%        349.000000\n",
              "50%        396.000000\n",
              "75%        614.000000\n",
              "max      44401.000000\n",
              "Name: matrix_size, dtype: float64"
            ]
          },
          "metadata": {
            "tags": []
          },
          "execution_count": 13
        }
      ]
    },
    {
      "cell_type": "markdown",
      "metadata": {
        "colab_type": "text",
        "id": "VlN1pb2SJW2i"
      },
      "source": [
        "So we know that 75% of the dataset has a matrix size <= 614, which is approximately 18000 datapoints. Picking the full dataset would require matrices of dimension 44401x44401 which require 15 gb of memory each. This is isn't feasible, however picking matrices of size 614x614 or less gives a per matrix size of 3.38mb - far more manageable!"
      ]
    },
    {
      "cell_type": "code",
      "metadata": {
        "colab_type": "code",
        "id": "JXR174VPKKzR",
        "outputId": "be09d763-5388-41fe-f306-24bab138c865",
        "colab": {
          "base_uri": "https://localhost:8080/",
          "height": 34
        }
      },
      "source": [
        "matrix_size = 614\n",
        "adj_orig_df = adj_orig_df[adj_orig_df['matrix_size'] <= matrix_size]\n",
        "len(adj_orig_df)"
      ],
      "execution_count": 14,
      "outputs": [
        {
          "output_type": "execute_result",
          "data": {
            "text/plain": [
              "16128"
            ]
          },
          "metadata": {
            "tags": []
          },
          "execution_count": 14
        }
      ]
    },
    {
      "cell_type": "code",
      "metadata": {
        "colab_type": "code",
        "id": "LAO53g_RI1W6",
        "colab": {}
      },
      "source": [
        "adj_df = adj_orig_df.copy()"
      ],
      "execution_count": 0,
      "outputs": []
    },
    {
      "cell_type": "code",
      "metadata": {
        "colab_type": "code",
        "id": "MCV9Vwupk8mI",
        "colab": {}
      },
      "source": [
        "def bottom_right_matrix_size_corrector(matrix, target_rows, target_columns):\n",
        "    '''Pads matrix with zeros to the desired size'''\n",
        "    \n",
        "    rows, columns = matrix.shape[0], matrix.shape[1]\n",
        "    \n",
        "    row_corrector = csr_matrix((target_rows-rows, columns))\n",
        "    col_corrector = csr_matrix((target_rows, target_columns-columns))\n",
        "\n",
        "    matrix = vstack([matrix, row_corrector])\n",
        "    matrix = hstack([matrix, col_corrector])\n",
        "\n",
        "    matrix = matrix.astype(np.int)\n",
        "    \n",
        "    return matrix "
      ],
      "execution_count": 0,
      "outputs": []
    },
    {
      "cell_type": "code",
      "metadata": {
        "colab_type": "code",
        "id": "yI1YFNQMk8mp",
        "colab": {}
      },
      "source": [
        "adj_df['matrix'] = adj_df['matrix'].apply(lambda m: bottom_right_matrix_size_corrector(m, matrix_size, matrix_size))"
      ],
      "execution_count": 0,
      "outputs": []
    },
    {
      "cell_type": "code",
      "metadata": {
        "colab_type": "code",
        "id": "zy8qe3IdrKml",
        "colab": {}
      },
      "source": [
        "testcase_ids = adj_df['testcase_ID'].values\n",
        "adjacency_matrices = adj_df['matrix'].values\n",
        "labels = adj_df['bug'].values"
      ],
      "execution_count": 0,
      "outputs": []
    },
    {
      "cell_type": "markdown",
      "metadata": {
        "colab_type": "text",
        "id": "ga6SW3_qpF80"
      },
      "source": [
        "Now we have a dataframe for each testcase with a sparse representation of its AST in the matrix column, each normalised to matrix_size x matrix_size in size.\n",
        "  \n",
        "\n"
      ]
    },
    {
      "cell_type": "markdown",
      "metadata": {
        "colab_type": "text",
        "id": "yXrUMkzYSgUz"
      },
      "source": [
        "Storing all of these matrices in a dense representation at once might cause memory issues. To avoid this, we write a class which generates dense matrices for each of the training batches. \n",
        "\n",
        "We also perform the element wrapping as part of this process (since we can't perform it on the sparse arrays, I think)."
      ]
    },
    {
      "cell_type": "code",
      "metadata": {
        "colab_type": "code",
        "id": "dBPBYHNJxm-D",
        "colab": {}
      },
      "source": [
        "class SparseToDenseGenerator(keras.utils.Sequence):\n",
        "\n",
        "    def __init__(self, sparse_matrices, labels, batch_size):\n",
        "        self.sparse_matrices = sparse_matrices\n",
        "        self.labels = labels\n",
        "        self.batch_size = batch_size\n",
        "\n",
        "    def __len__(self):\n",
        "        return int(np.ceil(len(self.sparse_matrices) / float(self.batch_size)))\n",
        "\n",
        "    def __getitem__(self, batch_num):\n",
        "        start_index = batch_num * self.batch_size\n",
        "        end_index = (batch_num + 1) * self.batch_size\n",
        "        \n",
        "        batch_sparse = self.sparse_matrices[start_index:end_index]\n",
        "        batch_labels = self.labels[start_index:end_index]\n",
        "        \n",
        "        batch_dense = np.array([sparse_matrix.todense() for sparse_matrix in batch_sparse])\n",
        "        \n",
        "        # TODO: move this somewhere better\n",
        "        # Conv2D requires an extra dimension for \"channels\", so we need to convert our data from\n",
        "        # the shape (batch_size, matrix_rows, matrix_columns)\n",
        "        # to (batch_size, matrix_rows, matrix_columns, 1)\n",
        "        batch_dense = np.reshape(batch_dense, batch_dense.shape + (1, ))\n",
        "\n",
        "        return batch_dense, np.array(batch_labels)"
      ],
      "execution_count": 0,
      "outputs": []
    },
    {
      "cell_type": "markdown",
      "metadata": {
        "colab_type": "text",
        "id": "W8rFgat6TFnc"
      },
      "source": [
        "Finally, we generate the train and test splits:"
      ]
    },
    {
      "cell_type": "markdown",
      "metadata": {
        "colab_type": "text",
        "id": "_fwvFaXuR_Pg"
      },
      "source": [
        "Load in out pre-generated training and test sets from the graph2vec dataset. We use the indices from these to extract the same set split in our adjacency dataset."
      ]
    },
    {
      "cell_type": "code",
      "metadata": {
        "colab_type": "code",
        "id": "cxO5J1xySMDV",
        "colab": {}
      },
      "source": [
        "x_train, x_test, y_train, y_test = train_test_split(adjacency_matrices, labels, test_size=0.2, random_state = 0)"
      ],
      "execution_count": 0,
      "outputs": []
    },
    {
      "cell_type": "markdown",
      "metadata": {
        "colab_type": "text",
        "id": "nda-Xjsjk8ng"
      },
      "source": [
        "# Model"
      ]
    },
    {
      "cell_type": "code",
      "metadata": {
        "colab_type": "code",
        "id": "KqlHfs2Kk8ni",
        "scrolled": true,
        "colab": {}
      },
      "source": [
        "from keras.layers import Dense, Dropout, Flatten, Reshape, Activation\n",
        "from keras.layers import Conv1D, MaxPooling1D, Conv2D, GlobalMaxPooling2D, MaxPooling2D, Convolution2D\n",
        "from keras.models import Sequential\n",
        "from keras.layers.normalization import BatchNormalization\n",
        "from keras.layers.advanced_activations import LeakyReLU\n",
        "from keras.optimizers import RMSprop, Adadelta, Adam\n",
        "from keras.utils import np_utils\n",
        "from keras import backend as K"
      ],
      "execution_count": 0,
      "outputs": []
    },
    {
      "cell_type": "code",
      "metadata": {
        "colab_type": "code",
        "id": "kmlCQ77P3itE",
        "outputId": "d924123f-0a2d-4e24-8e9c-89e1bf2b3ffe",
        "colab": {
          "base_uri": "https://localhost:8080/",
          "height": 34
        }
      },
      "source": [
        "batch_size = 96\n",
        "epochs = 5\n",
        "num_samples = len(labels)\n",
        "\n",
        "datapoint_shape = (matrix_size, matrix_size, )\n",
        "batch_shape = (batch_size, ) + datapoint_shape\n",
        "\n",
        "steps_per_epoch = int(np.ceil(num_samples/batch_size))\n",
        "\n",
        "kernel_size = (2, 2)\n",
        "strides = max(kernel_size[0] // 3, 1)\n",
        "\n",
        "batch_size, epochs, num_samples, datapoint_shape, batch_shape, steps_per_epoch, kernel_size, strides"
      ],
      "execution_count": 22,
      "outputs": [
        {
          "output_type": "execute_result",
          "data": {
            "text/plain": [
              "(96, 5, 16128, (614, 614), (96, 614, 614), 168, (2, 2), 1)"
            ]
          },
          "metadata": {
            "tags": []
          },
          "execution_count": 22
        }
      ]
    },
    {
      "cell_type": "code",
      "metadata": {
        "colab_type": "code",
        "id": "a1aVESBAk8nu",
        "outputId": "f8145541-26b2-413b-8006-fdef3bcb883f",
        "colab": {
          "base_uri": "https://localhost:8080/",
          "height": 1000
        }
      },
      "source": [
        "model = Sequential()\n",
        "\n",
        "model.add(Conv2D(\n",
        "    data_format='channels_last',\n",
        "    input_shape=(matrix_size, matrix_size, 1),\n",
        "    filters=32,\n",
        "    kernel_size=kernel_size,\n",
        "    strides=strides,\n",
        "))\n",
        "model.add(Activation('relu'))\n",
        "model.add(MaxPooling2D(kernel_size, padding='same'))\n",
        "\n",
        "model.add(Conv2D(\n",
        "    data_format='channels_last',\n",
        "    input_shape=(matrix_size, matrix_size, 1),\n",
        "    filters=32,\n",
        "    kernel_size=kernel_size,\n",
        "    strides=strides,\n",
        "    activation='relu',\n",
        "))\n",
        "model.add(Activation('relu'))\n",
        "model.add(MaxPooling2D(kernel_size, padding='same'))\n",
        "\n",
        "model.add(Conv2D(\n",
        "    data_format='channels_last',\n",
        "    input_shape=(matrix_size, matrix_size, 1),\n",
        "    filters=32,\n",
        "    kernel_size=kernel_size,\n",
        "    strides=strides,\n",
        "    activation='relu',\n",
        "))\n",
        "model.add(Activation('relu'))\n",
        "model.add(MaxPooling2D(kernel_size, padding='same'))\n",
        "\n",
        "model.add(Flatten())\n",
        "\n",
        "model.add(Dense(units=32, activation='relu'))\n",
        "model.add(Dense(units=32, activation='relu'))\n",
        "model.add(Dense(units=32, activation='relu'))\n",
        "\n",
        "model.add(Dropout(0.2))\n",
        "\n",
        "model.add(Dense(units=1, activation='sigmoid'))\n",
        "\n",
        "model.compile(optimizer=Adam(), loss='binary_crossentropy', metrics=['accuracy'])\n",
        "\n",
        "model.summary()"
      ],
      "execution_count": 0,
      "outputs": [
        {
          "output_type": "stream",
          "text": [
            "WARNING:tensorflow:From /usr/local/lib/python3.6/dist-packages/tensorflow/python/framework/op_def_library.py:263: colocate_with (from tensorflow.python.framework.ops) is deprecated and will be removed in a future version.\n",
            "Instructions for updating:\n",
            "Colocations handled automatically by placer.\n",
            "WARNING:tensorflow:From /usr/local/lib/python3.6/dist-packages/keras/backend/tensorflow_backend.py:3445: calling dropout (from tensorflow.python.ops.nn_ops) with keep_prob is deprecated and will be removed in a future version.\n",
            "Instructions for updating:\n",
            "Please use `rate` instead of `keep_prob`. Rate should be set to `rate = 1 - keep_prob`.\n",
            "_________________________________________________________________\n",
            "Layer (type)                 Output Shape              Param #   \n",
            "=================================================================\n",
            "conv2d_1 (Conv2D)            (None, 613, 613, 32)      160       \n",
            "_________________________________________________________________\n",
            "activation_1 (Activation)    (None, 613, 613, 32)      0         \n",
            "_________________________________________________________________\n",
            "max_pooling2d_1 (MaxPooling2 (None, 307, 307, 32)      0         \n",
            "_________________________________________________________________\n",
            "conv2d_2 (Conv2D)            (None, 306, 306, 32)      4128      \n",
            "_________________________________________________________________\n",
            "activation_2 (Activation)    (None, 306, 306, 32)      0         \n",
            "_________________________________________________________________\n",
            "max_pooling2d_2 (MaxPooling2 (None, 153, 153, 32)      0         \n",
            "_________________________________________________________________\n",
            "conv2d_3 (Conv2D)            (None, 152, 152, 32)      4128      \n",
            "_________________________________________________________________\n",
            "activation_3 (Activation)    (None, 152, 152, 32)      0         \n",
            "_________________________________________________________________\n",
            "max_pooling2d_3 (MaxPooling2 (None, 76, 76, 32)        0         \n",
            "_________________________________________________________________\n",
            "flatten_1 (Flatten)          (None, 184832)            0         \n",
            "_________________________________________________________________\n",
            "dense_1 (Dense)              (None, 32)                5914656   \n",
            "_________________________________________________________________\n",
            "dense_2 (Dense)              (None, 32)                1056      \n",
            "_________________________________________________________________\n",
            "dense_3 (Dense)              (None, 32)                1056      \n",
            "_________________________________________________________________\n",
            "dropout_1 (Dropout)          (None, 32)                0         \n",
            "_________________________________________________________________\n",
            "dense_4 (Dense)              (None, 1)                 33        \n",
            "=================================================================\n",
            "Total params: 5,925,217\n",
            "Trainable params: 5,925,217\n",
            "Non-trainable params: 0\n",
            "_________________________________________________________________\n"
          ],
          "name": "stdout"
        }
      ]
    },
    {
      "cell_type": "code",
      "metadata": {
        "colab_type": "code",
        "id": "kvwqvHZhgnGX",
        "outputId": "48e52d68-70fa-464b-bf4a-acecc7509c5f",
        "colab": {}
      },
      "source": [
        "import keras\n",
        "import pydot as pyd\n",
        "from IPython.display import SVG\n",
        "from keras.utils.vis_utils import model_to_dot\n",
        "\n",
        "keras.utils.vis_utils.pydot = pyd\n",
        "\n",
        "def visualize_model(model):\n",
        "  return model_to_dot(model).create(prog='dot', format='svg')\n",
        "\n",
        "model_diagram = visualize_model(model)\n",
        "\n",
        "with open('../images/adj-architecture-cnn.svg', 'wb') as f:\n",
        "    f.write(model_diagram)\n",
        "\n",
        "#SVG(model_diagram)"
      ],
      "execution_count": 0,
      "outputs": [
        {
          "output_type": "execute_result",
          "data": {
            "image/svg+xml": "<svg height=\"1140pt\" viewBox=\"0.00 0.00 262.00 1140.00\" width=\"262pt\" xmlns=\"http://www.w3.org/2000/svg\" xmlns:xlink=\"http://www.w3.org/1999/xlink\">\n<g class=\"graph\" id=\"graph0\" transform=\"scale(1 1) rotate(0) translate(4 1136)\">\n<title>G</title>\n<polygon fill=\"#ffffff\" points=\"-4,4 -4,-1136 258,-1136 258,4 -4,4\" stroke=\"transparent\"/>\n<!-- 139984599877056 -->\n<g class=\"node\" id=\"node1\">\n<title>139984599877056</title>\n<polygon fill=\"none\" points=\"51.5,-1022.5 51.5,-1058.5 202.5,-1058.5 202.5,-1022.5 51.5,-1022.5\" stroke=\"#000000\"/>\n<text fill=\"#000000\" font-family=\"Times,serif\" font-size=\"14.00\" text-anchor=\"middle\" x=\"127\" y=\"-1036.8\">conv2d_1: Conv2D</text>\n</g>\n<!-- 139984599877616 -->\n<g class=\"node\" id=\"node2\">\n<title>139984599877616</title>\n<polygon fill=\"none\" points=\"33.5,-949.5 33.5,-985.5 220.5,-985.5 220.5,-949.5 33.5,-949.5\" stroke=\"#000000\"/>\n<text fill=\"#000000\" font-family=\"Times,serif\" font-size=\"14.00\" text-anchor=\"middle\" x=\"127\" y=\"-963.8\">activation_1: Activation</text>\n</g>\n<!-- 139984599877056&#45;&gt;139984599877616 -->\n<g class=\"edge\" id=\"edge2\">\n<title>139984599877056-&gt;139984599877616</title>\n<path d=\"M127,-1022.4551C127,-1014.3828 127,-1004.6764 127,-995.6817\" fill=\"none\" stroke=\"#000000\"/>\n<polygon fill=\"#000000\" points=\"130.5001,-995.5903 127,-985.5904 123.5001,-995.5904 130.5001,-995.5903\" stroke=\"#000000\"/>\n</g>\n<!-- 139984599878512 -->\n<g class=\"node\" id=\"node3\">\n<title>139984599878512</title>\n<polygon fill=\"none\" points=\"0,-876.5 0,-912.5 254,-912.5 254,-876.5 0,-876.5\" stroke=\"#000000\"/>\n<text fill=\"#000000\" font-family=\"Times,serif\" font-size=\"14.00\" text-anchor=\"middle\" x=\"127\" y=\"-890.8\">max_pooling2d_1: MaxPooling2D</text>\n</g>\n<!-- 139984599877616&#45;&gt;139984599878512 -->\n<g class=\"edge\" id=\"edge3\">\n<title>139984599877616-&gt;139984599878512</title>\n<path d=\"M127,-949.4551C127,-941.3828 127,-931.6764 127,-922.6817\" fill=\"none\" stroke=\"#000000\"/>\n<polygon fill=\"#000000\" points=\"130.5001,-922.5903 127,-912.5904 123.5001,-922.5904 130.5001,-922.5903\" stroke=\"#000000\"/>\n</g>\n<!-- 139984599879184 -->\n<g class=\"node\" id=\"node4\">\n<title>139984599879184</title>\n<polygon fill=\"none\" points=\"51.5,-803.5 51.5,-839.5 202.5,-839.5 202.5,-803.5 51.5,-803.5\" stroke=\"#000000\"/>\n<text fill=\"#000000\" font-family=\"Times,serif\" font-size=\"14.00\" text-anchor=\"middle\" x=\"127\" y=\"-817.8\">conv2d_2: Conv2D</text>\n</g>\n<!-- 139984599878512&#45;&gt;139984599879184 -->\n<g class=\"edge\" id=\"edge4\">\n<title>139984599878512-&gt;139984599879184</title>\n<path d=\"M127,-876.4551C127,-868.3828 127,-858.6764 127,-849.6817\" fill=\"none\" stroke=\"#000000\"/>\n<polygon fill=\"#000000\" points=\"130.5001,-849.5903 127,-839.5904 123.5001,-849.5904 130.5001,-849.5903\" stroke=\"#000000\"/>\n</g>\n<!-- 139984599365224 -->\n<g class=\"node\" id=\"node5\">\n<title>139984599365224</title>\n<polygon fill=\"none\" points=\"33.5,-730.5 33.5,-766.5 220.5,-766.5 220.5,-730.5 33.5,-730.5\" stroke=\"#000000\"/>\n<text fill=\"#000000\" font-family=\"Times,serif\" font-size=\"14.00\" text-anchor=\"middle\" x=\"127\" y=\"-744.8\">activation_2: Activation</text>\n</g>\n<!-- 139984599879184&#45;&gt;139984599365224 -->\n<g class=\"edge\" id=\"edge5\">\n<title>139984599879184-&gt;139984599365224</title>\n<path d=\"M127,-803.4551C127,-795.3828 127,-785.6764 127,-776.6817\" fill=\"none\" stroke=\"#000000\"/>\n<polygon fill=\"#000000\" points=\"130.5001,-776.5903 127,-766.5904 123.5001,-776.5904 130.5001,-776.5903\" stroke=\"#000000\"/>\n</g>\n<!-- 139984599388000 -->\n<g class=\"node\" id=\"node6\">\n<title>139984599388000</title>\n<polygon fill=\"none\" points=\"0,-657.5 0,-693.5 254,-693.5 254,-657.5 0,-657.5\" stroke=\"#000000\"/>\n<text fill=\"#000000\" font-family=\"Times,serif\" font-size=\"14.00\" text-anchor=\"middle\" x=\"127\" y=\"-671.8\">max_pooling2d_2: MaxPooling2D</text>\n</g>\n<!-- 139984599365224&#45;&gt;139984599388000 -->\n<g class=\"edge\" id=\"edge6\">\n<title>139984599365224-&gt;139984599388000</title>\n<path d=\"M127,-730.4551C127,-722.3828 127,-712.6764 127,-703.6817\" fill=\"none\" stroke=\"#000000\"/>\n<polygon fill=\"#000000\" points=\"130.5001,-703.5903 127,-693.5904 123.5001,-703.5904 130.5001,-703.5903\" stroke=\"#000000\"/>\n</g>\n<!-- 139984599366792 -->\n<g class=\"node\" id=\"node7\">\n<title>139984599366792</title>\n<polygon fill=\"none\" points=\"51.5,-584.5 51.5,-620.5 202.5,-620.5 202.5,-584.5 51.5,-584.5\" stroke=\"#000000\"/>\n<text fill=\"#000000\" font-family=\"Times,serif\" font-size=\"14.00\" text-anchor=\"middle\" x=\"127\" y=\"-598.8\">conv2d_3: Conv2D</text>\n</g>\n<!-- 139984599388000&#45;&gt;139984599366792 -->\n<g class=\"edge\" id=\"edge7\">\n<title>139984599388000-&gt;139984599366792</title>\n<path d=\"M127,-657.4551C127,-649.3828 127,-639.6764 127,-630.6817\" fill=\"none\" stroke=\"#000000\"/>\n<polygon fill=\"#000000\" points=\"130.5001,-630.5903 127,-620.5904 123.5001,-630.5904 130.5001,-630.5903\" stroke=\"#000000\"/>\n</g>\n<!-- 139984599387944 -->\n<g class=\"node\" id=\"node8\">\n<title>139984599387944</title>\n<polygon fill=\"none\" points=\"33.5,-511.5 33.5,-547.5 220.5,-547.5 220.5,-511.5 33.5,-511.5\" stroke=\"#000000\"/>\n<text fill=\"#000000\" font-family=\"Times,serif\" font-size=\"14.00\" text-anchor=\"middle\" x=\"127\" y=\"-525.8\">activation_3: Activation</text>\n</g>\n<!-- 139984599366792&#45;&gt;139984599387944 -->\n<g class=\"edge\" id=\"edge8\">\n<title>139984599366792-&gt;139984599387944</title>\n<path d=\"M127,-584.4551C127,-576.3828 127,-566.6764 127,-557.6817\" fill=\"none\" stroke=\"#000000\"/>\n<polygon fill=\"#000000\" points=\"130.5001,-557.5903 127,-547.5904 123.5001,-557.5904 130.5001,-557.5903\" stroke=\"#000000\"/>\n</g>\n<!-- 139984599424584 -->\n<g class=\"node\" id=\"node9\">\n<title>139984599424584</title>\n<polygon fill=\"none\" points=\"0,-438.5 0,-474.5 254,-474.5 254,-438.5 0,-438.5\" stroke=\"#000000\"/>\n<text fill=\"#000000\" font-family=\"Times,serif\" font-size=\"14.00\" text-anchor=\"middle\" x=\"127\" y=\"-452.8\">max_pooling2d_3: MaxPooling2D</text>\n</g>\n<!-- 139984599387944&#45;&gt;139984599424584 -->\n<g class=\"edge\" id=\"edge9\">\n<title>139984599387944-&gt;139984599424584</title>\n<path d=\"M127,-511.4551C127,-503.3828 127,-493.6764 127,-484.6817\" fill=\"none\" stroke=\"#000000\"/>\n<polygon fill=\"#000000\" points=\"130.5001,-484.5903 127,-474.5904 123.5001,-484.5904 130.5001,-484.5903\" stroke=\"#000000\"/>\n</g>\n<!-- 139984599422232 -->\n<g class=\"node\" id=\"node10\">\n<title>139984599422232</title>\n<polygon fill=\"none\" points=\"56.5,-365.5 56.5,-401.5 197.5,-401.5 197.5,-365.5 56.5,-365.5\" stroke=\"#000000\"/>\n<text fill=\"#000000\" font-family=\"Times,serif\" font-size=\"14.00\" text-anchor=\"middle\" x=\"127\" y=\"-379.8\">flatten_1: Flatten</text>\n</g>\n<!-- 139984599424584&#45;&gt;139984599422232 -->\n<g class=\"edge\" id=\"edge10\">\n<title>139984599424584-&gt;139984599422232</title>\n<path d=\"M127,-438.4551C127,-430.3828 127,-420.6764 127,-411.6817\" fill=\"none\" stroke=\"#000000\"/>\n<polygon fill=\"#000000\" points=\"130.5001,-411.5903 127,-401.5904 123.5001,-411.5904 130.5001,-411.5903\" stroke=\"#000000\"/>\n</g>\n<!-- 139984599424920 -->\n<g class=\"node\" id=\"node11\">\n<title>139984599424920</title>\n<polygon fill=\"none\" points=\"63,-292.5 63,-328.5 191,-328.5 191,-292.5 63,-292.5\" stroke=\"#000000\"/>\n<text fill=\"#000000\" font-family=\"Times,serif\" font-size=\"14.00\" text-anchor=\"middle\" x=\"127\" y=\"-306.8\">dense_1: Dense</text>\n</g>\n<!-- 139984599422232&#45;&gt;139984599424920 -->\n<g class=\"edge\" id=\"edge11\">\n<title>139984599422232-&gt;139984599424920</title>\n<path d=\"M127,-365.4551C127,-357.3828 127,-347.6764 127,-338.6817\" fill=\"none\" stroke=\"#000000\"/>\n<polygon fill=\"#000000\" points=\"130.5001,-338.5903 127,-328.5904 123.5001,-338.5904 130.5001,-338.5903\" stroke=\"#000000\"/>\n</g>\n<!-- 139984599459320 -->\n<g class=\"node\" id=\"node12\">\n<title>139984599459320</title>\n<polygon fill=\"none\" points=\"63,-219.5 63,-255.5 191,-255.5 191,-219.5 63,-219.5\" stroke=\"#000000\"/>\n<text fill=\"#000000\" font-family=\"Times,serif\" font-size=\"14.00\" text-anchor=\"middle\" x=\"127\" y=\"-233.8\">dense_2: Dense</text>\n</g>\n<!-- 139984599424920&#45;&gt;139984599459320 -->\n<g class=\"edge\" id=\"edge12\">\n<title>139984599424920-&gt;139984599459320</title>\n<path d=\"M127,-292.4551C127,-284.3828 127,-274.6764 127,-265.6817\" fill=\"none\" stroke=\"#000000\"/>\n<polygon fill=\"#000000\" points=\"130.5001,-265.5903 127,-255.5904 123.5001,-265.5904 130.5001,-265.5903\" stroke=\"#000000\"/>\n</g>\n<!-- 139984599474304 -->\n<g class=\"node\" id=\"node13\">\n<title>139984599474304</title>\n<polygon fill=\"none\" points=\"63,-146.5 63,-182.5 191,-182.5 191,-146.5 63,-146.5\" stroke=\"#000000\"/>\n<text fill=\"#000000\" font-family=\"Times,serif\" font-size=\"14.00\" text-anchor=\"middle\" x=\"127\" y=\"-160.8\">dense_3: Dense</text>\n</g>\n<!-- 139984599459320&#45;&gt;139984599474304 -->\n<g class=\"edge\" id=\"edge13\">\n<title>139984599459320-&gt;139984599474304</title>\n<path d=\"M127,-219.4551C127,-211.3828 127,-201.6764 127,-192.6817\" fill=\"none\" stroke=\"#000000\"/>\n<polygon fill=\"#000000\" points=\"130.5001,-192.5903 127,-182.5904 123.5001,-192.5904 130.5001,-192.5903\" stroke=\"#000000\"/>\n</g>\n<!-- 139984599494048 -->\n<g class=\"node\" id=\"node14\">\n<title>139984599494048</title>\n<polygon fill=\"none\" points=\"48.5,-73.5 48.5,-109.5 205.5,-109.5 205.5,-73.5 48.5,-73.5\" stroke=\"#000000\"/>\n<text fill=\"#000000\" font-family=\"Times,serif\" font-size=\"14.00\" text-anchor=\"middle\" x=\"127\" y=\"-87.8\">dropout_1: Dropout</text>\n</g>\n<!-- 139984599474304&#45;&gt;139984599494048 -->\n<g class=\"edge\" id=\"edge14\">\n<title>139984599474304-&gt;139984599494048</title>\n<path d=\"M127,-146.4551C127,-138.3828 127,-128.6764 127,-119.6817\" fill=\"none\" stroke=\"#000000\"/>\n<polygon fill=\"#000000\" points=\"130.5001,-119.5903 127,-109.5904 123.5001,-119.5904 130.5001,-119.5903\" stroke=\"#000000\"/>\n</g>\n<!-- 139984599529344 -->\n<g class=\"node\" id=\"node15\">\n<title>139984599529344</title>\n<polygon fill=\"none\" points=\"63,-.5 63,-36.5 191,-36.5 191,-.5 63,-.5\" stroke=\"#000000\"/>\n<text fill=\"#000000\" font-family=\"Times,serif\" font-size=\"14.00\" text-anchor=\"middle\" x=\"127\" y=\"-14.8\">dense_4: Dense</text>\n</g>\n<!-- 139984599494048&#45;&gt;139984599529344 -->\n<g class=\"edge\" id=\"edge15\">\n<title>139984599494048-&gt;139984599529344</title>\n<path d=\"M127,-73.4551C127,-65.3828 127,-55.6764 127,-46.6817\" fill=\"none\" stroke=\"#000000\"/>\n<polygon fill=\"#000000\" points=\"130.5001,-46.5903 127,-36.5904 123.5001,-46.5904 130.5001,-46.5903\" stroke=\"#000000\"/>\n</g>\n<!-- 139984599878120 -->\n<g class=\"node\" id=\"node16\">\n<title>139984599878120</title>\n<polygon fill=\"none\" points=\"51,-1095.5 51,-1131.5 203,-1131.5 203,-1095.5 51,-1095.5\" stroke=\"#000000\"/>\n<text fill=\"#000000\" font-family=\"Times,serif\" font-size=\"14.00\" text-anchor=\"middle\" x=\"127\" y=\"-1109.8\">139984599878120</text>\n</g>\n<!-- 139984599878120&#45;&gt;139984599877056 -->\n<g class=\"edge\" id=\"edge1\">\n<title>139984599878120-&gt;139984599877056</title>\n<path d=\"M127,-1095.4551C127,-1087.3828 127,-1077.6764 127,-1068.6817\" fill=\"none\" stroke=\"#000000\"/>\n<polygon fill=\"#000000\" points=\"130.5001,-1068.5903 127,-1058.5904 123.5001,-1068.5904 130.5001,-1068.5903\" stroke=\"#000000\"/>\n</g>\n</g>\n</svg>",
            "text/plain": [
              "<IPython.core.display.SVG object>"
            ]
          },
          "metadata": {
            "tags": []
          },
          "execution_count": 22
        }
      ]
    },
    {
      "cell_type": "code",
      "metadata": {
        "colab_type": "code",
        "id": "gAErQWeyk8nz",
        "outputId": "4d569483-0871-414b-f455-66e483fe1e25",
        "scrolled": true,
        "colab": {
          "base_uri": "https://localhost:8080/",
          "height": 1000
        }
      },
      "source": [
        "training_batch_generator = SparseToDenseGenerator(x_train, y_train, batch_size)\n",
        "\n",
        "model.fit_generator(\n",
        "    generator=training_batch_generator,\n",
        "    epochs=epochs,\n",
        "    steps_per_epoch=steps_per_epoch\n",
        ")"
      ],
      "execution_count": 0,
      "outputs": [
        {
          "output_type": "stream",
          "text": [
            "Epoch 1/5\n",
            "168/168 [==============================] - 2435s 14s/step - loss: 0.5138 - acc: 0.7184\n",
            "Epoch 2/5\n",
            "168/168 [==============================] - 2390s 14s/step - loss: 0.1513 - acc: 0.9434\n",
            "Epoch 3/5\n",
            "168/168 [==============================] - 2384s 14s/step - loss: 0.0553 - acc: 0.9829\n",
            "Epoch 4/5\n",
            "168/168 [==============================] - 2383s 14s/step - loss: 0.0318 - acc: 0.9906\n",
            "Epoch 5/5\n",
            "168/168 [==============================] - 2396s 14s/step - loss: 0.0127 - acc: 0.9965\n"
          ],
          "name": "stdout"
        },
        {
          "output_type": "execute_result",
          "data": {
            "text/plain": [
              "<keras.callbacks.History at 0x7ff4483a9780>"
            ]
          },
          "metadata": {
            "tags": []
          },
          "execution_count": 21
        }
      ]
    },
    {
      "cell_type": "code",
      "metadata": {
        "colab_type": "code",
        "id": "2EE3gwh6k8oE",
        "colab": {}
      },
      "source": [
        " import pickle"
      ],
      "execution_count": 0,
      "outputs": []
    },
    {
      "cell_type": "code",
      "metadata": {
        "colab_type": "code",
        "id": "Wk-asGoMk8oK",
        "colab": {}
      },
      "source": [
        "with open('../data/adjacency-matrix-model-binary.pickle','wb') as f:\n",
        "    pickle.dump(model,f)"
      ],
      "execution_count": 0,
      "outputs": []
    },
    {
      "cell_type": "markdown",
      "metadata": {
        "colab_type": "text",
        "id": "w3476EyA3g-V"
      },
      "source": [
        "# Evaluation"
      ]
    },
    {
      "cell_type": "code",
      "metadata": {
        "colab_type": "code",
        "id": "bQcagc2HK0c3",
        "outputId": "2be08140-60d0-44fc-cfd9-bd24585c5a39",
        "colab": {
          "base_uri": "https://localhost:8080/",
          "height": 534
        }
      },
      "source": [
        "model = None\n",
        "with open('../data/adjacency-matrix-model-binary.pickle','rb') as f:\n",
        "    model = pickle.load(f)"
      ],
      "execution_count": 23,
      "outputs": [
        {
          "output_type": "stream",
          "text": [
            "WARNING: Logging before flag parsing goes to stderr.\n",
            "W0820 14:18:48.140561 140236243339136 deprecation_wrapper.py:119] From /usr/local/lib/python3.6/dist-packages/keras/backend/tensorflow_backend.py:517: The name tf.placeholder is deprecated. Please use tf.compat.v1.placeholder instead.\n",
            "\n",
            "W0820 14:18:48.183723 140236243339136 deprecation_wrapper.py:119] From /usr/local/lib/python3.6/dist-packages/keras/backend/tensorflow_backend.py:4138: The name tf.random_uniform is deprecated. Please use tf.random.uniform instead.\n",
            "\n",
            "W0820 14:18:48.232546 140236243339136 deprecation_wrapper.py:119] From /usr/local/lib/python3.6/dist-packages/keras/backend/tensorflow_backend.py:3976: The name tf.nn.max_pool is deprecated. Please use tf.nn.max_pool2d instead.\n",
            "\n",
            "W0820 14:18:48.316634 140236243339136 deprecation_wrapper.py:119] From /usr/local/lib/python3.6/dist-packages/keras/backend/tensorflow_backend.py:131: The name tf.get_default_graph is deprecated. Please use tf.compat.v1.get_default_graph instead.\n",
            "\n",
            "W0820 14:18:48.318002 140236243339136 deprecation_wrapper.py:119] From /usr/local/lib/python3.6/dist-packages/keras/backend/tensorflow_backend.py:133: The name tf.placeholder_with_default is deprecated. Please use tf.compat.v1.placeholder_with_default instead.\n",
            "\n",
            "W0820 14:18:48.328177 140236243339136 deprecation.py:506] From /usr/local/lib/python3.6/dist-packages/keras/backend/tensorflow_backend.py:3445: calling dropout (from tensorflow.python.ops.nn_ops) with keep_prob is deprecated and will be removed in a future version.\n",
            "Instructions for updating:\n",
            "Please use `rate` instead of `keep_prob`. Rate should be set to `rate = 1 - keep_prob`.\n",
            "W0820 14:18:48.401037 140236243339136 deprecation_wrapper.py:119] From /usr/local/lib/python3.6/dist-packages/keras/backend/tensorflow_backend.py:174: The name tf.get_default_session is deprecated. Please use tf.compat.v1.get_default_session instead.\n",
            "\n",
            "W0820 14:18:48.807183 140236243339136 deprecation_wrapper.py:119] From /usr/local/lib/python3.6/dist-packages/keras/optimizers.py:790: The name tf.train.Optimizer is deprecated. Please use tf.compat.v1.train.Optimizer instead.\n",
            "\n",
            "W0820 14:18:48.818444 140236243339136 deprecation.py:323] From /usr/local/lib/python3.6/dist-packages/tensorflow/python/ops/nn_impl.py:180: add_dispatch_support.<locals>.wrapper (from tensorflow.python.ops.array_ops) is deprecated and will be removed in a future version.\n",
            "Instructions for updating:\n",
            "Use tf.where in 2.0, which has the same broadcast rule as np.where\n"
          ],
          "name": "stderr"
        }
      ]
    },
    {
      "cell_type": "code",
      "metadata": {
        "colab_type": "code",
        "id": "nobNI0B1k8oP",
        "outputId": "8b21ac0e-5f16-4001-99e6-a66294c141c5",
        "scrolled": true,
        "colab": {
          "base_uri": "https://localhost:8080/",
          "height": 34
        }
      },
      "source": [
        "test_batch_generator = SparseToDenseGenerator(x_test, y_test, batch_size)\n",
        "\n",
        "model.evaluate_generator(\n",
        "    generator=test_batch_generator,\n",
        ")"
      ],
      "execution_count": 0,
      "outputs": [
        {
          "output_type": "error",
          "ename": "NameError",
          "evalue": "name 'SparseToDenseGenerator' is not defined",
          "traceback": [
            "\u001b[0;31m---------------------------------------------------------------------------\u001b[0m",
            "\u001b[0;31mNameError\u001b[0m                                 Traceback (most recent call last)",
            "\u001b[0;32m<ipython-input-6-c452e977c15c>\u001b[0m in \u001b[0;36m<module>\u001b[0;34m\u001b[0m\n\u001b[0;32m----> 1\u001b[0;31m \u001b[0mtest_batch_generator\u001b[0m \u001b[0;34m=\u001b[0m \u001b[0mSparseToDenseGenerator\u001b[0m\u001b[0;34m(\u001b[0m\u001b[0mx_test\u001b[0m\u001b[0;34m,\u001b[0m \u001b[0my_test\u001b[0m\u001b[0;34m,\u001b[0m \u001b[0mbatch_size\u001b[0m\u001b[0;34m)\u001b[0m\u001b[0;34m\u001b[0m\u001b[0;34m\u001b[0m\u001b[0m\n\u001b[0m\u001b[1;32m      2\u001b[0m \u001b[0;34m\u001b[0m\u001b[0m\n\u001b[1;32m      3\u001b[0m model.evaluate_generator(\n\u001b[1;32m      4\u001b[0m     \u001b[0mgenerator\u001b[0m\u001b[0;34m=\u001b[0m\u001b[0mtest_batch_generator\u001b[0m\u001b[0;34m,\u001b[0m\u001b[0;34m\u001b[0m\u001b[0;34m\u001b[0m\u001b[0m\n\u001b[1;32m      5\u001b[0m )\n",
            "\u001b[0;31mNameError\u001b[0m: name 'SparseToDenseGenerator' is not defined"
          ]
        }
      ]
    },
    {
      "cell_type": "code",
      "metadata": {
        "colab_type": "code",
        "id": "vnHI_fjlk8ob",
        "colab": {}
      },
      "source": [
        "import seaborn as sns\n",
        "from sklearn import metrics\n",
        "import matplotlib"
      ],
      "execution_count": 0,
      "outputs": []
    },
    {
      "cell_type": "code",
      "metadata": {
        "colab_type": "code",
        "id": "v4bFyChZOi0k",
        "colab": {}
      },
      "source": [
        "class SparseToDensePredictGenerator(keras.utils.Sequence):\n",
        "\n",
        "    def __init__(self, sparse_matrices, batch_size):\n",
        "        self.sparse_matrices = sparse_matrices\n",
        "        self.batch_size = batch_size\n",
        "\n",
        "    def __len__(self):\n",
        "        return int(np.ceil(len(self.sparse_matrices) / float(self.batch_size)))\n",
        "\n",
        "    def __getitem__(self, batch_num):\n",
        "        start_index = batch_num * self.batch_size\n",
        "        end_index = (batch_num + 1) * self.batch_size\n",
        "        \n",
        "        batch_sparse = self.sparse_matrices[start_index:end_index]\n",
        "        batch_dense = np.array([sparse_matrix.todense() for sparse_matrix in batch_sparse])\n",
        "        \n",
        "        # TODO: move this somewhere better\n",
        "        # Conv2D requires an extra dimension for \"channels\", so we need to convert our data from\n",
        "        # the shape (batch_size, matrix_rows, matrix_columns)\n",
        "        # to (batch_size, matrix_rows, matrix_columns, 1)\n",
        "        batch_dense = np.reshape(batch_dense, batch_dense.shape + (1, ))\n",
        "\n",
        "        return batch_dense"
      ],
      "execution_count": 0,
      "outputs": []
    },
    {
      "cell_type": "code",
      "metadata": {
        "colab_type": "code",
        "id": "5AJ9ozp5k8og",
        "colab": {}
      },
      "source": [
        "predict_batch_generator = SparseToDensePredictGenerator(x_test, batch_size)\n",
        "y_predict = model.predict_generator(predict_batch_generator)"
      ],
      "execution_count": 0,
      "outputs": []
    },
    {
      "cell_type": "code",
      "metadata": {
        "colab_type": "code",
        "id": "gh6M9qH-k8ok",
        "colab": {}
      },
      "source": [
        "import numpy as np"
      ],
      "execution_count": 0,
      "outputs": []
    },
    {
      "cell_type": "code",
      "metadata": {
        "colab_type": "code",
        "id": "xrvhYYmFk8oo",
        "outputId": "0016d15f-0b25-442b-fbb9-5483a206ea25",
        "colab": {
          "base_uri": "https://localhost:8080/",
          "height": 387
        }
      },
      "source": [
        "confusion_matrix = pd.DataFrame(\n",
        "    data=metrics.confusion_matrix(y_test, np.rint(y_predict)),\n",
        ")\n",
        "\n",
        "confusion_figure, confusion_axes = matplotlib.pyplot.subplots()\n",
        "confusion_figure.set_size_inches(8, 5)\n",
        "confusion_axes.set_title(\n",
        "    'Confusion matrix showing the frequency of \\n'\n",
        "    'correct and incorrect bug classification predictions.'\n",
        "    '\\n\\n'  # hack to avoid overlap with x-axis labels below\n",
        ")\n",
        "confusion_axes.xaxis.tick_top()  # move x-axis labels to top of matrix\n",
        "_ = sns.heatmap(\n",
        "    confusion_matrix,\n",
        "    annot=True,\n",
        "    fmt=\"d\",\n",
        "    cmap=sns.color_palette(\"Blues\"),\n",
        "    vmin=0,\n",
        "    ax=confusion_axes,\n",
        ")"
      ],
      "execution_count": 28,
      "outputs": [
        {
          "output_type": "display_data",
          "data": {
            "image/png": "[encoded data removed]",
            "text/plain": [
              "<Figure size 576x360 with 2 Axes>"
            ]
          },
          "metadata": {
            "tags": []
          }
        }
      ]
    },
    {
      "cell_type": "code",
      "metadata": {
        "colab_type": "code",
        "id": "SFlZwTBIk8o8",
        "colab": {}
      },
      "source": [
        "from sklearn.metrics import roc_curve\n",
        "fpr_keras, tpr_keras, thresholds_keras = roc_curve(\n",
        "    y_test.astype(int),\n",
        "    np.rint(y_predict),\n",
        ")"
      ],
      "execution_count": 0,
      "outputs": []
    },
    {
      "cell_type": "code",
      "metadata": {
        "colab_type": "code",
        "id": "a8_7LWSmk8pI",
        "colab": {}
      },
      "source": [
        "from sklearn.metrics import auc\n",
        "import matplotlib.pyplot as plt\n",
        "auc_keras = auc(fpr_keras, tpr_keras)"
      ],
      "execution_count": 0,
      "outputs": []
    },
    {
      "cell_type": "code",
      "metadata": {
        "id": "9yJooYQHZXD3",
        "colab_type": "code",
        "colab": {}
      },
      "source": [
        "with open('../data/cnn-adj-roc','wb') as f:\n",
        "    pickle.dump(auc_keras, f)"
      ],
      "execution_count": 0,
      "outputs": []
    },
    {
      "cell_type": "code",
      "metadata": {
        "colab_type": "code",
        "id": "mM9vPPIGk8pO",
        "outputId": "9b74f34b-ba99-4003-f67f-cfcc71b01077",
        "colab": {
          "base_uri": "https://localhost:8080/",
          "height": 295
        }
      },
      "source": [
        "plt.plot(fpr_keras, tpr_keras, label='Keras (area = {:.3f})'.format(auc_keras))\n",
        "plt.xlabel('False positive rate')\n",
        "plt.ylabel('True positive rate')\n",
        "plt.title('ROC curve')\n",
        "plt.legend(loc='best')\n",
        "plt.show()"
      ],
      "execution_count": 32,
      "outputs": [
        {
          "output_type": "display_data",
          "data": {
            "image/png": "[encoded data removed]",
            "text/plain": [
              "<Figure size 432x288 with 1 Axes>"
            ]
          },
          "metadata": {
            "tags": []
          }
        }
      ]
    },
    {
      "cell_type": "code",
      "metadata": {
        "colab_type": "code",
        "id": "WIxU3yLeZqk3",
        "colab": {}
      },
      "source": [
        "tn, fp, fn, tp = metrics.confusion_matrix(\n",
        "    y_test.astype(int), \n",
        "    np.rint(y_predict)\n",
        ").flatten().tolist()\n",
        "\n",
        "fpr_nn = fp/(fp+tp)\n",
        "fnr_nn = fn/(fn+tn)"
      ],
      "execution_count": 0,
      "outputs": []
    },
    {
      "cell_type": "code",
      "metadata": {
        "colab_type": "code",
        "id": "Irias0wiQ5uS",
        "outputId": "6b440ef5-ff8d-4c3f-8406-b099c1e7043b",
        "colab": {
          "base_uri": "https://localhost:8080/",
          "height": 34
        }
      },
      "source": [
        "fpr_nn, fnr_nn"
      ],
      "execution_count": 0,
      "outputs": [
        {
          "output_type": "execute_result",
          "data": {
            "text/plain": [
              "(0.0006150061500615006, 0.0125)"
            ]
          },
          "metadata": {
            "tags": []
          },
          "execution_count": 35
        }
      ]
    },
    {
      "cell_type": "markdown",
      "metadata": {
        "colab_type": "text",
        "id": "u4flMJFAI1Xv"
      },
      "source": [
        "## Random Padding (translational invariance)"
      ]
    },
    {
      "cell_type": "code",
      "metadata": {
        "colab_type": "code",
        "id": "upphuPbjI1Xv",
        "colab": {}
      },
      "source": [
        "import random"
      ],
      "execution_count": 0,
      "outputs": []
    },
    {
      "cell_type": "code",
      "metadata": {
        "colab_type": "code",
        "id": "dgWvSwBMI1Xx",
        "colab": {}
      },
      "source": [
        "def random_padder(matrix, target_rows, target_columns):\n",
        "    '''\n",
        "    Randomly pads matrix with zeros to the desired size\n",
        "    '''\n",
        "    rows, columns = matrix.shape[0], matrix.shape[1]\n",
        "    \n",
        "    rand = random.randint(matrix.shape[0],matrix_size)\n",
        "    \n",
        "    tl_row_corrector = csr_matrix((rand-rows, rows))\n",
        "    tl_col_corrector = csr_matrix((rand, rand-columns))\n",
        "    \n",
        "    tl_matrix = vstack([tl_row_corrector, matrix])\n",
        "    tl_matrix = hstack([tl_col_corrector, tl_matrix])\n",
        "    \n",
        "    rows, columns = tl_matrix.shape[0], tl_matrix.shape[1]\n",
        "    \n",
        "    br_row_corrector = csr_matrix((target_rows-rows, rows))\n",
        "    br_col_corrector = csr_matrix((target_columns, target_columns-columns))\n",
        "\n",
        "    br_matrix = vstack([tl_matrix, br_row_corrector])\n",
        "    br_matrix = hstack([br_matrix, br_col_corrector])\n",
        "\n",
        "    br_matrix = br_matrix.astype(np.int)\n",
        "    \n",
        "    return br_matrix"
      ],
      "execution_count": 0,
      "outputs": []
    },
    {
      "cell_type": "code",
      "metadata": {
        "colab_type": "code",
        "id": "kVOpYxlTI1Xz",
        "colab": {}
      },
      "source": [
        "rand_adj_df = adj_orig_df.copy()"
      ],
      "execution_count": 0,
      "outputs": []
    },
    {
      "cell_type": "code",
      "metadata": {
        "colab_type": "code",
        "id": "hBduzZgaI1X1",
        "colab": {}
      },
      "source": [
        "rand_adj_df['matrix'] = rand_adj_df['matrix'].apply(lambda m: random_padder(m, matrix_size, matrix_size))"
      ],
      "execution_count": 0,
      "outputs": []
    },
    {
      "cell_type": "code",
      "metadata": {
        "colab_type": "code",
        "id": "9nJ4oQCII1X3",
        "colab": {}
      },
      "source": [
        "testcase_ids_rand = rand_adj_df['testcase_ID'].values\n",
        "adjacency_matrices_rand = rand_adj_df['matrix'].values\n",
        "labels_rand = rand_adj_df['bug'].values"
      ],
      "execution_count": 0,
      "outputs": []
    },
    {
      "cell_type": "code",
      "metadata": {
        "colab_type": "code",
        "id": "p_oPNdusI1X6",
        "outputId": "ea6c8c8d-bc52-4f4f-a13f-08d6537ef35f",
        "colab": {
          "base_uri": "https://localhost:8080/",
          "height": 34
        }
      },
      "source": [
        "rand_adj_df.matrix.iloc[5].toarray().sum()"
      ],
      "execution_count": 39,
      "outputs": [
        {
          "output_type": "execute_result",
          "data": {
            "text/plain": [
              "778"
            ]
          },
          "metadata": {
            "tags": []
          },
          "execution_count": 39
        }
      ]
    },
    {
      "cell_type": "code",
      "metadata": {
        "colab_type": "code",
        "id": "xHjRuHUlI1X9",
        "colab": {}
      },
      "source": [
        "x_train_rand, x_test_rand, y_train_rand, y_test_rand = train_test_split(adjacency_matrices_rand, labels_rand, test_size=0.2, random_state = 0)"
      ],
      "execution_count": 0,
      "outputs": []
    },
    {
      "cell_type": "markdown",
      "metadata": {
        "colab_type": "text",
        "id": "XMjKDWWAhWYN"
      },
      "source": [
        "Below tests our model above trained on the normal padding against our random padding test set:"
      ]
    },
    {
      "cell_type": "code",
      "metadata": {
        "colab_type": "code",
        "id": "Ev9c9xZPI1X-",
        "outputId": "b17882c7-9dc8-414c-9ef9-46da42a7bdcd",
        "colab": {
          "base_uri": "https://localhost:8080/",
          "height": 34
        }
      },
      "source": [
        "test_batch_generator_rand = SparseToDenseGenerator(x_test_rand, y_test_rand, batch_size)\n",
        "\n",
        "model.evaluate_generator(\n",
        "    generator=test_batch_generator_rand,\n",
        ")"
      ],
      "execution_count": 0,
      "outputs": [
        {
          "output_type": "execute_result",
          "data": {
            "text/plain": [
              "[3.4999840995649043, 0.5855548693685892]"
            ]
          },
          "metadata": {
            "tags": []
          },
          "execution_count": 40
        }
      ]
    },
    {
      "cell_type": "code",
      "metadata": {
        "colab_type": "code",
        "id": "lRlOiljAI1YA",
        "colab": {}
      },
      "source": [
        "predict_batch_generator_rand = SparseToDensePredictGenerator(x_test_rand, batch_size)\n",
        "y_predict_rand = model.predict_generator(predict_batch_generator)"
      ],
      "execution_count": 0,
      "outputs": []
    },
    {
      "cell_type": "code",
      "metadata": {
        "colab_type": "code",
        "id": "fva2rs55I1YC",
        "outputId": "2ac2f748-a3a1-4d8a-9a1a-a77105b2d110",
        "colab": {
          "base_uri": "https://localhost:8080/",
          "height": 387
        }
      },
      "source": [
        "confusion_matrix = pd.DataFrame(\n",
        "    data=metrics.confusion_matrix(y_test_rand, np.rint(y_predict_rand)),\n",
        ")\n",
        "\n",
        "confusion_figure, confusion_axes = matplotlib.pyplot.subplots()\n",
        "confusion_figure.set_size_inches(8, 5)\n",
        "confusion_axes.set_title(\n",
        "    'Confusion matrix showing the frequency of \\n'\n",
        "    'correct and incorrect bug classification predictions.'\n",
        "    '\\n\\n'  # hack to avoid overlap with x-axis labels below\n",
        ")\n",
        "confusion_axes.xaxis.tick_top()  # move x-axis labels to top of matrix\n",
        "_ = sns.heatmap(\n",
        "    confusion_matrix,\n",
        "    annot=True,\n",
        "    fmt=\"d\",\n",
        "    cmap=sns.color_palette(\"Blues\"),\n",
        "    vmin=0,\n",
        "    ax=confusion_axes,\n",
        ")"
      ],
      "execution_count": 0,
      "outputs": [
        {
          "output_type": "display_data",
          "data": {
            "image/png": "[encoded data removed]",
            "text/plain": [
              "<Figure size 576x360 with 2 Axes>"
            ]
          },
          "metadata": {
            "tags": []
          }
        }
      ]
    },
    {
      "cell_type": "code",
      "metadata": {
        "colab_type": "code",
        "id": "myk4AWEgI1YE",
        "colab": {}
      },
      "source": [
        "fpr_keras, tpr_keras, thresholds_keras = roc_curve(\n",
        "    y_test_rand.astype(int),\n",
        "    np.rint(y_predict_rand),\n",
        ")"
      ],
      "execution_count": 0,
      "outputs": []
    },
    {
      "cell_type": "code",
      "metadata": {
        "colab_type": "code",
        "id": "7obV4AVPI1YF",
        "colab": {}
      },
      "source": [
        "auc_keras = auc(fpr_keras, tpr_keras)"
      ],
      "execution_count": 0,
      "outputs": []
    },
    {
      "cell_type": "code",
      "metadata": {
        "colab_type": "code",
        "id": "CYPWJyvDI1YG",
        "outputId": "566441ac-599d-42e7-fc2f-1f21632cf8c3",
        "colab": {
          "base_uri": "https://localhost:8080/",
          "height": 295
        }
      },
      "source": [
        "plt.plot(fpr_keras, tpr_keras, label='Keras (area = {:.3f})'.format(auc_keras))\n",
        "plt.xlabel('False positive rate')\n",
        "plt.ylabel('True positive rate')\n",
        "plt.title('ROC curve')\n",
        "plt.legend(loc='best')\n",
        "plt.show()"
      ],
      "execution_count": 0,
      "outputs": [
        {
          "output_type": "display_data",
          "data": {
            "image/png": "[encoded data removed]",
            "text/plain": [
              "<Figure size 432x288 with 1 Axes>"
            ]
          },
          "metadata": {
            "tags": []
          }
        }
      ]
    },
    {
      "cell_type": "code",
      "metadata": {
        "colab_type": "code",
        "id": "aF1JbmH7I1YH",
        "colab": {}
      },
      "source": [
        "tn, fp, fn, tp = metrics.confusion_matrix(\n",
        "    y_test_rand.astype(int), \n",
        "    np.rint(y_predict_rand)\n",
        ").flatten().tolist()\n",
        "\n",
        "fpr_nn = fp/(fp+tp)\n",
        "fnr_nn = fn/(fn+tn)"
      ],
      "execution_count": 0,
      "outputs": []
    },
    {
      "cell_type": "markdown",
      "metadata": {
        "colab_type": "text",
        "id": "K5NSAb-yMRAT"
      },
      "source": [
        "58% accuracy with 3x as more false negatives as there are false positives so our neural network doesn't work the way that we thought it did."
      ]
    },
    {
      "cell_type": "markdown",
      "metadata": {
        "colab_type": "text",
        "id": "1VWExCq6iUMC"
      },
      "source": [
        "## Training the model on the random padded data"
      ]
    },
    {
      "cell_type": "code",
      "metadata": {
        "colab_type": "code",
        "id": "aNCjGx8jiTPK",
        "outputId": "1942ad1a-5b31-4413-9273-32acfcf8f2c4",
        "colab": {
          "base_uri": "https://localhost:8080/",
          "height": 646
        }
      },
      "source": [
        "model_rand = Sequential()\n",
        "\n",
        "model_rand.add(Conv2D(\n",
        "    data_format='channels_last',\n",
        "    input_shape=(matrix_size, matrix_size, 1),\n",
        "    filters=32,\n",
        "    kernel_size=kernel_size,\n",
        "    strides=strides,\n",
        "))\n",
        "model_rand.add(Activation('relu'))\n",
        "model_rand.add(MaxPooling2D(kernel_size, padding='same'))\n",
        "\n",
        "model_rand.add(Conv2D(\n",
        "    data_format='channels_last',\n",
        "    input_shape=(matrix_size, matrix_size, 1),\n",
        "    filters=32,\n",
        "    kernel_size=kernel_size,\n",
        "    strides=strides,\n",
        "    activation='relu',\n",
        "))\n",
        "model_rand.add(Activation('relu'))\n",
        "model_rand.add(MaxPooling2D(kernel_size, padding='same'))\n",
        "\n",
        "model_rand.add(Conv2D(\n",
        "    data_format='channels_last',\n",
        "    input_shape=(matrix_size, matrix_size, 1),\n",
        "    filters=32,\n",
        "    kernel_size=kernel_size,\n",
        "    strides=strides,\n",
        "    activation='relu',\n",
        "))\n",
        "model_rand.add(Activation('relu'))\n",
        "model_rand.add(MaxPooling2D(kernel_size, padding='same'))\n",
        "\n",
        "model_rand.add(Flatten())\n",
        "\n",
        "model_rand.add(Dense(units=32, activation='relu'))\n",
        "model_rand.add(Dense(units=32, activation='relu'))\n",
        "model_rand.add(Dense(units=32, activation='relu'))\n",
        "\n",
        "model_rand.add(Dropout(0.2))\n",
        "\n",
        "model_rand.add(Dense(units=1, activation='sigmoid'))\n",
        "\n",
        "model_rand.compile(optimizer=Adam(), loss='binary_crossentropy', metrics=['accuracy'])\n",
        "\n",
        "model_rand.summary()"
      ],
      "execution_count": 0,
      "outputs": [
        {
          "output_type": "stream",
          "text": [
            "_________________________________________________________________\n",
            "Layer (type)                 Output Shape              Param #   \n",
            "=================================================================\n",
            "conv2d_1 (Conv2D)            (None, 613, 613, 32)      160       \n",
            "_________________________________________________________________\n",
            "activation_1 (Activation)    (None, 613, 613, 32)      0         \n",
            "_________________________________________________________________\n",
            "max_pooling2d_1 (MaxPooling2 (None, 307, 307, 32)      0         \n",
            "_________________________________________________________________\n",
            "conv2d_2 (Conv2D)            (None, 306, 306, 32)      4128      \n",
            "_________________________________________________________________\n",
            "activation_2 (Activation)    (None, 306, 306, 32)      0         \n",
            "_________________________________________________________________\n",
            "max_pooling2d_2 (MaxPooling2 (None, 153, 153, 32)      0         \n",
            "_________________________________________________________________\n",
            "conv2d_3 (Conv2D)            (None, 152, 152, 32)      4128      \n",
            "_________________________________________________________________\n",
            "activation_3 (Activation)    (None, 152, 152, 32)      0         \n",
            "_________________________________________________________________\n",
            "max_pooling2d_3 (MaxPooling2 (None, 76, 76, 32)        0         \n",
            "_________________________________________________________________\n",
            "flatten_1 (Flatten)          (None, 184832)            0         \n",
            "_________________________________________________________________\n",
            "dense_1 (Dense)              (None, 32)                5914656   \n",
            "_________________________________________________________________\n",
            "dense_2 (Dense)              (None, 32)                1056      \n",
            "_________________________________________________________________\n",
            "dense_3 (Dense)              (None, 32)                1056      \n",
            "_________________________________________________________________\n",
            "dropout_1 (Dropout)          (None, 32)                0         \n",
            "_________________________________________________________________\n",
            "dense_4 (Dense)              (None, 1)                 33        \n",
            "=================================================================\n",
            "Total params: 5,925,217\n",
            "Trainable params: 5,925,217\n",
            "Non-trainable params: 0\n",
            "_________________________________________________________________\n"
          ],
          "name": "stdout"
        }
      ]
    },
    {
      "cell_type": "code",
      "metadata": {
        "colab_type": "code",
        "id": "LTeg_UMwijqX",
        "outputId": "3369c245-4bb9-46e0-ada9-0b8d4cfe9c07",
        "colab": {
          "base_uri": "https://localhost:8080/",
          "height": 224
        }
      },
      "source": [
        "training_batch_generator_rand = SparseToDenseGenerator(x_train_rand, y_train_rand, batch_size)\n",
        "\n",
        "model_rand.fit_generator(\n",
        "    generator=training_batch_generator_rand,\n",
        "    epochs=epochs,\n",
        "    steps_per_epoch=steps_per_epoch\n",
        ")"
      ],
      "execution_count": 0,
      "outputs": [
        {
          "output_type": "stream",
          "text": [
            "Epoch 1/5\n",
            "168/168 [==============================] - 2422s 14s/step - loss: 0.6553 - acc: 0.5916\n",
            "Epoch 2/5\n",
            "168/168 [==============================] - 2401s 14s/step - loss: 0.3820 - acc: 0.8257\n",
            "Epoch 3/5\n",
            "168/168 [==============================] - 2414s 14s/step - loss: 0.1448 - acc: 0.9459\n",
            "Epoch 4/5\n",
            "168/168 [==============================] - 2418s 14s/step - loss: 0.0904 - acc: 0.9680\n",
            "Epoch 5/5\n",
            "168/168 [==============================] - 2440s 15s/step - loss: 0.0610 - acc: 0.9779\n"
          ],
          "name": "stdout"
        },
        {
          "output_type": "execute_result",
          "data": {
            "text/plain": [
              "<keras.callbacks.History at 0x7f0f50c39550>"
            ]
          },
          "metadata": {
            "tags": []
          },
          "execution_count": 33
        }
      ]
    },
    {
      "cell_type": "code",
      "metadata": {
        "colab_type": "code",
        "id": "cA2Ce-l5dIda",
        "colab": {}
      },
      "source": [
        "with open('../data/adjacency-matrix-model-random-padding.pickle','wb') as f:\n",
        "    pickle.dump(model_rand,f)"
      ],
      "execution_count": 0,
      "outputs": []
    },
    {
      "cell_type": "code",
      "metadata": {
        "colab_type": "code",
        "id": "cStFNyNDzUwi",
        "colab": {}
      },
      "source": [
        "model_rand = None\n",
        "with open('../data/adjacency-matrix-model-random-padding.pickle','rb') as f:\n",
        "    model_rand = pickle.load(f)"
      ],
      "execution_count": 0,
      "outputs": []
    },
    {
      "cell_type": "code",
      "metadata": {
        "colab_type": "code",
        "id": "vEVZyBqXjN0E",
        "outputId": "df0eaa0a-6c28-4d43-b7d9-f6f58c1fd2fa",
        "colab": {
          "base_uri": "https://localhost:8080/",
          "height": 34
        }
      },
      "source": [
        "test_batch_generator_rand = SparseToDenseGenerator(x_test_rand, y_test_rand, batch_size)\n",
        "\n",
        "model_rand.evaluate_generator(\n",
        "    generator=test_batch_generator_rand,\n",
        ")"
      ],
      "execution_count": 0,
      "outputs": [
        {
          "output_type": "execute_result",
          "data": {
            "text/plain": [
              "[0.18665227448245567, 0.9432734045935062]"
            ]
          },
          "metadata": {
            "tags": []
          },
          "execution_count": 36
        }
      ]
    },
    {
      "cell_type": "code",
      "metadata": {
        "colab_type": "code",
        "id": "WTsj5GpNdU1T",
        "colab": {}
      },
      "source": [
        "predict_batch_generator_rand = SparseToDensePredictGenerator(x_test_rand, batch_size)\n",
        "y_predict_rand = model_rand.predict_generator(predict_batch_generator_rand)"
      ],
      "execution_count": 0,
      "outputs": []
    },
    {
      "cell_type": "code",
      "metadata": {
        "colab_type": "code",
        "id": "8mEJ60xPeuMy",
        "outputId": "d0d486d5-2115-4241-ef36-4806b14b84bc",
        "colab": {
          "base_uri": "https://localhost:8080/",
          "height": 387
        }
      },
      "source": [
        "confusion_matrix = pd.DataFrame(\n",
        "    data=metrics.confusion_matrix(y_test_rand, np.rint(y_predict_rand)),\n",
        ")\n",
        "\n",
        "confusion_figure, confusion_axes = matplotlib.pyplot.subplots()\n",
        "confusion_figure.set_size_inches(8, 5)\n",
        "confusion_axes.set_title(\n",
        "    'Confusion matrix showing the frequency of \\n'\n",
        "    'correct and incorrect bug classification predictions.'\n",
        "    '\\n\\n'  # hack to avoid overlap with x-axis labels below\n",
        ")\n",
        "confusion_axes.xaxis.tick_top()  # move x-axis labels to top of matrix\n",
        "_ = sns.heatmap(\n",
        "    confusion_matrix,\n",
        "    annot=True,\n",
        "    fmt=\"d\",\n",
        "    cmap=sns.color_palette(\"Blues\"),\n",
        "    vmin=0,\n",
        "    ax=confusion_axes,\n",
        ")"
      ],
      "execution_count": 42,
      "outputs": [
        {
          "output_type": "display_data",
          "data": {
            "image/png": "[encoded data removed]",
            "text/plain": [
              "<Figure size 576x360 with 2 Axes>"
            ]
          },
          "metadata": {
            "tags": []
          }
        }
      ]
    },
    {
      "cell_type": "code",
      "metadata": {
        "colab_type": "code",
        "id": "77zdFNcNe4JM",
        "colab": {}
      },
      "source": [
        "from sklearn.metrics import roc_curve\n",
        "fpr_keras, tpr_keras, thresholds_keras = roc_curve(\n",
        "    y_test_rand.astype(int),\n",
        "    np.rint(y_predict_rand),\n",
        ")"
      ],
      "execution_count": 0,
      "outputs": []
    },
    {
      "cell_type": "code",
      "metadata": {
        "colab_type": "code",
        "id": "1Yhq-7AGfAMI",
        "colab": {}
      },
      "source": [
        "from sklearn.metrics import auc\n",
        "import matplotlib.pyplot as plt\n",
        "auc_keras = auc(fpr_keras, tpr_keras)"
      ],
      "execution_count": 0,
      "outputs": []
    },
    {
      "cell_type": "code",
      "metadata": {
        "id": "oUh36qloam7J",
        "colab_type": "code",
        "colab": {}
      },
      "source": [
        "with open('../data/cnn-adj-rand-pad-roc','wb') as f:\n",
        "    pickle.dump(auc_keras, f)"
      ],
      "execution_count": 0,
      "outputs": []
    },
    {
      "cell_type": "code",
      "metadata": {
        "colab_type": "code",
        "id": "M1JuBOORfgSm",
        "outputId": "487a56c4-8034-4a92-d943-294a1656743c",
        "colab": {
          "base_uri": "https://localhost:8080/",
          "height": 295
        }
      },
      "source": [
        "plt.plot(fpr_keras, tpr_keras, label='Keras (area = {:.3f})'.format(auc_keras))\n",
        "plt.xlabel('False positive rate')\n",
        "plt.ylabel('True positive rate')\n",
        "plt.title('ROC curve')\n",
        "plt.legend(loc='best')\n",
        "plt.show()"
      ],
      "execution_count": 45,
      "outputs": [
        {
          "output_type": "display_data",
          "data": {
            "image/png": "[encoded data removed]",
            "text/plain": [
              "<Figure size 432x288 with 1 Axes>"
            ]
          },
          "metadata": {
            "tags": []
          }
        }
      ]
    },
    {
      "cell_type": "code",
      "metadata": {
        "colab_type": "code",
        "id": "WuUuvFvBfkkd",
        "colab": {}
      },
      "source": [
        "tn, fp, fn, tp = metrics.confusion_matrix(\n",
        "    y_test_rand.astype(int), \n",
        "    np.rint(y_predict_rand)\n",
        ").flatten().tolist()\n",
        "\n",
        "fpr_nn = fp/(fp+tp)\n",
        "fnr_nn = fn/(fn+tn)"
      ],
      "execution_count": 0,
      "outputs": []
    },
    {
      "cell_type": "markdown",
      "metadata": {
        "colab_type": "text",
        "id": "ZZprpN3AzgWx"
      },
      "source": [
        "Testing on original test set:"
      ]
    },
    {
      "cell_type": "code",
      "metadata": {
        "colab_type": "code",
        "id": "O9z9ppFPf98M",
        "outputId": "a93c2e88-4117-4f8e-d965-f079241768cd",
        "colab": {
          "base_uri": "https://localhost:8080/",
          "height": 34
        }
      },
      "source": [
        "test_batch_generator = SparseToDenseGenerator(x_test, y_test, batch_size)\n",
        "\n",
        "model_rand.evaluate_generator(\n",
        "    generator=test_batch_generator,\n",
        ")"
      ],
      "execution_count": 0,
      "outputs": [
        {
          "output_type": "execute_result",
          "data": {
            "text/plain": [
              "[0.213629653004113, 0.9076255446846118]"
            ]
          },
          "metadata": {
            "tags": []
          },
          "execution_count": 44
        }
      ]
    },
    {
      "cell_type": "code",
      "metadata": {
        "colab_type": "code",
        "id": "rg0M6TES1Ga7",
        "colab": {}
      },
      "source": [
        ""
      ],
      "execution_count": 0,
      "outputs": []
    }
  ]
}