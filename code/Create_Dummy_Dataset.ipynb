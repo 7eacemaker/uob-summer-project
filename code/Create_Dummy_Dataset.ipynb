{
 "cells": [
  {
   "cell_type": "code",
   "execution_count": 72,
   "metadata": {},
   "outputs": [],
   "source": [
    "import numpy as np\n",
    "import pandas as pd"
   ]
  },
  {
   "cell_type": "code",
   "execution_count": 73,
   "metadata": {},
   "outputs": [],
   "source": [
    "data = pd.read_csv('../data/juliet.csv.zip')"
   ]
  },
  {
   "cell_type": "code",
   "execution_count": 74,
   "metadata": {},
   "outputs": [],
   "source": [
    "small_data = data.iloc[:10,:]"
   ]
  },
  {
   "cell_type": "code",
   "execution_count": 75,
   "metadata": {},
   "outputs": [
    {
     "data": {
      "text/plain": [
       "Unnamed: 0                                                     0\n",
       "testcase_ID                                                61940\n",
       "filename       000/061/940/CWE114_Process_Control__w32_char_c...\n",
       "code           /* TEMPLATE GENERATED TESTCASE FILE\\nFilename:...\n",
       "flaw                                                     CWE-114\n",
       "flaw_loc                                                     121\n",
       "CWE-015                                                    False\n",
       "CWE-023                                                    False\n",
       "CWE-036                                                    False\n",
       "CWE-078                                                    False\n",
       "CWE-090                                                    False\n",
       "CWE-114                                                     True\n",
       "CWE-121                                                    False\n",
       "CWE-122                                                    False\n",
       "CWE-123                                                    False\n",
       "CWE-124                                                    False\n",
       "CWE-126                                                    False\n",
       "CWE-127                                                    False\n",
       "CWE-134                                                    False\n",
       "CWE-135                                                    False\n",
       "CWE-176                                                    False\n",
       "CWE-188                                                    False\n",
       "CWE-190                                                    False\n",
       "CWE-191                                                    False\n",
       "CWE-194                                                    False\n",
       "CWE-195                                                    False\n",
       "CWE-196                                                    False\n",
       "CWE-197                                                    False\n",
       "CWE-222                                                    False\n",
       "CWE-223                                                    False\n",
       "                                     ...                        \n",
       "CWE-606                                                    False\n",
       "CWE-615                                                    False\n",
       "CWE-617                                                    False\n",
       "CWE-620                                                    False\n",
       "CWE-665                                                    False\n",
       "CWE-666                                                    False\n",
       "CWE-667                                                    False\n",
       "CWE-672                                                    False\n",
       "CWE-674                                                    False\n",
       "CWE-675                                                    False\n",
       "CWE-676                                                    False\n",
       "CWE-680                                                    False\n",
       "CWE-681                                                    False\n",
       "CWE-685                                                    False\n",
       "CWE-688                                                    False\n",
       "CWE-690                                                    False\n",
       "CWE-758                                                    False\n",
       "CWE-761                                                    False\n",
       "CWE-762                                                    False\n",
       "CWE-773                                                    False\n",
       "CWE-775                                                    False\n",
       "CWE-780                                                    False\n",
       "CWE-785                                                    False\n",
       "CWE-789                                                    False\n",
       "CWE-832                                                    False\n",
       "CWE-835                                                    False\n",
       "CWE-843                                                    False\n",
       "CWE-119                                                    False\n",
       "CWE-120                                                    False\n",
       "CWE-OTHERS                                                 False\n",
       "Name: 0, Length: 128, dtype: object"
      ]
     },
     "execution_count": 75,
     "metadata": {},
     "output_type": "execute_result"
    }
   ],
   "source": [
    "small_data.iloc[0]"
   ]
  },
  {
   "cell_type": "code",
   "execution_count": 76,
   "metadata": {},
   "outputs": [
    {
     "ename": "Exception",
     "evalue": "library file must be set before before using any other functionalities in libclang.",
     "output_type": "error",
     "traceback": [
      "\u001b[0;31m---------------------------------------------------------------------------\u001b[0m",
      "\u001b[0;31mException\u001b[0m                                 Traceback (most recent call last)",
      "\u001b[0;32m<ipython-input-76-e7a3560a5db9>\u001b[0m in \u001b[0;36m<module>\u001b[0;34m\u001b[0m\n\u001b[1;32m      1\u001b[0m \u001b[0;32mimport\u001b[0m \u001b[0mclang\u001b[0m\u001b[0;34m.\u001b[0m\u001b[0mcindex\u001b[0m\u001b[0;34m\u001b[0m\u001b[0;34m\u001b[0m\u001b[0m\n\u001b[1;32m      2\u001b[0m \u001b[0;32mimport\u001b[0m \u001b[0mos\u001b[0m\u001b[0;34m\u001b[0m\u001b[0;34m\u001b[0m\u001b[0m\n\u001b[0;32m----> 3\u001b[0;31m \u001b[0mclang\u001b[0m\u001b[0;34m.\u001b[0m\u001b[0mcindex\u001b[0m\u001b[0;34m.\u001b[0m\u001b[0mConfig\u001b[0m\u001b[0;34m.\u001b[0m\u001b[0mset_library_file\u001b[0m\u001b[0;34m(\u001b[0m\u001b[0;34m'/lib/x86_64-linux-gnu/libclang-8.so.1'\u001b[0m\u001b[0;34m)\u001b[0m\u001b[0;34m\u001b[0m\u001b[0;34m\u001b[0m\u001b[0m\n\u001b[0m",
      "\u001b[0;32m/clang-source/bindings/python/clang/cindex.py\u001b[0m in \u001b[0;36mset_library_file\u001b[0;34m(filename)\u001b[0m\n\u001b[1;32m   4116\u001b[0m         \u001b[0;34m\"\"\"Set the exact location of libclang\"\"\"\u001b[0m\u001b[0;34m\u001b[0m\u001b[0;34m\u001b[0m\u001b[0m\n\u001b[1;32m   4117\u001b[0m         \u001b[0;32mif\u001b[0m \u001b[0mConfig\u001b[0m\u001b[0;34m.\u001b[0m\u001b[0mloaded\u001b[0m\u001b[0;34m:\u001b[0m\u001b[0;34m\u001b[0m\u001b[0;34m\u001b[0m\u001b[0m\n\u001b[0;32m-> 4118\u001b[0;31m             raise Exception(\"library file must be set before before using \" \\\n\u001b[0m\u001b[1;32m   4119\u001b[0m                             \"any other functionalities in libclang.\")\n\u001b[1;32m   4120\u001b[0m \u001b[0;34m\u001b[0m\u001b[0m\n",
      "\u001b[0;31mException\u001b[0m: library file must be set before before using any other functionalities in libclang."
     ]
    }
   ],
   "source": [
    "import clang.cindex\n",
    "import os\n",
    "clang.cindex.Config.set_library_file('/lib/x86_64-linux-gnu/libclang-8.so.1')"
   ]
  },
  {
   "cell_type": "code",
   "execution_count": 77,
   "metadata": {},
   "outputs": [],
   "source": [
    "index_clang = clang.cindex.Index.create()\n",
    "translation_unit = []\n",
    "for i in range(10):\n",
    "    value = small_data.iloc[i]\n",
    "    translation_unit.append(index_clang.parse(path=value.filename, unsaved_files=[(value.filename, value.code)]))"
   ]
  },
  {
   "cell_type": "code",
   "execution_count": 78,
   "metadata": {},
   "outputs": [
    {
     "data": {
      "text/plain": [
       "[<clang.cindex.TranslationUnit at 0x7f698a867860>,\n",
       " <clang.cindex.TranslationUnit at 0x7f698a867940>,\n",
       " <clang.cindex.TranslationUnit at 0x7f698a867438>,\n",
       " <clang.cindex.TranslationUnit at 0x7f698a867278>,\n",
       " <clang.cindex.TranslationUnit at 0x7f698a8670b8>,\n",
       " <clang.cindex.TranslationUnit at 0x7f698a867048>,\n",
       " <clang.cindex.TranslationUnit at 0x7f698a8676d8>,\n",
       " <clang.cindex.TranslationUnit at 0x7f698a867390>,\n",
       " <clang.cindex.TranslationUnit at 0x7f698a867898>,\n",
       " <clang.cindex.TranslationUnit at 0x7f698a8672b0>]"
      ]
     },
     "execution_count": 78,
     "metadata": {},
     "output_type": "execute_result"
    }
   ],
   "source": [
    "translation_unit"
   ]
  },
  {
   "cell_type": "code",
   "execution_count": 79,
   "metadata": {},
   "outputs": [],
   "source": [
    "root = []\n",
    "for i in range(10):\n",
    "    root.append(translation_unit[i].cursor)"
   ]
  },
  {
   "cell_type": "code",
   "execution_count": 80,
   "metadata": {},
   "outputs": [],
   "source": [
    "import snap"
   ]
  },
  {
   "cell_type": "code",
   "execution_count": 88,
   "metadata": {},
   "outputs": [
    {
     "name": "stdout",
     "output_type": "stream",
     "text": [
      "<clang.cindex.Cursor object at 0x7f6989625488>\n"
     ]
    }
   ],
   "source": [
    "print(root[0])"
   ]
  },
  {
   "cell_type": "code",
   "execution_count": 89,
   "metadata": {},
   "outputs": [],
   "source": [
    "def print_ast(cursor, deep=0):\n",
    "    print(' '.join((deep*'    ', str(cursor.kind), str(cursor.spelling))))\n",
    "    for child in cursor.get_children():\n",
    "        print_ast(child, deep+1)"
   ]
  },
  {
   "cell_type": "code",
   "execution_count": 95,
   "metadata": {},
   "outputs": [],
   "source": [
    "def print_ast(node, deep=0):\n",
    "    print(' '.join((deep*'    ', str(node.kind), str(node.identifier))))\n",
    "    for child in node.get_children():\n",
    "        print_ast(child, deep+1)"
   ]
  },
  {
   "cell_type": "code",
   "execution_count": 96,
   "metadata": {},
   "outputs": [
    {
     "name": "stdout",
     "output_type": "stream",
     "text": [
      " CursorKind.TRANSLATION_UNIT 2539\n"
     ]
    },
    {
     "ename": "AttributeError",
     "evalue": "'Cursor' object has no attribute 'identifier'",
     "output_type": "error",
     "traceback": [
      "\u001b[0;31m---------------------------------------------------------------------------\u001b[0m",
      "\u001b[0;31mAttributeError\u001b[0m                            Traceback (most recent call last)",
      "\u001b[0;32m<ipython-input-96-7a54020c9eff>\u001b[0m in \u001b[0;36m<module>\u001b[0;34m\u001b[0m\n\u001b[0;32m----> 1\u001b[0;31m \u001b[0mprint_ast\u001b[0m\u001b[0;34m(\u001b[0m\u001b[0mroot\u001b[0m\u001b[0;34m[\u001b[0m\u001b[0;36m1\u001b[0m\u001b[0;34m]\u001b[0m\u001b[0;34m)\u001b[0m\u001b[0;34m\u001b[0m\u001b[0;34m\u001b[0m\u001b[0m\n\u001b[0m",
      "\u001b[0;32m<ipython-input-95-4cb75ebc9d22>\u001b[0m in \u001b[0;36mprint_ast\u001b[0;34m(node, deep)\u001b[0m\n\u001b[1;32m      2\u001b[0m     \u001b[0mprint\u001b[0m\u001b[0;34m(\u001b[0m\u001b[0;34m' '\u001b[0m\u001b[0;34m.\u001b[0m\u001b[0mjoin\u001b[0m\u001b[0;34m(\u001b[0m\u001b[0;34m(\u001b[0m\u001b[0mdeep\u001b[0m\u001b[0;34m*\u001b[0m\u001b[0;34m'    '\u001b[0m\u001b[0;34m,\u001b[0m \u001b[0mstr\u001b[0m\u001b[0;34m(\u001b[0m\u001b[0mnode\u001b[0m\u001b[0;34m.\u001b[0m\u001b[0mkind\u001b[0m\u001b[0;34m)\u001b[0m\u001b[0;34m,\u001b[0m \u001b[0mstr\u001b[0m\u001b[0;34m(\u001b[0m\u001b[0mnode\u001b[0m\u001b[0;34m.\u001b[0m\u001b[0midentifier\u001b[0m\u001b[0;34m)\u001b[0m\u001b[0;34m)\u001b[0m\u001b[0;34m)\u001b[0m\u001b[0;34m)\u001b[0m\u001b[0;34m\u001b[0m\u001b[0;34m\u001b[0m\u001b[0m\n\u001b[1;32m      3\u001b[0m     \u001b[0;32mfor\u001b[0m \u001b[0mchild\u001b[0m \u001b[0;32min\u001b[0m \u001b[0mnode\u001b[0m\u001b[0;34m.\u001b[0m\u001b[0mget_children\u001b[0m\u001b[0;34m(\u001b[0m\u001b[0;34m)\u001b[0m\u001b[0;34m:\u001b[0m\u001b[0;34m\u001b[0m\u001b[0;34m\u001b[0m\u001b[0m\n\u001b[0;32m----> 4\u001b[0;31m         \u001b[0mprint_ast\u001b[0m\u001b[0;34m(\u001b[0m\u001b[0mchild\u001b[0m\u001b[0;34m,\u001b[0m \u001b[0mdeep\u001b[0m\u001b[0;34m+\u001b[0m\u001b[0;36m1\u001b[0m\u001b[0;34m)\u001b[0m\u001b[0;34m\u001b[0m\u001b[0;34m\u001b[0m\u001b[0m\n\u001b[0m",
      "\u001b[0;32m<ipython-input-95-4cb75ebc9d22>\u001b[0m in \u001b[0;36mprint_ast\u001b[0;34m(node, deep)\u001b[0m\n\u001b[1;32m      1\u001b[0m \u001b[0;32mdef\u001b[0m \u001b[0mprint_ast\u001b[0m\u001b[0;34m(\u001b[0m\u001b[0mnode\u001b[0m\u001b[0;34m,\u001b[0m \u001b[0mdeep\u001b[0m\u001b[0;34m=\u001b[0m\u001b[0;36m0\u001b[0m\u001b[0;34m)\u001b[0m\u001b[0;34m:\u001b[0m\u001b[0;34m\u001b[0m\u001b[0;34m\u001b[0m\u001b[0m\n\u001b[0;32m----> 2\u001b[0;31m     \u001b[0mprint\u001b[0m\u001b[0;34m(\u001b[0m\u001b[0;34m' '\u001b[0m\u001b[0;34m.\u001b[0m\u001b[0mjoin\u001b[0m\u001b[0;34m(\u001b[0m\u001b[0;34m(\u001b[0m\u001b[0mdeep\u001b[0m\u001b[0;34m*\u001b[0m\u001b[0;34m'    '\u001b[0m\u001b[0;34m,\u001b[0m \u001b[0mstr\u001b[0m\u001b[0;34m(\u001b[0m\u001b[0mnode\u001b[0m\u001b[0;34m.\u001b[0m\u001b[0mkind\u001b[0m\u001b[0;34m)\u001b[0m\u001b[0;34m,\u001b[0m \u001b[0mstr\u001b[0m\u001b[0;34m(\u001b[0m\u001b[0mnode\u001b[0m\u001b[0;34m.\u001b[0m\u001b[0midentifier\u001b[0m\u001b[0;34m)\u001b[0m\u001b[0;34m)\u001b[0m\u001b[0;34m)\u001b[0m\u001b[0;34m)\u001b[0m\u001b[0;34m\u001b[0m\u001b[0;34m\u001b[0m\u001b[0m\n\u001b[0m\u001b[1;32m      3\u001b[0m     \u001b[0;32mfor\u001b[0m \u001b[0mchild\u001b[0m \u001b[0;32min\u001b[0m \u001b[0mnode\u001b[0m\u001b[0;34m.\u001b[0m\u001b[0mget_children\u001b[0m\u001b[0;34m(\u001b[0m\u001b[0;34m)\u001b[0m\u001b[0;34m:\u001b[0m\u001b[0;34m\u001b[0m\u001b[0;34m\u001b[0m\u001b[0m\n\u001b[1;32m      4\u001b[0m         \u001b[0mprint_ast\u001b[0m\u001b[0;34m(\u001b[0m\u001b[0mchild\u001b[0m\u001b[0;34m,\u001b[0m \u001b[0mdeep\u001b[0m\u001b[0;34m+\u001b[0m\u001b[0;36m1\u001b[0m\u001b[0;34m)\u001b[0m\u001b[0;34m\u001b[0m\u001b[0;34m\u001b[0m\u001b[0m\n",
      "\u001b[0;31mAttributeError\u001b[0m: 'Cursor' object has no attribute 'identifier'"
     ]
    }
   ],
   "source": [
    "print_ast(root[1])"
   ]
  },
  {
   "cell_type": "code",
   "execution_count": 81,
   "metadata": {},
   "outputs": [],
   "source": [
    "identifier = 1\n",
    "\n",
    "def number_each_node(node):\n",
    "    global identifier\n",
    "    \n",
    "    node.identifier = identifier\n",
    "    identifier += 1\n",
    "    \n",
    "    node.children = list(node.get_children())\n",
    "    for child in node.children:\n",
    "        number_each_node(child)"
   ]
  },
  {
   "cell_type": "code",
   "execution_count": 92,
   "metadata": {},
   "outputs": [
    {
     "data": {
      "text/plain": [
       "<map at 0x7f698a7f4c18>"
      ]
     },
     "execution_count": 92,
     "metadata": {},
     "output_type": "execute_result"
    }
   ],
   "source": [
    "map(number_each_node, root)"
   ]
  },
  {
   "cell_type": "code",
   "execution_count": 83,
   "metadata": {},
   "outputs": [],
   "source": [
    "tree_all = [snap.TNGraph.New()]*10\n",
    "                \n",
    "def all_tree_edge(root, index):\n",
    "    node = root[index]\n",
    "    tree = tree_all[index]\n",
    "    \n",
    "    def tree2edgelist(node):\n",
    "        tree.AddNode(node.identifier)\n",
    "\n",
    "        for child in node.children:\n",
    "            tree2edgelist(child)\n",
    "            tree.AddEdge(node.identifier, child.identifier)\n",
    "\n",
    "    tree_all[index] = tree"
   ]
  },
  {
   "cell_type": "code",
   "execution_count": 84,
   "metadata": {},
   "outputs": [],
   "source": [
    "for i in range(10):\n",
    "    all_tree_edge(root, i)"
   ]
  },
  {
   "cell_type": "code",
   "execution_count": 85,
   "metadata": {},
   "outputs": [
    {
     "data": {
      "text/plain": [
       "[<snap.PNGraph; proxy of <Swig Object of type 'PNGraph *' at 0x7f698a668fc0> >,\n",
       " <snap.PNGraph; proxy of <Swig Object of type 'PNGraph *' at 0x7f698a668fc0> >,\n",
       " <snap.PNGraph; proxy of <Swig Object of type 'PNGraph *' at 0x7f698a668fc0> >,\n",
       " <snap.PNGraph; proxy of <Swig Object of type 'PNGraph *' at 0x7f698a668fc0> >,\n",
       " <snap.PNGraph; proxy of <Swig Object of type 'PNGraph *' at 0x7f698a668fc0> >,\n",
       " <snap.PNGraph; proxy of <Swig Object of type 'PNGraph *' at 0x7f698a668fc0> >,\n",
       " <snap.PNGraph; proxy of <Swig Object of type 'PNGraph *' at 0x7f698a668fc0> >,\n",
       " <snap.PNGraph; proxy of <Swig Object of type 'PNGraph *' at 0x7f698a668fc0> >,\n",
       " <snap.PNGraph; proxy of <Swig Object of type 'PNGraph *' at 0x7f698a668fc0> >,\n",
       " <snap.PNGraph; proxy of <Swig Object of type 'PNGraph *' at 0x7f698a668fc0> >]"
      ]
     },
     "execution_count": 85,
     "metadata": {},
     "output_type": "execute_result"
    }
   ],
   "source": [
    "tree_all"
   ]
  },
  {
   "cell_type": "code",
   "execution_count": 86,
   "metadata": {},
   "outputs": [],
   "source": [
    "for i in range(10):\n",
    "    snap.SaveEdgeList(tree_all[0], '../data/mygraphall' + str(i) + '.txt')"
   ]
  },
  {
   "cell_type": "code",
   "execution_count": null,
   "metadata": {},
   "outputs": [],
   "source": []
  }
 ],
 "metadata": {
  "kernelspec": {
   "display_name": "Python 3",
   "language": "python",
   "name": "python3"
  },
  "language_info": {
   "codemirror_mode": {
    "name": "ipython",
    "version": 3
   },
   "file_extension": ".py",
   "mimetype": "text/x-python",
   "name": "python",
   "nbconvert_exporter": "python",
   "pygments_lexer": "ipython3",
   "version": "3.7.3"
  }
 },
 "nbformat": 4,
 "nbformat_minor": 2
}
