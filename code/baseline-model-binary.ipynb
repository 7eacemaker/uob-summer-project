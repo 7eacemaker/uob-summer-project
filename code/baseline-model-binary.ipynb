{
 "cells": [
  {
   "cell_type": "markdown",
   "metadata": {},
   "source": [
    "# Import Data"
   ]
  },
  {
   "cell_type": "code",
   "execution_count": 1,
   "metadata": {},
   "outputs": [
    {
     "name": "stderr",
     "output_type": "stream",
     "text": [
      "Using TensorFlow backend.\n"
     ]
    }
   ],
   "source": [
    "import tensorflow\n",
    "import keras\n",
    "import numpy as np\n",
    "np.random.seed(1248)"
   ]
  },
  {
   "cell_type": "code",
   "execution_count": 2,
   "metadata": {},
   "outputs": [],
   "source": [
    "import pandas as pd"
   ]
  },
  {
   "cell_type": "code",
   "execution_count": 3,
   "metadata": {},
   "outputs": [],
   "source": [
    "data = pd.read_csv('../data/buffer_overflow_data.csv.gz')"
   ]
  },
  {
   "cell_type": "code",
   "execution_count": 4,
   "metadata": {},
   "outputs": [],
   "source": [
    "labels = data.copy()\n",
    "del labels['Unnamed: 0']\n",
    "del labels['Unnamed: 0.1']\n",
    "del labels['filename']\n",
    "del labels['code']\n",
    "del labels['flaw']\n",
    "del labels['flaw_loc']\n",
    "labels = labels.drop_duplicates().sort_values('testcase_ID').reset_index(drop=True)"
   ]
  },
  {
   "cell_type": "code",
   "execution_count": 5,
   "metadata": {
    "scrolled": true
   },
   "outputs": [],
   "source": [
    "x = pd.read_csv(\"../data/buffer_overflow_graph_embeddings.csv.gz\")\n",
    "x['testcase_ID'] = x['type']\n",
    "del x['type']\n",
    "x = x.sort_values(\"testcase_ID\").reset_index(drop=True)"
   ]
  },
  {
   "cell_type": "code",
   "execution_count": 6,
   "metadata": {},
   "outputs": [],
   "source": [
    "y = labels['bug']\n",
    "x = x.drop('testcase_ID', axis='columns')"
   ]
  },
  {
   "cell_type": "code",
   "execution_count": 9,
   "metadata": {},
   "outputs": [],
   "source": [
    "import pickle\n",
    "\n",
    "with open('../data/x-train-binary','rb') as f:\n",
    "    x_train = pickle.load(f)\n",
    "    \n",
    "with open('../data/y-train-binary','rb') as f:\n",
    "    y_train = pickle.load(f)\n",
    "    \n",
    "with open('../data/x-test-binary','rb') as f:\n",
    "    x_test = pickle.load(f)\n",
    "    \n",
    "with open('../data/y-test-binary','rb') as f:\n",
    "    y_test = pickle.load(f)"
   ]
  },
  {
   "cell_type": "code",
   "execution_count": 10,
   "metadata": {},
   "outputs": [
    {
     "data": {
      "text/plain": [
       "(17201,)"
      ]
     },
     "execution_count": 10,
     "metadata": {},
     "output_type": "execute_result"
    }
   ],
   "source": [
    "y_train.shape"
   ]
  },
  {
   "cell_type": "code",
   "execution_count": 11,
   "metadata": {},
   "outputs": [
    {
     "data": {
      "text/plain": [
       "(17201, 128)"
      ]
     },
     "execution_count": 11,
     "metadata": {},
     "output_type": "execute_result"
    }
   ],
   "source": [
    "x_train.shape"
   ]
  },
  {
   "cell_type": "markdown",
   "metadata": {},
   "source": [
    "# [Neural tutorial](https://towardsdatascience.com/neural-networks-from-scratch-easy-vs-hard-b26ddc2e89c7)"
   ]
  },
  {
   "cell_type": "code",
   "execution_count": 12,
   "metadata": {
    "scrolled": true
   },
   "outputs": [],
   "source": [
    "from keras.layers import Dense, Dropout, Flatten, Reshape\n",
    "from keras.layers import Conv1D, MaxPooling1D\n",
    "from keras.models import Sequential\n",
    "from keras.layers.normalization import BatchNormalization\n",
    "from keras.layers.advanced_activations import LeakyReLU\n",
    "from keras.optimizers import RMSprop, Adadelta, Adam"
   ]
  },
  {
   "cell_type": "code",
   "execution_count": 17,
   "metadata": {},
   "outputs": [],
   "source": [
    "model = Sequential()\n",
    "\n",
    "model.add(Dense(128, input_dim=x_train.shape[1], activation='sigmoid'))\n",
    "model.add(Dense(128, activation='sigmoid'))\n",
    "model.add(Dense(units=1, activation='sigmoid'))\n",
    "\n",
    "model.compile(optimizer=Adam(), loss='binary_crossentropy', metrics=['accuracy'])"
   ]
  },
  {
   "cell_type": "code",
   "execution_count": 18,
   "metadata": {
    "scrolled": true
   },
   "outputs": [
    {
     "name": "stdout",
     "output_type": "stream",
     "text": [
      "_________________________________________________________________\n",
      "Layer (type)                 Output Shape              Param #   \n",
      "=================================================================\n",
      "dense_4 (Dense)              (None, 128)               16512     \n",
      "_________________________________________________________________\n",
      "dense_5 (Dense)              (None, 128)               16512     \n",
      "_________________________________________________________________\n",
      "dense_6 (Dense)              (None, 1)                 129       \n",
      "=================================================================\n",
      "Total params: 33,153\n",
      "Trainable params: 33,153\n",
      "Non-trainable params: 0\n",
      "_________________________________________________________________\n"
     ]
    }
   ],
   "source": [
    "model.summary()"
   ]
  },
  {
   "cell_type": "code",
   "execution_count": 19,
   "metadata": {
    "scrolled": true
   },
   "outputs": [
    {
     "name": "stdout",
     "output_type": "stream",
     "text": [
      "WARNING:tensorflow:From /usr/local/lib/python3.6/dist-packages/tensorflow/python/ops/math_ops.py:3066: to_int32 (from tensorflow.python.ops.math_ops) is deprecated and will be removed in a future version.\n",
      "Instructions for updating:\n",
      "Use tf.cast instead.\n",
      "Epoch 1/50\n",
      "17201/17201 [==============================] - 1s 70us/step - loss: 0.6763 - acc: 0.5667\n",
      "Epoch 2/50\n",
      "17201/17201 [==============================] - 1s 62us/step - loss: 0.6165 - acc: 0.6768\n",
      "Epoch 3/50\n",
      "17201/17201 [==============================] - 1s 56us/step - loss: 0.5654 - acc: 0.7199\n",
      "Epoch 4/50\n",
      "17201/17201 [==============================] - 1s 49us/step - loss: 0.5118 - acc: 0.7644\n",
      "Epoch 5/50\n",
      "17201/17201 [==============================] - 1s 45us/step - loss: 0.4664 - acc: 0.7900\n",
      "Epoch 6/50\n",
      "17201/17201 [==============================] - 1s 51us/step - loss: 0.4310 - acc: 0.8087\n",
      "Epoch 7/50\n",
      "17201/17201 [==============================] - 1s 48us/step - loss: 0.3920 - acc: 0.8325\n",
      "Epoch 8/50\n",
      "17201/17201 [==============================] - 1s 78us/step - loss: 0.3376 - acc: 0.8648\n",
      "Epoch 9/50\n",
      "17201/17201 [==============================] - 1s 61us/step - loss: 0.2910 - acc: 0.8871\n",
      "Epoch 10/50\n",
      "17201/17201 [==============================] - 1s 51us/step - loss: 0.2520 - acc: 0.9020\n",
      "Epoch 11/50\n",
      "17201/17201 [==============================] - 1s 63us/step - loss: 0.2209 - acc: 0.9130\n",
      "Epoch 12/50\n",
      "17201/17201 [==============================] - 1s 65us/step - loss: 0.1994 - acc: 0.9205\n",
      "Epoch 13/50\n",
      "17201/17201 [==============================] - 1s 55us/step - loss: 0.1790 - acc: 0.9284\n",
      "Epoch 14/50\n",
      "17201/17201 [==============================] - 1s 46us/step - loss: 0.1662 - acc: 0.9316\n",
      "Epoch 15/50\n",
      "17201/17201 [==============================] - 1s 50us/step - loss: 0.1537 - acc: 0.9356\n",
      "Epoch 16/50\n",
      "17201/17201 [==============================] - 1s 66us/step - loss: 0.1459 - acc: 0.9368\n",
      "Epoch 17/50\n",
      "17201/17201 [==============================] - 1s 46us/step - loss: 0.1361 - acc: 0.9420\n",
      "Epoch 18/50\n",
      "17201/17201 [==============================] - 1s 63us/step - loss: 0.1318 - acc: 0.9429\n",
      "Epoch 19/50\n",
      "17201/17201 [==============================] - 1s 51us/step - loss: 0.1258 - acc: 0.9441\n",
      "Epoch 20/50\n",
      "17201/17201 [==============================] - 1s 61us/step - loss: 0.1211 - acc: 0.9471\n",
      "Epoch 21/50\n",
      "17201/17201 [==============================] - 1s 78us/step - loss: 0.1217 - acc: 0.9443\n",
      "Epoch 22/50\n",
      "17201/17201 [==============================] - 1s 72us/step - loss: 0.1173 - acc: 0.9467\n",
      "Epoch 23/50\n",
      "17201/17201 [==============================] - 1s 79us/step - loss: 0.1181 - acc: 0.9442\n",
      "Epoch 24/50\n",
      "17201/17201 [==============================] - 1s 55us/step - loss: 0.1128 - acc: 0.9477\n",
      "Epoch 25/50\n",
      "17201/17201 [==============================] - 2s 90us/step - loss: 0.1117 - acc: 0.9492\n",
      "Epoch 26/50\n",
      "17201/17201 [==============================] - 1s 85us/step - loss: 0.1127 - acc: 0.9479\n",
      "Epoch 27/50\n",
      "17201/17201 [==============================] - 2s 94us/step - loss: 0.1063 - acc: 0.9513\n",
      "Epoch 28/50\n",
      "17201/17201 [==============================] - 2s 88us/step - loss: 0.1058 - acc: 0.9490\n",
      "Epoch 29/50\n",
      "17201/17201 [==============================] - 1s 86us/step - loss: 0.1036 - acc: 0.9505\n",
      "Epoch 30/50\n",
      "17201/17201 [==============================] - 2s 90us/step - loss: 0.1026 - acc: 0.9510\n",
      "Epoch 31/50\n",
      "17201/17201 [==============================] - 1s 84us/step - loss: 0.1043 - acc: 0.9494\n",
      "Epoch 32/50\n",
      "17201/17201 [==============================] - 1s 80us/step - loss: 0.1032 - acc: 0.9509: 1s - l\n",
      "Epoch 33/50\n",
      "17201/17201 [==============================] - 1s 84us/step - loss: 0.0987 - acc: 0.9523\n",
      "Epoch 34/50\n",
      "17201/17201 [==============================] - 2s 88us/step - loss: 0.0992 - acc: 0.9527\n",
      "Epoch 35/50\n",
      "17201/17201 [==============================] - 1s 63us/step - loss: 0.0980 - acc: 0.9522\n",
      "Epoch 36/50\n",
      "17201/17201 [==============================] - 1s 45us/step - loss: 0.0954 - acc: 0.9533\n",
      "Epoch 37/50\n",
      "17201/17201 [==============================] - 1s 41us/step - loss: 0.0951 - acc: 0.9534\n",
      "Epoch 38/50\n",
      "17201/17201 [==============================] - 1s 40us/step - loss: 0.0987 - acc: 0.9516\n",
      "Epoch 39/50\n",
      "17201/17201 [==============================] - 1s 44us/step - loss: 0.0951 - acc: 0.9536\n",
      "Epoch 40/50\n",
      "17201/17201 [==============================] - 1s 48us/step - loss: 0.0996 - acc: 0.9522\n",
      "Epoch 41/50\n",
      "17201/17201 [==============================] - 1s 44us/step - loss: 0.0939 - acc: 0.9537\n",
      "Epoch 42/50\n",
      "17201/17201 [==============================] - 1s 47us/step - loss: 0.0897 - acc: 0.9565\n",
      "Epoch 43/50\n",
      "17201/17201 [==============================] - 1s 44us/step - loss: 0.0913 - acc: 0.9537\n",
      "Epoch 44/50\n",
      "17201/17201 [==============================] - 1s 46us/step - loss: 0.0925 - acc: 0.9537\n",
      "Epoch 45/50\n",
      "17201/17201 [==============================] - 1s 44us/step - loss: 0.0924 - acc: 0.9548\n",
      "Epoch 46/50\n",
      "17201/17201 [==============================] - 1s 41us/step - loss: 0.0920 - acc: 0.9542\n",
      "Epoch 47/50\n",
      "17201/17201 [==============================] - 1s 44us/step - loss: 0.0911 - acc: 0.9553\n",
      "Epoch 48/50\n",
      "17201/17201 [==============================] - 1s 51us/step - loss: 0.0906 - acc: 0.9570\n",
      "Epoch 49/50\n",
      "17201/17201 [==============================] - 1s 56us/step - loss: 0.0877 - acc: 0.9558\n",
      "Epoch 50/50\n",
      "17201/17201 [==============================] - 1s 71us/step - loss: 0.0882 - acc: 0.9556\n"
     ]
    },
    {
     "data": {
      "text/plain": [
       "<keras.callbacks.History at 0x7f72185d4940>"
      ]
     },
     "execution_count": 19,
     "metadata": {},
     "output_type": "execute_result"
    }
   ],
   "source": [
    "model.fit(x_train, y_train, epochs=50, batch_size=64)"
   ]
  },
  {
   "cell_type": "code",
   "execution_count": 20,
   "metadata": {},
   "outputs": [],
   "source": [
    "import pickle"
   ]
  },
  {
   "cell_type": "code",
   "execution_count": 21,
   "metadata": {},
   "outputs": [],
   "source": [
    "with open('../data/baseline-model-binary','wb') as f:\n",
    "    pickle.dump(model,f)"
   ]
  },
  {
   "cell_type": "code",
   "execution_count": 22,
   "metadata": {},
   "outputs": [
    {
     "name": "stdout",
     "output_type": "stream",
     "text": [
      "4301/4301 [==============================] - 0s 78us/step\n"
     ]
    },
    {
     "data": {
      "text/plain": [
       "[0.09805650830137205, 0.9486166007905138]"
      ]
     },
     "execution_count": 22,
     "metadata": {},
     "output_type": "execute_result"
    }
   ],
   "source": [
    "model.evaluate(x_test,y_test)"
   ]
  },
  {
   "cell_type": "code",
   "execution_count": 23,
   "metadata": {},
   "outputs": [],
   "source": [
    "import seaborn as sns\n",
    "from sklearn import metrics\n",
    "import matplotlib"
   ]
  },
  {
   "cell_type": "code",
   "execution_count": 24,
   "metadata": {},
   "outputs": [],
   "source": [
    "y_predict= model.predict(x_test)"
   ]
  },
  {
   "cell_type": "code",
   "execution_count": 25,
   "metadata": {},
   "outputs": [],
   "source": [
    "import numpy as np"
   ]
  },
  {
   "cell_type": "code",
   "execution_count": 26,
   "metadata": {},
   "outputs": [
    {
     "data": {
      "image/png": "[encoded data removed]",
      "text/plain": [
       "<Figure size 360x288 with 2 Axes>"
      ]
     },
     "metadata": {
      "needs_background": "light"
     },
     "output_type": "display_data"
    }
   ],
   "source": [
    "confusion_matrix = pd.DataFrame(\n",
    "    data=metrics.confusion_matrix(y_test, np.rint(y_predict)), \n",
    "    \n",
    ")\n",
    "\n",
    "confusion_figure, confusion_axes = matplotlib.pyplot.subplots()\n",
    "confusion_figure.set_size_inches(5, 4)\n",
    "confusion_axes.set_title(\n",
    "    'Confusion matrix showing the frequency of \\n'\n",
    "    'correct and incorrect bug classification predictions.'\n",
    "    '\\n\\n'  # hack to avoid overlap with x-axis labels below\n",
    ")\n",
    "confusion_axes.xaxis.tick_top()  # move x-axis labels to top of matrix\n",
    "_ = sns.heatmap(\n",
    "    confusion_matrix,\n",
    "    annot=True,\n",
    "    fmt=\"d\",\n",
    "    cmap=sns.color_palette(\"Blues\"),\n",
    "    vmin=0,\n",
    "    ax=confusion_axes,\n",
    ")\n",
    "\n",
    "confusion_figure.savefig('../images/baseline_conf_matrix')"
   ]
  },
  {
   "cell_type": "code",
   "execution_count": 27,
   "metadata": {},
   "outputs": [],
   "source": [
    "from sklearn.metrics import roc_curve\n",
    "fpr_keras, tpr_keras, thresholds_keras = roc_curve((y_test.values+0), y_predict)"
   ]
  },
  {
   "cell_type": "code",
   "execution_count": 28,
   "metadata": {},
   "outputs": [],
   "source": [
    "from sklearn.metrics import auc\n",
    "import matplotlib.pyplot as plt\n",
    "auc_keras = auc(fpr_keras, tpr_keras)"
   ]
  },
  {
   "cell_type": "code",
   "execution_count": 29,
   "metadata": {},
   "outputs": [
    {
     "data": {
      "image/png": "[encoded data removed]",
      "text/plain": [
       "<Figure size 432x288 with 1 Axes>"
      ]
     },
     "metadata": {
      "needs_background": "light"
     },
     "output_type": "display_data"
    },
    {
     "data": {
      "text/plain": [
       "<Figure size 432x288 with 0 Axes>"
      ]
     },
     "metadata": {},
     "output_type": "display_data"
    }
   ],
   "source": [
    "plt.plot(fpr_keras, tpr_keras, label='Keras (area = {:.3f})'.format(auc_keras))\n",
    "plt.xlabel('False positive rate')\n",
    "plt.ylabel('True positive rate')\n",
    "plt.title('ROC curve')\n",
    "plt.legend(loc='best')\n",
    "plt.show()\n",
    "plt.savefig('../images/baseline_roc_curve')"
   ]
  }
 ],
 "metadata": {
  "kernelspec": {
   "display_name": "Python 3",
   "language": "python",
   "name": "python3"
  },
  "language_info": {
   "codemirror_mode": {
    "name": "ipython",
    "version": 3
   },
   "file_extension": ".py",
   "mimetype": "text/x-python",
   "name": "python",
   "nbconvert_exporter": "python",
   "pygments_lexer": "ipython3",
   "version": "3.6.8"
  },
  "toc": {
   "base_numbering": 1,
   "nav_menu": {},
   "number_sections": true,
   "sideBar": true,
   "skip_h1_title": false,
   "title_cell": "Table of Contents",
   "title_sidebar": "Contents",
   "toc_cell": false,
   "toc_position": {},
   "toc_section_display": true,
   "toc_window_display": false
  }
 },
 "nbformat": 4,
 "nbformat_minor": 2
}
