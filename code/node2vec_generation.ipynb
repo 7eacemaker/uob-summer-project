{
  "nbformat": 4,
  "nbformat_minor": 0,
  "metadata": {
    "colab": {
      "name": "node2vec_generation",
      "version": "0.3.2",
      "provenance": [],
      "include_colab_link": true
    },
    "kernelspec": {
      "name": "python3",
      "display_name": "Python 3"
    },
    "accelerator": "GPU"
  },
  "cells": [
    {
      "cell_type": "markdown",
      "metadata": {
        "id": "view-in-github",
        "colab_type": "text"
      },
      "source": [
        "<a href=\"https://colab.research.google.com/github/dj311/uob-summer-project/blob/master/code/node2vec_generation.ipynb\" target=\"_parent\"><img src=\"https://colab.research.google.com/assets/colab-badge.svg\" alt=\"Open In Colab\"/></a>"
      ]
    },
    {
      "cell_type": "code",
      "metadata": {
        "id": "YTxs8PqJTaxk",
        "colab_type": "code",
        "outputId": "0619b697-ca0b-4a89-bf03-648e4b3d5fee",
        "colab": {
          "base_uri": "https://localhost:8080/",
          "height": 74
        }
      },
      "source": [
        "from google.colab import drive\n",
        "drive.mount('/content/drive')"
      ],
      "execution_count": 9,
      "outputs": [
        {
          "output_type": "stream",
          "text": [
            "Drive already mounted at /content/drive; to attempt to forcibly remount, call drive.mount(\"/content/drive\", force_remount=True).\n"
          ],
          "name": "stdout"
        }
      ]
    },
    {
      "cell_type": "code",
      "metadata": {
        "id": "wrYxwUJSUkFD",
        "colab_type": "code",
        "colab": {}
      },
      "source": [
        "import os\n",
        "os.chdir(\"./drive/My Drive/UoB/\")"
      ],
      "execution_count": 0,
      "outputs": []
    },
    {
      "cell_type": "code",
      "metadata": {
        "id": "CwGTgJI6aywr",
        "colab_type": "code",
        "colab": {}
      },
      "source": [
        "from multiprocessing import Pool\n",
        "from subprocess import Popen, PIPE\n",
        "import glob\n",
        "import os\n",
        "import subprocess\n",
        "from multiprocessing.dummy import Pool # use threads\n",
        "from subprocess import check_output\n",
        "\n",
        "os.chdir(\"./uob-summer-project-node2vec\")"
      ],
      "execution_count": 0,
      "outputs": []
    },
    {
      "cell_type": "code",
      "metadata": {
        "id": "TruS0zcbbaIP",
        "colab_type": "code",
        "colab": {}
      },
      "source": [
        "f_list = glob.glob('./node2vec_input/*.txt')\n",
        "out_list = glob.glob('./node2vec_output/*.txt')\n",
        "\n",
        "\n",
        "\n",
        "# get the outputlist\n",
        "def outputlist(input_filename):\n",
        "    temp = input_filename.split('/')\n",
        "    temp[1] = 'node2vec_output'\n",
        "    return \"/\".join(temp)\n",
        "  \n",
        "# get the inputlist\n",
        "def inputlist(input_filename):\n",
        "    temp = input_filename.split('/')\n",
        "    temp[1] = 'node2vec_input'\n",
        "    return \"/\".join(temp)\n",
        "\n",
        "# output_filename coresponds to all the files in the input folder\n",
        "all_output_filename = [outputlist(f_list[i]) for i in range(len(f_list))]\n",
        "\n",
        "output_filename = list(set(all_output_filename).difference(set(out_list)))\n",
        "\n",
        "input_filename = [inputlist(output_filename[i]) for i in range(len(output_filename))]\n",
        "\n",
        "\n",
        "file_name = [[input_filename[i],output_filename[i]] for i in range(len(input_filename))]\n",
        "\n",
        "\n",
        "cmds_list = [['python', './src/main.py','--input',input_filename, '--output', output_filename] for input_filename, output_filename in file_name]\n",
        "\n"
      ],
      "execution_count": 0,
      "outputs": []
    },
    {
      "cell_type": "code",
      "metadata": {
        "id": "oPRHzZ5k87H8",
        "colab_type": "code",
        "colab": {}
      },
      "source": [
        "len(list(set(input_filename).intersection(set(f_list))))"
      ],
      "execution_count": 0,
      "outputs": []
    },
    {
      "cell_type": "code",
      "metadata": {
        "id": "VPHDMJyo87J9",
        "colab_type": "code",
        "colab": {}
      },
      "source": [
        "\" \".join(cmds_list[0])"
      ],
      "execution_count": 0,
      "outputs": []
    },
    {
      "cell_type": "code",
      "metadata": {
        "id": "Z1XpSwlB87MT",
        "colab_type": "code",
        "colab": {}
      },
      "source": [
        "!python \"./src/main.py\" --input ./node2vec_input/64257.txt --output ./node2vec_output/64257.txt"
      ],
      "execution_count": 0,
      "outputs": []
    },
    {
      "cell_type": "code",
      "metadata": {
        "id": "-ugxEXd-8-hj",
        "colab_type": "code",
        "colab": {}
      },
      "source": [
        "cmds_list[0][-1] in glob.glob('./node2vec_output/*.txt')"
      ],
      "execution_count": 0,
      "outputs": []
    },
    {
      "cell_type": "markdown",
      "metadata": {
        "id": "Y8WPR2oA8y1d",
        "colab_type": "text"
      },
      "source": [
        "Parallel"
      ]
    },
    {
      "cell_type": "code",
      "metadata": {
        "id": "26b5gRaPzvG2",
        "colab_type": "code",
        "colab": {
          "base_uri": "https://localhost:8080/",
          "height": 34
        },
        "outputId": "2ce721e0-f5b6-404d-d140-7b3f06215656"
      },
      "source": [
        "import random\n",
        "random.shuffle(cmds_list)\n",
        "\n",
        "from subprocess import Popen\n",
        "for i in range(1,20):\n",
        "  print(i)\n",
        "  commands = cmds_list[500*i:500*(i+1)]\n",
        "  procs = [ Popen(i) for i in commands ]\n",
        "  for p in procs:\n",
        "     p.wait()"
      ],
      "execution_count": 0,
      "outputs": [
        {
          "output_type": "stream",
          "text": [
            "1\n"
          ],
          "name": "stdout"
        }
      ]
    },
    {
      "cell_type": "markdown",
      "metadata": {
        "id": "3JvMQX5F8waq",
        "colab_type": "text"
      },
      "source": [
        "Normal way"
      ]
    },
    {
      "cell_type": "code",
      "metadata": {
        "id": "MIqwWPHLfFtz",
        "colab_type": "code",
        "outputId": "0c78630c-d790-4576-929f-4798589014a5",
        "colab": {
          "base_uri": "https://localhost:8080/",
          "height": 108
        }
      },
      "source": [
        "for i in range(len(cmds_list)):\n",
        "    try:\n",
        "        if os.path.exists(cmds_list[i][5]):\n",
        "          print(\"exist\")\n",
        "          continue\n",
        "        else:   \n",
        "          subprocess.run(cmds_list[i])        \n",
        "          print(cmds_list[i])\n",
        "          #subprocess.run([\"rm\",cmds_list[i][3]])\n",
        "\n",
        "    except:\n",
        "        print(\"fail\")"
      ],
      "execution_count": 0,
      "outputs": [
        {
          "output_type": "stream",
          "text": [
            "fail\n",
            "fail\n",
            "['python', './src/main.py', '--input', './node2vec_input/66027.txt', '--output', './node2vec_output/66027.txt']\n"
          ],
          "name": "stdout"
        }
      ]
    },
    {
      "cell_type": "code",
      "metadata": {
        "id": "oTFK_ln-b4vV",
        "colab_type": "code",
        "colab": {}
      },
      "source": [
        ""
      ],
      "execution_count": 0,
      "outputs": []
    }
  ]
}