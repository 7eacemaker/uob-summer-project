{
 "cells": [
  {
   "cell_type": "code",
   "execution_count": 2,
   "metadata": {},
   "outputs": [],
   "source": [
    "import pandas as pd"
   ]
  },
  {
   "cell_type": "code",
   "execution_count": 4,
   "metadata": {},
   "outputs": [],
   "source": [
    "data = pd.read_csv('../data/juliet_split.csv.gz')"
   ]
  },
  {
   "cell_type": "code",
   "execution_count": 116,
   "metadata": {
    "scrolled": false
   },
   "outputs": [],
   "source": [
    "cwe_list = pd.read_csv('../data/2000.csv.zip', index_col=False)\n"
   ]
  },
  {
   "cell_type": "code",
   "execution_count": 97,
   "metadata": {},
   "outputs": [],
   "source": [
    "cwe_list = cwe_list.rename(columns={\"CWE-ID\": \"CWE_ID\"})\n",
    "cwe_list['CWE_ID'] = cwe_list['CWE_ID'].astype(int)"
   ]
  },
  {
   "cell_type": "code",
   "execution_count": 98,
   "metadata": {},
   "outputs": [],
   "source": [
    "cwe_list.CWE_ID = cwe_list.CWE_ID.apply(lambda x: 'CWE-' + str(x))"
   ]
  },
  {
   "cell_type": "code",
   "execution_count": 102,
   "metadata": {},
   "outputs": [],
   "source": [
    "cwe_list = cwe_list[['CWE_ID', 'Name']]"
   ]
  },
  {
   "cell_type": "code",
   "execution_count": 12,
   "metadata": {
    "scrolled": true
   },
   "outputs": [
    {
     "data": {
      "text/plain": [
       "CWE-122    12036\n",
       "CWE-121    11968\n",
       "CWE-078     9600\n",
       "CWE-190     8044\n",
       "CWE-762     7128\n",
       "CWE-191     5904\n",
       "CWE-134     5760\n",
       "CWE-590     5360\n",
       "CWE-023     4800\n",
       "CWE-036     4800\n",
       "CWE-127     4096\n",
       "CWE-124     4096\n",
       "CWE-401     3316\n",
       "CWE-126     3176\n",
       "CWE-457     2732\n",
       "CWE-194     2304\n",
       "CWE-195     2304\n",
       "CWE-690     2208\n",
       "CWE-415     1924\n",
       "CWE-789     1920\n",
       "CWE-197     1788\n",
       "CWE-369     1728\n",
       "CWE-400     1440\n",
       "CWE-253     1368\n",
       "CWE-252     1260\n",
       "CWE-758     1162\n",
       "CWE-680     1152\n",
       "CWE-114     1152\n",
       "CWE-761     1152\n",
       "CWE-563     1024\n",
       "           ...  \n",
       "CWE-482       36\n",
       "CWE-222       36\n",
       "CWE-364       36\n",
       "CWE-587       36\n",
       "CWE-478       36\n",
       "CWE-223       36\n",
       "CWE-247       36\n",
       "CWE-480       36\n",
       "CWE-667       36\n",
       "CWE-676       36\n",
       "CWE-785       36\n",
       "CWE-688       36\n",
       "CWE-196       36\n",
       "CWE-620       36\n",
       "CWE-780       36\n",
       "CWE-481       36\n",
       "CWE-484       36\n",
       "CWE-338       36\n",
       "CWE-526       36\n",
       "CWE-832       36\n",
       "CWE-615       36\n",
       "CWE-242       36\n",
       "CWE-570       32\n",
       "CWE-571       32\n",
       "CWE-835       12\n",
       "CWE-562        6\n",
       "CWE-561        4\n",
       "CWE-674        4\n",
       "CWE-500        2\n",
       "CWE-440        2\n",
       "Name: flaw, Length: 119, dtype: int64"
      ]
     },
     "execution_count": 12,
     "metadata": {},
     "output_type": "execute_result"
    }
   ],
   "source": [
    "value_counts = data.flaw.value_counts()\n",
    "bug_df = value_counts.rename_axis('CWE_ID').reset_index(name='counts')"
   ]
  },
  {
   "cell_type": "code",
   "execution_count": 112,
   "metadata": {},
   "outputs": [],
   "source": [
    "bug_df = pd.merge(cwe_list,bug_df, on='CWE_ID')"
   ]
  },
  {
   "cell_type": "code",
   "execution_count": 114,
   "metadata": {},
   "outputs": [],
   "source": [
    "bug_df = bug_df.sort_values(by='counts', ascending=False)"
   ]
  },
  {
   "cell_type": "code",
   "execution_count": 117,
   "metadata": {},
   "outputs": [],
   "source": [
    "bug_df.to_csv('../data/bug_df.csv')"
   ]
  }
 ],
 "metadata": {
  "kernelspec": {
   "display_name": "Python 3",
   "language": "python",
   "name": "python3"
  },
  "language_info": {
   "codemirror_mode": {
    "name": "ipython",
    "version": 3
   },
   "file_extension": ".py",
   "mimetype": "text/x-python",
   "name": "python",
   "nbconvert_exporter": "python",
   "pygments_lexer": "ipython3",
   "version": "3.7.3"
  }
 },
 "nbformat": 4,
 "nbformat_minor": 2
}
