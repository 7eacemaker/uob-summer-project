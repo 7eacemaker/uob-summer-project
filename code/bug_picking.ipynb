{
 "cells": [
  {
   "cell_type": "markdown",
   "metadata": {},
   "source": [
    "Create a dataframe which contains the description of the bug types and counts in the Juliet dataframe"
   ]
  },
  {
   "cell_type": "code",
   "execution_count": 126,
   "metadata": {},
   "outputs": [],
   "source": [
    "import pandas as pd\n",
    "import numpy as np"
   ]
  },
  {
   "cell_type": "code",
   "execution_count": 4,
   "metadata": {},
   "outputs": [],
   "source": [
    "data = pd.read_csv('../data/juliet_split.csv.gz')"
   ]
  },
  {
   "cell_type": "code",
   "execution_count": 116,
   "metadata": {
    "scrolled": false
   },
   "outputs": [],
   "source": [
    "cwe_list = pd.read_csv('../data/2000.csv.zip', index_col=False)\n"
   ]
  },
  {
   "cell_type": "code",
   "execution_count": 97,
   "metadata": {},
   "outputs": [],
   "source": [
    "cwe_list = cwe_list.rename(columns={\"CWE-ID\": \"CWE_ID\"})\n",
    "cwe_list['CWE_ID'] = cwe_list['CWE_ID'].astype(int)"
   ]
  },
  {
   "cell_type": "code",
   "execution_count": 98,
   "metadata": {},
   "outputs": [],
   "source": [
    "cwe_list.CWE_ID = cwe_list.CWE_ID.apply(lambda x: 'CWE-' + str(x))"
   ]
  },
  {
   "cell_type": "code",
   "execution_count": 102,
   "metadata": {},
   "outputs": [],
   "source": [
    "cwe_list = cwe_list[['CWE_ID', 'Name']]"
   ]
  },
  {
   "cell_type": "code",
   "execution_count": 12,
   "metadata": {
    "scrolled": true
   },
   "outputs": [
    {
     "data": {
      "text/plain": [
       "CWE-122    12036\n",
       "CWE-121    11968\n",
       "CWE-078     9600\n",
       "CWE-190     8044\n",
       "CWE-762     7128\n",
       "CWE-191     5904\n",
       "CWE-134     5760\n",
       "CWE-590     5360\n",
       "CWE-023     4800\n",
       "CWE-036     4800\n",
       "CWE-127     4096\n",
       "CWE-124     4096\n",
       "CWE-401     3316\n",
       "CWE-126     3176\n",
       "CWE-457     2732\n",
       "CWE-194     2304\n",
       "CWE-195     2304\n",
       "CWE-690     2208\n",
       "CWE-415     1924\n",
       "CWE-789     1920\n",
       "CWE-197     1788\n",
       "CWE-369     1728\n",
       "CWE-400     1440\n",
       "CWE-253     1368\n",
       "CWE-252     1260\n",
       "CWE-758     1162\n",
       "CWE-680     1152\n",
       "CWE-114     1152\n",
       "CWE-761     1152\n",
       "CWE-563     1024\n",
       "           ...  \n",
       "CWE-482       36\n",
       "CWE-222       36\n",
       "CWE-364       36\n",
       "CWE-587       36\n",
       "CWE-478       36\n",
       "CWE-223       36\n",
       "CWE-247       36\n",
       "CWE-480       36\n",
       "CWE-667       36\n",
       "CWE-676       36\n",
       "CWE-785       36\n",
       "CWE-688       36\n",
       "CWE-196       36\n",
       "CWE-620       36\n",
       "CWE-780       36\n",
       "CWE-481       36\n",
       "CWE-484       36\n",
       "CWE-338       36\n",
       "CWE-526       36\n",
       "CWE-832       36\n",
       "CWE-615       36\n",
       "CWE-242       36\n",
       "CWE-570       32\n",
       "CWE-571       32\n",
       "CWE-835       12\n",
       "CWE-562        6\n",
       "CWE-561        4\n",
       "CWE-674        4\n",
       "CWE-500        2\n",
       "CWE-440        2\n",
       "Name: flaw, Length: 119, dtype: int64"
      ]
     },
     "execution_count": 12,
     "metadata": {},
     "output_type": "execute_result"
    }
   ],
   "source": [
    "value_counts = data.flaw.value_counts()\n",
    "bug_df = value_counts.rename_axis('CWE_ID').reset_index(name='counts')"
   ]
  },
  {
   "cell_type": "code",
   "execution_count": 112,
   "metadata": {},
   "outputs": [],
   "source": [
    "bug_df = pd.merge(cwe_list,bug_df, on='CWE_ID')"
   ]
  },
  {
   "cell_type": "code",
   "execution_count": 114,
   "metadata": {},
   "outputs": [],
   "source": [
    "bug_df = bug_df.sort_values(by='counts', ascending=False)"
   ]
  },
  {
   "cell_type": "code",
   "execution_count": 117,
   "metadata": {},
   "outputs": [],
   "source": [
    "bug_df.to_csv('../data/bug_df.csv')"
   ]
  },
  {
   "cell_type": "markdown",
   "metadata": {},
   "source": [
    "Filter data to just buffer overflow examples"
   ]
  },
  {
   "cell_type": "code",
   "execution_count": 123,
   "metadata": {},
   "outputs": [],
   "source": [
    "buffer_overflow_data = data[data['flaw'].str.contains('CWE-122|CWE-121')]"
   ]
  },
  {
   "cell_type": "code",
   "execution_count": 125,
   "metadata": {},
   "outputs": [
    {
     "data": {
      "text/html": [
       "<div>\n",
       "<style scoped>\n",
       "    .dataframe tbody tr th:only-of-type {\n",
       "        vertical-align: middle;\n",
       "    }\n",
       "\n",
       "    .dataframe tbody tr th {\n",
       "        vertical-align: top;\n",
       "    }\n",
       "\n",
       "    .dataframe thead th {\n",
       "        text-align: right;\n",
       "    }\n",
       "</style>\n",
       "<table border=\"1\" class=\"dataframe\">\n",
       "  <thead>\n",
       "    <tr style=\"text-align: right;\">\n",
       "      <th></th>\n",
       "      <th>Unnamed: 0</th>\n",
       "      <th>testcase_ID</th>\n",
       "      <th>filename</th>\n",
       "      <th>code</th>\n",
       "      <th>flaw</th>\n",
       "      <th>flaw_loc</th>\n",
       "      <th>bug</th>\n",
       "    </tr>\n",
       "  </thead>\n",
       "  <tbody>\n",
       "    <tr>\n",
       "      <th>576</th>\n",
       "      <td>576</td>\n",
       "      <td>62516_g</td>\n",
       "      <td>000/062/516/CWE121_Stack_Based_Buffer_Overflow...</td>\n",
       "      <td>/* TEMPLATE GENERATED TESTCASE FILE\\nFilename:...</td>\n",
       "      <td>CWE-121</td>\n",
       "      <td>112</td>\n",
       "      <td>False</td>\n",
       "    </tr>\n",
       "    <tr>\n",
       "      <th>577</th>\n",
       "      <td>577</td>\n",
       "      <td>62517_g</td>\n",
       "      <td>000/062/517/CWE121_Stack_Based_Buffer_Overflow...</td>\n",
       "      <td>/* TEMPLATE GENERATED TESTCASE FILE\\nFilename:...</td>\n",
       "      <td>CWE-121</td>\n",
       "      <td>117</td>\n",
       "      <td>False</td>\n",
       "    </tr>\n",
       "    <tr>\n",
       "      <th>578</th>\n",
       "      <td>578</td>\n",
       "      <td>62518_g</td>\n",
       "      <td>000/062/518/CWE121_Stack_Based_Buffer_Overflow...</td>\n",
       "      <td>/* TEMPLATE GENERATED TESTCASE FILE\\nFilename:...</td>\n",
       "      <td>CWE-121</td>\n",
       "      <td>117</td>\n",
       "      <td>False</td>\n",
       "    </tr>\n",
       "    <tr>\n",
       "      <th>579</th>\n",
       "      <td>579</td>\n",
       "      <td>62519_g</td>\n",
       "      <td>000/062/519/CWE121_Stack_Based_Buffer_Overflow...</td>\n",
       "      <td>/* TEMPLATE GENERATED TESTCASE FILE\\nFilename:...</td>\n",
       "      <td>CWE-121</td>\n",
       "      <td>123</td>\n",
       "      <td>False</td>\n",
       "    </tr>\n",
       "    <tr>\n",
       "      <th>580</th>\n",
       "      <td>580</td>\n",
       "      <td>62520_g</td>\n",
       "      <td>000/062/520/CWE121_Stack_Based_Buffer_Overflow...</td>\n",
       "      <td>/* TEMPLATE GENERATED TESTCASE FILE\\nFilename:...</td>\n",
       "      <td>CWE-121</td>\n",
       "      <td>123</td>\n",
       "      <td>False</td>\n",
       "    </tr>\n",
       "  </tbody>\n",
       "</table>\n",
       "</div>"
      ],
      "text/plain": [
       "     Unnamed: 0 testcase_ID  \\\n",
       "576         576     62516_g   \n",
       "577         577     62517_g   \n",
       "578         578     62518_g   \n",
       "579         579     62519_g   \n",
       "580         580     62520_g   \n",
       "\n",
       "                                              filename  \\\n",
       "576  000/062/516/CWE121_Stack_Based_Buffer_Overflow...   \n",
       "577  000/062/517/CWE121_Stack_Based_Buffer_Overflow...   \n",
       "578  000/062/518/CWE121_Stack_Based_Buffer_Overflow...   \n",
       "579  000/062/519/CWE121_Stack_Based_Buffer_Overflow...   \n",
       "580  000/062/520/CWE121_Stack_Based_Buffer_Overflow...   \n",
       "\n",
       "                                                  code     flaw  flaw_loc  \\\n",
       "576  /* TEMPLATE GENERATED TESTCASE FILE\\nFilename:...  CWE-121       112   \n",
       "577  /* TEMPLATE GENERATED TESTCASE FILE\\nFilename:...  CWE-121       117   \n",
       "578  /* TEMPLATE GENERATED TESTCASE FILE\\nFilename:...  CWE-121       117   \n",
       "579  /* TEMPLATE GENERATED TESTCASE FILE\\nFilename:...  CWE-121       123   \n",
       "580  /* TEMPLATE GENERATED TESTCASE FILE\\nFilename:...  CWE-121       123   \n",
       "\n",
       "       bug  \n",
       "576  False  \n",
       "577  False  \n",
       "578  False  \n",
       "579  False  \n",
       "580  False  "
      ]
     },
     "execution_count": 125,
     "metadata": {},
     "output_type": "execute_result"
    }
   ],
   "source": [
    "buffer_overflow_data.head(5)"
   ]
  },
  {
   "cell_type": "code",
   "execution_count": 124,
   "metadata": {},
   "outputs": [],
   "source": [
    "buffer_overflow_data.to_csv('../data/buffer_overflow_data.csv.gz')"
   ]
  }
 ],
 "metadata": {
  "kernelspec": {
   "display_name": "Python 3",
   "language": "python",
   "name": "python3"
  },
  "language_info": {
   "codemirror_mode": {
    "name": "ipython",
    "version": 3
   },
   "file_extension": ".py",
   "mimetype": "text/x-python",
   "name": "python",
   "nbconvert_exporter": "python",
   "pygments_lexer": "ipython3",
   "version": "3.7.3"
  }
 },
 "nbformat": 4,
 "nbformat_minor": 2
}
