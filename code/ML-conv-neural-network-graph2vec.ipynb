{
 "cells": [
  {
   "cell_type": "markdown",
   "metadata": {},
   "source": [
    "# Import Data"
   ]
  },
  {
   "cell_type": "code",
   "execution_count": 1,
   "metadata": {},
   "outputs": [
    {
     "name": "stderr",
     "output_type": "stream",
     "text": [
      "Using TensorFlow backend.\n"
     ]
    }
   ],
   "source": [
    "import numpy as np\n",
    "np.random.seed(1248)\n",
    "import tensorflow as tf\n",
    "import keras"
   ]
  },
  {
   "cell_type": "code",
   "execution_count": 2,
   "metadata": {},
   "outputs": [],
   "source": [
    "import pandas as pd"
   ]
  },
  {
   "cell_type": "code",
   "execution_count": 3,
   "metadata": {},
   "outputs": [],
   "source": [
    "data = pd.read_csv('../data/buffer_overflow_data.csv.gz')"
   ]
  },
  {
   "cell_type": "code",
   "execution_count": 4,
   "metadata": {},
   "outputs": [],
   "source": [
    "labels = data.copy()\n",
    "del labels['Unnamed: 0']\n",
    "del labels['Unnamed: 0.1']\n",
    "del labels['filename']\n",
    "del labels['code']\n",
    "del labels['flaw']\n",
    "del labels['flaw_loc']\n",
    "labels = labels.drop_duplicates().sort_values('testcase_ID').reset_index(drop=True)"
   ]
  },
  {
   "cell_type": "code",
   "execution_count": 5,
   "metadata": {
    "scrolled": true
   },
   "outputs": [],
   "source": [
    "x = pd.read_csv(\"../data/buffer_overflow_graph_embeddings.csv.gz\")\n",
    "x['testcase_ID'] = x['type']\n",
    "del x['type']\n",
    "x = x.sort_values(\"testcase_ID\").reset_index(drop=True)"
   ]
  },
  {
   "cell_type": "code",
   "execution_count": 6,
   "metadata": {},
   "outputs": [],
   "source": [
    "y = labels['bug']\n",
    "x = x.drop('testcase_ID', axis='columns')"
   ]
  },
  {
   "cell_type": "code",
   "execution_count": 7,
   "metadata": {},
   "outputs": [],
   "source": [
    "import pickle\n",
    "\n",
    "with open('../data/x-train-binary','rb') as f:\n",
    "    x_train = pickle.load(f)\n",
    "    \n",
    "with open('../data/y-train-binary','rb') as f:\n",
    "    y_train = pickle.load(f)\n",
    "    \n",
    "with open('../data/x-test-binary','rb') as f:\n",
    "    x_test = pickle.load(f)\n",
    "    \n",
    "with open('../data/y-test-binary','rb') as f:\n",
    "    y_test = pickle.load(f)"
   ]
  },
  {
   "cell_type": "code",
   "execution_count": 8,
   "metadata": {},
   "outputs": [
    {
     "data": {
      "text/plain": [
       "(17201,)"
      ]
     },
     "execution_count": 8,
     "metadata": {},
     "output_type": "execute_result"
    }
   ],
   "source": [
    "y_train.shape"
   ]
  },
  {
   "cell_type": "code",
   "execution_count": 9,
   "metadata": {},
   "outputs": [
    {
     "data": {
      "text/plain": [
       "(17201, 128)"
      ]
     },
     "execution_count": 9,
     "metadata": {},
     "output_type": "execute_result"
    }
   ],
   "source": [
    "x_train.shape"
   ]
  },
  {
   "cell_type": "markdown",
   "metadata": {},
   "source": [
    "# Baseline Neural Network"
   ]
  },
  {
   "cell_type": "code",
   "execution_count": 10,
   "metadata": {
    "scrolled": true
   },
   "outputs": [],
   "source": [
    "from keras.layers import Dense, Dropout, Flatten, Reshape\n",
    "from keras.layers import Conv1D, MaxPooling1D, Conv2D\n",
    "from keras.models import Sequential\n",
    "from keras.layers.normalization import BatchNormalization\n",
    "from keras.layers.advanced_activations import LeakyReLU\n",
    "from keras.optimizers import RMSprop, Adadelta, Adam\n",
    "from keras.layers import RepeatVector, Permute, Lambda, ActivityRegularization, AveragePooling1D\n",
    "from keras.optimizers import Nadam, Adagrad\n",
    "import math"
   ]
  },
  {
   "cell_type": "code",
   "execution_count": 10,
   "metadata": {},
   "outputs": [
    {
     "name": "stdout",
     "output_type": "stream",
     "text": [
      "WARNING:tensorflow:From /usr/local/lib/python3.6/dist-packages/tensorflow/python/framework/op_def_library.py:263: colocate_with (from tensorflow.python.framework.ops) is deprecated and will be removed in a future version.\n",
      "Instructions for updating:\n",
      "Colocations handled automatically by placer.\n",
      "WARNING:tensorflow:From /usr/local/lib/python3.6/dist-packages/tensorflow/python/ops/math_ops.py:3066: to_int32 (from tensorflow.python.ops.math_ops) is deprecated and will be removed in a future version.\n",
      "Instructions for updating:\n",
      "Use tf.cast instead.\n"
     ]
    }
   ],
   "source": [
    "import pickle\n",
    "\n",
    "with open('../data/dense-model-binary','rb') as f:\n",
    "    model = pickle.load(f)"
   ]
  },
  {
   "cell_type": "code",
   "execution_count": 11,
   "metadata": {
    "scrolled": true
   },
   "outputs": [
    {
     "name": "stdout",
     "output_type": "stream",
     "text": [
      "4301/4301 [==============================] - 0s 65us/step\n"
     ]
    },
    {
     "data": {
      "text/plain": [
       "[0.09569287468142022, 0.9537316903184386]"
      ]
     },
     "execution_count": 11,
     "metadata": {},
     "output_type": "execute_result"
    }
   ],
   "source": [
    "model.evaluate(x_test,y_test)"
   ]
  },
  {
   "cell_type": "code",
   "execution_count": 11,
   "metadata": {},
   "outputs": [],
   "source": [
    "import seaborn as sns\n",
    "from sklearn import metrics\n",
    "import matplotlib"
   ]
  },
  {
   "cell_type": "code",
   "execution_count": 18,
   "metadata": {},
   "outputs": [],
   "source": [
    "y_predict= model.predict(x_test)"
   ]
  },
  {
   "cell_type": "code",
   "execution_count": 12,
   "metadata": {},
   "outputs": [],
   "source": [
    "import numpy as np"
   ]
  },
  {
   "cell_type": "code",
   "execution_count": 20,
   "metadata": {},
   "outputs": [
    {
     "data": {
      "image/png": "[encoded data removed]",
      "text/plain": [
       "<Figure size 1080x864 with 2 Axes>"
      ]
     },
     "metadata": {
      "needs_background": "light"
     },
     "output_type": "display_data"
    }
   ],
   "source": [
    "confusion_matrix = pd.DataFrame(\n",
    "    data=metrics.confusion_matrix(y_test, np.rint(y_predict)), \n",
    "    \n",
    ")\n",
    "\n",
    "confusion_figure, confusion_axes = matplotlib.pyplot.subplots()\n",
    "confusion_figure.set_size_inches(15, 12)\n",
    "confusion_axes.set_title(\n",
    "    'Confusion matrix showing the frequency of \\n'\n",
    "    'correct and incorrect bug classification predictions.'\n",
    "    '\\n\\n'  # hack to avoid overlap with x-axis labels below\n",
    ")\n",
    "confusion_axes.xaxis.tick_top()  # move x-axis labels to top of matrix\n",
    "_ = sns.heatmap(\n",
    "    confusion_matrix,\n",
    "    annot=True,\n",
    "    fmt=\"d\",\n",
    "    cmap=sns.color_palette(\"Blues\"),\n",
    "    vmin=0,\n",
    "    ax=confusion_axes,\n",
    ")"
   ]
  },
  {
   "cell_type": "markdown",
   "metadata": {},
   "source": [
    "# Convolutional Neural Network"
   ]
  },
  {
   "cell_type": "markdown",
   "metadata": {},
   "source": [
    "The functions below can be used as Neural Network layers if we want."
   ]
  },
  {
   "cell_type": "code",
   "execution_count": 13,
   "metadata": {},
   "outputs": [],
   "source": [
    "#What is K?\n",
    "\n",
    "def antirectifier(x):\n",
    "    x -= K.mean(x, axis=1, keepdims=True)\n",
    "    x = K.l2_normalize(x, axis=1)\n",
    "    pos = K.relu(x)\n",
    "    neg = K.relu(-x)\n",
    "    return K.concatenate([pos, neg], axis=1)\n",
    "\n",
    "def antirectifier_output_shape(input_shape):\n",
    "    shape = list(input_shape)\n",
    "    assert len(shape) == 2  # only valid for 2D tensors\n",
    "    shape[-1] *= 2\n",
    "    return tuple(shape)\n",
    "\n",
    "#conv_model.add(Lambda(antirectifier,output_shape=antirectifier_output_shape))\n",
    "\n",
    "\n",
    "def hadamard_product_sum(tensors):\n",
    "    out1 = tensors[0] * tensors[1]\n",
    "    out2 = K.sum(out1, axis=-1)\n",
    "    return [out1, out2]\n",
    "\n",
    "def hadamard_product_sum_output_shape(input_shapes):\n",
    "    shape1 = list(input_shapes[0])\n",
    "    shape2 = list(input_shapes[1])\n",
    "    assert shape1 == shape2  # else hadamard product isn't possible\n",
    "    return [tuple(shape1), tuple(shape2[:-1])]\n",
    "\n",
    "#conv_model(Lambda(hadamard_product_sum, hadamard_product_sum_output_shape))"
   ]
  },
  {
   "cell_type": "markdown",
   "metadata": {},
   "source": [
    "Model justifications:\n",
    "\n",
    "The first layer is a dense layer for ease of inputting our data as our data is not in the correct dimension to go straight into a nueral network.\n",
    "\n",
    "The RepeatVector function is used to get the data into the desired dimesions, though it may not keep the proper structure we want. For unknown reasons, we were thrown errors when trying to use Reshape.\n",
    "\n",
    "A 1-dimensional convulutional layer was added next, it moves along one axis as it convolutes. \n",
    "\n",
    "Strides controls how far it moves each iteration and it works best when set to move only one step.\n",
    "\n",
    "The Sigmoid activation is most appropriate for our binary data as it is a logistic function.\n",
    "\n",
    "A dropout function is incorporated to reduce the chance of overfitting. It is set at rate 0.5, input units to 0 at each update during the training time. \n",
    "\n",
    "We then pool using padding as 'same' so that everything is padded to the same length here.\n",
    "\n",
    "We then flatten the data back to 2-dimensions.\n",
    "\n",
    "Squaring everything helped with predictions as values close to 1 would get bigger and those close to 0 would get smaller.\n",
    "\n",
    "We then finished with a dense layer."
   ]
  },
  {
   "cell_type": "code",
   "execution_count": 14,
   "metadata": {},
   "outputs": [
    {
     "name": "stdout",
     "output_type": "stream",
     "text": [
      "WARNING:tensorflow:From /usr/local/lib/python3.6/dist-packages/tensorflow/python/framework/op_def_library.py:263: colocate_with (from tensorflow.python.framework.ops) is deprecated and will be removed in a future version.\n",
      "Instructions for updating:\n",
      "Colocations handled automatically by placer.\n",
      "WARNING:tensorflow:From /usr/local/lib/python3.6/dist-packages/keras/backend/tensorflow_backend.py:3445: calling dropout (from tensorflow.python.ops.nn_ops) with keep_prob is deprecated and will be removed in a future version.\n",
      "Instructions for updating:\n",
      "Please use `rate` instead of `keep_prob`. Rate should be set to `rate = 1 - keep_prob`.\n"
     ]
    }
   ],
   "source": [
    "conv_model = Sequential()\n",
    "\n",
    "conv_model.add(Dense(128, input_dim=x_train.shape[1], activation='sigmoid'))\n",
    "conv_model.add(RepeatVector(3))\n",
    "\n",
    "\n",
    "# conv_model.add(Lambda(lambda x: x ** 3))\n",
    "\n",
    "# conv_model.add(Permute(2,1))\n",
    "\n",
    "conv_model.add(Conv1D(filters = 64, kernel_size = 3, strides = 1, activation ='sigmoid'))\n",
    "conv_model.add(Dropout(0.5))\n",
    "conv_model.add(MaxPooling1D(pool_size = 2, padding = 'same'))\n",
    "# conv_model.add(Conv1D(filters = 64, kernel_size = 3, activation ='linear'))\n",
    "# conv_model.add(LeakyReLU(alpha=0.1))\n",
    "# conv_model.add(MaxPooling1D(pool_size = 2, padding = 'same'))\n",
    "conv_model.add(Flatten())\n",
    "\n",
    "conv_model.add(Lambda(lambda x: x**2))\n",
    "\n",
    "conv_model.add(Dense(128, activation='sigmoid'))\n",
    "# conv_model.add(LeakyReLU(alpha=0.1))\n",
    "conv_model.add(Dropout(0.05))\n",
    "\n",
    "conv_model.add(Dense(units=1, activation='sigmoid'))"
   ]
  },
  {
   "cell_type": "code",
   "execution_count": 15,
   "metadata": {},
   "outputs": [
    {
     "name": "stdout",
     "output_type": "stream",
     "text": [
      "_________________________________________________________________\n",
      "Layer (type)                 Output Shape              Param #   \n",
      "=================================================================\n",
      "dense_1 (Dense)              (None, 128)               16512     \n",
      "_________________________________________________________________\n",
      "repeat_vector_1 (RepeatVecto (None, 3, 128)            0         \n",
      "_________________________________________________________________\n",
      "conv1d_1 (Conv1D)            (None, 1, 64)             24640     \n",
      "_________________________________________________________________\n",
      "dropout_1 (Dropout)          (None, 1, 64)             0         \n",
      "_________________________________________________________________\n",
      "max_pooling1d_1 (MaxPooling1 (None, 1, 64)             0         \n",
      "_________________________________________________________________\n",
      "flatten_1 (Flatten)          (None, 64)                0         \n",
      "_________________________________________________________________\n",
      "lambda_1 (Lambda)            (None, 64)                0         \n",
      "_________________________________________________________________\n",
      "dense_2 (Dense)              (None, 128)               8320      \n",
      "_________________________________________________________________\n",
      "dropout_2 (Dropout)          (None, 128)               0         \n",
      "_________________________________________________________________\n",
      "dense_3 (Dense)              (None, 1)                 129       \n",
      "=================================================================\n",
      "Total params: 49,601\n",
      "Trainable params: 49,601\n",
      "Non-trainable params: 0\n",
      "_________________________________________________________________\n"
     ]
    }
   ],
   "source": [
    "conv_model.summary()"
   ]
  },
  {
   "cell_type": "code",
   "execution_count": 16,
   "metadata": {},
   "outputs": [
    {
     "ename": "ModuleNotFoundError",
     "evalue": "No module named 'pydot'",
     "output_type": "error",
     "traceback": [
      "\u001b[0;31m---------------------------------------------------------------------------\u001b[0m",
      "\u001b[0;31mModuleNotFoundError\u001b[0m                       Traceback (most recent call last)",
      "\u001b[0;32m<ipython-input-16-c673b4e4d340>\u001b[0m in \u001b[0;36m<module>\u001b[0;34m\u001b[0m\n\u001b[1;32m      1\u001b[0m \u001b[0;32mimport\u001b[0m \u001b[0mkeras\u001b[0m\u001b[0;34m\u001b[0m\u001b[0;34m\u001b[0m\u001b[0m\n\u001b[0;32m----> 2\u001b[0;31m \u001b[0;32mimport\u001b[0m \u001b[0mpydot\u001b[0m \u001b[0;32mas\u001b[0m \u001b[0mpyd\u001b[0m\u001b[0;34m\u001b[0m\u001b[0;34m\u001b[0m\u001b[0m\n\u001b[0m\u001b[1;32m      3\u001b[0m \u001b[0;32mfrom\u001b[0m \u001b[0mIPython\u001b[0m\u001b[0;34m.\u001b[0m\u001b[0mdisplay\u001b[0m \u001b[0;32mimport\u001b[0m \u001b[0mSVG\u001b[0m\u001b[0;34m\u001b[0m\u001b[0;34m\u001b[0m\u001b[0m\n\u001b[1;32m      4\u001b[0m \u001b[0;32mfrom\u001b[0m \u001b[0mkeras\u001b[0m\u001b[0;34m.\u001b[0m\u001b[0mutils\u001b[0m\u001b[0;34m.\u001b[0m\u001b[0mvis_utils\u001b[0m \u001b[0;32mimport\u001b[0m \u001b[0mmodel_to_dot\u001b[0m\u001b[0;34m\u001b[0m\u001b[0;34m\u001b[0m\u001b[0m\n\u001b[1;32m      5\u001b[0m \u001b[0;34m\u001b[0m\u001b[0m\n",
      "\u001b[0;31mModuleNotFoundError\u001b[0m: No module named 'pydot'"
     ]
    }
   ],
   "source": [
    "import keras\n",
    "import pydot as pyd\n",
    "from IPython.display import SVG\n",
    "from keras.utils.vis_utils import model_to_dot\n",
    "\n",
    "keras.utils.vis_utils.pydot = pyd\n",
    "\n",
    "def visualize_model(model):\n",
    "  return model_to_dot(model).create(prog='dot', format='svg')\n",
    "\n",
    "model_diagram = visualize_model(conv_model)\n",
    "\n",
    "with open('../images/graph2vec-architecture-cnn.svg', 'wb') as f:\n",
    "    f.write(model_diagram)\n",
    "\n",
    "SVG(model_diagram)"
   ]
  },
  {
   "cell_type": "code",
   "execution_count": 17,
   "metadata": {},
   "outputs": [
    {
     "name": "stdout",
     "output_type": "stream",
     "text": [
      "WARNING:tensorflow:From /usr/local/lib/python3.6/dist-packages/tensorflow/python/ops/math_ops.py:3066: to_int32 (from tensorflow.python.ops.math_ops) is deprecated and will be removed in a future version.\n",
      "Instructions for updating:\n",
      "Use tf.cast instead.\n",
      "Epoch 1/50\n",
      "17201/17201 [==============================] - 2s 95us/step - loss: 0.6944 - acc: 0.5199\n",
      "Epoch 2/50\n",
      "17201/17201 [==============================] - 1s 68us/step - loss: 0.6238 - acc: 0.6512\n",
      "Epoch 3/50\n",
      "17201/17201 [==============================] - 1s 72us/step - loss: 0.5325 - acc: 0.7286\n",
      "Epoch 4/50\n",
      "17201/17201 [==============================] - 1s 80us/step - loss: 0.4665 - acc: 0.7738\n",
      "Epoch 5/50\n",
      "17201/17201 [==============================] - 1s 84us/step - loss: 0.3929 - acc: 0.8125\n",
      "Epoch 6/50\n",
      "17201/17201 [==============================] - 2s 105us/step - loss: 0.3276 - acc: 0.8473\n",
      "Epoch 7/50\n",
      "17201/17201 [==============================] - 1s 74us/step - loss: 0.2696 - acc: 0.8743\n",
      "Epoch 8/50\n",
      "17201/17201 [==============================] - 1s 69us/step - loss: 0.2243 - acc: 0.8974\n",
      "Epoch 9/50\n",
      "17201/17201 [==============================] - 1s 83us/step - loss: 0.1966 - acc: 0.9104\n",
      "Epoch 10/50\n",
      "17201/17201 [==============================] - 1s 74us/step - loss: 0.1826 - acc: 0.9140\n",
      "Epoch 11/50\n",
      "17201/17201 [==============================] - 1s 73us/step - loss: 0.1732 - acc: 0.9167\n",
      "Epoch 12/50\n",
      "17201/17201 [==============================] - 1s 71us/step - loss: 0.1632 - acc: 0.9229\n",
      "Epoch 13/50\n",
      "17201/17201 [==============================] - 1s 65us/step - loss: 0.1498 - acc: 0.9274\n",
      "Epoch 14/50\n",
      "17201/17201 [==============================] - 1s 78us/step - loss: 0.1465 - acc: 0.9302\n",
      "Epoch 15/50\n",
      "17201/17201 [==============================] - 1s 75us/step - loss: 0.1414 - acc: 0.9314\n",
      "Epoch 16/50\n",
      "17201/17201 [==============================] - 1s 84us/step - loss: 0.1391 - acc: 0.9312\n",
      "Epoch 17/50\n",
      "17201/17201 [==============================] - 1s 85us/step - loss: 0.1275 - acc: 0.9370\n",
      "Epoch 18/50\n",
      "17201/17201 [==============================] - 1s 64us/step - loss: 0.1241 - acc: 0.9377\n",
      "Epoch 19/50\n",
      "17201/17201 [==============================] - 1s 66us/step - loss: 0.1253 - acc: 0.9389\n",
      "Epoch 20/50\n",
      "17201/17201 [==============================] - 1s 63us/step - loss: 0.1212 - acc: 0.9387\n",
      "Epoch 21/50\n",
      "17201/17201 [==============================] - 1s 63us/step - loss: 0.1226 - acc: 0.9397\n",
      "Epoch 22/50\n",
      "17201/17201 [==============================] - 1s 64us/step - loss: 0.1193 - acc: 0.9411\n",
      "Epoch 23/50\n",
      "17201/17201 [==============================] - 1s 66us/step - loss: 0.1186 - acc: 0.9426\n",
      "Epoch 24/50\n",
      "17201/17201 [==============================] - 1s 67us/step - loss: 0.1130 - acc: 0.9438\n",
      "Epoch 25/50\n",
      "17201/17201 [==============================] - 1s 67us/step - loss: 0.1074 - acc: 0.9445\n",
      "Epoch 26/50\n",
      "17201/17201 [==============================] - 1s 67us/step - loss: 0.1097 - acc: 0.9438\n",
      "Epoch 27/50\n",
      "17201/17201 [==============================] - 1s 66us/step - loss: 0.1071 - acc: 0.9455\n",
      "Epoch 28/50\n",
      "17201/17201 [==============================] - 1s 69us/step - loss: 0.1041 - acc: 0.9460\n",
      "Epoch 29/50\n",
      "17201/17201 [==============================] - 1s 67us/step - loss: 0.1059 - acc: 0.9465\n",
      "Epoch 30/50\n",
      "17201/17201 [==============================] - 1s 66us/step - loss: 0.1032 - acc: 0.9485\n",
      "Epoch 31/50\n",
      "17201/17201 [==============================] - 1s 71us/step - loss: 0.1081 - acc: 0.9470\n",
      "Epoch 32/50\n",
      "17201/17201 [==============================] - 1s 65us/step - loss: 0.1064 - acc: 0.9467\n",
      "Epoch 33/50\n",
      "17201/17201 [==============================] - 1s 68us/step - loss: 0.1019 - acc: 0.9477\n",
      "Epoch 34/50\n",
      "17201/17201 [==============================] - 1s 67us/step - loss: 0.0996 - acc: 0.9483\n",
      "Epoch 35/50\n",
      "17201/17201 [==============================] - 2s 121us/step - loss: 0.0975 - acc: 0.9504\n",
      "Epoch 36/50\n",
      "17201/17201 [==============================] - 2s 121us/step - loss: 0.0987 - acc: 0.9495\n",
      "Epoch 37/50\n",
      "17201/17201 [==============================] - 1s 75us/step - loss: 0.0968 - acc: 0.9500\n",
      "Epoch 38/50\n",
      "17201/17201 [==============================] - 1s 68us/step - loss: 0.0974 - acc: 0.9481\n",
      "Epoch 39/50\n",
      "17201/17201 [==============================] - 1s 77us/step - loss: 0.0958 - acc: 0.9502\n",
      "Epoch 40/50\n",
      "17201/17201 [==============================] - 1s 71us/step - loss: 0.1026 - acc: 0.9465\n",
      "Epoch 41/50\n",
      "17201/17201 [==============================] - 1s 62us/step - loss: 0.0914 - acc: 0.9524\n",
      "Epoch 42/50\n",
      "17201/17201 [==============================] - 1s 65us/step - loss: 0.0937 - acc: 0.9503\n",
      "Epoch 43/50\n",
      "17201/17201 [==============================] - 1s 65us/step - loss: 0.0935 - acc: 0.9501\n",
      "Epoch 44/50\n",
      "17201/17201 [==============================] - 1s 66us/step - loss: 0.0933 - acc: 0.9504\n",
      "Epoch 45/50\n",
      "17201/17201 [==============================] - 1s 72us/step - loss: 0.0896 - acc: 0.9526\n",
      "Epoch 46/50\n",
      "17201/17201 [==============================] - 1s 71us/step - loss: 0.0948 - acc: 0.9504\n",
      "Epoch 47/50\n",
      "17201/17201 [==============================] - 1s 67us/step - loss: 0.0905 - acc: 0.9513\n",
      "Epoch 48/50\n",
      "17201/17201 [==============================] - 1s 73us/step - loss: 0.0890 - acc: 0.9540\n",
      "Epoch 49/50\n",
      "17201/17201 [==============================] - 1s 87us/step - loss: 0.0903 - acc: 0.9535\n",
      "Epoch 50/50\n",
      "17201/17201 [==============================] - 2s 93us/step - loss: 0.0870 - acc: 0.9529\n"
     ]
    },
    {
     "data": {
      "text/plain": [
       "<keras.callbacks.History at 0x7fcf223ef668>"
      ]
     },
     "execution_count": 17,
     "metadata": {},
     "output_type": "execute_result"
    }
   ],
   "source": [
    "conv_model.compile(optimizer=Adam(), loss='binary_crossentropy', metrics=['accuracy'])\n",
    "# model.compile(optimizer=Adadelta(), loss='binary_crossentropy', metrics=['accuracy'])\n",
    "conv_model.fit(x_train, y_train, epochs=50, batch_size=64)"
   ]
  },
  {
   "cell_type": "code",
   "execution_count": 18,
   "metadata": {},
   "outputs": [
    {
     "name": "stdout",
     "output_type": "stream",
     "text": [
      "4301/4301 [==============================] - 0s 68us/step\n"
     ]
    },
    {
     "data": {
      "text/plain": [
       "[0.0978744670547765, 0.9521041618228319]"
      ]
     },
     "execution_count": 18,
     "metadata": {},
     "output_type": "execute_result"
    }
   ],
   "source": [
    "conv_model.evaluate(x_test,y_test)"
   ]
  },
  {
   "cell_type": "code",
   "execution_count": 37,
   "metadata": {},
   "outputs": [],
   "source": [
    "import pickle\n",
    "\n",
    "with open('../data/binary-convolutional','wb') as f:\n",
    "    pickle.dump(conv_model,f)"
   ]
  },
  {
   "cell_type": "code",
   "execution_count": 19,
   "metadata": {},
   "outputs": [],
   "source": [
    "y_predict_conv= conv_model.predict(x_test)"
   ]
  },
  {
   "cell_type": "code",
   "execution_count": 20,
   "metadata": {},
   "outputs": [
    {
     "data": {
      "image/png": "[encoded data removed]",
      "text/plain": [
       "<Figure size 360x216 with 2 Axes>"
      ]
     },
     "metadata": {
      "needs_background": "light"
     },
     "output_type": "display_data"
    }
   ],
   "source": [
    "confusion_matrix = pd.DataFrame(\n",
    "    data=metrics.confusion_matrix(y_test, np.rint(y_predict_conv)), \n",
    "    \n",
    ")\n",
    "\n",
    "confusion_figure, confusion_axes = matplotlib.pyplot.subplots()\n",
    "confusion_figure.set_size_inches(5, 3)\n",
    "confusion_axes.set_title(\n",
    "    'Confusion matrix showing the frequency of \\n'\n",
    "    'correct and incorrect bug classification predictions.'\n",
    "    '\\n\\n'  # hack to avoid overlap with x-axis labels below\n",
    ")\n",
    "confusion_axes.xaxis.tick_top()  # move x-axis labels to top of matrix\n",
    "_ = sns.heatmap(\n",
    "    confusion_matrix,\n",
    "    annot=True,\n",
    "    fmt=\"d\",\n",
    "    cmap=sns.color_palette(\"Blues\"),\n",
    "    vmin=0,\n",
    "    ax=confusion_axes,\n",
    ")"
   ]
  },
  {
   "cell_type": "code",
   "execution_count": 21,
   "metadata": {},
   "outputs": [],
   "source": [
    "tn, fp, fn, tp = metrics.confusion_matrix(y_test, np.rint(y_predict_conv)).flatten().tolist()\n",
    "\n",
    "fpr_cnn = fp/(fp+tp)\n",
    "fnr_cnn = fn/(fn+tn)"
   ]
  },
  {
   "cell_type": "code",
   "execution_count": 22,
   "metadata": {},
   "outputs": [
    {
     "data": {
      "text/plain": [
       "0.06618640252138676"
      ]
     },
     "execution_count": 22,
     "metadata": {},
     "output_type": "execute_result"
    }
   ],
   "source": [
    "fpr_cnn"
   ]
  },
  {
   "cell_type": "code",
   "execution_count": 23,
   "metadata": {},
   "outputs": [
    {
     "data": {
      "text/plain": [
       "0.028365384615384615"
      ]
     },
     "execution_count": 23,
     "metadata": {},
     "output_type": "execute_result"
    }
   ],
   "source": [
    "fnr_cnn"
   ]
  },
  {
   "cell_type": "code",
   "execution_count": 24,
   "metadata": {},
   "outputs": [],
   "source": [
    "from sklearn.metrics import roc_curve, auc, precision_recall_curve, matthews_corrcoef, f1_score, roc_auc_score\n",
    "fpr_keras, tpr_keras, thresholds_keras = roc_curve((y_test.values+0), y_predict_conv)\n",
    "precision, recall, thresholds = precision_recall_curve((y_test.values+0), y_predict_conv)"
   ]
  },
  {
   "cell_type": "code",
   "execution_count": 25,
   "metadata": {},
   "outputs": [],
   "source": [
    "auc_keras = auc(fpr_keras, tpr_keras)\n",
    "roc_auc = roc_auc_score((y_test.values+0), y_predict_conv)\n",
    "pr_auc = auc(recall, precision)\n",
    "f1 = f1_score((y_test.values+0), np.rint(y_predict_conv))\n",
    "mcc = matthews_corrcoef((y_test.values+0), np.rint(y_predict_conv))"
   ]
  },
  {
   "cell_type": "code",
   "execution_count": 26,
   "metadata": {},
   "outputs": [
    {
     "name": "stdout",
     "output_type": "stream",
     "text": [
      "PR AUC: 0.995\n",
      "ROC AUC: 0.995\n",
      "MCC: 0.905\n",
      "F1: 0.953\n"
     ]
    }
   ],
   "source": [
    "print('PR AUC: %.3f' % pr_auc)\n",
    "print('ROC AUC: %.3f' % roc_auc)\n",
    "print('MCC: %.3f' % mcc)\n",
    "print('F1: %.3f' % f1)"
   ]
  },
  {
   "cell_type": "code",
   "execution_count": 27,
   "metadata": {},
   "outputs": [],
   "source": [
    "with open('../data/cnn-graph2vec-roc', 'wb') as f:\n",
    "    pickle.dump(auc_keras, f)\n",
    "\n",
    "with open('../data/cnn-graph2vec-pr', 'wb') as f:\n",
    "    pickle.dump(roc_auc, f)"
   ]
  },
  {
   "cell_type": "code",
   "execution_count": 28,
   "metadata": {},
   "outputs": [
    {
     "ename": "NameError",
     "evalue": "name 'plt' is not defined",
     "output_type": "error",
     "traceback": [
      "\u001b[0;31m---------------------------------------------------------------------------\u001b[0m",
      "\u001b[0;31mNameError\u001b[0m                                 Traceback (most recent call last)",
      "\u001b[0;32m<ipython-input-28-8bd676e5de04>\u001b[0m in \u001b[0;36m<module>\u001b[0;34m\u001b[0m\n\u001b[0;32m----> 1\u001b[0;31m \u001b[0mplt\u001b[0m\u001b[0;34m.\u001b[0m\u001b[0mplot\u001b[0m\u001b[0;34m(\u001b[0m\u001b[0mfpr_keras\u001b[0m\u001b[0;34m,\u001b[0m \u001b[0mtpr_keras\u001b[0m\u001b[0;34m,\u001b[0m \u001b[0mlabel\u001b[0m\u001b[0;34m=\u001b[0m\u001b[0;34m'Keras (area = {:.3f})'\u001b[0m\u001b[0;34m.\u001b[0m\u001b[0mformat\u001b[0m\u001b[0;34m(\u001b[0m\u001b[0mauc_keras\u001b[0m\u001b[0;34m)\u001b[0m\u001b[0;34m)\u001b[0m\u001b[0;34m\u001b[0m\u001b[0;34m\u001b[0m\u001b[0m\n\u001b[0m\u001b[1;32m      2\u001b[0m \u001b[0mplt\u001b[0m\u001b[0;34m.\u001b[0m\u001b[0mxlabel\u001b[0m\u001b[0;34m(\u001b[0m\u001b[0;34m'False positive rate'\u001b[0m\u001b[0;34m)\u001b[0m\u001b[0;34m\u001b[0m\u001b[0;34m\u001b[0m\u001b[0m\n\u001b[1;32m      3\u001b[0m \u001b[0mplt\u001b[0m\u001b[0;34m.\u001b[0m\u001b[0mylabel\u001b[0m\u001b[0;34m(\u001b[0m\u001b[0;34m'True positive rate'\u001b[0m\u001b[0;34m)\u001b[0m\u001b[0;34m\u001b[0m\u001b[0;34m\u001b[0m\u001b[0m\n\u001b[1;32m      4\u001b[0m \u001b[0mplt\u001b[0m\u001b[0;34m.\u001b[0m\u001b[0mtitle\u001b[0m\u001b[0;34m(\u001b[0m\u001b[0;34m'ROC curve'\u001b[0m\u001b[0;34m)\u001b[0m\u001b[0;34m\u001b[0m\u001b[0;34m\u001b[0m\u001b[0m\n\u001b[1;32m      5\u001b[0m \u001b[0mplt\u001b[0m\u001b[0;34m.\u001b[0m\u001b[0mlegend\u001b[0m\u001b[0;34m(\u001b[0m\u001b[0mloc\u001b[0m\u001b[0;34m=\u001b[0m\u001b[0;34m'best'\u001b[0m\u001b[0;34m)\u001b[0m\u001b[0;34m\u001b[0m\u001b[0;34m\u001b[0m\u001b[0m\n",
      "\u001b[0;31mNameError\u001b[0m: name 'plt' is not defined"
     ]
    }
   ],
   "source": [
    "plt.plot(fpr_keras, tpr_keras, label='Keras (area = {:.3f})'.format(auc_keras))\n",
    "plt.xlabel('False positive rate')\n",
    "plt.ylabel('True positive rate')\n",
    "plt.title('ROC curve')\n",
    "plt.legend(loc='best')\n",
    "plt.show()\n",
    "plt.savefig('../images/baseline_roc_curve')"
   ]
  },
  {
   "cell_type": "markdown",
   "metadata": {},
   "source": [
    "### Train / Test / Val Split"
   ]
  },
  {
   "cell_type": "code",
   "execution_count": 15,
   "metadata": {},
   "outputs": [],
   "source": [
    "with open('../data/x-train-binary-for-3-way-split','rb') as f:\n",
    "    x_train1 = pickle.load(f)\n",
    "    \n",
    "with open('../data/y-train-binary-for-3-way-split','rb') as f:\n",
    "    y_train1 = pickle.load(f)\n",
    "    \n",
    "with open('../data/x-val-binary','rb') as f:\n",
    "    x_val = pickle.load(f)\n",
    "    \n",
    "with open('../data/y-val-binary','rb') as f:\n",
    "    y_val = pickle.load(f)"
   ]
  },
  {
   "cell_type": "code",
   "execution_count": 16,
   "metadata": {},
   "outputs": [
    {
     "name": "stdout",
     "output_type": "stream",
     "text": [
      "Train on 15050 samples, validate on 2151 samples\n",
      "Epoch 1/50\n",
      "15050/15050 [==============================] - 1s 72us/step - loss: 0.0885 - acc: 0.9540 - val_loss: 0.0894 - val_acc: 0.9512\n",
      "Epoch 2/50\n",
      "15050/15050 [==============================] - 1s 91us/step - loss: 0.0904 - acc: 0.9506 - val_loss: 0.1336 - val_acc: 0.9433\n",
      "Epoch 3/50\n",
      "15050/15050 [==============================] - ETA: 0s - loss: 0.0883 - acc: 0.952 - 3s 172us/step - loss: 0.0883 - acc: 0.9528 - val_loss: 0.0872 - val_acc: 0.9572\n",
      "Epoch 4/50\n",
      "15050/15050 [==============================] - 1s 96us/step - loss: 0.0888 - acc: 0.9526 - val_loss: 0.0863 - val_acc: 0.9563\n",
      "Epoch 5/50\n",
      "15050/15050 [==============================] - 1s 89us/step - loss: 0.0868 - acc: 0.9550 - val_loss: 0.0845 - val_acc: 0.9558\n",
      "Epoch 6/50\n",
      "15050/15050 [==============================] - 1s 72us/step - loss: 0.0889 - acc: 0.9542 - val_loss: 0.0899 - val_acc: 0.9572\n",
      "Epoch 7/50\n",
      "15050/15050 [==============================] - 1s 74us/step - loss: 0.0858 - acc: 0.9555 - val_loss: 0.1043 - val_acc: 0.9526\n",
      "Epoch 8/50\n",
      "15050/15050 [==============================] - 2s 113us/step - loss: 0.0865 - acc: 0.9553 - val_loss: 0.0864 - val_acc: 0.9517\n",
      "Epoch 9/50\n",
      "15050/15050 [==============================] - 2s 103us/step - loss: 0.0902 - acc: 0.9529 - val_loss: 0.0984 - val_acc: 0.9484\n",
      "Epoch 10/50\n",
      "15050/15050 [==============================] - 1s 82us/step - loss: 0.0831 - acc: 0.9562 - val_loss: 0.0804 - val_acc: 0.9549\n",
      "Epoch 11/50\n",
      "15050/15050 [==============================] - 1s 72us/step - loss: 0.0845 - acc: 0.9540 - val_loss: 0.0886 - val_acc: 0.9521\n",
      "Epoch 12/50\n",
      "15050/15050 [==============================] - 2s 102us/step - loss: 0.0866 - acc: 0.9543 - val_loss: 0.0860 - val_acc: 0.9582\n",
      "Epoch 13/50\n",
      "15050/15050 [==============================] - 1s 89us/step - loss: 0.0800 - acc: 0.9570 - val_loss: 0.0938 - val_acc: 0.9530\n",
      "Epoch 14/50\n",
      "15050/15050 [==============================] - 2s 105us/step - loss: 0.0841 - acc: 0.9532 - val_loss: 0.0872 - val_acc: 0.9558\n",
      "Epoch 15/50\n",
      "15050/15050 [==============================] - 2s 107us/step - loss: 0.0827 - acc: 0.9534 - val_loss: 0.0933 - val_acc: 0.9470\n",
      "Epoch 16/50\n",
      "15050/15050 [==============================] - 2s 102us/step - loss: 0.0831 - acc: 0.9536 - val_loss: 0.0939 - val_acc: 0.9526\n",
      "Epoch 17/50\n",
      "15050/15050 [==============================] - 1s 81us/step - loss: 0.0830 - acc: 0.9557 - val_loss: 0.0891 - val_acc: 0.9544\n",
      "Epoch 18/50\n",
      "15050/15050 [==============================] - 1s 84us/step - loss: 0.0839 - acc: 0.9563 - val_loss: 0.0954 - val_acc: 0.9521\n",
      "Epoch 19/50\n",
      "15050/15050 [==============================] - 2s 116us/step - loss: 0.0792 - acc: 0.9581 - val_loss: 0.0872 - val_acc: 0.9563\n",
      "Epoch 20/50\n",
      "15050/15050 [==============================] - 2s 103us/step - loss: 0.0839 - acc: 0.9540 - val_loss: 0.0949 - val_acc: 0.9507\n",
      "Epoch 21/50\n",
      "15050/15050 [==============================] - 1s 82us/step - loss: 0.0807 - acc: 0.9545 - val_loss: 0.1065 - val_acc: 0.9535\n",
      "Epoch 22/50\n",
      "15050/15050 [==============================] - 1s 73us/step - loss: 0.0810 - acc: 0.9578 - val_loss: 0.0909 - val_acc: 0.9549\n",
      "Epoch 23/50\n",
      "15050/15050 [==============================] - 1s 84us/step - loss: 0.0798 - acc: 0.9577 - val_loss: 0.0828 - val_acc: 0.9582\n",
      "Epoch 24/50\n",
      "15050/15050 [==============================] - 1s 83us/step - loss: 0.0811 - acc: 0.9561 - val_loss: 0.0957 - val_acc: 0.9498\n",
      "Epoch 25/50\n",
      "15050/15050 [==============================] - 1s 99us/step - loss: 0.0816 - acc: 0.9557 - val_loss: 0.0898 - val_acc: 0.9586\n",
      "Epoch 26/50\n",
      "15050/15050 [==============================] - 2s 106us/step - loss: 0.0779 - acc: 0.9576 - val_loss: 0.0873 - val_acc: 0.9540\n",
      "Epoch 27/50\n",
      "15050/15050 [==============================] - 1s 97us/step - loss: 0.0794 - acc: 0.9563 - val_loss: 0.0946 - val_acc: 0.9512\n",
      "Epoch 28/50\n",
      "15050/15050 [==============================] - 1s 75us/step - loss: 0.0803 - acc: 0.9570 - val_loss: 0.0919 - val_acc: 0.9498\n",
      "Epoch 29/50\n",
      "15050/15050 [==============================] - 2s 100us/step - loss: 0.0836 - acc: 0.9548 - val_loss: 0.1004 - val_acc: 0.9479\n",
      "Epoch 30/50\n",
      "15050/15050 [==============================] - 2s 113us/step - loss: 0.0786 - acc: 0.9571 - val_loss: 0.0890 - val_acc: 0.9554\n",
      "Epoch 31/50\n",
      "15050/15050 [==============================] - 1s 82us/step - loss: 0.0787 - acc: 0.9568 - val_loss: 0.0853 - val_acc: 0.9586\n",
      "Epoch 32/50\n",
      "15050/15050 [==============================] - 1s 87us/step - loss: 0.0782 - acc: 0.9573 - val_loss: 0.0899 - val_acc: 0.9517\n",
      "Epoch 33/50\n",
      "15050/15050 [==============================] - 2s 115us/step - loss: 0.0753 - acc: 0.9595 - val_loss: 0.0909 - val_acc: 0.9577\n",
      "Epoch 34/50\n",
      "15050/15050 [==============================] - 1s 98us/step - loss: 0.0767 - acc: 0.9568 - val_loss: 0.0857 - val_acc: 0.9582\n",
      "Epoch 35/50\n",
      "15050/15050 [==============================] - 1s 90us/step - loss: 0.0784 - acc: 0.9556 - val_loss: 0.0798 - val_acc: 0.9586\n",
      "Epoch 36/50\n",
      "15050/15050 [==============================] - 1s 92us/step - loss: 0.0792 - acc: 0.9560 - val_loss: 0.0868 - val_acc: 0.9572\n",
      "Epoch 37/50\n",
      "15050/15050 [==============================] - 1s 72us/step - loss: 0.0743 - acc: 0.9575 - val_loss: 0.0878 - val_acc: 0.9535\n",
      "Epoch 38/50\n",
      "15050/15050 [==============================] - 1s 75us/step - loss: 0.0775 - acc: 0.9566 - val_loss: 0.1447 - val_acc: 0.9289\n",
      "Epoch 39/50\n",
      "15050/15050 [==============================] - 1s 71us/step - loss: 0.0780 - acc: 0.9572 - val_loss: 0.0864 - val_acc: 0.9558\n",
      "Epoch 40/50\n",
      "15050/15050 [==============================] - 1s 98us/step - loss: 0.0776 - acc: 0.9558 - val_loss: 0.0799 - val_acc: 0.9554\n",
      "Epoch 41/50\n",
      "15050/15050 [==============================] - 2s 124us/step - loss: 0.0790 - acc: 0.9579 - val_loss: 0.0859 - val_acc: 0.9544\n",
      "Epoch 42/50\n",
      "15050/15050 [==============================] - 2s 124us/step - loss: 0.0748 - acc: 0.9575 - val_loss: 0.0831 - val_acc: 0.9535\n",
      "Epoch 43/50\n",
      "15050/15050 [==============================] - 2s 128us/step - loss: 0.0733 - acc: 0.9595 - val_loss: 0.0821 - val_acc: 0.9586\n",
      "Epoch 44/50\n",
      "15050/15050 [==============================] - 3s 201us/step - loss: 0.0785 - acc: 0.9567 - val_loss: 0.0860 - val_acc: 0.9582\n",
      "Epoch 45/50\n",
      "15050/15050 [==============================] - 2s 131us/step - loss: 0.0757 - acc: 0.9575 - val_loss: 0.0813 - val_acc: 0.9526\n",
      "Epoch 46/50\n",
      "15050/15050 [==============================] - 1s 82us/step - loss: 0.0805 - acc: 0.9535 - val_loss: 0.0862 - val_acc: 0.9535\n",
      "Epoch 47/50\n",
      "15050/15050 [==============================] - 1s 96us/step - loss: 0.0742 - acc: 0.9587 - val_loss: 0.0908 - val_acc: 0.9517\n",
      "Epoch 48/50\n",
      "15050/15050 [==============================] - 1s 99us/step - loss: 0.0804 - acc: 0.9559 - val_loss: 0.0874 - val_acc: 0.9521\n",
      "Epoch 49/50\n",
      "15050/15050 [==============================] - 1s 92us/step - loss: 0.0725 - acc: 0.9581 - val_loss: 0.0898 - val_acc: 0.9498\n",
      "Epoch 50/50\n",
      "15050/15050 [==============================] - 1s 89us/step - loss: 0.0745 - acc: 0.9587 - val_loss: 0.0824 - val_acc: 0.9554\n"
     ]
    },
    {
     "data": {
      "text/plain": [
       "<keras.callbacks.History at 0x7f7d29fbd208>"
      ]
     },
     "execution_count": 16,
     "metadata": {},
     "output_type": "execute_result"
    }
   ],
   "source": [
    "conv_model.fit(x_train1, y_train1, validation_data = (x_val, y_val), epochs=50, batch_size=64)"
   ]
  },
  {
   "cell_type": "code",
   "execution_count": 17,
   "metadata": {},
   "outputs": [
    {
     "name": "stdout",
     "output_type": "stream",
     "text": [
      "4301/4301 [==============================] - 0s 74us/step\n"
     ]
    },
    {
     "data": {
      "text/plain": [
       "[0.09072386094565392, 0.9530341781258334]"
      ]
     },
     "execution_count": 17,
     "metadata": {},
     "output_type": "execute_result"
    }
   ],
   "source": [
    "conv_model.evaluate(x_test,y_test)"
   ]
  },
  {
   "cell_type": "code",
   "execution_count": 18,
   "metadata": {},
   "outputs": [],
   "source": [
    "y_predict_conv1= conv_model.predict(x_test)"
   ]
  },
  {
   "cell_type": "code",
   "execution_count": 21,
   "metadata": {},
   "outputs": [
    {
     "data": {
      "image/png": "[encoded data removed]",
      "text/plain": [
       "<Figure size 360x216 with 2 Axes>"
      ]
     },
     "metadata": {
      "needs_background": "light"
     },
     "output_type": "display_data"
    }
   ],
   "source": [
    "confusion_matrix = pd.DataFrame(\n",
    "    data=metrics.confusion_matrix(y_test, np.rint(y_predict_conv1)), \n",
    "    \n",
    ")\n",
    "\n",
    "confusion_figure, confusion_axes = matplotlib.pyplot.subplots()\n",
    "confusion_figure.set_size_inches(5, 3)\n",
    "confusion_axes.set_title(\n",
    "    'Confusion matrix showing the frequency of \\n'\n",
    "    'correct and incorrect bug classification predictions.'\n",
    "    '\\n\\n'  # hack to avoid overlap with x-axis labels below\n",
    ")\n",
    "confusion_axes.xaxis.tick_top()  # move x-axis labels to top of matrix\n",
    "_ = sns.heatmap(\n",
    "    confusion_matrix,\n",
    "    annot=True,\n",
    "    fmt=\"d\",\n",
    "    cmap=sns.color_palette(\"Blues\"),\n",
    "    vmin=0,\n",
    "    ax=confusion_axes,\n",
    ")"
   ]
  },
  {
   "cell_type": "code",
   "execution_count": 22,
   "metadata": {},
   "outputs": [],
   "source": [
    "tn, fp, fn, tp = metrics.confusion_matrix(y_test, np.rint(y_predict_conv1)).flatten().tolist()\n",
    "\n",
    "fpr_cnn1 = fp/(fp+tp)\n",
    "fnr_cnn1 = fn/(fn+tn)"
   ]
  },
  {
   "cell_type": "code",
   "execution_count": 23,
   "metadata": {},
   "outputs": [
    {
     "data": {
      "text/plain": [
       "0.010147133434804667"
      ]
     },
     "execution_count": 23,
     "metadata": {},
     "output_type": "execute_result"
    }
   ],
   "source": [
    "fpr_cnn1"
   ]
  },
  {
   "cell_type": "code",
   "execution_count": 24,
   "metadata": {},
   "outputs": [
    {
     "data": {
      "text/plain": [
       "0.07811158798283262"
      ]
     },
     "execution_count": 24,
     "metadata": {},
     "output_type": "execute_result"
    }
   ],
   "source": [
    "fnr_cnn1"
   ]
  }
 ],
 "metadata": {
  "kernelspec": {
   "display_name": "Python 3",
   "language": "python",
   "name": "python3"
  },
  "language_info": {
   "codemirror_mode": {
    "name": "ipython",
    "version": 3
   },
   "file_extension": ".py",
   "mimetype": "text/x-python",
   "name": "python",
   "nbconvert_exporter": "python",
   "pygments_lexer": "ipython3",
   "version": "3.6.8"
  },
  "toc": {
   "base_numbering": 1,
   "nav_menu": {},
   "number_sections": true,
   "sideBar": true,
   "skip_h1_title": false,
   "title_cell": "Table of Contents",
   "title_sidebar": "Contents",
   "toc_cell": false,
   "toc_position": {},
   "toc_section_display": true,
   "toc_window_display": false
  }
 },
 "nbformat": 4,
 "nbformat_minor": 2
}
