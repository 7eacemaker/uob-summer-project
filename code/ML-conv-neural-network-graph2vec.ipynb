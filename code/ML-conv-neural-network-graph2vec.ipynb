{
 "cells": [
  {
   "cell_type": "markdown",
   "metadata": {},
   "source": [
    "# Import Data"
   ]
  },
  {
   "cell_type": "code",
   "execution_count": 1,
   "metadata": {},
   "outputs": [
    {
     "name": "stderr",
     "output_type": "stream",
     "text": [
      "Using TensorFlow backend.\n"
     ]
    }
   ],
   "source": [
    "import numpy as np\n",
    "np.random.seed(1248)\n",
    "import tensorflow as tf\n",
    "import keras"
   ]
  },
  {
   "cell_type": "code",
   "execution_count": 2,
   "metadata": {},
   "outputs": [],
   "source": [
    "import pandas as pd"
   ]
  },
  {
   "cell_type": "code",
   "execution_count": 3,
   "metadata": {},
   "outputs": [],
   "source": [
    "data = pd.read_csv('../data/buffer_overflow_data.csv.gz')"
   ]
  },
  {
   "cell_type": "code",
   "execution_count": 4,
   "metadata": {},
   "outputs": [],
   "source": [
    "labels = data.copy()\n",
    "del labels['Unnamed: 0']\n",
    "del labels['Unnamed: 0.1']\n",
    "del labels['filename']\n",
    "del labels['code']\n",
    "del labels['flaw']\n",
    "del labels['flaw_loc']\n",
    "labels = labels.drop_duplicates().sort_values('testcase_ID').reset_index(drop=True)"
   ]
  },
  {
   "cell_type": "code",
   "execution_count": 5,
   "metadata": {
    "scrolled": true
   },
   "outputs": [],
   "source": [
    "x = pd.read_csv(\"../data/buffer_overflow_graph_embeddings.csv.gz\")\n",
    "x['testcase_ID'] = x['type']\n",
    "del x['type']\n",
    "x = x.sort_values(\"testcase_ID\").reset_index(drop=True)"
   ]
  },
  {
   "cell_type": "code",
   "execution_count": 6,
   "metadata": {},
   "outputs": [],
   "source": [
    "y = labels['bug']\n",
    "x = x.drop('testcase_ID', axis='columns')"
   ]
  },
  {
   "cell_type": "code",
   "execution_count": 7,
   "metadata": {},
   "outputs": [],
   "source": [
    "import pickle\n",
    "\n",
    "with open('../data/x-train-binary','rb') as f:\n",
    "    x_train = pickle.load(f)\n",
    "    \n",
    "with open('../data/y-train-binary','rb') as f:\n",
    "    y_train = pickle.load(f)\n",
    "    \n",
    "with open('../data/x-test-binary','rb') as f:\n",
    "    x_test = pickle.load(f)\n",
    "    \n",
    "with open('../data/y-test-binary','rb') as f:\n",
    "    y_test = pickle.load(f)"
   ]
  },
  {
   "cell_type": "code",
   "execution_count": 8,
   "metadata": {},
   "outputs": [
    {
     "data": {
      "text/plain": [
       "(17201,)"
      ]
     },
     "execution_count": 8,
     "metadata": {},
     "output_type": "execute_result"
    }
   ],
   "source": [
    "y_train.shape"
   ]
  },
  {
   "cell_type": "code",
   "execution_count": 9,
   "metadata": {},
   "outputs": [
    {
     "data": {
      "text/plain": [
       "(17201, 128)"
      ]
     },
     "execution_count": 9,
     "metadata": {},
     "output_type": "execute_result"
    }
   ],
   "source": [
    "x_train.shape"
   ]
  },
  {
   "cell_type": "markdown",
   "metadata": {},
   "source": [
    "# Baseline Neural Network"
   ]
  },
  {
   "cell_type": "code",
   "execution_count": 9,
   "metadata": {
    "scrolled": true
   },
   "outputs": [],
   "source": [
    "from keras.layers import Dense, Dropout, Flatten, Reshape\n",
    "from keras.layers import Conv1D, MaxPooling1D, Conv2D\n",
    "from keras.models import Sequential\n",
    "from keras.layers.normalization import BatchNormalization\n",
    "from keras.layers.advanced_activations import LeakyReLU\n",
    "from keras.optimizers import RMSprop, Adadelta, Adam\n",
    "from keras.layers import RepeatVector, Permute, Lambda, ActivityRegularization, AveragePooling1D\n",
    "from keras.optimizers import Nadam, Adagrad\n",
    "import math"
   ]
  },
  {
   "cell_type": "code",
   "execution_count": 10,
   "metadata": {},
   "outputs": [
    {
     "name": "stdout",
     "output_type": "stream",
     "text": [
      "WARNING:tensorflow:From /usr/local/lib/python3.6/dist-packages/tensorflow/python/framework/op_def_library.py:263: colocate_with (from tensorflow.python.framework.ops) is deprecated and will be removed in a future version.\n",
      "Instructions for updating:\n",
      "Colocations handled automatically by placer.\n",
      "WARNING:tensorflow:From /usr/local/lib/python3.6/dist-packages/tensorflow/python/ops/math_ops.py:3066: to_int32 (from tensorflow.python.ops.math_ops) is deprecated and will be removed in a future version.\n",
      "Instructions for updating:\n",
      "Use tf.cast instead.\n"
     ]
    }
   ],
   "source": [
    "import pickle\n",
    "\n",
    "with open('../data/dense-model-binary','rb') as f:\n",
    "    model = pickle.load(f)"
   ]
  },
  {
   "cell_type": "code",
   "execution_count": 11,
   "metadata": {
    "scrolled": true
   },
   "outputs": [
    {
     "name": "stdout",
     "output_type": "stream",
     "text": [
      "4301/4301 [==============================] - 0s 65us/step\n"
     ]
    },
    {
     "data": {
      "text/plain": [
       "[0.09569287468142022, 0.9537316903184386]"
      ]
     },
     "execution_count": 11,
     "metadata": {},
     "output_type": "execute_result"
    }
   ],
   "source": [
    "model.evaluate(x_test,y_test)"
   ]
  },
  {
   "cell_type": "code",
   "execution_count": 20,
   "metadata": {},
   "outputs": [],
   "source": [
    "import seaborn as sns\n",
    "from sklearn import metrics\n",
    "import matplotlib"
   ]
  },
  {
   "cell_type": "code",
   "execution_count": 18,
   "metadata": {},
   "outputs": [],
   "source": [
    "y_predict= model.predict(x_test)"
   ]
  },
  {
   "cell_type": "code",
   "execution_count": 19,
   "metadata": {},
   "outputs": [],
   "source": [
    "import numpy as np"
   ]
  },
  {
   "cell_type": "code",
   "execution_count": 20,
   "metadata": {},
   "outputs": [
    {
     "data": {
      "image/png": "[encoded data removed]",
      "text/plain": [
       "<Figure size 1080x864 with 2 Axes>"
      ]
     },
     "metadata": {
      "needs_background": "light"
     },
     "output_type": "display_data"
    }
   ],
   "source": [
    "confusion_matrix = pd.DataFrame(\n",
    "    data=metrics.confusion_matrix(y_test, np.rint(y_predict)), \n",
    "    \n",
    ")\n",
    "\n",
    "confusion_figure, confusion_axes = matplotlib.pyplot.subplots()\n",
    "confusion_figure.set_size_inches(15, 12)\n",
    "confusion_axes.set_title(\n",
    "    'Confusion matrix showing the frequency of \\n'\n",
    "    'correct and incorrect bug classification predictions.'\n",
    "    '\\n\\n'  # hack to avoid overlap with x-axis labels below\n",
    ")\n",
    "confusion_axes.xaxis.tick_top()  # move x-axis labels to top of matrix\n",
    "_ = sns.heatmap(\n",
    "    confusion_matrix,\n",
    "    annot=True,\n",
    "    fmt=\"d\",\n",
    "    cmap=sns.color_palette(\"Blues\"),\n",
    "    vmin=0,\n",
    "    ax=confusion_axes,\n",
    ")"
   ]
  },
  {
   "cell_type": "markdown",
   "metadata": {},
   "source": [
    "# Convolutional Neural Network"
   ]
  },
  {
   "cell_type": "markdown",
   "metadata": {},
   "source": [
    "The functions below can be used as Neural Network layers if we want."
   ]
  },
  {
   "cell_type": "code",
   "execution_count": 15,
   "metadata": {},
   "outputs": [],
   "source": [
    "#What is K?\n",
    "\n",
    "def antirectifier(x):\n",
    "    x -= K.mean(x, axis=1, keepdims=True)\n",
    "    x = K.l2_normalize(x, axis=1)\n",
    "    pos = K.relu(x)\n",
    "    neg = K.relu(-x)\n",
    "    return K.concatenate([pos, neg], axis=1)\n",
    "\n",
    "def antirectifier_output_shape(input_shape):\n",
    "    shape = list(input_shape)\n",
    "    assert len(shape) == 2  # only valid for 2D tensors\n",
    "    shape[-1] *= 2\n",
    "    return tuple(shape)\n",
    "\n",
    "#conv_model.add(Lambda(antirectifier,output_shape=antirectifier_output_shape))\n",
    "\n",
    "\n",
    "def hadamard_product_sum(tensors):\n",
    "    out1 = tensors[0] * tensors[1]\n",
    "    out2 = K.sum(out1, axis=-1)\n",
    "    return [out1, out2]\n",
    "\n",
    "def hadamard_product_sum_output_shape(input_shapes):\n",
    "    shape1 = list(input_shapes[0])\n",
    "    shape2 = list(input_shapes[1])\n",
    "    assert shape1 == shape2  # else hadamard product isn't possible\n",
    "    return [tuple(shape1), tuple(shape2[:-1])]\n",
    "\n",
    "#conv_model(Lambda(hadamard_product_sum, hadamard_product_sum_output_shape))"
   ]
  },
  {
   "cell_type": "markdown",
   "metadata": {},
   "source": [
    "Because our input is not the right dimension to go straight into a neural network, it makes sense to start with a dense layer that our data can be inputted into with ease. In order to get the data into the right dimensions the RepeatVector function is used. Reshape would have been ideal but the NN did not like this and would always error. Using Repeat Vector may not keep the proper structure we want.\n",
    "A 1D convolutional layer is added. This moves along one axis as it convolutes. Strides is how far it moves each time and to just move one step yielded the best results. Sigmoid worked best as an activation because it is a logistic function so works well for our binary data. I have then used the dropout function to lower our chance of overfitting. It sets, at rate 0.5, input units to 0 at each update during training time. Then we pool using padding as 'same' so everything is padded to the same length here. Then flattening it back to 2 dimensions.\n",
    "Adding in squaring everything helped for predictions as values close to 1 got closer and those close to 0 got closer. Then from tutorials it always seemed a good idea to finish with dense."
   ]
  },
  {
   "cell_type": "code",
   "execution_count": 12,
   "metadata": {},
   "outputs": [
    {
     "name": "stdout",
     "output_type": "stream",
     "text": [
      "WARNING:tensorflow:From /usr/local/lib/python3.6/dist-packages/keras/backend/tensorflow_backend.py:3445: calling dropout (from tensorflow.python.ops.nn_ops) with keep_prob is deprecated and will be removed in a future version.\n",
      "Instructions for updating:\n",
      "Please use `rate` instead of `keep_prob`. Rate should be set to `rate = 1 - keep_prob`.\n"
     ]
    }
   ],
   "source": [
    "conv_model = Sequential()\n",
    "\n",
    "conv_model.add(Dense(128, input_dim=x_train.shape[1], activation='sigmoid'))\n",
    "conv_model.add(RepeatVector(3))\n",
    "\n",
    "\n",
    "# conv_model.add(Lambda(lambda x: x ** 3))\n",
    "\n",
    "# conv_model.add(Permute(2,1))\n",
    "\n",
    "conv_model.add(Conv1D(filters = 64, kernel_size = 3, strides = 1, activation ='sigmoid'))\n",
    "conv_model.add(Dropout(0.5))\n",
    "conv_model.add(MaxPooling1D(pool_size = 2, padding = 'same'))\n",
    "# conv_model.add(Conv1D(filters = 64, kernel_size = 3, activation ='linear'))\n",
    "# conv_model.add(LeakyReLU(alpha=0.1))\n",
    "# conv_model.add(MaxPooling1D(pool_size = 2, padding = 'same'))\n",
    "conv_model.add(Flatten())\n",
    "\n",
    "conv_model.add(Lambda(lambda x: x**2))\n",
    "\n",
    "conv_model.add(Dense(128, activation='sigmoid'))\n",
    "# conv_model.add(LeakyReLU(alpha=0.1))\n",
    "conv_model.add(Dropout(0.05))\n",
    "\n",
    "conv_model.add(Dense(units=1, activation='sigmoid'))"
   ]
  },
  {
   "cell_type": "code",
   "execution_count": 13,
   "metadata": {},
   "outputs": [
    {
     "name": "stdout",
     "output_type": "stream",
     "text": [
      "_________________________________________________________________\n",
      "Layer (type)                 Output Shape              Param #   \n",
      "=================================================================\n",
      "dense_1 (Dense)              (None, 128)               16512     \n",
      "_________________________________________________________________\n",
      "repeat_vector_1 (RepeatVecto (None, 3, 128)            0         \n",
      "_________________________________________________________________\n",
      "conv1d_1 (Conv1D)            (None, 1, 64)             24640     \n",
      "_________________________________________________________________\n",
      "dropout_1 (Dropout)          (None, 1, 64)             0         \n",
      "_________________________________________________________________\n",
      "max_pooling1d_1 (MaxPooling1 (None, 1, 64)             0         \n",
      "_________________________________________________________________\n",
      "flatten_1 (Flatten)          (None, 64)                0         \n",
      "_________________________________________________________________\n",
      "lambda_1 (Lambda)            (None, 64)                0         \n",
      "_________________________________________________________________\n",
      "dense_2 (Dense)              (None, 128)               8320      \n",
      "_________________________________________________________________\n",
      "dropout_2 (Dropout)          (None, 128)               0         \n",
      "_________________________________________________________________\n",
      "dense_3 (Dense)              (None, 1)                 129       \n",
      "=================================================================\n",
      "Total params: 49,601\n",
      "Trainable params: 49,601\n",
      "Non-trainable params: 0\n",
      "_________________________________________________________________\n"
     ]
    }
   ],
   "source": [
    "conv_model.summary()"
   ]
  },
  {
   "cell_type": "code",
   "execution_count": 14,
   "metadata": {},
   "outputs": [
    {
     "data": {
      "image/svg+xml": [
       "<svg height=\"775pt\" viewBox=\"0.00 0.00 262.00 775.00\" width=\"262pt\" xmlns=\"http://www.w3.org/2000/svg\" xmlns:xlink=\"http://www.w3.org/1999/xlink\">\n",
       "<g class=\"graph\" id=\"graph0\" transform=\"scale(1 1) rotate(0) translate(4 771)\">\n",
       "<title>G</title>\n",
       "<polygon fill=\"#ffffff\" points=\"-4,4 -4,-771 258,-771 258,4 -4,4\" stroke=\"transparent\"/>\n",
       "<!-- 140576767257344 -->\n",
       "<g class=\"node\" id=\"node1\">\n",
       "<title>140576767257344</title>\n",
       "<polygon fill=\"none\" points=\"63,-657.5 63,-693.5 191,-693.5 191,-657.5 63,-657.5\" stroke=\"#000000\"/>\n",
       "<text fill=\"#000000\" font-family=\"Times,serif\" font-size=\"14.00\" text-anchor=\"middle\" x=\"127\" y=\"-671.8\">dense_1: Dense</text>\n",
       "</g>\n",
       "<!-- 140576767257456 -->\n",
       "<g class=\"node\" id=\"node2\">\n",
       "<title>140576767257456</title>\n",
       "<polygon fill=\"none\" points=\"7.5,-584.5 7.5,-620.5 246.5,-620.5 246.5,-584.5 7.5,-584.5\" stroke=\"#000000\"/>\n",
       "<text fill=\"#000000\" font-family=\"Times,serif\" font-size=\"14.00\" text-anchor=\"middle\" x=\"127\" y=\"-598.8\">repeat_vector_1: RepeatVector</text>\n",
       "</g>\n",
       "<!-- 140576767257344&#45;&gt;140576767257456 -->\n",
       "<g class=\"edge\" id=\"edge2\">\n",
       "<title>140576767257344-&gt;140576767257456</title>\n",
       "<path d=\"M127,-657.4551C127,-649.3828 127,-639.6764 127,-630.6817\" fill=\"none\" stroke=\"#000000\"/>\n",
       "<polygon fill=\"#000000\" points=\"130.5001,-630.5903 127,-620.5904 123.5001,-630.5904 130.5001,-630.5903\" stroke=\"#000000\"/>\n",
       "</g>\n",
       "<!-- 140576767258072 -->\n",
       "<g class=\"node\" id=\"node3\">\n",
       "<title>140576767258072</title>\n",
       "<polygon fill=\"none\" points=\"51.5,-511.5 51.5,-547.5 202.5,-547.5 202.5,-511.5 51.5,-511.5\" stroke=\"#000000\"/>\n",
       "<text fill=\"#000000\" font-family=\"Times,serif\" font-size=\"14.00\" text-anchor=\"middle\" x=\"127\" y=\"-525.8\">conv1d_1: Conv1D</text>\n",
       "</g>\n",
       "<!-- 140576767257456&#45;&gt;140576767258072 -->\n",
       "<g class=\"edge\" id=\"edge3\">\n",
       "<title>140576767257456-&gt;140576767258072</title>\n",
       "<path d=\"M127,-584.4551C127,-576.3828 127,-566.6764 127,-557.6817\" fill=\"none\" stroke=\"#000000\"/>\n",
       "<polygon fill=\"#000000\" points=\"130.5001,-557.5903 127,-547.5904 123.5001,-557.5904 130.5001,-557.5903\" stroke=\"#000000\"/>\n",
       "</g>\n",
       "<!-- 140576767258464 -->\n",
       "<g class=\"node\" id=\"node4\">\n",
       "<title>140576767258464</title>\n",
       "<polygon fill=\"none\" points=\"48.5,-438.5 48.5,-474.5 205.5,-474.5 205.5,-438.5 48.5,-438.5\" stroke=\"#000000\"/>\n",
       "<text fill=\"#000000\" font-family=\"Times,serif\" font-size=\"14.00\" text-anchor=\"middle\" x=\"127\" y=\"-452.8\">dropout_1: Dropout</text>\n",
       "</g>\n",
       "<!-- 140576767258072&#45;&gt;140576767258464 -->\n",
       "<g class=\"edge\" id=\"edge4\">\n",
       "<title>140576767258072-&gt;140576767258464</title>\n",
       "<path d=\"M127,-511.4551C127,-503.3828 127,-493.6764 127,-484.6817\" fill=\"none\" stroke=\"#000000\"/>\n",
       "<polygon fill=\"#000000\" points=\"130.5001,-484.5903 127,-474.5904 123.5001,-484.5904 130.5001,-484.5903\" stroke=\"#000000\"/>\n",
       "</g>\n",
       "<!-- 140576766846848 -->\n",
       "<g class=\"node\" id=\"node5\">\n",
       "<title>140576766846848</title>\n",
       "<polygon fill=\"none\" points=\"0,-365.5 0,-401.5 254,-401.5 254,-365.5 0,-365.5\" stroke=\"#000000\"/>\n",
       "<text fill=\"#000000\" font-family=\"Times,serif\" font-size=\"14.00\" text-anchor=\"middle\" x=\"127\" y=\"-379.8\">max_pooling1d_1: MaxPooling1D</text>\n",
       "</g>\n",
       "<!-- 140576767258464&#45;&gt;140576766846848 -->\n",
       "<g class=\"edge\" id=\"edge5\">\n",
       "<title>140576767258464-&gt;140576766846848</title>\n",
       "<path d=\"M127,-438.4551C127,-430.3828 127,-420.6764 127,-411.6817\" fill=\"none\" stroke=\"#000000\"/>\n",
       "<polygon fill=\"#000000\" points=\"130.5001,-411.5903 127,-401.5904 123.5001,-411.5904 130.5001,-411.5903\" stroke=\"#000000\"/>\n",
       "</g>\n",
       "<!-- 140576766847016 -->\n",
       "<g class=\"node\" id=\"node6\">\n",
       "<title>140576766847016</title>\n",
       "<polygon fill=\"none\" points=\"56.5,-292.5 56.5,-328.5 197.5,-328.5 197.5,-292.5 56.5,-292.5\" stroke=\"#000000\"/>\n",
       "<text fill=\"#000000\" font-family=\"Times,serif\" font-size=\"14.00\" text-anchor=\"middle\" x=\"127\" y=\"-306.8\">flatten_1: Flatten</text>\n",
       "</g>\n",
       "<!-- 140576766846848&#45;&gt;140576766847016 -->\n",
       "<g class=\"edge\" id=\"edge6\">\n",
       "<title>140576766846848-&gt;140576766847016</title>\n",
       "<path d=\"M127,-365.4551C127,-357.3828 127,-347.6764 127,-338.6817\" fill=\"none\" stroke=\"#000000\"/>\n",
       "<polygon fill=\"#000000\" points=\"130.5001,-338.5903 127,-328.5904 123.5001,-338.5904 130.5001,-338.5903\" stroke=\"#000000\"/>\n",
       "</g>\n",
       "<!-- 140576766845672 -->\n",
       "<g class=\"node\" id=\"node7\">\n",
       "<title>140576766845672</title>\n",
       "<polygon fill=\"none\" points=\"51,-219.5 51,-255.5 203,-255.5 203,-219.5 51,-219.5\" stroke=\"#000000\"/>\n",
       "<text fill=\"#000000\" font-family=\"Times,serif\" font-size=\"14.00\" text-anchor=\"middle\" x=\"127\" y=\"-233.8\">lambda_1: Lambda</text>\n",
       "</g>\n",
       "<!-- 140576766847016&#45;&gt;140576766845672 -->\n",
       "<g class=\"edge\" id=\"edge7\">\n",
       "<title>140576766847016-&gt;140576766845672</title>\n",
       "<path d=\"M127,-292.4551C127,-284.3828 127,-274.6764 127,-265.6817\" fill=\"none\" stroke=\"#000000\"/>\n",
       "<polygon fill=\"#000000\" points=\"130.5001,-265.5903 127,-255.5904 123.5001,-265.5904 130.5001,-265.5903\" stroke=\"#000000\"/>\n",
       "</g>\n",
       "<!-- 140576766536672 -->\n",
       "<g class=\"node\" id=\"node8\">\n",
       "<title>140576766536672</title>\n",
       "<polygon fill=\"none\" points=\"63,-146.5 63,-182.5 191,-182.5 191,-146.5 63,-146.5\" stroke=\"#000000\"/>\n",
       "<text fill=\"#000000\" font-family=\"Times,serif\" font-size=\"14.00\" text-anchor=\"middle\" x=\"127\" y=\"-160.8\">dense_2: Dense</text>\n",
       "</g>\n",
       "<!-- 140576766845672&#45;&gt;140576766536672 -->\n",
       "<g class=\"edge\" id=\"edge8\">\n",
       "<title>140576766845672-&gt;140576766536672</title>\n",
       "<path d=\"M127,-219.4551C127,-211.3828 127,-201.6764 127,-192.6817\" fill=\"none\" stroke=\"#000000\"/>\n",
       "<polygon fill=\"#000000\" points=\"130.5001,-192.5903 127,-182.5904 123.5001,-192.5904 130.5001,-192.5903\" stroke=\"#000000\"/>\n",
       "</g>\n",
       "<!-- 140576766535888 -->\n",
       "<g class=\"node\" id=\"node9\">\n",
       "<title>140576766535888</title>\n",
       "<polygon fill=\"none\" points=\"48.5,-73.5 48.5,-109.5 205.5,-109.5 205.5,-73.5 48.5,-73.5\" stroke=\"#000000\"/>\n",
       "<text fill=\"#000000\" font-family=\"Times,serif\" font-size=\"14.00\" text-anchor=\"middle\" x=\"127\" y=\"-87.8\">dropout_2: Dropout</text>\n",
       "</g>\n",
       "<!-- 140576766536672&#45;&gt;140576766535888 -->\n",
       "<g class=\"edge\" id=\"edge9\">\n",
       "<title>140576766536672-&gt;140576766535888</title>\n",
       "<path d=\"M127,-146.4551C127,-138.3828 127,-128.6764 127,-119.6817\" fill=\"none\" stroke=\"#000000\"/>\n",
       "<polygon fill=\"#000000\" points=\"130.5001,-119.5903 127,-109.5904 123.5001,-119.5904 130.5001,-119.5903\" stroke=\"#000000\"/>\n",
       "</g>\n",
       "<!-- 140576766449032 -->\n",
       "<g class=\"node\" id=\"node10\">\n",
       "<title>140576766449032</title>\n",
       "<polygon fill=\"none\" points=\"63,-.5 63,-36.5 191,-36.5 191,-.5 63,-.5\" stroke=\"#000000\"/>\n",
       "<text fill=\"#000000\" font-family=\"Times,serif\" font-size=\"14.00\" text-anchor=\"middle\" x=\"127\" y=\"-14.8\">dense_3: Dense</text>\n",
       "</g>\n",
       "<!-- 140576766535888&#45;&gt;140576766449032 -->\n",
       "<g class=\"edge\" id=\"edge10\">\n",
       "<title>140576766535888-&gt;140576766449032</title>\n",
       "<path d=\"M127,-73.4551C127,-65.3828 127,-55.6764 127,-46.6817\" fill=\"none\" stroke=\"#000000\"/>\n",
       "<polygon fill=\"#000000\" points=\"130.5001,-46.5903 127,-36.5904 123.5001,-46.5904 130.5001,-46.5903\" stroke=\"#000000\"/>\n",
       "</g>\n",
       "<!-- 140576767257960 -->\n",
       "<g class=\"node\" id=\"node11\">\n",
       "<title>140576767257960</title>\n",
       "<polygon fill=\"none\" points=\"51,-730.5 51,-766.5 203,-766.5 203,-730.5 51,-730.5\" stroke=\"#000000\"/>\n",
       "<text fill=\"#000000\" font-family=\"Times,serif\" font-size=\"14.00\" text-anchor=\"middle\" x=\"127\" y=\"-744.8\">140576767257960</text>\n",
       "</g>\n",
       "<!-- 140576767257960&#45;&gt;140576767257344 -->\n",
       "<g class=\"edge\" id=\"edge1\">\n",
       "<title>140576767257960-&gt;140576767257344</title>\n",
       "<path d=\"M127,-730.4551C127,-722.3828 127,-712.6764 127,-703.6817\" fill=\"none\" stroke=\"#000000\"/>\n",
       "<polygon fill=\"#000000\" points=\"130.5001,-703.5903 127,-693.5904 123.5001,-703.5904 130.5001,-703.5903\" stroke=\"#000000\"/>\n",
       "</g>\n",
       "</g>\n",
       "</svg>"
      ],
      "text/plain": [
       "<IPython.core.display.SVG object>"
      ]
     },
     "execution_count": 14,
     "metadata": {},
     "output_type": "execute_result"
    }
   ],
   "source": [
    "import keras\n",
    "import pydot as pyd\n",
    "from IPython.display import SVG\n",
    "from keras.utils.vis_utils import model_to_dot\n",
    "\n",
    "keras.utils.vis_utils.pydot = pyd\n",
    "\n",
    "def visualize_model(model):\n",
    "  return model_to_dot(model).create(prog='dot', format='svg')\n",
    "\n",
    "model_diagram = visualize_model(conv_model)\n",
    "\n",
    "with open('../images/graph2vec-architecture-cnn.svg', 'wb') as f:\n",
    "    f.write(model_diagram)\n",
    "\n",
    "SVG(model_diagram)"
   ]
  },
  {
   "cell_type": "code",
   "execution_count": 13,
   "metadata": {},
   "outputs": [
    {
     "name": "stdout",
     "output_type": "stream",
     "text": [
      "WARNING:tensorflow:From /usr/local/lib/python3.6/dist-packages/tensorflow/python/ops/math_ops.py:3066: to_int32 (from tensorflow.python.ops.math_ops) is deprecated and will be removed in a future version.\n",
      "Instructions for updating:\n",
      "Use tf.cast instead.\n",
      "Epoch 1/50\n",
      "17201/17201 [==============================] - 2s 99us/step - loss: 0.6944 - acc: 0.5202\n",
      "Epoch 2/50\n",
      "17201/17201 [==============================] - 1s 66us/step - loss: 0.6234 - acc: 0.6510\n",
      "Epoch 3/50\n",
      "17201/17201 [==============================] - 2s 104us/step - loss: 0.5323 - acc: 0.7291\n",
      "Epoch 4/50\n",
      "17201/17201 [==============================] - 1s 73us/step - loss: 0.4667 - acc: 0.7731\n",
      "Epoch 5/50\n",
      "17201/17201 [==============================] - 2s 106us/step - loss: 0.3932 - acc: 0.8136\n",
      "Epoch 6/50\n",
      "17201/17201 [==============================] - 1s 78us/step - loss: 0.3282 - acc: 0.8457\n",
      "Epoch 7/50\n",
      "17201/17201 [==============================] - 1s 85us/step - loss: 0.2685 - acc: 0.8739\n",
      "Epoch 8/50\n",
      "17201/17201 [==============================] - 1s 83us/step - loss: 0.2210 - acc: 0.8968\n",
      "Epoch 9/50\n",
      "17201/17201 [==============================] - 1s 65us/step - loss: 0.1919 - acc: 0.9119\n",
      "Epoch 10/50\n",
      "17201/17201 [==============================] - 2s 96us/step - loss: 0.1763 - acc: 0.9177\n",
      "Epoch 11/50\n",
      "17201/17201 [==============================] - 1s 70us/step - loss: 0.1680 - acc: 0.9201\n",
      "Epoch 12/50\n",
      "17201/17201 [==============================] - 2s 90us/step - loss: 0.1579 - acc: 0.9255\n",
      "Epoch 13/50\n",
      "17201/17201 [==============================] - 3s 159us/step - loss: 0.1441 - acc: 0.9300\n",
      "Epoch 14/50\n",
      "17201/17201 [==============================] - 2s 130us/step - loss: 0.1436 - acc: 0.9317\n",
      "Epoch 15/50\n",
      "17201/17201 [==============================] - 2s 130us/step - loss: 0.1417 - acc: 0.9311\n",
      "Epoch 16/50\n",
      "17201/17201 [==============================] - 2s 99us/step - loss: 0.1376 - acc: 0.9326\n",
      "Epoch 17/50\n",
      "17201/17201 [==============================] - 1s 75us/step - loss: 0.1293 - acc: 0.9368\n",
      "Epoch 18/50\n",
      "17201/17201 [==============================] - 1s 71us/step - loss: 0.1244 - acc: 0.9361\n",
      "Epoch 19/50\n",
      "17201/17201 [==============================] - 1s 85us/step - loss: 0.1240 - acc: 0.9394\n",
      "Epoch 20/50\n",
      "17201/17201 [==============================] - 2s 101us/step - loss: 0.1190 - acc: 0.9401\n",
      "Epoch 21/50\n",
      "17201/17201 [==============================] - 1s 69us/step - loss: 0.1229 - acc: 0.9409\n",
      "Epoch 22/50\n",
      "17201/17201 [==============================] - 1s 70us/step - loss: 0.1182 - acc: 0.9419\n",
      "Epoch 23/50\n",
      "17201/17201 [==============================] - 1s 77us/step - loss: 0.1199 - acc: 0.9412\n",
      "Epoch 24/50\n",
      "17201/17201 [==============================] - 2s 101us/step - loss: 0.1138 - acc: 0.9426\n",
      "Epoch 25/50\n",
      "17201/17201 [==============================] - 2s 115us/step - loss: 0.1091 - acc: 0.9444\n",
      "Epoch 26/50\n",
      "17201/17201 [==============================] - 2s 136us/step - loss: 0.1105 - acc: 0.9426\n",
      "Epoch 27/50\n",
      "17201/17201 [==============================] - 2s 117us/step - loss: 0.1094 - acc: 0.9440\n",
      "Epoch 28/50\n",
      "17201/17201 [==============================] - 2s 132us/step - loss: 0.1049 - acc: 0.9453\n",
      "Epoch 29/50\n",
      "17201/17201 [==============================] - 2s 125us/step - loss: 0.1051 - acc: 0.9470\n",
      "Epoch 30/50\n",
      "17201/17201 [==============================] - 2s 118us/step - loss: 0.1038 - acc: 0.9481\n",
      "Epoch 31/50\n",
      "17201/17201 [==============================] - 2s 127us/step - loss: 0.1097 - acc: 0.9473\n",
      "Epoch 32/50\n",
      "17201/17201 [==============================] - 2s 123us/step - loss: 0.1050 - acc: 0.9479\n",
      "Epoch 33/50\n",
      "17201/17201 [==============================] - 2s 111us/step - loss: 0.1012 - acc: 0.9480\n",
      "Epoch 34/50\n",
      "17201/17201 [==============================] - 2s 130us/step - loss: 0.1006 - acc: 0.9484\n",
      "Epoch 35/50\n",
      "17201/17201 [==============================] - 3s 194us/step - loss: 0.0989 - acc: 0.9509\n",
      "Epoch 36/50\n",
      "17201/17201 [==============================] - 2s 113us/step - loss: 0.0991 - acc: 0.9492\n",
      "Epoch 37/50\n",
      "17201/17201 [==============================] - 3s 161us/step - loss: 0.0989 - acc: 0.9490\n",
      "Epoch 38/50\n",
      "17201/17201 [==============================] - 1s 77us/step - loss: 0.0974 - acc: 0.9495\n",
      "Epoch 39/50\n",
      "17201/17201 [==============================] - 2s 129us/step - loss: 0.0971 - acc: 0.9500\n",
      "Epoch 40/50\n",
      "17201/17201 [==============================] - 1s 79us/step - loss: 0.1028 - acc: 0.9476\n",
      "Epoch 41/50\n",
      "17201/17201 [==============================] - 1s 77us/step - loss: 0.0916 - acc: 0.9522\n",
      "Epoch 42/50\n",
      "17201/17201 [==============================] - 3s 151us/step - loss: 0.0952 - acc: 0.9510\n",
      "Epoch 43/50\n",
      "17201/17201 [==============================] - 2s 124us/step - loss: 0.0945 - acc: 0.9496\n",
      "Epoch 44/50\n",
      "17201/17201 [==============================] - 2s 112us/step - loss: 0.0946 - acc: 0.9501\n",
      "Epoch 45/50\n",
      "17201/17201 [==============================] - 2s 133us/step - loss: 0.0915 - acc: 0.9523\n",
      "Epoch 46/50\n",
      "17201/17201 [==============================] - 2s 118us/step - loss: 0.0953 - acc: 0.9500\n",
      "Epoch 47/50\n",
      "17201/17201 [==============================] - 2s 136us/step - loss: 0.0916 - acc: 0.9519\n",
      "Epoch 48/50\n",
      "17201/17201 [==============================] - 2s 119us/step - loss: 0.0911 - acc: 0.9525\n",
      "Epoch 49/50\n",
      "17201/17201 [==============================] - 1s 70us/step - loss: 0.0914 - acc: 0.9527\n",
      "Epoch 50/50\n",
      "17201/17201 [==============================] - 1s 72us/step - loss: 0.0885 - acc: 0.9529\n"
     ]
    },
    {
     "data": {
      "text/plain": [
       "<keras.callbacks.History at 0x7f7d0e3c8cf8>"
      ]
     },
     "execution_count": 13,
     "metadata": {},
     "output_type": "execute_result"
    }
   ],
   "source": [
    "conv_model.compile(optimizer=Adam(), loss='binary_crossentropy', metrics=['accuracy'])\n",
    "# model.compile(optimizer=Adadelta(), loss='binary_crossentropy', metrics=['accuracy'])\n",
    "conv_model.fit(x_train, y_train, epochs=50, batch_size=64)"
   ]
  },
  {
   "cell_type": "code",
   "execution_count": 14,
   "metadata": {},
   "outputs": [
    {
     "name": "stdout",
     "output_type": "stream",
     "text": [
      "4301/4301 [==============================] - 0s 57us/step\n"
     ]
    },
    {
     "data": {
      "text/plain": [
       "[0.09828291945653138, 0.9502441292722623]"
      ]
     },
     "execution_count": 14,
     "metadata": {},
     "output_type": "execute_result"
    }
   ],
   "source": [
    "conv_model.evaluate(x_test,y_test)"
   ]
  },
  {
   "cell_type": "code",
   "execution_count": 26,
   "metadata": {},
   "outputs": [],
   "source": [
    "import pickle\n",
    "\n",
    "with open('../data/binary-convolutional','wb') as f:\n",
    "    pickle.dump(conv_model,f)"
   ]
  },
  {
   "cell_type": "code",
   "execution_count": 27,
   "metadata": {},
   "outputs": [],
   "source": [
    "y_predict_conv= conv_model.predict(x_test)"
   ]
  },
  {
   "cell_type": "code",
   "execution_count": 29,
   "metadata": {},
   "outputs": [
    {
     "data": {
      "image/png": "[encoded data removed]",
      "text/plain": [
       "<Figure size 360x216 with 2 Axes>"
      ]
     },
     "metadata": {
      "needs_background": "light"
     },
     "output_type": "display_data"
    }
   ],
   "source": [
    "confusion_matrix = pd.DataFrame(\n",
    "    data=metrics.confusion_matrix(y_test, np.rint(y_predict_conv)), \n",
    "    \n",
    ")\n",
    "\n",
    "confusion_figure, confusion_axes = matplotlib.pyplot.subplots()\n",
    "confusion_figure.set_size_inches(5, 3)\n",
    "confusion_axes.set_title(\n",
    "    'Confusion matrix showing the frequency of \\n'\n",
    "    'correct and incorrect bug classification predictions.'\n",
    "    '\\n\\n'  # hack to avoid overlap with x-axis labels below\n",
    ")\n",
    "confusion_axes.xaxis.tick_top()  # move x-axis labels to top of matrix\n",
    "_ = sns.heatmap(\n",
    "    confusion_matrix,\n",
    "    annot=True,\n",
    "    fmt=\"d\",\n",
    "    cmap=sns.color_palette(\"Blues\"),\n",
    "    vmin=0,\n",
    "    ax=confusion_axes,\n",
    ")"
   ]
  },
  {
   "cell_type": "code",
   "execution_count": 30,
   "metadata": {},
   "outputs": [],
   "source": [
    "tn, fp, fn, tp = metrics.confusion_matrix(y_test, np.rint(y_predict_conv)).flatten().tolist()\n",
    "\n",
    "fpr_cnn = fp/(fp+tp)\n",
    "fnr_cnn = fn/(fn+tn)"
   ]
  },
  {
   "cell_type": "code",
   "execution_count": 31,
   "metadata": {},
   "outputs": [
    {
     "data": {
      "text/plain": [
       "0.08096280087527352"
      ]
     },
     "execution_count": 31,
     "metadata": {},
     "output_type": "execute_result"
    }
   ],
   "source": [
    "fpr_cnn"
   ]
  },
  {
   "cell_type": "code",
   "execution_count": 32,
   "metadata": {},
   "outputs": [
    {
     "data": {
      "text/plain": [
       "0.01636904761904762"
      ]
     },
     "execution_count": 32,
     "metadata": {},
     "output_type": "execute_result"
    }
   ],
   "source": [
    "fnr_cnn"
   ]
  },
  {
   "cell_type": "code",
   "execution_count": 36,
   "metadata": {},
   "outputs": [],
   "source": [
    "from sklearn.metrics import roc_curve\n",
    "fpr_keras, tpr_keras, thresholds_keras = roc_curve((y_test.values+0), y_predict_conv)"
   ]
  },
  {
   "cell_type": "code",
   "execution_count": 37,
   "metadata": {},
   "outputs": [],
   "source": [
    "from sklearn.metrics import auc\n",
    "import matplotlib.pyplot as plt\n",
    "auc_keras = auc(fpr_keras, tpr_keras)"
   ]
  },
  {
   "cell_type": "code",
   "execution_count": 38,
   "metadata": {},
   "outputs": [
    {
     "data": {
      "image/png": "[encoded data removed]",
      "text/plain": [
       "<Figure size 432x288 with 1 Axes>"
      ]
     },
     "metadata": {
      "needs_background": "light"
     },
     "output_type": "display_data"
    },
    {
     "data": {
      "text/plain": [
       "<Figure size 432x288 with 0 Axes>"
      ]
     },
     "metadata": {},
     "output_type": "display_data"
    }
   ],
   "source": [
    "plt.plot(fpr_keras, tpr_keras, label='Keras (area = {:.3f})'.format(auc_keras))\n",
    "plt.xlabel('False positive rate')\n",
    "plt.ylabel('True positive rate')\n",
    "plt.title('ROC curve')\n",
    "plt.legend(loc='best')\n",
    "plt.show()\n",
    "plt.savefig('../images/baseline_roc_curve')"
   ]
  },
  {
   "cell_type": "markdown",
   "metadata": {},
   "source": [
    "### Train / Test / Val Split"
   ]
  },
  {
   "cell_type": "code",
   "execution_count": 15,
   "metadata": {},
   "outputs": [],
   "source": [
    "with open('../data/x-train-binary-for-3-way-split','rb') as f:\n",
    "    x_train1 = pickle.load(f)\n",
    "    \n",
    "with open('../data/y-train-binary-for-3-way-split','rb') as f:\n",
    "    y_train1 = pickle.load(f)\n",
    "    \n",
    "with open('../data/x-val-binary','rb') as f:\n",
    "    x_val = pickle.load(f)\n",
    "    \n",
    "with open('../data/y-val-binary','rb') as f:\n",
    "    y_val = pickle.load(f)"
   ]
  },
  {
   "cell_type": "code",
   "execution_count": 16,
   "metadata": {},
   "outputs": [
    {
     "name": "stdout",
     "output_type": "stream",
     "text": [
      "Train on 15050 samples, validate on 2151 samples\n",
      "Epoch 1/50\n",
      "15050/15050 [==============================] - 1s 72us/step - loss: 0.0885 - acc: 0.9540 - val_loss: 0.0894 - val_acc: 0.9512\n",
      "Epoch 2/50\n",
      "15050/15050 [==============================] - 1s 91us/step - loss: 0.0904 - acc: 0.9506 - val_loss: 0.1336 - val_acc: 0.9433\n",
      "Epoch 3/50\n",
      "15050/15050 [==============================] - ETA: 0s - loss: 0.0883 - acc: 0.952 - 3s 172us/step - loss: 0.0883 - acc: 0.9528 - val_loss: 0.0872 - val_acc: 0.9572\n",
      "Epoch 4/50\n",
      "15050/15050 [==============================] - 1s 96us/step - loss: 0.0888 - acc: 0.9526 - val_loss: 0.0863 - val_acc: 0.9563\n",
      "Epoch 5/50\n",
      "15050/15050 [==============================] - 1s 89us/step - loss: 0.0868 - acc: 0.9550 - val_loss: 0.0845 - val_acc: 0.9558\n",
      "Epoch 6/50\n",
      "15050/15050 [==============================] - 1s 72us/step - loss: 0.0889 - acc: 0.9542 - val_loss: 0.0899 - val_acc: 0.9572\n",
      "Epoch 7/50\n",
      "15050/15050 [==============================] - 1s 74us/step - loss: 0.0858 - acc: 0.9555 - val_loss: 0.1043 - val_acc: 0.9526\n",
      "Epoch 8/50\n",
      "15050/15050 [==============================] - 2s 113us/step - loss: 0.0865 - acc: 0.9553 - val_loss: 0.0864 - val_acc: 0.9517\n",
      "Epoch 9/50\n",
      "15050/15050 [==============================] - 2s 103us/step - loss: 0.0902 - acc: 0.9529 - val_loss: 0.0984 - val_acc: 0.9484\n",
      "Epoch 10/50\n",
      "15050/15050 [==============================] - 1s 82us/step - loss: 0.0831 - acc: 0.9562 - val_loss: 0.0804 - val_acc: 0.9549\n",
      "Epoch 11/50\n",
      "15050/15050 [==============================] - 1s 72us/step - loss: 0.0845 - acc: 0.9540 - val_loss: 0.0886 - val_acc: 0.9521\n",
      "Epoch 12/50\n",
      "15050/15050 [==============================] - 2s 102us/step - loss: 0.0866 - acc: 0.9543 - val_loss: 0.0860 - val_acc: 0.9582\n",
      "Epoch 13/50\n",
      "15050/15050 [==============================] - 1s 89us/step - loss: 0.0800 - acc: 0.9570 - val_loss: 0.0938 - val_acc: 0.9530\n",
      "Epoch 14/50\n",
      "15050/15050 [==============================] - 2s 105us/step - loss: 0.0841 - acc: 0.9532 - val_loss: 0.0872 - val_acc: 0.9558\n",
      "Epoch 15/50\n",
      "15050/15050 [==============================] - 2s 107us/step - loss: 0.0827 - acc: 0.9534 - val_loss: 0.0933 - val_acc: 0.9470\n",
      "Epoch 16/50\n",
      "15050/15050 [==============================] - 2s 102us/step - loss: 0.0831 - acc: 0.9536 - val_loss: 0.0939 - val_acc: 0.9526\n",
      "Epoch 17/50\n",
      "15050/15050 [==============================] - 1s 81us/step - loss: 0.0830 - acc: 0.9557 - val_loss: 0.0891 - val_acc: 0.9544\n",
      "Epoch 18/50\n",
      "15050/15050 [==============================] - 1s 84us/step - loss: 0.0839 - acc: 0.9563 - val_loss: 0.0954 - val_acc: 0.9521\n",
      "Epoch 19/50\n",
      "15050/15050 [==============================] - 2s 116us/step - loss: 0.0792 - acc: 0.9581 - val_loss: 0.0872 - val_acc: 0.9563\n",
      "Epoch 20/50\n",
      "15050/15050 [==============================] - 2s 103us/step - loss: 0.0839 - acc: 0.9540 - val_loss: 0.0949 - val_acc: 0.9507\n",
      "Epoch 21/50\n",
      "15050/15050 [==============================] - 1s 82us/step - loss: 0.0807 - acc: 0.9545 - val_loss: 0.1065 - val_acc: 0.9535\n",
      "Epoch 22/50\n",
      "15050/15050 [==============================] - 1s 73us/step - loss: 0.0810 - acc: 0.9578 - val_loss: 0.0909 - val_acc: 0.9549\n",
      "Epoch 23/50\n",
      "15050/15050 [==============================] - 1s 84us/step - loss: 0.0798 - acc: 0.9577 - val_loss: 0.0828 - val_acc: 0.9582\n",
      "Epoch 24/50\n",
      "15050/15050 [==============================] - 1s 83us/step - loss: 0.0811 - acc: 0.9561 - val_loss: 0.0957 - val_acc: 0.9498\n",
      "Epoch 25/50\n",
      "15050/15050 [==============================] - 1s 99us/step - loss: 0.0816 - acc: 0.9557 - val_loss: 0.0898 - val_acc: 0.9586\n",
      "Epoch 26/50\n",
      "15050/15050 [==============================] - 2s 106us/step - loss: 0.0779 - acc: 0.9576 - val_loss: 0.0873 - val_acc: 0.9540\n",
      "Epoch 27/50\n",
      "15050/15050 [==============================] - 1s 97us/step - loss: 0.0794 - acc: 0.9563 - val_loss: 0.0946 - val_acc: 0.9512\n",
      "Epoch 28/50\n",
      "15050/15050 [==============================] - 1s 75us/step - loss: 0.0803 - acc: 0.9570 - val_loss: 0.0919 - val_acc: 0.9498\n",
      "Epoch 29/50\n",
      "15050/15050 [==============================] - 2s 100us/step - loss: 0.0836 - acc: 0.9548 - val_loss: 0.1004 - val_acc: 0.9479\n",
      "Epoch 30/50\n",
      "15050/15050 [==============================] - 2s 113us/step - loss: 0.0786 - acc: 0.9571 - val_loss: 0.0890 - val_acc: 0.9554\n",
      "Epoch 31/50\n",
      "15050/15050 [==============================] - 1s 82us/step - loss: 0.0787 - acc: 0.9568 - val_loss: 0.0853 - val_acc: 0.9586\n",
      "Epoch 32/50\n",
      "15050/15050 [==============================] - 1s 87us/step - loss: 0.0782 - acc: 0.9573 - val_loss: 0.0899 - val_acc: 0.9517\n",
      "Epoch 33/50\n",
      "15050/15050 [==============================] - 2s 115us/step - loss: 0.0753 - acc: 0.9595 - val_loss: 0.0909 - val_acc: 0.9577\n",
      "Epoch 34/50\n",
      "15050/15050 [==============================] - 1s 98us/step - loss: 0.0767 - acc: 0.9568 - val_loss: 0.0857 - val_acc: 0.9582\n",
      "Epoch 35/50\n",
      "15050/15050 [==============================] - 1s 90us/step - loss: 0.0784 - acc: 0.9556 - val_loss: 0.0798 - val_acc: 0.9586\n",
      "Epoch 36/50\n",
      "15050/15050 [==============================] - 1s 92us/step - loss: 0.0792 - acc: 0.9560 - val_loss: 0.0868 - val_acc: 0.9572\n",
      "Epoch 37/50\n",
      "15050/15050 [==============================] - 1s 72us/step - loss: 0.0743 - acc: 0.9575 - val_loss: 0.0878 - val_acc: 0.9535\n",
      "Epoch 38/50\n",
      "15050/15050 [==============================] - 1s 75us/step - loss: 0.0775 - acc: 0.9566 - val_loss: 0.1447 - val_acc: 0.9289\n",
      "Epoch 39/50\n",
      "15050/15050 [==============================] - 1s 71us/step - loss: 0.0780 - acc: 0.9572 - val_loss: 0.0864 - val_acc: 0.9558\n",
      "Epoch 40/50\n",
      "15050/15050 [==============================] - 1s 98us/step - loss: 0.0776 - acc: 0.9558 - val_loss: 0.0799 - val_acc: 0.9554\n",
      "Epoch 41/50\n",
      "15050/15050 [==============================] - 2s 124us/step - loss: 0.0790 - acc: 0.9579 - val_loss: 0.0859 - val_acc: 0.9544\n",
      "Epoch 42/50\n",
      "15050/15050 [==============================] - 2s 124us/step - loss: 0.0748 - acc: 0.9575 - val_loss: 0.0831 - val_acc: 0.9535\n",
      "Epoch 43/50\n",
      "15050/15050 [==============================] - 2s 128us/step - loss: 0.0733 - acc: 0.9595 - val_loss: 0.0821 - val_acc: 0.9586\n",
      "Epoch 44/50\n",
      "15050/15050 [==============================] - 3s 201us/step - loss: 0.0785 - acc: 0.9567 - val_loss: 0.0860 - val_acc: 0.9582\n",
      "Epoch 45/50\n",
      "15050/15050 [==============================] - 2s 131us/step - loss: 0.0757 - acc: 0.9575 - val_loss: 0.0813 - val_acc: 0.9526\n",
      "Epoch 46/50\n",
      "15050/15050 [==============================] - 1s 82us/step - loss: 0.0805 - acc: 0.9535 - val_loss: 0.0862 - val_acc: 0.9535\n",
      "Epoch 47/50\n",
      "15050/15050 [==============================] - 1s 96us/step - loss: 0.0742 - acc: 0.9587 - val_loss: 0.0908 - val_acc: 0.9517\n",
      "Epoch 48/50\n",
      "15050/15050 [==============================] - 1s 99us/step - loss: 0.0804 - acc: 0.9559 - val_loss: 0.0874 - val_acc: 0.9521\n",
      "Epoch 49/50\n",
      "15050/15050 [==============================] - 1s 92us/step - loss: 0.0725 - acc: 0.9581 - val_loss: 0.0898 - val_acc: 0.9498\n",
      "Epoch 50/50\n",
      "15050/15050 [==============================] - 1s 89us/step - loss: 0.0745 - acc: 0.9587 - val_loss: 0.0824 - val_acc: 0.9554\n"
     ]
    },
    {
     "data": {
      "text/plain": [
       "<keras.callbacks.History at 0x7f7d29fbd208>"
      ]
     },
     "execution_count": 16,
     "metadata": {},
     "output_type": "execute_result"
    }
   ],
   "source": [
    "conv_model.fit(x_train1, y_train1, validation_data = (x_val, y_val), epochs=50, batch_size=64)"
   ]
  },
  {
   "cell_type": "code",
   "execution_count": 17,
   "metadata": {},
   "outputs": [
    {
     "name": "stdout",
     "output_type": "stream",
     "text": [
      "4301/4301 [==============================] - 0s 74us/step\n"
     ]
    },
    {
     "data": {
      "text/plain": [
       "[0.09072386094565392, 0.9530341781258334]"
      ]
     },
     "execution_count": 17,
     "metadata": {},
     "output_type": "execute_result"
    }
   ],
   "source": [
    "conv_model.evaluate(x_test,y_test)"
   ]
  },
  {
   "cell_type": "code",
   "execution_count": 18,
   "metadata": {},
   "outputs": [],
   "source": [
    "y_predict_conv1= conv_model.predict(x_test)"
   ]
  },
  {
   "cell_type": "code",
   "execution_count": 21,
   "metadata": {},
   "outputs": [
    {
     "data": {
      "image/png": "[encoded data removed]",
      "text/plain": [
       "<Figure size 360x216 with 2 Axes>"
      ]
     },
     "metadata": {
      "needs_background": "light"
     },
     "output_type": "display_data"
    }
   ],
   "source": [
    "confusion_matrix = pd.DataFrame(\n",
    "    data=metrics.confusion_matrix(y_test, np.rint(y_predict_conv1)), \n",
    "    \n",
    ")\n",
    "\n",
    "confusion_figure, confusion_axes = matplotlib.pyplot.subplots()\n",
    "confusion_figure.set_size_inches(5, 3)\n",
    "confusion_axes.set_title(\n",
    "    'Confusion matrix showing the frequency of \\n'\n",
    "    'correct and incorrect bug classification predictions.'\n",
    "    '\\n\\n'  # hack to avoid overlap with x-axis labels below\n",
    ")\n",
    "confusion_axes.xaxis.tick_top()  # move x-axis labels to top of matrix\n",
    "_ = sns.heatmap(\n",
    "    confusion_matrix,\n",
    "    annot=True,\n",
    "    fmt=\"d\",\n",
    "    cmap=sns.color_palette(\"Blues\"),\n",
    "    vmin=0,\n",
    "    ax=confusion_axes,\n",
    ")"
   ]
  },
  {
   "cell_type": "code",
   "execution_count": 22,
   "metadata": {},
   "outputs": [],
   "source": [
    "tn, fp, fn, tp = metrics.confusion_matrix(y_test, np.rint(y_predict_conv1)).flatten().tolist()\n",
    "\n",
    "fpr_cnn1 = fp/(fp+tp)\n",
    "fnr_cnn1 = fn/(fn+tn)"
   ]
  },
  {
   "cell_type": "code",
   "execution_count": 23,
   "metadata": {},
   "outputs": [
    {
     "data": {
      "text/plain": [
       "0.010147133434804667"
      ]
     },
     "execution_count": 23,
     "metadata": {},
     "output_type": "execute_result"
    }
   ],
   "source": [
    "fpr_cnn1"
   ]
  },
  {
   "cell_type": "code",
   "execution_count": 24,
   "metadata": {},
   "outputs": [
    {
     "data": {
      "text/plain": [
       "0.07811158798283262"
      ]
     },
     "execution_count": 24,
     "metadata": {},
     "output_type": "execute_result"
    }
   ],
   "source": [
    "fnr_cnn1"
   ]
  }
 ],
 "metadata": {
  "kernelspec": {
   "display_name": "Python 3",
   "language": "python",
   "name": "python3"
  },
  "language_info": {
   "codemirror_mode": {
    "name": "ipython",
    "version": 3
   },
   "file_extension": ".py",
   "mimetype": "text/x-python",
   "name": "python",
   "nbconvert_exporter": "python",
   "pygments_lexer": "ipython3",
   "version": "3.6.8"
  },
  "toc": {
   "base_numbering": 1,
   "nav_menu": {},
   "number_sections": true,
   "sideBar": true,
   "skip_h1_title": false,
   "title_cell": "Table of Contents",
   "title_sidebar": "Contents",
   "toc_cell": false,
   "toc_position": {},
   "toc_section_display": true,
   "toc_window_display": false
  }
 },
 "nbformat": 4,
 "nbformat_minor": 2
}
