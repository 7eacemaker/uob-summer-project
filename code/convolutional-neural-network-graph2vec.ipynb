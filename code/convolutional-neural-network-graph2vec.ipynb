{
 "cells": [
  {
   "cell_type": "markdown",
   "metadata": {},
   "source": [
    "# Import Data"
   ]
  },
  {
   "cell_type": "code",
   "execution_count": 1,
   "metadata": {},
   "outputs": [
    {
     "name": "stderr",
     "output_type": "stream",
     "text": [
      "Using TensorFlow backend.\n"
     ]
    }
   ],
   "source": [
    "import numpy as np\n",
    "np.random.seed(1248)\n",
    "import tensorflow as tf\n",
    "import keras"
   ]
  },
  {
   "cell_type": "code",
   "execution_count": 2,
   "metadata": {},
   "outputs": [],
   "source": [
    "import pandas as pd"
   ]
  },
  {
   "cell_type": "code",
   "execution_count": 3,
   "metadata": {},
   "outputs": [],
   "source": [
    "data = pd.read_csv('../data/buffer_overflow_data.csv.gz')"
   ]
  },
  {
   "cell_type": "code",
   "execution_count": 4,
   "metadata": {},
   "outputs": [],
   "source": [
    "labels = data.copy()\n",
    "del labels['Unnamed: 0']\n",
    "del labels['Unnamed: 0.1']\n",
    "del labels['filename']\n",
    "del labels['code']\n",
    "del labels['flaw']\n",
    "del labels['flaw_loc']\n",
    "labels = labels.drop_duplicates().sort_values('testcase_ID').reset_index(drop=True)"
   ]
  },
  {
   "cell_type": "code",
   "execution_count": 5,
   "metadata": {
    "scrolled": true
   },
   "outputs": [],
   "source": [
    "x = pd.read_csv(\"../data/buffer_overflow_graph_embeddings.csv.gz\")\n",
    "x['testcase_ID'] = x['type']\n",
    "del x['type']\n",
    "x = x.sort_values(\"testcase_ID\").reset_index(drop=True)"
   ]
  },
  {
   "cell_type": "code",
   "execution_count": 6,
   "metadata": {},
   "outputs": [],
   "source": [
    "y = labels['bug']\n",
    "x = x.drop('testcase_ID', axis='columns')"
   ]
  },
  {
   "cell_type": "code",
   "execution_count": 7,
   "metadata": {},
   "outputs": [],
   "source": [
    "import pickle\n",
    "\n",
    "with open('../data/x-train-binary','rb') as f:\n",
    "    x_train = pickle.load(f)\n",
    "    \n",
    "with open('../data/y-train-binary','rb') as f:\n",
    "    y_train = pickle.load(f)\n",
    "    \n",
    "with open('../data/x-test-binary','rb') as f:\n",
    "    x_test = pickle.load(f)\n",
    "    \n",
    "with open('../data/y-test-binary','rb') as f:\n",
    "    y_test = pickle.load(f)"
   ]
  },
  {
   "cell_type": "code",
   "execution_count": 8,
   "metadata": {},
   "outputs": [
    {
     "data": {
      "text/plain": [
       "(17201,)"
      ]
     },
     "execution_count": 8,
     "metadata": {},
     "output_type": "execute_result"
    }
   ],
   "source": [
    "y_train.shape"
   ]
  },
  {
   "cell_type": "code",
   "execution_count": 9,
   "metadata": {},
   "outputs": [
    {
     "data": {
      "text/plain": [
       "(17201, 128)"
      ]
     },
     "execution_count": 9,
     "metadata": {},
     "output_type": "execute_result"
    }
   ],
   "source": [
    "x_train.shape"
   ]
  },
  {
   "cell_type": "markdown",
   "metadata": {},
   "source": [
    "# Baseline Neural Network"
   ]
  },
  {
   "cell_type": "code",
   "execution_count": 21,
   "metadata": {
    "scrolled": true
   },
   "outputs": [],
   "source": [
    "from keras.layers import Dense, Dropout, Flatten, Reshape\n",
    "from keras.layers import Conv1D, MaxPooling1D, Conv2D\n",
    "from keras.models import Sequential\n",
    "from keras.layers.normalization import BatchNormalization\n",
    "from keras.layers.advanced_activations import LeakyReLU\n",
    "from keras.optimizers import RMSprop, Adadelta, Adam\n",
    "from keras.layers import RepeatVector, Permute, Lambda, ActivityRegularization, AveragePooling1D\n",
    "from keras.optimizers import Nadam, Adagrad\n",
    "import math"
   ]
  },
  {
   "cell_type": "code",
   "execution_count": 15,
   "metadata": {},
   "outputs": [],
   "source": [
    "import pickle\n",
    "\n",
    "with open('../data/baseline-model-binary','rb') as f:\n",
    "    model = pickle.load(f)"
   ]
  },
  {
   "cell_type": "code",
   "execution_count": 16,
   "metadata": {
    "scrolled": true
   },
   "outputs": [
    {
     "name": "stdout",
     "output_type": "stream",
     "text": [
      "4301/4301 [==============================] - 0s 110us/step\n"
     ]
    },
    {
     "data": {
      "text/plain": [
       "[0.09805650830137205, 0.9486166007905138]"
      ]
     },
     "execution_count": 16,
     "metadata": {},
     "output_type": "execute_result"
    }
   ],
   "source": [
    "model.evaluate(x_test,y_test)"
   ]
  },
  {
   "cell_type": "code",
   "execution_count": 17,
   "metadata": {},
   "outputs": [],
   "source": [
    "import seaborn as sns\n",
    "from sklearn import metrics\n",
    "import matplotlib"
   ]
  },
  {
   "cell_type": "code",
   "execution_count": 18,
   "metadata": {},
   "outputs": [],
   "source": [
    "y_predict= model.predict(x_test)"
   ]
  },
  {
   "cell_type": "code",
   "execution_count": 19,
   "metadata": {},
   "outputs": [],
   "source": [
    "import numpy as np"
   ]
  },
  {
   "cell_type": "code",
   "execution_count": 20,
   "metadata": {},
   "outputs": [
    {
     "data": {
      "image/png": "[encoded data removed]",
      "text/plain": [
       "<Figure size 1080x864 with 2 Axes>"
      ]
     },
     "metadata": {
      "needs_background": "light"
     },
     "output_type": "display_data"
    }
   ],
   "source": [
    "confusion_matrix = pd.DataFrame(\n",
    "    data=metrics.confusion_matrix(y_test, np.rint(y_predict)), \n",
    "    \n",
    ")\n",
    "\n",
    "confusion_figure, confusion_axes = matplotlib.pyplot.subplots()\n",
    "confusion_figure.set_size_inches(15, 12)\n",
    "confusion_axes.set_title(\n",
    "    'Confusion matrix showing the frequency of \\n'\n",
    "    'correct and incorrect bug classification predictions.'\n",
    "    '\\n\\n'  # hack to avoid overlap with x-axis labels below\n",
    ")\n",
    "confusion_axes.xaxis.tick_top()  # move x-axis labels to top of matrix\n",
    "_ = sns.heatmap(\n",
    "    confusion_matrix,\n",
    "    annot=True,\n",
    "    fmt=\"d\",\n",
    "    cmap=sns.color_palette(\"Blues\"),\n",
    "    vmin=0,\n",
    "    ax=confusion_axes,\n",
    ")"
   ]
  },
  {
   "cell_type": "markdown",
   "metadata": {},
   "source": [
    "# Convolutional Neural Network"
   ]
  },
  {
   "cell_type": "markdown",
   "metadata": {},
   "source": [
    "The functions below can be used as Neural Network layers if we want."
   ]
  },
  {
   "cell_type": "code",
   "execution_count": 15,
   "metadata": {},
   "outputs": [],
   "source": [
    "#What is K?\n",
    "\n",
    "def antirectifier(x):\n",
    "    x -= K.mean(x, axis=1, keepdims=True)\n",
    "    x = K.l2_normalize(x, axis=1)\n",
    "    pos = K.relu(x)\n",
    "    neg = K.relu(-x)\n",
    "    return K.concatenate([pos, neg], axis=1)\n",
    "\n",
    "def antirectifier_output_shape(input_shape):\n",
    "    shape = list(input_shape)\n",
    "    assert len(shape) == 2  # only valid for 2D tensors\n",
    "    shape[-1] *= 2\n",
    "    return tuple(shape)\n",
    "\n",
    "#conv_model.add(Lambda(antirectifier,output_shape=antirectifier_output_shape))\n",
    "\n",
    "\n",
    "def hadamard_product_sum(tensors):\n",
    "    out1 = tensors[0] * tensors[1]\n",
    "    out2 = K.sum(out1, axis=-1)\n",
    "    return [out1, out2]\n",
    "\n",
    "def hadamard_product_sum_output_shape(input_shapes):\n",
    "    shape1 = list(input_shapes[0])\n",
    "    shape2 = list(input_shapes[1])\n",
    "    assert shape1 == shape2  # else hadamard product isn't possible\n",
    "    return [tuple(shape1), tuple(shape2[:-1])]\n",
    "\n",
    "#conv_model(Lambda(hadamard_product_sum, hadamard_product_sum_output_shape))"
   ]
  },
  {
   "cell_type": "markdown",
   "metadata": {},
   "source": [
    "Because our input is not the right dimension to go straight into a neural network, it makes sense to start with a dense layer that our data can be inputted into with ease. In order to get the data into the right dimensions the RepeatVector function is used. Reshape would have been ideal but the NN did not like this and would always error. Using Repeat Vector may not keep the proper structure we want.\n",
    "A 1D convolutional layer is added. This moves along one axis as it convolutes. Strides is how far it moves each time and to just move one step yielded the best results. Sigmoid worked best as an activation because it is a logistic function so works well for our binary data. I have then used the dropout function to lower our chance of overfitting. It sets, at rate 0.5, input units to 0 at each update during training time. Then we pool using padding as 'same' so everything is padded to the same length here. Then flattening it back to 2 dimensions.\n",
    "Adding in squaring everything helped for predictions as values close to 1 got closer and those close to 0 got closer. Then from tutorials it always seemed a good idea to finish with dense."
   ]
  },
  {
   "cell_type": "code",
   "execution_count": 22,
   "metadata": {},
   "outputs": [
    {
     "name": "stdout",
     "output_type": "stream",
     "text": [
      "WARNING:tensorflow:From /usr/local/lib/python3.6/dist-packages/keras/backend/tensorflow_backend.py:3445: calling dropout (from tensorflow.python.ops.nn_ops) with keep_prob is deprecated and will be removed in a future version.\n",
      "Instructions for updating:\n",
      "Please use `rate` instead of `keep_prob`. Rate should be set to `rate = 1 - keep_prob`.\n"
     ]
    }
   ],
   "source": [
    "conv_model = Sequential()\n",
    "\n",
    "conv_model.add(Dense(128, input_dim=x_train.shape[1], activation='sigmoid'))\n",
    "conv_model.add(RepeatVector(3))\n",
    "\n",
    "\n",
    "# conv_model.add(Lambda(lambda x: x ** 3))\n",
    "\n",
    "# conv_model.add(Permute(2,1))\n",
    "\n",
    "conv_model.add(Conv1D(filters = 64, kernel_size = 3, strides = 1, activation ='sigmoid'))\n",
    "conv_model.add(Dropout(0.5))\n",
    "conv_model.add(MaxPooling1D(pool_size = 2, padding = 'same'))\n",
    "# conv_model.add(Conv1D(filters = 64, kernel_size = 3, activation ='linear'))\n",
    "# conv_model.add(LeakyReLU(alpha=0.1))\n",
    "# conv_model.add(MaxPooling1D(pool_size = 2, padding = 'same'))\n",
    "conv_model.add(Flatten())\n",
    "\n",
    "conv_model.add(Lambda(lambda x: x**2))\n",
    "\n",
    "conv_model.add(Dense(128, activation='sigmoid'))\n",
    "# conv_model.add(LeakyReLU(alpha=0.1))\n",
    "conv_model.add(Dropout(0.05))\n",
    "\n",
    "conv_model.add(Dense(units=1, activation='sigmoid'))"
   ]
  },
  {
   "cell_type": "code",
   "execution_count": 23,
   "metadata": {},
   "outputs": [
    {
     "name": "stdout",
     "output_type": "stream",
     "text": [
      "_________________________________________________________________\n",
      "Layer (type)                 Output Shape              Param #   \n",
      "=================================================================\n",
      "dense_4 (Dense)              (None, 128)               16512     \n",
      "_________________________________________________________________\n",
      "repeat_vector_1 (RepeatVecto (None, 3, 128)            0         \n",
      "_________________________________________________________________\n",
      "conv1d_1 (Conv1D)            (None, 1, 64)             24640     \n",
      "_________________________________________________________________\n",
      "dropout_1 (Dropout)          (None, 1, 64)             0         \n",
      "_________________________________________________________________\n",
      "max_pooling1d_1 (MaxPooling1 (None, 1, 64)             0         \n",
      "_________________________________________________________________\n",
      "flatten_1 (Flatten)          (None, 64)                0         \n",
      "_________________________________________________________________\n",
      "lambda_1 (Lambda)            (None, 64)                0         \n",
      "_________________________________________________________________\n",
      "dense_5 (Dense)              (None, 128)               8320      \n",
      "_________________________________________________________________\n",
      "dropout_2 (Dropout)          (None, 128)               0         \n",
      "_________________________________________________________________\n",
      "dense_6 (Dense)              (None, 1)                 129       \n",
      "=================================================================\n",
      "Total params: 49,601\n",
      "Trainable params: 49,601\n",
      "Non-trainable params: 0\n",
      "_________________________________________________________________\n"
     ]
    }
   ],
   "source": [
    "conv_model.summary()"
   ]
  },
  {
   "cell_type": "code",
   "execution_count": 24,
   "metadata": {},
   "outputs": [
    {
     "name": "stdout",
     "output_type": "stream",
     "text": [
      "Epoch 1/50\n",
      "17201/17201 [==============================] - 3s 201us/step - loss: 0.6909 - acc: 0.5250\n",
      "Epoch 2/50\n",
      "17201/17201 [==============================] - 3s 191us/step - loss: 0.6165 - acc: 0.6600\n",
      "Epoch 3/50\n",
      "17201/17201 [==============================] - 4s 214us/step - loss: 0.5291 - acc: 0.7330\n",
      "Epoch 4/50\n",
      "17201/17201 [==============================] - 3s 199us/step - loss: 0.4646 - acc: 0.7737\n",
      "Epoch 5/50\n",
      "17201/17201 [==============================] - 4s 213us/step - loss: 0.3961 - acc: 0.8088\n",
      "Epoch 6/50\n",
      "17201/17201 [==============================] - 3s 177us/step - loss: 0.3356 - acc: 0.8425\n",
      "Epoch 7/50\n",
      "17201/17201 [==============================] - 3s 149us/step - loss: 0.2756 - acc: 0.8718\n",
      "Epoch 8/50\n",
      "17201/17201 [==============================] - 3s 148us/step - loss: 0.2322 - acc: 0.8955\n",
      "Epoch 9/50\n",
      "17201/17201 [==============================] - 3s 148us/step - loss: 0.2062 - acc: 0.9062\n",
      "Epoch 10/50\n",
      "17201/17201 [==============================] - 3s 160us/step - loss: 0.1847 - acc: 0.9142\n",
      "Epoch 11/50\n",
      "17201/17201 [==============================] - 4s 234us/step - loss: 0.1686 - acc: 0.9213\n",
      "Epoch 12/50\n",
      "17201/17201 [==============================] - 3s 197us/step - loss: 0.1579 - acc: 0.9262\n",
      "Epoch 13/50\n",
      "17201/17201 [==============================] - 3s 157us/step - loss: 0.1567 - acc: 0.9262\n",
      "Epoch 14/50\n",
      "17201/17201 [==============================] - 4s 245us/step - loss: 0.1440 - acc: 0.9303\n",
      "Epoch 15/50\n",
      "17201/17201 [==============================] - 4s 223us/step - loss: 0.1356 - acc: 0.9342\n",
      "Epoch 16/50\n",
      "17201/17201 [==============================] - 3s 164us/step - loss: 0.1401 - acc: 0.9339\n",
      "Epoch 17/50\n",
      "17201/17201 [==============================] - 3s 147us/step - loss: 0.1300 - acc: 0.9388\n",
      "Epoch 18/50\n",
      "17201/17201 [==============================] - 3s 162us/step - loss: 0.1310 - acc: 0.9358\n",
      "Epoch 19/50\n",
      "17201/17201 [==============================] - 3s 166us/step - loss: 0.1266 - acc: 0.9374\n",
      "Epoch 20/50\n",
      "17201/17201 [==============================] - 2s 141us/step - loss: 0.1267 - acc: 0.9380\n",
      "Epoch 21/50\n",
      "17201/17201 [==============================] - 3s 178us/step - loss: 0.1224 - acc: 0.9384\n",
      "Epoch 22/50\n",
      "17201/17201 [==============================] - 4s 220us/step - loss: 0.1223 - acc: 0.9383\n",
      "Epoch 23/50\n",
      "17201/17201 [==============================] - 4s 238us/step - loss: 0.1208 - acc: 0.9420\n",
      "Epoch 24/50\n",
      "17201/17201 [==============================] - 4s 250us/step - loss: 0.1151 - acc: 0.9438\n",
      "Epoch 25/50\n",
      "17201/17201 [==============================] - 2s 135us/step - loss: 0.1146 - acc: 0.9431\n",
      "Epoch 26/50\n",
      "17201/17201 [==============================] - 3s 149us/step - loss: 0.1134 - acc: 0.9416\n",
      "Epoch 27/50\n",
      "17201/17201 [==============================] - 3s 177us/step - loss: 0.1105 - acc: 0.9455\n",
      "Epoch 28/50\n",
      "17201/17201 [==============================] - 3s 153us/step - loss: 0.1132 - acc: 0.9435\n",
      "Epoch 29/50\n",
      "17201/17201 [==============================] - 6s 353us/step - loss: 0.1099 - acc: 0.9426\n",
      "Epoch 30/50\n",
      "17201/17201 [==============================] - 3s 152us/step - loss: 0.1109 - acc: 0.9407\n",
      "Epoch 31/50\n",
      "17201/17201 [==============================] - 3s 161us/step - loss: 0.1108 - acc: 0.9422\n",
      "Epoch 32/50\n",
      "17201/17201 [==============================] - 3s 157us/step - loss: 0.1084 - acc: 0.9457\n",
      "Epoch 33/50\n",
      "17201/17201 [==============================] - 3s 186us/step - loss: 0.1011 - acc: 0.9484\n",
      "Epoch 34/50\n",
      "17201/17201 [==============================] - 3s 152us/step - loss: 0.1088 - acc: 0.9446\n",
      "Epoch 35/50\n",
      "17201/17201 [==============================] - 2s 134us/step - loss: 0.1015 - acc: 0.9487\n",
      "Epoch 36/50\n",
      "17201/17201 [==============================] - 2s 140us/step - loss: 0.1009 - acc: 0.9478\n",
      "Epoch 37/50\n",
      "17201/17201 [==============================] - 2s 120us/step - loss: 0.1001 - acc: 0.9484\n",
      "Epoch 38/50\n",
      "17201/17201 [==============================] - 2s 140us/step - loss: 0.0999 - acc: 0.9473\n",
      "Epoch 39/50\n",
      "17201/17201 [==============================] - 3s 153us/step - loss: 0.0983 - acc: 0.9490\n",
      "Epoch 40/50\n",
      "17201/17201 [==============================] - 2s 133us/step - loss: 0.0991 - acc: 0.9491\n",
      "Epoch 41/50\n",
      "17201/17201 [==============================] - 2s 129us/step - loss: 0.0973 - acc: 0.9501\n",
      "Epoch 42/50\n",
      "17201/17201 [==============================] - 2s 126us/step - loss: 0.0976 - acc: 0.9498\n",
      "Epoch 43/50\n",
      "17201/17201 [==============================] - 3s 159us/step - loss: 0.0946 - acc: 0.9506\n",
      "Epoch 44/50\n",
      "17201/17201 [==============================] - 3s 150us/step - loss: 0.0996 - acc: 0.9481\n",
      "Epoch 45/50\n",
      "17201/17201 [==============================] - 3s 153us/step - loss: 0.0952 - acc: 0.9499\n",
      "Epoch 46/50\n",
      "17201/17201 [==============================] - 3s 175us/step - loss: 0.0954 - acc: 0.9481\n",
      "Epoch 47/50\n",
      "17201/17201 [==============================] - 3s 159us/step - loss: 0.0963 - acc: 0.9494\n",
      "Epoch 48/50\n",
      "17201/17201 [==============================] - 3s 148us/step - loss: 0.0933 - acc: 0.9490\n",
      "Epoch 49/50\n",
      "17201/17201 [==============================] - 3s 169us/step - loss: 0.0917 - acc: 0.9528\n",
      "Epoch 50/50\n",
      "17201/17201 [==============================] - 3s 157us/step - loss: 0.0900 - acc: 0.9541\n"
     ]
    },
    {
     "data": {
      "text/plain": [
       "<keras.callbacks.History at 0x7f8baecf1588>"
      ]
     },
     "execution_count": 24,
     "metadata": {},
     "output_type": "execute_result"
    }
   ],
   "source": [
    "conv_model.compile(optimizer=Adam(), loss='binary_crossentropy', metrics=['accuracy'])\n",
    "# model.compile(optimizer=Adadelta(), loss='binary_crossentropy', metrics=['accuracy'])\n",
    "conv_model.fit(x_train, y_train, epochs=50, batch_size=64)"
   ]
  },
  {
   "cell_type": "code",
   "execution_count": 25,
   "metadata": {},
   "outputs": [
    {
     "name": "stdout",
     "output_type": "stream",
     "text": [
      "4301/4301 [==============================] - 1s 151us/step\n"
     ]
    },
    {
     "data": {
      "text/plain": [
       "[0.10007511853645136, 0.9493141129969774]"
      ]
     },
     "execution_count": 25,
     "metadata": {},
     "output_type": "execute_result"
    }
   ],
   "source": [
    "conv_model.evaluate(x_test,y_test)"
   ]
  },
  {
   "cell_type": "code",
   "execution_count": 26,
   "metadata": {},
   "outputs": [],
   "source": [
    "import pickle\n",
    "\n",
    "with open('../data/binary-convolutional','wb') as f:\n",
    "    pickle.dump(conv_model,f)"
   ]
  },
  {
   "cell_type": "code",
   "execution_count": 27,
   "metadata": {},
   "outputs": [],
   "source": [
    "y_predict_conv= conv_model.predict(x_test)"
   ]
  },
  {
   "cell_type": "code",
   "execution_count": 29,
   "metadata": {},
   "outputs": [
    {
     "data": {
      "image/png": "[encoded data removed]",
      "text/plain": [
       "<Figure size 360x216 with 2 Axes>"
      ]
     },
     "metadata": {
      "needs_background": "light"
     },
     "output_type": "display_data"
    }
   ],
   "source": [
    "confusion_matrix = pd.DataFrame(\n",
    "    data=metrics.confusion_matrix(y_test, np.rint(y_predict_conv)), \n",
    "    \n",
    ")\n",
    "\n",
    "confusion_figure, confusion_axes = matplotlib.pyplot.subplots()\n",
    "confusion_figure.set_size_inches(5, 3)\n",
    "confusion_axes.set_title(\n",
    "    'Confusion matrix showing the frequency of \\n'\n",
    "    'correct and incorrect bug classification predictions.'\n",
    "    '\\n\\n'  # hack to avoid overlap with x-axis labels below\n",
    ")\n",
    "confusion_axes.xaxis.tick_top()  # move x-axis labels to top of matrix\n",
    "_ = sns.heatmap(\n",
    "    confusion_matrix,\n",
    "    annot=True,\n",
    "    fmt=\"d\",\n",
    "    cmap=sns.color_palette(\"Blues\"),\n",
    "    vmin=0,\n",
    "    ax=confusion_axes,\n",
    ")"
   ]
  },
  {
   "cell_type": "code",
   "execution_count": 30,
   "metadata": {},
   "outputs": [],
   "source": [
    "tn, fp, fn, tp = metrics.confusion_matrix(y_test, np.rint(y_predict_conv)).flatten().tolist()\n",
    "\n",
    "fpr_cnn = fp/(fp+tp)\n",
    "fnr_cnn = fn/(fn+tn)"
   ]
  },
  {
   "cell_type": "code",
   "execution_count": 31,
   "metadata": {},
   "outputs": [
    {
     "data": {
      "text/plain": [
       "0.08096280087527352"
      ]
     },
     "execution_count": 31,
     "metadata": {},
     "output_type": "execute_result"
    }
   ],
   "source": [
    "fpr_cnn"
   ]
  },
  {
   "cell_type": "code",
   "execution_count": 32,
   "metadata": {},
   "outputs": [
    {
     "data": {
      "text/plain": [
       "0.01636904761904762"
      ]
     },
     "execution_count": 32,
     "metadata": {},
     "output_type": "execute_result"
    }
   ],
   "source": [
    "fnr_cnn"
   ]
  },
  {
   "cell_type": "code",
   "execution_count": 36,
   "metadata": {},
   "outputs": [],
   "source": [
    "from sklearn.metrics import roc_curve\n",
    "fpr_keras, tpr_keras, thresholds_keras = roc_curve((y_test.values+0), y_predict_conv)"
   ]
  },
  {
   "cell_type": "code",
   "execution_count": 37,
   "metadata": {},
   "outputs": [],
   "source": [
    "from sklearn.metrics import auc\n",
    "import matplotlib.pyplot as plt\n",
    "auc_keras = auc(fpr_keras, tpr_keras)"
   ]
  },
  {
   "cell_type": "code",
   "execution_count": 38,
   "metadata": {},
   "outputs": [
    {
     "data": {
      "image/png": "[encoded data removed]",
      "text/plain": [
       "<Figure size 432x288 with 1 Axes>"
      ]
     },
     "metadata": {
      "needs_background": "light"
     },
     "output_type": "display_data"
    },
    {
     "data": {
      "text/plain": [
       "<Figure size 432x288 with 0 Axes>"
      ]
     },
     "metadata": {},
     "output_type": "display_data"
    }
   ],
   "source": [
    "plt.plot(fpr_keras, tpr_keras, label='Keras (area = {:.3f})'.format(auc_keras))\n",
    "plt.xlabel('False positive rate')\n",
    "plt.ylabel('True positive rate')\n",
    "plt.title('ROC curve')\n",
    "plt.legend(loc='best')\n",
    "plt.show()\n",
    "plt.savefig('../images/baseline_roc_curve')"
   ]
  },
  {
   "cell_type": "code",
   "execution_count": null,
   "metadata": {},
   "outputs": [],
   "source": []
  }
 ],
 "metadata": {
  "kernelspec": {
   "display_name": "Python 3",
   "language": "python",
   "name": "python3"
  },
  "language_info": {
   "codemirror_mode": {
    "name": "ipython",
    "version": 3
   },
   "file_extension": ".py",
   "mimetype": "text/x-python",
   "name": "python",
   "nbconvert_exporter": "python",
   "pygments_lexer": "ipython3",
   "version": "3.6.8"
  },
  "toc": {
   "base_numbering": 1,
   "nav_menu": {},
   "number_sections": true,
   "sideBar": true,
   "skip_h1_title": false,
   "title_cell": "Table of Contents",
   "title_sidebar": "Contents",
   "toc_cell": false,
   "toc_position": {},
   "toc_section_display": true,
   "toc_window_display": false
  }
 },
 "nbformat": 4,
 "nbformat_minor": 2
}
