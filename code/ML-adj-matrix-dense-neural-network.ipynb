{
  "nbformat": 4,
  "nbformat_minor": 0,
  "metadata": {
    "accelerator": "TPU",
    "colab": {
      "name": "baseline-model-binary-adj-matrices.ipynb",
      "version": "0.3.2",
      "provenance": [],
      "toc_visible": true,
      "machine_shape": "hm"
    },
    "kernelspec": {
      "display_name": "Python 3",
      "language": "python",
      "name": "python3"
    },
    "language_info": {
      "codemirror_mode": {
        "name": "ipython",
        "version": 3
      },
      "file_extension": ".py",
      "mimetype": "text/x-python",
      "name": "python",
      "nbconvert_exporter": "python",
      "pygments_lexer": "ipython3",
      "version": "3.6.8"
    },
    "toc": {
      "base_numbering": 1,
      "nav_menu": {},
      "number_sections": true,
      "sideBar": true,
      "skip_h1_title": false,
      "title_cell": "Table of Contents",
      "title_sidebar": "Contents",
      "toc_cell": false,
      "toc_position": {},
      "toc_section_display": true,
      "toc_window_display": false
    }
  },
  "cells": [
    {
      "cell_type": "markdown",
      "metadata": {
        "colab_type": "text",
        "id": "WD7BVc9Bk8jQ"
      },
      "source": [
        "Notebook for training and testing a dense neural network model using an adjacency matrix represention of the buffer overflow datapoints in an AST format. \n",
        "\n",
        "First, the data is padded with zeros in a standardized format - from the right and down.\n",
        "\n",
        "Next, we incorporate random padding on the matrices in the testing dataset. \n",
        "\n",
        "Then, we randomly pad both the training and testing dataset.\n",
        "\n",
        "Finally, we train the model on randomly padded data and test on standardized padded data. "
      ]
    },
    {
      "cell_type": "markdown",
      "metadata": {
        "colab_type": "text",
        "id": "K4oesAZzmRhL"
      },
      "source": [
        "# Colab Setup"
      ]
    },
    {
      "cell_type": "code",
      "metadata": {
        "colab_type": "code",
        "id": "W3hzFsJWtCn-",
        "outputId": "87f61377-ec1d-43dd-f158-3f8b7b587617",
        "colab": {
          "base_uri": "https://localhost:8080/",
          "height": 1000
        }
      },
      "source": [
        "!mkdir -p /project/data && cd /project/data && wget -O adj.pickle https://github.com/dj311/uob-summer-project/raw/master/data/adj.pickle\n",
        "!mkdir -p /project/data && cd /project/data && wget -O buffer_overflow_data.csv.gz https://github.com/dj311/uob-summer-project/raw/master/data/buffer_overflow_data.csv.gz\n",
        "!mkdir -p /project/data && cd /project/data && wget -O adjacency-matrix-model-binary.pickle https://github.com/dj311/uob-summer-project/raw/master/data/adjacency-matrix-model-binary.pickle\n",
        "!mkdir -p /project/data && cd /project/data && wget -O feature_matrix.pickle https://github.com/dj311/uob-summer-project/raw/master/data/feature_matrix.pickle\n",
        "!mkdir -p /project/code\n",
        "%cd /project/code"
      ],
      "execution_count": 1,
      "outputs": [
        {
          "output_type": "stream",
          "text": [
            "--2019-08-29 12:04:39--  https://github.com/dj311/uob-summer-project/raw/master/data/adj.pickle\n",
            "Resolving github.com (github.com)... 140.82.113.3\n",
            "Connecting to github.com (github.com)|140.82.113.3|:443... connected.\n",
            "HTTP request sent, awaiting response... 302 Found\n",
            "Location: https://media.githubusercontent.com/media/dj311/uob-summer-project/master/data/adj.pickle [following]\n",
            "--2019-08-29 12:04:40--  https://media.githubusercontent.com/media/dj311/uob-summer-project/master/data/adj.pickle\n",
            "Resolving media.githubusercontent.com (media.githubusercontent.com)... 151.101.0.133, 151.101.64.133, 151.101.128.133, ...\n",
            "Connecting to media.githubusercontent.com (media.githubusercontent.com)|151.101.0.133|:443... connected.\n",
            "HTTP request sent, awaiting response... 200 OK\n",
            "Length: 1320521199 (1.2G) [application/octet-stream]\n",
            "Saving to: ‘adj.pickle’\n",
            "\n",
            "adj.pickle          100%[===================>]   1.23G   250MB/s    in 5.3s    \n",
            "\n",
            "2019-08-29 12:04:56 (239 MB/s) - ‘adj.pickle’ saved [1320521199/1320521199]\n",
            "\n",
            "--2019-08-29 12:04:59--  https://github.com/dj311/uob-summer-project/raw/master/data/buffer_overflow_data.csv.gz\n",
            "Resolving github.com (github.com)... 140.82.114.3\n",
            "Connecting to github.com (github.com)|140.82.114.3|:443... connected.\n",
            "HTTP request sent, awaiting response... 302 Found\n",
            "Location: https://media.githubusercontent.com/media/dj311/uob-summer-project/master/data/buffer_overflow_data.csv.gz [following]\n",
            "--2019-08-29 12:05:00--  https://media.githubusercontent.com/media/dj311/uob-summer-project/master/data/buffer_overflow_data.csv.gz\n",
            "Resolving media.githubusercontent.com (media.githubusercontent.com)... 151.101.0.133, 151.101.64.133, 151.101.128.133, ...\n",
            "Connecting to media.githubusercontent.com (media.githubusercontent.com)|151.101.0.133|:443... connected.\n",
            "HTTP request sent, awaiting response... 200 OK\n",
            "Length: 3008729 (2.9M) [application/octet-stream]\n",
            "Saving to: ‘buffer_overflow_data.csv.gz’\n",
            "\n",
            "buffer_overflow_dat 100%[===================>]   2.87M  --.-KB/s    in 0.07s   \n",
            "\n",
            "2019-08-29 12:05:00 (39.2 MB/s) - ‘buffer_overflow_data.csv.gz’ saved [3008729/3008729]\n",
            "\n",
            "--2019-08-29 12:05:01--  https://github.com/dj311/uob-summer-project/raw/master/data/adjacency-matrix-model-binary.pickle\n",
            "Resolving github.com (github.com)... 140.82.114.3\n",
            "Connecting to github.com (github.com)|140.82.114.3|:443... connected.\n",
            "HTTP request sent, awaiting response... 302 Found\n",
            "Location: https://media.githubusercontent.com/media/dj311/uob-summer-project/master/data/adjacency-matrix-model-binary.pickle [following]\n",
            "--2019-08-29 12:05:01--  https://media.githubusercontent.com/media/dj311/uob-summer-project/master/data/adjacency-matrix-model-binary.pickle\n",
            "Resolving media.githubusercontent.com (media.githubusercontent.com)... 151.101.0.133, 151.101.64.133, 151.101.128.133, ...\n",
            "Connecting to media.githubusercontent.com (media.githubusercontent.com)|151.101.0.133|:443... connected.\n",
            "HTTP request sent, awaiting response... 200 OK\n",
            "Length: 71124065 (68M) [application/octet-stream]\n",
            "Saving to: ‘adjacency-matrix-model-binary.pickle’\n",
            "\n",
            "adjacency-matrix-mo 100%[===================>]  67.83M   208MB/s    in 0.3s    \n",
            "\n",
            "2019-08-29 12:05:03 (208 MB/s) - ‘adjacency-matrix-model-binary.pickle’ saved [71124065/71124065]\n",
            "\n",
            "--2019-08-29 12:05:03--  https://github.com/dj311/uob-summer-project/raw/master/data/feature_matrix.pickle\n",
            "Resolving github.com (github.com)... 140.82.114.3\n",
            "Connecting to github.com (github.com)|140.82.114.3|:443... connected.\n",
            "HTTP request sent, awaiting response... 302 Found\n",
            "Location: https://media.githubusercontent.com/media/dj311/uob-summer-project/master/data/feature_matrix.pickle [following]\n",
            "--2019-08-29 12:05:03--  https://media.githubusercontent.com/media/dj311/uob-summer-project/master/data/feature_matrix.pickle\n",
            "Resolving media.githubusercontent.com (media.githubusercontent.com)... 151.101.0.133, 151.101.64.133, 151.101.128.133, ...\n",
            "Connecting to media.githubusercontent.com (media.githubusercontent.com)|151.101.0.133|:443... connected.\n",
            "HTTP request sent, awaiting response... 200 OK\n",
            "Length: 64502734 (62M) [application/octet-stream]\n",
            "Saving to: ‘feature_matrix.pickle’\n",
            "\n",
            "feature_matrix.pick 100%[===================>]  61.51M   209MB/s    in 0.3s    \n",
            "\n",
            "2019-08-29 12:05:05 (209 MB/s) - ‘feature_matrix.pickle’ saved [64502734/64502734]\n",
            "\n",
            "/project/code\n"
          ],
          "name": "stdout"
        }
      ]
    },
    {
      "cell_type": "markdown",
      "metadata": {
        "colab_type": "text",
        "id": "lO9-8NDKk8ja"
      },
      "source": [
        "# Import & Preprocess Dataset\n",
        "\n",
        "First we import the data from the [previous notebook](./adjacency_matrix.ipynb).\n"
      ]
    },
    {
      "cell_type": "code",
      "metadata": {
        "colab_type": "code",
        "id": "uB5QGgAgk8je",
        "outputId": "043fa1e0-17e3-4c6c-8e4e-719a8a8f31ad",
        "colab": {
          "base_uri": "https://localhost:8080/",
          "height": 34
        }
      },
      "source": [
        "import tensorflow as tf\n",
        "import keras\n",
        "import sklearn\n",
        "import numpy as np\n",
        "import pickle\n",
        "from scipy.sparse import csr_matrix, hstack, vstack\n",
        "from sklearn.model_selection import train_test_split\n",
        "\n",
        "run_opts = tf.RunOptions(report_tensor_allocations_upon_oom = True)\n",
        "np.random.seed(1248)\n",
        "\n",
        "tf.logging.set_verbosity(tf.logging.INFO)"
      ],
      "execution_count": 3,
      "outputs": [
        {
          "output_type": "stream",
          "text": [
            "Using TensorFlow backend.\n"
          ],
          "name": "stderr"
        }
      ]
    },
    {
      "cell_type": "code",
      "metadata": {
        "colab_type": "code",
        "id": "CGIbzYT0k8jz",
        "colab": {}
      },
      "source": [
        "import pandas as pd"
      ],
      "execution_count": 0,
      "outputs": []
    },
    {
      "cell_type": "code",
      "metadata": {
        "colab_type": "code",
        "id": "NQwMY_iLk8kC",
        "colab": {}
      },
      "source": [
        "data = pd.read_csv('../data/buffer_overflow_data.csv.gz')"
      ],
      "execution_count": 0,
      "outputs": []
    },
    {
      "cell_type": "code",
      "metadata": {
        "colab_type": "code",
        "id": "76z9869-k8kQ",
        "colab": {}
      },
      "source": [
        "labels = data.copy()\n",
        "del labels['Unnamed: 0']\n",
        "del labels['Unnamed: 0.1']\n",
        "del labels['filename']\n",
        "del labels['code']\n",
        "del labels['flaw']\n",
        "del labels['flaw_loc']\n",
        "labels = labels.drop_duplicates().sort_values('testcase_ID').reset_index(drop=True)"
      ],
      "execution_count": 0,
      "outputs": []
    },
    {
      "cell_type": "code",
      "metadata": {
        "colab_type": "code",
        "id": "AyqJFOtWk8kg",
        "colab": {}
      },
      "source": [
        "with open(\"../data/adj.pickle\",'rb') as f:\n",
        "    adj = pickle.load(f)"
      ],
      "execution_count": 0,
      "outputs": []
    },
    {
      "cell_type": "code",
      "metadata": {
        "colab_type": "code",
        "id": "PHikMdozk8k1",
        "colab": {}
      },
      "source": [
        "adj = adj.rename(columns={0: 'testcase_ID', 1: 'adjacency_matrix'})"
      ],
      "execution_count": 0,
      "outputs": []
    },
    {
      "cell_type": "code",
      "metadata": {
        "colab_type": "code",
        "id": "pIdnRsBjk8k-",
        "colab": {}
      },
      "source": [
        "adj_orig_df = pd.merge(labels, adj, on='testcase_ID')"
      ],
      "execution_count": 0,
      "outputs": []
    },
    {
      "cell_type": "code",
      "metadata": {
        "colab_type": "code",
        "id": "s-qHa46Vk8lK",
        "colab": {}
      },
      "source": [
        "adj_orig_df = adj_orig_df[['testcase_ID', 'adjacency_matrix', 'bug']]"
      ],
      "execution_count": 0,
      "outputs": []
    },
    {
      "cell_type": "markdown",
      "metadata": {
        "colab_type": "text",
        "id": "qB06ooxxo--s"
      },
      "source": [
        "Next, find out the maximum size of an adjacency matrix, then convert all matrices to have the same dimension."
      ]
    },
    {
      "cell_type": "code",
      "metadata": {
        "colab_type": "code",
        "id": "HNY1UrHJk8lg",
        "colab": {}
      },
      "source": [
        "adj_orig_df['matrix_size'] = adj_orig_df.adjacency_matrix.apply(lambda x: x.shape[0])"
      ],
      "execution_count": 0,
      "outputs": []
    },
    {
      "cell_type": "code",
      "metadata": {
        "colab_type": "code",
        "id": "p6zGXUxbk8l1",
        "outputId": "673a5c0e-79be-4007-8a44-1e5a1608500d",
        "colab": {
          "base_uri": "https://localhost:8080/",
          "height": 170
        }
      },
      "source": [
        "adj_orig_df['matrix_size'].describe()"
      ],
      "execution_count": 12,
      "outputs": [
        {
          "output_type": "execute_result",
          "data": {
            "text/plain": [
              "count    21502.000000\n",
              "mean      2186.138778\n",
              "std       7239.752920\n",
              "min          4.000000\n",
              "25%        349.000000\n",
              "50%        396.000000\n",
              "75%        614.000000\n",
              "max      44401.000000\n",
              "Name: matrix_size, dtype: float64"
            ]
          },
          "metadata": {
            "tags": []
          },
          "execution_count": 12
        }
      ]
    },
    {
      "cell_type": "markdown",
      "metadata": {
        "colab_type": "text",
        "id": "VlN1pb2SJW2i"
      },
      "source": [
        "So we know that 75% of the dataset has a matrix size <= 614, which is approximately 18000 datapoints. Picking the full dataset would require matrices of dimension 44401x44401 which require 15 gb of memory each. This is isn't feasible, however picking matrices of size 614x614 or less gives a per matrix size of 3.38mb - far more manageable!"
      ]
    },
    {
      "cell_type": "code",
      "metadata": {
        "colab_type": "code",
        "id": "JXR174VPKKzR",
        "outputId": "0917dc52-98e7-4e9c-82f4-844a49c58ffb",
        "colab": {
          "base_uri": "https://localhost:8080/",
          "height": 34
        }
      },
      "source": [
        "matrix_size = 614\n",
        "adj_orig_df = adj_orig_df[adj_orig_df['matrix_size'] <= matrix_size]\n",
        "len(adj_orig_df)"
      ],
      "execution_count": 13,
      "outputs": [
        {
          "output_type": "execute_result",
          "data": {
            "text/plain": [
              "16128"
            ]
          },
          "metadata": {
            "tags": []
          },
          "execution_count": 13
        }
      ]
    },
    {
      "cell_type": "code",
      "metadata": {
        "id": "txK_dd7JPFkZ",
        "colab_type": "code",
        "colab": {}
      },
      "source": [
        "adj_df = adj_orig_df.copy()"
      ],
      "execution_count": 0,
      "outputs": []
    },
    {
      "cell_type": "code",
      "metadata": {
        "colab_type": "code",
        "id": "MCV9Vwupk8mI",
        "colab": {}
      },
      "source": [
        "def bottom_right_matrix_size_corrector(matrix, target_rows, target_columns):\n",
        "    '''Pads matrix with zeros to the desired size'''\n",
        "    \n",
        "    rows, columns = matrix.shape[0], matrix.shape[1]\n",
        "    \n",
        "    row_corrector = csr_matrix((target_rows-rows, columns))\n",
        "    col_corrector = csr_matrix((target_rows, target_columns-columns))\n",
        "\n",
        "    matrix = vstack([matrix, row_corrector])\n",
        "    matrix = hstack([matrix, col_corrector])\n",
        "\n",
        "    matrix = matrix.astype(np.int)\n",
        "    \n",
        "    return matrix "
      ],
      "execution_count": 0,
      "outputs": []
    },
    {
      "cell_type": "code",
      "metadata": {
        "colab_type": "code",
        "id": "yI1YFNQMk8mp",
        "colab": {}
      },
      "source": [
        "adj_df['adjacency_matrix'] = adj_df['adjacency_matrix'].apply(lambda m: bottom_right_matrix_size_corrector(m, matrix_size, matrix_size))"
      ],
      "execution_count": 0,
      "outputs": []
    },
    {
      "cell_type": "markdown",
      "metadata": {
        "colab_type": "text",
        "id": "_lrFCpTeWNNk"
      },
      "source": [
        "Next we load in the feature matrices:"
      ]
    },
    {
      "cell_type": "code",
      "metadata": {
        "colab_type": "code",
        "id": "u2WAylC-WMu7",
        "colab": {}
      },
      "source": [
        "with open(\"../data/feature_matrix.pickle\", \"rb\") as f:\n",
        "    feature_matrix = pickle.load(f)\n",
        "\n",
        "feature_matrix.columns = ['testcase_ID', 'feature_matrix']"
      ],
      "execution_count": 0,
      "outputs": []
    },
    {
      "cell_type": "code",
      "metadata": {
        "colab_type": "code",
        "id": "rcFPwlU2fXgl",
        "colab": {}
      },
      "source": [
        "num_features = 55"
      ],
      "execution_count": 0,
      "outputs": []
    },
    {
      "cell_type": "code",
      "metadata": {
        "colab_type": "code",
        "id": "G72pK1NiXZz9",
        "colab": {}
      },
      "source": [
        "adj_feat_df = pd.merge(feature_matrix, adj_df, on='testcase_ID')"
      ],
      "execution_count": 0,
      "outputs": []
    },
    {
      "cell_type": "code",
      "metadata": {
        "colab_type": "code",
        "id": "rPKL7-DIe0PC",
        "colab": {}
      },
      "source": [
        "adj_feat_df['feature_matrix'] = adj_feat_df['feature_matrix'].apply(lambda m: bottom_right_matrix_size_corrector(m, matrix_size, num_features))\n"
      ],
      "execution_count": 0,
      "outputs": []
    },
    {
      "cell_type": "code",
      "metadata": {
        "colab_type": "code",
        "id": "zy8qe3IdrKml",
        "colab": {}
      },
      "source": [
        "testcase_ids = adj_feat_df['testcase_ID'].values\n",
        "adjacency_matrices = adj_feat_df['adjacency_matrix'].values\n",
        "feature_matrices = adj_feat_df['feature_matrix'].values\n",
        "labels = adj_feat_df['bug'].values"
      ],
      "execution_count": 0,
      "outputs": []
    },
    {
      "cell_type": "markdown",
      "metadata": {
        "colab_type": "text",
        "id": "ga6SW3_qpF80"
      },
      "source": [
        "Now we have a dataframe for each testcase with a sparse representation of its AST in the matrix column, each normalised to matrix_size x matrix_size in size.\n",
        "  \n",
        "\n"
      ]
    },
    {
      "cell_type": "markdown",
      "metadata": {
        "colab_type": "text",
        "id": "W8rFgat6TFnc"
      },
      "source": [
        "Finally, we generate the train and test splits:"
      ]
    },
    {
      "cell_type": "code",
      "metadata": {
        "colab_type": "code",
        "id": "cxO5J1xySMDV",
        "colab": {}
      },
      "source": [
        "adj_train, adj_test, feat_train, feat_test, labels_train, labels_test = train_test_split(adjacency_matrices, feature_matrices, labels, test_size=0.2, random_state=0)"
      ],
      "execution_count": 0,
      "outputs": []
    },
    {
      "cell_type": "markdown",
      "metadata": {
        "colab_type": "text",
        "id": "yXrUMkzYSgUz"
      },
      "source": [
        "Storing all of these matrices in a dense representation at once might cause memory issues. To avoid this, we write a class which generates dense matrices for each of the training batches. \n",
        "\n",
        "We also perform the element wrapping as part of this process (since we can't perform it on the sparse arrays, I think)."
      ]
    },
    {
      "cell_type": "code",
      "metadata": {
        "colab_type": "code",
        "id": "dBPBYHNJxm-D",
        "colab": {}
      },
      "source": [
        "class SparseToDenseGenerator(keras.utils.Sequence):\n",
        "\n",
        "    def __init__(self, sparse_adjs, sparse_feats, labels, batch_size):\n",
        "        self.sparse_adjs = sparse_adjs\n",
        "        self.sparse_feats = sparse_feats\n",
        "        self.labels = labels\n",
        "        self.batch_size = batch_size\n",
        "\n",
        "    def __len__(self):\n",
        "        return int(np.ceil(len(self.labels) / float(self.batch_size)))\n",
        "\n",
        "    def __getitem__(self, batch_num):\n",
        "        start_index = batch_num * self.batch_size\n",
        "        end_index = (batch_num + 1) * self.batch_size\n",
        "        \n",
        "        batch_sparse_adjs = self.sparse_adjs[start_index:end_index]\n",
        "        batch_sparse_feats = self.sparse_feats[start_index:end_index]\n",
        "        batch_labels = self.labels[start_index:end_index]\n",
        "        \n",
        "        batch_dense_adjs = np.array([sparse_matrix.todense() for sparse_matrix in batch_sparse_adjs])\n",
        "        batch_dense_feats = np.array([sparse_matrix.todense() for sparse_matrix in batch_sparse_feats])\n",
        "        \n",
        "        # TODO: move this somewhere better\n",
        "        # Conv2D requires an extra dimension for \"channels\", so we need to convert our data from\n",
        "        # the shape (batch_size, matrix_rows, matrix_columns)\n",
        "        # to (batch_size, matrix_rows, matrix_columns, 1)\n",
        "        batch_dense_adjs = np.reshape(batch_dense_adjs, batch_dense_adjs.shape + (1, ))\n",
        "        batch_dense_feats = np.reshape(batch_dense_feats, batch_dense_feats.shape + (1, ))\n",
        "\n",
        "        return [batch_dense_feats], np.array(batch_labels)"
      ],
      "execution_count": 0,
      "outputs": []
    },
    {
      "cell_type": "markdown",
      "metadata": {
        "colab_type": "text",
        "id": "nda-Xjsjk8ng"
      },
      "source": [
        "# Model"
      ]
    },
    {
      "cell_type": "code",
      "metadata": {
        "colab_type": "code",
        "id": "KqlHfs2Kk8ni",
        "scrolled": true,
        "colab": {}
      },
      "source": [
        "from keras.layers import Dense, Dropout, Flatten, Reshape, Activation\n",
        "from keras.layers import Conv1D, MaxPooling1D, Conv2D, GlobalMaxPooling2D, MaxPooling2D, Convolution2D\n",
        "from keras.models import Sequential\n",
        "from keras.layers.normalization import BatchNormalization\n",
        "from keras.layers.advanced_activations import LeakyReLU\n",
        "from keras.optimizers import RMSprop, Adadelta, Adam\n",
        "from keras.utils import np_utils\n",
        "from keras import backend as K"
      ],
      "execution_count": 0,
      "outputs": []
    },
    {
      "cell_type": "code",
      "metadata": {
        "colab_type": "code",
        "id": "kmlCQ77P3itE",
        "outputId": "93d921c2-a3af-4789-9a53-5620ca6d6e1a",
        "colab": {
          "base_uri": "https://localhost:8080/",
          "height": 34
        }
      },
      "source": [
        "batch_size = 96\n",
        "epochs = 5\n",
        "num_samples = len(labels)\n",
        "num_features = feature_matrices[0].shape[1]\n",
        "\n",
        "datapoint_shape = (matrix_size, matrix_size, )\n",
        "batch_shape = (batch_size, ) + datapoint_shape\n",
        "\n",
        "steps_per_epoch = int(np.ceil(num_samples/batch_size))\n",
        "\n",
        "kernel_size = (2, 2)\n",
        "strides = max(kernel_size[0] // 3, 1)\n",
        "\n",
        "batch_size, epochs, num_samples, datapoint_shape, batch_shape, steps_per_epoch, kernel_size, strides"
      ],
      "execution_count": 25,
      "outputs": [
        {
          "output_type": "execute_result",
          "data": {
            "text/plain": [
              "(96, 5, 16128, (614, 614), (96, 614, 614), 168, (2, 2), 1)"
            ]
          },
          "metadata": {
            "tags": []
          },
          "execution_count": 25
        }
      ]
    },
    {
      "cell_type": "code",
      "metadata": {
        "colab_type": "code",
        "id": "jqbgjhJGrEJm",
        "colab": {}
      },
      "source": [
        "num_features = 614"
      ],
      "execution_count": 0,
      "outputs": []
    },
    {
      "cell_type": "code",
      "metadata": {
        "colab_type": "code",
        "id": "HOcYLINbqv3r",
        "colab": {}
      },
      "source": [
        "feat_train = adj_train\n",
        "\n",
        "feat_test = adj_test"
      ],
      "execution_count": 0,
      "outputs": []
    },
    {
      "cell_type": "markdown",
      "metadata": {
        "colab_type": "text",
        "id": "OtCtHVIxqvtJ"
      },
      "source": [
        ""
      ]
    },
    {
      "cell_type": "code",
      "metadata": {
        "colab_type": "code",
        "id": "a1aVESBAk8nu",
        "outputId": "180ef0e6-6eef-4fc4-f7a3-39a1062f5efb",
        "colab": {
          "base_uri": "https://localhost:8080/",
          "height": 510
        }
      },
      "source": [
        "features_input = keras.layers.Input(shape=(matrix_size, num_features, 1))\n",
        "\n",
        "f_flatten = Flatten(data_format='channels_last')(features_input)\n",
        "\n",
        "f_dense1 = Dense(units=20, activation='relu')(f_flatten)\n",
        "f_dense2 = Dense(units=20, activation='relu')(f_dense1)\n",
        "f_dense3 = Dense(units=20, activation='relu')(f_dense2)\n",
        "f_dense4 = Dense(units=20, activation='relu')(f_dense3)\n",
        "f_dense5 = Dense(units=20, activation='relu')(f_dense4)\n",
        "\n",
        "dense_input = keras.models.Model(inputs = features_input, outputs= f_dense5)\n",
        "\n",
        "# Combine outputs of both networks via a set of dense, linear layers\n",
        "# concat = keras.layers.concatenate(inputs=[conv_model.output ,dense_input.output])\n",
        "c_dense1 =  Dense(units=20, activation='relu')(f_dense5)\n",
        "c_dense2 =  Dense(units=20, activation='relu')(c_dense1)\n",
        "c_dense3 =  Dense(units=20, activation='relu')(c_dense2)\n",
        "c_dense3 =  Dense(units=20, activation='relu')(c_dense2)\n",
        "c_dense3 =  Dense(units=20, activation='relu')(c_dense2)\n",
        "c_dense3 =  Dense(units=20, activation='relu')(c_dense2)\n",
        "c_dense3 =  Dense(units=20, activation='relu')(c_dense2)\n",
        "c_dense3 =  Dense(units=20, activation='relu')(c_dense2)\n",
        "\n",
        "# Dropout and final output layer\n",
        "c_output = Dense(units=1, activation='sigmoid')(c_dense3)\n",
        "\n",
        "model = keras.models.Model(inputs=dense_input.input, outputs=c_output)\n",
        "\n",
        "model.compile(optimizer=Adam(), loss='binary_crossentropy', metrics=['accuracy'])\n",
        "\n",
        "model.summary()"
      ],
      "execution_count": 51,
      "outputs": [
        {
          "output_type": "stream",
          "text": [
            "_________________________________________________________________\n",
            "Layer (type)                 Output Shape              Param #   \n",
            "=================================================================\n",
            "input_2 (InputLayer)         (None, 614, 614, 1)       0         \n",
            "_________________________________________________________________\n",
            "flatten_2 (Flatten)          (None, 376996)            0         \n",
            "_________________________________________________________________\n",
            "dense_15 (Dense)             (None, 20)                7539940   \n",
            "_________________________________________________________________\n",
            "dense_16 (Dense)             (None, 20)                420       \n",
            "_________________________________________________________________\n",
            "dense_17 (Dense)             (None, 20)                420       \n",
            "_________________________________________________________________\n",
            "dense_18 (Dense)             (None, 20)                420       \n",
            "_________________________________________________________________\n",
            "dense_19 (Dense)             (None, 20)                420       \n",
            "_________________________________________________________________\n",
            "dense_20 (Dense)             (None, 20)                420       \n",
            "_________________________________________________________________\n",
            "dense_21 (Dense)             (None, 20)                420       \n",
            "_________________________________________________________________\n",
            "dense_27 (Dense)             (None, 20)                420       \n",
            "_________________________________________________________________\n",
            "dense_28 (Dense)             (None, 1)                 21        \n",
            "=================================================================\n",
            "Total params: 7,542,901\n",
            "Trainable params: 7,542,901\n",
            "Non-trainable params: 0\n",
            "_________________________________________________________________\n"
          ],
          "name": "stdout"
        }
      ]
    },
    {
      "cell_type": "code",
      "metadata": {
        "id": "X0dam07pPFkn",
        "colab_type": "code",
        "colab": {
          "base_uri": "https://localhost:8080/",
          "height": 1000
        },
        "outputId": "a19663ba-5fbb-4ea3-96dd-965e2116a314"
      },
      "source": [
        "import keras\n",
        "import pydot as pyd\n",
        "from IPython.display import SVG\n",
        "from keras.utils.vis_utils import model_to_dot\n",
        "\n",
        "keras.utils.vis_utils.pydot = pyd\n",
        "\n",
        "def visualize_model(model):\n",
        "  return model_to_dot(model).create(prog='dot', format='svg')\n",
        "\n",
        "model_diagram = visualize_model(model)\n",
        "\n",
        "with open('../images/adj-feat-architecture-dnn.svg', 'wb') as f:\n",
        "    f.write(model_diagram)\n",
        "\n",
        "SVG(model_diagram)"
      ],
      "execution_count": 52,
      "outputs": [
        {
          "output_type": "execute_result",
          "data": {
            "text/plain": [
              "<IPython.core.display.SVG object>"
            ],
            "image/svg+xml": "<svg height=\"775pt\" viewBox=\"0.00 0.00 141.00 775.00\" width=\"141pt\" xmlns=\"http://www.w3.org/2000/svg\" xmlns:xlink=\"http://www.w3.org/1999/xlink\">\n<g class=\"graph\" id=\"graph0\" transform=\"scale(1 1) rotate(0) translate(4 771)\">\n<title>G</title>\n<polygon fill=\"#ffffff\" points=\"-4,4 -4,-771 137,-771 137,4 -4,4\" stroke=\"transparent\"/>\n<!-- 140676372432544 -->\n<g class=\"node\" id=\"node1\">\n<title>140676372432544</title>\n<polygon fill=\"none\" points=\"0,-730.5 0,-766.5 133,-766.5 133,-730.5 0,-730.5\" stroke=\"#000000\"/>\n<text fill=\"#000000\" font-family=\"Times,serif\" font-size=\"14.00\" text-anchor=\"middle\" x=\"66.5\" y=\"-744.8\">input_2: InputLayer</text>\n</g>\n<!-- 140676372432656 -->\n<g class=\"node\" id=\"node2\">\n<title>140676372432656</title>\n<polygon fill=\"none\" points=\"10,-657.5 10,-693.5 123,-693.5 123,-657.5 10,-657.5\" stroke=\"#000000\"/>\n<text fill=\"#000000\" font-family=\"Times,serif\" font-size=\"14.00\" text-anchor=\"middle\" x=\"66.5\" y=\"-671.8\">flatten_2: Flatten</text>\n</g>\n<!-- 140676372432544&#45;&gt;140676372432656 -->\n<g class=\"edge\" id=\"edge1\">\n<title>140676372432544-&gt;140676372432656</title>\n<path d=\"M66.5,-730.4551C66.5,-722.3828 66.5,-712.6764 66.5,-703.6817\" fill=\"none\" stroke=\"#000000\"/>\n<polygon fill=\"#000000\" points=\"70.0001,-703.5903 66.5,-693.5904 63.0001,-703.5904 70.0001,-703.5903\" stroke=\"#000000\"/>\n</g>\n<!-- 140676372432992 -->\n<g class=\"node\" id=\"node3\">\n<title>140676372432992</title>\n<polygon fill=\"none\" points=\"9.5,-584.5 9.5,-620.5 123.5,-620.5 123.5,-584.5 9.5,-584.5\" stroke=\"#000000\"/>\n<text fill=\"#000000\" font-family=\"Times,serif\" font-size=\"14.00\" text-anchor=\"middle\" x=\"66.5\" y=\"-598.8\">dense_15: Dense</text>\n</g>\n<!-- 140676372432656&#45;&gt;140676372432992 -->\n<g class=\"edge\" id=\"edge2\">\n<title>140676372432656-&gt;140676372432992</title>\n<path d=\"M66.5,-657.4551C66.5,-649.3828 66.5,-639.6764 66.5,-630.6817\" fill=\"none\" stroke=\"#000000\"/>\n<polygon fill=\"#000000\" points=\"70.0001,-630.5903 66.5,-620.5904 63.0001,-630.5904 70.0001,-630.5903\" stroke=\"#000000\"/>\n</g>\n<!-- 140676372433440 -->\n<g class=\"node\" id=\"node4\">\n<title>140676372433440</title>\n<polygon fill=\"none\" points=\"9.5,-511.5 9.5,-547.5 123.5,-547.5 123.5,-511.5 9.5,-511.5\" stroke=\"#000000\"/>\n<text fill=\"#000000\" font-family=\"Times,serif\" font-size=\"14.00\" text-anchor=\"middle\" x=\"66.5\" y=\"-525.8\">dense_16: Dense</text>\n</g>\n<!-- 140676372432992&#45;&gt;140676372433440 -->\n<g class=\"edge\" id=\"edge3\">\n<title>140676372432992-&gt;140676372433440</title>\n<path d=\"M66.5,-584.4551C66.5,-576.3828 66.5,-566.6764 66.5,-557.6817\" fill=\"none\" stroke=\"#000000\"/>\n<polygon fill=\"#000000\" points=\"70.0001,-557.5903 66.5,-547.5904 63.0001,-557.5904 70.0001,-557.5903\" stroke=\"#000000\"/>\n</g>\n<!-- 140676372448312 -->\n<g class=\"node\" id=\"node5\">\n<title>140676372448312</title>\n<polygon fill=\"none\" points=\"9.5,-438.5 9.5,-474.5 123.5,-474.5 123.5,-438.5 9.5,-438.5\" stroke=\"#000000\"/>\n<text fill=\"#000000\" font-family=\"Times,serif\" font-size=\"14.00\" text-anchor=\"middle\" x=\"66.5\" y=\"-452.8\">dense_17: Dense</text>\n</g>\n<!-- 140676372433440&#45;&gt;140676372448312 -->\n<g class=\"edge\" id=\"edge4\">\n<title>140676372433440-&gt;140676372448312</title>\n<path d=\"M66.5,-511.4551C66.5,-503.3828 66.5,-493.6764 66.5,-484.6817\" fill=\"none\" stroke=\"#000000\"/>\n<polygon fill=\"#000000\" points=\"70.0001,-484.5903 66.5,-474.5904 63.0001,-484.5904 70.0001,-484.5903\" stroke=\"#000000\"/>\n</g>\n<!-- 140676372468848 -->\n<g class=\"node\" id=\"node6\">\n<title>140676372468848</title>\n<polygon fill=\"none\" points=\"9.5,-365.5 9.5,-401.5 123.5,-401.5 123.5,-365.5 9.5,-365.5\" stroke=\"#000000\"/>\n<text fill=\"#000000\" font-family=\"Times,serif\" font-size=\"14.00\" text-anchor=\"middle\" x=\"66.5\" y=\"-379.8\">dense_18: Dense</text>\n</g>\n<!-- 140676372448312&#45;&gt;140676372468848 -->\n<g class=\"edge\" id=\"edge5\">\n<title>140676372448312-&gt;140676372468848</title>\n<path d=\"M66.5,-438.4551C66.5,-430.3828 66.5,-420.6764 66.5,-411.6817\" fill=\"none\" stroke=\"#000000\"/>\n<polygon fill=\"#000000\" points=\"70.0001,-411.5903 66.5,-401.5904 63.0001,-411.5904 70.0001,-411.5903\" stroke=\"#000000\"/>\n</g>\n<!-- 140676372514464 -->\n<g class=\"node\" id=\"node7\">\n<title>140676372514464</title>\n<polygon fill=\"none\" points=\"9.5,-292.5 9.5,-328.5 123.5,-328.5 123.5,-292.5 9.5,-292.5\" stroke=\"#000000\"/>\n<text fill=\"#000000\" font-family=\"Times,serif\" font-size=\"14.00\" text-anchor=\"middle\" x=\"66.5\" y=\"-306.8\">dense_19: Dense</text>\n</g>\n<!-- 140676372468848&#45;&gt;140676372514464 -->\n<g class=\"edge\" id=\"edge6\">\n<title>140676372468848-&gt;140676372514464</title>\n<path d=\"M66.5,-365.4551C66.5,-357.3828 66.5,-347.6764 66.5,-338.6817\" fill=\"none\" stroke=\"#000000\"/>\n<polygon fill=\"#000000\" points=\"70.0001,-338.5903 66.5,-328.5904 63.0001,-338.5904 70.0001,-338.5903\" stroke=\"#000000\"/>\n</g>\n<!-- 140676372593408 -->\n<g class=\"node\" id=\"node8\">\n<title>140676372593408</title>\n<polygon fill=\"none\" points=\"9.5,-219.5 9.5,-255.5 123.5,-255.5 123.5,-219.5 9.5,-219.5\" stroke=\"#000000\"/>\n<text fill=\"#000000\" font-family=\"Times,serif\" font-size=\"14.00\" text-anchor=\"middle\" x=\"66.5\" y=\"-233.8\">dense_20: Dense</text>\n</g>\n<!-- 140676372514464&#45;&gt;140676372593408 -->\n<g class=\"edge\" id=\"edge7\">\n<title>140676372514464-&gt;140676372593408</title>\n<path d=\"M66.5,-292.4551C66.5,-284.3828 66.5,-274.6764 66.5,-265.6817\" fill=\"none\" stroke=\"#000000\"/>\n<polygon fill=\"#000000\" points=\"70.0001,-265.5903 66.5,-255.5904 63.0001,-265.5904 70.0001,-265.5903\" stroke=\"#000000\"/>\n</g>\n<!-- 140676372610688 -->\n<g class=\"node\" id=\"node9\">\n<title>140676372610688</title>\n<polygon fill=\"none\" points=\"9.5,-146.5 9.5,-182.5 123.5,-182.5 123.5,-146.5 9.5,-146.5\" stroke=\"#000000\"/>\n<text fill=\"#000000\" font-family=\"Times,serif\" font-size=\"14.00\" text-anchor=\"middle\" x=\"66.5\" y=\"-160.8\">dense_21: Dense</text>\n</g>\n<!-- 140676372593408&#45;&gt;140676372610688 -->\n<g class=\"edge\" id=\"edge8\">\n<title>140676372593408-&gt;140676372610688</title>\n<path d=\"M66.5,-219.4551C66.5,-211.3828 66.5,-201.6764 66.5,-192.6817\" fill=\"none\" stroke=\"#000000\"/>\n<polygon fill=\"#000000\" points=\"70.0001,-192.5903 66.5,-182.5904 63.0001,-192.5904 70.0001,-192.5903\" stroke=\"#000000\"/>\n</g>\n<!-- 140676372246480 -->\n<g class=\"node\" id=\"node10\">\n<title>140676372246480</title>\n<polygon fill=\"none\" points=\"9.5,-73.5 9.5,-109.5 123.5,-109.5 123.5,-73.5 9.5,-73.5\" stroke=\"#000000\"/>\n<text fill=\"#000000\" font-family=\"Times,serif\" font-size=\"14.00\" text-anchor=\"middle\" x=\"66.5\" y=\"-87.8\">dense_27: Dense</text>\n</g>\n<!-- 140676372610688&#45;&gt;140676372246480 -->\n<g class=\"edge\" id=\"edge9\">\n<title>140676372610688-&gt;140676372246480</title>\n<path d=\"M66.5,-146.4551C66.5,-138.3828 66.5,-128.6764 66.5,-119.6817\" fill=\"none\" stroke=\"#000000\"/>\n<polygon fill=\"#000000\" points=\"70.0001,-119.5903 66.5,-109.5904 63.0001,-119.5904 70.0001,-119.5903\" stroke=\"#000000\"/>\n</g>\n<!-- 140676372289912 -->\n<g class=\"node\" id=\"node11\">\n<title>140676372289912</title>\n<polygon fill=\"none\" points=\"9.5,-.5 9.5,-36.5 123.5,-36.5 123.5,-.5 9.5,-.5\" stroke=\"#000000\"/>\n<text fill=\"#000000\" font-family=\"Times,serif\" font-size=\"14.00\" text-anchor=\"middle\" x=\"66.5\" y=\"-14.8\">dense_28: Dense</text>\n</g>\n<!-- 140676372246480&#45;&gt;140676372289912 -->\n<g class=\"edge\" id=\"edge10\">\n<title>140676372246480-&gt;140676372289912</title>\n<path d=\"M66.5,-73.4551C66.5,-65.3828 66.5,-55.6764 66.5,-46.6817\" fill=\"none\" stroke=\"#000000\"/>\n<polygon fill=\"#000000\" points=\"70.0001,-46.5903 66.5,-36.5904 63.0001,-46.5904 70.0001,-46.5903\" stroke=\"#000000\"/>\n</g>\n</g>\n</svg>"
          },
          "metadata": {
            "tags": []
          },
          "execution_count": 52
        }
      ]
    },
    {
      "cell_type": "markdown",
      "metadata": {
        "id": "ooE6-ZglSCGv",
        "colab_type": "text"
      },
      "source": [
        "It takes about 10 mins"
      ]
    },
    {
      "cell_type": "code",
      "metadata": {
        "id": "2vg7s-Z5TQEm",
        "colab_type": "code",
        "colab": {
          "base_uri": "https://localhost:8080/",
          "height": 187
        },
        "outputId": "04a31c44-6ec7-433d-cba1-edab6e576c4c"
      },
      "source": [
        "training_batch_generator = SparseToDenseGenerator(adj_train, feat_train, labels_train, batch_size)\n",
        "val_batch_generator = SparseToDenseGenerator(adj_test, feat_test, labels_test, batch_size)\n",
        "\n",
        "history = model.fit_generator(\n",
        "    generator=training_batch_generator,\n",
        "    validation_data=val_batch_generator, \n",
        "    epochs=epochs,\n",
        "    steps_per_epoch=steps_per_epoch\n",
        ")"
      ],
      "execution_count": 53,
      "outputs": [
        {
          "output_type": "stream",
          "text": [
            "Epoch 1/5\n",
            "168/168 [==============================] - 88s 523ms/step - loss: 0.5368 - acc: 0.7036 - val_loss: 0.3729 - val_acc: 0.8326\n",
            "Epoch 2/5\n",
            "168/168 [==============================] - 84s 503ms/step - loss: 0.2836 - acc: 0.8728 - val_loss: 0.1989 - val_acc: 0.9222\n",
            "Epoch 3/5\n",
            "168/168 [==============================] - 88s 523ms/step - loss: 0.1298 - acc: 0.9520 - val_loss: 0.1372 - val_acc: 0.9538\n",
            "Epoch 4/5\n",
            "168/168 [==============================] - 83s 496ms/step - loss: 0.0670 - acc: 0.9768 - val_loss: 0.1154 - val_acc: 0.9647\n",
            "Epoch 5/5\n",
            "168/168 [==============================] - 91s 540ms/step - loss: 0.0564 - acc: 0.9795 - val_loss: 0.1465 - val_acc: 0.9516\n"
          ],
          "name": "stdout"
        }
      ]
    },
    {
      "cell_type": "code",
      "metadata": {
        "colab_type": "code",
        "id": "Wk-asGoMk8oK",
        "colab": {}
      },
      "source": [
        "with open('../data/adjacency-dense-model-binary.pickle', 'wb') as f:\n",
        "    pickle.dump(model,f)"
      ],
      "execution_count": 0,
      "outputs": []
    },
    {
      "cell_type": "code",
      "metadata": {
        "id": "fdVdfzLtV3KE",
        "colab_type": "code",
        "colab": {}
      },
      "source": [
        "with open('../data/adjacency-dense-model-binary-history.pickle', 'wb') as f:\n",
        "    pickle.dump(history,f)"
      ],
      "execution_count": 0,
      "outputs": []
    },
    {
      "cell_type": "markdown",
      "metadata": {
        "colab_type": "text",
        "id": "w3476EyA3g-V"
      },
      "source": [
        "# Evaluation"
      ]
    },
    {
      "cell_type": "code",
      "metadata": {
        "colab_type": "code",
        "id": "bQcagc2HK0c3",
        "colab": {}
      },
      "source": [
        "model = None\n",
        "with open('../data/adjacency-dense-model-binary.pickle', 'rb') as f:\n",
        "    model = pickle.load(f)"
      ],
      "execution_count": 0,
      "outputs": []
    },
    {
      "cell_type": "code",
      "metadata": {
        "colab_type": "code",
        "id": "nobNI0B1k8oP",
        "outputId": "43f9c3f1-5620-4e3c-802d-81ae9174dc01",
        "scrolled": true,
        "colab": {
          "base_uri": "https://localhost:8080/",
          "height": 34
        }
      },
      "source": [
        "test_batch_generator = SparseToDenseGenerator(adj_test, feat_test, labels_test, batch_size)\n",
        "\n",
        "model.evaluate_generator(\n",
        "    generator=test_batch_generator,\n",
        ")"
      ],
      "execution_count": 35,
      "outputs": [
        {
          "output_type": "execute_result",
          "data": {
            "text/plain": [
              "[0.10700968710875389, 0.9686918790785334]"
            ]
          },
          "metadata": {
            "tags": []
          },
          "execution_count": 35
        }
      ]
    },
    {
      "cell_type": "markdown",
      "metadata": {
        "id": "r7ZLBz09PFkr",
        "colab_type": "text"
      },
      "source": [
        "# Visualisations"
      ]
    },
    {
      "cell_type": "code",
      "metadata": {
        "colab_type": "code",
        "id": "vnHI_fjlk8ob",
        "colab": {}
      },
      "source": [
        "import seaborn as sns\n",
        "from sklearn import metrics\n",
        "import matplotlib"
      ],
      "execution_count": 0,
      "outputs": []
    },
    {
      "cell_type": "code",
      "metadata": {
        "colab_type": "code",
        "id": "v4bFyChZOi0k",
        "colab": {}
      },
      "source": [
        "class SparseToDensePredictGenerator(keras.utils.Sequence):\n",
        "\n",
        "    def __init__(self, sparse_adjs, sparse_feats, batch_size):\n",
        "        self.sparse_adjs = sparse_adjs\n",
        "        self.sparse_feats = sparse_feats\n",
        "        self.batch_size = batch_size\n",
        "\n",
        "    def __len__(self):\n",
        "        return int(np.ceil(len(self.sparse_feats) / float(self.batch_size)))\n",
        "\n",
        "    def __getitem__(self, batch_num):\n",
        "        start_index = batch_num * self.batch_size\n",
        "        end_index = (batch_num + 1) * self.batch_size\n",
        "        \n",
        "        batch_sparse_adjs = self.sparse_adjs[start_index:end_index]\n",
        "        batch_sparse_feats = self.sparse_feats[start_index:end_index]\n",
        "        \n",
        "        batch_dense_adjs = np.array([sparse_matrix.todense() for sparse_matrix in batch_sparse_adjs])\n",
        "        batch_dense_feats = np.array([sparse_matrix.todense() for sparse_matrix in batch_sparse_feats])\n",
        "        \n",
        "        # TODO: move this somewhere better\n",
        "        # Conv2D requires an extra dimension for \"channels\", so we need to convert our data from\n",
        "        # the shape (batch_size, matrix_rows, matrix_columns)\n",
        "        # to (batch_size, matrix_rows, matrix_columns, 1)\n",
        "        batch_dense_adjs = np.reshape(batch_dense_adjs, batch_dense_adjs.shape + (1, ))\n",
        "        batch_dense_feats = np.reshape(batch_dense_feats, batch_dense_feats.shape + (1, ))\n",
        "\n",
        "        return [batch_dense_feats]"
      ],
      "execution_count": 0,
      "outputs": []
    },
    {
      "cell_type": "code",
      "metadata": {
        "colab_type": "code",
        "id": "5AJ9ozp5k8og",
        "colab": {}
      },
      "source": [
        "predict_batch_generator = SparseToDensePredictGenerator(adj_test, feat_test, batch_size)\n",
        "y_predict = model.predict_generator(predict_batch_generator)"
      ],
      "execution_count": 0,
      "outputs": []
    },
    {
      "cell_type": "code",
      "metadata": {
        "colab_type": "code",
        "id": "gh6M9qH-k8ok",
        "colab": {}
      },
      "source": [
        "import numpy as np"
      ],
      "execution_count": 0,
      "outputs": []
    },
    {
      "cell_type": "code",
      "metadata": {
        "colab_type": "code",
        "id": "xrvhYYmFk8oo",
        "outputId": "e8400a42-ee07-4b0d-ac66-39852e429d15",
        "colab": {
          "base_uri": "https://localhost:8080/",
          "height": 387
        }
      },
      "source": [
        "confusion_matrix = pd.DataFrame(\n",
        "    data=metrics.confusion_matrix(labels_test, np.rint(y_predict)),\n",
        ")\n",
        "\n",
        "confusion_figure, confusion_axes = matplotlib.pyplot.subplots()\n",
        "confusion_figure.set_size_inches(8, 5)\n",
        "confusion_axes.set_title(\n",
        "    'Confusion matrix showing the frequency of \\n'\n",
        "    'correct and incorrect bug classification predictions.'\n",
        "    '\\n\\n'  # hack to avoid overlap with x-axis labels below\n",
        ")\n",
        "confusion_axes.xaxis.tick_top()  # move x-axis labels to top of matrix\n",
        "_ = sns.heatmap(\n",
        "    confusion_matrix,\n",
        "    annot=True,\n",
        "    fmt=\"d\",\n",
        "    cmap=sns.color_palette(\"Blues\"),\n",
        "    vmin=0,\n",
        "    ax=confusion_axes,\n",
        ")"
      ],
      "execution_count": 44,
      "outputs": [
        {
          "output_type": "display_data",
          "data": {
            "image/png": "[encoded data removed]",
            "text/plain": [
              "<Figure size 576x360 with 2 Axes>"
            ]
          },
          "metadata": {
            "tags": []
          }
        }
      ]
    },
    {
      "cell_type": "code",
      "metadata": {
        "colab_type": "code",
        "id": "yatQ4RKhP2H0",
        "outputId": "fa82eb8e-96be-403c-fbd2-9edbffd587e6",
        "colab": {
          "base_uri": "https://localhost:8080/",
          "height": 34
        }
      },
      "source": [
        "np.argmax(labels_test.astype(int)), np.argmax(np.rint(y_predict)),"
      ],
      "execution_count": 45,
      "outputs": [
        {
          "output_type": "execute_result",
          "data": {
            "text/plain": [
              "(4, 4)"
            ]
          },
          "metadata": {
            "tags": []
          },
          "execution_count": 45
        }
      ]
    },
    {
      "cell_type": "code",
      "metadata": {
        "colab_type": "code",
        "id": "SFlZwTBIk8o8",
        "colab": {}
      },
      "source": [
        "# from sklearn.metrics import roc_curve\n",
        "# fpr_keras, tpr_keras, thresholds_keras = roc_curve(\n",
        "#     labels_test.astype(int),\n",
        "#     np.rint(y_predict),\n",
        "# )\n",
        "y_test = labels_test\n",
        "from sklearn.metrics import auc, roc_curve, precision_recall_curve, matthews_corrcoef, f1_score, roc_auc_score\n",
        "fpr_keras, tpr_keras, thresholds_keras = roc_curve(y_test, np.rint(y_predict))\n",
        "precision, recall, thresholds = precision_recall_curve(y_test, np.rint(y_predict))"
      ],
      "execution_count": 0,
      "outputs": []
    },
    {
      "cell_type": "code",
      "metadata": {
        "colab_type": "code",
        "id": "a8_7LWSmk8pI",
        "colab": {}
      },
      "source": [
        "import matplotlib.pyplot as plt\n",
        "\n",
        "auc_keras = auc(fpr_keras, tpr_keras)\n",
        "roc_auc = roc_auc_score(y_test, np.rint(y_predict))\n",
        "pr_auc = auc(recall, precision)\n",
        "f1 = f1_score(y_test, np.rint(y_predict))\n",
        "mcc = matthews_corrcoef(y_test, np.rint(y_predict))"
      ],
      "execution_count": 0,
      "outputs": []
    },
    {
      "cell_type": "code",
      "metadata": {
        "colab_type": "code",
        "id": "mM9vPPIGk8pO",
        "outputId": "519c507e-451c-4b31-88c7-3d7fd5eda001",
        "colab": {
          "base_uri": "https://localhost:8080/",
          "height": 295
        }
      },
      "source": [
        "plt.plot(fpr_keras, tpr_keras, label='Keras (area = {:.3f})'.format(auc_keras))\n",
        "plt.xlabel('False positive rate')\n",
        "plt.ylabel('True positive rate')\n",
        "plt.title('ROC curve')\n",
        "plt.legend(loc='best')\n",
        "plt.show()"
      ],
      "execution_count": 48,
      "outputs": [
        {
          "output_type": "display_data",
          "data": {
            "image/png": "[encoded data removed]",
            "text/plain": [
              "<Figure size 432x288 with 1 Axes>"
            ]
          },
          "metadata": {
            "tags": []
          }
        }
      ]
    },
    {
      "cell_type": "code",
      "metadata": {
        "colab_type": "code",
        "id": "WIxU3yLeZqk3",
        "colab": {}
      },
      "source": [
        "tn, fp, fn, tp = metrics.confusion_matrix(\n",
        "    labels_test.astype(int), \n",
        "    np.rint(y_predict)\n",
        ").flatten().tolist()\n",
        "\n",
        "fpr_nn = fp/(fp+tp)\n",
        "fnr_nn = fn/(fn+tn)"
      ],
      "execution_count": 0,
      "outputs": []
    },
    {
      "cell_type": "code",
      "metadata": {
        "colab_type": "code",
        "id": "Irias0wiQ5uS",
        "outputId": "738db1c7-0f7c-4fef-a7f3-9c537657537d",
        "scrolled": true,
        "colab": {
          "base_uri": "https://localhost:8080/",
          "height": 34
        }
      },
      "source": [
        "fpr_nn, fnr_nn"
      ],
      "execution_count": 50,
      "outputs": [
        {
          "output_type": "execute_result",
          "data": {
            "text/plain": [
              "(0.04062126642771804, 0.021262886597938145)"
            ]
          },
          "metadata": {
            "tags": []
          },
          "execution_count": 50
        }
      ]
    },
    {
      "cell_type": "code",
      "metadata": {
        "id": "YcNdVtbNTS0H",
        "colab_type": "code",
        "colab": {}
      },
      "source": [
        "from sklearn.metrics import roc_curve, precision_recall_curve, matthews_corrcoef, f1_score, roc_auc_score, auc, confusion_matrix, precision_score, recall_score\n",
        "import numpy as np\n",
        "import pandas as pd\n",
        "\n",
        "def rates(y_test, y_predict):\n",
        "    tn, fp, fn, tp = confusion_matrix(\n",
        "    y_test.astype(int), \n",
        "    np.rint(y_predict)\n",
        "    ).flatten().tolist()\n",
        "\n",
        "    fpr = fp/(fp+tp)\n",
        "    fnr = fn/(fn+tn)\n",
        "    return fpr, fnr\n",
        "\n",
        "def get_metrics(y_test, y_predict):\n",
        "    fpr_plot, tpr_plot, thresholds_roc = roc_curve(y_test, y_predict)\n",
        "    precision_plot, recall_plot, thresholds_pr = precision_recall_curve(y_test, y_predict)\n",
        "    roc_auc = roc_auc_score(y_test, y_predict)\n",
        "    pr_auc = auc(recall_plot, precision_plot)\n",
        "    f1 = f1_score(y_test, np.rint(y_predict))\n",
        "    mcc = matthews_corrcoef(y_test, np.rint(y_predict))\n",
        "    precision = precision_score(y_test, np.rint(y_predict))\n",
        "    recall = recall_score(y_test, np.rint(y_predict))\n",
        "    fpr, fnr = rates(y_test, y_predict)\n",
        "    metric_values = {\n",
        "        'fpr_plot' : fpr_plot,\n",
        "        'tpr_plot' : tpr_plot,\n",
        "        'precision_plot' : precision_plot,\n",
        "        'recall_plot' : recall_plot,\n",
        "        'thresholds_pr' : thresholds_pr,\n",
        "        'ROC AUC' : roc_auc,\n",
        "        'Precision Recall AUC' : pr_auc,\n",
        "        'F1 Score' : f1,\n",
        "        'Matthews Correlation Coefficient' : mcc,\n",
        "        'Precision' : precision,\n",
        "        'Recall' : recall,\n",
        "        'FPR' : fpr,\n",
        "        'FNR' : fnr\n",
        "    }\n",
        "    return metric_values"
      ],
      "execution_count": 0,
      "outputs": []
    },
    {
      "cell_type": "code",
      "metadata": {
        "id": "ev-gpX81T5K1",
        "colab_type": "code",
        "colab": {}
      },
      "source": [
        "metrics_adj_dense = get_metrics(y_test, y_predict)"
      ],
      "execution_count": 0,
      "outputs": []
    },
    {
      "cell_type": "code",
      "metadata": {
        "id": "v_kEWW5BUnlS",
        "colab_type": "code",
        "colab": {
          "base_uri": "https://localhost:8080/",
          "height": 312
        },
        "outputId": "62d713fc-82b0-42fd-a256-da48fe9e3461"
      },
      "source": [
        "plt.plot(history.history['loss'])\n",
        "plt.plot(history.history['val_loss'])\n",
        "plt.title('Dense NN on graph2vec Model Losses')\n",
        "plt.ylabel('Loss')\n",
        "plt.xlabel('Epoch')\n",
        "plt.legend(['train', 'test'], loc='upper right')"
      ],
      "execution_count": 55,
      "outputs": [
        {
          "output_type": "execute_result",
          "data": {
            "text/plain": [
              "<matplotlib.legend.Legend at 0x7ff1c53aa6a0>"
            ]
          },
          "metadata": {
            "tags": []
          },
          "execution_count": 55
        },
        {
          "output_type": "display_data",
          "data": {
            "image/png": "[encoded data removed]",
            "text/plain": [
              "<Figure size 432x288 with 1 Axes>"
            ]
          },
          "metadata": {
            "tags": []
          }
        }
      ]
    },
    {
      "cell_type": "code",
      "metadata": {
        "id": "JTgILB39UVa5",
        "colab_type": "code",
        "colab": {}
      },
      "source": [
        "model_names = pd.DataFrame({\n",
        "  'Model': [\n",
        "    'Dense NN on adj'\n",
        "  ]\n",
        "})\n",
        "\n",
        "model_accuracies = pd.DataFrame({\n",
        "  'Accuracy' : [\n",
        "      0.969            \n",
        "  ]\n",
        "})\n",
        "\n",
        "all_metrics = pd.DataFrame(\n",
        "    [metrics_adj_dense] #add in cnn adj and cnn adj/feat random padded\n",
        ")\n",
        "all_metrics = model_names.join(model_accuracies).join(all_metrics)\n",
        "\n",
        "key_metrics = all_metrics.filter(['Model', 'Accuracy', 'Precision', 'Recall', 'FPR', 'FNR'])\n",
        "\n",
        "deep_learning_metrics = all_metrics.filter(['Model', 'ROC AUC', 'Precision Recall AUC', 'F1 Score', 'Matthews Correlation Coefficient'])"
      ],
      "execution_count": 0,
      "outputs": []
    },
    {
      "cell_type": "code",
      "metadata": {
        "id": "V2YvJBqoVaqQ",
        "colab_type": "code",
        "colab": {
          "base_uri": "https://localhost:8080/",
          "height": 910
        },
        "outputId": "eba0cd30-7568-4b1c-9cf5-607edfd5864c"
      },
      "source": [
        "plt.figure(figsize=(15,15))\n",
        "for index, row in all_metrics.iterrows():\n",
        "  if row['Model'] == 'Stacked Model':\n",
        "    plt.plot(row['fpr_plot'][1], row['tpr_plot'][1], 'x', markersize = 20, label='{} (area = {:.3f})'.format(row['Model'], row['ROC AUC']))\n",
        "  else:\n",
        "    plt.plot(row['fpr_plot'], row['tpr_plot'], label='{} (area = {:.3f})'.format(row['Model'], row['ROC AUC']))\n",
        "plt.xlabel('False Positive Rate')\n",
        "plt.ylabel('True Positive Rate')\n",
        "plt.title('ROC Curve')\n",
        "plt.legend(loc='best')\n"
      ],
      "execution_count": 60,
      "outputs": [
        {
          "output_type": "execute_result",
          "data": {
            "text/plain": [
              "<matplotlib.legend.Legend at 0x7ff1c5396390>"
            ]
          },
          "metadata": {
            "tags": []
          },
          "execution_count": 60
        },
        {
          "output_type": "display_data",
          "data": {
            "image/png": "[encoded data removed]",
            "text/plain": [
              "<Figure size 1080x1080 with 1 Axes>"
            ]
          },
          "metadata": {
            "tags": []
          }
        }
      ]
    },
    {
      "cell_type": "code",
      "metadata": {
        "id": "rZMcxhi6Vl8k",
        "colab_type": "code",
        "colab": {
          "base_uri": "https://localhost:8080/",
          "height": 910
        },
        "outputId": "84c6ede8-ca1c-42bb-8604-cb6d2027de73"
      },
      "source": [
        "plt.figure(figsize=(15,15))\n",
        "for index, row in all_metrics.iterrows():\n",
        "  if row['Model'] == 'Stacked Model':\n",
        "    plt.plot(row['recall_plot'][1], row['precision_plot'][1], 'x', markersize = 20, label='{} (area = {:.3f})'.format(row['Model'], row['Precision Recall AUC']))\n",
        "  else:\n",
        "    plt.plot(row['recall_plot'], row['precision_plot'], label='{} (area = {:.3f})'.format(row['Model'], row['Precision Recall AUC']))\n",
        "plt.xlabel('Recall')\n",
        "plt.ylabel('Precision')\n",
        "plt.title('Precision Recall Curve')\n",
        "plt.legend(loc='best')"
      ],
      "execution_count": 61,
      "outputs": [
        {
          "output_type": "execute_result",
          "data": {
            "text/plain": [
              "<matplotlib.legend.Legend at 0x7ff1c5396438>"
            ]
          },
          "metadata": {
            "tags": []
          },
          "execution_count": 61
        },
        {
          "output_type": "display_data",
          "data": {
            "image/png": "[encoded data removed]",
            "text/plain": [
              "<Figure size 1080x1080 with 1 Axes>"
            ]
          },
          "metadata": {
            "tags": []
          }
        }
      ]
    },
    {
      "cell_type": "code",
      "metadata": {
        "id": "dlr_l-j8WCcy",
        "colab_type": "code",
        "colab": {}
      },
      "source": [
        ""
      ],
      "execution_count": 0,
      "outputs": []
    }
  ]
}