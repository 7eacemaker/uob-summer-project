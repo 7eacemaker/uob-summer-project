{
 "cells": [
  {
   "cell_type": "markdown",
   "metadata": {
    "colab_type": "text",
    "id": "WD7BVc9Bk8jQ"
   },
   "source": [
    "(Uncompleted) Notebook for training and testing the baseline neural network model using adjacency matrices of the AST format of the buffer overflow datapoints. In order for the matrices to be fed into the neural network, they must all be of the same dimensions. We currently pick a subset of the data with small-ish AST matrices (614x614)"
   ]
  },
  {
   "cell_type": "markdown",
   "metadata": {
    "colab_type": "text",
    "id": "K4oesAZzmRhL"
   },
   "source": [
    "# Colab Setup"
   ]
  },
  {
   "cell_type": "code",
   "execution_count": 1,
   "metadata": {
    "colab": {
     "base_uri": "https://localhost:8080/",
     "height": 1000
    },
    "colab_type": "code",
    "id": "W3hzFsJWtCn-",
    "outputId": "c5a709ae-c833-42be-e068-8eee8b4ef8e0"
   },
   "outputs": [
    {
     "name": "stdout",
     "output_type": "stream",
     "text": [
      "--2019-07-31 10:51:24--  https://github.com/dj311/uob-summer-project/raw/master/data/adj.pickle\n",
      "Resolving github.com (github.com)... 140.82.113.3\n",
      "Connecting to github.com (github.com)|140.82.113.3|:443... connected.\n",
      "HTTP request sent, awaiting response... 302 Found\n",
      "Location: https://media.githubusercontent.com/media/dj311/uob-summer-project/master/data/adj.pickle [following]\n",
      "--2019-07-31 10:51:25--  https://media.githubusercontent.com/media/dj311/uob-summer-project/master/data/adj.pickle\n",
      "Resolving media.githubusercontent.com (media.githubusercontent.com)... 151.101.0.133, 151.101.64.133, 151.101.128.133, ...\n",
      "Connecting to media.githubusercontent.com (media.githubusercontent.com)|151.101.0.133|:443... connected.\n",
      "HTTP request sent, awaiting response... 200 OK\n",
      "Length: 1320521199 (1.2G) [application/octet-stream]\n",
      "Saving to: ‘adj.pickle’\n",
      "\n",
      "adj.pickle          100%[===================>]   1.23G   240MB/s    in 5.5s    \n",
      "\n",
      "2019-07-31 10:51:45 (228 MB/s) - ‘adj.pickle’ saved [1320521199/1320521199]\n",
      "\n",
      "--2019-07-31 10:51:46--  https://github.com/dj311/uob-summer-project/raw/master/data/buffer_overflow_data.csv.gz\n",
      "Resolving github.com (github.com)... 140.82.113.3\n",
      "Connecting to github.com (github.com)|140.82.113.3|:443... connected.\n",
      "HTTP request sent, awaiting response... 302 Found\n",
      "Location: https://media.githubusercontent.com/media/dj311/uob-summer-project/master/data/buffer_overflow_data.csv.gz [following]\n",
      "--2019-07-31 10:51:46--  https://media.githubusercontent.com/media/dj311/uob-summer-project/master/data/buffer_overflow_data.csv.gz\n",
      "Resolving media.githubusercontent.com (media.githubusercontent.com)... 151.101.0.133, 151.101.64.133, 151.101.128.133, ...\n",
      "Connecting to media.githubusercontent.com (media.githubusercontent.com)|151.101.0.133|:443... connected.\n",
      "HTTP request sent, awaiting response... 200 OK\n",
      "Length: 3008729 (2.9M) [application/octet-stream]\n",
      "Saving to: ‘buffer_overflow_data.csv.gz’\n",
      "\n",
      "buffer_overflow_dat 100%[===================>]   2.87M  --.-KB/s    in 0.07s   \n",
      "\n",
      "2019-07-31 10:51:46 (38.6 MB/s) - ‘buffer_overflow_data.csv.gz’ saved [3008729/3008729]\n",
      "\n",
      "--2019-07-31 10:51:47--  https://github.com/dj311/uob-summer-project/raw/master/data/adjacency-matrix-model-binary.pickle\n",
      "Resolving github.com (github.com)... 140.82.113.3\n",
      "Connecting to github.com (github.com)|140.82.113.3|:443... connected.\n",
      "HTTP request sent, awaiting response... 302 Found\n",
      "Location: https://media.githubusercontent.com/media/dj311/uob-summer-project/master/data/adjacency-matrix-model-binary.pickle [following]\n",
      "--2019-07-31 10:51:47--  https://media.githubusercontent.com/media/dj311/uob-summer-project/master/data/adjacency-matrix-model-binary.pickle\n",
      "Resolving media.githubusercontent.com (media.githubusercontent.com)... 151.101.0.133, 151.101.64.133, 151.101.128.133, ...\n",
      "Connecting to media.githubusercontent.com (media.githubusercontent.com)|151.101.0.133|:443... connected.\n",
      "HTTP request sent, awaiting response... 200 OK\n",
      "Length: 71124065 (68M) [application/octet-stream]\n",
      "Saving to: ‘adjacency-matrix-model-binary.pickle’\n",
      "\n",
      "adjacency-matrix-mo 100%[===================>]  67.83M   203MB/s    in 0.3s    \n",
      "\n",
      "2019-07-31 10:51:49 (203 MB/s) - ‘adjacency-matrix-model-binary.pickle’ saved [71124065/71124065]\n",
      "\n",
      "--2019-07-31 10:51:50--  https://github.com/dj311/uob-summer-project/raw/master/data/feature_matrix.pickle\n",
      "Resolving github.com (github.com)... 140.82.113.3\n",
      "Connecting to github.com (github.com)|140.82.113.3|:443... connected.\n",
      "HTTP request sent, awaiting response... 302 Found\n",
      "Location: https://media.githubusercontent.com/media/dj311/uob-summer-project/master/data/feature_matrix.pickle [following]\n",
      "--2019-07-31 10:51:50--  https://media.githubusercontent.com/media/dj311/uob-summer-project/master/data/feature_matrix.pickle\n",
      "Resolving media.githubusercontent.com (media.githubusercontent.com)... 151.101.0.133, 151.101.64.133, 151.101.128.133, ...\n",
      "Connecting to media.githubusercontent.com (media.githubusercontent.com)|151.101.0.133|:443... connected.\n",
      "HTTP request sent, awaiting response... 200 OK\n",
      "Length: 64502734 (62M) [application/octet-stream]\n",
      "Saving to: ‘feature_matrix.pickle’\n",
      "\n",
      "feature_matrix.pick 100%[===================>]  61.51M   141MB/s    in 0.4s    \n",
      "\n",
      "2019-07-31 10:51:51 (141 MB/s) - ‘feature_matrix.pickle’ saved [64502734/64502734]\n",
      "\n",
      "/project/code\n"
     ]
    }
   ],
   "source": [
    "!mkdir -p /project/data && cd /project/data && wget -O adj.pickle https://github.com/dj311/uob-summer-project/raw/master/data/adj.pickle\n",
    "!mkdir -p /project/data && cd /project/data && wget -O buffer_overflow_data.csv.gz https://github.com/dj311/uob-summer-project/raw/master/data/buffer_overflow_data.csv.gz\n",
    "!mkdir -p /project/data && cd /project/data && wget -O adjacency-matrix-model-binary.pickle https://github.com/dj311/uob-summer-project/raw/master/data/adjacency-matrix-model-binary.pickle\n",
    "!mkdir -p /project/data && cd /project/data && wget -O feature_matrix.pickle https://github.com/dj311/uob-summer-project/raw/master/data/feature_matrix.pickle\n",
    "!mkdir -p /project/code\n",
    "%cd /project/code"
   ]
  },
  {
   "cell_type": "markdown",
   "metadata": {
    "colab_type": "text",
    "id": "lO9-8NDKk8ja"
   },
   "source": [
    "# Import & Preprocess Dataset\n",
    "\n",
    "First we import the data from the [previous notebook](./adjacency_matrix.ipynb).\n"
   ]
  },
  {
   "cell_type": "code",
   "execution_count": 1,
   "metadata": {
    "colab": {
     "base_uri": "https://localhost:8080/",
     "height": 34
    },
    "colab_type": "code",
    "id": "uB5QGgAgk8je",
    "outputId": "bae6b060-e1fb-4256-fb60-b418fa5e1e2d"
   },
   "outputs": [
    {
     "name": "stderr",
     "output_type": "stream",
     "text": [
      "Using TensorFlow backend.\n"
     ]
    }
   ],
   "source": [
    "import tensorflow as tf\n",
    "import keras\n",
    "import sklearn\n",
    "import numpy as np\n",
    "import pickle\n",
    "from scipy.sparse import csr_matrix, hstack, vstack\n",
    "from sklearn.model_selection import train_test_split\n",
    "\n",
    "run_opts = tf.RunOptions(report_tensor_allocations_upon_oom = True)\n",
    "np.random.seed(1248)\n",
    "\n",
    "tf.logging.set_verbosity(tf.logging.INFO)"
   ]
  },
  {
   "cell_type": "code",
   "execution_count": 2,
   "metadata": {
    "colab": {},
    "colab_type": "code",
    "id": "CGIbzYT0k8jz"
   },
   "outputs": [],
   "source": [
    "import pandas as pd"
   ]
  },
  {
   "cell_type": "code",
   "execution_count": 3,
   "metadata": {
    "colab": {},
    "colab_type": "code",
    "id": "NQwMY_iLk8kC"
   },
   "outputs": [],
   "source": [
    "data = pd.read_csv('../data/buffer_overflow_data.csv.gz')"
   ]
  },
  {
   "cell_type": "code",
   "execution_count": 4,
   "metadata": {
    "colab": {},
    "colab_type": "code",
    "id": "76z9869-k8kQ"
   },
   "outputs": [],
   "source": [
    "labels = data.copy()\n",
    "del labels['Unnamed: 0']\n",
    "del labels['Unnamed: 0.1']\n",
    "del labels['filename']\n",
    "del labels['code']\n",
    "del labels['flaw']\n",
    "del labels['flaw_loc']\n",
    "labels = labels.drop_duplicates().sort_values('testcase_ID').reset_index(drop=True)"
   ]
  },
  {
   "cell_type": "code",
   "execution_count": 5,
   "metadata": {
    "colab": {},
    "colab_type": "code",
    "id": "AyqJFOtWk8kg"
   },
   "outputs": [],
   "source": [
    "with open(\"../data/adj.pickle\",'rb') as f:\n",
    "    adj = pickle.load(f)"
   ]
  },
  {
   "cell_type": "code",
   "execution_count": 6,
   "metadata": {
    "colab": {},
    "colab_type": "code",
    "id": "PHikMdozk8k1"
   },
   "outputs": [],
   "source": [
    "adj = adj.rename(columns={0: 'testcase_ID', 1: 'adjacency_matrix'})"
   ]
  },
  {
   "cell_type": "code",
   "execution_count": 7,
   "metadata": {
    "colab": {},
    "colab_type": "code",
    "id": "pIdnRsBjk8k-"
   },
   "outputs": [],
   "source": [
    "adj_orig_df = pd.merge(labels, adj, on='testcase_ID')"
   ]
  },
  {
   "cell_type": "code",
   "execution_count": 8,
   "metadata": {
    "colab": {},
    "colab_type": "code",
    "id": "s-qHa46Vk8lK"
   },
   "outputs": [],
   "source": [
    "adj_orig_df = adj_orig_df[['testcase_ID', 'adjacency_matrix', 'bug']]"
   ]
  },
  {
   "cell_type": "markdown",
   "metadata": {
    "colab_type": "text",
    "id": "qB06ooxxo--s"
   },
   "source": [
    "Next, find out the maximum size of an adjacency matrix, then convert all matrices to have the same dimension."
   ]
  },
  {
   "cell_type": "code",
   "execution_count": 9,
   "metadata": {
    "colab": {},
    "colab_type": "code",
    "id": "HNY1UrHJk8lg"
   },
   "outputs": [],
   "source": [
    "adj_orig_df['matrix_size'] = adj_orig_df.adjacency_matrix.apply(lambda x: x.shape[0])"
   ]
  },
  {
   "cell_type": "code",
   "execution_count": 10,
   "metadata": {
    "colab": {
     "base_uri": "https://localhost:8080/",
     "height": 170
    },
    "colab_type": "code",
    "id": "p6zGXUxbk8l1",
    "outputId": "73ba15bd-8589-4b14-8f03-3ca19156b974"
   },
   "outputs": [
    {
     "data": {
      "text/plain": [
       "count    21502.000000\n",
       "mean      2186.138778\n",
       "std       7239.752920\n",
       "min          4.000000\n",
       "25%        349.000000\n",
       "50%        396.000000\n",
       "75%        614.000000\n",
       "max      44401.000000\n",
       "Name: matrix_size, dtype: float64"
      ]
     },
     "execution_count": 10,
     "metadata": {},
     "output_type": "execute_result"
    }
   ],
   "source": [
    "adj_orig_df['matrix_size'].describe()"
   ]
  },
  {
   "cell_type": "markdown",
   "metadata": {
    "colab_type": "text",
    "id": "VlN1pb2SJW2i"
   },
   "source": [
    "So we know that 75% of the dataset has a matrix size <= 614, which is approximately 18000 datapoints. Picking the full dataset would require matrices of dimension 44401x44401 which require 15 gb of memory each. This is isn't feasible, however picking matrices of size 614x614 or less gives a per matrix size of 3.38mb - far more manageable!"
   ]
  },
  {
   "cell_type": "code",
   "execution_count": 11,
   "metadata": {
    "colab": {
     "base_uri": "https://localhost:8080/",
     "height": 34
    },
    "colab_type": "code",
    "id": "JXR174VPKKzR",
    "outputId": "c2d61664-16c0-4b49-bb46-253c4874dec8"
   },
   "outputs": [
    {
     "data": {
      "text/plain": [
       "16128"
      ]
     },
     "execution_count": 11,
     "metadata": {},
     "output_type": "execute_result"
    }
   ],
   "source": [
    "matrix_size = 614\n",
    "adj_orig_df = adj_orig_df[adj_orig_df['matrix_size'] <= matrix_size]\n",
    "len(adj_orig_df)"
   ]
  },
  {
   "cell_type": "code",
   "execution_count": 12,
   "metadata": {},
   "outputs": [],
   "source": [
    "adj_df = adj_orig_df.copy()"
   ]
  },
  {
   "cell_type": "code",
   "execution_count": 13,
   "metadata": {
    "colab": {},
    "colab_type": "code",
    "id": "MCV9Vwupk8mI"
   },
   "outputs": [],
   "source": [
    "def bottom_right_matrix_size_corrector(matrix, target_rows, target_columns):\n",
    "    '''Pads matrix with zeros to the desired size'''\n",
    "    \n",
    "    rows, columns = matrix.shape[0], matrix.shape[1]\n",
    "    \n",
    "    row_corrector = csr_matrix((target_rows-rows, columns))\n",
    "    col_corrector = csr_matrix((target_rows, target_columns-columns))\n",
    "\n",
    "    matrix = vstack([matrix, row_corrector])\n",
    "    matrix = hstack([matrix, col_corrector])\n",
    "\n",
    "    matrix = matrix.astype(np.int)\n",
    "    \n",
    "    return matrix "
   ]
  },
  {
   "cell_type": "code",
   "execution_count": 14,
   "metadata": {
    "colab": {},
    "colab_type": "code",
    "id": "yI1YFNQMk8mp"
   },
   "outputs": [],
   "source": [
    "adj_df['adjacency_matrix'] = adj_df['adjacency_matrix'].apply(lambda m: bottom_right_matrix_size_corrector(m, matrix_size, matrix_size))"
   ]
  },
  {
   "cell_type": "markdown",
   "metadata": {
    "colab_type": "text",
    "id": "_lrFCpTeWNNk"
   },
   "source": [
    "Next we load in the feature matrices:"
   ]
  },
  {
   "cell_type": "code",
   "execution_count": 15,
   "metadata": {
    "colab": {},
    "colab_type": "code",
    "id": "u2WAylC-WMu7"
   },
   "outputs": [],
   "source": [
    "with open(\"../data/feature_matrix.pickle\", \"rb\") as f:\n",
    "    feature_matrix = pickle.load(f)\n",
    "\n",
    "feature_matrix.columns = ['testcase_ID', 'feature_matrix']"
   ]
  },
  {
   "cell_type": "code",
   "execution_count": 16,
   "metadata": {
    "colab": {},
    "colab_type": "code",
    "id": "rcFPwlU2fXgl"
   },
   "outputs": [],
   "source": [
    "num_features = 55"
   ]
  },
  {
   "cell_type": "code",
   "execution_count": 17,
   "metadata": {
    "colab": {},
    "colab_type": "code",
    "id": "G72pK1NiXZz9"
   },
   "outputs": [],
   "source": [
    "adj_feat_df = pd.merge(feature_matrix, adj_orig_df, on='testcase_ID')"
   ]
  },
  {
   "cell_type": "code",
   "execution_count": 19,
   "metadata": {
    "colab": {},
    "colab_type": "code",
    "id": "rPKL7-DIe0PC"
   },
   "outputs": [],
   "source": [
    "adj_feat_df['feature_matrix'] = adj_feat_df['feature_matrix'].apply(lambda m: bottom_right_matrix_size_corrector(m, matrix_size, num_features))\n"
   ]
  },
  {
   "cell_type": "code",
   "execution_count": 20,
   "metadata": {
    "colab": {},
    "colab_type": "code",
    "id": "zy8qe3IdrKml"
   },
   "outputs": [],
   "source": [
    "testcase_ids = adj_feat_df['testcase_ID'].values\n",
    "adjacency_matrices = adj_feat_df['adjacency_matrix'].values\n",
    "feature_matrices = adj_feat_df['feature_matrix'].values\n",
    "labels = adj_feat_df['bug'].values"
   ]
  },
  {
   "cell_type": "markdown",
   "metadata": {
    "colab_type": "text",
    "id": "ga6SW3_qpF80"
   },
   "source": [
    "Now we have a dataframe for each testcase with a sparse representation of its AST in the matrix column, each normalised to matrix_size x matrix_size in size.\n",
    "  \n",
    "\n"
   ]
  },
  {
   "cell_type": "markdown",
   "metadata": {
    "colab_type": "text",
    "id": "W8rFgat6TFnc"
   },
   "source": [
    "Finally, we generate the train and test splits:"
   ]
  },
  {
   "cell_type": "code",
   "execution_count": 21,
   "metadata": {
    "colab": {},
    "colab_type": "code",
    "id": "cxO5J1xySMDV"
   },
   "outputs": [],
   "source": [
    "adj_train, adj_test, feat_train, feat_test, labels_train, labels_test = train_test_split(adjacency_matrices, feature_matrices, labels, test_size=0.2, random_state=0)"
   ]
  },
  {
   "cell_type": "markdown",
   "metadata": {
    "colab_type": "text",
    "id": "yXrUMkzYSgUz"
   },
   "source": [
    "Storing all of these matrices in a dense representation at once might cause memory issues. To avoid this, we write a class which generates dense matrices for each of the training batches. \n",
    "\n",
    "We also perform the element wrapping as part of this process (since we can't perform it on the sparse arrays, I think)."
   ]
  },
  {
   "cell_type": "code",
   "execution_count": 22,
   "metadata": {
    "colab": {},
    "colab_type": "code",
    "id": "dBPBYHNJxm-D"
   },
   "outputs": [],
   "source": [
    "class SparseToDenseGenerator(keras.utils.Sequence):\n",
    "\n",
    "    def __init__(self, sparse_adjs, sparse_feats, labels, batch_size):\n",
    "        self.sparse_adjs = sparse_adjs\n",
    "        self.sparse_feats = sparse_feats\n",
    "        self.labels = labels\n",
    "        self.batch_size = batch_size\n",
    "\n",
    "    def __len__(self):\n",
    "        return int(np.ceil(len(self.labels) / float(self.batch_size)))\n",
    "\n",
    "    def __getitem__(self, batch_num):\n",
    "        start_index = batch_num * self.batch_size\n",
    "        end_index = (batch_num + 1) * self.batch_size\n",
    "        \n",
    "        batch_sparse_adjs = self.sparse_adjs[start_index:end_index]\n",
    "        batch_sparse_feats = self.sparse_feats[start_index:end_index]\n",
    "        batch_labels = self.labels[start_index:end_index]\n",
    "        \n",
    "        batch_dense_adjs = np.array([sparse_matrix.todense() for sparse_matrix in batch_sparse_adjs])\n",
    "        batch_dense_feats = np.array([sparse_matrix.todense() for sparse_matrix in batch_sparse_feats])\n",
    "        \n",
    "        # TODO: move this somewhere better\n",
    "        # Conv2D requires an extra dimension for \"channels\", so we need to convert our data from\n",
    "        # the shape (batch_size, matrix_rows, matrix_columns)\n",
    "        # to (batch_size, matrix_rows, matrix_columns, 1)\n",
    "        batch_dense_adjs = np.reshape(batch_dense_adjs, batch_dense_adjs.shape + (1, ))\n",
    "        batch_dense_feats = np.reshape(batch_dense_feats, batch_dense_feats.shape + (1, ))\n",
    "\n",
    "        return [batch_dense_adjs, batch_dense_feats], np.array(batch_labels)"
   ]
  },
  {
   "cell_type": "markdown",
   "metadata": {
    "colab_type": "text",
    "id": "nda-Xjsjk8ng"
   },
   "source": [
    "# Model"
   ]
  },
  {
   "cell_type": "code",
   "execution_count": 23,
   "metadata": {
    "colab": {},
    "colab_type": "code",
    "id": "KqlHfs2Kk8ni",
    "scrolled": true
   },
   "outputs": [],
   "source": [
    "from keras.layers import Dense, Dropout, Flatten, Reshape, Activation\n",
    "from keras.layers import Conv1D, MaxPooling1D, Conv2D, GlobalMaxPooling2D, MaxPooling2D, Convolution2D\n",
    "from keras.models import Sequential\n",
    "from keras.layers.normalization import BatchNormalization\n",
    "from keras.layers.advanced_activations import LeakyReLU\n",
    "from keras.optimizers import RMSprop, Adadelta, Adam\n",
    "from keras.utils import np_utils\n",
    "from keras import backend as K"
   ]
  },
  {
   "cell_type": "code",
   "execution_count": 24,
   "metadata": {
    "colab": {
     "base_uri": "https://localhost:8080/",
     "height": 34
    },
    "colab_type": "code",
    "id": "kmlCQ77P3itE",
    "outputId": "65d92d64-5946-4f1b-9511-2927256bc121"
   },
   "outputs": [
    {
     "data": {
      "text/plain": [
       "(96, 5, 16128, (614, 614), (96, 614, 614), 168, (2, 2), 1)"
      ]
     },
     "execution_count": 24,
     "metadata": {},
     "output_type": "execute_result"
    }
   ],
   "source": [
    "batch_size = 96\n",
    "epochs = 5\n",
    "num_samples = len(labels)\n",
    "num_features = feature_matrices[0].shape[1]\n",
    "\n",
    "datapoint_shape = (matrix_size, matrix_size, )\n",
    "batch_shape = (batch_size, ) + datapoint_shape\n",
    "\n",
    "steps_per_epoch = int(np.ceil(num_samples/batch_size))\n",
    "\n",
    "kernel_size = (2, 2)\n",
    "strides = max(kernel_size[0] // 3, 1)\n",
    "\n",
    "batch_size, epochs, num_samples, datapoint_shape, batch_shape, steps_per_epoch, kernel_size, strides"
   ]
  },
  {
   "cell_type": "code",
   "execution_count": 25,
   "metadata": {
    "colab": {},
    "colab_type": "code",
    "id": "jqbgjhJGrEJm"
   },
   "outputs": [],
   "source": [
    "num_features = 614"
   ]
  },
  {
   "cell_type": "code",
   "execution_count": 26,
   "metadata": {
    "colab": {},
    "colab_type": "code",
    "id": "HOcYLINbqv3r"
   },
   "outputs": [],
   "source": [
    "feat_train = adj_train\n",
    "\n",
    "feat_test = adj_test"
   ]
  },
  {
   "cell_type": "markdown",
   "metadata": {
    "colab_type": "text",
    "id": "OtCtHVIxqvtJ"
   },
   "source": []
  },
  {
   "cell_type": "code",
   "execution_count": 27,
   "metadata": {
    "colab": {
     "base_uri": "https://localhost:8080/",
     "height": 510
    },
    "colab_type": "code",
    "id": "a1aVESBAk8nu",
    "outputId": "a09bf62a-4075-41ff-8439-1168d060878e"
   },
   "outputs": [
    {
     "name": "stdout",
     "output_type": "stream",
     "text": [
      "WARNING:tensorflow:From /usr/local/lib/python3.6/dist-packages/tensorflow/python/framework/op_def_library.py:263: colocate_with (from tensorflow.python.framework.ops) is deprecated and will be removed in a future version.\n",
      "Instructions for updating:\n",
      "Colocations handled automatically by placer.\n",
      "_________________________________________________________________\n",
      "Layer (type)                 Output Shape              Param #   \n",
      "=================================================================\n",
      "input_2 (InputLayer)         (None, 614, 614, 1)       0         \n",
      "_________________________________________________________________\n",
      "flatten_1 (Flatten)          (None, 376996)            0         \n",
      "_________________________________________________________________\n",
      "dense_1 (Dense)              (None, 20)                7539940   \n",
      "_________________________________________________________________\n",
      "dense_2 (Dense)              (None, 20)                420       \n",
      "_________________________________________________________________\n",
      "dense_3 (Dense)              (None, 20)                420       \n",
      "_________________________________________________________________\n",
      "dense_4 (Dense)              (None, 20)                420       \n",
      "_________________________________________________________________\n",
      "dense_5 (Dense)              (None, 20)                420       \n",
      "_________________________________________________________________\n",
      "dense_6 (Dense)              (None, 20)                420       \n",
      "_________________________________________________________________\n",
      "dense_7 (Dense)              (None, 20)                420       \n",
      "_________________________________________________________________\n",
      "dense_13 (Dense)             (None, 20)                420       \n",
      "_________________________________________________________________\n",
      "dense_14 (Dense)             (None, 1)                 21        \n",
      "=================================================================\n",
      "Total params: 7,542,901\n",
      "Trainable params: 7,542,901\n",
      "Non-trainable params: 0\n",
      "_________________________________________________________________\n"
     ]
    }
   ],
   "source": [
    "# 1st: Convolutional Network on Adjacency Matrix\n",
    "adjacency_input = keras.layers.Input(shape=(matrix_size, matrix_size, 1))\n",
    "\n",
    "# conv1 = Conv2D(\n",
    "#     data_format='channels_last',\n",
    "#     input_shape=(matrix_size, matrix_size, 1),\n",
    "#     filters=32,\n",
    "#     kernel_size=kernel_size,\n",
    "#     strides=strides,\n",
    "# )(adjacency_input)\n",
    "# activation1 = Activation('relu')(conv1)\n",
    "# pool1 = MaxPooling2D(kernel_size, padding='same')(activation1)\n",
    "\n",
    "# conv2 = Conv2D(\n",
    "#     data_format='channels_last',\n",
    "#     input_shape=(matrix_size, matrix_size, 1),\n",
    "#     filters=32,\n",
    "#     kernel_size=kernel_size,\n",
    "#     strides=strides,\n",
    "# )(pool1)\n",
    "# activation2 = Activation('relu')(conv2)\n",
    "# pool2 = MaxPooling2D(kernel_size, padding='same')(activation2)\n",
    "\n",
    "# conv3 = Conv2D(\n",
    "#     data_format='channels_last',\n",
    "#     input_shape=(matrix_size, matrix_size, 1),\n",
    "#     filters=32,\n",
    "#     kernel_size=kernel_size,\n",
    "#     strides=strides,\n",
    "# )(pool2)\n",
    "# activation3 = Activation('relu')(conv3)\n",
    "# pool3 = MaxPooling2D(kernel_size, padding='same')(activation3)\n",
    "\n",
    "# flatten = Flatten()(pool3)\n",
    "\n",
    "# dense1 = Dense(units=32, activation='relu')(flatten)\n",
    "# dense2 = Dense(units=32, activation='relu')(dense1)\n",
    "# dense3 = Dense(units=32, activation='relu')(dense2)\n",
    "\n",
    "# conv_model = keras.models.Model(inputs=adjacency_input, outputs=dense3)\n",
    "\n",
    "# 2nd: Dense, Linear Network on Feature Matrix\n",
    "features_input = keras.layers.Input(shape=(matrix_size, num_features, 1))\n",
    "\n",
    "f_flatten = Flatten(data_format='channels_last')(features_input)\n",
    "\n",
    "f_dense1 = Dense(units=20, activation='relu')(f_flatten)\n",
    "f_dense2 = Dense(units=20, activation='relu')(f_dense1)\n",
    "f_dense3 = Dense(units=20, activation='relu')(f_dense2)\n",
    "f_dense4 = Dense(units=20, activation='relu')(f_dense3)\n",
    "f_dense5 = Dense(units=20, activation='relu')(f_dense4)\n",
    "\n",
    "dense_input = keras.models.Model(inputs = features_input, outputs= f_dense5)\n",
    "\n",
    "# Combine outputs of both networks via a set of dense, linear layers\n",
    "# concat = keras.layers.concatenate(inputs=[conv_model.output ,dense_input.output])\n",
    "c_dense1 =  Dense(units=20, activation='relu')(f_dense5)\n",
    "c_dense2 =  Dense(units=20, activation='relu')(c_dense1)\n",
    "c_dense3 =  Dense(units=20, activation='relu')(c_dense2)\n",
    "c_dense3 =  Dense(units=20, activation='relu')(c_dense2)\n",
    "c_dense3 =  Dense(units=20, activation='relu')(c_dense2)\n",
    "c_dense3 =  Dense(units=20, activation='relu')(c_dense2)\n",
    "c_dense3 =  Dense(units=20, activation='relu')(c_dense2)\n",
    "c_dense3 =  Dense(units=20, activation='relu')(c_dense2)\n",
    "\n",
    "# Dropout and final output layer\n",
    "c_output = Dense(units=1, activation='sigmoid')(c_dense3)\n",
    "\n",
    "model = keras.models.Model(inputs=dense_input.input, outputs=c_output)\n",
    "\n",
    "model.compile(optimizer=Adam(), loss='binary_crossentropy', metrics=['accuracy'])\n",
    "\n",
    "model.summary()"
   ]
  },
  {
   "cell_type": "code",
   "execution_count": 1,
   "metadata": {},
   "outputs": [
    {
     "name": "stderr",
     "output_type": "stream",
     "text": [
      "Using TensorFlow backend.\n"
     ]
    },
    {
     "ename": "NameError",
     "evalue": "name 'model' is not defined",
     "output_type": "error",
     "traceback": [
      "\u001b[0;31m---------------------------------------------------------------------------\u001b[0m",
      "\u001b[0;31mNameError\u001b[0m                                 Traceback (most recent call last)",
      "\u001b[0;32m<ipython-input-1-4682eb0c54f9>\u001b[0m in \u001b[0;36m<module>\u001b[0;34m\u001b[0m\n\u001b[1;32m      9\u001b[0m   \u001b[0;32mreturn\u001b[0m \u001b[0mmodel_to_dot\u001b[0m\u001b[0;34m(\u001b[0m\u001b[0mmodel\u001b[0m\u001b[0;34m)\u001b[0m\u001b[0;34m.\u001b[0m\u001b[0mcreate\u001b[0m\u001b[0;34m(\u001b[0m\u001b[0mprog\u001b[0m\u001b[0;34m=\u001b[0m\u001b[0;34m'dot'\u001b[0m\u001b[0;34m,\u001b[0m \u001b[0mformat\u001b[0m\u001b[0;34m=\u001b[0m\u001b[0;34m'svg'\u001b[0m\u001b[0;34m)\u001b[0m\u001b[0;34m\u001b[0m\u001b[0;34m\u001b[0m\u001b[0m\n\u001b[1;32m     10\u001b[0m \u001b[0;34m\u001b[0m\u001b[0m\n\u001b[0;32m---> 11\u001b[0;31m \u001b[0mmodel_diagram\u001b[0m \u001b[0;34m=\u001b[0m \u001b[0mvisualize_model\u001b[0m\u001b[0;34m(\u001b[0m\u001b[0mmodel\u001b[0m\u001b[0;34m)\u001b[0m\u001b[0;34m\u001b[0m\u001b[0;34m\u001b[0m\u001b[0m\n\u001b[0m\u001b[1;32m     12\u001b[0m \u001b[0;34m\u001b[0m\u001b[0m\n\u001b[1;32m     13\u001b[0m \u001b[0;32mwith\u001b[0m \u001b[0mopen\u001b[0m\u001b[0;34m(\u001b[0m\u001b[0;34m'../images/adj-feat-architecture-dnn.svg'\u001b[0m\u001b[0;34m,\u001b[0m \u001b[0;34m'wb'\u001b[0m\u001b[0;34m)\u001b[0m \u001b[0;32mas\u001b[0m \u001b[0mf\u001b[0m\u001b[0;34m:\u001b[0m\u001b[0;34m\u001b[0m\u001b[0;34m\u001b[0m\u001b[0m\n",
      "\u001b[0;31mNameError\u001b[0m: name 'model' is not defined"
     ]
    }
   ],
   "source": [
    "import keras\n",
    "import pydot as pyd\n",
    "from IPython.display import SVG\n",
    "from keras.utils.vis_utils import model_to_dot\n",
    "\n",
    "keras.utils.vis_utils.pydot = pyd\n",
    "\n",
    "def visualize_model(model):\n",
    "  return model_to_dot(model).create(prog='dot', format='svg')\n",
    "\n",
    "model_diagram = visualize_model(model)\n",
    "\n",
    "with open('../images/adj-feat-architecture-dnn.svg', 'wb') as f:\n",
    "    f.write(model_diagram)\n",
    "\n",
    "SVG(model_diagram)"
   ]
  },
  {
   "cell_type": "code",
   "execution_count": 48,
   "metadata": {
    "colab": {
     "base_uri": "https://localhost:8080/",
     "height": 204
    },
    "colab_type": "code",
    "id": "gAErQWeyk8nz",
    "outputId": "b8910be6-9f6a-43b9-f8e0-a19aed9e8285",
    "scrolled": true
   },
   "outputs": [
    {
     "name": "stdout",
     "output_type": "stream",
     "text": [
      "Epoch 1/5\n",
      "168/168 [==============================] - 71s 421ms/step - loss: 0.5735 - acc: 0.6985\n",
      "Epoch 2/5\n",
      "168/168 [==============================] - 71s 424ms/step - loss: 0.3121 - acc: 0.8681\n",
      "Epoch 3/5\n",
      "168/168 [==============================] - 70s 419ms/step - loss: 0.1297 - acc: 0.9511\n",
      "Epoch 4/5\n",
      "168/168 [==============================] - 72s 427ms/step - loss: 0.1206 - acc: 0.9619\n",
      "Epoch 5/5\n",
      "168/168 [==============================] - 71s 421ms/step - loss: 0.0600 - acc: 0.9812\n"
     ]
    },
    {
     "data": {
      "text/plain": [
       "<keras.callbacks.History at 0x7f33e7ac7780>"
      ]
     },
     "execution_count": 48,
     "metadata": {
      "tags": []
     },
     "output_type": "execute_result"
    }
   ],
   "source": [
    "training_batch_generator = SparseToDenseGenerator(adj_train, feat_train, labels_train, batch_size)\n",
    "\n",
    "model.fit_generator(\n",
    "    generator=training_batch_generator,\n",
    "    epochs=epochs,\n",
    "    steps_per_epoch=steps_per_epoch\n",
    ")"
   ]
  },
  {
   "cell_type": "code",
   "execution_count": 30,
   "metadata": {
    "colab": {},
    "colab_type": "code",
    "id": "Wk-asGoMk8oK"
   },
   "outputs": [],
   "source": [
    "with open('../data/adjacency-dense-model-binary.pickle', 'wb') as f:\n",
    "    pickle.dump(model,f)"
   ]
  },
  {
   "cell_type": "markdown",
   "metadata": {
    "colab_type": "text",
    "id": "w3476EyA3g-V"
   },
   "source": [
    "# Evaluation"
   ]
  },
  {
   "cell_type": "code",
   "execution_count": 32,
   "metadata": {
    "colab": {},
    "colab_type": "code",
    "id": "bQcagc2HK0c3"
   },
   "outputs": [],
   "source": [
    "model = None\n",
    "with open('../data/adjacency-dense-model-binary.pickle', 'rb') as f:\n",
    "    model = pickle.load(f)"
   ]
  },
  {
   "cell_type": "code",
   "execution_count": 33,
   "metadata": {
    "colab": {
     "base_uri": "https://localhost:8080/",
     "height": 34
    },
    "colab_type": "code",
    "id": "nobNI0B1k8oP",
    "outputId": "2791a56c-5f0f-471d-c2c3-acdef80ad4ea",
    "scrolled": true
   },
   "outputs": [
    {
     "ename": "AttributeError",
     "evalue": "'NoneType' object has no attribute 'evaluate_generator'",
     "output_type": "error",
     "traceback": [
      "\u001b[0;31m---------------------------------------------------------------------------\u001b[0m",
      "\u001b[0;31mAttributeError\u001b[0m                            Traceback (most recent call last)",
      "\u001b[0;32m<ipython-input-33-126986e27df0>\u001b[0m in \u001b[0;36m<module>\u001b[0;34m\u001b[0m\n\u001b[1;32m      1\u001b[0m \u001b[0mtest_batch_generator\u001b[0m \u001b[0;34m=\u001b[0m \u001b[0mSparseToDenseGenerator\u001b[0m\u001b[0;34m(\u001b[0m\u001b[0madj_test\u001b[0m\u001b[0;34m,\u001b[0m \u001b[0mfeat_test\u001b[0m\u001b[0;34m,\u001b[0m \u001b[0mlabels_test\u001b[0m\u001b[0;34m,\u001b[0m \u001b[0mbatch_size\u001b[0m\u001b[0;34m)\u001b[0m\u001b[0;34m\u001b[0m\u001b[0;34m\u001b[0m\u001b[0m\n\u001b[1;32m      2\u001b[0m \u001b[0;34m\u001b[0m\u001b[0m\n\u001b[0;32m----> 3\u001b[0;31m model.evaluate_generator(\n\u001b[0m\u001b[1;32m      4\u001b[0m     \u001b[0mgenerator\u001b[0m\u001b[0;34m=\u001b[0m\u001b[0mtest_batch_generator\u001b[0m\u001b[0;34m,\u001b[0m\u001b[0;34m\u001b[0m\u001b[0;34m\u001b[0m\u001b[0m\n\u001b[1;32m      5\u001b[0m )\n",
      "\u001b[0;31mAttributeError\u001b[0m: 'NoneType' object has no attribute 'evaluate_generator'"
     ]
    }
   ],
   "source": [
    "test_batch_generator = SparseToDenseGenerator(adj_test, feat_test, labels_test, batch_size)\n",
    "\n",
    "model.evaluate_generator(\n",
    "    generator=test_batch_generator,\n",
    ")"
   ]
  },
  {
   "cell_type": "code",
   "execution_count": 0,
   "metadata": {
    "colab": {},
    "colab_type": "code",
    "id": "vnHI_fjlk8ob"
   },
   "outputs": [],
   "source": [
    "import seaborn as sns\n",
    "from sklearn import metrics\n",
    "import matplotlib"
   ]
  },
  {
   "cell_type": "code",
   "execution_count": 0,
   "metadata": {
    "colab": {},
    "colab_type": "code",
    "id": "v4bFyChZOi0k"
   },
   "outputs": [],
   "source": [
    "class SparseToDensePredictGenerator(keras.utils.Sequence):\n",
    "\n",
    "    def __init__(self, sparse_adjs, sparse_feats, batch_size):\n",
    "        self.sparse_adjs = sparse_adjs\n",
    "        self.sparse_feats = sparse_feats\n",
    "        self.batch_size = batch_size\n",
    "\n",
    "    def __len__(self):\n",
    "        return int(np.ceil(len(self.sparse_feats) / float(self.batch_size)))\n",
    "\n",
    "    def __getitem__(self, batch_num):\n",
    "        start_index = batch_num * self.batch_size\n",
    "        end_index = (batch_num + 1) * self.batch_size\n",
    "        \n",
    "        batch_sparse_adjs = self.sparse_adjs[start_index:end_index]\n",
    "        batch_sparse_feats = self.sparse_feats[start_index:end_index]\n",
    "        \n",
    "        batch_dense_adjs = np.array([sparse_matrix.todense() for sparse_matrix in batch_sparse_adjs])\n",
    "        batch_dense_feats = np.array([sparse_matrix.todense() for sparse_matrix in batch_sparse_feats])\n",
    "        \n",
    "        # TODO: move this somewhere better\n",
    "        # Conv2D requires an extra dimension for \"channels\", so we need to convert our data from\n",
    "        # the shape (batch_size, matrix_rows, matrix_columns)\n",
    "        # to (batch_size, matrix_rows, matrix_columns, 1)\n",
    "        batch_dense_adjs = np.reshape(batch_dense_adjs, batch_dense_adjs.shape + (1, ))\n",
    "        batch_dense_feats = np.reshape(batch_dense_feats, batch_dense_feats.shape + (1, ))\n",
    "\n",
    "        return [batch_dense_adjs, batch_dense_feats]"
   ]
  },
  {
   "cell_type": "code",
   "execution_count": 0,
   "metadata": {
    "colab": {},
    "colab_type": "code",
    "id": "5AJ9ozp5k8og"
   },
   "outputs": [],
   "source": [
    "predict_batch_generator = SparseToDensePredictGenerator(adj_test, feat_test, batch_size)\n",
    "y_predict = model.predict_generator(predict_batch_generator)"
   ]
  },
  {
   "cell_type": "code",
   "execution_count": 0,
   "metadata": {
    "colab": {},
    "colab_type": "code",
    "id": "gh6M9qH-k8ok"
   },
   "outputs": [],
   "source": [
    "import numpy as np"
   ]
  },
  {
   "cell_type": "code",
   "execution_count": 0,
   "metadata": {
    "colab": {
     "base_uri": "https://localhost:8080/",
     "height": 767
    },
    "colab_type": "code",
    "id": "xrvhYYmFk8oo",
    "outputId": "d0f6fae8-eb42-4f0d-ad59-30504800bbde"
   },
   "outputs": [
    {
     "data": {
      "image/png": "[encoded data removed]",
      "text/plain": [
       "<Figure size 1080x864 with 2 Axes>"
      ]
     },
     "metadata": {
      "tags": []
     },
     "output_type": "display_data"
    }
   ],
   "source": [
    "confusion_matrix = pd.DataFrame(\n",
    "    data=metrics.confusion_matrix(labels_test, np.rint(y_predict)),\n",
    ")\n",
    "\n",
    "confusion_figure, confusion_axes = matplotlib.pyplot.subplots()\n",
    "confusion_figure.set_size_inches(15, 12)\n",
    "confusion_axes.set_title(\n",
    "    'Confusion matrix showing the frequency of \\n'\n",
    "    'correct and incorrect bug classification predictions.'\n",
    "    '\\n\\n'  # hack to avoid overlap with x-axis labels below\n",
    ")\n",
    "confusion_axes.xaxis.tick_top()  # move x-axis labels to top of matrix\n",
    "_ = sns.heatmap(\n",
    "    confusion_matrix,\n",
    "    annot=True,\n",
    "    fmt=\"d\",\n",
    "    cmap=sns.color_palette(\"Blues\"),\n",
    "    vmin=0,\n",
    "    ax=confusion_axes,\n",
    ")"
   ]
  },
  {
   "cell_type": "code",
   "execution_count": 0,
   "metadata": {
    "colab": {
     "base_uri": "https://localhost:8080/",
     "height": 34
    },
    "colab_type": "code",
    "id": "yatQ4RKhP2H0",
    "outputId": "f0e6871d-75c3-4119-f04f-86d414320177"
   },
   "outputs": [
    {
     "data": {
      "text/plain": [
       "(4, 4)"
      ]
     },
     "execution_count": 34,
     "metadata": {
      "tags": []
     },
     "output_type": "execute_result"
    }
   ],
   "source": [
    "np.argmax(labels_test.astype(int)), np.argmax(np.rint(y_predict)),"
   ]
  },
  {
   "cell_type": "code",
   "execution_count": 0,
   "metadata": {
    "colab": {},
    "colab_type": "code",
    "id": "SFlZwTBIk8o8"
   },
   "outputs": [],
   "source": [
    "from sklearn.metrics import roc_curve\n",
    "fpr_keras, tpr_keras, thresholds_keras = roc_curve(\n",
    "    labels_test.astype(int),\n",
    "    np.rint(y_predict),\n",
    ")"
   ]
  },
  {
   "cell_type": "code",
   "execution_count": 0,
   "metadata": {
    "colab": {},
    "colab_type": "code",
    "id": "a8_7LWSmk8pI"
   },
   "outputs": [],
   "source": [
    "from sklearn.metrics import auc\n",
    "import matplotlib.pyplot as plt\n",
    "auc_keras = auc(fpr_keras, tpr_keras)"
   ]
  },
  {
   "cell_type": "code",
   "execution_count": 0,
   "metadata": {
    "colab": {
     "base_uri": "https://localhost:8080/",
     "height": 295
    },
    "colab_type": "code",
    "id": "mM9vPPIGk8pO",
    "outputId": "2ddadccb-5547-47cf-92f2-c018b5da9d99"
   },
   "outputs": [
    {
     "data": {
      "image/png": "[encoded data removed]",
      "text/plain": [
       "<Figure size 432x288 with 1 Axes>"
      ]
     },
     "metadata": {
      "tags": []
     },
     "output_type": "display_data"
    }
   ],
   "source": [
    "plt.plot(fpr_keras, tpr_keras, label='Keras (area = {:.3f})'.format(auc_keras))\n",
    "plt.xlabel('False positive rate')\n",
    "plt.ylabel('True positive rate')\n",
    "plt.title('ROC curve')\n",
    "plt.legend(loc='best')\n",
    "plt.show()"
   ]
  },
  {
   "cell_type": "code",
   "execution_count": 0,
   "metadata": {
    "colab": {},
    "colab_type": "code",
    "id": "WIxU3yLeZqk3"
   },
   "outputs": [],
   "source": [
    "tn, fp, fn, tp = metrics.confusion_matrix(\n",
    "    labels_test.astype(int), \n",
    "    np.rint(y_predict)\n",
    ").flatten().tolist()\n",
    "\n",
    "fpr_nn = fp/(fp+tp)\n",
    "fnr_nn = fn/(fn+tn)"
   ]
  },
  {
   "cell_type": "code",
   "execution_count": 0,
   "metadata": {
    "colab": {
     "base_uri": "https://localhost:8080/",
     "height": 34
    },
    "colab_type": "code",
    "id": "Irias0wiQ5uS",
    "outputId": "2b67445e-fc24-4a89-b9f5-1ca4e83e3ef3",
    "scrolled": true
   },
   "outputs": [
    {
     "data": {
      "text/plain": [
       "(0.0182370820668693, 0.015180265654648957)"
      ]
     },
     "execution_count": 39,
     "metadata": {
      "tags": []
     },
     "output_type": "execute_result"
    }
   ],
   "source": [
    "fpr_nn, fnr_nn"
   ]
  },
  {
   "cell_type": "markdown",
   "metadata": {},
   "source": [
    "## Random Padding (translational invariance)"
   ]
  },
  {
   "cell_type": "code",
   "execution_count": null,
   "metadata": {},
   "outputs": [],
   "source": [
    "import random\n",
    "\n",
    "def random_padder(matrix, target_rows, target_columns):\n",
    "    '''\n",
    "    Randomly pads matrix with zeros to the desired size\n",
    "    '''\n",
    "    rows, columns = matrix.shape[0], matrix.shape[1]\n",
    "    \n",
    "    rand = random.randint(matrix.shape[0],target_columns)\n",
    "    \n",
    "    tl_row_corrector = csr_matrix((rand-rows, rows))\n",
    "    tl_col_corrector = csr_matrix((rand, rand-columns))\n",
    "    \n",
    "    tl_matrix = vstack([tl_row_corrector, matrix])\n",
    "    tl_matrix = hstack([tl_col_corrector, tl_matrix])\n",
    "    \n",
    "    rows, columns = tl_matrix.shape[0], tl_matrix.shape[1]\n",
    "    \n",
    "    br_row_corrector = csr_matrix((target_rows-rows, rows))\n",
    "    br_col_corrector = csr_matrix((target_columns, target_columns-columns))\n",
    "\n",
    "    br_matrix = vstack([tl_matrix, br_row_corrector])\n",
    "    br_matrix = hstack([br_matrix, br_col_corrector])\n",
    "\n",
    "    br_matrix = br_matrix.astype(np.int)\n",
    "    \n",
    "    return br_matrix"
   ]
  },
  {
   "cell_type": "code",
   "execution_count": null,
   "metadata": {},
   "outputs": [],
   "source": [
    "rand_adj_df = adj_orig_df.copy()"
   ]
  },
  {
   "cell_type": "code",
   "execution_count": null,
   "metadata": {},
   "outputs": [],
   "source": [
    "rand_adj_df['adjacency_matrix'] = rand_adj_df['adjacency_matrix'].apply(lambda m: random_padder(m, matrix_size, matrix_size))"
   ]
  },
  {
   "cell_type": "code",
   "execution_count": null,
   "metadata": {},
   "outputs": [],
   "source": [
    "testcase_ids = rand_adj_df['testcase_ID'].values\n",
    "adjacency_matrices = rand_adj_df['matrix'].values\n",
    "labels = rand_adj_df['bug'].values"
   ]
  },
  {
   "cell_type": "code",
   "execution_count": null,
   "metadata": {},
   "outputs": [],
   "source": [
    "adj_train, adj_test, feat_train, feat_test, labels_train, labels_test = train_test_split(adjacency_matrices, feature_matrices, labels, test_size=0.2, random_state=0)"
   ]
  },
  {
   "cell_type": "code",
   "execution_count": null,
   "metadata": {},
   "outputs": [],
   "source": [
    "test_batch_generator = SparseToDenseGenerator(adj_test, feat_test, labels_test, batch_size)\n",
    "\n",
    "model.evaluate_generator(\n",
    "    generator=test_batch_generator,\n",
    ")"
   ]
  },
  {
   "cell_type": "code",
   "execution_count": null,
   "metadata": {},
   "outputs": [],
   "source": [
    "predict_batch_generator = SparseToDensePredictGenerator(adj_test, feat_test, batch_size)\n",
    "y_predict = model.predict_generator(predict_batch_generator)"
   ]
  },
  {
   "cell_type": "code",
   "execution_count": null,
   "metadata": {},
   "outputs": [],
   "source": [
    "confusion_matrix = pd.DataFrame(\n",
    "    data=metrics.confusion_matrix(labels_test, np.rint(y_predict)),\n",
    ")\n",
    "\n",
    "confusion_figure, confusion_axes = matplotlib.pyplot.subplots()\n",
    "confusion_figure.set_size_inches(15, 12)\n",
    "confusion_axes.set_title(\n",
    "    'Confusion matrix showing the frequency of \\n'\n",
    "    'correct and incorrect bug classification predictions.'\n",
    "    '\\n\\n'  # hack to avoid overlap with x-axis labels below\n",
    ")\n",
    "confusion_axes.xaxis.tick_top()  # move x-axis labels to top of matrix\n",
    "_ = sns.heatmap(\n",
    "    confusion_matrix,\n",
    "    annot=True,\n",
    "    fmt=\"d\",\n",
    "    cmap=sns.color_palette(\"Blues\"),\n",
    "    vmin=0,\n",
    "    ax=confusion_axes,\n",
    ")"
   ]
  },
  {
   "cell_type": "code",
   "execution_count": null,
   "metadata": {},
   "outputs": [],
   "source": [
    "from sklearn.metrics import roc_curve\n",
    "fpr_keras, tpr_keras, thresholds_keras = roc_curve(\n",
    "    labels_test.astype(int),\n",
    "    np.rint(y_predict),\n",
    ")"
   ]
  },
  {
   "cell_type": "code",
   "execution_count": null,
   "metadata": {},
   "outputs": [],
   "source": [
    "from sklearn.metrics import auc\n",
    "import matplotlib.pyplot as plt\n",
    "auc_keras = auc(fpr_keras, tpr_keras)"
   ]
  },
  {
   "cell_type": "code",
   "execution_count": null,
   "metadata": {},
   "outputs": [],
   "source": [
    "plt.plot(fpr_keras, tpr_keras, label='Keras (area = {:.3f})'.format(auc_keras))\n",
    "plt.xlabel('False positive rate')\n",
    "plt.ylabel('True positive rate')\n",
    "plt.title('ROC curve')\n",
    "plt.legend(loc='best')\n",
    "plt.show()"
   ]
  },
  {
   "cell_type": "code",
   "execution_count": null,
   "metadata": {},
   "outputs": [],
   "source": [
    "fpr_nn, fnr_nn"
   ]
  }
 ],
 "metadata": {
  "accelerator": "TPU",
  "colab": {
   "machine_shape": "hm",
   "name": "baseline-model-binary-adj-matrices.ipynb",
   "provenance": [],
   "toc_visible": true,
   "version": "0.3.2"
  },
  "kernelspec": {
   "display_name": "Python 3",
   "language": "python",
   "name": "python3"
  },
  "language_info": {
   "codemirror_mode": {
    "name": "ipython",
    "version": 3
   },
   "file_extension": ".py",
   "mimetype": "text/x-python",
   "name": "python",
   "nbconvert_exporter": "python",
   "pygments_lexer": "ipython3",
   "version": "3.6.8"
  },
  "toc": {
   "base_numbering": 1,
   "nav_menu": {},
   "number_sections": true,
   "sideBar": true,
   "skip_h1_title": false,
   "title_cell": "Table of Contents",
   "title_sidebar": "Contents",
   "toc_cell": false,
   "toc_position": {},
   "toc_section_display": true,
   "toc_window_display": false
  }
 },
 "nbformat": 4,
 "nbformat_minor": 1
}
