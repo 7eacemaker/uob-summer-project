{
  "nbformat": 4,
  "nbformat_minor": 0,
  "metadata": {
    "accelerator": "TPU",
    "colab": {
      "name": "ML-adj-matrix-conv-neural-network-vdisc.ipynb",
      "version": "0.3.2",
      "provenance": [],
      "collapsed_sections": [],
      "toc_visible": true,
      "machine_shape": "hm",
      "include_colab_link": true
    },
    "kernelspec": {
      "display_name": "Python 3",
      "language": "python",
      "name": "python3"
    },
    "language_info": {
      "codemirror_mode": {
        "name": "ipython",
        "version": 3
      },
      "file_extension": ".py",
      "mimetype": "text/x-python",
      "name": "python",
      "nbconvert_exporter": "python",
      "pygments_lexer": "ipython3",
      "version": "3.6.8"
    },
    "toc": {
      "base_numbering": 1,
      "nav_menu": {},
      "number_sections": true,
      "sideBar": true,
      "skip_h1_title": false,
      "title_cell": "Table of Contents",
      "title_sidebar": "Contents",
      "toc_cell": false,
      "toc_position": {},
      "toc_section_display": true,
      "toc_window_display": false
    }
  },
  "cells": [
    {
      "cell_type": "markdown",
      "metadata": {
        "id": "view-in-github",
        "colab_type": "text"
      },
      "source": [
        "<a href=\"https://colab.research.google.com/github/dj311/uob-summer-project/blob/master/code/ML_adj_matrix_conv_neural_network_vdisc.ipynb\" target=\"_parent\"><img src=\"https://colab.research.google.com/assets/colab-badge.svg\" alt=\"Open In Colab\"/></a>"
      ]
    },
    {
      "cell_type": "markdown",
      "metadata": {
        "colab_type": "text",
        "id": "K4oesAZzmRhL"
      },
      "source": [
        "# Colab Setup"
      ]
    },
    {
      "cell_type": "code",
      "metadata": {
        "colab_type": "code",
        "id": "W3hzFsJWtCn-",
        "outputId": "d9beeb9d-d3c8-4b27-c5cf-5714d9b6c015",
        "colab": {
          "base_uri": "https://localhost:8080/",
          "height": 590
        }
      },
      "source": [
        "!mkdir -p /project/data && cd /project/data && wget -O vdisc_adj_matrix_withlabel.pickle https://github.com/dj311/uob-summer-project/raw/master/data/vdisc_adj_matrix_withlabel.pickle\n",
        "!mkdir -p /project/data && cd /project/data && wget -O adjacency-matrix-model-binary.pickle https://github.com/dj311/uob-summer-project/raw/master/data/adjacency-matrix-model-binary.pickle\n",
        "\n",
        "!mkdir -p /project/code\n",
        "%cd /project/code"
      ],
      "execution_count": 341,
      "outputs": [
        {
          "output_type": "stream",
          "text": [
            "--2019-08-01 14:59:37--  https://github.com/dj311/uob-summer-project/raw/master/data/vdisc_adj_matrix_withlabel.pickle\n",
            "Resolving github.com (github.com)... 140.82.113.3\n",
            "Connecting to github.com (github.com)|140.82.113.3|:443... connected.\n",
            "HTTP request sent, awaiting response... 302 Found\n",
            "Location: https://media.githubusercontent.com/media/dj311/uob-summer-project/master/data/vdisc_adj_matrix_withlabel.pickle [following]\n",
            "--2019-08-01 14:59:37--  https://media.githubusercontent.com/media/dj311/uob-summer-project/master/data/vdisc_adj_matrix_withlabel.pickle\n",
            "Resolving media.githubusercontent.com (media.githubusercontent.com)... 151.101.0.133, 151.101.64.133, 151.101.128.133, ...\n",
            "Connecting to media.githubusercontent.com (media.githubusercontent.com)|151.101.0.133|:443... connected.\n",
            "HTTP request sent, awaiting response... 200 OK\n",
            "Length: 746797025 (712M) [application/octet-stream]\n",
            "Saving to: ‘vdisc_adj_matrix_withlabel.pickle’\n",
            "\n",
            "vdisc_adj_matrix_wi 100%[===================>] 712.20M   124MB/s    in 5.9s    \n",
            "\n",
            "2019-08-01 15:00:36 (121 MB/s) - ‘vdisc_adj_matrix_withlabel.pickle’ saved [746797025/746797025]\n",
            "\n",
            "--2019-08-01 15:00:38--  https://github.com/dj311/uob-summer-project/raw/master/data/adjacency-matrix-model-binary.pickle\n",
            "Resolving github.com (github.com)... 140.82.114.3\n",
            "Connecting to github.com (github.com)|140.82.114.3|:443... connected.\n",
            "HTTP request sent, awaiting response... 302 Found\n",
            "Location: https://media.githubusercontent.com/media/dj311/uob-summer-project/master/data/adjacency-matrix-model-binary.pickle [following]\n",
            "--2019-08-01 15:00:38--  https://media.githubusercontent.com/media/dj311/uob-summer-project/master/data/adjacency-matrix-model-binary.pickle\n",
            "Resolving media.githubusercontent.com (media.githubusercontent.com)... 151.101.0.133, 151.101.64.133, 151.101.128.133, ...\n",
            "Connecting to media.githubusercontent.com (media.githubusercontent.com)|151.101.0.133|:443... connected.\n",
            "HTTP request sent, awaiting response... 200 OK\n",
            "Length: 71124065 (68M) [application/octet-stream]\n",
            "Saving to: ‘adjacency-matrix-model-binary.pickle’\n",
            "\n",
            "adjacency-matrix-mo 100%[===================>]  67.83M  76.9MB/s    in 0.9s    \n",
            "\n",
            "2019-08-01 15:00:40 (76.9 MB/s) - ‘adjacency-matrix-model-binary.pickle’ saved [71124065/71124065]\n",
            "\n",
            "/project/code\n"
          ],
          "name": "stdout"
        }
      ]
    },
    {
      "cell_type": "markdown",
      "metadata": {
        "colab_type": "text",
        "id": "lO9-8NDKk8ja"
      },
      "source": [
        "# Import & Preprocess Dataset\n",
        "\n",
        "First we import the data from the [previous notebook](./adjacency_matrix.ipynb).\n"
      ]
    },
    {
      "cell_type": "code",
      "metadata": {
        "colab_type": "code",
        "id": "T8k-PxYdI1WU",
        "outputId": "9835890a-d967-48a0-aae2-5a66b42bc7a1",
        "colab": {
          "base_uri": "https://localhost:8080/",
          "height": 131
        }
      },
      "source": [
        "!pip install sklearn"
      ],
      "execution_count": 342,
      "outputs": [
        {
          "output_type": "stream",
          "text": [
            "Requirement already satisfied: sklearn in /usr/local/lib/python3.6/dist-packages (0.0)\n",
            "Requirement already satisfied: scikit-learn in /usr/local/lib/python3.6/dist-packages (from sklearn) (0.21.2)\n",
            "Requirement already satisfied: scipy>=0.17.0 in /usr/local/lib/python3.6/dist-packages (from scikit-learn->sklearn) (1.3.0)\n",
            "Requirement already satisfied: numpy>=1.11.0 in /usr/local/lib/python3.6/dist-packages (from scikit-learn->sklearn) (1.16.4)\n",
            "Requirement already satisfied: joblib>=0.11 in /usr/local/lib/python3.6/dist-packages (from scikit-learn->sklearn) (0.13.2)\n"
          ],
          "name": "stdout"
        }
      ]
    },
    {
      "cell_type": "code",
      "metadata": {
        "colab_type": "code",
        "id": "uB5QGgAgk8je",
        "colab": {}
      },
      "source": [
        "import tensorflow as tf\n",
        "import keras\n",
        "import sklearn\n",
        "import numpy as np\n",
        "import pickle\n",
        "from scipy.sparse import csr_matrix, hstack, vstack\n",
        "from sklearn.model_selection import train_test_split\n",
        "\n",
        "run_opts = tf.RunOptions(report_tensor_allocations_upon_oom = True)\n",
        "np.random.seed(1248)\n",
        "\n",
        "tf.logging.set_verbosity(tf.logging.INFO)"
      ],
      "execution_count": 0,
      "outputs": []
    },
    {
      "cell_type": "code",
      "metadata": {
        "colab_type": "code",
        "id": "CGIbzYT0k8jz",
        "colab": {}
      },
      "source": [
        "import pandas as pd"
      ],
      "execution_count": 0,
      "outputs": []
    },
    {
      "cell_type": "code",
      "metadata": {
        "id": "Q7dVguTCM43S",
        "colab_type": "code",
        "colab": {}
      },
      "source": [
        "with open(\"/project/data/avdisc_adj_matrix_withlabel.pickle\", 'rb') as f:\n",
        "    adj = pickle.load(f)"
      ],
      "execution_count": 0,
      "outputs": []
    },
    {
      "cell_type": "code",
      "metadata": {
        "id": "AuHmQTl4M43V",
        "colab_type": "code",
        "colab": {}
      },
      "source": [
        "columns = ['testcase_ID','adj','buffer']"
      ],
      "execution_count": 0,
      "outputs": []
    },
    {
      "cell_type": "code",
      "metadata": {
        "id": "3t2QB82kM43Y",
        "colab_type": "code",
        "colab": {}
      },
      "source": [
        "adj = adj[columns]"
      ],
      "execution_count": 0,
      "outputs": []
    },
    {
      "cell_type": "code",
      "metadata": {
        "colab_type": "code",
        "id": "PHikMdozk8k1",
        "colab": {}
      },
      "source": [
        "adj = adj.rename(columns={'testcase_ID': 'testcase_ID', 'adj': 'matrix', 'buffer': 'bug'})"
      ],
      "execution_count": 0,
      "outputs": []
    },
    {
      "cell_type": "code",
      "metadata": {
        "id": "R7xwCRSjM43b",
        "colab_type": "code",
        "colab": {
          "base_uri": "https://localhost:8080/",
          "height": 204
        },
        "outputId": "7d3953fb-15b8-43d6-8cca-ccc562c7c0a7"
      },
      "source": [
        "adj.head()"
      ],
      "execution_count": 475,
      "outputs": [
        {
          "output_type": "execute_result",
          "data": {
            "text/html": [
              "<div>\n",
              "<style scoped>\n",
              "    .dataframe tbody tr th:only-of-type {\n",
              "        vertical-align: middle;\n",
              "    }\n",
              "\n",
              "    .dataframe tbody tr th {\n",
              "        vertical-align: top;\n",
              "    }\n",
              "\n",
              "    .dataframe thead th {\n",
              "        text-align: right;\n",
              "    }\n",
              "</style>\n",
              "<table border=\"1\" class=\"dataframe\">\n",
              "  <thead>\n",
              "    <tr style=\"text-align: right;\">\n",
              "      <th></th>\n",
              "      <th>testcase_ID</th>\n",
              "      <th>matrix</th>\n",
              "      <th>bug</th>\n",
              "    </tr>\n",
              "  </thead>\n",
              "  <tbody>\n",
              "    <tr>\n",
              "      <th>0</th>\n",
              "      <td>vdisc_testcase_0</td>\n",
              "      <td>(0, 1)\\t1\\n  (1, 0)\\t1\\n  (1, 2)\\t1\\n  (1, 3...</td>\n",
              "      <td>False</td>\n",
              "    </tr>\n",
              "    <tr>\n",
              "      <th>1</th>\n",
              "      <td>vdisc_testcase_1</td>\n",
              "      <td>(0, 1)\\t1\\n  (1, 0)\\t1\\n  (1, 2)\\t1\\n  (1, 3...</td>\n",
              "      <td>False</td>\n",
              "    </tr>\n",
              "    <tr>\n",
              "      <th>2</th>\n",
              "      <td>vdisc_testcase_2</td>\n",
              "      <td>(0, 1)\\t1\\n  (1, 0)\\t1\\n  (1, 2)\\t1\\n  (2, 1...</td>\n",
              "      <td>False</td>\n",
              "    </tr>\n",
              "    <tr>\n",
              "      <th>3</th>\n",
              "      <td>vdisc_testcase_5</td>\n",
              "      <td>(0, 1)\\t1\\n  (1, 0)\\t1\\n  (1, 2)\\t1\\n  (1, 4...</td>\n",
              "      <td>False</td>\n",
              "    </tr>\n",
              "    <tr>\n",
              "      <th>4</th>\n",
              "      <td>vdisc_testcase_6</td>\n",
              "      <td>(0, 1)\\t1\\n  (1, 0)\\t1\\n  (1, 2)\\t1\\n  (1, 3...</td>\n",
              "      <td>False</td>\n",
              "    </tr>\n",
              "  </tbody>\n",
              "</table>\n",
              "</div>"
            ],
            "text/plain": [
              "        testcase_ID                                             matrix    bug\n",
              "0  vdisc_testcase_0    (0, 1)\\t1\\n  (1, 0)\\t1\\n  (1, 2)\\t1\\n  (1, 3...  False\n",
              "1  vdisc_testcase_1    (0, 1)\\t1\\n  (1, 0)\\t1\\n  (1, 2)\\t1\\n  (1, 3...  False\n",
              "2  vdisc_testcase_2    (0, 1)\\t1\\n  (1, 0)\\t1\\n  (1, 2)\\t1\\n  (2, 1...  False\n",
              "3  vdisc_testcase_5    (0, 1)\\t1\\n  (1, 0)\\t1\\n  (1, 2)\\t1\\n  (1, 4...  False\n",
              "4  vdisc_testcase_6    (0, 1)\\t1\\n  (1, 0)\\t1\\n  (1, 2)\\t1\\n  (1, 3...  False"
            ]
          },
          "metadata": {
            "tags": []
          },
          "execution_count": 475
        }
      ]
    },
    {
      "cell_type": "markdown",
      "metadata": {
        "colab_type": "text",
        "id": "qB06ooxxo--s"
      },
      "source": [
        "Next, find out the maximum size of an adjacency matrix, then convert all matrices to have the same dimension."
      ]
    },
    {
      "cell_type": "code",
      "metadata": {
        "colab_type": "code",
        "id": "HNY1UrHJk8lg",
        "colab": {}
      },
      "source": [
        "adj['matrix_size'] = adj.matrix.apply(lambda x: x.shape[0])"
      ],
      "execution_count": 0,
      "outputs": []
    },
    {
      "cell_type": "code",
      "metadata": {
        "colab_type": "code",
        "id": "p6zGXUxbk8l1",
        "colab": {}
      },
      "source": [
        "adj = adj.loc[adj['matrix_size']>0]"
      ],
      "execution_count": 0,
      "outputs": []
    },
    {
      "cell_type": "code",
      "metadata": {
        "id": "txpJszQorAbu",
        "colab_type": "code",
        "colab": {
          "base_uri": "https://localhost:8080/",
          "height": 204
        },
        "outputId": "4921880f-b5d4-4e3a-9a9f-8e747f7a2f05"
      },
      "source": [
        "adj.head()"
      ],
      "execution_count": 478,
      "outputs": [
        {
          "output_type": "execute_result",
          "data": {
            "text/html": [
              "<div>\n",
              "<style scoped>\n",
              "    .dataframe tbody tr th:only-of-type {\n",
              "        vertical-align: middle;\n",
              "    }\n",
              "\n",
              "    .dataframe tbody tr th {\n",
              "        vertical-align: top;\n",
              "    }\n",
              "\n",
              "    .dataframe thead th {\n",
              "        text-align: right;\n",
              "    }\n",
              "</style>\n",
              "<table border=\"1\" class=\"dataframe\">\n",
              "  <thead>\n",
              "    <tr style=\"text-align: right;\">\n",
              "      <th></th>\n",
              "      <th>testcase_ID</th>\n",
              "      <th>matrix</th>\n",
              "      <th>bug</th>\n",
              "      <th>matrix_size</th>\n",
              "    </tr>\n",
              "  </thead>\n",
              "  <tbody>\n",
              "    <tr>\n",
              "      <th>0</th>\n",
              "      <td>vdisc_testcase_0</td>\n",
              "      <td>(0, 1)\\t1\\n  (1, 0)\\t1\\n  (1, 2)\\t1\\n  (1, 3...</td>\n",
              "      <td>False</td>\n",
              "      <td>60</td>\n",
              "    </tr>\n",
              "    <tr>\n",
              "      <th>1</th>\n",
              "      <td>vdisc_testcase_1</td>\n",
              "      <td>(0, 1)\\t1\\n  (1, 0)\\t1\\n  (1, 2)\\t1\\n  (1, 3...</td>\n",
              "      <td>False</td>\n",
              "      <td>4</td>\n",
              "    </tr>\n",
              "    <tr>\n",
              "      <th>2</th>\n",
              "      <td>vdisc_testcase_2</td>\n",
              "      <td>(0, 1)\\t1\\n  (1, 0)\\t1\\n  (1, 2)\\t1\\n  (2, 1...</td>\n",
              "      <td>False</td>\n",
              "      <td>3</td>\n",
              "    </tr>\n",
              "    <tr>\n",
              "      <th>3</th>\n",
              "      <td>vdisc_testcase_5</td>\n",
              "      <td>(0, 1)\\t1\\n  (1, 0)\\t1\\n  (1, 2)\\t1\\n  (1, 4...</td>\n",
              "      <td>False</td>\n",
              "      <td>36</td>\n",
              "    </tr>\n",
              "    <tr>\n",
              "      <th>4</th>\n",
              "      <td>vdisc_testcase_6</td>\n",
              "      <td>(0, 1)\\t1\\n  (1, 0)\\t1\\n  (1, 2)\\t1\\n  (1, 3...</td>\n",
              "      <td>False</td>\n",
              "      <td>10</td>\n",
              "    </tr>\n",
              "  </tbody>\n",
              "</table>\n",
              "</div>"
            ],
            "text/plain": [
              "        testcase_ID  ... matrix_size\n",
              "0  vdisc_testcase_0  ...          60\n",
              "1  vdisc_testcase_1  ...           4\n",
              "2  vdisc_testcase_2  ...           3\n",
              "3  vdisc_testcase_5  ...          36\n",
              "4  vdisc_testcase_6  ...          10\n",
              "\n",
              "[5 rows x 4 columns]"
            ]
          },
          "metadata": {
            "tags": []
          },
          "execution_count": 478
        }
      ]
    },
    {
      "cell_type": "markdown",
      "metadata": {
        "colab_type": "text",
        "id": "VlN1pb2SJW2i"
      },
      "source": [
        "So we know that 75% of the dataset has a matrix size <= 614, which is approximately 18000 datapoints. Picking the full dataset would require matrices of dimension 44401x44401 which require 15 gb of memory each. This is isn't feasible, however picking matrices of size 614x614 or less gives a per matrix size of 3.38mb - far more manageable!"
      ]
    },
    {
      "cell_type": "code",
      "metadata": {
        "colab_type": "code",
        "id": "JXR174VPKKzR",
        "outputId": "8cd03447-9f34-4e6a-8dad-020eb9587ad1",
        "colab": {
          "base_uri": "https://localhost:8080/",
          "height": 34
        }
      },
      "source": [
        "matrix_size = 614\n",
        "adj = adj[adj['matrix_size'] <= matrix_size]\n",
        "len(adj)"
      ],
      "execution_count": 479,
      "outputs": [
        {
          "output_type": "execute_result",
          "data": {
            "text/plain": [
              "765948"
            ]
          },
          "metadata": {
            "tags": []
          },
          "execution_count": 479
        }
      ]
    },
    {
      "cell_type": "code",
      "metadata": {
        "id": "bhrufXGXjfcv",
        "colab_type": "code",
        "outputId": "94cd9702-64d5-4eb6-bd20-ee5d97d7bb1d",
        "colab": {
          "base_uri": "https://localhost:8080/",
          "height": 34
        }
      },
      "source": [
        "sum(adj.bug), adj.shape"
      ],
      "execution_count": 480,
      "outputs": [
        {
          "output_type": "execute_result",
          "data": {
            "text/plain": [
              "(11453, (765948, 4))"
            ]
          },
          "metadata": {
            "tags": []
          },
          "execution_count": 480
        }
      ]
    },
    {
      "cell_type": "code",
      "metadata": {
        "id": "nrCdJC5cguFN",
        "colab_type": "code",
        "colab": {
          "base_uri": "https://localhost:8080/",
          "height": 34
        },
        "outputId": "8be5386d-a96b-4024-df0d-72992e7f3ee7"
      },
      "source": [
        "good = adj[adj['bug'] == True].iloc[0:sum(adj.bug)]\n",
        "bad = adj[adj['bug'] == False].iloc[0:sum(adj.bug)]\n",
        "len(good), len(bad)"
      ],
      "execution_count": 488,
      "outputs": [
        {
          "output_type": "execute_result",
          "data": {
            "text/plain": [
              "(11453, 11453)"
            ]
          },
          "metadata": {
            "tags": []
          },
          "execution_count": 488
        }
      ]
    },
    {
      "cell_type": "code",
      "metadata": {
        "id": "YcCfkXOrg208",
        "colab_type": "code",
        "colab": {
          "base_uri": "https://localhost:8080/",
          "height": 1000
        },
        "outputId": "4e2f543d-724c-4fbd-8fdb-e680e34647d3"
      },
      "source": [
        "adj_df = pd.concat([good,bad],axis=0)\n",
        "adj_df"
      ],
      "execution_count": 489,
      "outputs": [
        {
          "output_type": "execute_result",
          "data": {
            "text/html": [
              "<div>\n",
              "<style scoped>\n",
              "    .dataframe tbody tr th:only-of-type {\n",
              "        vertical-align: middle;\n",
              "    }\n",
              "\n",
              "    .dataframe tbody tr th {\n",
              "        vertical-align: top;\n",
              "    }\n",
              "\n",
              "    .dataframe thead th {\n",
              "        text-align: right;\n",
              "    }\n",
              "</style>\n",
              "<table border=\"1\" class=\"dataframe\">\n",
              "  <thead>\n",
              "    <tr style=\"text-align: right;\">\n",
              "      <th></th>\n",
              "      <th>testcase_ID</th>\n",
              "      <th>matrix</th>\n",
              "      <th>bug</th>\n",
              "      <th>matrix_size</th>\n",
              "    </tr>\n",
              "  </thead>\n",
              "  <tbody>\n",
              "    <tr>\n",
              "      <th>64</th>\n",
              "      <td>vdisc_testcase_84</td>\n",
              "      <td>(0, 1)\\t1\\n  (0, 2)\\t1\\n  (1, 0)\\t1\\n  (2, 0...</td>\n",
              "      <td>True</td>\n",
              "      <td>4</td>\n",
              "    </tr>\n",
              "    <tr>\n",
              "      <th>90</th>\n",
              "      <td>vdisc_testcase_120</td>\n",
              "      <td>(0, 1)\\t1\\n  (1, 0)\\t1\\n  (1, 2)\\t1\\n  (1, 3...</td>\n",
              "      <td>True</td>\n",
              "      <td>86</td>\n",
              "    </tr>\n",
              "    <tr>\n",
              "      <th>117</th>\n",
              "      <td>vdisc_testcase_156</td>\n",
              "      <td>(0, 1)\\t1\\n  (1, 0)\\t1\\n  (1, 2)\\t1\\n  (1, 3...</td>\n",
              "      <td>True</td>\n",
              "      <td>10</td>\n",
              "    </tr>\n",
              "    <tr>\n",
              "      <th>124</th>\n",
              "      <td>vdisc_testcase_164</td>\n",
              "      <td>(0, 1)\\t1\\n  (1, 0)\\t1\\n  (1, 2)\\t1\\n  (1, 4...</td>\n",
              "      <td>True</td>\n",
              "      <td>30</td>\n",
              "    </tr>\n",
              "    <tr>\n",
              "      <th>188</th>\n",
              "      <td>vdisc_testcase_247</td>\n",
              "      <td>(0, 1)\\t1\\n  (1, 0)\\t1\\n  (1, 2)\\t1\\n  (1, 3...</td>\n",
              "      <td>True</td>\n",
              "      <td>35</td>\n",
              "    </tr>\n",
              "    <tr>\n",
              "      <th>288</th>\n",
              "      <td>vdisc_testcase_375</td>\n",
              "      <td>(0, 1)\\t1\\n  (1, 0)\\t1\\n  (1, 2)\\t1\\n  (1, 3...</td>\n",
              "      <td>True</td>\n",
              "      <td>9</td>\n",
              "    </tr>\n",
              "    <tr>\n",
              "      <th>442</th>\n",
              "      <td>vdisc_testcase_575</td>\n",
              "      <td>(0, 1)\\t1\\n  (1, 0)\\t1\\n  (1, 2)\\t1\\n  (1, 4...</td>\n",
              "      <td>True</td>\n",
              "      <td>7</td>\n",
              "    </tr>\n",
              "    <tr>\n",
              "      <th>615</th>\n",
              "      <td>vdisc_testcase_812</td>\n",
              "      <td>(0, 1)\\t1\\n  (1, 0)\\t1\\n  (1, 2)\\t1\\n  (1, 4...</td>\n",
              "      <td>True</td>\n",
              "      <td>25</td>\n",
              "    </tr>\n",
              "    <tr>\n",
              "      <th>623</th>\n",
              "      <td>vdisc_testcase_820</td>\n",
              "      <td>(0, 1)\\t1\\n  (1, 0)\\t1\\n  (1, 2)\\t1\\n  (1, 4...</td>\n",
              "      <td>True</td>\n",
              "      <td>17</td>\n",
              "    </tr>\n",
              "    <tr>\n",
              "      <th>627</th>\n",
              "      <td>vdisc_testcase_824</td>\n",
              "      <td>(0, 1)\\t1\\n  (1, 0)\\t1\\n  (1, 2)\\t1\\n  (1, 3...</td>\n",
              "      <td>True</td>\n",
              "      <td>31</td>\n",
              "    </tr>\n",
              "    <tr>\n",
              "      <th>680</th>\n",
              "      <td>vdisc_testcase_899</td>\n",
              "      <td>(0, 1)\\t1\\n  (1, 0)\\t1\\n  (1, 2)\\t1\\n  (1, 4...</td>\n",
              "      <td>True</td>\n",
              "      <td>7</td>\n",
              "    </tr>\n",
              "    <tr>\n",
              "      <th>877</th>\n",
              "      <td>vdisc_testcase_1167</td>\n",
              "      <td>(0, 1)\\t1\\n  (1, 0)\\t1\\n  (1, 2)\\t1\\n  (1, 4...</td>\n",
              "      <td>True</td>\n",
              "      <td>13</td>\n",
              "    </tr>\n",
              "    <tr>\n",
              "      <th>909</th>\n",
              "      <td>vdisc_testcase_1205</td>\n",
              "      <td>(0, 1)\\t1\\n  (1, 0)\\t1\\n  (1, 2)\\t1\\n  (1, 4...</td>\n",
              "      <td>True</td>\n",
              "      <td>31</td>\n",
              "    </tr>\n",
              "    <tr>\n",
              "      <th>913</th>\n",
              "      <td>vdisc_testcase_1210</td>\n",
              "      <td>(0, 1)\\t1\\n  (1, 0)\\t1\\n  (1, 2)\\t1\\n  (1, 3...</td>\n",
              "      <td>True</td>\n",
              "      <td>6</td>\n",
              "    </tr>\n",
              "    <tr>\n",
              "      <th>1088</th>\n",
              "      <td>vdisc_testcase_1432</td>\n",
              "      <td>(0, 1)\\t1\\n  (1, 0)\\t1\\n  (1, 2)\\t1\\n  (1, 3...</td>\n",
              "      <td>True</td>\n",
              "      <td>40</td>\n",
              "    </tr>\n",
              "    <tr>\n",
              "      <th>1151</th>\n",
              "      <td>vdisc_testcase_1516</td>\n",
              "      <td>(0, 1)\\t1\\n  (1, 0)\\t1\\n  (1, 2)\\t1\\n  (1, 3...</td>\n",
              "      <td>True</td>\n",
              "      <td>4</td>\n",
              "    </tr>\n",
              "    <tr>\n",
              "      <th>1158</th>\n",
              "      <td>vdisc_testcase_1525</td>\n",
              "      <td>(0, 1)\\t1\\n  (1, 0)\\t1\\n  (1, 2)\\t1\\n  (1, 4...</td>\n",
              "      <td>True</td>\n",
              "      <td>50</td>\n",
              "    </tr>\n",
              "    <tr>\n",
              "      <th>1162</th>\n",
              "      <td>vdisc_testcase_1530</td>\n",
              "      <td>(0, 1)\\t1\\n  (1, 0)\\t1\\n  (1, 2)\\t1\\n  (1, 3...</td>\n",
              "      <td>True</td>\n",
              "      <td>22</td>\n",
              "    </tr>\n",
              "    <tr>\n",
              "      <th>1195</th>\n",
              "      <td>vdisc_testcase_1580</td>\n",
              "      <td>(0, 1)\\t1\\n  (1, 0)\\t1\\n  (1, 2)\\t1\\n  (1, 4...</td>\n",
              "      <td>True</td>\n",
              "      <td>136</td>\n",
              "    </tr>\n",
              "    <tr>\n",
              "      <th>1308</th>\n",
              "      <td>vdisc_testcase_1725</td>\n",
              "      <td>(0, 1)\\t1\\n  (1, 0)\\t1\\n  (1, 2)\\t1\\n  (1, 3...</td>\n",
              "      <td>True</td>\n",
              "      <td>16</td>\n",
              "    </tr>\n",
              "    <tr>\n",
              "      <th>1333</th>\n",
              "      <td>vdisc_testcase_1754</td>\n",
              "      <td>(0, 1)\\t1\\n  (1, 0)\\t1\\n  (1, 2)\\t1\\n  (1, 4...</td>\n",
              "      <td>True</td>\n",
              "      <td>38</td>\n",
              "    </tr>\n",
              "    <tr>\n",
              "      <th>1576</th>\n",
              "      <td>vdisc_testcase_2079</td>\n",
              "      <td>(0, 1)\\t1\\n  (1, 0)\\t1\\n  (1, 2)\\t1\\n  (1, 3...</td>\n",
              "      <td>True</td>\n",
              "      <td>16</td>\n",
              "    </tr>\n",
              "    <tr>\n",
              "      <th>1729</th>\n",
              "      <td>vdisc_testcase_2288</td>\n",
              "      <td>(0, 1)\\t1\\n  (1, 0)\\t1\\n  (1, 2)\\t1\\n  (1, 3...</td>\n",
              "      <td>True</td>\n",
              "      <td>101</td>\n",
              "    </tr>\n",
              "    <tr>\n",
              "      <th>1739</th>\n",
              "      <td>vdisc_testcase_2300</td>\n",
              "      <td>(0, 1)\\t1\\n  (1, 0)\\t1\\n  (1, 2)\\t1\\n  (1, 3...</td>\n",
              "      <td>True</td>\n",
              "      <td>37</td>\n",
              "    </tr>\n",
              "    <tr>\n",
              "      <th>1759</th>\n",
              "      <td>vdisc_testcase_2330</td>\n",
              "      <td>(0, 1)\\t1\\n  (1, 0)\\t1\\n  (1, 2)\\t1\\n  (1, 3...</td>\n",
              "      <td>True</td>\n",
              "      <td>9</td>\n",
              "    </tr>\n",
              "    <tr>\n",
              "      <th>1839</th>\n",
              "      <td>vdisc_testcase_2439</td>\n",
              "      <td>(0, 1)\\t1\\n  (1, 0)\\t1\\n  (1, 2)\\t1\\n  (1, 4...</td>\n",
              "      <td>True</td>\n",
              "      <td>26</td>\n",
              "    </tr>\n",
              "    <tr>\n",
              "      <th>1884</th>\n",
              "      <td>vdisc_testcase_2497</td>\n",
              "      <td>(0, 1)\\t1\\n  (1, 0)\\t1\\n  (1, 2)\\t1\\n  (1, 3...</td>\n",
              "      <td>True</td>\n",
              "      <td>41</td>\n",
              "    </tr>\n",
              "    <tr>\n",
              "      <th>1914</th>\n",
              "      <td>vdisc_testcase_2531</td>\n",
              "      <td>(0, 1)\\t1\\n  (1, 0)\\t1\\n  (1, 2)\\t1\\n  (1, 3...</td>\n",
              "      <td>True</td>\n",
              "      <td>138</td>\n",
              "    </tr>\n",
              "    <tr>\n",
              "      <th>2209</th>\n",
              "      <td>vdisc_testcase_2916</td>\n",
              "      <td>(0, 1)\\t1\\n  (1, 0)\\t1\\n  (1, 2)\\t1\\n  (1, 3...</td>\n",
              "      <td>True</td>\n",
              "      <td>32</td>\n",
              "    </tr>\n",
              "    <tr>\n",
              "      <th>2257</th>\n",
              "      <td>vdisc_testcase_2985</td>\n",
              "      <td>(0, 1)\\t1\\n  (1, 0)\\t1\\n  (1, 2)\\t1\\n  (1, 4...</td>\n",
              "      <td>True</td>\n",
              "      <td>22</td>\n",
              "    </tr>\n",
              "    <tr>\n",
              "      <th>...</th>\n",
              "      <td>...</td>\n",
              "      <td>...</td>\n",
              "      <td>...</td>\n",
              "      <td>...</td>\n",
              "    </tr>\n",
              "    <tr>\n",
              "      <th>11598</th>\n",
              "      <td>vdisc_testcase_15387</td>\n",
              "      <td>(0, 1)\\t1\\n  (1, 0)\\t1\\n  (1, 2)\\t1\\n  (1, 3...</td>\n",
              "      <td>False</td>\n",
              "      <td>11</td>\n",
              "    </tr>\n",
              "    <tr>\n",
              "      <th>11599</th>\n",
              "      <td>vdisc_testcase_15388</td>\n",
              "      <td>(0, 1)\\t1\\n  (1, 0)\\t1\\n  (1, 2)\\t1\\n  (1, 3...</td>\n",
              "      <td>False</td>\n",
              "      <td>28</td>\n",
              "    </tr>\n",
              "    <tr>\n",
              "      <th>11600</th>\n",
              "      <td>vdisc_testcase_15389</td>\n",
              "      <td>(0, 1)\\t1\\n  (1, 0)\\t1\\n  (1, 2)\\t1\\n  (1, 3...</td>\n",
              "      <td>False</td>\n",
              "      <td>210</td>\n",
              "    </tr>\n",
              "    <tr>\n",
              "      <th>11601</th>\n",
              "      <td>vdisc_testcase_15391</td>\n",
              "      <td>(0, 1)\\t1\\n  (1, 0)\\t1\\n  (1, 2)\\t1\\n  (1, 3...</td>\n",
              "      <td>False</td>\n",
              "      <td>14</td>\n",
              "    </tr>\n",
              "    <tr>\n",
              "      <th>11602</th>\n",
              "      <td>vdisc_testcase_15392</td>\n",
              "      <td>(0, 1)\\t1\\n  (1, 0)\\t1\\n  (1, 2)\\t1\\n  (1, 3...</td>\n",
              "      <td>False</td>\n",
              "      <td>4</td>\n",
              "    </tr>\n",
              "    <tr>\n",
              "      <th>11603</th>\n",
              "      <td>vdisc_testcase_15394</td>\n",
              "      <td>(0, 1)\\t1\\n  (1, 0)\\t1\\n  (1, 2)\\t1\\n  (1, 3...</td>\n",
              "      <td>False</td>\n",
              "      <td>8</td>\n",
              "    </tr>\n",
              "    <tr>\n",
              "      <th>11604</th>\n",
              "      <td>vdisc_testcase_15395</td>\n",
              "      <td>(0, 1)\\t1\\n  (1, 0)\\t1\\n  (1, 2)\\t1\\n  (1, 3...</td>\n",
              "      <td>False</td>\n",
              "      <td>65</td>\n",
              "    </tr>\n",
              "    <tr>\n",
              "      <th>11605</th>\n",
              "      <td>vdisc_testcase_15397</td>\n",
              "      <td>(0, 1)\\t1\\n  (1, 0)\\t1\\n  (1, 2)\\t1\\n  (1, 3...</td>\n",
              "      <td>False</td>\n",
              "      <td>18</td>\n",
              "    </tr>\n",
              "    <tr>\n",
              "      <th>11606</th>\n",
              "      <td>vdisc_testcase_15398</td>\n",
              "      <td>(0, 1)\\t1\\n  (1, 0)\\t1\\n  (1, 2)\\t1\\n  (1, 3...</td>\n",
              "      <td>False</td>\n",
              "      <td>4</td>\n",
              "    </tr>\n",
              "    <tr>\n",
              "      <th>11607</th>\n",
              "      <td>vdisc_testcase_15400</td>\n",
              "      <td>(0, 1)\\t1\\n  (1, 0)\\t1\\n  (1, 2)\\t1\\n  (1, 3...</td>\n",
              "      <td>False</td>\n",
              "      <td>17</td>\n",
              "    </tr>\n",
              "    <tr>\n",
              "      <th>11608</th>\n",
              "      <td>vdisc_testcase_15401</td>\n",
              "      <td>(0, 1)\\t1\\n  (1, 0)\\t1\\n  (1, 2)\\t1\\n  (1, 3...</td>\n",
              "      <td>False</td>\n",
              "      <td>8</td>\n",
              "    </tr>\n",
              "    <tr>\n",
              "      <th>11609</th>\n",
              "      <td>vdisc_testcase_15404</td>\n",
              "      <td>(0, 1)\\t1\\n  (1, 0)\\t1\\n  (1, 2)\\t1\\n  (1, 3...</td>\n",
              "      <td>False</td>\n",
              "      <td>27</td>\n",
              "    </tr>\n",
              "    <tr>\n",
              "      <th>11610</th>\n",
              "      <td>vdisc_testcase_15405</td>\n",
              "      <td>(0, 1)\\t1\\n  (1, 0)\\t1\\n  (1, 2)\\t1\\n  (1, 3...</td>\n",
              "      <td>False</td>\n",
              "      <td>12</td>\n",
              "    </tr>\n",
              "    <tr>\n",
              "      <th>11611</th>\n",
              "      <td>vdisc_testcase_15407</td>\n",
              "      <td>(0, 1)\\t1\\n  (1, 0)\\t1\\n  (1, 2)\\t1\\n  (1, 3...</td>\n",
              "      <td>False</td>\n",
              "      <td>11</td>\n",
              "    </tr>\n",
              "    <tr>\n",
              "      <th>11612</th>\n",
              "      <td>vdisc_testcase_15410</td>\n",
              "      <td>(0, 1)\\t1\\n  (1, 0)\\t1\\n  (1, 2)\\t1\\n  (1, 3...</td>\n",
              "      <td>False</td>\n",
              "      <td>7</td>\n",
              "    </tr>\n",
              "    <tr>\n",
              "      <th>11613</th>\n",
              "      <td>vdisc_testcase_15411</td>\n",
              "      <td>(0, 1)\\t1\\n  (1, 0)\\t1\\n  (1, 2)\\t1\\n  (1, 3...</td>\n",
              "      <td>False</td>\n",
              "      <td>9</td>\n",
              "    </tr>\n",
              "    <tr>\n",
              "      <th>11614</th>\n",
              "      <td>vdisc_testcase_15412</td>\n",
              "      <td>(0, 1)\\t1\\n  (1, 0)\\t1\\n  (1, 2)\\t1\\n  (2, 1...</td>\n",
              "      <td>False</td>\n",
              "      <td>5</td>\n",
              "    </tr>\n",
              "    <tr>\n",
              "      <th>11615</th>\n",
              "      <td>vdisc_testcase_15414</td>\n",
              "      <td>(0, 1)\\t1\\n  (1, 0)\\t1\\n  (1, 2)\\t1\\n  (1, 4...</td>\n",
              "      <td>False</td>\n",
              "      <td>19</td>\n",
              "    </tr>\n",
              "    <tr>\n",
              "      <th>11616</th>\n",
              "      <td>vdisc_testcase_15415</td>\n",
              "      <td>(0, 1)\\t1\\n  (1, 0)\\t1\\n  (1, 2)\\t1\\n  (1, 3...</td>\n",
              "      <td>False</td>\n",
              "      <td>47</td>\n",
              "    </tr>\n",
              "    <tr>\n",
              "      <th>11617</th>\n",
              "      <td>vdisc_testcase_15417</td>\n",
              "      <td>(0, 1)\\t1\\n  (1, 0)\\t1\\n  (1, 2)\\t1\\n  (1, 4...</td>\n",
              "      <td>False</td>\n",
              "      <td>55</td>\n",
              "    </tr>\n",
              "    <tr>\n",
              "      <th>11618</th>\n",
              "      <td>vdisc_testcase_15418</td>\n",
              "      <td>(0, 1)\\t1\\n  (1, 0)\\t1\\n  (1, 2)\\t1\\n  (2, 1...</td>\n",
              "      <td>False</td>\n",
              "      <td>24</td>\n",
              "    </tr>\n",
              "    <tr>\n",
              "      <th>11620</th>\n",
              "      <td>vdisc_testcase_15425</td>\n",
              "      <td>(0, 1)\\t1\\n  (1, 0)\\t1\\n  (1, 2)\\t1\\n  (1, 3...</td>\n",
              "      <td>False</td>\n",
              "      <td>7</td>\n",
              "    </tr>\n",
              "    <tr>\n",
              "      <th>11621</th>\n",
              "      <td>vdisc_testcase_15427</td>\n",
              "      <td>(0, 1)\\t1\\n  (1, 0)\\t1\\n  (1, 2)\\t1\\n  (1, 3...</td>\n",
              "      <td>False</td>\n",
              "      <td>31</td>\n",
              "    </tr>\n",
              "    <tr>\n",
              "      <th>11622</th>\n",
              "      <td>vdisc_testcase_15428</td>\n",
              "      <td>(0, 1)\\t1\\n  (1, 0)\\t1\\n  (1, 2)\\t1\\n  (1, 3...</td>\n",
              "      <td>False</td>\n",
              "      <td>5</td>\n",
              "    </tr>\n",
              "    <tr>\n",
              "      <th>11623</th>\n",
              "      <td>vdisc_testcase_15431</td>\n",
              "      <td>(0, 1)\\t1\\n  (1, 0)\\t1\\n  (1, 2)\\t1\\n  (2, 1...</td>\n",
              "      <td>False</td>\n",
              "      <td>3</td>\n",
              "    </tr>\n",
              "    <tr>\n",
              "      <th>11624</th>\n",
              "      <td>vdisc_testcase_15432</td>\n",
              "      <td>(0, 1)\\t1\\n  (1, 0)\\t1\\n  (1, 2)\\t1\\n  (1, 3...</td>\n",
              "      <td>False</td>\n",
              "      <td>4</td>\n",
              "    </tr>\n",
              "    <tr>\n",
              "      <th>11625</th>\n",
              "      <td>vdisc_testcase_15433</td>\n",
              "      <td>(0, 1)\\t1\\n  (1, 0)\\t1\\n  (1, 2)\\t1\\n  (1, 3...</td>\n",
              "      <td>False</td>\n",
              "      <td>8</td>\n",
              "    </tr>\n",
              "    <tr>\n",
              "      <th>11626</th>\n",
              "      <td>vdisc_testcase_15435</td>\n",
              "      <td>(0, 1)\\t1\\n  (1, 0)\\t1\\n  (1, 2)\\t1\\n  (1, 3...</td>\n",
              "      <td>False</td>\n",
              "      <td>8</td>\n",
              "    </tr>\n",
              "    <tr>\n",
              "      <th>11627</th>\n",
              "      <td>vdisc_testcase_15437</td>\n",
              "      <td>(0, 1)\\t1\\n  (1, 0)\\t1\\n  (1, 2)\\t1\\n  (1, 3...</td>\n",
              "      <td>False</td>\n",
              "      <td>8</td>\n",
              "    </tr>\n",
              "    <tr>\n",
              "      <th>11628</th>\n",
              "      <td>vdisc_testcase_15438</td>\n",
              "      <td>(0, 1)\\t1\\n  (1, 0)\\t1\\n  (1, 2)\\t1\\n  (1, 3...</td>\n",
              "      <td>False</td>\n",
              "      <td>22</td>\n",
              "    </tr>\n",
              "  </tbody>\n",
              "</table>\n",
              "<p>22906 rows × 4 columns</p>\n",
              "</div>"
            ],
            "text/plain": [
              "                testcase_ID  ... matrix_size\n",
              "64        vdisc_testcase_84  ...           4\n",
              "90       vdisc_testcase_120  ...          86\n",
              "117      vdisc_testcase_156  ...          10\n",
              "124      vdisc_testcase_164  ...          30\n",
              "188      vdisc_testcase_247  ...          35\n",
              "288      vdisc_testcase_375  ...           9\n",
              "442      vdisc_testcase_575  ...           7\n",
              "615      vdisc_testcase_812  ...          25\n",
              "623      vdisc_testcase_820  ...          17\n",
              "627      vdisc_testcase_824  ...          31\n",
              "680      vdisc_testcase_899  ...           7\n",
              "877     vdisc_testcase_1167  ...          13\n",
              "909     vdisc_testcase_1205  ...          31\n",
              "913     vdisc_testcase_1210  ...           6\n",
              "1088    vdisc_testcase_1432  ...          40\n",
              "1151    vdisc_testcase_1516  ...           4\n",
              "1158    vdisc_testcase_1525  ...          50\n",
              "1162    vdisc_testcase_1530  ...          22\n",
              "1195    vdisc_testcase_1580  ...         136\n",
              "1308    vdisc_testcase_1725  ...          16\n",
              "1333    vdisc_testcase_1754  ...          38\n",
              "1576    vdisc_testcase_2079  ...          16\n",
              "1729    vdisc_testcase_2288  ...         101\n",
              "1739    vdisc_testcase_2300  ...          37\n",
              "1759    vdisc_testcase_2330  ...           9\n",
              "1839    vdisc_testcase_2439  ...          26\n",
              "1884    vdisc_testcase_2497  ...          41\n",
              "1914    vdisc_testcase_2531  ...         138\n",
              "2209    vdisc_testcase_2916  ...          32\n",
              "2257    vdisc_testcase_2985  ...          22\n",
              "...                     ...  ...         ...\n",
              "11598  vdisc_testcase_15387  ...          11\n",
              "11599  vdisc_testcase_15388  ...          28\n",
              "11600  vdisc_testcase_15389  ...         210\n",
              "11601  vdisc_testcase_15391  ...          14\n",
              "11602  vdisc_testcase_15392  ...           4\n",
              "11603  vdisc_testcase_15394  ...           8\n",
              "11604  vdisc_testcase_15395  ...          65\n",
              "11605  vdisc_testcase_15397  ...          18\n",
              "11606  vdisc_testcase_15398  ...           4\n",
              "11607  vdisc_testcase_15400  ...          17\n",
              "11608  vdisc_testcase_15401  ...           8\n",
              "11609  vdisc_testcase_15404  ...          27\n",
              "11610  vdisc_testcase_15405  ...          12\n",
              "11611  vdisc_testcase_15407  ...          11\n",
              "11612  vdisc_testcase_15410  ...           7\n",
              "11613  vdisc_testcase_15411  ...           9\n",
              "11614  vdisc_testcase_15412  ...           5\n",
              "11615  vdisc_testcase_15414  ...          19\n",
              "11616  vdisc_testcase_15415  ...          47\n",
              "11617  vdisc_testcase_15417  ...          55\n",
              "11618  vdisc_testcase_15418  ...          24\n",
              "11620  vdisc_testcase_15425  ...           7\n",
              "11621  vdisc_testcase_15427  ...          31\n",
              "11622  vdisc_testcase_15428  ...           5\n",
              "11623  vdisc_testcase_15431  ...           3\n",
              "11624  vdisc_testcase_15432  ...           4\n",
              "11625  vdisc_testcase_15433  ...           8\n",
              "11626  vdisc_testcase_15435  ...           8\n",
              "11627  vdisc_testcase_15437  ...           8\n",
              "11628  vdisc_testcase_15438  ...          22\n",
              "\n",
              "[22906 rows x 4 columns]"
            ]
          },
          "metadata": {
            "tags": []
          },
          "execution_count": 489
        }
      ]
    },
    {
      "cell_type": "code",
      "metadata": {
        "colab_type": "code",
        "id": "MCV9Vwupk8mI",
        "colab": {}
      },
      "source": [
        "def bottom_right_matrix_size_corrector(matrix, target_rows, target_columns):\n",
        "    '''Pads matrix with zeros to the desired size'''\n",
        "    \n",
        "    rows, columns = matrix.shape[0], matrix.shape[1]\n",
        "    \n",
        "    row_corrector = csr_matrix((target_rows-rows, columns))\n",
        "    col_corrector = csr_matrix((target_rows, target_columns-columns))\n",
        "\n",
        "    matrix = vstack([matrix, row_corrector])\n",
        "    matrix = hstack([matrix, col_corrector])\n",
        "\n",
        "    matrix = matrix.astype(np.int)\n",
        "    \n",
        "    return matrix "
      ],
      "execution_count": 0,
      "outputs": []
    },
    {
      "cell_type": "code",
      "metadata": {
        "colab_type": "code",
        "id": "yI1YFNQMk8mp",
        "colab": {}
      },
      "source": [
        "adj_df['matrix'] = adj_df['matrix'].apply(lambda m: bottom_right_matrix_size_corrector(m, matrix_size, matrix_size))"
      ],
      "execution_count": 0,
      "outputs": []
    },
    {
      "cell_type": "code",
      "metadata": {
        "colab_type": "code",
        "id": "zy8qe3IdrKml",
        "colab": {}
      },
      "source": [
        "testcase_ids = adj_df['testcase_ID'].values\n",
        "adjacency_matrices = adj_df['matrix'].values\n",
        "labels = adj_df['bug'].values"
      ],
      "execution_count": 0,
      "outputs": []
    },
    {
      "cell_type": "markdown",
      "metadata": {
        "colab_type": "text",
        "id": "ga6SW3_qpF80"
      },
      "source": [
        "Now we have a dataframe for each testcase with a sparse representation of its AST in the matrix column, each normalised to matrix_size x matrix_size in size.\n",
        "  \n",
        "\n"
      ]
    },
    {
      "cell_type": "markdown",
      "metadata": {
        "colab_type": "text",
        "id": "yXrUMkzYSgUz"
      },
      "source": [
        "Storing all of these matrices in a dense representation at once might cause memory issues. To avoid this, we write a class which generates dense matrices for each of the training batches. \n",
        "\n",
        "We also perform the element wrapping as part of this process (since we can't perform it on the sparse arrays, I think)."
      ]
    },
    {
      "cell_type": "code",
      "metadata": {
        "colab_type": "code",
        "id": "dBPBYHNJxm-D",
        "colab": {}
      },
      "source": [
        "class SparseToDenseGenerator(keras.utils.Sequence):\n",
        "\n",
        "    def __init__(self, sparse_matrices, labels, batch_size):\n",
        "        self.sparse_matrices = sparse_matrices\n",
        "        self.labels = labels\n",
        "        self.batch_size = batch_size\n",
        "\n",
        "    def __len__(self):\n",
        "        return int(np.ceil(len(self.sparse_matrices) / float(self.batch_size)))\n",
        "\n",
        "    def __getitem__(self, batch_num):\n",
        "        start_index = batch_num * self.batch_size\n",
        "        end_index = (batch_num + 1) * self.batch_size\n",
        "        \n",
        "        batch_sparse = self.sparse_matrices[start_index:end_index]\n",
        "        batch_labels = self.labels[start_index:end_index]\n",
        "        \n",
        "        batch_dense = np.array([sparse_matrix.todense() for sparse_matrix in batch_sparse])\n",
        "        \n",
        "        # TODO: move this somewhere better\n",
        "        # Conv2D requires an extra dimension for \"channels\", so we need to convert our data from\n",
        "        # the shape (batch_size, matrix_rows, matrix_columns)\n",
        "        # to (batch_size, matrix_rows, matrix_columns, 1)\n",
        "        batch_dense = np.reshape(batch_dense, batch_dense.shape + (1, ))\n",
        "\n",
        "        return batch_dense, np.array(batch_labels)"
      ],
      "execution_count": 0,
      "outputs": []
    },
    {
      "cell_type": "markdown",
      "metadata": {
        "colab_type": "text",
        "id": "nda-Xjsjk8ng"
      },
      "source": [
        "# Model"
      ]
    },
    {
      "cell_type": "code",
      "metadata": {
        "colab_type": "code",
        "id": "KqlHfs2Kk8ni",
        "scrolled": true,
        "colab": {}
      },
      "source": [
        "from keras.layers import Dense, Dropout, Flatten, Reshape, Activation\n",
        "from keras.layers import Conv1D, MaxPooling1D, Conv2D, GlobalMaxPooling2D, MaxPooling2D, Convolution2D\n",
        "from keras.models import Sequential\n",
        "from keras.layers.normalization import BatchNormalization\n",
        "from keras.layers.advanced_activations import LeakyReLU\n",
        "from keras.optimizers import RMSprop, Adadelta, Adam\n",
        "from keras.utils import np_utils\n",
        "from keras import backend as K"
      ],
      "execution_count": 0,
      "outputs": []
    },
    {
      "cell_type": "code",
      "metadata": {
        "colab_type": "code",
        "id": "kmlCQ77P3itE",
        "outputId": "2f409f28-9646-4aaa-e3e7-da1d5f8a0901",
        "colab": {
          "base_uri": "https://localhost:8080/",
          "height": 34
        }
      },
      "source": [
        "batch_size = 96\n",
        "epochs = 5\n",
        "num_samples = len(labels)\n",
        "\n",
        "datapoint_shape = (matrix_size, matrix_size, )\n",
        "batch_shape = (batch_size, ) + datapoint_shape\n",
        "\n",
        "steps_per_epoch = int(np.ceil(num_samples/batch_size))\n",
        "\n",
        "kernel_size = (2, 2)\n",
        "strides = max(kernel_size[0] // 3, 1)\n",
        "\n",
        "batch_size, epochs, num_samples, datapoint_shape, batch_shape, steps_per_epoch, kernel_size, strides"
      ],
      "execution_count": 495,
      "outputs": [
        {
          "output_type": "execute_result",
          "data": {
            "text/plain": [
              "(96, 5, 22906, (614, 614), (96, 614, 614), 239, (2, 2), 1)"
            ]
          },
          "metadata": {
            "tags": []
          },
          "execution_count": 495
        }
      ]
    },
    {
      "cell_type": "markdown",
      "metadata": {
        "colab_type": "text",
        "id": "w3476EyA3g-V"
      },
      "source": [
        "# Evaluation"
      ]
    },
    {
      "cell_type": "code",
      "metadata": {
        "colab_type": "code",
        "id": "bQcagc2HK0c3",
        "colab": {}
      },
      "source": [
        "model = None\n",
        "with open('../data/adjacency-matrix-model-binary.pickle','rb') as f:\n",
        "    model = pickle.load(f)"
      ],
      "execution_count": 0,
      "outputs": []
    },
    {
      "cell_type": "code",
      "metadata": {
        "id": "QOw2NLB-M437",
        "colab_type": "code",
        "outputId": "02a44928-4673-4931-d622-7f0e3dcc2912",
        "colab": {
          "base_uri": "https://localhost:8080/",
          "height": 34
        }
      },
      "source": [
        "test_batch_generator = SparseToDenseGenerator(adjacency_matrices, labels, batch_size)\n",
        "\n",
        "model.evaluate_generator(\n",
        "    generator=test_batch_generator,\n",
        ")"
      ],
      "execution_count": 497,
      "outputs": [
        {
          "output_type": "execute_result",
          "data": {
            "text/plain": [
              "[4.093921835991032, 0.43953549420975147]"
            ]
          },
          "metadata": {
            "tags": []
          },
          "execution_count": 497
        }
      ]
    },
    {
      "cell_type": "code",
      "metadata": {
        "id": "s7_J6J-AQj5B",
        "colab_type": "code",
        "outputId": "18aa29f4-5cad-4cd8-fd87-0c72548148ba",
        "colab": {
          "base_uri": "https://localhost:8080/",
          "height": 286
        }
      },
      "source": [
        "import matplotlib.pyplot as plt\n",
        "import random\n",
        "temp = random.randrange(10000)\n",
        "plt.imshow(adj['matrix'].values[temp].toarray())\n",
        "print(temp)"
      ],
      "execution_count": 498,
      "outputs": [
        {
          "output_type": "stream",
          "text": [
            "9833\n"
          ],
          "name": "stdout"
        },
        {
          "output_type": "display_data",
          "data": {
            "image/png": "[encoded data removed]",
            "text/plain": [
              "<Figure size 432x288 with 1 Axes>"
            ]
          },
          "metadata": {
            "tags": []
          }
        }
      ]
    },
    {
      "cell_type": "code",
      "metadata": {
        "id": "5L29WiSFRPlg",
        "colab_type": "code",
        "outputId": "42cbc59d-b6dc-4970-c07f-d360113f625b",
        "colab": {
          "base_uri": "https://localhost:8080/",
          "height": 272
        }
      },
      "source": [
        "print(vdisc.loc[vdisc.testcase_ID == adj.iloc[5520].testcase_ID].iloc[0].code)"
      ],
      "execution_count": 499,
      "outputs": [
        {
          "output_type": "stream",
          "text": [
            "gst_auto_convert_internal_src_query (GstPad * pad, GstQuery * query)\n",
            "{\n",
            "  GstAutoConvert *autoconvert =\n",
            "      GST_AUTO_CONVERT (g_object_get_qdata (G_OBJECT (pad),\n",
            "          parent_quark));\n",
            "  GstPad *peerpad = gst_pad_get_peer (autoconvert->sinkpad);\n",
            "  gboolean ret = FALSE;\n",
            "\n",
            "  if (peerpad) {\n",
            "    ret = gst_pad_query (peerpad, query);\n",
            "    gst_object_unref (peerpad);\n",
            "  }\n",
            "\n",
            "  return ret;\n",
            "}\n"
          ],
          "name": "stdout"
        }
      ]
    },
    {
      "cell_type": "code",
      "metadata": {
        "colab_type": "code",
        "id": "vnHI_fjlk8ob",
        "colab": {}
      },
      "source": [
        "import seaborn as sns\n",
        "from sklearn import metrics\n",
        "import matplotlib"
      ],
      "execution_count": 0,
      "outputs": []
    },
    {
      "cell_type": "code",
      "metadata": {
        "colab_type": "code",
        "id": "v4bFyChZOi0k",
        "colab": {}
      },
      "source": [
        "class SparseToDensePredictGenerator(keras.utils.Sequence):\n",
        "\n",
        "    def __init__(self, sparse_matrices, batch_size):\n",
        "        self.sparse_matrices = sparse_matrices\n",
        "        self.batch_size = batch_size\n",
        "\n",
        "    def __len__(self):\n",
        "        return int(np.ceil(len(self.sparse_matrices) / float(self.batch_size)))\n",
        "\n",
        "    def __getitem__(self, batch_num):\n",
        "        start_index = batch_num * self.batch_size\n",
        "        end_index = (batch_num + 1) * self.batch_size\n",
        "        \n",
        "        batch_sparse = self.sparse_matrices[start_index:end_index]\n",
        "        batch_dense = np.array([sparse_matrix.todense() for sparse_matrix in batch_sparse])\n",
        "        \n",
        "        # TODO: move this somewhere better\n",
        "        # Conv2D requires an extra dimension for \"channels\", so we need to convert our data from\n",
        "        # the shape (batch_size, matrix_rows, matrix_columns)\n",
        "        # to (batch_size, matrix_rows, matrix_columns, 1)\n",
        "        batch_dense = np.reshape(batch_dense, batch_dense.shape + (1, ))\n",
        "\n",
        "        return batch_dense"
      ],
      "execution_count": 0,
      "outputs": []
    },
    {
      "cell_type": "code",
      "metadata": {
        "colab_type": "code",
        "id": "5AJ9ozp5k8og",
        "colab": {}
      },
      "source": [
        "predict_batch_generator = SparseToDensePredictGenerator(adjacency_matrices, batch_size)\n",
        "y_predict = model.predict_generator(predict_batch_generator)"
      ],
      "execution_count": 0,
      "outputs": []
    },
    {
      "cell_type": "code",
      "metadata": {
        "colab_type": "code",
        "id": "gh6M9qH-k8ok",
        "colab": {}
      },
      "source": [
        "import numpy as np"
      ],
      "execution_count": 0,
      "outputs": []
    },
    {
      "cell_type": "code",
      "metadata": {
        "colab_type": "code",
        "id": "xrvhYYmFk8oo",
        "colab": {}
      },
      "source": [
        "confusion_matrix = pd.DataFrame(\n",
        "    data=metrics.confusion_matrix(y_test, np.rint(y_predict)),\n",
        ")\n",
        "\n",
        "confusion_figure, confusion_axes = matplotlib.pyplot.subplots()\n",
        "confusion_figure.set_size_inches(8, 5)\n",
        "confusion_axes.set_title(\n",
        "    'Confusion matrix showing the frequency of \\n'\n",
        "    'correct and incorrect bug classification predictions.'\n",
        "    '\\n\\n'  # hack to avoid overlap with x-axis labels below\n",
        ")\n",
        "confusion_axes.xaxis.tick_top()  # move x-axis labels to top of matrix\n",
        "_ = sns.heatmap(\n",
        "    confusion_matrix,\n",
        "    annot=True,\n",
        "    fmt=\"d\",\n",
        "    cmap=sns.color_palette(\"Blues\"),\n",
        "    vmin=0,\n",
        "    ax=confusion_axes,\n",
        ")"
      ],
      "execution_count": 0,
      "outputs": []
    },
    {
      "cell_type": "markdown",
      "metadata": {
        "id": "5Bc6R6uSxm8m",
        "colab_type": "text"
      },
      "source": [
        "They predict most of the bug into bug free code."
      ]
    },
    {
      "cell_type": "code",
      "metadata": {
        "colab_type": "code",
        "id": "SFlZwTBIk8o8",
        "colab": {}
      },
      "source": [
        "from sklearn.metrics import roc_curve\n",
        "fpr_keras, tpr_keras, thresholds_keras = roc_curve(\n",
        "    y_test.astype(int),\n",
        "    np.rint(y_predict),\n",
        ")"
      ],
      "execution_count": 0,
      "outputs": []
    },
    {
      "cell_type": "code",
      "metadata": {
        "colab_type": "code",
        "id": "a8_7LWSmk8pI",
        "colab": {}
      },
      "source": [
        "from sklearn.metrics import auc\n",
        "import matplotlib.pyplot as plt\n",
        "auc_keras = auc(fpr_keras, tpr_keras)"
      ],
      "execution_count": 0,
      "outputs": []
    },
    {
      "cell_type": "code",
      "metadata": {
        "colab_type": "code",
        "id": "mM9vPPIGk8pO",
        "colab": {}
      },
      "source": [
        "plt.plot(fpr_keras, tpr_keras, label='Keras (area = {:.3f})'.format(auc_keras))\n",
        "plt.xlabel('False positive rate')\n",
        "plt.ylabel('True positive rate')\n",
        "plt.title('ROC curve')\n",
        "plt.legend(loc='best')\n",
        "plt.show()"
      ],
      "execution_count": 0,
      "outputs": []
    },
    {
      "cell_type": "code",
      "metadata": {
        "colab_type": "code",
        "id": "WIxU3yLeZqk3",
        "colab": {}
      },
      "source": [
        "tn, fp, fn, tp = metrics.confusion_matrix(\n",
        "    y_test.astype(int), \n",
        "    np.rint(y_predict)\n",
        ").flatten().tolist()\n",
        "\n",
        "fpr_nn = fp/(fp+tp)\n",
        "fnr_nn = fn/(fn+tn)"
      ],
      "execution_count": 0,
      "outputs": []
    },
    {
      "cell_type": "code",
      "metadata": {
        "colab_type": "code",
        "id": "Irias0wiQ5uS",
        "colab": {}
      },
      "source": [
        "fpr_nn, fnr_nn"
      ],
      "execution_count": 0,
      "outputs": []
    },
    {
      "cell_type": "markdown",
      "metadata": {
        "colab_type": "text",
        "id": "u4flMJFAI1Xv"
      },
      "source": [
        "## Random Padding (translational invariance)"
      ]
    },
    {
      "cell_type": "code",
      "metadata": {
        "colab_type": "code",
        "id": "upphuPbjI1Xv",
        "colab": {}
      },
      "source": [
        "import random"
      ],
      "execution_count": 0,
      "outputs": []
    },
    {
      "cell_type": "code",
      "metadata": {
        "colab_type": "code",
        "id": "dgWvSwBMI1Xx",
        "colab": {}
      },
      "source": [
        "def random_padder(matrix, target_rows, target_columns):\n",
        "    '''\n",
        "    Randomly pads matrix with zeros to the desired size\n",
        "    '''\n",
        "    rows, columns = matrix.shape[0], matrix.shape[1]\n",
        "    \n",
        "    rand = random.randint(matrix.shape[0],matrix_size)\n",
        "    \n",
        "    tl_row_corrector = csr_matrix((rand-rows, rows))\n",
        "    tl_col_corrector = csr_matrix((rand, rand-columns))\n",
        "    \n",
        "    tl_matrix = vstack([tl_row_corrector, matrix])\n",
        "    tl_matrix = hstack([tl_col_corrector, tl_matrix])\n",
        "    \n",
        "    rows, columns = tl_matrix.shape[0], tl_matrix.shape[1]\n",
        "    \n",
        "    br_row_corrector = csr_matrix((target_rows-rows, rows))\n",
        "    br_col_corrector = csr_matrix((target_columns, target_columns-columns))\n",
        "\n",
        "    br_matrix = vstack([tl_matrix, br_row_corrector])\n",
        "    br_matrix = hstack([br_matrix, br_col_corrector])\n",
        "\n",
        "    br_matrix = br_matrix.astype(np.int)\n",
        "    \n",
        "    return br_matrix"
      ],
      "execution_count": 0,
      "outputs": []
    },
    {
      "cell_type": "code",
      "metadata": {
        "colab_type": "code",
        "id": "kVOpYxlTI1Xz",
        "colab": {}
      },
      "source": [
        "rand_adj_df = adj_orig_df.copy()"
      ],
      "execution_count": 0,
      "outputs": []
    },
    {
      "cell_type": "code",
      "metadata": {
        "colab_type": "code",
        "id": "hBduzZgaI1X1",
        "colab": {}
      },
      "source": [
        "rand_adj_df['matrix'] = rand_adj_df['matrix'].apply(lambda m: random_padder(m, matrix_size, matrix_size))"
      ],
      "execution_count": 0,
      "outputs": []
    },
    {
      "cell_type": "code",
      "metadata": {
        "colab_type": "code",
        "id": "9nJ4oQCII1X3",
        "colab": {}
      },
      "source": [
        "testcase_ids_rand = rand_adj_df['testcase_ID'].values\n",
        "adjacency_matrices_rand = rand_adj_df['matrix'].values\n",
        "labels_rand = rand_adj_df['bug'].values"
      ],
      "execution_count": 0,
      "outputs": []
    },
    {
      "cell_type": "code",
      "metadata": {
        "colab_type": "code",
        "id": "p_oPNdusI1X6",
        "outputId": "731e376a-f9a5-43bd-be7f-bacd0745df40",
        "colab": {
          "base_uri": "https://localhost:8080/",
          "height": 34
        }
      },
      "source": [
        "rand_adj_df.matrix.iloc[5].toarray().sum()"
      ],
      "execution_count": 0,
      "outputs": [
        {
          "output_type": "execute_result",
          "data": {
            "text/plain": [
              "778"
            ]
          },
          "metadata": {
            "tags": []
          },
          "execution_count": 38
        }
      ]
    },
    {
      "cell_type": "code",
      "metadata": {
        "colab_type": "code",
        "id": "xHjRuHUlI1X9",
        "colab": {}
      },
      "source": [
        "x_train_rand, x_test_rand, y_train_rand, y_test_rand = train_test_split(adjacency_matrices_rand, labels_rand, test_size=0.2, random_state = 0)"
      ],
      "execution_count": 0,
      "outputs": []
    },
    {
      "cell_type": "markdown",
      "metadata": {
        "colab_type": "text",
        "id": "XMjKDWWAhWYN"
      },
      "source": [
        "Below tests our model above trained on the normal padding against our random padding test set:"
      ]
    },
    {
      "cell_type": "code",
      "metadata": {
        "colab_type": "code",
        "id": "Ev9c9xZPI1X-",
        "outputId": "b17882c7-9dc8-414c-9ef9-46da42a7bdcd",
        "colab": {
          "base_uri": "https://localhost:8080/",
          "height": 34
        }
      },
      "source": [
        "test_batch_generator_rand = SparseToDenseGenerator(x_test_rand, y_test_rand, batch_size)\n",
        "\n",
        "model.evaluate_generator(\n",
        "    generator=test_batch_generator_rand,\n",
        ")"
      ],
      "execution_count": 0,
      "outputs": [
        {
          "output_type": "execute_result",
          "data": {
            "text/plain": [
              "[3.4999840995649043, 0.5855548693685892]"
            ]
          },
          "metadata": {
            "tags": []
          },
          "execution_count": 40
        }
      ]
    },
    {
      "cell_type": "code",
      "metadata": {
        "colab_type": "code",
        "id": "lRlOiljAI1YA",
        "colab": {}
      },
      "source": [
        "predict_batch_generator_rand = SparseToDensePredictGenerator(x_test_rand, batch_size)\n",
        "y_predict_rand = model.predict_generator(predict_batch_generator)"
      ],
      "execution_count": 0,
      "outputs": []
    },
    {
      "cell_type": "code",
      "metadata": {
        "colab_type": "code",
        "id": "fva2rs55I1YC",
        "outputId": "2ac2f748-a3a1-4d8a-9a1a-a77105b2d110",
        "colab": {
          "base_uri": "https://localhost:8080/",
          "height": 387
        }
      },
      "source": [
        "confusion_matrix = pd.DataFrame(\n",
        "    data=metrics.confusion_matrix(y_test_rand, np.rint(y_predict_rand)),\n",
        ")\n",
        "\n",
        "confusion_figure, confusion_axes = matplotlib.pyplot.subplots()\n",
        "confusion_figure.set_size_inches(8, 5)\n",
        "confusion_axes.set_title(\n",
        "    'Confusion matrix showing the frequency of \\n'\n",
        "    'correct and incorrect bug classification predictions.'\n",
        "    '\\n\\n'  # hack to avoid overlap with x-axis labels below\n",
        ")\n",
        "confusion_axes.xaxis.tick_top()  # move x-axis labels to top of matrix\n",
        "_ = sns.heatmap(\n",
        "    confusion_matrix,\n",
        "    annot=True,\n",
        "    fmt=\"d\",\n",
        "    cmap=sns.color_palette(\"Blues\"),\n",
        "    vmin=0,\n",
        "    ax=confusion_axes,\n",
        ")"
      ],
      "execution_count": 0,
      "outputs": [
        {
          "output_type": "display_data",
          "data": {
            "image/png": "[encoded data removed]",
            "text/plain": [
              "<Figure size 576x360 with 2 Axes>"
            ]
          },
          "metadata": {
            "tags": []
          }
        }
      ]
    },
    {
      "cell_type": "code",
      "metadata": {
        "colab_type": "code",
        "id": "myk4AWEgI1YE",
        "colab": {}
      },
      "source": [
        "fpr_keras, tpr_keras, thresholds_keras = roc_curve(\n",
        "    y_test_rand.astype(int),\n",
        "    np.rint(y_predict_rand),\n",
        ")"
      ],
      "execution_count": 0,
      "outputs": []
    },
    {
      "cell_type": "code",
      "metadata": {
        "colab_type": "code",
        "id": "7obV4AVPI1YF",
        "colab": {}
      },
      "source": [
        "auc_keras = auc(fpr_keras, tpr_keras)"
      ],
      "execution_count": 0,
      "outputs": []
    },
    {
      "cell_type": "code",
      "metadata": {
        "colab_type": "code",
        "id": "CYPWJyvDI1YG",
        "outputId": "566441ac-599d-42e7-fc2f-1f21632cf8c3",
        "colab": {
          "base_uri": "https://localhost:8080/",
          "height": 295
        }
      },
      "source": [
        "plt.plot(fpr_keras, tpr_keras, label='Keras (area = {:.3f})'.format(auc_keras))\n",
        "plt.xlabel('False positive rate')\n",
        "plt.ylabel('True positive rate')\n",
        "plt.title('ROC curve')\n",
        "plt.legend(loc='best')\n",
        "plt.show()"
      ],
      "execution_count": 0,
      "outputs": [
        {
          "output_type": "display_data",
          "data": {
            "image/png": "[encoded data removed]",
            "text/plain": [
              "<Figure size 432x288 with 1 Axes>"
            ]
          },
          "metadata": {
            "tags": []
          }
        }
      ]
    },
    {
      "cell_type": "code",
      "metadata": {
        "colab_type": "code",
        "id": "aF1JbmH7I1YH",
        "colab": {}
      },
      "source": [
        "tn, fp, fn, tp = metrics.confusion_matrix(\n",
        "    y_test_rand.astype(int), \n",
        "    np.rint(y_predict_rand)\n",
        ").flatten().tolist()\n",
        "\n",
        "fpr_nn = fp/(fp+tp)\n",
        "fnr_nn = fn/(fn+tn)"
      ],
      "execution_count": 0,
      "outputs": []
    },
    {
      "cell_type": "markdown",
      "metadata": {
        "colab_type": "text",
        "id": "K5NSAb-yMRAT"
      },
      "source": [
        "58% accuracy with 3x as more false negatives as there are false positives so our neural network doesn't work the way that we thought it did."
      ]
    },
    {
      "cell_type": "markdown",
      "metadata": {
        "colab_type": "text",
        "id": "1VWExCq6iUMC"
      },
      "source": [
        "## Training the model on the random padded data"
      ]
    },
    {
      "cell_type": "code",
      "metadata": {
        "colab_type": "code",
        "id": "aNCjGx8jiTPK",
        "outputId": "1942ad1a-5b31-4413-9273-32acfcf8f2c4",
        "colab": {
          "base_uri": "https://localhost:8080/",
          "height": 646
        }
      },
      "source": [
        "model_rand = Sequential()\n",
        "\n",
        "model_rand.add(Conv2D(\n",
        "    data_format='channels_last',\n",
        "    input_shape=(matrix_size, matrix_size, 1),\n",
        "    filters=32,\n",
        "    kernel_size=kernel_size,\n",
        "    strides=strides,\n",
        "))\n",
        "model_rand.add(Activation('relu'))\n",
        "model_rand.add(MaxPooling2D(kernel_size, padding='same'))\n",
        "\n",
        "model_rand.add(Conv2D(\n",
        "    data_format='channels_last',\n",
        "    input_shape=(matrix_size, matrix_size, 1),\n",
        "    filters=32,\n",
        "    kernel_size=kernel_size,\n",
        "    strides=strides,\n",
        "    activation='relu',\n",
        "))\n",
        "model_rand.add(Activation('relu'))\n",
        "model_rand.add(MaxPooling2D(kernel_size, padding='same'))\n",
        "\n",
        "model_rand.add(Conv2D(\n",
        "    data_format='channels_last',\n",
        "    input_shape=(matrix_size, matrix_size, 1),\n",
        "    filters=32,\n",
        "    kernel_size=kernel_size,\n",
        "    strides=strides,\n",
        "    activation='relu',\n",
        "))\n",
        "model_rand.add(Activation('relu'))\n",
        "model_rand.add(MaxPooling2D(kernel_size, padding='same'))\n",
        "\n",
        "model_rand.add(Flatten())\n",
        "\n",
        "model_rand.add(Dense(units=32, activation='relu'))\n",
        "model_rand.add(Dense(units=32, activation='relu'))\n",
        "model_rand.add(Dense(units=32, activation='relu'))\n",
        "\n",
        "model_rand.add(Dropout(0.2))\n",
        "\n",
        "model_rand.add(Dense(units=1, activation='sigmoid'))\n",
        "\n",
        "model_rand.compile(optimizer=Adam(), loss='binary_crossentropy', metrics=['accuracy'])\n",
        "\n",
        "model_rand.summary()"
      ],
      "execution_count": 0,
      "outputs": [
        {
          "output_type": "stream",
          "text": [
            "_________________________________________________________________\n",
            "Layer (type)                 Output Shape              Param #   \n",
            "=================================================================\n",
            "conv2d_1 (Conv2D)            (None, 613, 613, 32)      160       \n",
            "_________________________________________________________________\n",
            "activation_1 (Activation)    (None, 613, 613, 32)      0         \n",
            "_________________________________________________________________\n",
            "max_pooling2d_1 (MaxPooling2 (None, 307, 307, 32)      0         \n",
            "_________________________________________________________________\n",
            "conv2d_2 (Conv2D)            (None, 306, 306, 32)      4128      \n",
            "_________________________________________________________________\n",
            "activation_2 (Activation)    (None, 306, 306, 32)      0         \n",
            "_________________________________________________________________\n",
            "max_pooling2d_2 (MaxPooling2 (None, 153, 153, 32)      0         \n",
            "_________________________________________________________________\n",
            "conv2d_3 (Conv2D)            (None, 152, 152, 32)      4128      \n",
            "_________________________________________________________________\n",
            "activation_3 (Activation)    (None, 152, 152, 32)      0         \n",
            "_________________________________________________________________\n",
            "max_pooling2d_3 (MaxPooling2 (None, 76, 76, 32)        0         \n",
            "_________________________________________________________________\n",
            "flatten_1 (Flatten)          (None, 184832)            0         \n",
            "_________________________________________________________________\n",
            "dense_1 (Dense)              (None, 32)                5914656   \n",
            "_________________________________________________________________\n",
            "dense_2 (Dense)              (None, 32)                1056      \n",
            "_________________________________________________________________\n",
            "dense_3 (Dense)              (None, 32)                1056      \n",
            "_________________________________________________________________\n",
            "dropout_1 (Dropout)          (None, 32)                0         \n",
            "_________________________________________________________________\n",
            "dense_4 (Dense)              (None, 1)                 33        \n",
            "=================================================================\n",
            "Total params: 5,925,217\n",
            "Trainable params: 5,925,217\n",
            "Non-trainable params: 0\n",
            "_________________________________________________________________\n"
          ],
          "name": "stdout"
        }
      ]
    },
    {
      "cell_type": "code",
      "metadata": {
        "colab_type": "code",
        "id": "LTeg_UMwijqX",
        "outputId": "3369c245-4bb9-46e0-ada9-0b8d4cfe9c07",
        "colab": {
          "base_uri": "https://localhost:8080/",
          "height": 224
        }
      },
      "source": [
        "training_batch_generator_rand = SparseToDenseGenerator(x_train_rand, y_train_rand, batch_size)\n",
        "\n",
        "model_rand.fit_generator(\n",
        "    generator=training_batch_generator_rand,\n",
        "    epochs=epochs,\n",
        "    steps_per_epoch=steps_per_epoch\n",
        ")"
      ],
      "execution_count": 0,
      "outputs": [
        {
          "output_type": "stream",
          "text": [
            "Epoch 1/5\n",
            "168/168 [==============================] - 2422s 14s/step - loss: 0.6553 - acc: 0.5916\n",
            "Epoch 2/5\n",
            "168/168 [==============================] - 2401s 14s/step - loss: 0.3820 - acc: 0.8257\n",
            "Epoch 3/5\n",
            "168/168 [==============================] - 2414s 14s/step - loss: 0.1448 - acc: 0.9459\n",
            "Epoch 4/5\n",
            "168/168 [==============================] - 2418s 14s/step - loss: 0.0904 - acc: 0.9680\n",
            "Epoch 5/5\n",
            "168/168 [==============================] - 2440s 15s/step - loss: 0.0610 - acc: 0.9779\n"
          ],
          "name": "stdout"
        },
        {
          "output_type": "execute_result",
          "data": {
            "text/plain": [
              "<keras.callbacks.History at 0x7f0f50c39550>"
            ]
          },
          "metadata": {
            "tags": []
          },
          "execution_count": 33
        }
      ]
    },
    {
      "cell_type": "code",
      "metadata": {
        "colab_type": "code",
        "id": "cA2Ce-l5dIda",
        "colab": {}
      },
      "source": [
        "with open('../data/adjacency-matrix-model-random-padding.pickle','wb') as f:\n",
        "    pickle.dump(model_rand,f)"
      ],
      "execution_count": 0,
      "outputs": []
    },
    {
      "cell_type": "code",
      "metadata": {
        "colab_type": "code",
        "id": "cStFNyNDzUwi",
        "colab": {}
      },
      "source": [
        "model_rand = None\n",
        "with open('../data/adjacency-matrix-model-random-padding.pickle','rb') as f:\n",
        "    model_rand = pickle.load(f)"
      ],
      "execution_count": 0,
      "outputs": []
    },
    {
      "cell_type": "code",
      "metadata": {
        "colab_type": "code",
        "id": "vEVZyBqXjN0E",
        "outputId": "df0eaa0a-6c28-4d43-b7d9-f6f58c1fd2fa",
        "colab": {
          "base_uri": "https://localhost:8080/",
          "height": 34
        }
      },
      "source": [
        "test_batch_generator_rand = SparseToDenseGenerator(x_test_rand, y_test_rand, batch_size)\n",
        "\n",
        "model_rand.evaluate_generator(\n",
        "    generator=test_batch_generator_rand,\n",
        ")"
      ],
      "execution_count": 0,
      "outputs": [
        {
          "output_type": "execute_result",
          "data": {
            "text/plain": [
              "[0.18665227448245567, 0.9432734045935062]"
            ]
          },
          "metadata": {
            "tags": []
          },
          "execution_count": 36
        }
      ]
    },
    {
      "cell_type": "code",
      "metadata": {
        "colab_type": "code",
        "id": "WTsj5GpNdU1T",
        "colab": {}
      },
      "source": [
        "predict_batch_generator_rand = SparseToDensePredictGenerator(x_test_rand, batch_size)\n",
        "y_predict_rand = model_rand.predict_generator(predict_batch_generator_rand)"
      ],
      "execution_count": 0,
      "outputs": []
    },
    {
      "cell_type": "code",
      "metadata": {
        "colab_type": "code",
        "id": "8mEJ60xPeuMy",
        "outputId": "75586119-1852-4ea8-e47f-a2ec7feff7d5",
        "colab": {
          "base_uri": "https://localhost:8080/",
          "height": 387
        }
      },
      "source": [
        "confusion_matrix = pd.DataFrame(\n",
        "    data=metrics.confusion_matrix(y_test_rand, np.rint(y_predict_rand)),\n",
        ")\n",
        "\n",
        "confusion_figure, confusion_axes = matplotlib.pyplot.subplots()\n",
        "confusion_figure.set_size_inches(8, 5)\n",
        "confusion_axes.set_title(\n",
        "    'Confusion matrix showing the frequency of \\n'\n",
        "    'correct and incorrect bug classification predictions.'\n",
        "    '\\n\\n'  # hack to avoid overlap with x-axis labels below\n",
        ")\n",
        "confusion_axes.xaxis.tick_top()  # move x-axis labels to top of matrix\n",
        "_ = sns.heatmap(\n",
        "    confusion_matrix,\n",
        "    annot=True,\n",
        "    fmt=\"d\",\n",
        "    cmap=sns.color_palette(\"Blues\"),\n",
        "    vmin=0,\n",
        "    ax=confusion_axes,\n",
        ")"
      ],
      "execution_count": 0,
      "outputs": [
        {
          "output_type": "display_data",
          "data": {
            "image/png": "[encoded data removed]",
            "text/plain": [
              "<Figure size 576x360 with 2 Axes>"
            ]
          },
          "metadata": {
            "tags": []
          }
        }
      ]
    },
    {
      "cell_type": "code",
      "metadata": {
        "colab_type": "code",
        "id": "77zdFNcNe4JM",
        "colab": {}
      },
      "source": [
        "from sklearn.metrics import roc_curve\n",
        "fpr_keras, tpr_keras, thresholds_keras = roc_curve(\n",
        "    y_test_rand.astype(int),\n",
        "    np.rint(y_predict_rand),\n",
        ")"
      ],
      "execution_count": 0,
      "outputs": []
    },
    {
      "cell_type": "code",
      "metadata": {
        "colab_type": "code",
        "id": "1Yhq-7AGfAMI",
        "colab": {}
      },
      "source": [
        "from sklearn.metrics import auc\n",
        "import matplotlib.pyplot as plt\n",
        "auc_keras = auc(fpr_keras, tpr_keras)"
      ],
      "execution_count": 0,
      "outputs": []
    },
    {
      "cell_type": "code",
      "metadata": {
        "colab_type": "code",
        "id": "M1JuBOORfgSm",
        "outputId": "71d89895-02b6-419c-92d8-c9c9bdf8a4dc",
        "colab": {
          "base_uri": "https://localhost:8080/",
          "height": 295
        }
      },
      "source": [
        "plt.plot(fpr_keras, tpr_keras, label='Keras (area = {:.3f})'.format(auc_keras))\n",
        "plt.xlabel('False positive rate')\n",
        "plt.ylabel('True positive rate')\n",
        "plt.title('ROC curve')\n",
        "plt.legend(loc='best')\n",
        "plt.show()"
      ],
      "execution_count": 0,
      "outputs": [
        {
          "output_type": "display_data",
          "data": {
            "image/png": "[encoded data removed]",
            "text/plain": [
              "<Figure size 432x288 with 1 Axes>"
            ]
          },
          "metadata": {
            "tags": []
          }
        }
      ]
    },
    {
      "cell_type": "code",
      "metadata": {
        "colab_type": "code",
        "id": "WuUuvFvBfkkd",
        "colab": {}
      },
      "source": [
        "tn, fp, fn, tp = metrics.confusion_matrix(\n",
        "    y_test_rand.astype(int), \n",
        "    np.rint(y_predict_rand)\n",
        ").flatten().tolist()\n",
        "\n",
        "fpr_nn = fp/(fp+tp)\n",
        "fnr_nn = fn/(fn+tn)"
      ],
      "execution_count": 0,
      "outputs": []
    },
    {
      "cell_type": "markdown",
      "metadata": {
        "colab_type": "text",
        "id": "ZZprpN3AzgWx"
      },
      "source": [
        "Testing on original test set:"
      ]
    },
    {
      "cell_type": "code",
      "metadata": {
        "colab_type": "code",
        "id": "O9z9ppFPf98M",
        "outputId": "a93c2e88-4117-4f8e-d965-f079241768cd",
        "colab": {
          "base_uri": "https://localhost:8080/",
          "height": 34
        }
      },
      "source": [
        "test_batch_generator = SparseToDenseGenerator(x_test, y_test, batch_size)\n",
        "\n",
        "model_rand.evaluate_generator(\n",
        "    generator=test_batch_generator,\n",
        ")"
      ],
      "execution_count": 0,
      "outputs": [
        {
          "output_type": "execute_result",
          "data": {
            "text/plain": [
              "[0.213629653004113, 0.9076255446846118]"
            ]
          },
          "metadata": {
            "tags": []
          },
          "execution_count": 44
        }
      ]
    },
    {
      "cell_type": "code",
      "metadata": {
        "colab_type": "code",
        "id": "rg0M6TES1Ga7",
        "colab": {}
      },
      "source": [
        ""
      ],
      "execution_count": 0,
      "outputs": []
    }
  ]
}