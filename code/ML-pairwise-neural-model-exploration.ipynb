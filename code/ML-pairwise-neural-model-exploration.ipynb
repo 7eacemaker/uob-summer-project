{
 "cells": [
  {
   "cell_type": "markdown",
   "metadata": {},
   "source": [
    "# Import Data"
   ]
  },
  {
   "cell_type": "code",
   "execution_count": 1,
   "metadata": {},
   "outputs": [
    {
     "name": "stderr",
     "output_type": "stream",
     "text": [
      "Using TensorFlow backend.\n"
     ]
    }
   ],
   "source": [
    "import tensorflow\n",
    "import keras\n",
    "import numpy as np\n",
    "np.random.seed(1248)\n",
    "import pandas as pd"
   ]
  },
  {
   "cell_type": "code",
   "execution_count": 3,
   "metadata": {},
   "outputs": [],
   "source": [
    "data = pd.read_csv('../data/buffer_overflow_data.csv.gz')"
   ]
  },
  {
   "cell_type": "code",
   "execution_count": 4,
   "metadata": {},
   "outputs": [],
   "source": [
    "labels = data.copy()\n",
    "del labels['Unnamed: 0']\n",
    "del labels['Unnamed: 0.1']\n",
    "del labels['filename']\n",
    "del labels['code']\n",
    "del labels['flaw']\n",
    "del labels['flaw_loc']\n",
    "labels = labels.drop_duplicates().sort_values('testcase_ID').reset_index(drop=True)"
   ]
  },
  {
   "cell_type": "code",
   "execution_count": 8,
   "metadata": {
    "scrolled": true
   },
   "outputs": [],
   "source": [
    "x = pd.read_csv(\"../data/buffer_overflow_graph_embeddings.csv.gz\")\n",
    "x['testcase_ID'] = x['type']\n",
    "del x['type']\n",
    "x = x.sort_values(\"testcase_ID\").reset_index(drop=True)"
   ]
  },
  {
   "cell_type": "code",
   "execution_count": 9,
   "metadata": {},
   "outputs": [],
   "source": [
    "y = labels['bug']\n",
    "#x = x.drop('testcase_ID', axis='columns')"
   ]
  },
  {
   "cell_type": "code",
   "execution_count": 10,
   "metadata": {},
   "outputs": [],
   "source": [
    "x['testcase_ID'] = x['testcase_ID'].abs()"
   ]
  },
  {
   "cell_type": "code",
   "execution_count": 11,
   "metadata": {},
   "outputs": [],
   "source": [
    "x['label'] = y"
   ]
  },
  {
   "cell_type": "code",
   "execution_count": 12,
   "metadata": {},
   "outputs": [],
   "source": [
    "x['label'] = x['label']+0"
   ]
  },
  {
   "cell_type": "code",
   "execution_count": 13,
   "metadata": {},
   "outputs": [],
   "source": [
    "x = x.sort_values(['testcase_ID'], ascending=[True])"
   ]
  },
  {
   "cell_type": "code",
   "execution_count": 14,
   "metadata": {},
   "outputs": [],
   "source": [
    "x = x.drop(['testcase_ID'],axis = 1)"
   ]
  },
  {
   "cell_type": "code",
   "execution_count": 15,
   "metadata": {},
   "outputs": [
    {
     "data": {
      "text/html": [
       "<div>\n",
       "<style scoped>\n",
       "    .dataframe tbody tr th:only-of-type {\n",
       "        vertical-align: middle;\n",
       "    }\n",
       "\n",
       "    .dataframe tbody tr th {\n",
       "        vertical-align: top;\n",
       "    }\n",
       "\n",
       "    .dataframe thead th {\n",
       "        text-align: right;\n",
       "    }\n",
       "</style>\n",
       "<table border=\"1\" class=\"dataframe\">\n",
       "  <thead>\n",
       "    <tr style=\"text-align: right;\">\n",
       "      <th></th>\n",
       "      <th>x_0</th>\n",
       "      <th>x_1</th>\n",
       "      <th>x_2</th>\n",
       "      <th>x_3</th>\n",
       "      <th>x_4</th>\n",
       "      <th>x_5</th>\n",
       "      <th>x_6</th>\n",
       "      <th>x_7</th>\n",
       "      <th>x_8</th>\n",
       "      <th>x_9</th>\n",
       "      <th>...</th>\n",
       "      <th>x_119</th>\n",
       "      <th>x_120</th>\n",
       "      <th>x_121</th>\n",
       "      <th>x_122</th>\n",
       "      <th>x_123</th>\n",
       "      <th>x_124</th>\n",
       "      <th>x_125</th>\n",
       "      <th>x_126</th>\n",
       "      <th>x_127</th>\n",
       "      <th>label</th>\n",
       "    </tr>\n",
       "  </thead>\n",
       "  <tbody>\n",
       "    <tr>\n",
       "      <th>10750</th>\n",
       "      <td>1.063358</td>\n",
       "      <td>-1.228456</td>\n",
       "      <td>1.018970</td>\n",
       "      <td>1.014858</td>\n",
       "      <td>0.355167</td>\n",
       "      <td>2.142064</td>\n",
       "      <td>-0.478193</td>\n",
       "      <td>-0.484101</td>\n",
       "      <td>-0.821799</td>\n",
       "      <td>0.590820</td>\n",
       "      <td>...</td>\n",
       "      <td>0.458926</td>\n",
       "      <td>-1.066467</td>\n",
       "      <td>0.416754</td>\n",
       "      <td>0.339325</td>\n",
       "      <td>1.731976</td>\n",
       "      <td>-1.386569</td>\n",
       "      <td>-1.146801</td>\n",
       "      <td>0.061810</td>\n",
       "      <td>-0.814084</td>\n",
       "      <td>1</td>\n",
       "    </tr>\n",
       "    <tr>\n",
       "      <th>10751</th>\n",
       "      <td>0.910154</td>\n",
       "      <td>-0.821479</td>\n",
       "      <td>0.957234</td>\n",
       "      <td>0.435156</td>\n",
       "      <td>-0.308388</td>\n",
       "      <td>2.235716</td>\n",
       "      <td>-0.757282</td>\n",
       "      <td>-0.155062</td>\n",
       "      <td>-1.316913</td>\n",
       "      <td>0.382822</td>\n",
       "      <td>...</td>\n",
       "      <td>0.629068</td>\n",
       "      <td>-1.549051</td>\n",
       "      <td>0.346083</td>\n",
       "      <td>-0.093151</td>\n",
       "      <td>0.636493</td>\n",
       "      <td>-0.748481</td>\n",
       "      <td>-0.803023</td>\n",
       "      <td>0.275279</td>\n",
       "      <td>-1.164181</td>\n",
       "      <td>0</td>\n",
       "    </tr>\n",
       "    <tr>\n",
       "      <th>10752</th>\n",
       "      <td>0.786060</td>\n",
       "      <td>-1.190646</td>\n",
       "      <td>0.842850</td>\n",
       "      <td>1.132795</td>\n",
       "      <td>0.026180</td>\n",
       "      <td>2.176560</td>\n",
       "      <td>-0.237262</td>\n",
       "      <td>-0.516491</td>\n",
       "      <td>-0.601623</td>\n",
       "      <td>0.549145</td>\n",
       "      <td>...</td>\n",
       "      <td>0.413117</td>\n",
       "      <td>-0.948823</td>\n",
       "      <td>0.111702</td>\n",
       "      <td>0.271978</td>\n",
       "      <td>1.669998</td>\n",
       "      <td>-1.178218</td>\n",
       "      <td>-1.442209</td>\n",
       "      <td>0.222773</td>\n",
       "      <td>-0.974331</td>\n",
       "      <td>0</td>\n",
       "    </tr>\n",
       "    <tr>\n",
       "      <th>10749</th>\n",
       "      <td>0.831610</td>\n",
       "      <td>-0.821665</td>\n",
       "      <td>0.462280</td>\n",
       "      <td>1.104118</td>\n",
       "      <td>0.043573</td>\n",
       "      <td>1.914864</td>\n",
       "      <td>-0.240263</td>\n",
       "      <td>-0.247540</td>\n",
       "      <td>-0.782924</td>\n",
       "      <td>0.650780</td>\n",
       "      <td>...</td>\n",
       "      <td>0.455815</td>\n",
       "      <td>-1.203662</td>\n",
       "      <td>0.573264</td>\n",
       "      <td>0.481934</td>\n",
       "      <td>1.343881</td>\n",
       "      <td>-1.128915</td>\n",
       "      <td>-1.169284</td>\n",
       "      <td>-0.349694</td>\n",
       "      <td>-1.086358</td>\n",
       "      <td>1</td>\n",
       "    </tr>\n",
       "    <tr>\n",
       "      <th>10753</th>\n",
       "      <td>0.582568</td>\n",
       "      <td>-1.052597</td>\n",
       "      <td>0.664881</td>\n",
       "      <td>1.111387</td>\n",
       "      <td>-0.142810</td>\n",
       "      <td>1.926291</td>\n",
       "      <td>-0.414423</td>\n",
       "      <td>-0.147685</td>\n",
       "      <td>-0.765143</td>\n",
       "      <td>0.504171</td>\n",
       "      <td>...</td>\n",
       "      <td>0.622557</td>\n",
       "      <td>-1.336874</td>\n",
       "      <td>0.376597</td>\n",
       "      <td>0.527256</td>\n",
       "      <td>1.438082</td>\n",
       "      <td>-0.825990</td>\n",
       "      <td>-1.171456</td>\n",
       "      <td>-0.388640</td>\n",
       "      <td>-1.298043</td>\n",
       "      <td>0</td>\n",
       "    </tr>\n",
       "  </tbody>\n",
       "</table>\n",
       "<p>5 rows × 129 columns</p>\n",
       "</div>"
      ],
      "text/plain": [
       "            x_0       x_1       x_2       x_3       x_4       x_5       x_6  \\\n",
       "10750  1.063358 -1.228456  1.018970  1.014858  0.355167  2.142064 -0.478193   \n",
       "10751  0.910154 -0.821479  0.957234  0.435156 -0.308388  2.235716 -0.757282   \n",
       "10752  0.786060 -1.190646  0.842850  1.132795  0.026180  2.176560 -0.237262   \n",
       "10749  0.831610 -0.821665  0.462280  1.104118  0.043573  1.914864 -0.240263   \n",
       "10753  0.582568 -1.052597  0.664881  1.111387 -0.142810  1.926291 -0.414423   \n",
       "\n",
       "            x_7       x_8       x_9  ...     x_119     x_120     x_121  \\\n",
       "10750 -0.484101 -0.821799  0.590820  ...  0.458926 -1.066467  0.416754   \n",
       "10751 -0.155062 -1.316913  0.382822  ...  0.629068 -1.549051  0.346083   \n",
       "10752 -0.516491 -0.601623  0.549145  ...  0.413117 -0.948823  0.111702   \n",
       "10749 -0.247540 -0.782924  0.650780  ...  0.455815 -1.203662  0.573264   \n",
       "10753 -0.147685 -0.765143  0.504171  ...  0.622557 -1.336874  0.376597   \n",
       "\n",
       "          x_122     x_123     x_124     x_125     x_126     x_127  label  \n",
       "10750  0.339325  1.731976 -1.386569 -1.146801  0.061810 -0.814084      1  \n",
       "10751 -0.093151  0.636493 -0.748481 -0.803023  0.275279 -1.164181      0  \n",
       "10752  0.271978  1.669998 -1.178218 -1.442209  0.222773 -0.974331      0  \n",
       "10749  0.481934  1.343881 -1.128915 -1.169284 -0.349694 -1.086358      1  \n",
       "10753  0.527256  1.438082 -0.825990 -1.171456 -0.388640 -1.298043      0  \n",
       "\n",
       "[5 rows x 129 columns]"
      ]
     },
     "execution_count": 15,
     "metadata": {},
     "output_type": "execute_result"
    }
   ],
   "source": [
    "x.head()"
   ]
  },
  {
   "cell_type": "code",
   "execution_count": 16,
   "metadata": {},
   "outputs": [],
   "source": [
    "data1 = x.iloc[0::2,:]\n",
    "data2 = x.iloc[1::2,:]"
   ]
  },
  {
   "cell_type": "code",
   "execution_count": 17,
   "metadata": {},
   "outputs": [
    {
     "data": {
      "text/html": [
       "<div>\n",
       "<style scoped>\n",
       "    .dataframe tbody tr th:only-of-type {\n",
       "        vertical-align: middle;\n",
       "    }\n",
       "\n",
       "    .dataframe tbody tr th {\n",
       "        vertical-align: top;\n",
       "    }\n",
       "\n",
       "    .dataframe thead th {\n",
       "        text-align: right;\n",
       "    }\n",
       "</style>\n",
       "<table border=\"1\" class=\"dataframe\">\n",
       "  <thead>\n",
       "    <tr style=\"text-align: right;\">\n",
       "      <th></th>\n",
       "      <th>x_0</th>\n",
       "      <th>x_1</th>\n",
       "      <th>x_2</th>\n",
       "      <th>x_3</th>\n",
       "      <th>x_4</th>\n",
       "      <th>x_5</th>\n",
       "      <th>x_6</th>\n",
       "      <th>x_7</th>\n",
       "      <th>x_8</th>\n",
       "      <th>x_9</th>\n",
       "      <th>...</th>\n",
       "      <th>x_119</th>\n",
       "      <th>x_120</th>\n",
       "      <th>x_121</th>\n",
       "      <th>x_122</th>\n",
       "      <th>x_123</th>\n",
       "      <th>x_124</th>\n",
       "      <th>x_125</th>\n",
       "      <th>x_126</th>\n",
       "      <th>x_127</th>\n",
       "      <th>label</th>\n",
       "    </tr>\n",
       "  </thead>\n",
       "  <tbody>\n",
       "    <tr>\n",
       "      <th>10751</th>\n",
       "      <td>0.910154</td>\n",
       "      <td>-0.821479</td>\n",
       "      <td>0.957234</td>\n",
       "      <td>0.435156</td>\n",
       "      <td>-0.308388</td>\n",
       "      <td>2.235716</td>\n",
       "      <td>-0.757282</td>\n",
       "      <td>-0.155062</td>\n",
       "      <td>-1.316913</td>\n",
       "      <td>0.382822</td>\n",
       "      <td>...</td>\n",
       "      <td>0.629068</td>\n",
       "      <td>-1.549051</td>\n",
       "      <td>0.346083</td>\n",
       "      <td>-0.093151</td>\n",
       "      <td>0.636493</td>\n",
       "      <td>-0.748481</td>\n",
       "      <td>-0.803023</td>\n",
       "      <td>0.275279</td>\n",
       "      <td>-1.164181</td>\n",
       "      <td>0</td>\n",
       "    </tr>\n",
       "    <tr>\n",
       "      <th>10749</th>\n",
       "      <td>0.831610</td>\n",
       "      <td>-0.821665</td>\n",
       "      <td>0.462280</td>\n",
       "      <td>1.104118</td>\n",
       "      <td>0.043573</td>\n",
       "      <td>1.914864</td>\n",
       "      <td>-0.240263</td>\n",
       "      <td>-0.247540</td>\n",
       "      <td>-0.782924</td>\n",
       "      <td>0.650780</td>\n",
       "      <td>...</td>\n",
       "      <td>0.455815</td>\n",
       "      <td>-1.203662</td>\n",
       "      <td>0.573264</td>\n",
       "      <td>0.481934</td>\n",
       "      <td>1.343881</td>\n",
       "      <td>-1.128915</td>\n",
       "      <td>-1.169284</td>\n",
       "      <td>-0.349694</td>\n",
       "      <td>-1.086358</td>\n",
       "      <td>1</td>\n",
       "    </tr>\n",
       "    <tr>\n",
       "      <th>10748</th>\n",
       "      <td>0.735931</td>\n",
       "      <td>-0.905028</td>\n",
       "      <td>0.957479</td>\n",
       "      <td>1.087067</td>\n",
       "      <td>0.022738</td>\n",
       "      <td>1.533288</td>\n",
       "      <td>-0.437489</td>\n",
       "      <td>-0.022053</td>\n",
       "      <td>-0.654308</td>\n",
       "      <td>0.298448</td>\n",
       "      <td>...</td>\n",
       "      <td>0.413009</td>\n",
       "      <td>-0.532591</td>\n",
       "      <td>0.367282</td>\n",
       "      <td>0.089370</td>\n",
       "      <td>1.539474</td>\n",
       "      <td>-0.978331</td>\n",
       "      <td>-1.221906</td>\n",
       "      <td>0.213263</td>\n",
       "      <td>-1.004463</td>\n",
       "      <td>1</td>\n",
       "    </tr>\n",
       "    <tr>\n",
       "      <th>10754</th>\n",
       "      <td>0.409700</td>\n",
       "      <td>-1.535115</td>\n",
       "      <td>1.147691</td>\n",
       "      <td>1.179514</td>\n",
       "      <td>0.374585</td>\n",
       "      <td>1.531873</td>\n",
       "      <td>-0.401765</td>\n",
       "      <td>-0.562815</td>\n",
       "      <td>-0.920540</td>\n",
       "      <td>0.230366</td>\n",
       "      <td>...</td>\n",
       "      <td>0.657058</td>\n",
       "      <td>-0.418744</td>\n",
       "      <td>0.292369</td>\n",
       "      <td>0.513864</td>\n",
       "      <td>2.064001</td>\n",
       "      <td>-1.223822</td>\n",
       "      <td>-1.211890</td>\n",
       "      <td>-0.088715</td>\n",
       "      <td>-1.702245</td>\n",
       "      <td>0</td>\n",
       "    </tr>\n",
       "    <tr>\n",
       "      <th>10746</th>\n",
       "      <td>0.842448</td>\n",
       "      <td>-1.098243</td>\n",
       "      <td>1.024335</td>\n",
       "      <td>0.796683</td>\n",
       "      <td>0.054049</td>\n",
       "      <td>1.917223</td>\n",
       "      <td>-0.711854</td>\n",
       "      <td>-0.271464</td>\n",
       "      <td>-0.696059</td>\n",
       "      <td>-0.134586</td>\n",
       "      <td>...</td>\n",
       "      <td>0.520613</td>\n",
       "      <td>-1.094478</td>\n",
       "      <td>0.180841</td>\n",
       "      <td>0.070534</td>\n",
       "      <td>1.290091</td>\n",
       "      <td>-0.833192</td>\n",
       "      <td>-0.945936</td>\n",
       "      <td>0.080639</td>\n",
       "      <td>-0.843151</td>\n",
       "      <td>1</td>\n",
       "    </tr>\n",
       "  </tbody>\n",
       "</table>\n",
       "<p>5 rows × 129 columns</p>\n",
       "</div>"
      ],
      "text/plain": [
       "            x_0       x_1       x_2       x_3       x_4       x_5       x_6  \\\n",
       "10751  0.910154 -0.821479  0.957234  0.435156 -0.308388  2.235716 -0.757282   \n",
       "10749  0.831610 -0.821665  0.462280  1.104118  0.043573  1.914864 -0.240263   \n",
       "10748  0.735931 -0.905028  0.957479  1.087067  0.022738  1.533288 -0.437489   \n",
       "10754  0.409700 -1.535115  1.147691  1.179514  0.374585  1.531873 -0.401765   \n",
       "10746  0.842448 -1.098243  1.024335  0.796683  0.054049  1.917223 -0.711854   \n",
       "\n",
       "            x_7       x_8       x_9  ...     x_119     x_120     x_121  \\\n",
       "10751 -0.155062 -1.316913  0.382822  ...  0.629068 -1.549051  0.346083   \n",
       "10749 -0.247540 -0.782924  0.650780  ...  0.455815 -1.203662  0.573264   \n",
       "10748 -0.022053 -0.654308  0.298448  ...  0.413009 -0.532591  0.367282   \n",
       "10754 -0.562815 -0.920540  0.230366  ...  0.657058 -0.418744  0.292369   \n",
       "10746 -0.271464 -0.696059 -0.134586  ...  0.520613 -1.094478  0.180841   \n",
       "\n",
       "          x_122     x_123     x_124     x_125     x_126     x_127  label  \n",
       "10751 -0.093151  0.636493 -0.748481 -0.803023  0.275279 -1.164181      0  \n",
       "10749  0.481934  1.343881 -1.128915 -1.169284 -0.349694 -1.086358      1  \n",
       "10748  0.089370  1.539474 -0.978331 -1.221906  0.213263 -1.004463      1  \n",
       "10754  0.513864  2.064001 -1.223822 -1.211890 -0.088715 -1.702245      0  \n",
       "10746  0.070534  1.290091 -0.833192 -0.945936  0.080639 -0.843151      1  \n",
       "\n",
       "[5 rows x 129 columns]"
      ]
     },
     "execution_count": 17,
     "metadata": {},
     "output_type": "execute_result"
    }
   ],
   "source": [
    "data2.head()"
   ]
  },
  {
   "cell_type": "code",
   "execution_count": 95,
   "metadata": {},
   "outputs": [],
   "source": [
    "data1.to_csv(\"../data/data1.csv\")\n",
    "data2.to_csv(\"../data/data2.csv\")"
   ]
  },
  {
   "cell_type": "code",
   "execution_count": 2,
   "metadata": {},
   "outputs": [],
   "source": [
    "data1 = pd.read_csv(\"../data/data1.csv\", index_col  = None)\n",
    "data2 = pd.read_csv(\"../data/data2.csv\", index_col  = None)"
   ]
  },
  {
   "cell_type": "code",
   "execution_count": 3,
   "metadata": {},
   "outputs": [],
   "source": [
    "data1 = data1.drop('Unnamed: 0',axis =1)"
   ]
  },
  {
   "cell_type": "code",
   "execution_count": 4,
   "metadata": {},
   "outputs": [
    {
     "data": {
      "text/html": [
       "<div>\n",
       "<style scoped>\n",
       "    .dataframe tbody tr th:only-of-type {\n",
       "        vertical-align: middle;\n",
       "    }\n",
       "\n",
       "    .dataframe tbody tr th {\n",
       "        vertical-align: top;\n",
       "    }\n",
       "\n",
       "    .dataframe thead th {\n",
       "        text-align: right;\n",
       "    }\n",
       "</style>\n",
       "<table border=\"1\" class=\"dataframe\">\n",
       "  <thead>\n",
       "    <tr style=\"text-align: right;\">\n",
       "      <th></th>\n",
       "      <th>x_0</th>\n",
       "      <th>x_1</th>\n",
       "      <th>x_2</th>\n",
       "      <th>x_3</th>\n",
       "      <th>x_4</th>\n",
       "      <th>x_5</th>\n",
       "      <th>x_6</th>\n",
       "      <th>x_7</th>\n",
       "      <th>x_8</th>\n",
       "      <th>x_9</th>\n",
       "      <th>...</th>\n",
       "      <th>x_118</th>\n",
       "      <th>x_119</th>\n",
       "      <th>x_120</th>\n",
       "      <th>x_121</th>\n",
       "      <th>x_122</th>\n",
       "      <th>x_123</th>\n",
       "      <th>x_124</th>\n",
       "      <th>x_125</th>\n",
       "      <th>x_126</th>\n",
       "      <th>x_127</th>\n",
       "    </tr>\n",
       "  </thead>\n",
       "  <tbody>\n",
       "    <tr>\n",
       "      <th>0</th>\n",
       "      <td>0.910154</td>\n",
       "      <td>-0.821479</td>\n",
       "      <td>0.957234</td>\n",
       "      <td>0.435156</td>\n",
       "      <td>-0.308388</td>\n",
       "      <td>2.235716</td>\n",
       "      <td>-0.757282</td>\n",
       "      <td>-0.155062</td>\n",
       "      <td>-1.316913</td>\n",
       "      <td>0.382822</td>\n",
       "      <td>...</td>\n",
       "      <td>-0.051530</td>\n",
       "      <td>0.629068</td>\n",
       "      <td>-1.549051</td>\n",
       "      <td>0.346083</td>\n",
       "      <td>-0.093151</td>\n",
       "      <td>0.636493</td>\n",
       "      <td>-0.748481</td>\n",
       "      <td>-0.803023</td>\n",
       "      <td>0.275279</td>\n",
       "      <td>-1.164181</td>\n",
       "    </tr>\n",
       "    <tr>\n",
       "      <th>1</th>\n",
       "      <td>0.831610</td>\n",
       "      <td>-0.821665</td>\n",
       "      <td>0.462280</td>\n",
       "      <td>1.104118</td>\n",
       "      <td>0.043573</td>\n",
       "      <td>1.914864</td>\n",
       "      <td>-0.240263</td>\n",
       "      <td>-0.247540</td>\n",
       "      <td>-0.782924</td>\n",
       "      <td>0.650780</td>\n",
       "      <td>...</td>\n",
       "      <td>0.072116</td>\n",
       "      <td>0.455815</td>\n",
       "      <td>-1.203662</td>\n",
       "      <td>0.573264</td>\n",
       "      <td>0.481934</td>\n",
       "      <td>1.343881</td>\n",
       "      <td>-1.128915</td>\n",
       "      <td>-1.169284</td>\n",
       "      <td>-0.349694</td>\n",
       "      <td>-1.086358</td>\n",
       "    </tr>\n",
       "    <tr>\n",
       "      <th>2</th>\n",
       "      <td>0.735931</td>\n",
       "      <td>-0.905028</td>\n",
       "      <td>0.957479</td>\n",
       "      <td>1.087067</td>\n",
       "      <td>0.022738</td>\n",
       "      <td>1.533288</td>\n",
       "      <td>-0.437489</td>\n",
       "      <td>-0.022053</td>\n",
       "      <td>-0.654308</td>\n",
       "      <td>0.298448</td>\n",
       "      <td>...</td>\n",
       "      <td>-0.130969</td>\n",
       "      <td>0.413009</td>\n",
       "      <td>-0.532591</td>\n",
       "      <td>0.367282</td>\n",
       "      <td>0.089370</td>\n",
       "      <td>1.539474</td>\n",
       "      <td>-0.978331</td>\n",
       "      <td>-1.221906</td>\n",
       "      <td>0.213263</td>\n",
       "      <td>-1.004463</td>\n",
       "    </tr>\n",
       "    <tr>\n",
       "      <th>3</th>\n",
       "      <td>0.409700</td>\n",
       "      <td>-1.535115</td>\n",
       "      <td>1.147691</td>\n",
       "      <td>1.179514</td>\n",
       "      <td>0.374585</td>\n",
       "      <td>1.531873</td>\n",
       "      <td>-0.401765</td>\n",
       "      <td>-0.562815</td>\n",
       "      <td>-0.920540</td>\n",
       "      <td>0.230366</td>\n",
       "      <td>...</td>\n",
       "      <td>-0.123758</td>\n",
       "      <td>0.657058</td>\n",
       "      <td>-0.418744</td>\n",
       "      <td>0.292369</td>\n",
       "      <td>0.513864</td>\n",
       "      <td>2.064001</td>\n",
       "      <td>-1.223822</td>\n",
       "      <td>-1.211890</td>\n",
       "      <td>-0.088715</td>\n",
       "      <td>-1.702245</td>\n",
       "    </tr>\n",
       "    <tr>\n",
       "      <th>4</th>\n",
       "      <td>0.842448</td>\n",
       "      <td>-1.098243</td>\n",
       "      <td>1.024335</td>\n",
       "      <td>0.796683</td>\n",
       "      <td>0.054049</td>\n",
       "      <td>1.917223</td>\n",
       "      <td>-0.711854</td>\n",
       "      <td>-0.271464</td>\n",
       "      <td>-0.696059</td>\n",
       "      <td>-0.134586</td>\n",
       "      <td>...</td>\n",
       "      <td>-0.219389</td>\n",
       "      <td>0.520613</td>\n",
       "      <td>-1.094478</td>\n",
       "      <td>0.180841</td>\n",
       "      <td>0.070534</td>\n",
       "      <td>1.290091</td>\n",
       "      <td>-0.833192</td>\n",
       "      <td>-0.945936</td>\n",
       "      <td>0.080639</td>\n",
       "      <td>-0.843151</td>\n",
       "    </tr>\n",
       "  </tbody>\n",
       "</table>\n",
       "<p>5 rows × 128 columns</p>\n",
       "</div>"
      ],
      "text/plain": [
       "        x_0       x_1       x_2       x_3       x_4       x_5       x_6  \\\n",
       "0  0.910154 -0.821479  0.957234  0.435156 -0.308388  2.235716 -0.757282   \n",
       "1  0.831610 -0.821665  0.462280  1.104118  0.043573  1.914864 -0.240263   \n",
       "2  0.735931 -0.905028  0.957479  1.087067  0.022738  1.533288 -0.437489   \n",
       "3  0.409700 -1.535115  1.147691  1.179514  0.374585  1.531873 -0.401765   \n",
       "4  0.842448 -1.098243  1.024335  0.796683  0.054049  1.917223 -0.711854   \n",
       "\n",
       "        x_7       x_8       x_9  ...     x_118     x_119     x_120     x_121  \\\n",
       "0 -0.155062 -1.316913  0.382822  ... -0.051530  0.629068 -1.549051  0.346083   \n",
       "1 -0.247540 -0.782924  0.650780  ...  0.072116  0.455815 -1.203662  0.573264   \n",
       "2 -0.022053 -0.654308  0.298448  ... -0.130969  0.413009 -0.532591  0.367282   \n",
       "3 -0.562815 -0.920540  0.230366  ... -0.123758  0.657058 -0.418744  0.292369   \n",
       "4 -0.271464 -0.696059 -0.134586  ... -0.219389  0.520613 -1.094478  0.180841   \n",
       "\n",
       "      x_122     x_123     x_124     x_125     x_126     x_127  \n",
       "0 -0.093151  0.636493 -0.748481 -0.803023  0.275279 -1.164181  \n",
       "1  0.481934  1.343881 -1.128915 -1.169284 -0.349694 -1.086358  \n",
       "2  0.089370  1.539474 -0.978331 -1.221906  0.213263 -1.004463  \n",
       "3  0.513864  2.064001 -1.223822 -1.211890 -0.088715 -1.702245  \n",
       "4  0.070534  1.290091 -0.833192 -0.945936  0.080639 -0.843151  \n",
       "\n",
       "[5 rows x 128 columns]"
      ]
     },
     "execution_count": 4,
     "metadata": {},
     "output_type": "execute_result"
    }
   ],
   "source": [
    "data2.iloc[:,1:129].head()"
   ]
  },
  {
   "cell_type": "code",
   "execution_count": 5,
   "metadata": {},
   "outputs": [
    {
     "data": {
      "text/html": [
       "<div>\n",
       "<style scoped>\n",
       "    .dataframe tbody tr th:only-of-type {\n",
       "        vertical-align: middle;\n",
       "    }\n",
       "\n",
       "    .dataframe tbody tr th {\n",
       "        vertical-align: top;\n",
       "    }\n",
       "\n",
       "    .dataframe thead th {\n",
       "        text-align: right;\n",
       "    }\n",
       "</style>\n",
       "<table border=\"1\" class=\"dataframe\">\n",
       "  <thead>\n",
       "    <tr style=\"text-align: right;\">\n",
       "      <th></th>\n",
       "      <th>1</th>\n",
       "      <th>2</th>\n",
       "      <th>3</th>\n",
       "      <th>4</th>\n",
       "      <th>5</th>\n",
       "      <th>6</th>\n",
       "      <th>7</th>\n",
       "      <th>8</th>\n",
       "      <th>9</th>\n",
       "      <th>10</th>\n",
       "      <th>...</th>\n",
       "      <th>119</th>\n",
       "      <th>120</th>\n",
       "      <th>121</th>\n",
       "      <th>122</th>\n",
       "      <th>123</th>\n",
       "      <th>124</th>\n",
       "      <th>125</th>\n",
       "      <th>126</th>\n",
       "      <th>127</th>\n",
       "      <th>128</th>\n",
       "    </tr>\n",
       "  </thead>\n",
       "  <tbody>\n",
       "    <tr>\n",
       "      <th>0</th>\n",
       "      <td>1.063358</td>\n",
       "      <td>-1.228456</td>\n",
       "      <td>1.018970</td>\n",
       "      <td>1.014858</td>\n",
       "      <td>0.355167</td>\n",
       "      <td>2.142064</td>\n",
       "      <td>-0.478193</td>\n",
       "      <td>-0.484101</td>\n",
       "      <td>-0.821799</td>\n",
       "      <td>0.590820</td>\n",
       "      <td>...</td>\n",
       "      <td>-0.350950</td>\n",
       "      <td>0.458926</td>\n",
       "      <td>-1.066467</td>\n",
       "      <td>0.416754</td>\n",
       "      <td>0.339325</td>\n",
       "      <td>1.731976</td>\n",
       "      <td>-1.386569</td>\n",
       "      <td>-1.146801</td>\n",
       "      <td>0.061810</td>\n",
       "      <td>-0.814084</td>\n",
       "    </tr>\n",
       "    <tr>\n",
       "      <th>1</th>\n",
       "      <td>0.786060</td>\n",
       "      <td>-1.190646</td>\n",
       "      <td>0.842850</td>\n",
       "      <td>1.132795</td>\n",
       "      <td>0.026180</td>\n",
       "      <td>2.176560</td>\n",
       "      <td>-0.237262</td>\n",
       "      <td>-0.516491</td>\n",
       "      <td>-0.601623</td>\n",
       "      <td>0.549145</td>\n",
       "      <td>...</td>\n",
       "      <td>0.015356</td>\n",
       "      <td>0.413117</td>\n",
       "      <td>-0.948823</td>\n",
       "      <td>0.111702</td>\n",
       "      <td>0.271978</td>\n",
       "      <td>1.669998</td>\n",
       "      <td>-1.178218</td>\n",
       "      <td>-1.442209</td>\n",
       "      <td>0.222773</td>\n",
       "      <td>-0.974331</td>\n",
       "    </tr>\n",
       "    <tr>\n",
       "      <th>2</th>\n",
       "      <td>0.582568</td>\n",
       "      <td>-1.052597</td>\n",
       "      <td>0.664881</td>\n",
       "      <td>1.111387</td>\n",
       "      <td>-0.142810</td>\n",
       "      <td>1.926291</td>\n",
       "      <td>-0.414423</td>\n",
       "      <td>-0.147685</td>\n",
       "      <td>-0.765143</td>\n",
       "      <td>0.504171</td>\n",
       "      <td>...</td>\n",
       "      <td>0.122572</td>\n",
       "      <td>0.622557</td>\n",
       "      <td>-1.336874</td>\n",
       "      <td>0.376597</td>\n",
       "      <td>0.527256</td>\n",
       "      <td>1.438082</td>\n",
       "      <td>-0.825990</td>\n",
       "      <td>-1.171456</td>\n",
       "      <td>-0.388640</td>\n",
       "      <td>-1.298043</td>\n",
       "    </tr>\n",
       "    <tr>\n",
       "      <th>3</th>\n",
       "      <td>0.831811</td>\n",
       "      <td>-1.016883</td>\n",
       "      <td>0.836120</td>\n",
       "      <td>1.028817</td>\n",
       "      <td>0.300319</td>\n",
       "      <td>2.357464</td>\n",
       "      <td>-0.432461</td>\n",
       "      <td>-0.558174</td>\n",
       "      <td>-1.030560</td>\n",
       "      <td>0.782374</td>\n",
       "      <td>...</td>\n",
       "      <td>0.054439</td>\n",
       "      <td>0.405428</td>\n",
       "      <td>-1.104983</td>\n",
       "      <td>0.498969</td>\n",
       "      <td>0.225623</td>\n",
       "      <td>1.457570</td>\n",
       "      <td>-1.218916</td>\n",
       "      <td>-1.484174</td>\n",
       "      <td>0.198284</td>\n",
       "      <td>-0.938085</td>\n",
       "    </tr>\n",
       "    <tr>\n",
       "      <th>4</th>\n",
       "      <td>0.728147</td>\n",
       "      <td>-1.189957</td>\n",
       "      <td>1.011299</td>\n",
       "      <td>0.726809</td>\n",
       "      <td>0.029509</td>\n",
       "      <td>1.870214</td>\n",
       "      <td>-0.706424</td>\n",
       "      <td>-0.269049</td>\n",
       "      <td>-0.702594</td>\n",
       "      <td>-0.128107</td>\n",
       "      <td>...</td>\n",
       "      <td>-0.108494</td>\n",
       "      <td>0.567815</td>\n",
       "      <td>-1.107141</td>\n",
       "      <td>0.155516</td>\n",
       "      <td>0.023302</td>\n",
       "      <td>1.370907</td>\n",
       "      <td>-0.567673</td>\n",
       "      <td>-1.024017</td>\n",
       "      <td>0.080452</td>\n",
       "      <td>-0.900337</td>\n",
       "    </tr>\n",
       "  </tbody>\n",
       "</table>\n",
       "<p>5 rows × 128 columns</p>\n",
       "</div>"
      ],
      "text/plain": [
       "          1         2         3         4         5         6         7  \\\n",
       "0  1.063358 -1.228456  1.018970  1.014858  0.355167  2.142064 -0.478193   \n",
       "1  0.786060 -1.190646  0.842850  1.132795  0.026180  2.176560 -0.237262   \n",
       "2  0.582568 -1.052597  0.664881  1.111387 -0.142810  1.926291 -0.414423   \n",
       "3  0.831811 -1.016883  0.836120  1.028817  0.300319  2.357464 -0.432461   \n",
       "4  0.728147 -1.189957  1.011299  0.726809  0.029509  1.870214 -0.706424   \n",
       "\n",
       "          8         9        10  ...       119       120       121       122  \\\n",
       "0 -0.484101 -0.821799  0.590820  ... -0.350950  0.458926 -1.066467  0.416754   \n",
       "1 -0.516491 -0.601623  0.549145  ...  0.015356  0.413117 -0.948823  0.111702   \n",
       "2 -0.147685 -0.765143  0.504171  ...  0.122572  0.622557 -1.336874  0.376597   \n",
       "3 -0.558174 -1.030560  0.782374  ...  0.054439  0.405428 -1.104983  0.498969   \n",
       "4 -0.269049 -0.702594 -0.128107  ... -0.108494  0.567815 -1.107141  0.155516   \n",
       "\n",
       "        123       124       125       126       127       128  \n",
       "0  0.339325  1.731976 -1.386569 -1.146801  0.061810 -0.814084  \n",
       "1  0.271978  1.669998 -1.178218 -1.442209  0.222773 -0.974331  \n",
       "2  0.527256  1.438082 -0.825990 -1.171456 -0.388640 -1.298043  \n",
       "3  0.225623  1.457570 -1.218916 -1.484174  0.198284 -0.938085  \n",
       "4  0.023302  1.370907 -0.567673 -1.024017  0.080452 -0.900337  \n",
       "\n",
       "[5 rows x 128 columns]"
      ]
     },
     "execution_count": 5,
     "metadata": {},
     "output_type": "execute_result"
    }
   ],
   "source": [
    "data1.iloc[:,1:129].head()"
   ]
  },
  {
   "cell_type": "code",
   "execution_count": 6,
   "metadata": {},
   "outputs": [],
   "source": [
    "data = pd.concat([data1.iloc[:,1:129],data2.iloc[:,1:129],data1.iloc[:,130],data2.iloc[:,130]],axis = 1)"
   ]
  },
  {
   "cell_type": "code",
   "execution_count": 7,
   "metadata": {},
   "outputs": [],
   "source": [
    "label = data.iloc[:,128*2:128*2+2]\n",
    "data = data.iloc[:,0:128*2]"
   ]
  },
  {
   "cell_type": "code",
   "execution_count": 8,
   "metadata": {},
   "outputs": [],
   "source": [
    "import sklearn"
   ]
  },
  {
   "cell_type": "code",
   "execution_count": 9,
   "metadata": {},
   "outputs": [
    {
     "data": {
      "text/html": [
       "<div>\n",
       "<style scoped>\n",
       "    .dataframe tbody tr th:only-of-type {\n",
       "        vertical-align: middle;\n",
       "    }\n",
       "\n",
       "    .dataframe tbody tr th {\n",
       "        vertical-align: top;\n",
       "    }\n",
       "\n",
       "    .dataframe thead th {\n",
       "        text-align: right;\n",
       "    }\n",
       "</style>\n",
       "<table border=\"1\" class=\"dataframe\">\n",
       "  <thead>\n",
       "    <tr style=\"text-align: right;\">\n",
       "      <th></th>\n",
       "      <th>label</th>\n",
       "      <th>130</th>\n",
       "    </tr>\n",
       "  </thead>\n",
       "  <tbody>\n",
       "    <tr>\n",
       "      <th>0</th>\n",
       "      <td>0</td>\n",
       "      <td>1</td>\n",
       "    </tr>\n",
       "  </tbody>\n",
       "</table>\n",
       "</div>"
      ],
      "text/plain": [
       "   label  130\n",
       "0      0    1"
      ]
     },
     "execution_count": 9,
     "metadata": {},
     "output_type": "execute_result"
    }
   ],
   "source": [
    "data_swap = pd.concat([data.iloc[:,128:],data.iloc[:,0:128]],axis = 1)\n",
    "label_swap = pd.concat([label.iloc[:,1],label.iloc[:,0]],axis = 1)\n",
    "label_swap.head(1)"
   ]
  },
  {
   "cell_type": "code",
   "execution_count": 10,
   "metadata": {},
   "outputs": [],
   "source": [
    "x = list(np.array(data))\n",
    "x.extend(list(np.array(data_swap)))\n",
    "y = list(np.array(label))\n",
    "y.extend(list(np.array(label_swap)))\n",
    "x = np.array(x)\n",
    "y = np.array(y)"
   ]
  },
  {
   "cell_type": "code",
   "execution_count": 34,
   "metadata": {},
   "outputs": [],
   "source": [
    "from sklearn.model_selection import train_test_split\n",
    "x_train, x_test, y_train, y_test = train_test_split(x, y, test_size = 0.2, random_state = 0)"
   ]
  },
  {
   "cell_type": "code",
   "execution_count": 35,
   "metadata": {},
   "outputs": [
    {
     "data": {
      "text/plain": [
       "(17201, 2)"
      ]
     },
     "execution_count": 35,
     "metadata": {},
     "output_type": "execute_result"
    }
   ],
   "source": [
    "y_train.shape"
   ]
  },
  {
   "cell_type": "code",
   "execution_count": 36,
   "metadata": {},
   "outputs": [
    {
     "data": {
      "text/plain": [
       "(17201, 256)"
      ]
     },
     "execution_count": 36,
     "metadata": {},
     "output_type": "execute_result"
    }
   ],
   "source": [
    "x_train.shape"
   ]
  },
  {
   "cell_type": "markdown",
   "metadata": {},
   "source": [
    "# [Neural tutorial](https://towardsdatascience.com/neural-networks-from-scratch-easy-vs-hard-b26ddc2e89c7)"
   ]
  },
  {
   "cell_type": "code",
   "execution_count": 37,
   "metadata": {
    "scrolled": true
   },
   "outputs": [],
   "source": [
    "from keras.layers import Dense, Dropout, Flatten, Reshape\n",
    "from keras.layers import Conv1D, MaxPooling1D\n",
    "from keras.models import Sequential\n",
    "from keras.layers.normalization import BatchNormalization\n",
    "from keras.layers.advanced_activations import LeakyReLU\n",
    "from keras.optimizers import RMSprop, Adadelta, Adam"
   ]
  },
  {
   "cell_type": "code",
   "execution_count": 38,
   "metadata": {},
   "outputs": [],
   "source": [
    "n_timesteps, n_features, n_outputs = x_train.shape[0], x_train.shape[1], y_train.shape[0]"
   ]
  },
  {
   "cell_type": "code",
   "execution_count": 39,
   "metadata": {},
   "outputs": [],
   "source": [
    "model = Sequential()\n",
    "conv_model = Sequential()\n",
    "model.add(Dense(128, input_dim=x_train.shape[1], activation='sigmoid'))\n",
    "model.add(Dense(128, activation='sigmoid'))\n",
    "model.add(Dense(units=2, activation='softmax'))"
   ]
  },
  {
   "cell_type": "code",
   "execution_count": 40,
   "metadata": {},
   "outputs": [
    {
     "name": "stdout",
     "output_type": "stream",
     "text": [
      "_________________________________________________________________\n",
      "Layer (type)                 Output Shape              Param #   \n",
      "=================================================================\n",
      "dense_4 (Dense)              (None, 128)               32896     \n",
      "_________________________________________________________________\n",
      "dense_5 (Dense)              (None, 128)               16512     \n",
      "_________________________________________________________________\n",
      "dense_6 (Dense)              (None, 2)                 258       \n",
      "=================================================================\n",
      "Total params: 49,666\n",
      "Trainable params: 49,666\n",
      "Non-trainable params: 0\n",
      "_________________________________________________________________\n"
     ]
    }
   ],
   "source": [
    "model.summary()"
   ]
  },
  {
   "cell_type": "code",
   "execution_count": 41,
   "metadata": {
    "scrolled": true
   },
   "outputs": [
    {
     "name": "stdout",
     "output_type": "stream",
     "text": [
      "Epoch 1/50\n",
      "17201/17201 [==============================] - 1s 30us/step - loss: 0.6703 - acc: 0.5818\n",
      "Epoch 2/50\n",
      "17201/17201 [==============================] - 0s 18us/step - loss: 0.5342 - acc: 0.7276\n",
      "Epoch 3/50\n",
      "17201/17201 [==============================] - 0s 18us/step - loss: 0.3974 - acc: 0.8147\n",
      "Epoch 4/50\n",
      "17201/17201 [==============================] - 0s 19us/step - loss: 0.2916 - acc: 0.8800\n",
      "Epoch 5/50\n",
      "17201/17201 [==============================] - 0s 18us/step - loss: 0.2488 - acc: 0.8963\n",
      "Epoch 6/50\n",
      "17201/17201 [==============================] - 0s 19us/step - loss: 0.2173 - acc: 0.9062\n",
      "Epoch 7/50\n",
      "17201/17201 [==============================] - 0s 19us/step - loss: 0.1987 - acc: 0.9144\n",
      "Epoch 8/50\n",
      "17201/17201 [==============================] - 0s 20us/step - loss: 0.1849 - acc: 0.9184\n",
      "Epoch 9/50\n",
      "17201/17201 [==============================] - 0s 19us/step - loss: 0.1651 - acc: 0.9251\n",
      "Epoch 10/50\n",
      "17201/17201 [==============================] - 0s 19us/step - loss: 0.1588 - acc: 0.9280\n",
      "Epoch 11/50\n",
      "17201/17201 [==============================] - 0s 19us/step - loss: 0.1495 - acc: 0.9302\n",
      "Epoch 12/50\n",
      "17201/17201 [==============================] - 0s 19us/step - loss: 0.1401 - acc: 0.9342\n",
      "Epoch 13/50\n",
      "17201/17201 [==============================] - 0s 20us/step - loss: 0.1444 - acc: 0.9323\n",
      "Epoch 14/50\n",
      "17201/17201 [==============================] - 0s 19us/step - loss: 0.1322 - acc: 0.9361\n",
      "Epoch 15/50\n",
      "17201/17201 [==============================] - 0s 19us/step - loss: 0.1279 - acc: 0.9394\n",
      "Epoch 16/50\n",
      "17201/17201 [==============================] - 0s 19us/step - loss: 0.1217 - acc: 0.9412\n",
      "Epoch 17/50\n",
      "17201/17201 [==============================] - 0s 19us/step - loss: 0.1210 - acc: 0.9409\n",
      "Epoch 18/50\n",
      "17201/17201 [==============================] - 0s 21us/step - loss: 0.1150 - acc: 0.9436\n",
      "Epoch 19/50\n",
      "17201/17201 [==============================] - 0s 24us/step - loss: 0.1152 - acc: 0.9436\n",
      "Epoch 20/50\n",
      "17201/17201 [==============================] - 0s 20us/step - loss: 0.1118 - acc: 0.9459\n",
      "Epoch 21/50\n",
      "17201/17201 [==============================] - 0s 24us/step - loss: 0.1071 - acc: 0.9474\n",
      "Epoch 22/50\n",
      "17201/17201 [==============================] - 0s 22us/step - loss: 0.1071 - acc: 0.9466\n",
      "Epoch 23/50\n",
      "17201/17201 [==============================] - 0s 22us/step - loss: 0.1063 - acc: 0.9466\n",
      "Epoch 24/50\n",
      "17201/17201 [==============================] - 0s 21us/step - loss: 0.1013 - acc: 0.9504\n",
      "Epoch 25/50\n",
      "17201/17201 [==============================] - 0s 25us/step - loss: 0.1000 - acc: 0.9505\n",
      "Epoch 26/50\n",
      "17201/17201 [==============================] - 1s 30us/step - loss: 0.0993 - acc: 0.9523\n",
      "Epoch 27/50\n",
      "17201/17201 [==============================] - 0s 26us/step - loss: 0.0948 - acc: 0.9524\n",
      "Epoch 28/50\n",
      "17201/17201 [==============================] - 0s 22us/step - loss: 0.0937 - acc: 0.9534\n",
      "Epoch 29/50\n",
      "17201/17201 [==============================] - 0s 19us/step - loss: 0.0948 - acc: 0.9533\n",
      "Epoch 30/50\n",
      "17201/17201 [==============================] - 0s 20us/step - loss: 0.0889 - acc: 0.9544\n",
      "Epoch 31/50\n",
      "17201/17201 [==============================] - 0s 18us/step - loss: 0.0893 - acc: 0.9527\n",
      "Epoch 32/50\n",
      "17201/17201 [==============================] - 0s 15us/step - loss: 0.0859 - acc: 0.9544\n",
      "Epoch 33/50\n",
      "17201/17201 [==============================] - 0s 18us/step - loss: 0.0849 - acc: 0.9554\n",
      "Epoch 34/50\n",
      "17201/17201 [==============================] - 0s 15us/step - loss: 0.0858 - acc: 0.9544\n",
      "Epoch 35/50\n",
      "17201/17201 [==============================] - 0s 18us/step - loss: 0.0846 - acc: 0.9548\n",
      "Epoch 36/50\n",
      "17201/17201 [==============================] - 0s 18us/step - loss: 0.0805 - acc: 0.9576\n",
      "Epoch 37/50\n",
      "17201/17201 [==============================] - 0s 16us/step - loss: 0.0800 - acc: 0.9568\n",
      "Epoch 38/50\n",
      "17201/17201 [==============================] - 0s 20us/step - loss: 0.0791 - acc: 0.9577\n",
      "Epoch 39/50\n",
      "17201/17201 [==============================] - 0s 18us/step - loss: 0.0778 - acc: 0.9585\n",
      "Epoch 40/50\n",
      "17201/17201 [==============================] - 0s 17us/step - loss: 0.0745 - acc: 0.9605\n",
      "Epoch 41/50\n",
      "17201/17201 [==============================] - 0s 22us/step - loss: 0.0761 - acc: 0.9591\n",
      "Epoch 42/50\n",
      "17201/17201 [==============================] - 0s 22us/step - loss: 0.0753 - acc: 0.9594\n",
      "Epoch 43/50\n",
      "17201/17201 [==============================] - 0s 25us/step - loss: 0.0738 - acc: 0.9602\n",
      "Epoch 44/50\n",
      "17201/17201 [==============================] - 1s 30us/step - loss: 0.0712 - acc: 0.9610\n",
      "Epoch 45/50\n",
      "17201/17201 [==============================] - 0s 26us/step - loss: 0.0716 - acc: 0.9599\n",
      "Epoch 46/50\n",
      "17201/17201 [==============================] - 0s 27us/step - loss: 0.0717 - acc: 0.9594\n",
      "Epoch 47/50\n",
      "17201/17201 [==============================] - 0s 21us/step - loss: 0.0699 - acc: 0.9615\n",
      "Epoch 48/50\n",
      "17201/17201 [==============================] - 0s 21us/step - loss: 0.0682 - acc: 0.9615\n",
      "Epoch 49/50\n",
      "17201/17201 [==============================] - 0s 25us/step - loss: 0.0679 - acc: 0.9627\n",
      "Epoch 50/50\n",
      "17201/17201 [==============================] - 0s 27us/step - loss: 0.0667 - acc: 0.9630\n"
     ]
    },
    {
     "data": {
      "text/plain": [
       "<keras.callbacks.History at 0xb2c465eb8>"
      ]
     },
     "execution_count": 41,
     "metadata": {},
     "output_type": "execute_result"
    }
   ],
   "source": [
    "model.compile(optimizer=Adadelta(), loss='categorical_crossentropy', metrics=['accuracy'])\n",
    "model.fit(x_train, y_train, epochs=50, batch_size=64)"
   ]
  },
  {
   "cell_type": "code",
   "execution_count": 42,
   "metadata": {},
   "outputs": [
    {
     "name": "stdout",
     "output_type": "stream",
     "text": [
      "4301/4301 [==============================] - 0s 29us/step\n"
     ]
    },
    {
     "data": {
      "text/plain": [
       "[0.06803513950759438, 0.9607068123692165]"
      ]
     },
     "execution_count": 42,
     "metadata": {},
     "output_type": "execute_result"
    }
   ],
   "source": [
    "model.evaluate(x_test,y_test)"
   ]
  },
  {
   "cell_type": "markdown",
   "metadata": {},
   "source": [
    "## Data swapping"
   ]
  },
  {
   "cell_type": "markdown",
   "metadata": {},
   "source": [
    "Named swapped data as `test`"
   ]
  },
  {
   "cell_type": "code",
   "execution_count": 45,
   "metadata": {},
   "outputs": [],
   "source": [
    "def data_swap(data):\n",
    "    temp1 = list(data[128:])\n",
    "    temp2 = list(data[0:128])\n",
    "    temp1.extend(temp2)\n",
    "    data = np.array(temp1)\n",
    "    return data"
   ]
  },
  {
   "cell_type": "code",
   "execution_count": 46,
   "metadata": {},
   "outputs": [
    {
     "data": {
      "text/plain": [
       "array([[0, 1],\n",
       "       [1, 0]])"
      ]
     },
     "execution_count": 46,
     "metadata": {},
     "output_type": "execute_result"
    }
   ],
   "source": [
    "y_test[0:2]"
   ]
  },
  {
   "cell_type": "code",
   "execution_count": 47,
   "metadata": {},
   "outputs": [],
   "source": [
    "test = np.array(list(map(data_swap,x_test)))"
   ]
  },
  {
   "cell_type": "code",
   "execution_count": 48,
   "metadata": {},
   "outputs": [],
   "source": [
    "a = list(x_test[0][128:]).extend(list(x_test[0][0:128]))"
   ]
  },
  {
   "cell_type": "code",
   "execution_count": 49,
   "metadata": {},
   "outputs": [
    {
     "data": {
      "text/plain": [
       "array([[1.8941414e-03, 9.9810588e-01],\n",
       "       [1.0000000e+00, 2.0849806e-09],\n",
       "       [6.9676611e-09, 1.0000000e+00],\n",
       "       [1.7881762e-02, 9.8211825e-01],\n",
       "       [1.9484385e-06, 9.9999809e-01],\n",
       "       [9.9649835e-01, 3.5016444e-03],\n",
       "       [9.8462787e-04, 9.9901533e-01],\n",
       "       [9.9973398e-01, 2.6602630e-04],\n",
       "       [1.8910805e-05, 9.9998105e-01],\n",
       "       [9.9999249e-01, 7.5521580e-06]], dtype=float32)"
      ]
     },
     "execution_count": 49,
     "metadata": {},
     "output_type": "execute_result"
    }
   ],
   "source": [
    "model.predict(x_test[0:10])"
   ]
  },
  {
   "cell_type": "code",
   "execution_count": 50,
   "metadata": {
    "scrolled": true
   },
   "outputs": [
    {
     "data": {
      "text/plain": [
       "array([[9.9287605e-01, 7.1240123e-03],\n",
       "       [8.8149408e-09, 1.0000000e+00],\n",
       "       [1.0000000e+00, 2.9782743e-09],\n",
       "       [9.9698180e-01, 3.0182207e-03],\n",
       "       [9.9999762e-01, 2.4309338e-06],\n",
       "       [9.1603480e-04, 9.9908400e-01],\n",
       "       [9.9862385e-01, 1.3761721e-03],\n",
       "       [5.5299129e-04, 9.9944705e-01],\n",
       "       [9.9987924e-01, 1.2076267e-04],\n",
       "       [1.2663785e-04, 9.9987340e-01]], dtype=float32)"
      ]
     },
     "execution_count": 50,
     "metadata": {},
     "output_type": "execute_result"
    }
   ],
   "source": [
    "model.predict(test[0:10])"
   ]
  },
  {
   "cell_type": "code",
   "execution_count": 51,
   "metadata": {},
   "outputs": [],
   "source": [
    "import seaborn as sns\n",
    "from sklearn import metrics\n",
    "import matplotlib"
   ]
  },
  {
   "cell_type": "code",
   "execution_count": 52,
   "metadata": {},
   "outputs": [],
   "source": [
    "y_predict= model.predict_classes(x_test)"
   ]
  },
  {
   "cell_type": "code",
   "execution_count": 53,
   "metadata": {},
   "outputs": [
    {
     "data": {
      "text/plain": [
       "array([1, 0, 1, ..., 1, 0, 0])"
      ]
     },
     "execution_count": 53,
     "metadata": {},
     "output_type": "execute_result"
    }
   ],
   "source": [
    "y_predict"
   ]
  },
  {
   "cell_type": "code",
   "execution_count": 54,
   "metadata": {},
   "outputs": [
    {
     "data": {
      "text/plain": [
       "array([0, 1])"
      ]
     },
     "execution_count": 54,
     "metadata": {},
     "output_type": "execute_result"
    }
   ],
   "source": [
    "y_test[0] "
   ]
  },
  {
   "cell_type": "code",
   "execution_count": 55,
   "metadata": {},
   "outputs": [],
   "source": [
    "y_test_classes = []\n",
    "for i in y_test:\n",
    "    if sum(i == y_test[0]) == 2:\n",
    "        y_test_classes.append(1)\n",
    "    else:\n",
    "        y_test_classes.append(0)\n",
    "\n",
    "y_test_classes = np.array(y_test_classes)"
   ]
  },
  {
   "cell_type": "markdown",
   "metadata": {},
   "source": [
    "## Confusion matrix for x_test"
   ]
  },
  {
   "cell_type": "code",
   "execution_count": 57,
   "metadata": {},
   "outputs": [
    {
     "name": "stdout",
     "output_type": "stream",
     "text": [
      "Accuracy: 0.9607068123692165\n",
      "F1 score: 0.9598670149608169\n",
      "Recall: 0.9378190255220418\n",
      "Precision: 0.982976653696498\n",
      "\n",
      " clasification report:\n",
      "               precision    recall  f1-score   support\n",
      "\n",
      "           0       0.94      0.98      0.96      2146\n",
      "           1       0.98      0.94      0.96      2155\n",
      "\n",
      "   micro avg       0.96      0.96      0.96      4301\n",
      "   macro avg       0.96      0.96      0.96      4301\n",
      "weighted avg       0.96      0.96      0.96      4301\n",
      "\n",
      "\n",
      " confussion matrix:\n",
      " [[2111   35]\n",
      " [ 134 2021]]\n"
     ]
    },
    {
     "data": {
      "image/png": "[encoded data removed]",
      "text/plain": [
       "<Figure size 360x288 with 2 Axes>"
      ]
     },
     "metadata": {
      "needs_background": "light"
     },
     "output_type": "display_data"
    }
   ],
   "source": [
    "prediction = model.predict_classes(x_test)\n",
    "\n",
    "\n",
    "from sklearn.metrics import precision_score, \\\n",
    "    recall_score, confusion_matrix, classification_report, \\\n",
    "    accuracy_score, f1_score\n",
    "\n",
    "print('Accuracy:', accuracy_score(y_test_classes, prediction))\n",
    "print('F1 score:', f1_score(y_test_classes, prediction))\n",
    "print('Recall:', recall_score(y_test_classes, prediction))\n",
    "print('Precision:', precision_score(y_test_classes, prediction))\n",
    "print('\\n clasification report:\\n', classification_report(y_test_classes,prediction))\n",
    "print('\\n confussion matrix:\\n',confusion_matrix(y_test_classes, prediction))\n",
    "\n",
    "confusion_matrix = pd.DataFrame(\n",
    "    data=metrics.confusion_matrix(y_test_classes, y_predict), \n",
    "    \n",
    ")\n",
    "\n",
    "confusion_figure, confusion_axes = matplotlib.pyplot.subplots()\n",
    "confusion_figure.set_size_inches(5, 4)\n",
    "confusion_axes.set_title(\n",
    "    'Confusion matrix showing the frequency of \\n'\n",
    "    'correct and incorrect bug classification predictions.'\n",
    "    '\\n\\n'  # hack to avoid overlap with x-axis labels below\n",
    ")\n",
    "confusion_axes.xaxis.tick_top()  # move x-axis labels to top of matrix\n",
    "_ = sns.heatmap(\n",
    "    confusion_matrix,\n",
    "    annot=True,\n",
    "    fmt=\"d\",\n",
    "    cmap=sns.color_palette(\"Blues\"),\n",
    "    vmin=0,\n",
    "    ax=confusion_axes,\n",
    ")"
   ]
  },
  {
   "cell_type": "markdown",
   "metadata": {},
   "source": [
    "## Confusion matrix for test"
   ]
  },
  {
   "cell_type": "markdown",
   "metadata": {},
   "source": [
    "Test for swapped data"
   ]
  },
  {
   "cell_type": "code",
   "execution_count": 58,
   "metadata": {},
   "outputs": [],
   "source": [
    "test_pred = model.predict_classes(test)"
   ]
  },
  {
   "cell_type": "code",
   "execution_count": 67,
   "metadata": {},
   "outputs": [],
   "source": [
    "test_y = y_test == 0"
   ]
  },
  {
   "cell_type": "code",
   "execution_count": 70,
   "metadata": {},
   "outputs": [],
   "source": [
    "test_classes = []\n",
    "for i in test_y:\n",
    "    if sum(i == y_test[0]) == 2:\n",
    "        test_classes.append(1)\n",
    "    else:\n",
    "        test_classes.append(0)\n",
    "\n",
    "test_classes = np.array(test_classes)"
   ]
  },
  {
   "cell_type": "code",
   "execution_count": 61,
   "metadata": {},
   "outputs": [
    {
     "data": {
      "text/plain": [
       "array([0, 1])"
      ]
     },
     "execution_count": 61,
     "metadata": {},
     "output_type": "execute_result"
    }
   ],
   "source": [
    "y_test[0]"
   ]
  },
  {
   "cell_type": "code",
   "execution_count": 71,
   "metadata": {},
   "outputs": [
    {
     "data": {
      "text/plain": [
       "array([0, 1, 0, ..., 0, 1, 1])"
      ]
     },
     "execution_count": 71,
     "metadata": {},
     "output_type": "execute_result"
    }
   ],
   "source": [
    "test_classes"
   ]
  },
  {
   "cell_type": "code",
   "execution_count": 72,
   "metadata": {},
   "outputs": [
    {
     "name": "stdout",
     "output_type": "stream",
     "text": [
      "Accuracy: 0.9639618693327133\n",
      "F1 score: 0.9631391200951248\n",
      "Recall: 0.9436160298229264\n",
      "Precision: 0.9834871296745993\n",
      "\n",
      " clasification report:\n",
      "               precision    recall  f1-score   support\n",
      "\n",
      "           0       0.95      0.98      0.96      2155\n",
      "           1       0.98      0.94      0.96      2146\n",
      "\n",
      "   micro avg       0.96      0.96      0.96      4301\n",
      "   macro avg       0.96      0.96      0.96      4301\n",
      "weighted avg       0.96      0.96      0.96      4301\n",
      "\n",
      "\n",
      " confussion matrix:\n",
      " [[2121   34]\n",
      " [ 121 2025]]\n"
     ]
    },
    {
     "data": {
      "image/png": "[encoded data removed]",
      "text/plain": [
       "<Figure size 360x288 with 2 Axes>"
      ]
     },
     "metadata": {
      "needs_background": "light"
     },
     "output_type": "display_data"
    }
   ],
   "source": [
    "prediction = model.predict_classes(test)\n",
    "\n",
    "\n",
    "from sklearn.metrics import precision_score, \\\n",
    "    recall_score, confusion_matrix, classification_report, \\\n",
    "    accuracy_score, f1_score\n",
    "\n",
    "print('Accuracy:', accuracy_score(test_classes, prediction))\n",
    "print('F1 score:', f1_score(test_classes, prediction))\n",
    "print('Recall:', recall_score(test_classes, prediction))\n",
    "print('Precision:', precision_score(test_classes, prediction))\n",
    "print('\\n clasification report:\\n', classification_report(test_classes,prediction))\n",
    "print('\\n confussion matrix:\\n',confusion_matrix(test_classes, prediction))\n",
    "\n",
    "confusion_matrix = pd.DataFrame(\n",
    "    data=metrics.confusion_matrix(test_classes, prediction), \n",
    "    \n",
    ")\n",
    "\n",
    "confusion_figure, confusion_axes = matplotlib.pyplot.subplots()\n",
    "confusion_figure.set_size_inches(5, 4)\n",
    "confusion_axes.set_title(\n",
    "    'Confusion matrix showing the frequency of \\n'\n",
    "    'correct and incorrect bug classification predictions.'\n",
    "    '\\n\\n'  # hack to avoid overlap with x-axis labels below\n",
    ")\n",
    "confusion_axes.xaxis.tick_top()  # move x-axis labels to top of matrix\n",
    "_ = sns.heatmap(\n",
    "    confusion_matrix,\n",
    "    annot=True,\n",
    "    fmt=\"d\",\n",
    "    cmap=sns.color_palette(\"Blues\"),\n",
    "    vmin=0,\n",
    "    ax=confusion_axes,\n",
    ")"
   ]
  },
  {
   "cell_type": "code",
   "execution_count": null,
   "metadata": {},
   "outputs": [],
   "source": []
  }
 ],
 "metadata": {
  "kernelspec": {
   "display_name": "Python 3",
   "language": "python",
   "name": "python3"
  },
  "language_info": {
   "codemirror_mode": {
    "name": "ipython",
    "version": 3
   },
   "file_extension": ".py",
   "mimetype": "text/x-python",
   "name": "python",
   "nbconvert_exporter": "python",
   "pygments_lexer": "ipython3",
   "version": "3.7.1"
  },
  "toc": {
   "base_numbering": 1,
   "nav_menu": {},
   "number_sections": true,
   "sideBar": true,
   "skip_h1_title": false,
   "title_cell": "Table of Contents",
   "title_sidebar": "Contents",
   "toc_cell": false,
   "toc_position": {},
   "toc_section_display": true,
   "toc_window_display": false
  }
 },
 "nbformat": 4,
 "nbformat_minor": 2
}
