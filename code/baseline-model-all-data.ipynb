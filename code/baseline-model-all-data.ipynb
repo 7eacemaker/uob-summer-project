{
 "cells": [
  {
   "cell_type": "markdown",
   "metadata": {},
   "source": [
    "# Import Data"
   ]
  },
  {
   "cell_type": "code",
   "execution_count": 1,
   "metadata": {},
   "outputs": [
    {
     "name": "stderr",
     "output_type": "stream",
     "text": [
      "Using TensorFlow backend.\n"
     ]
    }
   ],
   "source": [
    "import tensorflow\n",
    "import keras"
   ]
  },
  {
   "cell_type": "code",
   "execution_count": 2,
   "metadata": {},
   "outputs": [],
   "source": [
    "import pandas as pd"
   ]
  },
  {
   "cell_type": "code",
   "execution_count": 3,
   "metadata": {},
   "outputs": [],
   "source": [
    "data = pd.read_csv('../data/juliet.csv.zip')"
   ]
  },
  {
   "cell_type": "code",
   "execution_count": 4,
   "metadata": {},
   "outputs": [],
   "source": [
    "y = data.iloc[:,6:]"
   ]
  },
  {
   "cell_type": "code",
   "execution_count": 7,
   "metadata": {},
   "outputs": [],
   "source": [
    "y = y.drop(y.index[30000:33999])\n",
    "y = y.drop(y.index[26000:27999])"
   ]
  },
  {
   "cell_type": "code",
   "execution_count": 12,
   "metadata": {},
   "outputs": [],
   "source": [
    "y_label = y.iloc[x['type']]"
   ]
  },
  {
   "cell_type": "code",
   "execution_count": 5,
   "metadata": {
    "scrolled": true
   },
   "outputs": [],
   "source": [
    "x = pd.read_csv(\"../data/graph_all.csv.gz\")"
   ]
  },
  {
   "cell_type": "code",
   "execution_count": 7,
   "metadata": {},
   "outputs": [],
   "source": [
    "x['type'] = x['type'] - 1 "
   ]
  },
  {
   "cell_type": "code",
   "execution_count": 15,
   "metadata": {},
   "outputs": [],
   "source": [
    "x = x.drop(columns=\"type\")"
   ]
  },
  {
   "cell_type": "code",
   "execution_count": 16,
   "metadata": {},
   "outputs": [
    {
     "name": "stdout",
     "output_type": "stream",
     "text": [
      "Collecting sklearn\n",
      "  Downloading https://files.pythonhosted.org/packages/1e/7a/dbb3be0ce9bd5c8b7e3d87328e79063f8b263b2b1bfa4774cb1147bfcd3f/sklearn-0.0.tar.gz\n",
      "Collecting scikit-learn (from sklearn)\n",
      "\u001b[?25l  Downloading https://files.pythonhosted.org/packages/21/a4/a48bd4b0d15395362b561df7e7247de87291105eb736a3b2aaffebf437b9/scikit_learn-0.21.2-cp37-cp37m-manylinux1_x86_64.whl (6.7MB)\n",
      "\u001b[K     |████████████████████████████████| 6.7MB 5.9MB/s eta 0:00:01     |██████████████▊                 | 3.1MB 2.5MB/s eta 0:00:02     |█████████████████               | 3.6MB 2.5MB/s eta 0:00:02\n",
      "\u001b[?25hRequirement already satisfied: joblib>=0.11 in /usr/local/lib/python3.7/dist-packages (from scikit-learn->sklearn) (0.13.0)\n",
      "Requirement already satisfied: scipy>=0.17.0 in /usr/local/lib/python3.7/dist-packages (from scikit-learn->sklearn) (1.3.0)\n",
      "Requirement already satisfied: numpy>=1.11.0 in /usr/local/lib/python3.7/dist-packages (from scikit-learn->sklearn) (1.16.4)\n",
      "Building wheels for collected packages: sklearn\n",
      "  Building wheel for sklearn (setup.py) ... \u001b[?25ldone\n",
      "\u001b[?25h  Stored in directory: /root/.cache/pip/wheels/76/03/bb/589d421d27431bcd2c6da284d5f2286c8e3b2ea3cf1594c074\n",
      "Successfully built sklearn\n",
      "Installing collected packages: scikit-learn, sklearn\n",
      "Successfully installed scikit-learn-0.21.2 sklearn-0.0\n"
     ]
    }
   ],
   "source": [
    "!pip install sklearn"
   ]
  },
  {
   "cell_type": "code",
   "execution_count": 11,
   "metadata": {},
   "outputs": [],
   "source": [
    "import sklearn"
   ]
  },
  {
   "cell_type": "code",
   "execution_count": 17,
   "metadata": {},
   "outputs": [],
   "source": [
    "from sklearn.model_selection import train_test_split\n",
    "x_train, x_test, y_train, y_test = train_test_split(x, y_label, test_size = 0.2, random_state = 0)"
   ]
  },
  {
   "cell_type": "code",
   "execution_count": 18,
   "metadata": {},
   "outputs": [
    {
     "data": {
      "text/plain": [
       "(48252, 122)"
      ]
     },
     "execution_count": 18,
     "metadata": {},
     "output_type": "execute_result"
    }
   ],
   "source": [
    "y_train.shape"
   ]
  },
  {
   "cell_type": "markdown",
   "metadata": {},
   "source": [
    "# [Neural tutorial](https://towardsdatascience.com/neural-networks-from-scratch-easy-vs-hard-b26ddc2e89c7)"
   ]
  },
  {
   "cell_type": "code",
   "execution_count": 41,
   "metadata": {
    "scrolled": true
   },
   "outputs": [],
   "source": [
    "from keras.layers import Dense\n",
    "from keras.models import Sequential\n",
    "from keras.optimizers import RMSprop, Adadelta, Adam\n",
    "model = Sequential()"
   ]
  },
  {
   "cell_type": "code",
   "execution_count": 42,
   "metadata": {},
   "outputs": [],
   "source": [
    "model.add(Dense(128, input_dim=x_train.shape[1], activation='sigmoid'))\n",
    "model.add(Dense(128, activation='sigmoid'))\n",
    "model.add(Dense(128, activation='sigmoid'))\n",
    "\n",
    "model.add(Dense(units=y_train.shape[1], activation='softmax'))"
   ]
  },
  {
   "cell_type": "code",
   "execution_count": 43,
   "metadata": {
    "scrolled": true
   },
   "outputs": [
    {
     "name": "stdout",
     "output_type": "stream",
     "text": [
      "_________________________________________________________________\n",
      "Layer (type)                 Output Shape              Param #   \n",
      "=================================================================\n",
      "dense_11 (Dense)             (None, 128)               16512     \n",
      "_________________________________________________________________\n",
      "dense_12 (Dense)             (None, 128)               16512     \n",
      "_________________________________________________________________\n",
      "dense_13 (Dense)             (None, 128)               16512     \n",
      "_________________________________________________________________\n",
      "dense_14 (Dense)             (None, 122)               15738     \n",
      "=================================================================\n",
      "Total params: 65,274\n",
      "Trainable params: 65,274\n",
      "Non-trainable params: 0\n",
      "_________________________________________________________________\n"
     ]
    }
   ],
   "source": [
    "model.summary()"
   ]
  },
  {
   "cell_type": "code",
   "execution_count": 44,
   "metadata": {
    "scrolled": true
   },
   "outputs": [
    {
     "name": "stdout",
     "output_type": "stream",
     "text": [
      "Epoch 1/100\n",
      "48252/48252 [==============================] - 2s 43us/step - loss: 3.2069 - categorical_accuracy: 0.1963\n",
      "Epoch 2/100\n",
      "48252/48252 [==============================] - 2s 38us/step - loss: 2.3388 - categorical_accuracy: 0.3597\n",
      "Epoch 3/100\n",
      "48252/48252 [==============================] - 2s 38us/step - loss: 1.8715 - categorical_accuracy: 0.4591\n",
      "Epoch 4/100\n",
      "48252/48252 [==============================] - 2s 37us/step - loss: 1.5773 - categorical_accuracy: 0.5313\n",
      "Epoch 5/100\n",
      "48252/48252 [==============================] - 2s 37us/step - loss: 1.4115 - categorical_accuracy: 0.5728\n",
      "Epoch 6/100\n",
      "48252/48252 [==============================] - 2s 38us/step - loss: 1.3066 - categorical_accuracy: 0.6032\n",
      "Epoch 7/100\n",
      "48252/48252 [==============================] - 2s 37us/step - loss: 1.2252 - categorical_accuracy: 0.6264\n",
      "Epoch 8/100\n",
      "48252/48252 [==============================] - 2s 37us/step - loss: 1.1628 - categorical_accuracy: 0.6426\n",
      "Epoch 9/100\n",
      "48252/48252 [==============================] - 2s 37us/step - loss: 1.1122 - categorical_accuracy: 0.6573\n",
      "Epoch 10/100\n",
      "48252/48252 [==============================] - 2s 42us/step - loss: 1.0707 - categorical_accuracy: 0.6695\n",
      "Epoch 11/100\n",
      "48252/48252 [==============================] - 2s 38us/step - loss: 1.0359 - categorical_accuracy: 0.6816\n",
      "Epoch 12/100\n",
      "48252/48252 [==============================] - 2s 38us/step - loss: 1.0050 - categorical_accuracy: 0.6887\n",
      "Epoch 13/100\n",
      "48252/48252 [==============================] - 2s 46us/step - loss: 0.9799 - categorical_accuracy: 0.6972\n",
      "Epoch 14/100\n",
      "48252/48252 [==============================] - 2s 43us/step - loss: 0.9554 - categorical_accuracy: 0.7028\n",
      "Epoch 15/100\n",
      "48252/48252 [==============================] - 2s 41us/step - loss: 0.9352 - categorical_accuracy: 0.7091\n",
      "Epoch 16/100\n",
      "48252/48252 [==============================] - 2s 40us/step - loss: 0.9173 - categorical_accuracy: 0.7140\n",
      "Epoch 17/100\n",
      "48252/48252 [==============================] - 2s 39us/step - loss: 0.9000 - categorical_accuracy: 0.7188\n",
      "Epoch 18/100\n",
      "48252/48252 [==============================] - 2s 38us/step - loss: 0.8858 - categorical_accuracy: 0.7241\n",
      "Epoch 19/100\n",
      "48252/48252 [==============================] - 2s 42us/step - loss: 0.8714 - categorical_accuracy: 0.7288\n",
      "Epoch 20/100\n",
      "48252/48252 [==============================] - 2s 42us/step - loss: 0.8573 - categorical_accuracy: 0.7324\n",
      "Epoch 21/100\n",
      "48252/48252 [==============================] - 2s 40us/step - loss: 0.8470 - categorical_accuracy: 0.7351\n",
      "Epoch 22/100\n",
      "48252/48252 [==============================] - 2s 45us/step - loss: 0.8343 - categorical_accuracy: 0.7371\n",
      "Epoch 23/100\n",
      "48252/48252 [==============================] - 2s 40us/step - loss: 0.8240 - categorical_accuracy: 0.7406\n",
      "Epoch 24/100\n",
      "48252/48252 [==============================] - 2s 41us/step - loss: 0.8153 - categorical_accuracy: 0.7450\n",
      "Epoch 25/100\n",
      "48252/48252 [==============================] - 2s 41us/step - loss: 0.8068 - categorical_accuracy: 0.7457\n",
      "Epoch 26/100\n",
      "48252/48252 [==============================] - 2s 39us/step - loss: 0.7972 - categorical_accuracy: 0.7494\n",
      "Epoch 27/100\n",
      "48252/48252 [==============================] - 2s 40us/step - loss: 0.7900 - categorical_accuracy: 0.7506\n",
      "Epoch 28/100\n",
      "48252/48252 [==============================] - 2s 41us/step - loss: 0.7810 - categorical_accuracy: 0.7530\n",
      "Epoch 29/100\n",
      "48252/48252 [==============================] - 2s 39us/step - loss: 0.7748 - categorical_accuracy: 0.7558\n",
      "Epoch 30/100\n",
      "48252/48252 [==============================] - 2s 38us/step - loss: 0.7683 - categorical_accuracy: 0.7559\n",
      "Epoch 31/100\n",
      "48252/48252 [==============================] - 2s 38us/step - loss: 0.7621 - categorical_accuracy: 0.7590\n",
      "Epoch 32/100\n",
      "48252/48252 [==============================] - 2s 38us/step - loss: 0.7564 - categorical_accuracy: 0.7607\n",
      "Epoch 33/100\n",
      "48252/48252 [==============================] - 2s 38us/step - loss: 0.7496 - categorical_accuracy: 0.7615\n",
      "Epoch 34/100\n",
      "48252/48252 [==============================] - 2s 38us/step - loss: 0.7446 - categorical_accuracy: 0.7645\n",
      "Epoch 35/100\n",
      "48252/48252 [==============================] - 2s 38us/step - loss: 0.7403 - categorical_accuracy: 0.7638\n",
      "Epoch 36/100\n",
      "48252/48252 [==============================] - 2s 38us/step - loss: 0.7333 - categorical_accuracy: 0.7663\n",
      "Epoch 37/100\n",
      "48252/48252 [==============================] - 2s 42us/step - loss: 0.7279 - categorical_accuracy: 0.7691\n",
      "Epoch 38/100\n",
      "48252/48252 [==============================] - 2s 44us/step - loss: 0.7244 - categorical_accuracy: 0.7695\n",
      "Epoch 39/100\n",
      "48252/48252 [==============================] - 2s 41us/step - loss: 0.7200 - categorical_accuracy: 0.7705\n",
      "Epoch 40/100\n",
      "48252/48252 [==============================] - 2s 38us/step - loss: 0.7149 - categorical_accuracy: 0.7741\n",
      "Epoch 41/100\n",
      "48252/48252 [==============================] - 2s 38us/step - loss: 0.7111 - categorical_accuracy: 0.7730\n",
      "Epoch 42/100\n",
      "48252/48252 [==============================] - 2s 41us/step - loss: 0.7070 - categorical_accuracy: 0.7751\n",
      "Epoch 43/100\n",
      "48252/48252 [==============================] - 2s 44us/step - loss: 0.7041 - categorical_accuracy: 0.7750\n",
      "Epoch 44/100\n",
      "48252/48252 [==============================] - 2s 47us/step - loss: 0.6994 - categorical_accuracy: 0.7774\n",
      "Epoch 45/100\n",
      "48252/48252 [==============================] - 2s 39us/step - loss: 0.6971 - categorical_accuracy: 0.7780\n",
      "Epoch 46/100\n",
      "48252/48252 [==============================] - 2s 39us/step - loss: 0.6922 - categorical_accuracy: 0.7790\n",
      "Epoch 47/100\n",
      "48252/48252 [==============================] - 2s 38us/step - loss: 0.6888 - categorical_accuracy: 0.7802\n",
      "Epoch 48/100\n",
      "48252/48252 [==============================] - 2s 38us/step - loss: 0.6857 - categorical_accuracy: 0.7828\n",
      "Epoch 49/100\n",
      "48252/48252 [==============================] - 2s 39us/step - loss: 0.6835 - categorical_accuracy: 0.7827\n",
      "Epoch 50/100\n",
      "48252/48252 [==============================] - 2s 40us/step - loss: 0.6803 - categorical_accuracy: 0.7836\n",
      "Epoch 51/100\n",
      "48252/48252 [==============================] - 3s 61us/step - loss: 0.6767 - categorical_accuracy: 0.7840\n",
      "Epoch 52/100\n",
      "48252/48252 [==============================] - 2s 47us/step - loss: 0.6740 - categorical_accuracy: 0.7858\n",
      "Epoch 53/100\n",
      "48252/48252 [==============================] - 3s 52us/step - loss: 0.6705 - categorical_accuracy: 0.7864\n",
      "Epoch 54/100\n",
      "48252/48252 [==============================] - 2s 43us/step - loss: 0.6693 - categorical_accuracy: 0.7859\n",
      "Epoch 55/100\n",
      "48252/48252 [==============================] - 2s 41us/step - loss: 0.6659 - categorical_accuracy: 0.7881\n",
      "Epoch 56/100\n",
      "48252/48252 [==============================] - 2s 43us/step - loss: 0.6624 - categorical_accuracy: 0.7888\n",
      "Epoch 57/100\n",
      "48252/48252 [==============================] - 2s 45us/step - loss: 0.6612 - categorical_accuracy: 0.7893\n",
      "Epoch 58/100\n",
      "48252/48252 [==============================] - 2s 43us/step - loss: 0.6574 - categorical_accuracy: 0.7893\n",
      "Epoch 59/100\n",
      "48252/48252 [==============================] - 2s 42us/step - loss: 0.6550 - categorical_accuracy: 0.7908\n",
      "Epoch 60/100\n",
      "48252/48252 [==============================] - 2s 43us/step - loss: 0.6535 - categorical_accuracy: 0.7916\n",
      "Epoch 61/100\n",
      "48252/48252 [==============================] - 2s 44us/step - loss: 0.6505 - categorical_accuracy: 0.7925\n",
      "Epoch 62/100\n",
      "48252/48252 [==============================] - 2s 44us/step - loss: 0.6491 - categorical_accuracy: 0.7945\n",
      "Epoch 63/100\n",
      "48252/48252 [==============================] - 2s 40us/step - loss: 0.6461 - categorical_accuracy: 0.7936\n",
      "Epoch 64/100\n",
      "48252/48252 [==============================] - 2s 40us/step - loss: 0.6447 - categorical_accuracy: 0.7943\n",
      "Epoch 65/100\n",
      "48252/48252 [==============================] - 2s 39us/step - loss: 0.6425 - categorical_accuracy: 0.7941\n",
      "Epoch 66/100\n",
      "48252/48252 [==============================] - 2s 39us/step - loss: 0.6397 - categorical_accuracy: 0.7945\n",
      "Epoch 67/100\n",
      "48252/48252 [==============================] - 2s 39us/step - loss: 0.6383 - categorical_accuracy: 0.7951\n",
      "Epoch 68/100\n",
      "48252/48252 [==============================] - 2s 39us/step - loss: 0.6357 - categorical_accuracy: 0.7967\n",
      "Epoch 69/100\n"
     ]
    },
    {
     "name": "stdout",
     "output_type": "stream",
     "text": [
      "48252/48252 [==============================] - 2s 36us/step - loss: 0.6345 - categorical_accuracy: 0.7975\n",
      "Epoch 70/100\n",
      "48252/48252 [==============================] - 2s 36us/step - loss: 0.6331 - categorical_accuracy: 0.7975\n",
      "Epoch 71/100\n",
      "48252/48252 [==============================] - 2s 37us/step - loss: 0.6302 - categorical_accuracy: 0.7993\n",
      "Epoch 72/100\n",
      "48252/48252 [==============================] - 2s 37us/step - loss: 0.6281 - categorical_accuracy: 0.7993\n",
      "Epoch 73/100\n",
      "48252/48252 [==============================] - 2s 38us/step - loss: 0.6271 - categorical_accuracy: 0.7986\n",
      "Epoch 74/100\n",
      "48252/48252 [==============================] - 2s 47us/step - loss: 0.6255 - categorical_accuracy: 0.8011\n",
      "Epoch 75/100\n",
      "48252/48252 [==============================] - 3s 56us/step - loss: 0.6232 - categorical_accuracy: 0.8005\n",
      "Epoch 76/100\n",
      "48252/48252 [==============================] - 2s 43us/step - loss: 0.6221 - categorical_accuracy: 0.8021\n",
      "Epoch 77/100\n",
      "48252/48252 [==============================] - 2s 42us/step - loss: 0.6203 - categorical_accuracy: 0.8016\n",
      "Epoch 78/100\n",
      "48252/48252 [==============================] - 2s 45us/step - loss: 0.6185 - categorical_accuracy: 0.8025\n",
      "Epoch 79/100\n",
      "48252/48252 [==============================] - 2s 41us/step - loss: 0.6162 - categorical_accuracy: 0.8031\n",
      "Epoch 80/100\n",
      "48252/48252 [==============================] - 2s 39us/step - loss: 0.6151 - categorical_accuracy: 0.8044\n",
      "Epoch 81/100\n",
      "48252/48252 [==============================] - 2s 39us/step - loss: 0.6137 - categorical_accuracy: 0.8048\n",
      "Epoch 82/100\n",
      "48252/48252 [==============================] - 3s 52us/step - loss: 0.6127 - categorical_accuracy: 0.8051\n",
      "Epoch 83/100\n",
      "48252/48252 [==============================] - 2s 43us/step - loss: 0.6111 - categorical_accuracy: 0.8058\n",
      "Epoch 84/100\n",
      "48252/48252 [==============================] - 2s 49us/step - loss: 0.6093 - categorical_accuracy: 0.8072\n",
      "Epoch 85/100\n",
      "48252/48252 [==============================] - 2s 41us/step - loss: 0.6070 - categorical_accuracy: 0.8068\n",
      "Epoch 86/100\n",
      "48252/48252 [==============================] - 2s 39us/step - loss: 0.6064 - categorical_accuracy: 0.8068\n",
      "Epoch 87/100\n",
      "48252/48252 [==============================] - 2s 42us/step - loss: 0.6052 - categorical_accuracy: 0.8080\n",
      "Epoch 88/100\n",
      "48252/48252 [==============================] - 2s 48us/step - loss: 0.6023 - categorical_accuracy: 0.8098\n",
      "Epoch 89/100\n",
      "48252/48252 [==============================] - 2s 39us/step - loss: 0.6017 - categorical_accuracy: 0.8083\n",
      "Epoch 90/100\n",
      "48252/48252 [==============================] - 2s 39us/step - loss: 0.6007 - categorical_accuracy: 0.8090\n",
      "Epoch 91/100\n",
      "48252/48252 [==============================] - 2s 39us/step - loss: 0.5998 - categorical_accuracy: 0.8085\n",
      "Epoch 92/100\n",
      "48252/48252 [==============================] - 2s 39us/step - loss: 0.5981 - categorical_accuracy: 0.8096\n",
      "Epoch 93/100\n",
      "48252/48252 [==============================] - 2s 39us/step - loss: 0.5954 - categorical_accuracy: 0.8106\n",
      "Epoch 94/100\n",
      "48252/48252 [==============================] - 2s 39us/step - loss: 0.5958 - categorical_accuracy: 0.8107\n",
      "Epoch 95/100\n",
      "48252/48252 [==============================] - 2s 39us/step - loss: 0.5922 - categorical_accuracy: 0.8127\n",
      "Epoch 96/100\n",
      "48252/48252 [==============================] - 2s 38us/step - loss: 0.5917 - categorical_accuracy: 0.8122\n",
      "Epoch 97/100\n",
      "48252/48252 [==============================] - 2s 38us/step - loss: 0.5909 - categorical_accuracy: 0.8137\n",
      "Epoch 98/100\n",
      "48252/48252 [==============================] - 2s 39us/step - loss: 0.5896 - categorical_accuracy: 0.8142\n",
      "Epoch 99/100\n",
      "48252/48252 [==============================] - 2s 39us/step - loss: 0.5890 - categorical_accuracy: 0.8138\n",
      "Epoch 100/100\n",
      "48252/48252 [==============================] - 2s 38us/step - loss: 0.5874 - categorical_accuracy: 0.8144\n"
     ]
    },
    {
     "data": {
      "text/plain": [
       "<keras.callbacks.History at 0x7f6519348470>"
      ]
     },
     "execution_count": 44,
     "metadata": {},
     "output_type": "execute_result"
    }
   ],
   "source": [
    "model.compile(optimizer=Adadelta(), loss='categorical_crossentropy', metrics=['categorical_accuracy'])\n",
    "model.fit(x_train, y_train, epochs=100, batch_size=64)"
   ]
  },
  {
   "cell_type": "code",
   "execution_count": 45,
   "metadata": {
    "scrolled": true
   },
   "outputs": [
    {
     "name": "stdout",
     "output_type": "stream",
     "text": [
      "12064/12064 [==============================] - 0s 32us/step\n"
     ]
    },
    {
     "data": {
      "text/plain": [
       "[0.7057113086197041, 0.7721319628647215]"
      ]
     },
     "execution_count": 45,
     "metadata": {},
     "output_type": "execute_result"
    }
   ],
   "source": [
    "model.evaluate(x_test,y_test)"
   ]
  },
  {
   "cell_type": "code",
   "execution_count": 24,
   "metadata": {},
   "outputs": [
    {
     "name": "stdout",
     "output_type": "stream",
     "text": [
      "Requirement already satisfied: seaborn in /usr/local/lib/python3.7/dist-packages (0.9.0)\n",
      "Requirement already satisfied: scipy>=0.14.0 in /usr/local/lib/python3.7/dist-packages (from seaborn) (1.3.0)\n",
      "Requirement already satisfied: pandas>=0.15.2 in /usr/local/lib/python3.7/dist-packages (from seaborn) (0.24.2)\n",
      "Requirement already satisfied: matplotlib>=1.4.3 in /usr/local/lib/python3.7/dist-packages (from seaborn) (3.1.0)\n",
      "Requirement already satisfied: numpy>=1.9.3 in /usr/local/lib/python3.7/dist-packages (from seaborn) (1.16.4)\n",
      "Requirement already satisfied: python-dateutil>=2.5.0 in /usr/local/lib/python3.7/dist-packages (from pandas>=0.15.2->seaborn) (2.8.0)\n",
      "Requirement already satisfied: pytz>=2011k in /usr/local/lib/python3.7/dist-packages (from pandas>=0.15.2->seaborn) (2019.1)\n",
      "Requirement already satisfied: kiwisolver>=1.0.1 in /usr/local/lib/python3.7/dist-packages (from matplotlib>=1.4.3->seaborn) (1.1.0)\n",
      "Requirement already satisfied: cycler>=0.10 in /usr/local/lib/python3.7/dist-packages (from matplotlib>=1.4.3->seaborn) (0.10.0)\n",
      "Requirement already satisfied: pyparsing!=2.0.4,!=2.1.2,!=2.1.6,>=2.0.1 in /usr/local/lib/python3.7/dist-packages (from matplotlib>=1.4.3->seaborn) (2.4.0)\n",
      "Requirement already satisfied: six>=1.5 in /usr/lib/python3/dist-packages (from python-dateutil>=2.5.0->pandas>=0.15.2->seaborn) (1.12.0)\n",
      "Requirement already satisfied: setuptools in /usr/lib/python3/dist-packages (from kiwisolver>=1.0.1->matplotlib>=1.4.3->seaborn) (40.8.0)\n"
     ]
    }
   ],
   "source": [
    "!pip install seaborn"
   ]
  },
  {
   "cell_type": "code",
   "execution_count": 25,
   "metadata": {},
   "outputs": [],
   "source": [
    "import seaborn as sns\n",
    "from sklearn import metrics\n",
    "import matplotlib"
   ]
  },
  {
   "cell_type": "code",
   "execution_count": 26,
   "metadata": {},
   "outputs": [],
   "source": [
    "y_predict= model.predict(x_test)"
   ]
  },
  {
   "cell_type": "code",
   "execution_count": 27,
   "metadata": {},
   "outputs": [],
   "source": [
    "import numpy as np"
   ]
  },
  {
   "cell_type": "code",
   "execution_count": 28,
   "metadata": {},
   "outputs": [
    {
     "ename": "ValueError",
     "evalue": "Shape of passed values is (106, 106), indices imply (2, 2)",
     "output_type": "error",
     "traceback": [
      "\u001b[0;31m---------------------------------------------------------------------------\u001b[0m",
      "\u001b[0;31mValueError\u001b[0m                                Traceback (most recent call last)",
      "\u001b[0;32m/usr/local/lib/python3.7/dist-packages/pandas/core/internals/managers.py\u001b[0m in \u001b[0;36mcreate_block_manager_from_blocks\u001b[0;34m(blocks, axes)\u001b[0m\n\u001b[1;32m   1650\u001b[0m                 blocks = [make_block(values=blocks[0],\n\u001b[0;32m-> 1651\u001b[0;31m                                      placement=slice(0, len(axes[0])))]\n\u001b[0m\u001b[1;32m   1652\u001b[0m \u001b[0;34m\u001b[0m\u001b[0m\n",
      "\u001b[0;32m/usr/local/lib/python3.7/dist-packages/pandas/core/internals/blocks.py\u001b[0m in \u001b[0;36mmake_block\u001b[0;34m(values, placement, klass, ndim, dtype, fastpath)\u001b[0m\n\u001b[1;32m   3094\u001b[0m \u001b[0;34m\u001b[0m\u001b[0m\n\u001b[0;32m-> 3095\u001b[0;31m     \u001b[0;32mreturn\u001b[0m \u001b[0mklass\u001b[0m\u001b[0;34m(\u001b[0m\u001b[0mvalues\u001b[0m\u001b[0;34m,\u001b[0m \u001b[0mndim\u001b[0m\u001b[0;34m=\u001b[0m\u001b[0mndim\u001b[0m\u001b[0;34m,\u001b[0m \u001b[0mplacement\u001b[0m\u001b[0;34m=\u001b[0m\u001b[0mplacement\u001b[0m\u001b[0;34m)\u001b[0m\u001b[0;34m\u001b[0m\u001b[0;34m\u001b[0m\u001b[0m\n\u001b[0m\u001b[1;32m   3096\u001b[0m \u001b[0;34m\u001b[0m\u001b[0m\n",
      "\u001b[0;32m/usr/local/lib/python3.7/dist-packages/pandas/core/internals/blocks.py\u001b[0m in \u001b[0;36m__init__\u001b[0;34m(self, values, placement, ndim)\u001b[0m\n\u001b[1;32m     86\u001b[0m                 \u001b[0;34m'Wrong number of items passed {val}, placement implies '\u001b[0m\u001b[0;34m\u001b[0m\u001b[0;34m\u001b[0m\u001b[0m\n\u001b[0;32m---> 87\u001b[0;31m                 '{mgr}'.format(val=len(self.values), mgr=len(self.mgr_locs)))\n\u001b[0m\u001b[1;32m     88\u001b[0m \u001b[0;34m\u001b[0m\u001b[0m\n",
      "\u001b[0;31mValueError\u001b[0m: Wrong number of items passed 106, placement implies 2",
      "\nDuring handling of the above exception, another exception occurred:\n",
      "\u001b[0;31mValueError\u001b[0m                                Traceback (most recent call last)",
      "\u001b[0;32m<ipython-input-28-bd170e4717be>\u001b[0m in \u001b[0;36m<module>\u001b[0;34m\u001b[0m\n\u001b[1;32m      2\u001b[0m     \u001b[0mdata\u001b[0m\u001b[0;34m=\u001b[0m\u001b[0mmetrics\u001b[0m\u001b[0;34m.\u001b[0m\u001b[0mconfusion_matrix\u001b[0m\u001b[0;34m(\u001b[0m\u001b[0;34m(\u001b[0m\u001b[0my_test\u001b[0m\u001b[0;34m.\u001b[0m\u001b[0mvalues\u001b[0m\u001b[0;34m+\u001b[0m\u001b[0;36m0\u001b[0m\u001b[0;34m)\u001b[0m\u001b[0;34m.\u001b[0m\u001b[0margmax\u001b[0m\u001b[0;34m(\u001b[0m\u001b[0maxis\u001b[0m\u001b[0;34m=\u001b[0m\u001b[0;36m1\u001b[0m\u001b[0;34m)\u001b[0m\u001b[0;34m,\u001b[0m \u001b[0my_predict\u001b[0m\u001b[0;34m.\u001b[0m\u001b[0margmax\u001b[0m\u001b[0;34m(\u001b[0m\u001b[0maxis\u001b[0m\u001b[0;34m=\u001b[0m\u001b[0;36m1\u001b[0m\u001b[0;34m)\u001b[0m\u001b[0;34m)\u001b[0m\u001b[0;34m,\u001b[0m\u001b[0;34m\u001b[0m\u001b[0;34m\u001b[0m\u001b[0m\n\u001b[1;32m      3\u001b[0m     \u001b[0mindex\u001b[0m\u001b[0;34m=\u001b[0m\u001b[0;34m[\u001b[0m\u001b[0;34m'True Normal'\u001b[0m\u001b[0;34m,\u001b[0m \u001b[0;34m'True Bad'\u001b[0m\u001b[0;34m]\u001b[0m\u001b[0;34m,\u001b[0m\u001b[0;34m\u001b[0m\u001b[0;34m\u001b[0m\u001b[0m\n\u001b[0;32m----> 4\u001b[0;31m     \u001b[0mcolumns\u001b[0m\u001b[0;34m=\u001b[0m\u001b[0;34m[\u001b[0m\u001b[0;34m'Predicted Normal'\u001b[0m\u001b[0;34m,\u001b[0m \u001b[0;34m'Predicted Bad'\u001b[0m\u001b[0;34m]\u001b[0m\u001b[0;34m,\u001b[0m\u001b[0;34m\u001b[0m\u001b[0;34m\u001b[0m\u001b[0m\n\u001b[0m\u001b[1;32m      5\u001b[0m )\n\u001b[1;32m      6\u001b[0m \u001b[0;34m\u001b[0m\u001b[0m\n",
      "\u001b[0;32m/usr/local/lib/python3.7/dist-packages/pandas/core/frame.py\u001b[0m in \u001b[0;36m__init__\u001b[0;34m(self, data, index, columns, dtype, copy)\u001b[0m\n\u001b[1;32m    422\u001b[0m             \u001b[0;32melse\u001b[0m\u001b[0;34m:\u001b[0m\u001b[0;34m\u001b[0m\u001b[0;34m\u001b[0m\u001b[0m\n\u001b[1;32m    423\u001b[0m                 mgr = init_ndarray(data, index, columns, dtype=dtype,\n\u001b[0;32m--> 424\u001b[0;31m                                    copy=copy)\n\u001b[0m\u001b[1;32m    425\u001b[0m \u001b[0;34m\u001b[0m\u001b[0m\n\u001b[1;32m    426\u001b[0m         \u001b[0;31m# For data is list-like, or Iterable (will consume into list)\u001b[0m\u001b[0;34m\u001b[0m\u001b[0;34m\u001b[0m\u001b[0;34m\u001b[0m\u001b[0m\n",
      "\u001b[0;32m/usr/local/lib/python3.7/dist-packages/pandas/core/internals/construction.py\u001b[0m in \u001b[0;36minit_ndarray\u001b[0;34m(values, index, columns, dtype, copy)\u001b[0m\n\u001b[1;32m    165\u001b[0m         \u001b[0mvalues\u001b[0m \u001b[0;34m=\u001b[0m \u001b[0mmaybe_infer_to_datetimelike\u001b[0m\u001b[0;34m(\u001b[0m\u001b[0mvalues\u001b[0m\u001b[0;34m)\u001b[0m\u001b[0;34m\u001b[0m\u001b[0;34m\u001b[0m\u001b[0m\n\u001b[1;32m    166\u001b[0m \u001b[0;34m\u001b[0m\u001b[0m\n\u001b[0;32m--> 167\u001b[0;31m     \u001b[0;32mreturn\u001b[0m \u001b[0mcreate_block_manager_from_blocks\u001b[0m\u001b[0;34m(\u001b[0m\u001b[0;34m[\u001b[0m\u001b[0mvalues\u001b[0m\u001b[0;34m]\u001b[0m\u001b[0;34m,\u001b[0m \u001b[0;34m[\u001b[0m\u001b[0mcolumns\u001b[0m\u001b[0;34m,\u001b[0m \u001b[0mindex\u001b[0m\u001b[0;34m]\u001b[0m\u001b[0;34m)\u001b[0m\u001b[0;34m\u001b[0m\u001b[0;34m\u001b[0m\u001b[0m\n\u001b[0m\u001b[1;32m    168\u001b[0m \u001b[0;34m\u001b[0m\u001b[0m\n\u001b[1;32m    169\u001b[0m \u001b[0;34m\u001b[0m\u001b[0m\n",
      "\u001b[0;32m/usr/local/lib/python3.7/dist-packages/pandas/core/internals/managers.py\u001b[0m in \u001b[0;36mcreate_block_manager_from_blocks\u001b[0;34m(blocks, axes)\u001b[0m\n\u001b[1;32m   1658\u001b[0m         \u001b[0mblocks\u001b[0m \u001b[0;34m=\u001b[0m \u001b[0;34m[\u001b[0m\u001b[0mgetattr\u001b[0m\u001b[0;34m(\u001b[0m\u001b[0mb\u001b[0m\u001b[0;34m,\u001b[0m \u001b[0;34m'values'\u001b[0m\u001b[0;34m,\u001b[0m \u001b[0mb\u001b[0m\u001b[0;34m)\u001b[0m \u001b[0;32mfor\u001b[0m \u001b[0mb\u001b[0m \u001b[0;32min\u001b[0m \u001b[0mblocks\u001b[0m\u001b[0;34m]\u001b[0m\u001b[0;34m\u001b[0m\u001b[0;34m\u001b[0m\u001b[0m\n\u001b[1;32m   1659\u001b[0m         \u001b[0mtot_items\u001b[0m \u001b[0;34m=\u001b[0m \u001b[0msum\u001b[0m\u001b[0;34m(\u001b[0m\u001b[0mb\u001b[0m\u001b[0;34m.\u001b[0m\u001b[0mshape\u001b[0m\u001b[0;34m[\u001b[0m\u001b[0;36m0\u001b[0m\u001b[0;34m]\u001b[0m \u001b[0;32mfor\u001b[0m \u001b[0mb\u001b[0m \u001b[0;32min\u001b[0m \u001b[0mblocks\u001b[0m\u001b[0;34m)\u001b[0m\u001b[0;34m\u001b[0m\u001b[0;34m\u001b[0m\u001b[0m\n\u001b[0;32m-> 1660\u001b[0;31m         \u001b[0mconstruction_error\u001b[0m\u001b[0;34m(\u001b[0m\u001b[0mtot_items\u001b[0m\u001b[0;34m,\u001b[0m \u001b[0mblocks\u001b[0m\u001b[0;34m[\u001b[0m\u001b[0;36m0\u001b[0m\u001b[0;34m]\u001b[0m\u001b[0;34m.\u001b[0m\u001b[0mshape\u001b[0m\u001b[0;34m[\u001b[0m\u001b[0;36m1\u001b[0m\u001b[0;34m:\u001b[0m\u001b[0;34m]\u001b[0m\u001b[0;34m,\u001b[0m \u001b[0maxes\u001b[0m\u001b[0;34m,\u001b[0m \u001b[0me\u001b[0m\u001b[0;34m)\u001b[0m\u001b[0;34m\u001b[0m\u001b[0;34m\u001b[0m\u001b[0m\n\u001b[0m\u001b[1;32m   1661\u001b[0m \u001b[0;34m\u001b[0m\u001b[0m\n\u001b[1;32m   1662\u001b[0m \u001b[0;34m\u001b[0m\u001b[0m\n",
      "\u001b[0;32m/usr/local/lib/python3.7/dist-packages/pandas/core/internals/managers.py\u001b[0m in \u001b[0;36mconstruction_error\u001b[0;34m(tot_items, block_shape, axes, e)\u001b[0m\n\u001b[1;32m   1689\u001b[0m         \u001b[0;32mraise\u001b[0m \u001b[0mValueError\u001b[0m\u001b[0;34m(\u001b[0m\u001b[0;34m\"Empty data passed with indices specified.\"\u001b[0m\u001b[0;34m)\u001b[0m\u001b[0;34m\u001b[0m\u001b[0;34m\u001b[0m\u001b[0m\n\u001b[1;32m   1690\u001b[0m     raise ValueError(\"Shape of passed values is {0}, indices imply {1}\".format(\n\u001b[0;32m-> 1691\u001b[0;31m         passed, implied))\n\u001b[0m\u001b[1;32m   1692\u001b[0m \u001b[0;34m\u001b[0m\u001b[0m\n\u001b[1;32m   1693\u001b[0m \u001b[0;34m\u001b[0m\u001b[0m\n",
      "\u001b[0;31mValueError\u001b[0m: Shape of passed values is (106, 106), indices imply (2, 2)"
     ]
    }
   ],
   "source": [
    "confusion_matrix = pd.DataFrame(\n",
    "    data=metrics.confusion_matrix((y_test.values+0).argmax(axis=1), y_predict.argmax(axis=1)), \n",
    "    index=['True Normal', 'True Bad'], \n",
    "    columns=['Predicted Normal', 'Predicted Bad'],\n",
    ")\n",
    "\n",
    "confusion_figure, confusion_axes = matplotlib.pyplot.subplots()\n",
    "confusion_figure.set_size_inches(10, 8)\n",
    "confusion_axes.set_title(\n",
    "    'Confusion matrix showing the frequency of \\n'\n",
    "    'correct and incorrect bug classification predictions.'\n",
    "    '\\n\\n'  # hack to avoid overlap with x-axis labels below\n",
    ")\n",
    "confusion_axes.xaxis.tick_top()  # move x-axis labels to top of matrix\n",
    "_ = sns.heatmap(\n",
    "    confusion_matrix,\n",
    "    annot=True,\n",
    "    fmt=\"d\",\n",
    "    cmap=sns.color_palette(\"Blues\"),\n",
    "    vmin=0,\n",
    "    ax=confusion_axes,\n",
    ")"
   ]
  },
  {
   "cell_type": "code",
   "execution_count": null,
   "metadata": {},
   "outputs": [],
   "source": [
    "confusion_matrices = metrics.multilabel_confusion_matrix(\n",
    "    (y_test+0).values,\n",
    "    np.rint(y_predict)\n",
    ")"
   ]
  },
  {
   "cell_type": "code",
   "execution_count": null,
   "metadata": {},
   "outputs": [],
   "source": [
    "for label, confusion_matrix in zip(y_test.columns, confusion_matrices):\n",
    "\n",
    "    confusion_figure, confusion_axes = matplotlib.pyplot.subplots()\n",
    "    confusion_figure.set_size_inches(2, 1)\n",
    "    confusion_axes.set_title(\n",
    "        label + \n",
    "        '\\n'  # hack to avoid overlap with x-axis labels below\n",
    "    )\n",
    "    confusion_axes.xaxis.tick_top()  # move x-axis labels to top of matrix\n",
    "    _ = sns.heatmap(\n",
    "        confusion_matrix,\n",
    "        annot=True,\n",
    "        fmt=\"d\",\n",
    "        cmap=sns.color_palette(\"Blues\"),\n",
    "        vmin=0,\n",
    "        ax=confusion_axes,\n",
    "    )"
   ]
  },
  {
   "cell_type": "code",
   "execution_count": null,
   "metadata": {},
   "outputs": [],
   "source": [
    "from sklearn.metrics import roc_curve\n",
    "fpr_keras, tpr_keras, thresholds_keras = roc_curve((y_test.values+0).argmax(axis=1)-5, y_predict.argmax(axis=1)-5)"
   ]
  },
  {
   "cell_type": "code",
   "execution_count": 62,
   "metadata": {},
   "outputs": [],
   "source": [
    "from sklearn.metrics import auc\n",
    "import matplotlib.pyplot as plt\n",
    "auc_keras = auc(fpr_keras, tpr_keras)"
   ]
  },
  {
   "cell_type": "code",
   "execution_count": 65,
   "metadata": {},
   "outputs": [
    {
     "data": {
      "image/png": "[encoded data removed]",
      "text/plain": [
       "<Figure size 432x288 with 1 Axes>"
      ]
     },
     "metadata": {
      "needs_background": "light"
     },
     "output_type": "display_data"
    }
   ],
   "source": [
    "plt.plot(fpr_keras, tpr_keras, label='Keras (area = {:.3f})'.format(auc_keras))\n",
    "plt.xlabel('False positive rate')\n",
    "plt.ylabel('True positive rate')\n",
    "plt.title('ROC curve')\n",
    "plt.legend(loc='best')\n",
    "plt.show()"
   ]
  },
  {
   "cell_type": "code",
   "execution_count": 61,
   "metadata": {},
   "outputs": [
    {
     "data": {
      "image/png": "[encoded data removed]",
      "text/plain": [
       "<Figure size 720x576 with 2 Axes>"
      ]
     },
     "metadata": {
      "needs_background": "light"
     },
     "output_type": "display_data"
    }
   ],
   "source": [
    "confusion_matrix = pd.DataFrame(\n",
    "    data=metrics.confusion_matrix((y_test.values+0).argmax(axis=1), y_predict.argmax(axis=1)), \n",
    " \n",
    ")\n",
    "\n",
    "confusion_figure, confusion_axes = matplotlib.pyplot.subplots()\n",
    "confusion_figure.set_size_inches(10, 8)\n",
    "confusion_axes.set_title(\n",
    "    'Confusion matrix showing the frequency of \\n'\n",
    "    'correct and incorrect bug classification predictions.'\n",
    "    '\\n\\n'  # hack to avoid overlap with x-axis labels below\n",
    ")\n",
    "confusion_axes.xaxis.tick_top()  # move x-axis labels to top of matrix\n",
    "_ = sns.heatmap(\n",
    "    confusion_matrix,\n",
    "    annot=True,\n",
    "    fmt=\"d\",\n",
    "    cmap=sns.color_palette(\"Blues\"),\n",
    "    vmin=0,\n",
    "    ax=confusion_axes,\n",
    ")"
   ]
  },
  {
   "cell_type": "code",
   "execution_count": null,
   "metadata": {},
   "outputs": [],
   "source": []
  },
  {
   "cell_type": "code",
   "execution_count": null,
   "metadata": {},
   "outputs": [],
   "source": []
  },
  {
   "cell_type": "code",
   "execution_count": null,
   "metadata": {},
   "outputs": [],
   "source": []
  },
  {
   "cell_type": "code",
   "execution_count": null,
   "metadata": {},
   "outputs": [],
   "source": []
  }
 ],
 "metadata": {
  "kernelspec": {
   "display_name": "Python 3",
   "language": "python",
   "name": "python3"
  },
  "language_info": {
   "codemirror_mode": {
    "name": "ipython",
    "version": 3
   },
   "file_extension": ".py",
   "mimetype": "text/x-python",
   "name": "python",
   "nbconvert_exporter": "python",
   "pygments_lexer": "ipython3",
   "version": "3.7.3"
  },
  "toc": {
   "base_numbering": 1,
   "nav_menu": {},
   "number_sections": true,
   "sideBar": true,
   "skip_h1_title": false,
   "title_cell": "Table of Contents",
   "title_sidebar": "Contents",
   "toc_cell": false,
   "toc_position": {},
   "toc_section_display": true,
   "toc_window_display": false
  }
 },
 "nbformat": 4,
 "nbformat_minor": 2
}
