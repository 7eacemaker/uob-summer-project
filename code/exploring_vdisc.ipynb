{
  "nbformat": 4,
  "nbformat_minor": 0,
  "metadata": {
    "colab": {
      "name": "exploring-vdisc.ipynb",
      "version": "0.3.2",
      "provenance": [],
      "include_colab_link": true
    },
    "kernelspec": {
      "name": "python3",
      "display_name": "Python 3"
    }
  },
  "cells": [
    {
      "cell_type": "markdown",
      "metadata": {
        "id": "view-in-github",
        "colab_type": "text"
      },
      "source": [
        "<a href=\"https://colab.research.google.com/github/dj311/uob-summer-project/blob/master/code/exploring_vdisc.ipynb\" target=\"_parent\"><img src=\"https://colab.research.google.com/assets/colab-badge.svg\" alt=\"Open In Colab\"/></a>"
      ]
    },
    {
      "cell_type": "markdown",
      "metadata": {
        "id": "f1m0Wv1hHvVC",
        "colab_type": "text"
      },
      "source": [
        "# Exploring VDISC"
      ]
    },
    {
      "cell_type": "code",
      "metadata": {
        "id": "0EYtqL6XHvHr",
        "colab_type": "code",
        "colab": {
          "base_uri": "https://localhost:8080/",
          "height": 69
        },
        "outputId": "1e023eb4-0e50-43ea-ea91-624a4350cd33"
      },
      "source": [
        "!pip install h5py"
      ],
      "execution_count": 1,
      "outputs": [
        {
          "output_type": "stream",
          "text": [
            "Requirement already satisfied: h5py in /usr/local/lib/python3.6/dist-packages (2.8.0)\n",
            "Requirement already satisfied: six in /usr/local/lib/python3.6/dist-packages (from h5py) (1.12.0)\n",
            "Requirement already satisfied: numpy>=1.7 in /usr/local/lib/python3.6/dist-packages (from h5py) (1.16.4)\n"
          ],
          "name": "stdout"
        }
      ]
    },
    {
      "cell_type": "code",
      "metadata": {
        "id": "5U9gYvxzHk6c",
        "colab_type": "code",
        "colab": {
          "base_uri": "https://localhost:8080/",
          "height": 34
        },
        "outputId": "a82b6169-e874-45c3-bb4c-180f0952c173"
      },
      "source": [
        "!git clone https://github.com/dj311/uob-summer-project.git"
      ],
      "execution_count": 2,
      "outputs": [
        {
          "output_type": "stream",
          "text": [
            "fatal: destination path 'uob-summer-project' already exists and is not an empty directory.\n"
          ],
          "name": "stdout"
        }
      ]
    },
    {
      "cell_type": "code",
      "metadata": {
        "id": "Poum9CVDH2fJ",
        "colab_type": "code",
        "colab": {
          "base_uri": "https://localhost:8080/",
          "height": 312
        },
        "outputId": "c3057176-965c-4fef-9a1c-06e7b04f4483"
      },
      "source": [
        "!wget --output-document=uob-summer-project/data/vdisc_test.hdf5 https://osf.io/f9t6z/download\n",
        "#MD5 should be f12f4741e27f3f8f8863a26091c07307\n",
        "!md5sum uob-summer-project/data/vdisc_test.hdf5"
      ],
      "execution_count": 3,
      "outputs": [
        {
          "output_type": "stream",
          "text": [
            "--2019-06-10 12:38:05--  https://osf.io/f9t6z/download\n",
            "Resolving osf.io (osf.io)... 35.190.84.173\n",
            "Connecting to osf.io (osf.io)|35.190.84.173|:443... connected.\n",
            "HTTP request sent, awaiting response... 302 FOUND\n",
            "Location: https://files.osf.io/v1/resources/d45bw/providers/osfstorage/5bf34e965603840019b1bdd2?action=download&version=1&direct [following]\n",
            "--2019-06-10 12:38:05--  https://files.osf.io/v1/resources/d45bw/providers/osfstorage/5bf34e965603840019b1bdd2?action=download&version=1&direct\n",
            "Resolving files.osf.io (files.osf.io)... 35.186.214.196\n",
            "Connecting to files.osf.io (files.osf.io)|35.186.214.196|:443... connected.\n",
            "HTTP request sent, awaiting response... 200 OK\n",
            "Length: 107870135 (103M) [application/octet-stream]\n",
            "Saving to: ‘uob-summer-project/data/vdisc_test.hdf5’\n",
            "\n",
            "uob-summer-project/ 100%[===================>] 102.87M  43.8MB/s    in 2.3s    \n",
            "\n",
            "2019-06-10 12:38:08 (43.8 MB/s) - ‘uob-summer-project/data/vdisc_test.hdf5’ saved [107870135/107870135]\n",
            "\n",
            "f12f4741e27f3f8f8863a26091c07307  uob-summer-project/data/vdisc_test.hdf5\n"
          ],
          "name": "stdout"
        }
      ]
    },
    {
      "cell_type": "code",
      "metadata": {
        "id": "ZUrpLAuyIERa",
        "colab_type": "code",
        "colab": {}
      },
      "source": [
        "import h5py\n",
        "import pandas as pd"
      ],
      "execution_count": 0,
      "outputs": []
    },
    {
      "cell_type": "code",
      "metadata": {
        "id": "TiKFBMbrIJZY",
        "colab_type": "code",
        "colab": {}
      },
      "source": [
        "vdisc_test_file = h5py.File('uob-summer-project/data/vdisc_test.hdf5')"
      ],
      "execution_count": 0,
      "outputs": []
    },
    {
      "cell_type": "code",
      "metadata": {
        "id": "U8XeIlY6ZVTu",
        "colab_type": "code",
        "colab": {
          "base_uri": "https://localhost:8080/",
          "height": 34
        },
        "outputId": "cf1abe51-5ebe-4e59-cd36-339c2420237e"
      },
      "source": [
        "list(vdisc_test_file.keys())"
      ],
      "execution_count": 7,
      "outputs": [
        {
          "output_type": "execute_result",
          "data": {
            "text/plain": [
              "['CWE-119', 'CWE-120', 'CWE-469', 'CWE-476', 'CWE-other', 'functionSource']"
            ]
          },
          "metadata": {
            "tags": []
          },
          "execution_count": 7
        }
      ]
    },
    {
      "cell_type": "code",
      "metadata": {
        "id": "rzJ5C_71ZWwE",
        "colab_type": "code",
        "colab": {
          "base_uri": "https://localhost:8080/",
          "height": 1233
        },
        "outputId": "c0071d01-313b-451e-fc05-7892049f486c"
      },
      "source": [
        "dir(vdisc_test_file['CWE-119'])"
      ],
      "execution_count": 11,
      "outputs": [
        {
          "output_type": "execute_result",
          "data": {
            "text/plain": [
              "['__array__',\n",
              " '__bool__',\n",
              " '__class__',\n",
              " '__delattr__',\n",
              " '__dict__',\n",
              " '__dir__',\n",
              " '__doc__',\n",
              " '__eq__',\n",
              " '__format__',\n",
              " '__ge__',\n",
              " '__getattribute__',\n",
              " '__getitem__',\n",
              " '__gt__',\n",
              " '__hash__',\n",
              " '__init__',\n",
              " '__init_subclass__',\n",
              " '__iter__',\n",
              " '__le__',\n",
              " '__len__',\n",
              " '__lt__',\n",
              " '__module__',\n",
              " '__ne__',\n",
              " '__new__',\n",
              " '__nonzero__',\n",
              " '__reduce__',\n",
              " '__reduce_ex__',\n",
              " '__repr__',\n",
              " '__setattr__',\n",
              " '__setitem__',\n",
              " '__sizeof__',\n",
              " '__str__',\n",
              " '__subclasshook__',\n",
              " '__weakref__',\n",
              " '_d',\n",
              " '_dcpl',\n",
              " '_dxpl',\n",
              " '_e',\n",
              " '_filters',\n",
              " '_id',\n",
              " '_lapl',\n",
              " '_lcpl',\n",
              " '_local',\n",
              " 'astype',\n",
              " 'attrs',\n",
              " 'chunks',\n",
              " 'compression',\n",
              " 'compression_opts',\n",
              " 'dims',\n",
              " 'dtype',\n",
              " 'file',\n",
              " 'fillvalue',\n",
              " 'fletcher32',\n",
              " 'flush',\n",
              " 'id',\n",
              " 'len',\n",
              " 'maxshape',\n",
              " 'name',\n",
              " 'ndim',\n",
              " 'parent',\n",
              " 'read_direct',\n",
              " 'ref',\n",
              " 'refresh',\n",
              " 'regionref',\n",
              " 'resize',\n",
              " 'scaleoffset',\n",
              " 'shape',\n",
              " 'shuffle',\n",
              " 'size',\n",
              " 'value',\n",
              " 'write_direct']"
            ]
          },
          "metadata": {
            "tags": []
          },
          "execution_count": 11
        }
      ]
    }
  ]
}