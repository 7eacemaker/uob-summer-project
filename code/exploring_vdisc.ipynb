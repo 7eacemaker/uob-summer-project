{
  "nbformat": 4,
  "nbformat_minor": 0,
  "metadata": {
    "colab": {
      "name": "Untitled",
      "version": "0.3.2",
      "provenance": [],
      "collapsed_sections": [],
      "include_colab_link": true
    },
    "kernelspec": {
      "name": "python3",
      "display_name": "Python 3"
    }
  },
  "cells": [
    {
      "cell_type": "markdown",
      "metadata": {
        "id": "view-in-github",
        "colab_type": "text"
      },
      "source": [
        "<a href=\"https://colab.research.google.com/github/dj311/uob-summer-project/blob/master/code/exploring_vdisc.ipynb\" target=\"_parent\"><img src=\"https://colab.research.google.com/assets/colab-badge.svg\" alt=\"Open In Colab\"/></a>"
      ]
    },
    {
      "cell_type": "markdown",
      "metadata": {
        "id": "f1m0Wv1hHvVC",
        "colab_type": "text"
      },
      "source": [
        "# Exploring VDISC"
      ]
    },
    {
      "cell_type": "code",
      "metadata": {
        "id": "0EYtqL6XHvHr",
        "colab_type": "code",
        "outputId": "1e023eb4-0e50-43ea-ea91-624a4350cd33",
        "colab": {
          "base_uri": "https://localhost:8080/",
          "height": 69
        }
      },
      "source": [
        "!pip install h5py"
      ],
      "execution_count": 0,
      "outputs": [
        {
          "output_type": "stream",
          "text": [
            "Requirement already satisfied: h5py in /usr/local/lib/python3.6/dist-packages (2.8.0)\n",
            "Requirement already satisfied: six in /usr/local/lib/python3.6/dist-packages (from h5py) (1.12.0)\n",
            "Requirement already satisfied: numpy>=1.7 in /usr/local/lib/python3.6/dist-packages (from h5py) (1.16.4)\n"
          ],
          "name": "stdout"
        }
      ]
    },
    {
      "cell_type": "code",
      "metadata": {
        "id": "5U9gYvxzHk6c",
        "colab_type": "code",
        "outputId": "a82b6169-e874-45c3-bb4c-180f0952c173",
        "colab": {
          "base_uri": "https://localhost:8080/",
          "height": 34
        }
      },
      "source": [
        "!git clone https://github.com/dj311/uob-summer-project.git"
      ],
      "execution_count": 0,
      "outputs": [
        {
          "output_type": "stream",
          "text": [
            "fatal: destination path 'uob-summer-project' already exists and is not an empty directory.\n"
          ],
          "name": "stdout"
        }
      ]
    },
    {
      "cell_type": "code",
      "metadata": {
        "id": "Poum9CVDH2fJ",
        "colab_type": "code",
        "outputId": "c3057176-965c-4fef-9a1c-06e7b04f4483",
        "colab": {
          "base_uri": "https://localhost:8080/",
          "height": 312
        }
      },
      "source": [
        "!wget --output-document=uob-summer-project/data/vdisc_test.hdf5 https://osf.io/f9t6z/download\n",
        "#MD5 should be f12f4741e27f3f8f8863a26091c07307\n",
        "!md5sum uob-summer-project/data/vdisc_test.hdf5"
      ],
      "execution_count": 0,
      "outputs": [
        {
          "output_type": "stream",
          "text": [
            "--2019-06-10 12:38:05--  https://osf.io/f9t6z/download\n",
            "Resolving osf.io (osf.io)... 35.190.84.173\n",
            "Connecting to osf.io (osf.io)|35.190.84.173|:443... connected.\n",
            "HTTP request sent, awaiting response... 302 FOUND\n",
            "Location: https://files.osf.io/v1/resources/d45bw/providers/osfstorage/5bf34e965603840019b1bdd2?action=download&version=1&direct [following]\n",
            "--2019-06-10 12:38:05--  https://files.osf.io/v1/resources/d45bw/providers/osfstorage/5bf34e965603840019b1bdd2?action=download&version=1&direct\n",
            "Resolving files.osf.io (files.osf.io)... 35.186.214.196\n",
            "Connecting to files.osf.io (files.osf.io)|35.186.214.196|:443... connected.\n",
            "HTTP request sent, awaiting response... 200 OK\n",
            "Length: 107870135 (103M) [application/octet-stream]\n",
            "Saving to: ‘uob-summer-project/data/vdisc_test.hdf5’\n",
            "\n",
            "uob-summer-project/ 100%[===================>] 102.87M  43.8MB/s    in 2.3s    \n",
            "\n",
            "2019-06-10 12:38:08 (43.8 MB/s) - ‘uob-summer-project/data/vdisc_test.hdf5’ saved [107870135/107870135]\n",
            "\n",
            "f12f4741e27f3f8f8863a26091c07307  uob-summer-project/data/vdisc_test.hdf5\n"
          ],
          "name": "stdout"
        }
      ]
    },
    {
      "cell_type": "code",
      "metadata": {
        "id": "ZUrpLAuyIERa",
        "colab_type": "code",
        "colab": {}
      },
      "source": [
        "import h5py\n",
        "import pandas as pd"
      ],
      "execution_count": 0,
      "outputs": []
    },
    {
      "cell_type": "code",
      "metadata": {
        "id": "TiKFBMbrIJZY",
        "colab_type": "code",
        "colab": {}
      },
      "source": [
        "vdisc_test_file = h5py.File('uob-summer-project/data/vdisc_test.hdf5')"
      ],
      "execution_count": 0,
      "outputs": []
    },
    {
      "cell_type": "code",
      "metadata": {
        "id": "U8XeIlY6ZVTu",
        "colab_type": "code",
        "outputId": "29e5f54d-9892-4d5d-93d8-0d73693a217f",
        "colab": {
          "base_uri": "https://localhost:8080/",
          "height": 34
        }
      },
      "source": [
        "vdisc_test_file['functionSource'].size"
      ],
      "execution_count": 37,
      "outputs": [
        {
          "output_type": "execute_result",
          "data": {
            "text/plain": [
              "127419"
            ]
          },
          "metadata": {
            "tags": []
          },
          "execution_count": 37
        }
      ]
    },
    {
      "cell_type": "code",
      "metadata": {
        "id": "rzJ5C_71ZWwE",
        "colab_type": "code",
        "colab": {}
      },
      "source": [
        "vdisc = pd.DataFrame(\n",
        "    columns=['testcase_ID', 'filename', 'code', 'flaw', 'flaw_loc']\n",
        ")\n",
        "\n",
        "length = vdisc_test_file['functionSource'].size\n",
        "\n",
        "for index in range(length):\n",
        "    testcase_ID = \"vdisc_testcase_{}\".format(index)\n",
        "    code = vdisc_test_file['functionSource'][index]\n",
        "        \n",
        "    cwe_119 = vdisc_test_file['CWE-119'][index]\n",
        "    cwe_120 = vdisc_test_file['CWE-120'][index]\n",
        "    cwe_469 = vdisc_test_file['CWE-469'][index]\n",
        "    cwe_476 = vdisc_test_file['CWE-476'][index]\n",
        "    cwe_other = vdisc_test_file['CWE-other'][index]\n",
        "    \n",
        "    if cwe_119:\n",
        "        flaw = \"CWE-119\"\n",
        "    elif cwe_120:\n",
        "        flaw = \"CWE-120\"\n",
        "    elif cwe_469:\n",
        "        flaw = \"CWE-469\"\n",
        "    elif cwe_476:\n",
        "        flaw = \"CWE-476\"\n",
        "    elif cwe_other:\n",
        "        flaw = \"CWE-UNKNOWN\"\n",
        "    else:\n",
        "        flaw = None\n",
        "        \n",
        "    vdisc = vdisc.append({\n",
        "        \"testcase_ID\": testcase_ID,\n",
        "        \"filename\": None,\n",
        "        \"code\": code,\n",
        "        \"flaw\": flaw,\n",
        "        \"flaw_loc\": None,\n",
        "     }, ignore_index=True)\n",
        "       \n",
        "        \n",
        "vdisc"
      ],
      "execution_count": 0,
      "outputs": []
    },
    {
      "cell_type": "code",
      "metadata": {
        "id": "2rQPYo7_cHHX",
        "colab_type": "code",
        "outputId": "19c18fdf-8bf0-4612-cd17-951e6f2bfbb9",
        "colab": {
          "base_uri": "https://localhost:8080/",
          "height": 1337
        }
      },
      "source": [
        "print(vdisc_test_file['functionSource'][0])"
      ],
      "execution_count": 0,
      "outputs": [
        {
          "output_type": "stream",
          "text": [
            "default_event_handler( \n",
            "    GuiWidget *widget, GuiEvent *event )\n",
            "{\n",
            "    char *ptr;\n",
            "    int px, py, i;\n",
            "    switch ( event->type ) {\n",
            "        case GUI_DESTROY:\n",
            "            if ( widget->spec.edit.buffer )\n",
            "                free( widget->spec.edit.buffer );\n",
            "            if ( widget->spec.edit.display_buffer )\n",
            "                free( widget->spec.edit.display_buffer );\n",
            "            break;\n",
            "        case GUI_DRAW:\n",
            "            /* display surface */\n",
            "            stk_surface_blit( \n",
            "                widget->surface, 0, 0, -1, -1, \n",
            "                stk_display, \n",
            "                widget->screen_region.x,\n",
            "                widget->screen_region.y );\n",
            "            /* add text */\n",
            "            gui_theme->edit_font->align = STK_FONT_ALIGN_LEFT;\n",
            "            ptr = widget->spec.edit.display_buffer;\n",
            "            px = widget->screen_region.x + widget->border;\n",
            "            py = widget->screen_region.y + widget->border + \n",
            "                 widget->spec.edit.y_offset;\n",
            "            for ( i = 0; i < widget->spec.edit.height; \n",
            "                  i++, py += gui_theme->edit_font->height,\n",
            "                  ptr += widget->spec.edit.width + 1 )\n",
            "                stk_font_write( gui_theme->edit_font,\n",
            "                    stk_display, px, py, -1, ptr );\n",
            "            /* add cursor */\n",
            "            if ( widget == gui_key_widget || widget->focused )\n",
            "            if ( gui_edit_blink )\n",
            "                stk_surface_fill( stk_display, \n",
            "                    px + widget->spec.edit.x * \n",
            "                    gui_theme->edit_font->width,\n",
            "                    widget->screen_region.y + \n",
            "                    widget->border + widget->spec.edit.y_offset + \n",
            "                    widget->spec.edit.y * \n",
            "                    gui_theme->edit_font->height,\n",
            "                    1, gui_theme->edit_font->height,\n",
            "                    0xffffff );\n",
            "            break;\n",
            "        case GUI_KEY_PRESSED:\n",
            "            if ( gui_edit_keysym != event->key.keysym ) {\n",
            "                gui_edit_delay = 250;\n",
            "                gui_edit_handle_key( widget, \n",
            "                    event->key.keysym,\n",
            "                    event->key.unicode );\n",
            "                //stk_sound_play( gui_theme->type_sound );\n",
            "            }\n",
            "            break;\n",
            "        case GUI_KEY_RELEASED:\n",
            "            gui_edit_keysym = -1;\n",
            "            break;\n",
            "        case GUI_FOCUS_OUT:\n",
            "            gui_edit_blink = 0;\n",
            "            gui_widget_draw( widget );\n",
            "            break;\n",
            "        case GUI_CLICKED:\n",
            "            stk_sound_play( gui_theme->click_sound );\n",
            "            px = event->button.x - widget->screen_region.x - \n",
            "                widget->border;\n",
            "            py = event->button.y - widget->screen_region.y -\n",
            "                widget->border - widget->spec.edit.y_offset;\n",
            "            gui_edit_adjust_cursor( widget, \n",
            "                (py / gui_theme->edit_font->height) * \n",
            "                widget->spec.edit.width + \n",
            "                (px / gui_theme->edit_font->width) + \n",
            "                widget->spec.edit.start - widget->spec.edit.pos + 1 );\n",
            "            gui_edit_blink = 1;\n",
            "            gui_edit_blink_time = 0;\n",
            "            gui_widget_draw( widget );\n",
            "            break;\n",
            "    }\n",
            "}\n"
          ],
          "name": "stdout"
        }
      ]
    }
  ]
}