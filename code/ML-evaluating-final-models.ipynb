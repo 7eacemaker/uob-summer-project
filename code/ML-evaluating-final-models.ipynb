{
  "nbformat": 4,
  "nbformat_minor": 0,
  "metadata": {
    "kernelspec": {
      "display_name": "Python 3",
      "language": "python",
      "name": "python3"
    },
    "language_info": {
      "codemirror_mode": {
        "name": "ipython",
        "version": 3
      },
      "file_extension": ".py",
      "mimetype": "text/x-python",
      "name": "python",
      "nbconvert_exporter": "python",
      "pygments_lexer": "ipython3",
      "version": "3.6.8"
    },
    "colab": {
      "name": "ML-evaluating-final-models.ipynb",
      "version": "0.3.2",
      "provenance": []
    }
  },
  "cells": [
    {
      "cell_type": "markdown",
      "metadata": {
        "id": "KAIxgm30Ci5H",
        "colab_type": "text"
      },
      "source": [
        "# Evaluation"
      ]
    },
    {
      "cell_type": "markdown",
      "metadata": {
        "id": "SYI2SN8QCsQ7",
        "colab_type": "text"
      },
      "source": [
        "### Colab Setup"
      ]
    },
    {
      "cell_type": "code",
      "metadata": {
        "id": "DfCk3CVTCrGu",
        "colab_type": "code",
        "colab": {
          "base_uri": "https://localhost:8080/",
          "height": 1000
        },
        "outputId": "0f636d72-a955-4145-b851-d926031729c3"
      },
      "source": [
        "! mkdir -p /project/data && cd /project/data && wget -O stack-model.pkl https://github.com/dj311/uob-summer-project/raw/master/data/stack-model.pkl\n",
        "! mkdir -p /project/data && cd /project/data && wget -O dense-model-binary https://github.com/dj311/uob-summer-project/raw/master/data/dense-model-binary\n",
        "! mkdir -p /project/data && cd /project/data && wget -O binary-convolutional https://github.com/dj311/uob-summer-project/raw/master/data/binary-convolutional\n",
        "! mkdir -p /project/data && cd /project/data && wget -O adjacency-matrix-model-binary.pickle https://github.com/dj311/uob-summer-project/raw/master/data/adjacency-matrix-model-binary.pickle\n",
        "! mkdir -p /project/data && cd /project/data && wget -O adjacency-matrix-model-random-padding.pickle https://github.com/dj311/uob-summer-project/raw/master/data/adjacency-matrix-model-random-padding.pickle\n",
        "! mkdir -p /project/data && cd /project/data && wget -O adjacency-feature-matrix-model-binary.pickle https://github.com/dj311/uob-summer-project/raw/master/data/adjacency-feature-matrix-model-binary.pickle\n",
        "! mkdir -p /project/data && cd /project/data && wget -O adjacency-feature-matrix-random-padding-model-binary.pickle https://github.com/dj311/uob-summer-project/raw/master/data/adjacency-feature-matrix-random-padding-model-binary.pickle\n",
        "\n",
        "! mkdir -p /project/data && cd /project/data && wget -O dense-graph2vec-y-test https://github.com/dj311/uob-summer-project/raw/master/data/dense-graph2vec-y-test\n",
        "! mkdir -p /project/data && cd /project/data && wget -O dense-graph2vec-y-predict https://github.com/dj311/uob-summer-project/raw/master/data/dense-graph2vec-y-predict\n",
        "! mkdir -p /project/data && cd /project/data && wget -O cnn-graph2vec-y-test https://github.com/dj311/uob-summer-project/raw/master/data/cnn-graph2vec-y-test\n",
        "! mkdir -p /project/data && cd /project/data && wget -O cnn-graph2vec-y-predict https://github.com/dj311/uob-summer-project/raw/master/data/cnn-graph2vec-y-predict\n",
        "! mkdir -p /project/data && cd /project/data && wget -O stack-model-y-test https://github.com/dj311/uob-summer-project/raw/master/data/stack-model-y-test\n",
        "! mkdir -p /project/data && cd /project/data && wget -O stack-model-y-predict https://github.com/dj311/uob-summer-project/raw/master/data/stack-model-y-predict\n",
        "! mkdir -p /project/data && cd /project/data && wget -O cnn-adj-y-test https://github.com/dj311/uob-summer-project/raw/master/data/cnn-adj-y-test\n",
        "! mkdir -p /project/data && cd /project/data && wget -O cnn-adj-y-predict https://github.com/dj311/uob-summer-project/raw/master/data/cnn-adj-y-predict\n",
        "\n"
      ],
      "execution_count": 1,
      "outputs": [
        {
          "output_type": "stream",
          "text": [
            "--2019-08-23 10:10:27--  https://github.com/dj311/uob-summer-project/raw/master/data/stack-model.pkl\n",
            "Resolving github.com (github.com)... 192.30.255.113\n",
            "Connecting to github.com (github.com)|192.30.255.113|:443... connected.\n",
            "HTTP request sent, awaiting response... 302 Found\n",
            "Location: https://media.githubusercontent.com/media/dj311/uob-summer-project/master/data/stack-model.pkl [following]\n",
            "--2019-08-23 10:10:33--  https://media.githubusercontent.com/media/dj311/uob-summer-project/master/data/stack-model.pkl\n",
            "Resolving media.githubusercontent.com (media.githubusercontent.com)... 151.101.0.133, 151.101.64.133, 151.101.128.133, ...\n",
            "Connecting to media.githubusercontent.com (media.githubusercontent.com)|151.101.0.133|:443... connected.\n",
            "HTTP request sent, awaiting response... 200 OK\n",
            "Length: 118952 (116K) [application/octet-stream]\n",
            "Saving to: ‘stack-model.pkl’\n",
            "\n",
            "stack-model.pkl     100%[===================>] 116.16K  --.-KB/s    in 0.02s   \n",
            "\n",
            "2019-08-23 10:10:33 (5.26 MB/s) - ‘stack-model.pkl’ saved [118952/118952]\n",
            "\n",
            "--2019-08-23 10:10:35--  https://github.com/dj311/uob-summer-project/raw/master/data/dense-model-binary\n",
            "Resolving github.com (github.com)... 192.30.255.113\n",
            "Connecting to github.com (github.com)|192.30.255.113|:443... connected.\n",
            "HTTP request sent, awaiting response... 302 Found\n",
            "Location: https://media.githubusercontent.com/media/dj311/uob-summer-project/master/data/dense-model-binary [following]\n",
            "--2019-08-23 10:10:36--  https://media.githubusercontent.com/media/dj311/uob-summer-project/master/data/dense-model-binary\n",
            "Resolving media.githubusercontent.com (media.githubusercontent.com)... 151.101.0.133, 151.101.64.133, 151.101.128.133, ...\n",
            "Connecting to media.githubusercontent.com (media.githubusercontent.com)|151.101.0.133|:443... connected.\n",
            "HTTP request sent, awaiting response... 200 OK\n",
            "Length: 136274 (133K) [application/octet-stream]\n",
            "Saving to: ‘dense-model-binary’\n",
            "\n",
            "dense-model-binary  100%[===================>] 133.08K  --.-KB/s    in 0.02s   \n",
            "\n",
            "2019-08-23 10:10:36 (5.92 MB/s) - ‘dense-model-binary’ saved [136274/136274]\n",
            "\n",
            "--2019-08-23 10:10:39--  https://github.com/dj311/uob-summer-project/raw/master/data/binary-convolutional\n",
            "Resolving github.com (github.com)... 192.30.255.113\n",
            "Connecting to github.com (github.com)|192.30.255.113|:443... connected.\n",
            "HTTP request sent, awaiting response... 302 Found\n",
            "Location: https://media.githubusercontent.com/media/dj311/uob-summer-project/master/data/binary-convolutional [following]\n",
            "--2019-08-23 10:10:39--  https://media.githubusercontent.com/media/dj311/uob-summer-project/master/data/binary-convolutional\n",
            "Resolving media.githubusercontent.com (media.githubusercontent.com)... 151.101.0.133, 151.101.64.133, 151.101.128.133, ...\n",
            "Connecting to media.githubusercontent.com (media.githubusercontent.com)|151.101.0.133|:443... connected.\n",
            "HTTP request sent, awaiting response... 200 OK\n",
            "Length: 608208 (594K) [application/octet-stream]\n",
            "Saving to: ‘binary-convolutional’\n",
            "\n",
            "binary-convolutiona 100%[===================>] 593.95K  --.-KB/s    in 0.04s   \n",
            "\n",
            "2019-08-23 10:10:40 (16.1 MB/s) - ‘binary-convolutional’ saved [608208/608208]\n",
            "\n",
            "--2019-08-23 10:10:42--  https://github.com/dj311/uob-summer-project/raw/master/data/adjacency-matrix-model-binary.pickle\n",
            "Resolving github.com (github.com)... 192.30.255.113\n",
            "Connecting to github.com (github.com)|192.30.255.113|:443... connected.\n",
            "HTTP request sent, awaiting response... 302 Found\n",
            "Location: https://media.githubusercontent.com/media/dj311/uob-summer-project/master/data/adjacency-matrix-model-binary.pickle [following]\n",
            "--2019-08-23 10:10:42--  https://media.githubusercontent.com/media/dj311/uob-summer-project/master/data/adjacency-matrix-model-binary.pickle\n",
            "Resolving media.githubusercontent.com (media.githubusercontent.com)... 151.101.0.133, 151.101.64.133, 151.101.128.133, ...\n",
            "Connecting to media.githubusercontent.com (media.githubusercontent.com)|151.101.0.133|:443... connected.\n",
            "HTTP request sent, awaiting response... 200 OK\n",
            "Length: 71124065 (68M) [application/octet-stream]\n",
            "Saving to: ‘adjacency-matrix-model-binary.pickle’\n",
            "\n",
            "adjacency-matrix-mo 100%[===================>]  67.83M   232MB/s    in 0.3s    \n",
            "\n",
            "2019-08-23 10:10:44 (232 MB/s) - ‘adjacency-matrix-model-binary.pickle’ saved [71124065/71124065]\n",
            "\n",
            "--2019-08-23 10:10:46--  https://github.com/dj311/uob-summer-project/raw/master/data/adjacency-matrix-model-random-padding.pickle\n",
            "Resolving github.com (github.com)... 192.30.255.113\n",
            "Connecting to github.com (github.com)|192.30.255.113|:443... connected.\n",
            "HTTP request sent, awaiting response... 302 Found\n",
            "Location: https://media.githubusercontent.com/media/dj311/uob-summer-project/master/data/adjacency-matrix-model-random-padding.pickle [following]\n",
            "--2019-08-23 10:10:47--  https://media.githubusercontent.com/media/dj311/uob-summer-project/master/data/adjacency-matrix-model-random-padding.pickle\n",
            "Resolving media.githubusercontent.com (media.githubusercontent.com)... 151.101.0.133, 151.101.64.133, 151.101.128.133, ...\n",
            "Connecting to media.githubusercontent.com (media.githubusercontent.com)|151.101.0.133|:443... connected.\n",
            "HTTP request sent, awaiting response... 200 OK\n",
            "Length: 71124407 (68M) [application/octet-stream]\n",
            "Saving to: ‘adjacency-matrix-model-random-padding.pickle’\n",
            "\n",
            "adjacency-matrix-mo 100%[===================>]  67.83M   204MB/s    in 0.3s    \n",
            "\n",
            "2019-08-23 10:10:49 (204 MB/s) - ‘adjacency-matrix-model-random-padding.pickle’ saved [71124407/71124407]\n",
            "\n",
            "--2019-08-23 10:10:50--  https://github.com/dj311/uob-summer-project/raw/master/data/adjacency-feature-matrix-model-binary.pickle\n",
            "Resolving github.com (github.com)... 192.30.255.113\n",
            "Connecting to github.com (github.com)|192.30.255.113|:443... connected.\n",
            "HTTP request sent, awaiting response... 302 Found\n",
            "Location: https://media.githubusercontent.com/media/dj311/uob-summer-project/master/data/adjacency-feature-matrix-model-binary.pickle [following]\n",
            "--2019-08-23 10:10:50--  https://media.githubusercontent.com/media/dj311/uob-summer-project/master/data/adjacency-feature-matrix-model-binary.pickle\n",
            "Resolving media.githubusercontent.com (media.githubusercontent.com)... 151.101.0.133, 151.101.64.133, 151.101.128.133, ...\n",
            "Connecting to media.githubusercontent.com (media.githubusercontent.com)|151.101.0.133|:443... connected.\n",
            "HTTP request sent, awaiting response... 200 OK\n",
            "Length: 323108598 (308M) [application/octet-stream]\n",
            "Saving to: ‘adjacency-feature-matrix-model-binary.pickle’\n",
            "\n",
            "adjacency-feature-m 100%[===================>] 308.14M   222MB/s    in 1.4s    \n",
            "\n",
            "2019-08-23 10:10:58 (222 MB/s) - ‘adjacency-feature-matrix-model-binary.pickle’ saved [323108598/323108598]\n",
            "\n",
            "--2019-08-23 10:10:58--  https://github.com/dj311/uob-summer-project/raw/master/data/adjacency-feature-matrix-random-padding-model-binary.pickle\n",
            "Resolving github.com (github.com)... 192.30.255.113\n",
            "Connecting to github.com (github.com)|192.30.255.113|:443... connected.\n",
            "HTTP request sent, awaiting response... 302 Found\n",
            "Location: https://media.githubusercontent.com/media/dj311/uob-summer-project/master/data/adjacency-feature-matrix-random-padding-model-binary.pickle [following]\n",
            "--2019-08-23 10:10:59--  https://media.githubusercontent.com/media/dj311/uob-summer-project/master/data/adjacency-feature-matrix-random-padding-model-binary.pickle\n",
            "Resolving media.githubusercontent.com (media.githubusercontent.com)... 151.101.0.133, 151.101.64.133, 151.101.128.133, ...\n",
            "Connecting to media.githubusercontent.com (media.githubusercontent.com)|151.101.0.133|:443... connected.\n",
            "HTTP request sent, awaiting response... 200 OK\n",
            "Length: 323108598 (308M) [application/octet-stream]\n",
            "Saving to: ‘adjacency-feature-matrix-random-padding-model-binary.pickle’\n",
            "\n",
            "adjacency-feature-m 100%[===================>] 308.14M   225MB/s    in 1.4s    \n",
            "\n",
            "2019-08-23 10:11:06 (225 MB/s) - ‘adjacency-feature-matrix-random-padding-model-binary.pickle’ saved [323108598/323108598]\n",
            "\n",
            "--2019-08-23 10:11:07--  https://github.com/dj311/uob-summer-project/raw/master/data/dense-graph2vec-y-test\n",
            "Resolving github.com (github.com)... 192.30.253.113\n",
            "Connecting to github.com (github.com)|192.30.253.113|:443... connected.\n",
            "HTTP request sent, awaiting response... 302 Found\n",
            "Location: https://media.githubusercontent.com/media/dj311/uob-summer-project/master/data/dense-graph2vec-y-test [following]\n",
            "--2019-08-23 10:11:07--  https://media.githubusercontent.com/media/dj311/uob-summer-project/master/data/dense-graph2vec-y-test\n",
            "Resolving media.githubusercontent.com (media.githubusercontent.com)... 151.101.0.133, 151.101.64.133, 151.101.128.133, ...\n",
            "Connecting to media.githubusercontent.com (media.githubusercontent.com)|151.101.0.133|:443... connected.\n",
            "HTTP request sent, awaiting response... 200 OK\n",
            "Length: 34567 (34K) [application/octet-stream]\n",
            "Saving to: ‘dense-graph2vec-y-test’\n",
            "\n",
            "dense-graph2vec-y-t 100%[===================>]  33.76K  --.-KB/s    in 0.008s  \n",
            "\n",
            "2019-08-23 10:11:07 (4.23 MB/s) - ‘dense-graph2vec-y-test’ saved [34567/34567]\n",
            "\n",
            "--2019-08-23 10:11:08--  https://github.com/dj311/uob-summer-project/raw/master/data/dense-graph2vec-y-predict\n",
            "Resolving github.com (github.com)... 192.30.253.113\n",
            "Connecting to github.com (github.com)|192.30.253.113|:443... connected.\n",
            "HTTP request sent, awaiting response... 302 Found\n",
            "Location: https://media.githubusercontent.com/media/dj311/uob-summer-project/master/data/dense-graph2vec-y-predict [following]\n",
            "--2019-08-23 10:11:09--  https://media.githubusercontent.com/media/dj311/uob-summer-project/master/data/dense-graph2vec-y-predict\n",
            "Resolving media.githubusercontent.com (media.githubusercontent.com)... 151.101.0.133, 151.101.64.133, 151.101.128.133, ...\n",
            "Connecting to media.githubusercontent.com (media.githubusercontent.com)|151.101.0.133|:443... connected.\n",
            "HTTP request sent, awaiting response... 200 OK\n",
            "Length: 17365 (17K) [application/octet-stream]\n",
            "Saving to: ‘dense-graph2vec-y-predict’\n",
            "\n",
            "dense-graph2vec-y-p 100%[===================>]  16.96K  --.-KB/s    in 0.007s  \n",
            "\n",
            "2019-08-23 10:11:09 (2.37 MB/s) - ‘dense-graph2vec-y-predict’ saved [17365/17365]\n",
            "\n",
            "--2019-08-23 10:11:09--  https://github.com/dj311/uob-summer-project/raw/master/data/cnn-graph2vec-y-test\n",
            "Resolving github.com (github.com)... 192.30.253.113\n",
            "Connecting to github.com (github.com)|192.30.253.113|:443... connected.\n",
            "HTTP request sent, awaiting response... 302 Found\n",
            "Location: https://media.githubusercontent.com/media/dj311/uob-summer-project/master/data/cnn-graph2vec-y-test [following]\n",
            "--2019-08-23 10:11:10--  https://media.githubusercontent.com/media/dj311/uob-summer-project/master/data/cnn-graph2vec-y-test\n",
            "Resolving media.githubusercontent.com (media.githubusercontent.com)... 151.101.0.133, 151.101.64.133, 151.101.128.133, ...\n",
            "Connecting to media.githubusercontent.com (media.githubusercontent.com)|151.101.0.133|:443... connected.\n",
            "HTTP request sent, awaiting response... 200 OK\n",
            "Length: 34567 (34K) [application/octet-stream]\n",
            "Saving to: ‘cnn-graph2vec-y-test’\n",
            "\n",
            "cnn-graph2vec-y-tes 100%[===================>]  33.76K  --.-KB/s    in 0.007s  \n",
            "\n",
            "2019-08-23 10:11:10 (4.77 MB/s) - ‘cnn-graph2vec-y-test’ saved [34567/34567]\n",
            "\n",
            "--2019-08-23 10:11:11--  https://github.com/dj311/uob-summer-project/raw/master/data/cnn-graph2vec-y-predict\n",
            "Resolving github.com (github.com)... 192.30.253.113\n",
            "Connecting to github.com (github.com)|192.30.253.113|:443... connected.\n",
            "HTTP request sent, awaiting response... 302 Found\n",
            "Location: https://media.githubusercontent.com/media/dj311/uob-summer-project/master/data/cnn-graph2vec-y-predict [following]\n",
            "--2019-08-23 10:11:11--  https://media.githubusercontent.com/media/dj311/uob-summer-project/master/data/cnn-graph2vec-y-predict\n",
            "Resolving media.githubusercontent.com (media.githubusercontent.com)... 151.101.0.133, 151.101.64.133, 151.101.128.133, ...\n",
            "Connecting to media.githubusercontent.com (media.githubusercontent.com)|151.101.0.133|:443... connected.\n",
            "HTTP request sent, awaiting response... 200 OK\n",
            "Length: 17365 (17K) [application/octet-stream]\n",
            "Saving to: ‘cnn-graph2vec-y-predict’\n",
            "\n",
            "cnn-graph2vec-y-pre 100%[===================>]  16.96K  --.-KB/s    in 0.007s  \n",
            "\n",
            "2019-08-23 10:11:11 (2.50 MB/s) - ‘cnn-graph2vec-y-predict’ saved [17365/17365]\n",
            "\n",
            "--2019-08-23 10:11:12--  https://github.com/dj311/uob-summer-project/raw/master/data/stack-model-y-test\n",
            "Resolving github.com (github.com)... 192.30.253.113\n",
            "Connecting to github.com (github.com)|192.30.253.113|:443... connected.\n",
            "HTTP request sent, awaiting response... 302 Found\n",
            "Location: https://media.githubusercontent.com/media/dj311/uob-summer-project/master/data/stack-model-y-test [following]\n",
            "--2019-08-23 10:11:13--  https://media.githubusercontent.com/media/dj311/uob-summer-project/master/data/stack-model-y-test\n",
            "Resolving media.githubusercontent.com (media.githubusercontent.com)... 151.101.0.133, 151.101.64.133, 151.101.128.133, ...\n",
            "Connecting to media.githubusercontent.com (media.githubusercontent.com)|151.101.0.133|:443... connected.\n",
            "HTTP request sent, awaiting response... 200 OK\n",
            "Length: 73850 (72K) [application/octet-stream]\n",
            "Saving to: ‘stack-model-y-test’\n",
            "\n",
            "stack-model-y-test  100%[===================>]  72.12K  --.-KB/s    in 0.01s   \n",
            "\n",
            "2019-08-23 10:11:13 (4.87 MB/s) - ‘stack-model-y-test’ saved [73850/73850]\n",
            "\n",
            "--2019-08-23 10:11:14--  https://github.com/dj311/uob-summer-project/raw/master/data/stack-model-y-predict\n",
            "Resolving github.com (github.com)... 192.30.253.113\n",
            "Connecting to github.com (github.com)|192.30.253.113|:443... connected.\n",
            "HTTP request sent, awaiting response... 302 Found\n",
            "Location: https://media.githubusercontent.com/media/dj311/uob-summer-project/master/data/stack-model-y-predict [following]\n",
            "--2019-08-23 10:11:14--  https://media.githubusercontent.com/media/dj311/uob-summer-project/master/data/stack-model-y-predict\n",
            "Resolving media.githubusercontent.com (media.githubusercontent.com)... 151.101.0.133, 151.101.64.133, 151.101.128.133, ...\n",
            "Connecting to media.githubusercontent.com (media.githubusercontent.com)|151.101.0.133|:443... connected.\n",
            "HTTP request sent, awaiting response... 200 OK\n",
            "Length: 8761 (8.6K) [application/octet-stream]\n",
            "Saving to: ‘stack-model-y-predict’\n",
            "\n",
            "stack-model-y-predi 100%[===================>]   8.56K  --.-KB/s    in 0s      \n",
            "\n",
            "2019-08-23 10:11:14 (44.6 MB/s) - ‘stack-model-y-predict’ saved [8761/8761]\n",
            "\n",
            "--2019-08-23 10:11:15--  https://github.com/dj311/uob-summer-project/raw/master/data/cnn-adj-y-test\n",
            "Resolving github.com (github.com)... 192.30.253.113\n",
            "Connecting to github.com (github.com)|192.30.253.113|:443... connected.\n",
            "HTTP request sent, awaiting response... 302 Found\n",
            "Location: https://raw.githubusercontent.com/dj311/uob-summer-project/master/data/cnn-adj-y-test [following]\n",
            "--2019-08-23 10:11:15--  https://raw.githubusercontent.com/dj311/uob-summer-project/master/data/cnn-adj-y-test\n",
            "Resolving raw.githubusercontent.com (raw.githubusercontent.com)... 151.101.0.133, 151.101.64.133, 151.101.128.133, ...\n",
            "Connecting to raw.githubusercontent.com (raw.githubusercontent.com)|151.101.0.133|:443... connected.\n",
            "HTTP request sent, awaiting response... 200 OK\n",
            "Length: 3385 (3.3K) [application/octet-stream]\n",
            "Saving to: ‘cnn-adj-y-test’\n",
            "\n",
            "cnn-adj-y-test      100%[===================>]   3.31K  --.-KB/s    in 0s      \n",
            "\n",
            "2019-08-23 10:11:16 (48.3 MB/s) - ‘cnn-adj-y-test’ saved [3385/3385]\n",
            "\n",
            "--2019-08-23 10:11:17--  https://github.com/dj311/uob-summer-project/raw/master/data/cnn-adj-y-predict\n",
            "Resolving github.com (github.com)... 192.30.253.113\n",
            "Connecting to github.com (github.com)|192.30.253.113|:443... connected.\n",
            "HTTP request sent, awaiting response... 302 Found\n",
            "Location: https://raw.githubusercontent.com/dj311/uob-summer-project/master/data/cnn-adj-y-predict [following]\n",
            "--2019-08-23 10:11:17--  https://raw.githubusercontent.com/dj311/uob-summer-project/master/data/cnn-adj-y-predict\n",
            "Resolving raw.githubusercontent.com (raw.githubusercontent.com)... 151.101.0.133, 151.101.64.133, 151.101.128.133, ...\n",
            "Connecting to raw.githubusercontent.com (raw.githubusercontent.com)|151.101.0.133|:443... connected.\n",
            "HTTP request sent, awaiting response... 200 OK\n",
            "Length: 13065 (13K) [application/octet-stream]\n",
            "Saving to: ‘cnn-adj-y-predict’\n",
            "\n",
            "cnn-adj-y-predict   100%[===================>]  12.76K  --.-KB/s    in 0.007s  \n",
            "\n",
            "2019-08-23 10:11:17 (1.81 MB/s) - ‘cnn-adj-y-predict’ saved [13065/13065]\n",
            "\n"
          ],
          "name": "stdout"
        }
      ]
    },
    {
      "cell_type": "code",
      "metadata": {
        "id": "QpJwwvU3Dgpc",
        "colab_type": "code",
        "colab": {
          "base_uri": "https://localhost:8080/",
          "height": 46
        },
        "outputId": "2bd59999-286d-460e-d70b-b8e150ffb7bb"
      },
      "source": [
        "!mkdir -p /project/code\n",
        "!mkdir -p /project/images\n",
        "%cd /project/code"
      ],
      "execution_count": 2,
      "outputs": [
        {
          "output_type": "stream",
          "text": [
            "/project/code\n"
          ],
          "name": "stdout"
        }
      ]
    },
    {
      "cell_type": "markdown",
      "metadata": {
        "id": "BCkJ8RreCi5L",
        "colab_type": "text"
      },
      "source": [
        "### Load in Models"
      ]
    },
    {
      "cell_type": "code",
      "metadata": {
        "id": "zGuctBtRCi5O",
        "colab_type": "code",
        "colab": {}
      },
      "source": [
        "import pickle"
      ],
      "execution_count": 0,
      "outputs": []
    },
    {
      "cell_type": "code",
      "metadata": {
        "id": "6xJZqVXPCi5Z",
        "colab_type": "code",
        "colab": {
          "base_uri": "https://localhost:8080/",
          "height": 545
        },
        "outputId": "e8dcd14a-e85c-4fbf-fbea-553547f973c6"
      },
      "source": [
        "with open('../data/stack-model.pkl', 'rb') as f:\n",
        "    stack_model = pickle.load(f)\n",
        "    \n",
        "with open('../data/dense-model-binary', 'rb') as f:\n",
        "    dense_graph2vec = pickle.load(f)\n",
        "    \n",
        "with open('../data/binary-convolutional', 'rb') as f:\n",
        "    conv_graph2vec = pickle.load(f)\n",
        "\n",
        "with open('../data/adjacency-matrix-model-binary.pickle', 'rb') as f:\n",
        "    adj_original = pickle.load(f)\n",
        "\n",
        "with open('../data/adjacency-matrix-model-random-padding.pickle', 'rb') as f:\n",
        "    adj_rand_pad_final = pickle.load(f)\n",
        "    \n",
        "with open('../data/adjacency-feature-matrix-model-binary.pickle', 'rb') as f:\n",
        "    adj_feat_original = pickle.load(f)\n",
        "    \n",
        "with open('../data/adjacency-feature-matrix-random-padding-model-binary.pickle', 'rb') as f:\n",
        "    adj_feat_rand_pad_final = pickle.load(f)"
      ],
      "execution_count": 4,
      "outputs": [
        {
          "output_type": "stream",
          "text": [
            "/usr/local/lib/python3.6/dist-packages/sklearn/base.py:306: UserWarning: Trying to unpickle estimator SVC from version 0.21.2 when using version 0.21.3. This might lead to breaking code or invalid results. Use at your own risk.\n",
            "  UserWarning)\n",
            "Using TensorFlow backend.\n",
            "WARNING: Logging before flag parsing goes to stderr.\n",
            "W0823 10:12:50.892546 140282364675968 deprecation_wrapper.py:119] From /usr/local/lib/python3.6/dist-packages/keras/backend/tensorflow_backend.py:517: The name tf.placeholder is deprecated. Please use tf.compat.v1.placeholder instead.\n",
            "\n",
            "W0823 10:12:50.942178 140282364675968 deprecation_wrapper.py:119] From /usr/local/lib/python3.6/dist-packages/keras/backend/tensorflow_backend.py:4138: The name tf.random_uniform is deprecated. Please use tf.random.uniform instead.\n",
            "\n",
            "W0823 10:12:51.001857 140282364675968 deprecation_wrapper.py:119] From /usr/local/lib/python3.6/dist-packages/keras/backend/tensorflow_backend.py:174: The name tf.get_default_session is deprecated. Please use tf.compat.v1.get_default_session instead.\n",
            "\n",
            "W0823 10:12:51.003384 140282364675968 deprecation_wrapper.py:119] From /usr/local/lib/python3.6/dist-packages/keras/backend/tensorflow_backend.py:181: The name tf.ConfigProto is deprecated. Please use tf.compat.v1.ConfigProto instead.\n",
            "\n",
            "W0823 10:12:51.006452 140282364675968 deprecation_wrapper.py:119] From /usr/local/lib/python3.6/dist-packages/keras/backend/tensorflow_backend.py:186: The name tf.Session is deprecated. Please use tf.compat.v1.Session instead.\n",
            "\n",
            "W0823 10:12:51.377613 140282364675968 deprecation_wrapper.py:119] From /usr/local/lib/python3.6/dist-packages/keras/optimizers.py:790: The name tf.train.Optimizer is deprecated. Please use tf.compat.v1.train.Optimizer instead.\n",
            "\n",
            "W0823 10:12:51.392026 140282364675968 deprecation.py:323] From /usr/local/lib/python3.6/dist-packages/tensorflow/python/ops/nn_impl.py:180: add_dispatch_support.<locals>.wrapper (from tensorflow.python.ops.array_ops) is deprecated and will be removed in a future version.\n",
            "Instructions for updating:\n",
            "Use tf.where in 2.0, which has the same broadcast rule as np.where\n",
            "W0823 10:12:51.484470 140282364675968 deprecation.py:506] From /usr/local/lib/python3.6/dist-packages/keras/backend/tensorflow_backend.py:3445: calling dropout (from tensorflow.python.ops.nn_ops) with keep_prob is deprecated and will be removed in a future version.\n",
            "Instructions for updating:\n",
            "Please use `rate` instead of `keep_prob`. Rate should be set to `rate = 1 - keep_prob`.\n",
            "W0823 10:12:51.505159 140282364675968 deprecation_wrapper.py:119] From /usr/local/lib/python3.6/dist-packages/keras/backend/tensorflow_backend.py:3976: The name tf.nn.max_pool is deprecated. Please use tf.nn.max_pool2d instead.\n",
            "\n",
            "W0823 10:12:52.636535 140282364675968 nn_ops.py:4224] Large dropout rate: 0.8 (>0.5). In TensorFlow 2.x, dropout() uses dropout rate instead of keep_prob. Please ensure that this is intended.\n",
            "W0823 10:13:02.635094 140282364675968 nn_ops.py:4224] Large dropout rate: 0.8 (>0.5). In TensorFlow 2.x, dropout() uses dropout rate instead of keep_prob. Please ensure that this is intended.\n"
          ],
          "name": "stderr"
        }
      ]
    },
    {
      "cell_type": "code",
      "metadata": {
        "id": "M0s-rumj9ONJ",
        "colab_type": "code",
        "colab": {}
      },
      "source": [
        "with open('../data/dense-graph2vec-y-test', 'rb') as f:\n",
        "    dense_graph2vec_y_test = pickle.load(f)\n",
        "with open('../data/dense-graph2vec-y-predict', 'rb') as f:\n",
        "    dense_graph2vec_y_predict = pickle.load(f)\n",
        "\n",
        "with open('../data/cnn-graph2vec-y-test', 'rb') as f:\n",
        "    cnn_graph2vec_y_test = pickle.load(f)\n",
        "with open('../data/cnn-graph2vec-y-predict', 'rb') as f:\n",
        "    cnn_graph2vec_y_predict = pickle.load(f)\n",
        "\n",
        "with open('../data/stack-model-y-test', 'rb') as f:\n",
        "    stack_model_y_test = pickle.load(f)\n",
        "with open('../data/stack-model-y-predict', 'rb') as f:\n",
        "    stack_model_y_predict = pickle.load(f)\n",
        "\n",
        "with open('../data/cnn-adj-y-test', 'rb') as f:\n",
        "    cnn_adj_y_test = pickle.load(f)\n",
        "with open('../data/cnn-adj-y-predict', 'rb') as f:\n",
        "    cnn_adj_y_predict = pickle.load(f)"
      ],
      "execution_count": 0,
      "outputs": []
    },
    {
      "cell_type": "markdown",
      "metadata": {
        "id": "tFayIT3TCi5e",
        "colab_type": "text"
      },
      "source": [
        "## Metrics Table"
      ]
    },
    {
      "cell_type": "code",
      "metadata": {
        "id": "QDuxt66SCi5g",
        "colab_type": "code",
        "colab": {}
      },
      "source": [
        "from sklearn.metrics import roc_curve, precision_recall_curve, matthews_corrcoef, f1_score, roc_auc_score, auc, confusion_matrix, precision_score, recall_score\n",
        "import numpy as np\n",
        "\n",
        "def rates(y_test, y_predict):\n",
        "    tn, fp, fn, tp = confusion_matrix(\n",
        "    y_test.astype(int), \n",
        "    np.rint(y_predict)\n",
        "    ).flatten().tolist()\n",
        "\n",
        "    fpr = fp/(fp+tp)\n",
        "    fnr = fn/(fn+tn)\n",
        "    return fpr, fnr\n",
        "\n",
        "def get_metrics(y_test, y_predict):\n",
        "    fpr_plot, tpr_plot, thresholds_roc = roc_curve(y_test, y_predict)\n",
        "    precision_plot, recall_plot, thresholds_pr = precision_recall_curve(y_test, y_predict)\n",
        "    auc_full = auc(fpr_plot, tpr_plot)\n",
        "    roc_auc = roc_auc_score(y_test, y_predict)\n",
        "    pr_auc = auc(recall_plot, precision_plot)\n",
        "    f1 = f1_score(y_test, np.rint(y_predict))\n",
        "    mcc = matthews_corrcoef(y_test, np.rint(y_predict))\n",
        "    precision = precision_score(y_test, np.rint(y_predict))\n",
        "    recall = recall_score(y_test, np.rint(y_predict))\n",
        "    fpr, fnr = rates(y_test, y_predict)\n",
        "    metric_values = {\n",
        "        'fpr_plot' : fpr_plot,\n",
        "        'tpr_plot' : tpr_plot,\n",
        "        'precision_plot' : precision_plot,\n",
        "        'recall_plot' : recall_plot,\n",
        "        'auc_fpr_tpr' : auc_full,\n",
        "        'roc_auc' : roc_auc,\n",
        "        'pr_auc' : pr_auc,\n",
        "        'f1_score' : f1,\n",
        "        'matthews_corr_coef' : mcc,\n",
        "        'precision' : precision,\n",
        "        'recall' : recall,\n",
        "        'FPR' : fpr,\n",
        "        'FNR' : fnr\n",
        "    }\n",
        "    return metric_values"
      ],
      "execution_count": 0,
      "outputs": []
    },
    {
      "cell_type": "code",
      "metadata": {
        "id": "-72JN_vw_wB9",
        "colab_type": "code",
        "colab": {}
      },
      "source": [
        "metrics_dense_graph2vec = get_metrics(dense_graph2vec_y_test, dense_graph2vec_y_predict)\n",
        "metrics_cnn_graph2vec = get_metrics(cnn_graph2vec_y_test, cnn_graph2vec_y_predict)\n",
        "metrics_stack_model = get_metrics(stack_model_y_test, stack_model_y_predict)\n",
        "metrics_cnn_adj = get_metrics(cnn_adj_y_test, cnn_adj_y_predict)"
      ],
      "execution_count": 0,
      "outputs": []
    },
    {
      "cell_type": "code",
      "metadata": {
        "id": "PuUn_CQyAfqW",
        "colab_type": "code",
        "colab": {
          "base_uri": "https://localhost:8080/",
          "height": 34
        },
        "outputId": "cf8f544a-59a6-49bb-eb2e-c18bbb828670"
      },
      "source": [
        "results = {'Model': ['Dense NN on graph2vec (Baseline)', 'CNN on graph2vec', 'Stacked Model', 'CNN on Adjacency Matrices (Randomly Padded)', 'CNN on Adjacency and Feature Matrices (Randomly Padded)'], \n",
        "           'Accuracy' : [],\n",
        "           'FPR' : [],\n",
        "           'FNR' : [],\n",
        "           'Precision' : [],\n",
        "           'Recall' : []\n",
        "           }\n",
        "\n",
        "deep_rep = {'Model': ['Dense NN on graph2vec (Baseline)', 'CNN on graph2vec', 'Stacked Model', 'CNN on Adjacency Matrices (Randomly Padded)', 'CNN on Adjacency and Feature Matrices (Randomly Padded)'],\n",
        "            'ROC AUC' : [metrics_dense_graph2vec['roc_auc'], metrics_cnn_graph2vec['roc_auc'], metrics_stack_model['roc_auc'], 0, 0],\n",
        "            'Precision Recall AUC' : [],\n",
        "            'F1 Score' : [],\n",
        "            'Matthews Correlation Coefficient' : []\n",
        "            }\n"
      ],
      "execution_count": 24,
      "outputs": [
        {
          "output_type": "execute_result",
          "data": {
            "text/plain": [
              "0.9510475753756507"
            ]
          },
          "metadata": {
            "tags": []
          },
          "execution_count": 24
        }
      ]
    },
    {
      "cell_type": "markdown",
      "metadata": {
        "id": "lawglj6SCi5k",
        "colab_type": "text"
      },
      "source": [
        "## ROC Curves"
      ]
    },
    {
      "cell_type": "code",
      "metadata": {
        "id": "JW-tGj9DCi5l",
        "colab_type": "code",
        "colab": {}
      },
      "source": [
        ""
      ],
      "execution_count": 0,
      "outputs": []
    },
    {
      "cell_type": "markdown",
      "metadata": {
        "id": "izt8LEGnCi5r",
        "colab_type": "text"
      },
      "source": [
        "## Precision-Recall Curves"
      ]
    },
    {
      "cell_type": "code",
      "metadata": {
        "id": "v6szbNIyCi5v",
        "colab_type": "code",
        "colab": {}
      },
      "source": [
        ""
      ],
      "execution_count": 0,
      "outputs": []
    },
    {
      "cell_type": "code",
      "metadata": {
        "id": "OPAEuXuxhVga",
        "colab_type": "code",
        "colab": {}
      },
      "source": [
        ""
      ],
      "execution_count": 0,
      "outputs": []
    }
  ]
}