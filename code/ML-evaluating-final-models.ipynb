{
  "nbformat": 4,
  "nbformat_minor": 0,
  "metadata": {
    "kernelspec": {
      "display_name": "Python 3",
      "language": "python",
      "name": "python3"
    },
    "language_info": {
      "codemirror_mode": {
        "name": "ipython",
        "version": 3
      },
      "file_extension": ".py",
      "mimetype": "text/x-python",
      "name": "python",
      "nbconvert_exporter": "python",
      "pygments_lexer": "ipython3",
      "version": "3.6.8"
    },
    "colab": {
      "name": "ML-evaluating-final-models.ipynb",
      "version": "0.3.2",
      "provenance": []
    }
  },
  "cells": [
    {
      "cell_type": "markdown",
      "metadata": {
        "id": "KAIxgm30Ci5H",
        "colab_type": "text"
      },
      "source": [
        "# Evaluation"
      ]
    },
    {
      "cell_type": "markdown",
      "metadata": {
        "id": "SYI2SN8QCsQ7",
        "colab_type": "text"
      },
      "source": [
        "### Colab Setup"
      ]
    },
    {
      "cell_type": "code",
      "metadata": {
        "id": "DfCk3CVTCrGu",
        "colab_type": "code",
        "colab": {
          "base_uri": "https://localhost:8080/",
          "height": 1000
        },
        "outputId": "58a7c2d4-af30-4ef2-dfec-5f5318eeb6b5"
      },
      "source": [
        "! mkdir -p /project/data && cd /project/data && wget -O stack-model.pkl https://github.com/dj311/uob-summer-project/raw/master/data/stack-model.pkl\n",
        "! mkdir -p /project/data && cd /project/data && wget -O dense-model-binary https://github.com/dj311/uob-summer-project/raw/master/data/dense-model-binary\n",
        "! mkdir -p /project/data && cd /project/data && wget -O binary-convolutional https://github.com/dj311/uob-summer-project/raw/master/data/binary-convolutional\n",
        "! mkdir -p /project/data && cd /project/data && wget -O adjacency-matrix-model-binary.pickle https://github.com/dj311/uob-summer-project/raw/master/data/adjacency-matrix-model-binary.pickle\n",
        "! mkdir -p /project/data && cd /project/data && wget -O adjacency-matrix-model-random-padding.pickle https://github.com/dj311/uob-summer-project/raw/master/data/adjacency-matrix-model-random-padding.pickle\n",
        "! mkdir -p /project/data && cd /project/data && wget -O adjacency-feature-matrix-model-binary.pickle https://github.com/dj311/uob-summer-project/raw/master/data/adjacency-feature-matrix-model-binary.pickle\n",
        "! mkdir -p /project/data && cd /project/data && wget -O adjacency-feature-matrix-random-padding-model-binary.pickle https://github.com/dj311/uob-summer-project/raw/master/data/adjacency-feature-matrix-random-padding-model-binary.pickle\n",
        "\n",
        "! mkdir -p /project/data && cd /project/data && wget -O baseline-roc https://github.com/dj311/uob-summer-project/raw/master/data/baseline-roc\n",
        "! mkdir -p /project/data && cd /project/data && wget -O cnn-graph2vec-roc https://github.com/dj311/uob-summer-project/raw/master/data/cnn-graph2vec-roc\n",
        "! mkdir -p /project/data && cd /project/data && wget -O stacked-model2-roc https://github.com/dj311/uob-summer-project/raw/master/data/stacked-model2-roc\n",
        "! mkdir -p /project/data && cd /project/data && wget -O cnn-adj-roc https://github.com/dj311/uob-summer-project/raw/master/data/cnn-adj-roc\n",
        "! mkdir -p /project/data && cd /project/data && wget -O cnn-adj-rand-pad-roc https://github.com/dj311/uob-summer-project/raw/master/data/cnn-adj-rand-pad-roc\n",
        "! mkdir -p /project/data && cd /project/data && wget -O cnn-adj-feat-roc https://github.com/dj311/uob-summer-project/raw/master/data/cnn-adj-feat-roc\n",
        "! mkdir -p /project/data && cd /project/data && wget -O cnn-adj-feat-rand-pad-roc https://github.com/dj311/uob-summer-project/raw/master/data/cnn-adj-feat-rand-pad-roc\n",
        "\n",
        "! mkdir -p /project/data && cd /project/data && wget -O baseline-pr https://github.com/dj311/uob-summer-project/raw/master/data/baseline-pr\n",
        "! mkdir -p /project/data && cd /project/data && wget -O cnn-graph2vec-pr https://github.com/dj311/uob-summer-project/raw/master/data/cnn-graph2vec-pr\n",
        "! mkdir -p /project/data && cd /project/data && wget -O stacked-model2-pr https://github.com/dj311/uob-summer-project/raw/master/data/stacked-model2-pr\n"
      ],
      "execution_count": 6,
      "outputs": [
        {
          "output_type": "stream",
          "text": [
            "--2019-08-22 13:22:03--  https://github.com/dj311/uob-summer-project/raw/master/data/stack-model.pkl\n",
            "Resolving github.com (github.com)... 192.30.255.112\n",
            "Connecting to github.com (github.com)|192.30.255.112|:443... connected.\n",
            "HTTP request sent, awaiting response... 302 Found\n",
            "Location: https://media.githubusercontent.com/media/dj311/uob-summer-project/master/data/stack-model.pkl [following]\n",
            "--2019-08-22 13:22:04--  https://media.githubusercontent.com/media/dj311/uob-summer-project/master/data/stack-model.pkl\n",
            "Resolving media.githubusercontent.com (media.githubusercontent.com)... 151.101.0.133, 151.101.64.133, 151.101.128.133, ...\n",
            "Connecting to media.githubusercontent.com (media.githubusercontent.com)|151.101.0.133|:443... connected.\n",
            "HTTP request sent, awaiting response... 200 OK\n",
            "Length: 118952 (116K) [application/octet-stream]\n",
            "Saving to: ‘stack-model.pkl’\n",
            "\n",
            "stack-model.pkl     100%[===================>] 116.16K  --.-KB/s    in 0.02s   \n",
            "\n",
            "2019-08-22 13:22:04 (5.38 MB/s) - ‘stack-model.pkl’ saved [118952/118952]\n",
            "\n",
            "--2019-08-22 13:22:05--  https://github.com/dj311/uob-summer-project/raw/master/data/dense-model-binary\n",
            "Resolving github.com (github.com)... 192.30.255.112\n",
            "Connecting to github.com (github.com)|192.30.255.112|:443... connected.\n",
            "HTTP request sent, awaiting response... 302 Found\n",
            "Location: https://media.githubusercontent.com/media/dj311/uob-summer-project/master/data/dense-model-binary [following]\n",
            "--2019-08-22 13:22:05--  https://media.githubusercontent.com/media/dj311/uob-summer-project/master/data/dense-model-binary\n",
            "Resolving media.githubusercontent.com (media.githubusercontent.com)... 151.101.0.133, 151.101.64.133, 151.101.128.133, ...\n",
            "Connecting to media.githubusercontent.com (media.githubusercontent.com)|151.101.0.133|:443... connected.\n",
            "HTTP request sent, awaiting response... 200 OK\n",
            "Length: 136274 (133K) [application/octet-stream]\n",
            "Saving to: ‘dense-model-binary’\n",
            "\n",
            "dense-model-binary  100%[===================>] 133.08K  --.-KB/s    in 0.02s   \n",
            "\n",
            "2019-08-22 13:22:05 (6.26 MB/s) - ‘dense-model-binary’ saved [136274/136274]\n",
            "\n",
            "--2019-08-22 13:22:06--  https://github.com/dj311/uob-summer-project/raw/master/data/binary-convolutional\n",
            "Resolving github.com (github.com)... 192.30.255.112\n",
            "Connecting to github.com (github.com)|192.30.255.112|:443... connected.\n",
            "HTTP request sent, awaiting response... 302 Found\n",
            "Location: https://media.githubusercontent.com/media/dj311/uob-summer-project/master/data/binary-convolutional [following]\n",
            "--2019-08-22 13:22:06--  https://media.githubusercontent.com/media/dj311/uob-summer-project/master/data/binary-convolutional\n",
            "Resolving media.githubusercontent.com (media.githubusercontent.com)... 151.101.0.133, 151.101.64.133, 151.101.128.133, ...\n",
            "Connecting to media.githubusercontent.com (media.githubusercontent.com)|151.101.0.133|:443... connected.\n",
            "HTTP request sent, awaiting response... 200 OK\n",
            "Length: 608208 (594K) [application/octet-stream]\n",
            "Saving to: ‘binary-convolutional’\n",
            "\n",
            "binary-convolutiona 100%[===================>] 593.95K  --.-KB/s    in 0.04s   \n",
            "\n",
            "2019-08-22 13:22:07 (15.9 MB/s) - ‘binary-convolutional’ saved [608208/608208]\n",
            "\n",
            "--2019-08-22 13:22:08--  https://github.com/dj311/uob-summer-project/raw/master/data/adjacency-matrix-model-binary.pickle\n",
            "Resolving github.com (github.com)... 192.30.255.112\n",
            "Connecting to github.com (github.com)|192.30.255.112|:443... connected.\n",
            "HTTP request sent, awaiting response... 302 Found\n",
            "Location: https://media.githubusercontent.com/media/dj311/uob-summer-project/master/data/adjacency-matrix-model-binary.pickle [following]\n",
            "--2019-08-22 13:22:08--  https://media.githubusercontent.com/media/dj311/uob-summer-project/master/data/adjacency-matrix-model-binary.pickle\n",
            "Resolving media.githubusercontent.com (media.githubusercontent.com)... 151.101.0.133, 151.101.64.133, 151.101.128.133, ...\n",
            "Connecting to media.githubusercontent.com (media.githubusercontent.com)|151.101.0.133|:443... connected.\n",
            "HTTP request sent, awaiting response... 200 OK\n",
            "Length: 71124065 (68M) [application/octet-stream]\n",
            "Saving to: ‘adjacency-matrix-model-binary.pickle’\n",
            "\n",
            "adjacency-matrix-mo 100%[===================>]  67.83M   169MB/s    in 0.4s    \n",
            "\n",
            "2019-08-22 13:22:08 (169 MB/s) - ‘adjacency-matrix-model-binary.pickle’ saved [71124065/71124065]\n",
            "\n",
            "--2019-08-22 13:22:09--  https://github.com/dj311/uob-summer-project/raw/master/data/adjacency-matrix-model-random-padding.pickle\n",
            "Resolving github.com (github.com)... 192.30.255.112\n",
            "Connecting to github.com (github.com)|192.30.255.112|:443... connected.\n",
            "HTTP request sent, awaiting response... 302 Found\n",
            "Location: https://media.githubusercontent.com/media/dj311/uob-summer-project/master/data/adjacency-matrix-model-random-padding.pickle [following]\n",
            "--2019-08-22 13:22:10--  https://media.githubusercontent.com/media/dj311/uob-summer-project/master/data/adjacency-matrix-model-random-padding.pickle\n",
            "Resolving media.githubusercontent.com (media.githubusercontent.com)... 151.101.0.133, 151.101.64.133, 151.101.128.133, ...\n",
            "Connecting to media.githubusercontent.com (media.githubusercontent.com)|151.101.0.133|:443... connected.\n",
            "HTTP request sent, awaiting response... 200 OK\n",
            "Length: 71124407 (68M) [application/octet-stream]\n",
            "Saving to: ‘adjacency-matrix-model-random-padding.pickle’\n",
            "\n",
            "adjacency-matrix-mo 100%[===================>]  67.83M   175MB/s    in 0.4s    \n",
            "\n",
            "2019-08-22 13:22:10 (175 MB/s) - ‘adjacency-matrix-model-random-padding.pickle’ saved [71124407/71124407]\n",
            "\n",
            "--2019-08-22 13:22:11--  https://github.com/dj311/uob-summer-project/raw/master/data/adjacency-feature-matrix-model-binary.pickle\n",
            "Resolving github.com (github.com)... 192.30.255.112\n",
            "Connecting to github.com (github.com)|192.30.255.112|:443... connected.\n",
            "HTTP request sent, awaiting response... 302 Found\n",
            "Location: https://media.githubusercontent.com/media/dj311/uob-summer-project/master/data/adjacency-feature-matrix-model-binary.pickle [following]\n",
            "--2019-08-22 13:22:11--  https://media.githubusercontent.com/media/dj311/uob-summer-project/master/data/adjacency-feature-matrix-model-binary.pickle\n",
            "Resolving media.githubusercontent.com (media.githubusercontent.com)... 151.101.0.133, 151.101.64.133, 151.101.128.133, ...\n",
            "Connecting to media.githubusercontent.com (media.githubusercontent.com)|151.101.0.133|:443... connected.\n",
            "HTTP request sent, awaiting response... 200 OK\n",
            "Length: 323108598 (308M) [application/octet-stream]\n",
            "Saving to: ‘adjacency-feature-matrix-model-binary.pickle’\n",
            "\n",
            "adjacency-feature-m 100%[===================>] 308.14M   163MB/s    in 1.9s    \n",
            "\n",
            "2019-08-22 13:22:13 (163 MB/s) - ‘adjacency-feature-matrix-model-binary.pickle’ saved [323108598/323108598]\n",
            "\n",
            "--2019-08-22 13:22:14--  https://github.com/dj311/uob-summer-project/raw/master/data/adjacency-feature-matrix-random-padding-model-binary.pickle\n",
            "Resolving github.com (github.com)... 192.30.255.112\n",
            "Connecting to github.com (github.com)|192.30.255.112|:443... connected.\n",
            "HTTP request sent, awaiting response... 302 Found\n",
            "Location: https://media.githubusercontent.com/media/dj311/uob-summer-project/master/data/adjacency-feature-matrix-random-padding-model-binary.pickle [following]\n",
            "--2019-08-22 13:22:14--  https://media.githubusercontent.com/media/dj311/uob-summer-project/master/data/adjacency-feature-matrix-random-padding-model-binary.pickle\n",
            "Resolving media.githubusercontent.com (media.githubusercontent.com)... 151.101.0.133, 151.101.64.133, 151.101.128.133, ...\n",
            "Connecting to media.githubusercontent.com (media.githubusercontent.com)|151.101.0.133|:443... connected.\n",
            "HTTP request sent, awaiting response... 200 OK\n",
            "Length: 323108598 (308M) [application/octet-stream]\n",
            "Saving to: ‘adjacency-feature-matrix-random-padding-model-binary.pickle’\n",
            "\n",
            "adjacency-feature-m 100%[===================>] 308.14M   199MB/s    in 1.5s    \n",
            "\n",
            "2019-08-22 13:22:15 (199 MB/s) - ‘adjacency-feature-matrix-random-padding-model-binary.pickle’ saved [323108598/323108598]\n",
            "\n",
            "--2019-08-22 13:22:16--  https://github.com/dj311/uob-summer-project/raw/master/data/baseline-roc\n",
            "Resolving github.com (github.com)... 192.30.255.112\n",
            "Connecting to github.com (github.com)|192.30.255.112|:443... connected.\n",
            "HTTP request sent, awaiting response... 302 Found\n",
            "Location: https://media.githubusercontent.com/media/dj311/uob-summer-project/master/data/baseline-roc [following]\n",
            "--2019-08-22 13:22:17--  https://media.githubusercontent.com/media/dj311/uob-summer-project/master/data/baseline-roc\n",
            "Resolving media.githubusercontent.com (media.githubusercontent.com)... 151.101.0.133, 151.101.64.133, 151.101.128.133, ...\n",
            "Connecting to media.githubusercontent.com (media.githubusercontent.com)|151.101.0.133|:443... connected.\n",
            "HTTP request sent, awaiting response... 200 OK\n",
            "Length: 117 [application/octet-stream]\n",
            "Saving to: ‘baseline-roc’\n",
            "\n",
            "baseline-roc        100%[===================>]     117  --.-KB/s    in 0s      \n",
            "\n",
            "2019-08-22 13:22:17 (17.0 MB/s) - ‘baseline-roc’ saved [117/117]\n",
            "\n",
            "--2019-08-22 13:22:17--  https://github.com/dj311/uob-summer-project/raw/master/data/cnn-graph2vec-roc\n",
            "Resolving github.com (github.com)... 192.30.255.112\n",
            "Connecting to github.com (github.com)|192.30.255.112|:443... connected.\n",
            "HTTP request sent, awaiting response... 302 Found\n",
            "Location: https://media.githubusercontent.com/media/dj311/uob-summer-project/master/data/cnn-graph2vec-roc [following]\n",
            "--2019-08-22 13:22:18--  https://media.githubusercontent.com/media/dj311/uob-summer-project/master/data/cnn-graph2vec-roc\n",
            "Resolving media.githubusercontent.com (media.githubusercontent.com)... 151.101.0.133, 151.101.64.133, 151.101.128.133, ...\n",
            "Connecting to media.githubusercontent.com (media.githubusercontent.com)|151.101.0.133|:443... connected.\n",
            "HTTP request sent, awaiting response... 200 OK\n",
            "Length: 117 [application/octet-stream]\n",
            "Saving to: ‘cnn-graph2vec-roc’\n",
            "\n",
            "cnn-graph2vec-roc   100%[===================>]     117  --.-KB/s    in 0s      \n",
            "\n",
            "2019-08-22 13:22:18 (14.7 MB/s) - ‘cnn-graph2vec-roc’ saved [117/117]\n",
            "\n",
            "--2019-08-22 13:22:18--  https://github.com/dj311/uob-summer-project/raw/master/data/stacked-model2-roc\n",
            "Resolving github.com (github.com)... 192.30.255.112\n",
            "Connecting to github.com (github.com)|192.30.255.112|:443... connected.\n",
            "HTTP request sent, awaiting response... 302 Found\n",
            "Location: https://media.githubusercontent.com/media/dj311/uob-summer-project/master/data/stacked-model2-roc [following]\n",
            "--2019-08-22 13:22:19--  https://media.githubusercontent.com/media/dj311/uob-summer-project/master/data/stacked-model2-roc\n",
            "Resolving media.githubusercontent.com (media.githubusercontent.com)... 151.101.0.133, 151.101.64.133, 151.101.128.133, ...\n",
            "Connecting to media.githubusercontent.com (media.githubusercontent.com)|151.101.0.133|:443... connected.\n",
            "HTTP request sent, awaiting response... 200 OK\n",
            "Length: 117 [application/octet-stream]\n",
            "Saving to: ‘stacked-model2-roc’\n",
            "\n",
            "stacked-model2-roc  100%[===================>]     117  --.-KB/s    in 0s      \n",
            "\n",
            "2019-08-22 13:22:19 (15.5 MB/s) - ‘stacked-model2-roc’ saved [117/117]\n",
            "\n",
            "--2019-08-22 13:22:20--  https://github.com/dj311/uob-summer-project/raw/master/data/cnn-adj-roc\n",
            "Resolving github.com (github.com)... 192.30.255.112\n",
            "Connecting to github.com (github.com)|192.30.255.112|:443... connected.\n",
            "HTTP request sent, awaiting response... 302 Found\n",
            "Location: https://media.githubusercontent.com/media/dj311/uob-summer-project/master/data/cnn-adj-roc [following]\n",
            "--2019-08-22 13:22:20--  https://media.githubusercontent.com/media/dj311/uob-summer-project/master/data/cnn-adj-roc\n",
            "Resolving media.githubusercontent.com (media.githubusercontent.com)... 151.101.0.133, 151.101.64.133, 151.101.128.133, ...\n",
            "Connecting to media.githubusercontent.com (media.githubusercontent.com)|151.101.0.133|:443... connected.\n",
            "HTTP request sent, awaiting response... 200 OK\n",
            "Length: 117 [application/octet-stream]\n",
            "Saving to: ‘cnn-adj-roc’\n",
            "\n",
            "cnn-adj-roc         100%[===================>]     117  --.-KB/s    in 0s      \n",
            "\n",
            "2019-08-22 13:22:20 (13.0 MB/s) - ‘cnn-adj-roc’ saved [117/117]\n",
            "\n",
            "--2019-08-22 13:22:21--  https://github.com/dj311/uob-summer-project/raw/master/data/cnn-adj-rand-pad-roc\n",
            "Resolving github.com (github.com)... 192.30.255.112\n",
            "Connecting to github.com (github.com)|192.30.255.112|:443... connected.\n",
            "HTTP request sent, awaiting response... 302 Found\n",
            "Location: https://media.githubusercontent.com/media/dj311/uob-summer-project/master/data/cnn-adj-rand-pad-roc [following]\n",
            "--2019-08-22 13:22:21--  https://media.githubusercontent.com/media/dj311/uob-summer-project/master/data/cnn-adj-rand-pad-roc\n",
            "Resolving media.githubusercontent.com (media.githubusercontent.com)... 151.101.0.133, 151.101.64.133, 151.101.128.133, ...\n",
            "Connecting to media.githubusercontent.com (media.githubusercontent.com)|151.101.0.133|:443... connected.\n",
            "HTTP request sent, awaiting response... 200 OK\n",
            "Length: 117 [application/octet-stream]\n",
            "Saving to: ‘cnn-adj-rand-pad-roc’\n",
            "\n",
            "cnn-adj-rand-pad-ro 100%[===================>]     117  --.-KB/s    in 0s      \n",
            "\n",
            "2019-08-22 13:22:21 (14.5 MB/s) - ‘cnn-adj-rand-pad-roc’ saved [117/117]\n",
            "\n",
            "--2019-08-22 13:22:22--  https://github.com/dj311/uob-summer-project/raw/master/data/cnn-adj-feat-roc\n",
            "Resolving github.com (github.com)... 192.30.255.112\n",
            "Connecting to github.com (github.com)|192.30.255.112|:443... connected.\n",
            "HTTP request sent, awaiting response... 302 Found\n",
            "Location: https://media.githubusercontent.com/media/dj311/uob-summer-project/master/data/cnn-adj-feat-roc [following]\n",
            "--2019-08-22 13:22:22--  https://media.githubusercontent.com/media/dj311/uob-summer-project/master/data/cnn-adj-feat-roc\n",
            "Resolving media.githubusercontent.com (media.githubusercontent.com)... 151.101.0.133, 151.101.64.133, 151.101.128.133, ...\n",
            "Connecting to media.githubusercontent.com (media.githubusercontent.com)|151.101.0.133|:443... connected.\n",
            "HTTP request sent, awaiting response... 200 OK\n",
            "Length: 117 [application/octet-stream]\n",
            "Saving to: ‘cnn-adj-feat-roc’\n",
            "\n",
            "cnn-adj-feat-roc    100%[===================>]     117  --.-KB/s    in 0s      \n",
            "\n",
            "2019-08-22 13:22:22 (15.3 MB/s) - ‘cnn-adj-feat-roc’ saved [117/117]\n",
            "\n",
            "--2019-08-22 13:22:23--  https://github.com/dj311/uob-summer-project/raw/master/data/cnn-adj-feat-rand-pad-roc\n",
            "Resolving github.com (github.com)... 192.30.255.112\n",
            "Connecting to github.com (github.com)|192.30.255.112|:443... connected.\n",
            "HTTP request sent, awaiting response... 302 Found\n",
            "Location: https://media.githubusercontent.com/media/dj311/uob-summer-project/master/data/cnn-adj-feat-rand-pad-roc [following]\n",
            "--2019-08-22 13:22:24--  https://media.githubusercontent.com/media/dj311/uob-summer-project/master/data/cnn-adj-feat-rand-pad-roc\n",
            "Resolving media.githubusercontent.com (media.githubusercontent.com)... 151.101.0.133, 151.101.64.133, 151.101.128.133, ...\n",
            "Connecting to media.githubusercontent.com (media.githubusercontent.com)|151.101.0.133|:443... connected.\n",
            "HTTP request sent, awaiting response... 200 OK\n",
            "Length: 117 [application/octet-stream]\n",
            "Saving to: ‘cnn-adj-feat-rand-pad-roc’\n",
            "\n",
            "cnn-adj-feat-rand-p 100%[===================>]     117  --.-KB/s    in 0s      \n",
            "\n",
            "2019-08-22 13:22:24 (13.8 MB/s) - ‘cnn-adj-feat-rand-pad-roc’ saved [117/117]\n",
            "\n",
            "--2019-08-22 13:22:25--  https://github.com/dj311/uob-summer-project/raw/master/data/baseline-pr\n",
            "Resolving github.com (github.com)... 192.30.255.112\n",
            "Connecting to github.com (github.com)|192.30.255.112|:443... connected.\n",
            "HTTP request sent, awaiting response... 302 Found\n",
            "Location: https://media.githubusercontent.com/media/dj311/uob-summer-project/master/data/baseline-pr [following]\n",
            "--2019-08-22 13:22:25--  https://media.githubusercontent.com/media/dj311/uob-summer-project/master/data/baseline-pr\n",
            "Resolving media.githubusercontent.com (media.githubusercontent.com)... 151.101.0.133, 151.101.64.133, 151.101.128.133, ...\n",
            "Connecting to media.githubusercontent.com (media.githubusercontent.com)|151.101.0.133|:443... connected.\n",
            "HTTP request sent, awaiting response... 200 OK\n",
            "Length: 117 [application/octet-stream]\n",
            "Saving to: ‘baseline-pr’\n",
            "\n",
            "baseline-pr         100%[===================>]     117  --.-KB/s    in 0s      \n",
            "\n",
            "2019-08-22 13:22:25 (13.8 MB/s) - ‘baseline-pr’ saved [117/117]\n",
            "\n",
            "--2019-08-22 13:22:26--  https://github.com/dj311/uob-summer-project/raw/master/data/cnn-graph2vec-pr\n",
            "Resolving github.com (github.com)... 192.30.255.112\n",
            "Connecting to github.com (github.com)|192.30.255.112|:443... connected.\n",
            "HTTP request sent, awaiting response... 302 Found\n",
            "Location: https://media.githubusercontent.com/media/dj311/uob-summer-project/master/data/cnn-graph2vec-pr [following]\n",
            "--2019-08-22 13:22:26--  https://media.githubusercontent.com/media/dj311/uob-summer-project/master/data/cnn-graph2vec-pr\n",
            "Resolving media.githubusercontent.com (media.githubusercontent.com)... 151.101.0.133, 151.101.64.133, 151.101.128.133, ...\n",
            "Connecting to media.githubusercontent.com (media.githubusercontent.com)|151.101.0.133|:443... connected.\n",
            "HTTP request sent, awaiting response... 200 OK\n",
            "Length: 117 [application/octet-stream]\n",
            "Saving to: ‘cnn-graph2vec-pr’\n",
            "\n",
            "cnn-graph2vec-pr    100%[===================>]     117  --.-KB/s    in 0s      \n",
            "\n",
            "2019-08-22 13:22:27 (15.2 MB/s) - ‘cnn-graph2vec-pr’ saved [117/117]\n",
            "\n",
            "--2019-08-22 13:22:27--  https://github.com/dj311/uob-summer-project/raw/master/data/stacked-model2-pr\n",
            "Resolving github.com (github.com)... 192.30.255.112\n",
            "Connecting to github.com (github.com)|192.30.255.112|:443... connected.\n",
            "HTTP request sent, awaiting response... 302 Found\n",
            "Location: https://media.githubusercontent.com/media/dj311/uob-summer-project/master/data/stacked-model2-pr [following]\n",
            "--2019-08-22 13:22:28--  https://media.githubusercontent.com/media/dj311/uob-summer-project/master/data/stacked-model2-pr\n",
            "Resolving media.githubusercontent.com (media.githubusercontent.com)... 151.101.0.133, 151.101.64.133, 151.101.128.133, ...\n",
            "Connecting to media.githubusercontent.com (media.githubusercontent.com)|151.101.0.133|:443... connected.\n",
            "HTTP request sent, awaiting response... 200 OK\n",
            "Length: 117 [application/octet-stream]\n",
            "Saving to: ‘stacked-model2-pr’\n",
            "\n",
            "stacked-model2-pr   100%[===================>]     117  --.-KB/s    in 0s      \n",
            "\n",
            "2019-08-22 13:22:28 (13.5 MB/s) - ‘stacked-model2-pr’ saved [117/117]\n",
            "\n"
          ],
          "name": "stdout"
        }
      ]
    },
    {
      "cell_type": "code",
      "metadata": {
        "id": "QpJwwvU3Dgpc",
        "colab_type": "code",
        "colab": {
          "base_uri": "https://localhost:8080/",
          "height": 46
        },
        "outputId": "a6cbe0b3-b40b-48e6-833c-0d8f1fa434e0"
      },
      "source": [
        "!mkdir -p /project/code\n",
        "!mkdir -p /project/images\n",
        "%cd /project/code"
      ],
      "execution_count": 7,
      "outputs": [
        {
          "output_type": "stream",
          "text": [
            "/project/code\n"
          ],
          "name": "stdout"
        }
      ]
    },
    {
      "cell_type": "markdown",
      "metadata": {
        "id": "BCkJ8RreCi5L",
        "colab_type": "text"
      },
      "source": [
        "### Load in Models"
      ]
    },
    {
      "cell_type": "code",
      "metadata": {
        "id": "zGuctBtRCi5O",
        "colab_type": "code",
        "colab": {}
      },
      "source": [
        "import pickle"
      ],
      "execution_count": 0,
      "outputs": []
    },
    {
      "cell_type": "code",
      "metadata": {
        "id": "6xJZqVXPCi5Z",
        "colab_type": "code",
        "colab": {
          "base_uri": "https://localhost:8080/",
          "height": 625
        },
        "outputId": "e194fa65-b662-4086-af19-bde62832ac01"
      },
      "source": [
        "with open('../data/stack-model.pkl', 'rb') as f:\n",
        "    stack_model = pickle.load(f)\n",
        "    \n",
        "with open('../data/dense-model-binary', 'rb') as f:\n",
        "    dense_graph2vec = pickle.load(f)\n",
        "    \n",
        "with open('../data/binary-convolutional', 'rb') as f:\n",
        "    conv_graph2vec = pickle.load(f)\n",
        "\n",
        "with open('../data/adjacency-matrix-model-binary.pickle', 'rb') as f:\n",
        "    adj_original = pickle.load(f)\n",
        "\n",
        "with open('../data/adjacency-matrix-model-random-padding.pickle', 'rb') as f:\n",
        "    adj_rand_pad_final = pickle.load(f)\n",
        "    \n",
        "with open('../data/adjacency-feature-matrix-model-binary.pickle', 'rb') as f:\n",
        "    adj_feat_original = pickle.load(f)\n",
        "    \n",
        "with open('../data/adjacency-feature-matrix-random-padding-model-binary.pickle', 'rb') as f:\n",
        "    adj_feat_rand_pad_final = pickle.load(f)"
      ],
      "execution_count": 3,
      "outputs": [
        {
          "output_type": "stream",
          "text": [
            "/usr/local/lib/python3.6/dist-packages/sklearn/base.py:306: UserWarning: Trying to unpickle estimator SVC from version 0.21.2 when using version 0.21.3. This might lead to breaking code or invalid results. Use at your own risk.\n",
            "  UserWarning)\n",
            "Using TensorFlow backend.\n",
            "WARNING: Logging before flag parsing goes to stderr.\n",
            "W0822 11:27:21.714313 139755600234368 deprecation_wrapper.py:119] From /usr/local/lib/python3.6/dist-packages/keras/backend/tensorflow_backend.py:517: The name tf.placeholder is deprecated. Please use tf.compat.v1.placeholder instead.\n",
            "\n",
            "W0822 11:27:21.776124 139755600234368 deprecation_wrapper.py:119] From /usr/local/lib/python3.6/dist-packages/keras/backend/tensorflow_backend.py:4138: The name tf.random_uniform is deprecated. Please use tf.random.uniform instead.\n",
            "\n",
            "W0822 11:27:21.836865 139755600234368 deprecation_wrapper.py:119] From /usr/local/lib/python3.6/dist-packages/keras/backend/tensorflow_backend.py:174: The name tf.get_default_session is deprecated. Please use tf.compat.v1.get_default_session instead.\n",
            "\n",
            "W0822 11:27:21.838270 139755600234368 deprecation_wrapper.py:119] From /usr/local/lib/python3.6/dist-packages/keras/backend/tensorflow_backend.py:181: The name tf.ConfigProto is deprecated. Please use tf.compat.v1.ConfigProto instead.\n",
            "\n",
            "W0822 11:27:21.839377 139755600234368 deprecation_wrapper.py:119] From /usr/local/lib/python3.6/dist-packages/keras/backend/tensorflow_backend.py:186: The name tf.Session is deprecated. Please use tf.compat.v1.Session instead.\n",
            "\n",
            "W0822 11:27:22.186854 139755600234368 deprecation_wrapper.py:119] From /usr/local/lib/python3.6/dist-packages/keras/optimizers.py:790: The name tf.train.Optimizer is deprecated. Please use tf.compat.v1.train.Optimizer instead.\n",
            "\n",
            "W0822 11:27:22.201463 139755600234368 deprecation.py:323] From /usr/local/lib/python3.6/dist-packages/tensorflow/python/ops/nn_impl.py:180: add_dispatch_support.<locals>.wrapper (from tensorflow.python.ops.array_ops) is deprecated and will be removed in a future version.\n",
            "Instructions for updating:\n",
            "Use tf.where in 2.0, which has the same broadcast rule as np.where\n",
            "W0822 11:27:22.292171 139755600234368 deprecation.py:506] From /usr/local/lib/python3.6/dist-packages/keras/backend/tensorflow_backend.py:3445: calling dropout (from tensorflow.python.ops.nn_ops) with keep_prob is deprecated and will be removed in a future version.\n",
            "Instructions for updating:\n",
            "Please use `rate` instead of `keep_prob`. Rate should be set to `rate = 1 - keep_prob`.\n",
            "W0822 11:27:22.313791 139755600234368 deprecation_wrapper.py:119] From /usr/local/lib/python3.6/dist-packages/keras/backend/tensorflow_backend.py:3976: The name tf.nn.max_pool is deprecated. Please use tf.nn.max_pool2d instead.\n",
            "\n"
          ],
          "name": "stderr"
        }
      ]
    },
    {
      "cell_type": "markdown",
      "metadata": {
        "id": "tFayIT3TCi5e",
        "colab_type": "text"
      },
      "source": [
        "## Metrics Table"
      ]
    },
    {
      "cell_type": "code",
      "metadata": {
        "id": "QDuxt66SCi5g",
        "colab_type": "code",
        "colab": {}
      },
      "source": [
        ""
      ],
      "execution_count": 0,
      "outputs": []
    },
    {
      "cell_type": "markdown",
      "metadata": {
        "id": "lawglj6SCi5k",
        "colab_type": "text"
      },
      "source": [
        "## ROC Curves"
      ]
    },
    {
      "cell_type": "code",
      "metadata": {
        "id": "JW-tGj9DCi5l",
        "colab_type": "code",
        "colab": {}
      },
      "source": [
        "with open('../data/baseline-roc', 'rb') as f:\n",
        "    baseline_roc = pickle.load(f)\n",
        "\n",
        "with open('../data/cnn-graph2vec-roc', 'rb') as f:\n",
        "    cnn_graph2vec_roc = pickle.load(f)\n",
        "\n",
        "with open('../data/stacked-model2-roc', 'rb') as f:\n",
        "    stacked_model2_roc = pickle.load(f)\n",
        "\n",
        "with open('../data/cnn-adj-roc', 'rb') as f:\n",
        "    cnn_adj_roc = pickle.load(f)\n",
        "\n",
        "with open('../data/cnn-adj-rand-pad-roc', 'rb') as f:\n",
        "    cnn_adj_rand_pad_roc = pickle.load(f)\n",
        "\n",
        "with open('../data/cnn-adj-feat-roc', 'rb') as f:\n",
        "    cnn_adj_feat_roc = pickle.load(f)\n",
        "\n",
        "with open('../data/cnn-adj-feat-rand-pad-roc', 'rb') as f:\n",
        "    cnn_adj_feat_rand_pad_roc = pickle.load(f)"
      ],
      "execution_count": 0,
      "outputs": []
    },
    {
      "cell_type": "markdown",
      "metadata": {
        "id": "izt8LEGnCi5r",
        "colab_type": "text"
      },
      "source": [
        "## Precision-Recall Curves"
      ]
    },
    {
      "cell_type": "code",
      "metadata": {
        "id": "v6szbNIyCi5v",
        "colab_type": "code",
        "colab": {}
      },
      "source": [
        "with open('../data/baseline-pr', 'rb') as f:\n",
        "    baseline_pr = pickle.load(f)\n",
        "\n",
        "with open('../data/cnn-graph2vec-pr', 'rb') as f:\n",
        "    cnn_graph2vec_pr = pickle.load(f)\n",
        "\n",
        "with open('../data/stacked-model2-pr', 'rb') as f:\n",
        "    stacked_model2_pr = pickle.load(f)"
      ],
      "execution_count": 0,
      "outputs": []
    },
    {
      "cell_type": "code",
      "metadata": {
        "id": "OPAEuXuxhVga",
        "colab_type": "code",
        "colab": {}
      },
      "source": [
        ""
      ],
      "execution_count": 0,
      "outputs": []
    }
  ]
}