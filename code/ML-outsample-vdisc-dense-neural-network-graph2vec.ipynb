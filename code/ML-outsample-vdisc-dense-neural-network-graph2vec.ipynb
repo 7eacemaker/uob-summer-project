{
 "cells": [
  {
   "cell_type": "markdown",
   "metadata": {},
   "source": [
    "This notebook is an outsample test we got for vdisc dataset. Generally, it got about 65% acc. :("
   ]
  },
  {
   "cell_type": "markdown",
   "metadata": {},
   "source": [
    "# Import Data"
   ]
  },
  {
   "cell_type": "code",
   "execution_count": 15,
   "metadata": {},
   "outputs": [],
   "source": [
    "import tensorflow\n",
    "import keras\n",
    "import numpy as np\n",
    "np.random.seed(1248)"
   ]
  },
  {
   "cell_type": "code",
   "execution_count": 16,
   "metadata": {},
   "outputs": [],
   "source": [
    "import pandas as pd"
   ]
  },
  {
   "cell_type": "code",
   "execution_count": 17,
   "metadata": {},
   "outputs": [],
   "source": [
    "data = pd.read_csv('../data/vdisc_train_buffer_over_data_small.csv.gz')"
   ]
  },
  {
   "cell_type": "code",
   "execution_count": 18,
   "metadata": {},
   "outputs": [],
   "source": [
    "labels = data.copy()\n",
    "del labels['Unnamed: 0']\n",
    "del labels['filename']\n",
    "del labels['code']\n",
    "del labels['flaw_loc']\n",
    "labels = labels.drop_duplicates().sort_values('testcase_ID').reset_index(drop=True)"
   ]
  },
  {
   "cell_type": "code",
   "execution_count": 20,
   "metadata": {
    "scrolled": true
   },
   "outputs": [],
   "source": [
    "x = pd.read_csv(\"../data/vdisc_embedding.csv\")\n",
    "x['testcase_ID'] = x['type']\n",
    "del x['type']\n",
    "x = x.sort_values(\"testcase_ID\")"
   ]
  },
  {
   "cell_type": "code",
   "execution_count": 21,
   "metadata": {},
   "outputs": [],
   "source": [
    "y = labels['buffer']"
   ]
  },
  {
   "cell_type": "code",
   "execution_count": 22,
   "metadata": {},
   "outputs": [],
   "source": [
    "testcase_IDs = x['testcase_ID']\n",
    "x = x.drop('testcase_ID', axis='columns')"
   ]
  },
  {
   "cell_type": "code",
   "execution_count": 46,
   "metadata": {},
   "outputs": [],
   "source": [
    "from sklearn.model_selection import train_test_split\n",
    "x_train, x_test, y_train, y_test = train_test_split(x, y, test_size = 0.2, random_state = 0)"
   ]
  },
  {
   "cell_type": "markdown",
   "metadata": {},
   "source": [
    "# [Neural tutorial](https://towardsdatascience.com/neural-networks-from-scratch-easy-vs-hard-b26ddc2e89c7)"
   ]
  },
  {
   "cell_type": "code",
   "execution_count": 47,
   "metadata": {
    "scrolled": true
   },
   "outputs": [],
   "source": [
    "from keras.layers import Dense, Dropout, Flatten, Reshape\n",
    "from keras.layers import Conv1D, MaxPooling1D\n",
    "from keras.models import Sequential\n",
    "from keras.layers.normalization import BatchNormalization\n",
    "from keras.layers.advanced_activations import LeakyReLU\n",
    "from keras.optimizers import RMSprop, Adadelta, Adam"
   ]
  },
  {
   "cell_type": "code",
   "execution_count": 48,
   "metadata": {},
   "outputs": [],
   "source": [
    "model = Sequential()\n",
    "\n",
    "model.add(Dense(128, input_dim=x_train.shape[1], activation='relu'))\n",
    "model.add(Dense(128, activation='relu'))\n",
    "\n",
    "model.add(Dense(128, activation='relu'))\n",
    "\n",
    "model.add(Dense(128, activation='relu'))\n",
    "\n",
    "model.add(Dense(128, activation='relu'))\n",
    "\n",
    "model.add(Dense(128, activation='relu'))\n",
    "\n",
    "model.add(Dense(units=1, activation='sigmoid'))\n",
    "\n",
    "model.compile(optimizer=Adam(), loss='binary_crossentropy', metrics=['accuracy'])"
   ]
  },
  {
   "cell_type": "code",
   "execution_count": 49,
   "metadata": {
    "scrolled": true
   },
   "outputs": [
    {
     "name": "stdout",
     "output_type": "stream",
     "text": [
      "_________________________________________________________________\n",
      "Layer (type)                 Output Shape              Param #   \n",
      "=================================================================\n",
      "dense_18 (Dense)             (None, 128)               16512     \n",
      "_________________________________________________________________\n",
      "dense_19 (Dense)             (None, 128)               16512     \n",
      "_________________________________________________________________\n",
      "dense_20 (Dense)             (None, 128)               16512     \n",
      "_________________________________________________________________\n",
      "dense_21 (Dense)             (None, 128)               16512     \n",
      "_________________________________________________________________\n",
      "dense_22 (Dense)             (None, 128)               16512     \n",
      "_________________________________________________________________\n",
      "dense_23 (Dense)             (None, 128)               16512     \n",
      "_________________________________________________________________\n",
      "dense_24 (Dense)             (None, 1)                 129       \n",
      "=================================================================\n",
      "Total params: 99,201\n",
      "Trainable params: 99,201\n",
      "Non-trainable params: 0\n",
      "_________________________________________________________________\n"
     ]
    }
   ],
   "source": [
    "model.summary()"
   ]
  },
  {
   "cell_type": "code",
   "execution_count": 50,
   "metadata": {},
   "outputs": [
    {
     "name": "stdout",
     "output_type": "stream",
     "text": [
      "Requirement already satisfied: pydot in /usr/local/lib/python3.6/dist-packages (1.4.1)\n",
      "Requirement already satisfied: pyparsing>=2.1.4 in /usr/local/lib/python3.6/dist-packages (from pydot) (2.4.0)\n",
      "\u001b[33mWARNING: You are using pip version 19.1.1, however version 19.2.2 is available.\n",
      "You should consider upgrading via the 'pip install --upgrade pip' command.\u001b[0m\n"
     ]
    }
   ],
   "source": [
    "!pip install pydot"
   ]
  },
  {
   "cell_type": "code",
   "execution_count": 51,
   "metadata": {},
   "outputs": [
    {
     "data": {
      "image/svg+xml": [
       "<svg height=\"556pt\" viewBox=\"0.00 0.00 160.00 556.00\" width=\"160pt\" xmlns=\"http://www.w3.org/2000/svg\" xmlns:xlink=\"http://www.w3.org/1999/xlink\">\n",
       "<g class=\"graph\" id=\"graph0\" transform=\"scale(1 1) rotate(0) translate(4 552)\">\n",
       "<title>G</title>\n",
       "<polygon fill=\"#ffffff\" points=\"-4,4 -4,-552 156,-552 156,4 -4,4\" stroke=\"transparent\"/>\n",
       "<!-- 140698796476904 -->\n",
       "<g class=\"node\" id=\"node1\">\n",
       "<title>140698796476904</title>\n",
       "<polygon fill=\"none\" points=\"7.5,-438.5 7.5,-474.5 144.5,-474.5 144.5,-438.5 7.5,-438.5\" stroke=\"#000000\"/>\n",
       "<text fill=\"#000000\" font-family=\"Times,serif\" font-size=\"14.00\" text-anchor=\"middle\" x=\"76\" y=\"-452.8\">dense_18: Dense</text>\n",
       "</g>\n",
       "<!-- 140698796477352 -->\n",
       "<g class=\"node\" id=\"node2\">\n",
       "<title>140698796477352</title>\n",
       "<polygon fill=\"none\" points=\"7.5,-365.5 7.5,-401.5 144.5,-401.5 144.5,-365.5 7.5,-365.5\" stroke=\"#000000\"/>\n",
       "<text fill=\"#000000\" font-family=\"Times,serif\" font-size=\"14.00\" text-anchor=\"middle\" x=\"76\" y=\"-379.8\">dense_19: Dense</text>\n",
       "</g>\n",
       "<!-- 140698796476904&#45;&gt;140698796477352 -->\n",
       "<g class=\"edge\" id=\"edge2\">\n",
       "<title>140698796476904-&gt;140698796477352</title>\n",
       "<path d=\"M76,-438.4551C76,-430.3828 76,-420.6764 76,-411.6817\" fill=\"none\" stroke=\"#000000\"/>\n",
       "<polygon fill=\"#000000\" points=\"79.5001,-411.5903 76,-401.5904 72.5001,-411.5904 79.5001,-411.5903\" stroke=\"#000000\"/>\n",
       "</g>\n",
       "<!-- 140698796477856 -->\n",
       "<g class=\"node\" id=\"node3\">\n",
       "<title>140698796477856</title>\n",
       "<polygon fill=\"none\" points=\"7.5,-292.5 7.5,-328.5 144.5,-328.5 144.5,-292.5 7.5,-292.5\" stroke=\"#000000\"/>\n",
       "<text fill=\"#000000\" font-family=\"Times,serif\" font-size=\"14.00\" text-anchor=\"middle\" x=\"76\" y=\"-306.8\">dense_20: Dense</text>\n",
       "</g>\n",
       "<!-- 140698796477352&#45;&gt;140698796477856 -->\n",
       "<g class=\"edge\" id=\"edge3\">\n",
       "<title>140698796477352-&gt;140698796477856</title>\n",
       "<path d=\"M76,-365.4551C76,-357.3828 76,-347.6764 76,-338.6817\" fill=\"none\" stroke=\"#000000\"/>\n",
       "<polygon fill=\"#000000\" points=\"79.5001,-338.5903 76,-328.5904 72.5001,-338.5904 79.5001,-338.5903\" stroke=\"#000000\"/>\n",
       "</g>\n",
       "<!-- 140698796637376 -->\n",
       "<g class=\"node\" id=\"node4\">\n",
       "<title>140698796637376</title>\n",
       "<polygon fill=\"none\" points=\"7.5,-219.5 7.5,-255.5 144.5,-255.5 144.5,-219.5 7.5,-219.5\" stroke=\"#000000\"/>\n",
       "<text fill=\"#000000\" font-family=\"Times,serif\" font-size=\"14.00\" text-anchor=\"middle\" x=\"76\" y=\"-233.8\">dense_21: Dense</text>\n",
       "</g>\n",
       "<!-- 140698796477856&#45;&gt;140698796637376 -->\n",
       "<g class=\"edge\" id=\"edge4\">\n",
       "<title>140698796477856-&gt;140698796637376</title>\n",
       "<path d=\"M76,-292.4551C76,-284.3828 76,-274.6764 76,-265.6817\" fill=\"none\" stroke=\"#000000\"/>\n",
       "<polygon fill=\"#000000\" points=\"79.5001,-265.5903 76,-255.5904 72.5001,-265.5904 79.5001,-265.5903\" stroke=\"#000000\"/>\n",
       "</g>\n",
       "<!-- 140698796210160 -->\n",
       "<g class=\"node\" id=\"node5\">\n",
       "<title>140698796210160</title>\n",
       "<polygon fill=\"none\" points=\"7.5,-146.5 7.5,-182.5 144.5,-182.5 144.5,-146.5 7.5,-146.5\" stroke=\"#000000\"/>\n",
       "<text fill=\"#000000\" font-family=\"Times,serif\" font-size=\"14.00\" text-anchor=\"middle\" x=\"76\" y=\"-160.8\">dense_22: Dense</text>\n",
       "</g>\n",
       "<!-- 140698796637376&#45;&gt;140698796210160 -->\n",
       "<g class=\"edge\" id=\"edge5\">\n",
       "<title>140698796637376-&gt;140698796210160</title>\n",
       "<path d=\"M76,-219.4551C76,-211.3828 76,-201.6764 76,-192.6817\" fill=\"none\" stroke=\"#000000\"/>\n",
       "<polygon fill=\"#000000\" points=\"79.5001,-192.5903 76,-182.5904 72.5001,-192.5904 79.5001,-192.5903\" stroke=\"#000000\"/>\n",
       "</g>\n",
       "<!-- 140698796301896 -->\n",
       "<g class=\"node\" id=\"node6\">\n",
       "<title>140698796301896</title>\n",
       "<polygon fill=\"none\" points=\"7.5,-73.5 7.5,-109.5 144.5,-109.5 144.5,-73.5 7.5,-73.5\" stroke=\"#000000\"/>\n",
       "<text fill=\"#000000\" font-family=\"Times,serif\" font-size=\"14.00\" text-anchor=\"middle\" x=\"76\" y=\"-87.8\">dense_23: Dense</text>\n",
       "</g>\n",
       "<!-- 140698796210160&#45;&gt;140698796301896 -->\n",
       "<g class=\"edge\" id=\"edge6\">\n",
       "<title>140698796210160-&gt;140698796301896</title>\n",
       "<path d=\"M76,-146.4551C76,-138.3828 76,-128.6764 76,-119.6817\" fill=\"none\" stroke=\"#000000\"/>\n",
       "<polygon fill=\"#000000\" points=\"79.5001,-119.5903 76,-109.5904 72.5001,-119.5904 79.5001,-119.5903\" stroke=\"#000000\"/>\n",
       "</g>\n",
       "<!-- 140698795995824 -->\n",
       "<g class=\"node\" id=\"node7\">\n",
       "<title>140698795995824</title>\n",
       "<polygon fill=\"none\" points=\"7.5,-.5 7.5,-36.5 144.5,-36.5 144.5,-.5 7.5,-.5\" stroke=\"#000000\"/>\n",
       "<text fill=\"#000000\" font-family=\"Times,serif\" font-size=\"14.00\" text-anchor=\"middle\" x=\"76\" y=\"-14.8\">dense_24: Dense</text>\n",
       "</g>\n",
       "<!-- 140698796301896&#45;&gt;140698795995824 -->\n",
       "<g class=\"edge\" id=\"edge7\">\n",
       "<title>140698796301896-&gt;140698795995824</title>\n",
       "<path d=\"M76,-73.4551C76,-65.3828 76,-55.6764 76,-46.6817\" fill=\"none\" stroke=\"#000000\"/>\n",
       "<polygon fill=\"#000000\" points=\"79.5001,-46.5903 76,-36.5904 72.5001,-46.5904 79.5001,-46.5903\" stroke=\"#000000\"/>\n",
       "</g>\n",
       "<!-- 140698796477632 -->\n",
       "<g class=\"node\" id=\"node8\">\n",
       "<title>140698796477632</title>\n",
       "<polygon fill=\"none\" points=\"0,-511.5 0,-547.5 152,-547.5 152,-511.5 0,-511.5\" stroke=\"#000000\"/>\n",
       "<text fill=\"#000000\" font-family=\"Times,serif\" font-size=\"14.00\" text-anchor=\"middle\" x=\"76\" y=\"-525.8\">140698796477632</text>\n",
       "</g>\n",
       "<!-- 140698796477632&#45;&gt;140698796476904 -->\n",
       "<g class=\"edge\" id=\"edge1\">\n",
       "<title>140698796477632-&gt;140698796476904</title>\n",
       "<path d=\"M76,-511.4551C76,-503.3828 76,-493.6764 76,-484.6817\" fill=\"none\" stroke=\"#000000\"/>\n",
       "<polygon fill=\"#000000\" points=\"79.5001,-484.5903 76,-474.5904 72.5001,-484.5904 79.5001,-484.5903\" stroke=\"#000000\"/>\n",
       "</g>\n",
       "</g>\n",
       "</svg>"
      ],
      "text/plain": [
       "<IPython.core.display.SVG object>"
      ]
     },
     "execution_count": 51,
     "metadata": {},
     "output_type": "execute_result"
    }
   ],
   "source": [
    "import keras\n",
    "import pydot as pyd\n",
    "from IPython.display import SVG\n",
    "from keras.utils.vis_utils import model_to_dot\n",
    "\n",
    "keras.utils.vis_utils.pydot = pyd\n",
    "\n",
    "def visualize_model(model):\n",
    "  return model_to_dot(model).create(prog='dot', format='svg')\n",
    "\n",
    "model_diagram = visualize_model(model)\n",
    "\n",
    "with open('../images/graph2vec-architecture-dnn.svg', 'wb') as f:\n",
    "    f.write(model_diagram)\n",
    "\n",
    "SVG(model_diagram)"
   ]
  },
  {
   "cell_type": "code",
   "execution_count": 52,
   "metadata": {
    "scrolled": true
   },
   "outputs": [
    {
     "name": "stdout",
     "output_type": "stream",
     "text": [
      "Epoch 1/50\n",
      "22982/22982 [==============================] - 1s 61us/step - loss: 0.6323 - acc: 0.6318\n",
      "Epoch 2/50\n",
      "22982/22982 [==============================] - 1s 42us/step - loss: 0.6182 - acc: 0.6442\n",
      "Epoch 3/50\n",
      "22982/22982 [==============================] - 1s 41us/step - loss: 0.6154 - acc: 0.6461\n",
      "Epoch 4/50\n",
      "22982/22982 [==============================] - 1s 42us/step - loss: 0.6157 - acc: 0.6475\n",
      "Epoch 5/50\n",
      "22982/22982 [==============================] - 1s 43us/step - loss: 0.6139 - acc: 0.6480\n",
      "Epoch 6/50\n",
      "22982/22982 [==============================] - 1s 44us/step - loss: 0.6113 - acc: 0.6495\n",
      "Epoch 7/50\n",
      "22982/22982 [==============================] - 1s 43us/step - loss: 0.6110 - acc: 0.6486\n",
      "Epoch 8/50\n",
      "22982/22982 [==============================] - 1s 42us/step - loss: 0.6103 - acc: 0.6517\n",
      "Epoch 9/50\n",
      "22982/22982 [==============================] - 1s 43us/step - loss: 0.6085 - acc: 0.6509\n",
      "Epoch 10/50\n",
      "22982/22982 [==============================] - 1s 43us/step - loss: 0.6075 - acc: 0.6522\n",
      "Epoch 11/50\n",
      "22982/22982 [==============================] - 1s 42us/step - loss: 0.6087 - acc: 0.6528\n",
      "Epoch 12/50\n",
      "22982/22982 [==============================] - 1s 53us/step - loss: 0.6051 - acc: 0.6563\n",
      "Epoch 13/50\n",
      "22982/22982 [==============================] - 1s 53us/step - loss: 0.6054 - acc: 0.6547\n",
      "Epoch 14/50\n",
      "22982/22982 [==============================] - 1s 45us/step - loss: 0.6049 - acc: 0.6569\n",
      "Epoch 15/50\n",
      "22982/22982 [==============================] - 1s 45us/step - loss: 0.6020 - acc: 0.6559\n",
      "Epoch 16/50\n",
      "22982/22982 [==============================] - 1s 46us/step - loss: 0.6050 - acc: 0.6562\n",
      "Epoch 17/50\n",
      "22982/22982 [==============================] - 1s 45us/step - loss: 0.6018 - acc: 0.6576\n",
      "Epoch 18/50\n",
      "22982/22982 [==============================] - 1s 47us/step - loss: 0.6000 - acc: 0.6605\n",
      "Epoch 19/50\n",
      "22982/22982 [==============================] - 1s 52us/step - loss: 0.6003 - acc: 0.6593\n",
      "Epoch 20/50\n",
      "22982/22982 [==============================] - 1s 49us/step - loss: 0.5987 - acc: 0.6604\n",
      "Epoch 21/50\n",
      "22982/22982 [==============================] - 1s 49us/step - loss: 0.5983 - acc: 0.6606\n",
      "Epoch 22/50\n",
      "22982/22982 [==============================] - 1s 45us/step - loss: 0.5970 - acc: 0.6617\n",
      "Epoch 23/50\n",
      "22982/22982 [==============================] - 1s 42us/step - loss: 0.5973 - acc: 0.6611\n",
      "Epoch 24/50\n",
      "22982/22982 [==============================] - 1s 45us/step - loss: 0.5940 - acc: 0.6642\n",
      "Epoch 25/50\n",
      "22982/22982 [==============================] - 1s 45us/step - loss: 0.5962 - acc: 0.6625\n",
      "Epoch 26/50\n",
      "22982/22982 [==============================] - 1s 44us/step - loss: 0.5926 - acc: 0.6610\n",
      "Epoch 27/50\n",
      "22982/22982 [==============================] - 1s 44us/step - loss: 0.5919 - acc: 0.6653\n",
      "Epoch 28/50\n",
      "22982/22982 [==============================] - 1s 44us/step - loss: 0.5917 - acc: 0.6625\n",
      "Epoch 29/50\n",
      "22982/22982 [==============================] - 1s 48us/step - loss: 0.5908 - acc: 0.6637\n",
      "Epoch 30/50\n",
      "22982/22982 [==============================] - 1s 44us/step - loss: 0.5911 - acc: 0.6638\n",
      "Epoch 31/50\n",
      "22982/22982 [==============================] - 1s 43us/step - loss: 0.5874 - acc: 0.6657\n",
      "Epoch 32/50\n",
      "22982/22982 [==============================] - 1s 44us/step - loss: 0.5861 - acc: 0.6666\n",
      "Epoch 33/50\n",
      "22982/22982 [==============================] - 1s 44us/step - loss: 0.5853 - acc: 0.6672\n",
      "Epoch 34/50\n",
      "22982/22982 [==============================] - 1s 46us/step - loss: 0.5847 - acc: 0.6666\n",
      "Epoch 35/50\n",
      "22982/22982 [==============================] - 1s 45us/step - loss: 0.5828 - acc: 0.6714\n",
      "Epoch 36/50\n",
      "22982/22982 [==============================] - 1s 57us/step - loss: 0.5827 - acc: 0.6714\n",
      "Epoch 37/50\n",
      "22982/22982 [==============================] - 1s 56us/step - loss: 0.5818 - acc: 0.6708\n",
      "Epoch 38/50\n",
      "22982/22982 [==============================] - 1s 58us/step - loss: 0.5803 - acc: 0.6709\n",
      "Epoch 39/50\n",
      "22982/22982 [==============================] - 1s 64us/step - loss: 0.5782 - acc: 0.6711\n",
      "Epoch 40/50\n",
      "22982/22982 [==============================] - 1s 53us/step - loss: 0.5781 - acc: 0.6727\n",
      "Epoch 41/50\n",
      "22982/22982 [==============================] - 1s 51us/step - loss: 0.5778 - acc: 0.6714\n",
      "Epoch 42/50\n",
      "22982/22982 [==============================] - 1s 62us/step - loss: 0.5771 - acc: 0.6749\n",
      "Epoch 43/50\n",
      "22982/22982 [==============================] - 1s 58us/step - loss: 0.5760 - acc: 0.6751\n",
      "Epoch 44/50\n",
      "22982/22982 [==============================] - 1s 63us/step - loss: 0.5745 - acc: 0.6738\n",
      "Epoch 45/50\n",
      "22982/22982 [==============================] - 1s 54us/step - loss: 0.5732 - acc: 0.6745\n",
      "Epoch 46/50\n",
      "22982/22982 [==============================] - 1s 59us/step - loss: 0.5710 - acc: 0.6741\n",
      "Epoch 47/50\n",
      "22982/22982 [==============================] - 1s 61us/step - loss: 0.5731 - acc: 0.6743\n",
      "Epoch 48/50\n",
      "22982/22982 [==============================] - 1s 55us/step - loss: 0.5728 - acc: 0.6751\n",
      "Epoch 49/50\n",
      "22982/22982 [==============================] - 1s 52us/step - loss: 0.5678 - acc: 0.6766\n",
      "Epoch 50/50\n",
      "22982/22982 [==============================] - 1s 49us/step - loss: 0.5702 - acc: 0.6758\n"
     ]
    },
    {
     "data": {
      "text/plain": [
       "<keras.callbacks.History at 0x7ff708100d68>"
      ]
     },
     "execution_count": 52,
     "metadata": {},
     "output_type": "execute_result"
    }
   ],
   "source": [
    "model.fit(x_train, y_train, epochs=50, batch_size=64)"
   ]
  },
  {
   "cell_type": "code",
   "execution_count": 29,
   "metadata": {},
   "outputs": [],
   "source": [
    "import pickle"
   ]
  },
  {
   "cell_type": "code",
   "execution_count": 30,
   "metadata": {},
   "outputs": [],
   "source": [
    "with open('../data/dense-model-binary','wb') as f:\n",
    "    pickle.dump(model,f)"
   ]
  },
  {
   "cell_type": "code",
   "execution_count": 53,
   "metadata": {},
   "outputs": [
    {
     "name": "stdout",
     "output_type": "stream",
     "text": [
      "5746/5746 [==============================] - 0s 61us/step\n"
     ]
    },
    {
     "data": {
      "text/plain": [
       "[0.6773556792233989, 0.6510616081581687]"
      ]
     },
     "execution_count": 53,
     "metadata": {},
     "output_type": "execute_result"
    }
   ],
   "source": [
    "model.evaluate(x_test,y_test)"
   ]
  },
  {
   "cell_type": "code",
   "execution_count": 33,
   "metadata": {},
   "outputs": [],
   "source": [
    "import seaborn as sns\n",
    "from sklearn import metrics\n",
    "import matplotlib"
   ]
  },
  {
   "cell_type": "code",
   "execution_count": 55,
   "metadata": {},
   "outputs": [],
   "source": [
    "y_predict= model.predict(x_test)"
   ]
  },
  {
   "cell_type": "code",
   "execution_count": 56,
   "metadata": {},
   "outputs": [],
   "source": [
    "import numpy as np"
   ]
  },
  {
   "cell_type": "code",
   "execution_count": 57,
   "metadata": {},
   "outputs": [
    {
     "data": {
      "image/png": "[encoded data removed]",
      "text/plain": [
       "<Figure size 360x288 with 2 Axes>"
      ]
     },
     "metadata": {
      "needs_background": "light"
     },
     "output_type": "display_data"
    }
   ],
   "source": [
    "confusion_matrix = pd.DataFrame(\n",
    "    data=metrics.confusion_matrix(y_test, np.rint(y_predict)), \n",
    "    \n",
    ")\n",
    "\n",
    "confusion_figure, confusion_axes = matplotlib.pyplot.subplots()\n",
    "confusion_figure.set_size_inches(5, 4)\n",
    "confusion_axes.set_title(\n",
    "    'Confusion matrix showing the frequency of \\n'\n",
    "    'correct and incorrect bug classification predictions.'\n",
    "    '\\n\\n'  # hack to avoid overlap with x-axis labels below\n",
    ")\n",
    "confusion_axes.xaxis.tick_top()  # move x-axis labels to top of matrix\n",
    "_ = sns.heatmap(\n",
    "    confusion_matrix,\n",
    "    annot=True,\n",
    "    fmt=\"d\",\n",
    "    cmap=sns.color_palette(\"Blues\"),\n",
    "    vmin=0,\n",
    "    ax=confusion_axes,\n",
    ")\n",
    "\n",
    "confusion_figure.savefig('../images/baseline_conf_matrix')"
   ]
  },
  {
   "cell_type": "code",
   "execution_count": 58,
   "metadata": {},
   "outputs": [],
   "source": [
    "tn, fp, fn, tp = metrics.confusion_matrix(y_test, np.rint(y_predict)).flatten().tolist()\n",
    "\n",
    "fpr_nn = fp/(fp+tp)\n",
    "fnr_nn = fn/(fn+tn)"
   ]
  },
  {
   "cell_type": "code",
   "execution_count": 59,
   "metadata": {},
   "outputs": [
    {
     "data": {
      "text/plain": [
       "0.30933940774487473"
      ]
     },
     "execution_count": 59,
     "metadata": {},
     "output_type": "execute_result"
    }
   ],
   "source": [
    "fpr_nn"
   ]
  },
  {
   "cell_type": "code",
   "execution_count": 60,
   "metadata": {},
   "outputs": [
    {
     "data": {
      "text/plain": [
       "0.3734159391720642"
      ]
     },
     "execution_count": 60,
     "metadata": {},
     "output_type": "execute_result"
    }
   ],
   "source": [
    "fnr_nn"
   ]
  },
  {
   "cell_type": "code",
   "execution_count": 66,
   "metadata": {},
   "outputs": [],
   "source": [
    "from sklearn.metrics import roc_curve, precision_recall_curve, matthews_corrcoef, f1_score, roc_auc_score, auc\n",
    "fpr_keras, tpr_keras, thresholds_keras = roc_curve((y_test.values+0), y_predict)\n",
    "precision, recall, thresholds = precision_recall_curve((y_test.values+0), y_predict)"
   ]
  },
  {
   "cell_type": "code",
   "execution_count": 67,
   "metadata": {},
   "outputs": [],
   "source": [
    "auc_keras = auc(fpr_keras, tpr_keras)\n",
    "roc_auc = roc_auc_score((y_test.values+0), y_predict)\n",
    "pr_auc = auc(recall, precision)\n",
    "f1 = f1_score((y_test.values+0), np.rint(y_predict))\n",
    "mcc = matthews_corrcoef((y_test.values+0), np.rint(y_predict))"
   ]
  },
  {
   "cell_type": "code",
   "execution_count": 68,
   "metadata": {},
   "outputs": [
    {
     "name": "stdout",
     "output_type": "stream",
     "text": [
      "PR AUC: 0.704\n",
      "ROC AUC: 0.711\n",
      "MCC: 0.308\n",
      "F1: 0.602\n"
     ]
    }
   ],
   "source": [
    "print('PR AUC: %.3f' % pr_auc)\n",
    "print('ROC AUC: %.3f' % roc_auc)\n",
    "print('MCC: %.3f' % mcc)\n",
    "print('F1: %.3f' % f1)"
   ]
  },
  {
   "cell_type": "code",
   "execution_count": 69,
   "metadata": {},
   "outputs": [],
   "source": [
    "from sklearn.metrics import auc\n",
    "import matplotlib.pyplot as plt"
   ]
  },
  {
   "cell_type": "code",
   "execution_count": 70,
   "metadata": {},
   "outputs": [
    {
     "data": {
      "image/png": "[encoded data removed]",
      "text/plain": [
       "<Figure size 432x288 with 1 Axes>"
      ]
     },
     "metadata": {
      "needs_background": "light"
     },
     "output_type": "display_data"
    },
    {
     "data": {
      "text/plain": [
       "<Figure size 432x288 with 0 Axes>"
      ]
     },
     "metadata": {},
     "output_type": "display_data"
    }
   ],
   "source": [
    "plt.plot(fpr_keras, tpr_keras, label='Keras (area = {:.3f})'.format(auc_keras))\n",
    "plt.xlabel('False positive rate')\n",
    "plt.ylabel('True positive rate')\n",
    "plt.title('ROC curve')\n",
    "plt.legend(loc='best')\n",
    "plt.show()\n",
    "plt.savefig('../images/baseline_roc_curve')"
   ]
  },
  {
   "cell_type": "markdown",
   "metadata": {},
   "source": [
    "### Train / Test / Validation Split"
   ]
  },
  {
   "cell_type": "markdown",
   "metadata": {},
   "source": [
    "### Fitting Model with 3-way Split for Validation"
   ]
  },
  {
   "cell_type": "code",
   "execution_count": 24,
   "metadata": {},
   "outputs": [],
   "source": [
    "with open('../data/x-train-binary-for-3-way-split','rb') as f:\n",
    "    x_train1 = pickle.load(f)\n",
    "    \n",
    "with open('../data/y-train-binary-for-3-way-split','rb') as f:\n",
    "    y_train1 = pickle.load(f)\n",
    "    \n",
    "with open('../data/x-val-binary','rb') as f:\n",
    "    x_val = pickle.load(f)\n",
    "    \n",
    "with open('../data/y-val-binary','rb') as f:\n",
    "    y_val = pickle.load(f)"
   ]
  },
  {
   "cell_type": "code",
   "execution_count": 72,
   "metadata": {},
   "outputs": [
    {
     "ename": "NameError",
     "evalue": "name 'x_val' is not defined",
     "output_type": "error",
     "traceback": [
      "\u001b[0;31m---------------------------------------------------------------------------\u001b[0m",
      "\u001b[0;31mNameError\u001b[0m                                 Traceback (most recent call last)",
      "\u001b[0;32m<ipython-input-72-9e58f204f033>\u001b[0m in \u001b[0;36m<module>\u001b[0;34m\u001b[0m\n\u001b[0;32m----> 1\u001b[0;31m \u001b[0mmodel\u001b[0m\u001b[0;34m.\u001b[0m\u001b[0mfit\u001b[0m\u001b[0;34m(\u001b[0m\u001b[0mx_train\u001b[0m\u001b[0;34m,\u001b[0m \u001b[0my_train\u001b[0m\u001b[0;34m,\u001b[0m \u001b[0mvalidation_data\u001b[0m \u001b[0;34m=\u001b[0m \u001b[0;34m(\u001b[0m\u001b[0mx_val\u001b[0m\u001b[0;34m,\u001b[0m \u001b[0my_val\u001b[0m\u001b[0;34m)\u001b[0m\u001b[0;34m,\u001b[0m \u001b[0mepochs\u001b[0m\u001b[0;34m=\u001b[0m\u001b[0;36m50\u001b[0m\u001b[0;34m,\u001b[0m \u001b[0mbatch_size\u001b[0m\u001b[0;34m=\u001b[0m\u001b[0;36m64\u001b[0m\u001b[0;34m)\u001b[0m\u001b[0;34m\u001b[0m\u001b[0;34m\u001b[0m\u001b[0m\n\u001b[0m",
      "\u001b[0;31mNameError\u001b[0m: name 'x_val' is not defined"
     ]
    }
   ],
   "source": [
    "model.fit(x_train, y_train, validation_data = (x_val, y_val), epochs=50, batch_size=64)"
   ]
  },
  {
   "cell_type": "code",
   "execution_count": 26,
   "metadata": {},
   "outputs": [
    {
     "name": "stdout",
     "output_type": "stream",
     "text": [
      "4301/4301 [==============================] - 0s 68us/step\n"
     ]
    },
    {
     "data": {
      "text/plain": [
       "[0.08080741595255998, 0.9544292025110439]"
      ]
     },
     "execution_count": 26,
     "metadata": {},
     "output_type": "execute_result"
    }
   ],
   "source": [
    "model.evaluate(x_test,y_test)"
   ]
  },
  {
   "cell_type": "code",
   "execution_count": 27,
   "metadata": {},
   "outputs": [],
   "source": [
    "y_predict1= model.predict(x_test)"
   ]
  },
  {
   "cell_type": "code",
   "execution_count": 28,
   "metadata": {},
   "outputs": [
    {
     "data": {
      "image/png": "[encoded data removed]",
      "text/plain": [
       "<Figure size 360x288 with 2 Axes>"
      ]
     },
     "metadata": {
      "needs_background": "light"
     },
     "output_type": "display_data"
    }
   ],
   "source": [
    "confusion_matrix = pd.DataFrame(\n",
    "    data=metrics.confusion_matrix(y_test, np.rint(y_predict1)), \n",
    "    \n",
    ")\n",
    "\n",
    "confusion_figure, confusion_axes = matplotlib.pyplot.subplots()\n",
    "confusion_figure.set_size_inches(5, 4)\n",
    "confusion_axes.set_title(\n",
    "    'Confusion matrix showing the frequency of \\n'\n",
    "    'correct and incorrect bug classification predictions.'\n",
    "    '\\n\\n'  # hack to avoid overlap with x-axis labels below\n",
    ")\n",
    "confusion_axes.xaxis.tick_top()  # move x-axis labels to top of matrix\n",
    "_ = sns.heatmap(\n",
    "    confusion_matrix,\n",
    "    annot=True,\n",
    "    fmt=\"d\",\n",
    "    cmap=sns.color_palette(\"Blues\"),\n",
    "    vmin=0,\n",
    "    ax=confusion_axes,\n",
    ")"
   ]
  },
  {
   "cell_type": "code",
   "execution_count": 32,
   "metadata": {},
   "outputs": [],
   "source": [
    "tn, fp, fn, tp = metrics.confusion_matrix(y_test, np.rint(y_predict1)).flatten().tolist()\n",
    "\n",
    "fpr_nn1 = fp/(fp+tp)\n",
    "fnr_nn1 = fn/(fn+tn)"
   ]
  },
  {
   "cell_type": "code",
   "execution_count": 33,
   "metadata": {},
   "outputs": [
    {
     "data": {
      "text/plain": [
       "0.056750572082379866"
      ]
     },
     "execution_count": 33,
     "metadata": {},
     "output_type": "execute_result"
    }
   ],
   "source": [
    "fpr_nn1"
   ]
  },
  {
   "cell_type": "code",
   "execution_count": 34,
   "metadata": {},
   "outputs": [
    {
     "data": {
      "text/plain": [
       "0.034026465028355386"
      ]
     },
     "execution_count": 34,
     "metadata": {},
     "output_type": "execute_result"
    }
   ],
   "source": [
    "fnr_nn1"
   ]
  }
 ],
 "metadata": {
  "kernelspec": {
   "display_name": "Python 3",
   "language": "python",
   "name": "python3"
  },
  "language_info": {
   "codemirror_mode": {
    "name": "ipython",
    "version": 3
   },
   "file_extension": ".py",
   "mimetype": "text/x-python",
   "name": "python",
   "nbconvert_exporter": "python",
   "pygments_lexer": "ipython3",
   "version": "3.6.8"
  },
  "toc": {
   "base_numbering": 1,
   "nav_menu": {},
   "number_sections": true,
   "sideBar": true,
   "skip_h1_title": false,
   "title_cell": "Table of Contents",
   "title_sidebar": "Contents",
   "toc_cell": false,
   "toc_position": {},
   "toc_section_display": true,
   "toc_window_display": false
  }
 },
 "nbformat": 4,
 "nbformat_minor": 2
}
