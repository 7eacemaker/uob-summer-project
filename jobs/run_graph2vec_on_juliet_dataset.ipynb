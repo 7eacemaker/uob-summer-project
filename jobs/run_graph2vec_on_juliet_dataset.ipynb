{
  "nbformat": 4,
  "nbformat_minor": 0,
  "metadata": {
    "colab": {
      "name": "colab-job-template.ipynb",
      "version": "0.3.2",
      "provenance": [],
      "include_colab_link": true
    },
    "kernelspec": {
      "name": "python3",
      "display_name": "Python 3"
    }
  },
  "cells": [
    {
      "cell_type": "markdown",
      "metadata": {
        "id": "view-in-github",
        "colab_type": "text"
      },
      "source": [
        "<a href=\"https://colab.research.google.com/github/dj311/uob-summer-project/blob/master/jobs/run_graph2vec_on_juliet_dataset.ipynb\" target=\"_parent\"><img src=\"https://colab.research.google.com/assets/colab-badge.svg\" alt=\"Open In Colab\"/></a>"
      ]
    },
    {
      "cell_type": "markdown",
      "metadata": {
        "id": "sGGhmxICtOjQ",
        "colab_type": "text"
      },
      "source": [
        "# [JOB] Using Google Colab for running long jobs\n",
        "This notebook shows how to use Google Colab to run analysis that requires lots of compute, ram or you think might crash your computer.\n",
        "\n",
        "The idea would be to design a notebook for which you can click \"run all\", wait for it to finish, then have a bunch of outputs in the data directory.\n",
        "\n",
        "We can then download the files using the \"Files\" tab on the notebook sidebar, and add it to our Github for further analysis.\n"
      ]
    },
    {
      "cell_type": "markdown",
      "metadata": {
        "id": "zJY74UOzHx2p",
        "colab_type": "text"
      },
      "source": [
        "\n",
        "## Setup\n",
        "\n",
        "Run the following code cells to get the colab notebook in a similar state to our docker environment. \n",
        "\n",
        "*Don't run this on your own computer it will break things.*"
      ]
    },
    {
      "cell_type": "code",
      "metadata": {
        "id": "W3hzFsJWtCn-",
        "colab_type": "code",
        "outputId": "18242e72-2152-4282-aa8f-678d10e4284d",
        "colab": {
          "base_uri": "https://localhost:8080/",
          "height": 34
        }
      },
      "source": [
        "!git clone https://github.com/dj311/uob-summer-project.git /project"
      ],
      "execution_count": 0,
      "outputs": [
        {
          "output_type": "stream",
          "text": [
            "fatal: destination path '/project' already exists and is not an empty directory.\n"
          ],
          "name": "stdout"
        }
      ]
    },
    {
      "cell_type": "code",
      "metadata": {
        "id": "gVFNllpctH_U",
        "colab_type": "code",
        "outputId": "92b27262-b12c-4a81-fbdb-c65db954a3b8",
        "colab": {
          "base_uri": "https://localhost:8080/",
          "height": 4274
        }
      },
      "source": [
        "!bash /project/setup.sh --i-know-what-im-doing"
      ],
      "execution_count": 0,
      "outputs": [
        {
          "output_type": "stream",
          "text": [
            "Run this script in root:\n",
            "Install Ubuntu packages:\n",
            "Reading package lists... Done\n",
            "Building dependency tree       \n",
            "Reading state information... Done\n",
            "build-essential is already the newest version (12.4ubuntu1).\n",
            "unzip is already the newest version (6.0-21ubuntu1).\n",
            "swig is already the newest version (3.0.12-1).\n",
            "git is already the newest version (1:2.17.1-1ubuntu0.4).\n",
            "python3 is already the newest version (3.6.7-1~18.04).\n",
            "python3-dev is already the newest version (3.6.7-1~18.04).\n",
            "vim is already the newest version (2:8.0.1453-1ubuntu1.1).\n",
            "wget is already the newest version (1.19.4-1ubuntu2.2).\n",
            "clang is already the newest version (1:6.0-41~exp5~ubuntu1).\n",
            "llvm is already the newest version (1:6.0-41~exp5~ubuntu1).\n",
            "python-pip is already the newest version (9.0.1-2.3~ubuntu1.18.04.1).\n",
            "python3-pip is already the newest version (9.0.1-2.3~ubuntu1.18.04.1).\n",
            "The following package was automatically installed and is no longer required:\n",
            "  libnvidia-common-410\n",
            "Use 'apt autoremove' to remove it.\n",
            "0 upgraded, 0 newly installed, 0 to remove and 16 not upgraded.\n",
            "Install Python clang bindings:\n",
            "--2019-06-21 13:06:50--  http://releases.llvm.org/6.0.0/cfe-6.0.0.src.tar.xz\n",
            "Resolving releases.llvm.org (releases.llvm.org)... 151.101.202.49, 2a04:4e42:2f::561\n",
            "Connecting to releases.llvm.org (releases.llvm.org)|151.101.202.49|:80... connected.\n",
            "HTTP request sent, awaiting response... 200 OK\n",
            "Length: 11959224 (11M) [application/octet-stream]\n",
            "Saving to: ‘/tmp/clang-source.tar.xz’\n",
            "\n",
            "/tmp/clang-source.t 100%[===================>]  11.40M  --.-KB/s    in 0.1s    \n",
            "\n",
            "2019-06-21 13:06:51 (77.7 MB/s) - ‘/tmp/clang-source.tar.xz’ saved [11959224/11959224]\n",
            "\n",
            "Install snap-python:\n",
            "--2019-06-21 13:06:55--  http://snap.stanford.edu/snappy/release/beta/snap-5.0.9-64-3.0-centos6.5-x64-py3.6.tar.gz\n",
            "Resolving snap.stanford.edu (snap.stanford.edu)... 171.64.75.80\n",
            "Connecting to snap.stanford.edu (snap.stanford.edu)|171.64.75.80|:80... connected.\n",
            "HTTP request sent, awaiting response... 200 OK\n",
            "Length: 14257506 (14M) [application/x-gzip]\n",
            "Saving to: ‘snap-5.0.9-64-3.0-centos6.5-x64-py3.6.tar.gz.1’\n",
            "\n",
            "snap-5.0.9-64-3.0-c 100%[===================>]  13.60M  1.94MB/s    in 8.1s    \n",
            "\n",
            "2019-06-21 13:07:04 (1.68 MB/s) - ‘snap-5.0.9-64-3.0-centos6.5-x64-py3.6.tar.gz.1’ saved [14257506/14257506]\n",
            "\n",
            "running install\n",
            "running build\n",
            "running build_py\n",
            "running install_lib\n",
            "running install_data\n",
            "running install_egg_info\n",
            "Removing /usr/local/lib/python3.6/dist-packages/snap-5.0.0_64_dev_ubuntu18.04.2_x64_py3.6.egg-info\n",
            "Writing /usr/local/lib/python3.6/dist-packages/snap-5.0.0_64_dev_ubuntu18.04.2_x64_py3.6.egg-info\n",
            "Download the graph2vec source code:\n",
            "fatal: destination path '/graph2vec' already exists and is not an empty directory.\n",
            "Install Python 2 dependencies:\n",
            "Requirement already up-to-date: pip in /usr/local/lib/python3.6/dist-packages (19.1.1)\n",
            "Requirement already satisfied: numpy==1.16.4 in /usr/local/lib/python3.6/dist-packages (from -r /tmp/requirements-py2.txt (line 1)) (1.16.4)\n",
            "Collecting matplotlib==2.2.4 (from -r /tmp/requirements-py2.txt (line 2))\n",
            "  Using cached https://files.pythonhosted.org/packages/48/9b/7ee428ab95b07946d5c20ba01ce27721686e6051b202930d3d810821c166/matplotlib-2.2.4-cp36-cp36m-manylinux1_x86_64.whl\n",
            "Requirement already satisfied: pandas==0.24.2 in /usr/local/lib/python3.6/dist-packages (from -r /tmp/requirements-py2.txt (line 4)) (0.24.2)\n",
            "Collecting scipy==1.2.2 (from -r /tmp/requirements-py2.txt (line 5))\n",
            "  Using cached https://files.pythonhosted.org/packages/83/69/20c8f3b7efe362093dff891239551ff90d4c463b5f52676e2694fea09442/scipy-1.2.2-cp36-cp36m-manylinux1_x86_64.whl\n",
            "Requirement already satisfied: seaborn==0.9.0 in /usr/local/lib/python3.6/dist-packages (from -r /tmp/requirements-py2.txt (line 6)) (0.9.0)\n",
            "Requirement already satisfied: keras==2.2.4 in /usr/local/lib/python3.6/dist-packages (from -r /tmp/requirements-py2.txt (line 7)) (2.2.4)\n",
            "Requirement already satisfied: tensorflow==1.13.1 in /usr/local/lib/python3.6/dist-packages (from -r /tmp/requirements-py2.txt (line 8)) (1.13.1)\n",
            "Requirement already satisfied: cycler>=0.10 in /usr/local/lib/python3.6/dist-packages (from matplotlib==2.2.4->-r /tmp/requirements-py2.txt (line 2)) (0.10.0)\n",
            "Requirement already satisfied: kiwisolver>=1.0.1 in /usr/local/lib/python3.6/dist-packages (from matplotlib==2.2.4->-r /tmp/requirements-py2.txt (line 2)) (1.1.0)\n",
            "Requirement already satisfied: pyparsing!=2.0.4,!=2.1.2,!=2.1.6,>=2.0.1 in /usr/local/lib/python3.6/dist-packages (from matplotlib==2.2.4->-r /tmp/requirements-py2.txt (line 2)) (2.4.0)\n",
            "Requirement already satisfied: python-dateutil>=2.1 in /usr/local/lib/python3.6/dist-packages (from matplotlib==2.2.4->-r /tmp/requirements-py2.txt (line 2)) (2.5.3)\n",
            "Requirement already satisfied: six>=1.10 in /usr/local/lib/python3.6/dist-packages (from matplotlib==2.2.4->-r /tmp/requirements-py2.txt (line 2)) (1.12.0)\n",
            "Requirement already satisfied: pytz in /usr/local/lib/python3.6/dist-packages (from matplotlib==2.2.4->-r /tmp/requirements-py2.txt (line 2)) (2018.9)\n",
            "Requirement already satisfied: keras-preprocessing>=1.0.5 in /usr/local/lib/python3.6/dist-packages (from keras==2.2.4->-r /tmp/requirements-py2.txt (line 7)) (1.1.0)\n",
            "Requirement already satisfied: keras-applications>=1.0.6 in /usr/local/lib/python3.6/dist-packages (from keras==2.2.4->-r /tmp/requirements-py2.txt (line 7)) (1.0.8)\n",
            "Requirement already satisfied: h5py in /usr/local/lib/python3.6/dist-packages (from keras==2.2.4->-r /tmp/requirements-py2.txt (line 7)) (2.8.0)\n",
            "Requirement already satisfied: pyyaml in /usr/local/lib/python3.6/dist-packages (from keras==2.2.4->-r /tmp/requirements-py2.txt (line 7)) (3.13)\n",
            "Requirement already satisfied: protobuf>=3.6.1 in /usr/local/lib/python3.6/dist-packages (from tensorflow==1.13.1->-r /tmp/requirements-py2.txt (line 8)) (3.7.1)\n",
            "Requirement already satisfied: termcolor>=1.1.0 in /usr/local/lib/python3.6/dist-packages (from tensorflow==1.13.1->-r /tmp/requirements-py2.txt (line 8)) (1.1.0)\n",
            "Requirement already satisfied: tensorboard<1.14.0,>=1.13.0 in /usr/local/lib/python3.6/dist-packages (from tensorflow==1.13.1->-r /tmp/requirements-py2.txt (line 8)) (1.13.1)\n",
            "Requirement already satisfied: grpcio>=1.8.6 in /usr/local/lib/python3.6/dist-packages (from tensorflow==1.13.1->-r /tmp/requirements-py2.txt (line 8)) (1.15.0)\n",
            "Requirement already satisfied: astor>=0.6.0 in /usr/local/lib/python3.6/dist-packages (from tensorflow==1.13.1->-r /tmp/requirements-py2.txt (line 8)) (0.8.0)\n",
            "Requirement already satisfied: wheel>=0.26 in /usr/local/lib/python3.6/dist-packages (from tensorflow==1.13.1->-r /tmp/requirements-py2.txt (line 8)) (0.33.4)\n",
            "Requirement already satisfied: absl-py>=0.1.6 in /usr/local/lib/python3.6/dist-packages (from tensorflow==1.13.1->-r /tmp/requirements-py2.txt (line 8)) (0.7.1)\n",
            "Requirement already satisfied: tensorflow-estimator<1.14.0rc0,>=1.13.0 in /usr/local/lib/python3.6/dist-packages (from tensorflow==1.13.1->-r /tmp/requirements-py2.txt (line 8)) (1.13.0)\n",
            "Requirement already satisfied: gast>=0.2.0 in /usr/local/lib/python3.6/dist-packages (from tensorflow==1.13.1->-r /tmp/requirements-py2.txt (line 8)) (0.2.2)\n",
            "Requirement already satisfied: setuptools in /usr/local/lib/python3.6/dist-packages (from kiwisolver>=1.0.1->matplotlib==2.2.4->-r /tmp/requirements-py2.txt (line 2)) (41.0.1)\n",
            "Requirement already satisfied: markdown>=2.6.8 in /usr/local/lib/python3.6/dist-packages (from tensorboard<1.14.0,>=1.13.0->tensorflow==1.13.1->-r /tmp/requirements-py2.txt (line 8)) (3.1.1)\n",
            "Requirement already satisfied: werkzeug>=0.11.15 in /usr/local/lib/python3.6/dist-packages (from tensorboard<1.14.0,>=1.13.0->tensorflow==1.13.1->-r /tmp/requirements-py2.txt (line 8)) (0.15.4)\n",
            "Requirement already satisfied: mock>=2.0.0 in /usr/local/lib/python3.6/dist-packages (from tensorflow-estimator<1.14.0rc0,>=1.13.0->tensorflow==1.13.1->-r /tmp/requirements-py2.txt (line 8)) (3.0.5)\n",
            "\u001b[31mERROR: scikit-image 0.15.0 has requirement networkx>=2.0, but you'll have networkx 1.11 which is incompatible.\u001b[0m\n",
            "\u001b[31mERROR: albumentations 0.1.12 has requirement imgaug<0.2.7,>=0.2.5, but you'll have imgaug 0.2.9 which is incompatible.\u001b[0m\n",
            "Installing collected packages: matplotlib, scipy\n",
            "  Found existing installation: matplotlib 3.1.0\n",
            "    Uninstalling matplotlib-3.1.0:\n",
            "      Successfully uninstalled matplotlib-3.1.0\n",
            "  Found existing installation: scipy 1.3.0\n",
            "    Uninstalling scipy-1.3.0:\n",
            "      Successfully uninstalled scipy-1.3.0\n",
            "Successfully installed matplotlib-2.2.4 scipy-1.2.2\n",
            "Install Python 3 dependencies:\n",
            "Requirement already up-to-date: pip in /usr/local/lib/python3.6/dist-packages (19.1.1)\n",
            "Requirement already satisfied: jupyter==1.0.0 in /usr/local/lib/python3.6/dist-packages (from -r /tmp/requirements-py3.txt (line 1)) (1.0.0)\n",
            "Collecting matplotlib==3.1.0 (from -r /tmp/requirements-py3.txt (line 2))\n",
            "  Using cached https://files.pythonhosted.org/packages/da/83/d989ee20c78117c737ab40e0318ea221f1aed4e3f5a40b4f93541b369b93/matplotlib-3.1.0-cp36-cp36m-manylinux1_x86_64.whl\n",
            "Requirement already satisfied: numpy==1.16.4 in /usr/local/lib/python3.6/dist-packages (from -r /tmp/requirements-py3.txt (line 3)) (1.16.4)\n",
            "Requirement already satisfied: pandas==0.24.2 in /usr/local/lib/python3.6/dist-packages (from -r /tmp/requirements-py3.txt (line 4)) (0.24.2)\n",
            "Collecting scipy==1.3.0 (from -r /tmp/requirements-py3.txt (line 5))\n",
            "  Using cached https://files.pythonhosted.org/packages/72/4c/5f81e7264b0a7a8bd570810f48cd346ba36faedbd2ba255c873ad556de76/scipy-1.3.0-cp36-cp36m-manylinux1_x86_64.whl\n",
            "Requirement already satisfied: seaborn==0.9.0 in /usr/local/lib/python3.6/dist-packages (from -r /tmp/requirements-py3.txt (line 6)) (0.9.0)\n",
            "Requirement already satisfied: keras==2.2.4 in /usr/local/lib/python3.6/dist-packages (from -r /tmp/requirements-py3.txt (line 7)) (2.2.4)\n",
            "Requirement already satisfied: tensorflow==1.13.1 in /usr/local/lib/python3.6/dist-packages (from -r /tmp/requirements-py3.txt (line 8)) (1.13.1)\n",
            "Requirement already satisfied: jsonschema==2.6.0 in /usr/local/lib/python3.6/dist-packages (from -r /tmp/requirements-py3.txt (line 9)) (2.6.0)\n",
            "Requirement already satisfied: tqdm==4.28.1 in /usr/local/lib/python3.6/dist-packages (from -r /tmp/requirements-py3.txt (line 10)) (4.28.1)\n",
            "Requirement already satisfied: texttable==1.5.0 in /usr/local/lib/python3.6/dist-packages (from -r /tmp/requirements-py3.txt (line 11)) (1.5.0)\n",
            "Requirement already satisfied: gensim==3.6.0 in /usr/local/lib/python3.6/dist-packages (from -r /tmp/requirements-py3.txt (line 12)) (3.6.0)\n",
            "Requirement already satisfied: networkx==1.11 in /usr/local/lib/python3.6/dist-packages (from -r /tmp/requirements-py3.txt (line 13)) (1.11)\n",
            "Requirement already satisfied: joblib==0.13.0 in /usr/local/lib/python3.6/dist-packages (from -r /tmp/requirements-py3.txt (line 14)) (0.13.0)\n",
            "Requirement already satisfied: swifter==0.289 in /usr/local/lib/python3.6/dist-packages (from -r /tmp/requirements-py3.txt (line 15)) (0.289)\n",
            "Requirement already satisfied: nbconvert in /usr/local/lib/python3.6/dist-packages (from jupyter==1.0.0->-r /tmp/requirements-py3.txt (line 1)) (5.5.0)\n",
            "Requirement already satisfied: ipywidgets in /usr/local/lib/python3.6/dist-packages (from jupyter==1.0.0->-r /tmp/requirements-py3.txt (line 1)) (7.4.2)\n",
            "Requirement already satisfied: notebook in /usr/local/lib/python3.6/dist-packages (from jupyter==1.0.0->-r /tmp/requirements-py3.txt (line 1)) (5.2.2)\n",
            "Requirement already satisfied: ipykernel in /usr/local/lib/python3.6/dist-packages (from jupyter==1.0.0->-r /tmp/requirements-py3.txt (line 1)) (4.6.1)\n",
            "Requirement already satisfied: qtconsole in /usr/local/lib/python3.6/dist-packages (from jupyter==1.0.0->-r /tmp/requirements-py3.txt (line 1)) (4.5.1)\n",
            "Requirement already satisfied: jupyter-console in /usr/local/lib/python3.6/dist-packages (from jupyter==1.0.0->-r /tmp/requirements-py3.txt (line 1)) (6.0.0)\n",
            "Requirement already satisfied: pyparsing!=2.0.4,!=2.1.2,!=2.1.6,>=2.0.1 in /usr/local/lib/python3.6/dist-packages (from matplotlib==3.1.0->-r /tmp/requirements-py3.txt (line 2)) (2.4.0)\n",
            "Requirement already satisfied: kiwisolver>=1.0.1 in /usr/local/lib/python3.6/dist-packages (from matplotlib==3.1.0->-r /tmp/requirements-py3.txt (line 2)) (1.1.0)\n",
            "Requirement already satisfied: cycler>=0.10 in /usr/local/lib/python3.6/dist-packages (from matplotlib==3.1.0->-r /tmp/requirements-py3.txt (line 2)) (0.10.0)\n",
            "Requirement already satisfied: python-dateutil>=2.1 in /usr/local/lib/python3.6/dist-packages (from matplotlib==3.1.0->-r /tmp/requirements-py3.txt (line 2)) (2.5.3)\n",
            "Requirement already satisfied: pytz>=2011k in /usr/local/lib/python3.6/dist-packages (from pandas==0.24.2->-r /tmp/requirements-py3.txt (line 4)) (2018.9)\n",
            "Requirement already satisfied: six>=1.9.0 in /usr/local/lib/python3.6/dist-packages (from keras==2.2.4->-r /tmp/requirements-py3.txt (line 7)) (1.12.0)\n",
            "Requirement already satisfied: pyyaml in /usr/local/lib/python3.6/dist-packages (from keras==2.2.4->-r /tmp/requirements-py3.txt (line 7)) (3.13)\n",
            "Requirement already satisfied: keras-preprocessing>=1.0.5 in /usr/local/lib/python3.6/dist-packages (from keras==2.2.4->-r /tmp/requirements-py3.txt (line 7)) (1.1.0)\n",
            "Requirement already satisfied: keras-applications>=1.0.6 in /usr/local/lib/python3.6/dist-packages (from keras==2.2.4->-r /tmp/requirements-py3.txt (line 7)) (1.0.8)\n",
            "Requirement already satisfied: h5py in /usr/local/lib/python3.6/dist-packages (from keras==2.2.4->-r /tmp/requirements-py3.txt (line 7)) (2.8.0)\n",
            "Requirement already satisfied: grpcio>=1.8.6 in /usr/local/lib/python3.6/dist-packages (from tensorflow==1.13.1->-r /tmp/requirements-py3.txt (line 8)) (1.15.0)\n",
            "Requirement already satisfied: wheel>=0.26 in /usr/local/lib/python3.6/dist-packages (from tensorflow==1.13.1->-r /tmp/requirements-py3.txt (line 8)) (0.33.4)\n",
            "Requirement already satisfied: absl-py>=0.1.6 in /usr/local/lib/python3.6/dist-packages (from tensorflow==1.13.1->-r /tmp/requirements-py3.txt (line 8)) (0.7.1)\n",
            "Requirement already satisfied: gast>=0.2.0 in /usr/local/lib/python3.6/dist-packages (from tensorflow==1.13.1->-r /tmp/requirements-py3.txt (line 8)) (0.2.2)\n",
            "Requirement already satisfied: termcolor>=1.1.0 in /usr/local/lib/python3.6/dist-packages (from tensorflow==1.13.1->-r /tmp/requirements-py3.txt (line 8)) (1.1.0)\n",
            "Requirement already satisfied: tensorflow-estimator<1.14.0rc0,>=1.13.0 in /usr/local/lib/python3.6/dist-packages (from tensorflow==1.13.1->-r /tmp/requirements-py3.txt (line 8)) (1.13.0)\n",
            "Requirement already satisfied: protobuf>=3.6.1 in /usr/local/lib/python3.6/dist-packages (from tensorflow==1.13.1->-r /tmp/requirements-py3.txt (line 8)) (3.7.1)\n",
            "Requirement already satisfied: tensorboard<1.14.0,>=1.13.0 in /usr/local/lib/python3.6/dist-packages (from tensorflow==1.13.1->-r /tmp/requirements-py3.txt (line 8)) (1.13.1)\n",
            "Requirement already satisfied: astor>=0.6.0 in /usr/local/lib/python3.6/dist-packages (from tensorflow==1.13.1->-r /tmp/requirements-py3.txt (line 8)) (0.8.0)\n",
            "Requirement already satisfied: smart-open>=1.2.1 in /usr/local/lib/python3.6/dist-packages (from gensim==3.6.0->-r /tmp/requirements-py3.txt (line 12)) (1.8.4)\n",
            "Requirement already satisfied: decorator>=3.4.0 in /usr/local/lib/python3.6/dist-packages (from networkx==1.11->-r /tmp/requirements-py3.txt (line 13)) (4.4.0)\n",
            "Requirement already satisfied: numba in /usr/local/lib/python3.6/dist-packages (from swifter==0.289->-r /tmp/requirements-py3.txt (line 15)) (0.40.1)\n",
            "Requirement already satisfied: psutil in /usr/local/lib/python3.6/dist-packages (from swifter==0.289->-r /tmp/requirements-py3.txt (line 15)) (5.4.8)\n",
            "Requirement already satisfied: dask[complete]>=0.19.0 in /usr/local/lib/python3.6/dist-packages (from swifter==0.289->-r /tmp/requirements-py3.txt (line 15)) (1.1.5)\n",
            "Requirement already satisfied: mistune>=0.8.1 in /usr/local/lib/python3.6/dist-packages (from nbconvert->jupyter==1.0.0->-r /tmp/requirements-py3.txt (line 1)) (0.8.4)\n",
            "Requirement already satisfied: nbformat>=4.4 in /usr/local/lib/python3.6/dist-packages (from nbconvert->jupyter==1.0.0->-r /tmp/requirements-py3.txt (line 1)) (4.4.0)\n",
            "Requirement already satisfied: testpath in /usr/local/lib/python3.6/dist-packages (from nbconvert->jupyter==1.0.0->-r /tmp/requirements-py3.txt (line 1)) (0.4.2)\n",
            "Requirement already satisfied: traitlets>=4.2 in /usr/local/lib/python3.6/dist-packages (from nbconvert->jupyter==1.0.0->-r /tmp/requirements-py3.txt (line 1)) (4.3.2)\n",
            "Requirement already satisfied: entrypoints>=0.2.2 in /usr/local/lib/python3.6/dist-packages (from nbconvert->jupyter==1.0.0->-r /tmp/requirements-py3.txt (line 1)) (0.3)\n",
            "Requirement already satisfied: defusedxml in /usr/local/lib/python3.6/dist-packages (from nbconvert->jupyter==1.0.0->-r /tmp/requirements-py3.txt (line 1)) (0.6.0)\n",
            "Requirement already satisfied: pandocfilters>=1.4.1 in /usr/local/lib/python3.6/dist-packages (from nbconvert->jupyter==1.0.0->-r /tmp/requirements-py3.txt (line 1)) (1.4.2)\n",
            "Requirement already satisfied: jinja2>=2.4 in /usr/local/lib/python3.6/dist-packages (from nbconvert->jupyter==1.0.0->-r /tmp/requirements-py3.txt (line 1)) (2.10.1)\n",
            "Requirement already satisfied: pygments in /usr/local/lib/python3.6/dist-packages (from nbconvert->jupyter==1.0.0->-r /tmp/requirements-py3.txt (line 1)) (2.1.3)\n",
            "Requirement already satisfied: bleach in /usr/local/lib/python3.6/dist-packages (from nbconvert->jupyter==1.0.0->-r /tmp/requirements-py3.txt (line 1)) (3.1.0)\n",
            "Requirement already satisfied: jupyter-core in /usr/local/lib/python3.6/dist-packages (from nbconvert->jupyter==1.0.0->-r /tmp/requirements-py3.txt (line 1)) (4.4.0)\n",
            "Requirement already satisfied: ipython>=4.0.0; python_version >= \"3.3\" in /usr/local/lib/python3.6/dist-packages (from ipywidgets->jupyter==1.0.0->-r /tmp/requirements-py3.txt (line 1)) (5.5.0)\n",
            "Requirement already satisfied: widgetsnbextension~=3.4.0 in /usr/local/lib/python3.6/dist-packages (from ipywidgets->jupyter==1.0.0->-r /tmp/requirements-py3.txt (line 1)) (3.4.2)\n",
            "Requirement already satisfied: ipython-genutils in /usr/local/lib/python3.6/dist-packages (from notebook->jupyter==1.0.0->-r /tmp/requirements-py3.txt (line 1)) (0.2.0)\n",
            "Requirement already satisfied: tornado>=4 in /usr/local/lib/python3.6/dist-packages (from notebook->jupyter==1.0.0->-r /tmp/requirements-py3.txt (line 1)) (4.5.3)\n",
            "Requirement already satisfied: terminado>=0.3.3; sys_platform != \"win32\" in /usr/local/lib/python3.6/dist-packages (from notebook->jupyter==1.0.0->-r /tmp/requirements-py3.txt (line 1)) (0.8.2)\n",
            "Requirement already satisfied: jupyter-client in /usr/local/lib/python3.6/dist-packages (from notebook->jupyter==1.0.0->-r /tmp/requirements-py3.txt (line 1)) (5.2.4)\n",
            "Collecting prompt-toolkit<2.1.0,>=2.0.0 (from jupyter-console->jupyter==1.0.0->-r /tmp/requirements-py3.txt (line 1))\n",
            "  Using cached https://files.pythonhosted.org/packages/f7/a7/9b1dd14ef45345f186ef69d175bdd2491c40ab1dfa4b2b3e4352df719ed7/prompt_toolkit-2.0.9-py3-none-any.whl\n",
            "Requirement already satisfied: setuptools in /usr/local/lib/python3.6/dist-packages (from kiwisolver>=1.0.1->matplotlib==3.1.0->-r /tmp/requirements-py3.txt (line 2)) (41.0.1)\n",
            "Requirement already satisfied: mock>=2.0.0 in /usr/local/lib/python3.6/dist-packages (from tensorflow-estimator<1.14.0rc0,>=1.13.0->tensorflow==1.13.1->-r /tmp/requirements-py3.txt (line 8)) (3.0.5)\n",
            "Requirement already satisfied: markdown>=2.6.8 in /usr/local/lib/python3.6/dist-packages (from tensorboard<1.14.0,>=1.13.0->tensorflow==1.13.1->-r /tmp/requirements-py3.txt (line 8)) (3.1.1)\n",
            "Requirement already satisfied: werkzeug>=0.11.15 in /usr/local/lib/python3.6/dist-packages (from tensorboard<1.14.0,>=1.13.0->tensorflow==1.13.1->-r /tmp/requirements-py3.txt (line 8)) (0.15.4)\n",
            "Requirement already satisfied: boto3 in /usr/local/lib/python3.6/dist-packages (from smart-open>=1.2.1->gensim==3.6.0->-r /tmp/requirements-py3.txt (line 12)) (1.9.167)\n",
            "Requirement already satisfied: boto>=2.32 in /usr/local/lib/python3.6/dist-packages (from smart-open>=1.2.1->gensim==3.6.0->-r /tmp/requirements-py3.txt (line 12)) (2.49.0)\n",
            "Requirement already satisfied: requests in /usr/local/lib/python3.6/dist-packages (from smart-open>=1.2.1->gensim==3.6.0->-r /tmp/requirements-py3.txt (line 12)) (2.21.0)\n",
            "Requirement already satisfied: llvmlite>=0.25.0dev0 in /usr/local/lib/python3.6/dist-packages (from numba->swifter==0.289->-r /tmp/requirements-py3.txt (line 15)) (0.29.0)\n",
            "Requirement already satisfied: distributed>=1.22; extra == \"complete\" in /usr/local/lib/python3.6/dist-packages (from dask[complete]>=0.19.0->swifter==0.289->-r /tmp/requirements-py3.txt (line 15)) (1.25.3)\n",
            "Requirement already satisfied: toolz>=0.7.3; extra == \"complete\" in /usr/local/lib/python3.6/dist-packages (from dask[complete]>=0.19.0->swifter==0.289->-r /tmp/requirements-py3.txt (line 15)) (0.9.0)\n",
            "Requirement already satisfied: cloudpickle>=0.2.1; extra == \"complete\" in /usr/local/lib/python3.6/dist-packages (from dask[complete]>=0.19.0->swifter==0.289->-r /tmp/requirements-py3.txt (line 15)) (0.6.1)\n",
            "Requirement already satisfied: partd>=0.3.8; extra == \"complete\" in /usr/local/lib/python3.6/dist-packages (from dask[complete]>=0.19.0->swifter==0.289->-r /tmp/requirements-py3.txt (line 15)) (0.3.10)\n",
            "Requirement already satisfied: MarkupSafe>=0.23 in /usr/local/lib/python3.6/dist-packages (from jinja2>=2.4->nbconvert->jupyter==1.0.0->-r /tmp/requirements-py3.txt (line 1)) (1.1.1)\n",
            "Requirement already satisfied: webencodings in /usr/local/lib/python3.6/dist-packages (from bleach->nbconvert->jupyter==1.0.0->-r /tmp/requirements-py3.txt (line 1)) (0.5.1)\n",
            "Requirement already satisfied: pickleshare in /usr/local/lib/python3.6/dist-packages (from ipython>=4.0.0; python_version >= \"3.3\"->ipywidgets->jupyter==1.0.0->-r /tmp/requirements-py3.txt (line 1)) (0.7.5)\n",
            "Requirement already satisfied: simplegeneric>0.8 in /usr/local/lib/python3.6/dist-packages (from ipython>=4.0.0; python_version >= \"3.3\"->ipywidgets->jupyter==1.0.0->-r /tmp/requirements-py3.txt (line 1)) (0.8.1)\n",
            "Requirement already satisfied: pexpect; sys_platform != \"win32\" in /usr/local/lib/python3.6/dist-packages (from ipython>=4.0.0; python_version >= \"3.3\"->ipywidgets->jupyter==1.0.0->-r /tmp/requirements-py3.txt (line 1)) (4.7.0)\n",
            "Requirement already satisfied: ptyprocess; os_name != \"nt\" in /usr/local/lib/python3.6/dist-packages (from terminado>=0.3.3; sys_platform != \"win32\"->notebook->jupyter==1.0.0->-r /tmp/requirements-py3.txt (line 1)) (0.6.0)\n",
            "Requirement already satisfied: pyzmq>=13 in /usr/local/lib/python3.6/dist-packages (from jupyter-client->notebook->jupyter==1.0.0->-r /tmp/requirements-py3.txt (line 1)) (17.0.0)\n",
            "Requirement already satisfied: wcwidth in /usr/local/lib/python3.6/dist-packages (from prompt-toolkit<2.1.0,>=2.0.0->jupyter-console->jupyter==1.0.0->-r /tmp/requirements-py3.txt (line 1)) (0.1.7)\n",
            "Requirement already satisfied: jmespath<1.0.0,>=0.7.1 in /usr/local/lib/python3.6/dist-packages (from boto3->smart-open>=1.2.1->gensim==3.6.0->-r /tmp/requirements-py3.txt (line 12)) (0.9.4)\n",
            "Requirement already satisfied: s3transfer<0.3.0,>=0.2.0 in /usr/local/lib/python3.6/dist-packages (from boto3->smart-open>=1.2.1->gensim==3.6.0->-r /tmp/requirements-py3.txt (line 12)) (0.2.1)\n",
            "Requirement already satisfied: botocore<1.13.0,>=1.12.167 in /usr/local/lib/python3.6/dist-packages (from boto3->smart-open>=1.2.1->gensim==3.6.0->-r /tmp/requirements-py3.txt (line 12)) (1.12.167)\n",
            "Requirement already satisfied: certifi>=2017.4.17 in /usr/local/lib/python3.6/dist-packages (from requests->smart-open>=1.2.1->gensim==3.6.0->-r /tmp/requirements-py3.txt (line 12)) (2019.3.9)\n",
            "Requirement already satisfied: chardet<3.1.0,>=3.0.2 in /usr/local/lib/python3.6/dist-packages (from requests->smart-open>=1.2.1->gensim==3.6.0->-r /tmp/requirements-py3.txt (line 12)) (3.0.4)\n",
            "Requirement already satisfied: idna<2.9,>=2.5 in /usr/local/lib/python3.6/dist-packages (from requests->smart-open>=1.2.1->gensim==3.6.0->-r /tmp/requirements-py3.txt (line 12)) (2.8)\n",
            "Requirement already satisfied: urllib3<1.25,>=1.21.1 in /usr/local/lib/python3.6/dist-packages (from requests->smart-open>=1.2.1->gensim==3.6.0->-r /tmp/requirements-py3.txt (line 12)) (1.24.3)\n",
            "Requirement already satisfied: click>=6.6 in /usr/local/lib/python3.6/dist-packages (from distributed>=1.22; extra == \"complete\"->dask[complete]>=0.19.0->swifter==0.289->-r /tmp/requirements-py3.txt (line 15)) (7.0)\n",
            "Requirement already satisfied: tblib in /usr/local/lib/python3.6/dist-packages (from distributed>=1.22; extra == \"complete\"->dask[complete]>=0.19.0->swifter==0.289->-r /tmp/requirements-py3.txt (line 15)) (1.4.0)\n",
            "Requirement already satisfied: zict>=0.1.3 in /usr/local/lib/python3.6/dist-packages (from distributed>=1.22; extra == \"complete\"->dask[complete]>=0.19.0->swifter==0.289->-r /tmp/requirements-py3.txt (line 15)) (0.1.4)\n",
            "Requirement already satisfied: sortedcontainers!=2.0.0,!=2.0.1 in /usr/local/lib/python3.6/dist-packages (from distributed>=1.22; extra == \"complete\"->dask[complete]>=0.19.0->swifter==0.289->-r /tmp/requirements-py3.txt (line 15)) (2.1.0)\n",
            "Requirement already satisfied: msgpack in /usr/local/lib/python3.6/dist-packages (from distributed>=1.22; extra == \"complete\"->dask[complete]>=0.19.0->swifter==0.289->-r /tmp/requirements-py3.txt (line 15)) (0.5.6)\n",
            "Requirement already satisfied: locket in /usr/local/lib/python3.6/dist-packages (from partd>=0.3.8; extra == \"complete\"->dask[complete]>=0.19.0->swifter==0.289->-r /tmp/requirements-py3.txt (line 15)) (0.2.0)\n",
            "Requirement already satisfied: docutils>=0.10 in /usr/local/lib/python3.6/dist-packages (from botocore<1.13.0,>=1.12.167->boto3->smart-open>=1.2.1->gensim==3.6.0->-r /tmp/requirements-py3.txt (line 12)) (0.14)\n",
            "Requirement already satisfied: heapdict in /usr/local/lib/python3.6/dist-packages (from zict>=0.1.3->distributed>=1.22; extra == \"complete\"->dask[complete]>=0.19.0->swifter==0.289->-r /tmp/requirements-py3.txt (line 15)) (1.0.0)\n",
            "\u001b[31mERROR: scikit-image 0.15.0 has requirement networkx>=2.0, but you'll have networkx 1.11 which is incompatible.\u001b[0m\n",
            "\u001b[31mERROR: ipython 5.5.0 has requirement prompt-toolkit<2.0.0,>=1.0.4, but you'll have prompt-toolkit 2.0.9 which is incompatible.\u001b[0m\n",
            "\u001b[31mERROR: albumentations 0.1.12 has requirement imgaug<0.2.7,>=0.2.5, but you'll have imgaug 0.2.9 which is incompatible.\u001b[0m\n",
            "Installing collected packages: matplotlib, scipy, prompt-toolkit\n",
            "  Found existing installation: matplotlib 2.2.4\n",
            "    Uninstalling matplotlib-2.2.4:\n",
            "      Successfully uninstalled matplotlib-2.2.4\n",
            "  Found existing installation: scipy 1.2.2\n",
            "    Uninstalling scipy-1.2.2:\n",
            "      Successfully uninstalled scipy-1.2.2\n",
            "  Found existing installation: prompt-toolkit 1.0.16\n",
            "    Uninstalling prompt-toolkit-1.0.16:\n",
            "      Successfully uninstalled prompt-toolkit-1.0.16\n",
            "Successfully installed matplotlib-3.1.0 prompt-toolkit-2.0.9 scipy-1.3.0\n",
            "Add python 2 as a kernel for jupyter\n",
            "Requirement already satisfied: ipykernel in /usr/local/lib/python3.6/dist-packages (4.6.1)\n",
            "Requirement already satisfied: tornado>=4.0 in /usr/local/lib/python3.6/dist-packages (from ipykernel) (4.5.3)\n",
            "Requirement already satisfied: ipython>=4.0.0 in /usr/local/lib/python3.6/dist-packages (from ipykernel) (5.5.0)\n",
            "Requirement already satisfied: jupyter-client in /usr/local/lib/python3.6/dist-packages (from ipykernel) (5.2.4)\n",
            "Requirement already satisfied: traitlets>=4.1.0 in /usr/local/lib/python3.6/dist-packages (from ipykernel) (4.3.2)\n",
            "Collecting prompt-toolkit<2.0.0,>=1.0.4 (from ipython>=4.0.0->ipykernel)\n",
            "  Using cached https://files.pythonhosted.org/packages/57/a8/a151b6c61718eabe6b4672b6aa760b734989316d62ec1ba4996765e602d4/prompt_toolkit-1.0.16-py3-none-any.whl\n",
            "Requirement already satisfied: pexpect; sys_platform != \"win32\" in /usr/local/lib/python3.6/dist-packages (from ipython>=4.0.0->ipykernel) (4.7.0)\n",
            "Requirement already satisfied: setuptools>=18.5 in /usr/local/lib/python3.6/dist-packages (from ipython>=4.0.0->ipykernel) (41.0.1)\n",
            "Requirement already satisfied: simplegeneric>0.8 in /usr/local/lib/python3.6/dist-packages (from ipython>=4.0.0->ipykernel) (0.8.1)\n",
            "Requirement already satisfied: pygments in /usr/local/lib/python3.6/dist-packages (from ipython>=4.0.0->ipykernel) (2.1.3)\n",
            "Requirement already satisfied: pickleshare in /usr/local/lib/python3.6/dist-packages (from ipython>=4.0.0->ipykernel) (0.7.5)\n",
            "Requirement already satisfied: decorator in /usr/local/lib/python3.6/dist-packages (from ipython>=4.0.0->ipykernel) (4.4.0)\n",
            "Requirement already satisfied: pyzmq>=13 in /usr/local/lib/python3.6/dist-packages (from jupyter-client->ipykernel) (17.0.0)\n",
            "Requirement already satisfied: python-dateutil>=2.1 in /usr/local/lib/python3.6/dist-packages (from jupyter-client->ipykernel) (2.5.3)\n",
            "Requirement already satisfied: jupyter-core in /usr/local/lib/python3.6/dist-packages (from jupyter-client->ipykernel) (4.4.0)\n",
            "Requirement already satisfied: six in /usr/local/lib/python3.6/dist-packages (from traitlets>=4.1.0->ipykernel) (1.12.0)\n",
            "Requirement already satisfied: ipython-genutils in /usr/local/lib/python3.6/dist-packages (from traitlets>=4.1.0->ipykernel) (0.2.0)\n",
            "Requirement already satisfied: wcwidth in /usr/local/lib/python3.6/dist-packages (from prompt-toolkit<2.0.0,>=1.0.4->ipython>=4.0.0->ipykernel) (0.1.7)\n",
            "Requirement already satisfied: ptyprocess>=0.5 in /usr/local/lib/python3.6/dist-packages (from pexpect; sys_platform != \"win32\"->ipython>=4.0.0->ipykernel) (0.6.0)\n",
            "\u001b[31mERROR: jupyter-console 6.0.0 has requirement prompt-toolkit<2.1.0,>=2.0.0, but you'll have prompt-toolkit 1.0.16 which is incompatible.\u001b[0m\n",
            "Installing collected packages: prompt-toolkit\n",
            "  Found existing installation: prompt-toolkit 2.0.9\n",
            "    Uninstalling prompt-toolkit-2.0.9:\n",
            "      Successfully uninstalled prompt-toolkit-2.0.9\n",
            "Successfully installed prompt-toolkit-1.0.16\n",
            "Installed kernelspec python3 in /usr/local/share/jupyter/kernels/python3\n"
          ],
          "name": "stdout"
        }
      ]
    },
    {
      "cell_type": "code",
      "metadata": {
        "id": "4X3qVBUOtY53",
        "colab_type": "code",
        "outputId": "7dc99fd6-a915-421c-d600-a431f57d5e66",
        "colab": {
          "base_uri": "https://localhost:8080/",
          "height": 34
        }
      },
      "source": [
        "%cd /project"
      ],
      "execution_count": 0,
      "outputs": [
        {
          "output_type": "stream",
          "text": [
            "/project\n"
          ],
          "name": "stdout"
        }
      ]
    },
    {
      "cell_type": "code",
      "metadata": {
        "id": "l4FFk5VNJV5t",
        "colab_type": "code",
        "colab": {}
      },
      "source": [
        "import sys\n",
        "sys.path.append(\"/clang-source/bindings/python\")"
      ],
      "execution_count": 0,
      "outputs": []
    },
    {
      "cell_type": "code",
      "metadata": {
        "id": "v2a_Fe0pKOV1",
        "colab_type": "code",
        "outputId": "23462134-d648-4a80-ab55-81bd4270675e",
        "colab": {
          "base_uri": "https://localhost:8080/",
          "height": 34
        }
      },
      "source": [
        "!echo \"$PYTHONPATH\""
      ],
      "execution_count": 0,
      "outputs": [
        {
          "output_type": "stream",
          "text": [
            "/env/python\n"
          ],
          "name": "stdout"
        }
      ]
    },
    {
      "cell_type": "markdown",
      "metadata": {
        "id": "48o5osdnIxcf",
        "colab_type": "text"
      },
      "source": [
        "## Input\n",
        "\n",
        "TODO: Describe what files this job takes as an input, and if the user needs to upload any to the colab runtime.  E.g.\n",
        "\n",
        "> \"This notebook requires the file `../data/graphs.csv` to be present. It will generate the graph2vec embeddings of the graphs it contains. The csv should be in the format `<graph_id>, <graph2vec_input>.`\""
      ]
    },
    {
      "cell_type": "markdown",
      "metadata": {
        "id": "afqoZwQBHskh",
        "colab_type": "text"
      },
      "source": [
        "## Task"
      ]
    },
    {
      "cell_type": "code",
      "metadata": {
        "id": "wu2QChG4HuH_",
        "colab_type": "code",
        "colab": {}
      },
      "source": [
        "# TODO: Put the code that executes the task in this section."
      ],
      "execution_count": 0,
      "outputs": []
    },
    {
      "cell_type": "markdown",
      "metadata": {
        "id": "kBmzywBEH4mK",
        "colab_type": "text"
      },
      "source": [
        "## Results\n",
        "\n",
        "TODO: Describe where the output of this job is, and what to do with it. E.g. \n",
        "\n",
        "> \"\"The results of this notebook are in `./data/graph_embeddings.csv` which contains the graph2vec embeddings of the input file `../data/graphs.csv.`. Download this file and commit it to our Git repo.\"\n",
        "\n",
        "\n",
        "\n"
      ]
    },
    {
      "cell_type": "code",
      "metadata": {
        "id": "iK1S88qAH6s1",
        "colab_type": "code",
        "colab": {}
      },
      "source": [
        ""
      ],
      "execution_count": 0,
      "outputs": []
    }
  ]
}